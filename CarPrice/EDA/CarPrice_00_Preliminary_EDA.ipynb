{
  "nbformat": 4,
  "nbformat_minor": 0,
  "metadata": {
    "colab": {
      "name": "CarPrice_00_Preliminary_EDA.ipynb",
      "provenance": [],
      "collapsed_sections": [],
      "authorship_tag": "ABX9TyPYZWH3MPBtivW/wnm/3Ovu",
      "include_colab_link": true
    },
    "kernelspec": {
      "name": "python3",
      "display_name": "Python 3"
    },
    "language_info": {
      "name": "python"
    }
  },
  "cells": [
    {
      "cell_type": "markdown",
      "metadata": {
        "id": "view-in-github",
        "colab_type": "text"
      },
      "source": [
        "<a href=\"https://colab.research.google.com/github/yashveersinghsohi/Competitions/blob/car-price/CarPrice/EDA/CarPrice_00_Preliminary_EDA.ipynb\" target=\"_parent\"><img src=\"https://colab.research.google.com/assets/colab-badge.svg\" alt=\"Open In Colab\"/></a>"
      ]
    },
    {
      "cell_type": "markdown",
      "metadata": {
        "id": "q-hnPo6jWTKL"
      },
      "source": [
        "# Importing Packages"
      ]
    },
    {
      "cell_type": "code",
      "metadata": {
        "id": "0DAJd_WyWU4a"
      },
      "source": [
        "import pandas as pd\n",
        "import numpy as np\n",
        "import matplotlib.pyplot as plt\n",
        "import seaborn as sns\n",
        "from sklearn.model_selection import train_test_split\n",
        "from matplotlib.ticker import PercentFormatter"
      ],
      "execution_count": 1,
      "outputs": []
    },
    {
      "cell_type": "markdown",
      "metadata": {
        "id": "z-TVRpTHWY_4"
      },
      "source": [
        "# Data"
      ]
    },
    {
      "cell_type": "code",
      "metadata": {
        "id": "4plT2pPPZc06"
      },
      "source": [
        "root_dir = \"https://raw.githubusercontent.com/yashveersinghsohi/Competitions/car-price/CarPrice/Data/\"\n",
        "train_path = root_dir + \"train.csv\"\n",
        "test_path = root_dir + \"test.csv\"\n",
        "submission_path = root_dir + \"submission.csv\""
      ],
      "execution_count": 2,
      "outputs": []
    },
    {
      "cell_type": "code",
      "metadata": {
        "id": "AvRxvMaFZ1j2"
      },
      "source": [
        "train_df = pd.read_csv(train_path)\n",
        "test_df = pd.read_csv(test_path)\n",
        "submission_df = pd.read_csv(submission_path)"
      ],
      "execution_count": 3,
      "outputs": []
    },
    {
      "cell_type": "markdown",
      "metadata": {
        "id": "Dv_bYVHnaIe3"
      },
      "source": [
        "# Preliminary EDA"
      ]
    },
    {
      "cell_type": "markdown",
      "metadata": {
        "id": "QUAbVfRuiMYS"
      },
      "source": [
        "## Data dimensions"
      ]
    },
    {
      "cell_type": "markdown",
      "metadata": {
        "id": "SIDwERHpau8_"
      },
      "source": [
        "Shape of dataframes"
      ]
    },
    {
      "cell_type": "code",
      "metadata": {
        "colab": {
          "base_uri": "https://localhost:8080/"
        },
        "id": "dNJicjRlaIOn",
        "outputId": "7260ef49-a2a4-4657-e432-e6460ad191f1"
      },
      "source": [
        "train_df.shape, test_df.shape"
      ],
      "execution_count": 4,
      "outputs": [
        {
          "output_type": "execute_result",
          "data": {
            "text/plain": [
              "((19237, 18), (8245, 18))"
            ]
          },
          "metadata": {
            "tags": []
          },
          "execution_count": 4
        }
      ]
    },
    {
      "cell_type": "markdown",
      "metadata": {
        "id": "GTmD4NIzayHl"
      },
      "source": [
        "Comparing column names"
      ]
    },
    {
      "cell_type": "code",
      "metadata": {
        "colab": {
          "base_uri": "https://localhost:8080/"
        },
        "id": "P-6TjFS9aIJ9",
        "outputId": "1f4fb679-2be4-4d08-d17b-d69bd0917f6d"
      },
      "source": [
        "train_df.columns"
      ],
      "execution_count": 5,
      "outputs": [
        {
          "output_type": "execute_result",
          "data": {
            "text/plain": [
              "Index(['ID', 'Price', 'Levy', 'Manufacturer', 'Model', 'Prod. year',\n",
              "       'Category', 'Leather interior', 'Fuel type', 'Engine volume', 'Mileage',\n",
              "       'Cylinders', 'Gear box type', 'Drive wheels', 'Doors', 'Wheel', 'Color',\n",
              "       'Airbags'],\n",
              "      dtype='object')"
            ]
          },
          "metadata": {
            "tags": []
          },
          "execution_count": 5
        }
      ]
    },
    {
      "cell_type": "code",
      "metadata": {
        "colab": {
          "base_uri": "https://localhost:8080/"
        },
        "id": "hOnMXUBVaIIU",
        "outputId": "9fa80945-327b-44b9-c6ce-5c219db86195"
      },
      "source": [
        "test_df.columns"
      ],
      "execution_count": 6,
      "outputs": [
        {
          "output_type": "execute_result",
          "data": {
            "text/plain": [
              "Index(['ID', 'Levy', 'Manufacturer', 'Model', 'Prod. year', 'Category',\n",
              "       'Leather interior', 'Fuel type', 'Engine volume', 'Mileage',\n",
              "       'Cylinders', 'Gear box type', 'Drive wheels', 'Doors', 'Wheel', 'Color',\n",
              "       'Airbags', 'Price'],\n",
              "      dtype='object')"
            ]
          },
          "metadata": {
            "tags": []
          },
          "execution_count": 6
        }
      ]
    },
    {
      "cell_type": "markdown",
      "metadata": {
        "id": "xyWd5jwsa057"
      },
      "source": [
        "Train and test dataframes have the same columns names. Including Price"
      ]
    },
    {
      "cell_type": "code",
      "metadata": {
        "colab": {
          "base_uri": "https://localhost:8080/"
        },
        "id": "6pKOX6MoWn0P",
        "outputId": "3621a50d-cc36-4d04-a317-dc94761069e7"
      },
      "source": [
        "set(train_df.columns) == set(test_df.columns)"
      ],
      "execution_count": 7,
      "outputs": [
        {
          "output_type": "execute_result",
          "data": {
            "text/plain": [
              "True"
            ]
          },
          "metadata": {
            "tags": []
          },
          "execution_count": 7
        }
      ]
    },
    {
      "cell_type": "markdown",
      "metadata": {
        "id": "sClKE97_a5KU"
      },
      "source": [
        "All the values in Price column are NAN for test dataframe"
      ]
    },
    {
      "cell_type": "code",
      "metadata": {
        "colab": {
          "base_uri": "https://localhost:8080/"
        },
        "id": "YssOxWqja7O_",
        "outputId": "331f4b54-8315-4e48-f3c4-e6f7b3a2f14d"
      },
      "source": [
        "test_df[\"Price\"].isnull().sum()"
      ],
      "execution_count": 8,
      "outputs": [
        {
          "output_type": "execute_result",
          "data": {
            "text/plain": [
              "8245"
            ]
          },
          "metadata": {
            "tags": []
          },
          "execution_count": 8
        }
      ]
    },
    {
      "cell_type": "markdown",
      "metadata": {
        "id": "3CrltZhxiQ2m"
      },
      "source": [
        "## Column Data Types"
      ]
    },
    {
      "cell_type": "markdown",
      "metadata": {
        "id": "kYeIUOuucwKd"
      },
      "source": [
        "Data types of columns"
      ]
    },
    {
      "cell_type": "code",
      "metadata": {
        "colab": {
          "base_uri": "https://localhost:8080/"
        },
        "id": "X30sTOg7cfRV",
        "outputId": "64186d23-edd1-485a-ea0a-d8e28935871c"
      },
      "source": [
        "train_df.info()"
      ],
      "execution_count": 9,
      "outputs": [
        {
          "output_type": "stream",
          "text": [
            "<class 'pandas.core.frame.DataFrame'>\n",
            "RangeIndex: 19237 entries, 0 to 19236\n",
            "Data columns (total 18 columns):\n",
            " #   Column            Non-Null Count  Dtype  \n",
            "---  ------            --------------  -----  \n",
            " 0   ID                19237 non-null  int64  \n",
            " 1   Price             19237 non-null  int64  \n",
            " 2   Levy              19237 non-null  object \n",
            " 3   Manufacturer      19237 non-null  object \n",
            " 4   Model             19237 non-null  object \n",
            " 5   Prod. year        19237 non-null  int64  \n",
            " 6   Category          19237 non-null  object \n",
            " 7   Leather interior  19237 non-null  object \n",
            " 8   Fuel type         19237 non-null  object \n",
            " 9   Engine volume     19237 non-null  object \n",
            " 10  Mileage           19237 non-null  object \n",
            " 11  Cylinders         19237 non-null  float64\n",
            " 12  Gear box type     19237 non-null  object \n",
            " 13  Drive wheels      19237 non-null  object \n",
            " 14  Doors             19237 non-null  object \n",
            " 15  Wheel             19237 non-null  object \n",
            " 16  Color             19237 non-null  object \n",
            " 17  Airbags           19237 non-null  int64  \n",
            "dtypes: float64(1), int64(4), object(13)\n",
            "memory usage: 2.6+ MB\n"
          ],
          "name": "stdout"
        }
      ]
    },
    {
      "cell_type": "code",
      "metadata": {
        "colab": {
          "base_uri": "https://localhost:8080/"
        },
        "id": "vb3WlsO0crkB",
        "outputId": "39c07aab-ad32-4792-d160-0c709b87c28e"
      },
      "source": [
        "test_df.info()"
      ],
      "execution_count": 10,
      "outputs": [
        {
          "output_type": "stream",
          "text": [
            "<class 'pandas.core.frame.DataFrame'>\n",
            "RangeIndex: 8245 entries, 0 to 8244\n",
            "Data columns (total 18 columns):\n",
            " #   Column            Non-Null Count  Dtype  \n",
            "---  ------            --------------  -----  \n",
            " 0   ID                8245 non-null   int64  \n",
            " 1   Levy              8245 non-null   object \n",
            " 2   Manufacturer      8245 non-null   object \n",
            " 3   Model             8245 non-null   object \n",
            " 4   Prod. year        8245 non-null   int64  \n",
            " 5   Category          8245 non-null   object \n",
            " 6   Leather interior  8245 non-null   object \n",
            " 7   Fuel type         8245 non-null   object \n",
            " 8   Engine volume     8245 non-null   object \n",
            " 9   Mileage           8245 non-null   object \n",
            " 10  Cylinders         8245 non-null   int64  \n",
            " 11  Gear box type     8245 non-null   object \n",
            " 12  Drive wheels      8245 non-null   object \n",
            " 13  Doors             8245 non-null   object \n",
            " 14  Wheel             8245 non-null   object \n",
            " 15  Color             8245 non-null   object \n",
            " 16  Airbags           8245 non-null   int64  \n",
            " 17  Price             0 non-null      float64\n",
            "dtypes: float64(1), int64(4), object(13)\n",
            "memory usage: 1.1+ MB\n"
          ],
          "name": "stdout"
        }
      ]
    },
    {
      "cell_type": "markdown",
      "metadata": {
        "id": "yOVYA1sNeCxA"
      },
      "source": [
        "Numerical and Object data type columns."
      ]
    },
    {
      "cell_type": "code",
      "metadata": {
        "id": "_LVrm8EecfNF"
      },
      "source": [
        "num_features = [\"Prod. year\", \"Cylinders\", \"Airbags\"]\n",
        "obj_features = [\"Levy\", \"Manufacturer\", \"Model\", \n",
        "                \"Category\", \"Leather interior\", \n",
        "                \"Fuel type\", \"Engine volume\", \"Mileage\", \n",
        "                \"Gear box type\", \"Drive wheels\", \"Doors\", \n",
        "                \"Wheel\", \"Color\"]\n",
        "target_features = [\"Price\"]"
      ],
      "execution_count": 11,
      "outputs": []
    },
    {
      "cell_type": "code",
      "metadata": {
        "colab": {
          "base_uri": "https://localhost:8080/",
          "height": 297
        },
        "id": "kpCZ42ofcfKy",
        "outputId": "fe1b9f33-c73f-4508-d37a-e592afc88635"
      },
      "source": [
        "train_df[num_features].describe()"
      ],
      "execution_count": 12,
      "outputs": [
        {
          "output_type": "execute_result",
          "data": {
            "text/html": [
              "<div>\n",
              "<style scoped>\n",
              "    .dataframe tbody tr th:only-of-type {\n",
              "        vertical-align: middle;\n",
              "    }\n",
              "\n",
              "    .dataframe tbody tr th {\n",
              "        vertical-align: top;\n",
              "    }\n",
              "\n",
              "    .dataframe thead th {\n",
              "        text-align: right;\n",
              "    }\n",
              "</style>\n",
              "<table border=\"1\" class=\"dataframe\">\n",
              "  <thead>\n",
              "    <tr style=\"text-align: right;\">\n",
              "      <th></th>\n",
              "      <th>Prod. year</th>\n",
              "      <th>Cylinders</th>\n",
              "      <th>Airbags</th>\n",
              "    </tr>\n",
              "  </thead>\n",
              "  <tbody>\n",
              "    <tr>\n",
              "      <th>count</th>\n",
              "      <td>19237.000000</td>\n",
              "      <td>19237.000000</td>\n",
              "      <td>19237.000000</td>\n",
              "    </tr>\n",
              "    <tr>\n",
              "      <th>mean</th>\n",
              "      <td>2010.912824</td>\n",
              "      <td>4.582991</td>\n",
              "      <td>6.582627</td>\n",
              "    </tr>\n",
              "    <tr>\n",
              "      <th>std</th>\n",
              "      <td>5.668673</td>\n",
              "      <td>1.199933</td>\n",
              "      <td>4.320168</td>\n",
              "    </tr>\n",
              "    <tr>\n",
              "      <th>min</th>\n",
              "      <td>1939.000000</td>\n",
              "      <td>1.000000</td>\n",
              "      <td>0.000000</td>\n",
              "    </tr>\n",
              "    <tr>\n",
              "      <th>25%</th>\n",
              "      <td>2009.000000</td>\n",
              "      <td>4.000000</td>\n",
              "      <td>4.000000</td>\n",
              "    </tr>\n",
              "    <tr>\n",
              "      <th>50%</th>\n",
              "      <td>2012.000000</td>\n",
              "      <td>4.000000</td>\n",
              "      <td>6.000000</td>\n",
              "    </tr>\n",
              "    <tr>\n",
              "      <th>75%</th>\n",
              "      <td>2015.000000</td>\n",
              "      <td>4.000000</td>\n",
              "      <td>12.000000</td>\n",
              "    </tr>\n",
              "    <tr>\n",
              "      <th>max</th>\n",
              "      <td>2020.000000</td>\n",
              "      <td>16.000000</td>\n",
              "      <td>16.000000</td>\n",
              "    </tr>\n",
              "  </tbody>\n",
              "</table>\n",
              "</div>"
            ],
            "text/plain": [
              "         Prod. year     Cylinders       Airbags\n",
              "count  19237.000000  19237.000000  19237.000000\n",
              "mean    2010.912824      4.582991      6.582627\n",
              "std        5.668673      1.199933      4.320168\n",
              "min     1939.000000      1.000000      0.000000\n",
              "25%     2009.000000      4.000000      4.000000\n",
              "50%     2012.000000      4.000000      6.000000\n",
              "75%     2015.000000      4.000000     12.000000\n",
              "max     2020.000000     16.000000     16.000000"
            ]
          },
          "metadata": {
            "tags": []
          },
          "execution_count": 12
        }
      ]
    },
    {
      "cell_type": "code",
      "metadata": {
        "colab": {
          "base_uri": "https://localhost:8080/",
          "height": 297
        },
        "id": "9wfZkzofcfJK",
        "outputId": "9feaf9ea-878f-4e2d-b7c5-b5250366adaa"
      },
      "source": [
        "test_df[num_features].describe()"
      ],
      "execution_count": 13,
      "outputs": [
        {
          "output_type": "execute_result",
          "data": {
            "text/html": [
              "<div>\n",
              "<style scoped>\n",
              "    .dataframe tbody tr th:only-of-type {\n",
              "        vertical-align: middle;\n",
              "    }\n",
              "\n",
              "    .dataframe tbody tr th {\n",
              "        vertical-align: top;\n",
              "    }\n",
              "\n",
              "    .dataframe thead th {\n",
              "        text-align: right;\n",
              "    }\n",
              "</style>\n",
              "<table border=\"1\" class=\"dataframe\">\n",
              "  <thead>\n",
              "    <tr style=\"text-align: right;\">\n",
              "      <th></th>\n",
              "      <th>Prod. year</th>\n",
              "      <th>Cylinders</th>\n",
              "      <th>Airbags</th>\n",
              "    </tr>\n",
              "  </thead>\n",
              "  <tbody>\n",
              "    <tr>\n",
              "      <th>count</th>\n",
              "      <td>8245.000000</td>\n",
              "      <td>8245.000000</td>\n",
              "      <td>8245.000000</td>\n",
              "    </tr>\n",
              "    <tr>\n",
              "      <th>mean</th>\n",
              "      <td>2010.911583</td>\n",
              "      <td>4.618799</td>\n",
              "      <td>6.519102</td>\n",
              "    </tr>\n",
              "    <tr>\n",
              "      <th>std</th>\n",
              "      <td>5.548762</td>\n",
              "      <td>1.817581</td>\n",
              "      <td>4.350323</td>\n",
              "    </tr>\n",
              "    <tr>\n",
              "      <th>min</th>\n",
              "      <td>1943.000000</td>\n",
              "      <td>1.000000</td>\n",
              "      <td>0.000000</td>\n",
              "    </tr>\n",
              "    <tr>\n",
              "      <th>25%</th>\n",
              "      <td>2009.000000</td>\n",
              "      <td>4.000000</td>\n",
              "      <td>4.000000</td>\n",
              "    </tr>\n",
              "    <tr>\n",
              "      <th>50%</th>\n",
              "      <td>2012.000000</td>\n",
              "      <td>4.000000</td>\n",
              "      <td>6.000000</td>\n",
              "    </tr>\n",
              "    <tr>\n",
              "      <th>75%</th>\n",
              "      <td>2014.000000</td>\n",
              "      <td>4.000000</td>\n",
              "      <td>12.000000</td>\n",
              "    </tr>\n",
              "    <tr>\n",
              "      <th>max</th>\n",
              "      <td>2020.000000</td>\n",
              "      <td>127.000000</td>\n",
              "      <td>16.000000</td>\n",
              "    </tr>\n",
              "  </tbody>\n",
              "</table>\n",
              "</div>"
            ],
            "text/plain": [
              "        Prod. year    Cylinders      Airbags\n",
              "count  8245.000000  8245.000000  8245.000000\n",
              "mean   2010.911583     4.618799     6.519102\n",
              "std       5.548762     1.817581     4.350323\n",
              "min    1943.000000     1.000000     0.000000\n",
              "25%    2009.000000     4.000000     4.000000\n",
              "50%    2012.000000     4.000000     6.000000\n",
              "75%    2014.000000     4.000000    12.000000\n",
              "max    2020.000000   127.000000    16.000000"
            ]
          },
          "metadata": {
            "tags": []
          },
          "execution_count": 13
        }
      ]
    },
    {
      "cell_type": "markdown",
      "metadata": {
        "id": "5StNLpvWj1po"
      },
      "source": [
        "# Splitting data"
      ]
    },
    {
      "cell_type": "code",
      "metadata": {
        "id": "-ct9sV54krTa"
      },
      "source": [
        "train_og = train_df.copy()\n",
        "features = train_df[num_features+obj_features]\n",
        "targets = train_df[target_features]"
      ],
      "execution_count": 14,
      "outputs": []
    },
    {
      "cell_type": "code",
      "metadata": {
        "colab": {
          "base_uri": "https://localhost:8080/"
        },
        "id": "NTUDw3NqlovL",
        "outputId": "1d96170b-91ce-4138-9fcd-cf8849913144"
      },
      "source": [
        "features.shape, targets.shape"
      ],
      "execution_count": 15,
      "outputs": [
        {
          "output_type": "execute_result",
          "data": {
            "text/plain": [
              "((19237, 16), (19237, 1))"
            ]
          },
          "metadata": {
            "tags": []
          },
          "execution_count": 15
        }
      ]
    },
    {
      "cell_type": "code",
      "metadata": {
        "colab": {
          "base_uri": "https://localhost:8080/"
        },
        "id": "dvXdLzGdj3yr",
        "outputId": "ec9c65c9-0324-4871-811d-d7d8259dbc41"
      },
      "source": [
        "train_features, val_features, train_targets, val_targets = train_test_split(\n",
        "                                                              features, targets, \n",
        "                                                              random_state=42, \n",
        "                                                              test_size=0.2\n",
        "                                                            )\n",
        "train_features.shape, val_features.shape, train_targets.shape, val_targets.shape"
      ],
      "execution_count": 16,
      "outputs": [
        {
          "output_type": "execute_result",
          "data": {
            "text/plain": [
              "((15389, 16), (3848, 16), (15389, 1), (3848, 1))"
            ]
          },
          "metadata": {
            "tags": []
          },
          "execution_count": 16
        }
      ]
    },
    {
      "cell_type": "markdown",
      "metadata": {
        "id": "0-QCGASkjejC"
      },
      "source": [
        "# EDA"
      ]
    },
    {
      "cell_type": "markdown",
      "metadata": {
        "id": "XVZkBLIcneGq"
      },
      "source": [
        "## Univariate EDA"
      ]
    },
    {
      "cell_type": "markdown",
      "metadata": {
        "id": "qALfAMzunamm"
      },
      "source": [
        "### Numerical data types"
      ]
    },
    {
      "cell_type": "code",
      "metadata": {
        "colab": {
          "base_uri": "https://localhost:8080/"
        },
        "id": "sMmNbQX8cfHi",
        "outputId": "334d5a7c-0e2b-4c72-ac64-4b2e5953bc5d"
      },
      "source": [
        "num_features"
      ],
      "execution_count": 17,
      "outputs": [
        {
          "output_type": "execute_result",
          "data": {
            "text/plain": [
              "['Prod. year', 'Cylinders', 'Airbags']"
            ]
          },
          "metadata": {
            "tags": []
          },
          "execution_count": 17
        }
      ]
    },
    {
      "cell_type": "markdown",
      "metadata": {
        "id": "wG8xOidQoWIx"
      },
      "source": [
        "#### Prod. year"
      ]
    },
    {
      "cell_type": "markdown",
      "metadata": {
        "id": "0UwNPMyWo45v"
      },
      "source": [
        "Number of records for each year"
      ]
    },
    {
      "cell_type": "code",
      "metadata": {
        "colab": {
          "base_uri": "https://localhost:8080/"
        },
        "id": "yMI0Bke-oamX",
        "outputId": "1e926c27-7880-4ef3-a6f7-97c945681f52"
      },
      "source": [
        "(train_features[\"Prod. year\"].value_counts().sort_index()/train_features[\"Prod. year\"].shape[0]) * 100"
      ],
      "execution_count": 18,
      "outputs": [
        {
          "output_type": "execute_result",
          "data": {
            "text/plain": [
              "1939     0.019494\n",
              "1953     0.019494\n",
              "1957     0.006498\n",
              "1964     0.012996\n",
              "1965     0.006498\n",
              "1968     0.006498\n",
              "1973     0.006498\n",
              "1974     0.012996\n",
              "1976     0.006498\n",
              "1977     0.006498\n",
              "1978     0.006498\n",
              "1980     0.012996\n",
              "1981     0.006498\n",
              "1982     0.006498\n",
              "1983     0.019494\n",
              "1984     0.025993\n",
              "1985     0.025993\n",
              "1986     0.038989\n",
              "1987     0.019494\n",
              "1988     0.051985\n",
              "1989     0.032491\n",
              "1990     0.090974\n",
              "1991     0.064981\n",
              "1992     0.149457\n",
              "1993     0.103970\n",
              "1994     0.188446\n",
              "1995     0.571837\n",
              "1996     0.591331\n",
              "1997     0.734291\n",
              "1998     1.137176\n",
              "1999     1.000715\n",
              "2000     1.488076\n",
              "2001     1.306128\n",
              "2002     1.559556\n",
              "2003     1.864968\n",
              "2004     1.910456\n",
              "2005     2.046917\n",
              "2006     1.605043\n",
              "2007     2.488791\n",
              "2008     3.846904\n",
              "2009     3.054130\n",
              "2010     7.797778\n",
              "2011     8.174670\n",
              "2012    11.241796\n",
              "2013    10.176100\n",
              "2014    11.105335\n",
              "2015     8.096692\n",
              "2016     7.823770\n",
              "2017     4.880109\n",
              "2018     2.696731\n",
              "2019     1.611541\n",
              "2020     0.240431\n",
              "Name: Prod. year, dtype: float64"
            ]
          },
          "metadata": {
            "tags": []
          },
          "execution_count": 18
        }
      ]
    },
    {
      "cell_type": "markdown",
      "metadata": {
        "id": "2gUkL2xVujlL"
      },
      "source": [
        "Bar graph showing number of records observed each year."
      ]
    },
    {
      "cell_type": "code",
      "metadata": {
        "id": "Wdqwgh2ToaiF",
        "colab": {
          "base_uri": "https://localhost:8080/",
          "height": 269
        },
        "outputId": "c55c1df4-e4f3-4338-eaf7-fd4e8efbfc83"
      },
      "source": [
        "fig, ax = plt.subplots(figsize=(20, 5))\n",
        "temp_series = (train_features[\"Prod. year\"].value_counts().sort_index()/train_features[\"Prod. year\"].shape[0]) * 100\n",
        "temp_series.plot.bar(ax=ax)\n",
        "\n",
        "ax.grid()\n",
        "ax.set_xlabel(\"Year\", size=12)\n",
        "ax.set_ylabel(\"%age of records\", size=12)\n",
        "plt.show()"
      ],
      "execution_count": 19,
      "outputs": [
        {
          "output_type": "display_data",
          "data": {
            "image/png": "[encoded data removed]",
            "text/plain": [
              "<Figure size 1440x360 with 1 Axes>"
            ]
          },
          "metadata": {
            "tags": [],
            "needs_background": "light"
          }
        }
      ]
    },
    {
      "cell_type": "markdown",
      "metadata": {
        "id": "kugDTp87upJl"
      },
      "source": [
        "Paraeto graph"
      ]
    },
    {
      "cell_type": "code",
      "metadata": {
        "colab": {
          "base_uri": "https://localhost:8080/",
          "height": 242
        },
        "id": "n7ff-Si7uhr2",
        "outputId": "4e2bb7ec-aa1b-4193-a858-153f6ff62a10"
      },
      "source": [
        "fig, ax = plt.subplots(figsize=(20, 5))\n",
        "temp_series = (train_features[\"Prod. year\"].value_counts().sort_index()/train_features[\"Prod. year\"].shape[0]) * 100\n",
        "\n",
        "# Bar Plot\n",
        "ax.bar(temp_series.index, temp_series.to_numpy(), alpha=0.5)\n",
        "\n",
        "# Paraeto Graph\n",
        "ax2 = ax.twinx()\n",
        "ax2.plot(temp_series.cumsum(), color=\"C1\", marker=\"D\")\n",
        "\n",
        "ax2.yaxis.set_major_formatter(PercentFormatter())\n",
        "ax2.tick_params(axis=\"y\", colors=\"C1\")\n",
        "ax.tick_params(axis=\"y\", colors=\"C0\")\n",
        "\n",
        "ax2.grid()\n",
        "plt.show()"
      ],
      "execution_count": 20,
      "outputs": [
        {
          "output_type": "display_data",
          "data": {
            "image/png": "[encoded data removed]",
            "text/plain": [
              "<Figure size 1440x360 with 2 Axes>"
            ]
          },
          "metadata": {
            "tags": []
          }
        }
      ]
    },
    {
      "cell_type": "markdown",
      "metadata": {
        "id": "meohQ6Fwut0c"
      },
      "source": [
        "Checking the min and max values in validation and test sets"
      ]
    },
    {
      "cell_type": "code",
      "metadata": {
        "id": "A9IadGg_oag1",
        "colab": {
          "base_uri": "https://localhost:8080/"
        },
        "outputId": "d88007b1-ba09-4b1e-90e0-75085a2f44d4"
      },
      "source": [
        "val_features[\"Prod. year\"].min(), val_features[\"Prod. year\"].max()"
      ],
      "execution_count": 21,
      "outputs": [
        {
          "output_type": "execute_result",
          "data": {
            "text/plain": [
              "(1943, 2020)"
            ]
          },
          "metadata": {
            "tags": []
          },
          "execution_count": 21
        }
      ]
    },
    {
      "cell_type": "code",
      "metadata": {
        "id": "esbpGvyGoae5",
        "colab": {
          "base_uri": "https://localhost:8080/"
        },
        "outputId": "88e52ff9-f55e-4a5f-e1f1-bcbd7b83e178"
      },
      "source": [
        "test_df[\"Prod. year\"].min(), test_df[\"Prod. year\"].max()"
      ],
      "execution_count": 22,
      "outputs": [
        {
          "output_type": "execute_result",
          "data": {
            "text/plain": [
              "(1943, 2020)"
            ]
          },
          "metadata": {
            "tags": []
          },
          "execution_count": 22
        }
      ]
    },
    {
      "cell_type": "markdown",
      "metadata": {
        "id": "T0OoNggzrlDM"
      },
      "source": [
        "#### Cylinders"
      ]
    },
    {
      "cell_type": "markdown",
      "metadata": {
        "id": "-7rxwWfcu6Mj"
      },
      "source": [
        "Number of cars with each category of `Cylinders`"
      ]
    },
    {
      "cell_type": "code",
      "metadata": {
        "colab": {
          "base_uri": "https://localhost:8080/",
          "height": 390
        },
        "id": "2H2SuKSUrmCb",
        "outputId": "3de7db10-8ab6-4fc5-f14f-2bc039d2c232"
      },
      "source": [
        "temp_series = train_features[\"Cylinders\"].value_counts().sort_index()\n",
        "\n",
        "temp_df = pd.DataFrame(\n",
        "  np.c_[\n",
        "        temp_series.index, \n",
        "        temp_series.to_numpy(), \n",
        "        (temp_series.to_numpy()/train_features[\"Cylinders\"].shape[0])*100\n",
        "      ], \n",
        "  columns=[\"Cylinders\", \"Value_Counts\", \"%age_Value_Counts\"])\n",
        "temp_df"
      ],
      "execution_count": 23,
      "outputs": [
        {
          "output_type": "execute_result",
          "data": {
            "text/html": [
              "<div>\n",
              "<style scoped>\n",
              "    .dataframe tbody tr th:only-of-type {\n",
              "        vertical-align: middle;\n",
              "    }\n",
              "\n",
              "    .dataframe tbody tr th {\n",
              "        vertical-align: top;\n",
              "    }\n",
              "\n",
              "    .dataframe thead th {\n",
              "        text-align: right;\n",
              "    }\n",
              "</style>\n",
              "<table border=\"1\" class=\"dataframe\">\n",
              "  <thead>\n",
              "    <tr style=\"text-align: right;\">\n",
              "      <th></th>\n",
              "      <th>Cylinders</th>\n",
              "      <th>Value_Counts</th>\n",
              "      <th>%age_Value_Counts</th>\n",
              "    </tr>\n",
              "  </thead>\n",
              "  <tbody>\n",
              "    <tr>\n",
              "      <th>0</th>\n",
              "      <td>1.0</td>\n",
              "      <td>30.0</td>\n",
              "      <td>0.194944</td>\n",
              "    </tr>\n",
              "    <tr>\n",
              "      <th>1</th>\n",
              "      <td>2.0</td>\n",
              "      <td>37.0</td>\n",
              "      <td>0.240431</td>\n",
              "    </tr>\n",
              "    <tr>\n",
              "      <th>2</th>\n",
              "      <td>3.0</td>\n",
              "      <td>85.0</td>\n",
              "      <td>0.552343</td>\n",
              "    </tr>\n",
              "    <tr>\n",
              "      <th>3</th>\n",
              "      <td>4.0</td>\n",
              "      <td>11503.0</td>\n",
              "      <td>74.748197</td>\n",
              "    </tr>\n",
              "    <tr>\n",
              "      <th>4</th>\n",
              "      <td>5.0</td>\n",
              "      <td>132.0</td>\n",
              "      <td>0.857756</td>\n",
              "    </tr>\n",
              "    <tr>\n",
              "      <th>5</th>\n",
              "      <td>6.0</td>\n",
              "      <td>2766.0</td>\n",
              "      <td>17.973877</td>\n",
              "    </tr>\n",
              "    <tr>\n",
              "      <th>6</th>\n",
              "      <td>7.0</td>\n",
              "      <td>3.0</td>\n",
              "      <td>0.019494</td>\n",
              "    </tr>\n",
              "    <tr>\n",
              "      <th>7</th>\n",
              "      <td>8.0</td>\n",
              "      <td>792.0</td>\n",
              "      <td>5.146533</td>\n",
              "    </tr>\n",
              "    <tr>\n",
              "      <th>8</th>\n",
              "      <td>10.0</td>\n",
              "      <td>10.0</td>\n",
              "      <td>0.064981</td>\n",
              "    </tr>\n",
              "    <tr>\n",
              "      <th>9</th>\n",
              "      <td>12.0</td>\n",
              "      <td>26.0</td>\n",
              "      <td>0.168952</td>\n",
              "    </tr>\n",
              "    <tr>\n",
              "      <th>10</th>\n",
              "      <td>16.0</td>\n",
              "      <td>5.0</td>\n",
              "      <td>0.032491</td>\n",
              "    </tr>\n",
              "  </tbody>\n",
              "</table>\n",
              "</div>"
            ],
            "text/plain": [
              "    Cylinders  Value_Counts  %age_Value_Counts\n",
              "0         1.0          30.0           0.194944\n",
              "1         2.0          37.0           0.240431\n",
              "2         3.0          85.0           0.552343\n",
              "3         4.0       11503.0          74.748197\n",
              "4         5.0         132.0           0.857756\n",
              "5         6.0        2766.0          17.973877\n",
              "6         7.0           3.0           0.019494\n",
              "7         8.0         792.0           5.146533\n",
              "8        10.0          10.0           0.064981\n",
              "9        12.0          26.0           0.168952\n",
              "10       16.0           5.0           0.032491"
            ]
          },
          "metadata": {
            "tags": []
          },
          "execution_count": 23
        }
      ]
    },
    {
      "cell_type": "markdown",
      "metadata": {
        "id": "0kUMGk_cxQPF"
      },
      "source": [
        "Bar graphs for number of cars of each `Cylinders` category"
      ]
    },
    {
      "cell_type": "code",
      "metadata": {
        "colab": {
          "base_uri": "https://localhost:8080/",
          "height": 349
        },
        "id": "QN9pfZ2Vrl-R",
        "outputId": "9be3b7dc-6c36-468d-cb4d-abd21793c507"
      },
      "source": [
        "fig, ax = plt.subplots(figsize=(8, 5))\n",
        "temp_df[\"%age_Value_Counts\"].plot.bar(ax=ax)\n",
        "\n",
        "ax.grid()\n",
        "ax.set_xticklabels(temp_df[\"Cylinders\"])\n",
        "ax.set_xlabel(\"Cylinders\", size=12)\n",
        "ax.set_ylabel(\"%age of records\", size=12)\n",
        "plt.show()"
      ],
      "execution_count": 24,
      "outputs": [
        {
          "output_type": "display_data",
          "data": {
            "image/png": "[encoded data removed]",
            "text/plain": [
              "<Figure size 576x360 with 1 Axes>"
            ]
          },
          "metadata": {
            "tags": [],
            "needs_background": "light"
          }
        }
      ]
    },
    {
      "cell_type": "markdown",
      "metadata": {
        "id": "gvG6MkR4QaZb"
      },
      "source": [
        "Checking for consistency in val and test sets"
      ]
    },
    {
      "cell_type": "code",
      "metadata": {
        "colab": {
          "base_uri": "https://localhost:8080/"
        },
        "id": "7c6XvEO3PxlU",
        "outputId": "03f97ea9-d22f-4ad7-9cd1-6113166ff476"
      },
      "source": [
        "val_features[\"Cylinders\"].min(), val_features[\"Cylinders\"].max()"
      ],
      "execution_count": 25,
      "outputs": [
        {
          "output_type": "execute_result",
          "data": {
            "text/plain": [
              "(1.0, 14.0)"
            ]
          },
          "metadata": {
            "tags": []
          },
          "execution_count": 25
        }
      ]
    },
    {
      "cell_type": "code",
      "metadata": {
        "colab": {
          "base_uri": "https://localhost:8080/"
        },
        "id": "OgdNHpXwPxhk",
        "outputId": "a9419909-bd51-43c8-9a19-626226e07236"
      },
      "source": [
        "test_df[\"Cylinders\"].min(), test_df[\"Cylinders\"].max()"
      ],
      "execution_count": 26,
      "outputs": [
        {
          "output_type": "execute_result",
          "data": {
            "text/plain": [
              "(1, 127)"
            ]
          },
          "metadata": {
            "tags": []
          },
          "execution_count": 26
        }
      ]
    },
    {
      "cell_type": "code",
      "metadata": {
        "colab": {
          "base_uri": "https://localhost:8080/"
        },
        "id": "tC20OwPRQRpC",
        "outputId": "1b03dca7-423f-4c62-d7b9-e2452b963c60"
      },
      "source": [
        "test_df[\"Cylinders\"].value_counts().sort_index()"
      ],
      "execution_count": 27,
      "outputs": [
        {
          "output_type": "execute_result",
          "data": {
            "text/plain": [
              "1        14\n",
              "2        17\n",
              "3        54\n",
              "4      6115\n",
              "5        68\n",
              "6      1473\n",
              "7         4\n",
              "8       474\n",
              "9         1\n",
              "10        6\n",
              "11        1\n",
              "12       16\n",
              "15        1\n",
              "127       1\n",
              "Name: Cylinders, dtype: int64"
            ]
          },
          "metadata": {
            "tags": []
          },
          "execution_count": 27
        }
      ]
    },
    {
      "cell_type": "markdown",
      "metadata": {
        "id": "MkAlZ6Opx7dq"
      },
      "source": [
        "#### Airbags"
      ]
    },
    {
      "cell_type": "markdown",
      "metadata": {
        "id": "tATcTGlg09sC"
      },
      "source": [
        "Value Counts"
      ]
    },
    {
      "cell_type": "code",
      "metadata": {
        "colab": {
          "base_uri": "https://localhost:8080/",
          "height": 576
        },
        "id": "jY5DgMjbrl8b",
        "outputId": "39464f3b-ac37-44a7-cb1a-d550f1d9e097"
      },
      "source": [
        "temp_series = train_features[\"Airbags\"].value_counts().sort_index()\n",
        "\n",
        "temp_df = pd.DataFrame(\n",
        "  np.c_[\n",
        "        temp_series.index, \n",
        "        temp_series.to_numpy(), \n",
        "        (temp_series.to_numpy()/train_features.shape[0])*100\n",
        "  ], \n",
        "  columns = [\"Airbags\", \"Value_COunts\", \"%age_Value_Counts\"]\n",
        ")\n",
        "temp_df"
      ],
      "execution_count": 28,
      "outputs": [
        {
          "output_type": "execute_result",
          "data": {
            "text/html": [
              "<div>\n",
              "<style scoped>\n",
              "    .dataframe tbody tr th:only-of-type {\n",
              "        vertical-align: middle;\n",
              "    }\n",
              "\n",
              "    .dataframe tbody tr th {\n",
              "        vertical-align: top;\n",
              "    }\n",
              "\n",
              "    .dataframe thead th {\n",
              "        text-align: right;\n",
              "    }\n",
              "</style>\n",
              "<table border=\"1\" class=\"dataframe\">\n",
              "  <thead>\n",
              "    <tr style=\"text-align: right;\">\n",
              "      <th></th>\n",
              "      <th>Airbags</th>\n",
              "      <th>Value_COunts</th>\n",
              "      <th>%age_Value_Counts</th>\n",
              "    </tr>\n",
              "  </thead>\n",
              "  <tbody>\n",
              "    <tr>\n",
              "      <th>0</th>\n",
              "      <td>0.0</td>\n",
              "      <td>1950.0</td>\n",
              "      <td>12.671389</td>\n",
              "    </tr>\n",
              "    <tr>\n",
              "      <th>1</th>\n",
              "      <td>1.0</td>\n",
              "      <td>64.0</td>\n",
              "      <td>0.415881</td>\n",
              "    </tr>\n",
              "    <tr>\n",
              "      <th>2</th>\n",
              "      <td>2.0</td>\n",
              "      <td>838.0</td>\n",
              "      <td>5.445448</td>\n",
              "    </tr>\n",
              "    <tr>\n",
              "      <th>3</th>\n",
              "      <td>3.0</td>\n",
              "      <td>31.0</td>\n",
              "      <td>0.201443</td>\n",
              "    </tr>\n",
              "    <tr>\n",
              "      <th>4</th>\n",
              "      <td>4.0</td>\n",
              "      <td>4665.0</td>\n",
              "      <td>30.313861</td>\n",
              "    </tr>\n",
              "    <tr>\n",
              "      <th>5</th>\n",
              "      <td>5.0</td>\n",
              "      <td>85.0</td>\n",
              "      <td>0.552343</td>\n",
              "    </tr>\n",
              "    <tr>\n",
              "      <th>6</th>\n",
              "      <td>6.0</td>\n",
              "      <td>1016.0</td>\n",
              "      <td>6.602118</td>\n",
              "    </tr>\n",
              "    <tr>\n",
              "      <th>7</th>\n",
              "      <td>7.0</td>\n",
              "      <td>76.0</td>\n",
              "      <td>0.493859</td>\n",
              "    </tr>\n",
              "    <tr>\n",
              "      <th>8</th>\n",
              "      <td>8.0</td>\n",
              "      <td>1290.0</td>\n",
              "      <td>8.382611</td>\n",
              "    </tr>\n",
              "    <tr>\n",
              "      <th>9</th>\n",
              "      <td>9.0</td>\n",
              "      <td>52.0</td>\n",
              "      <td>0.337904</td>\n",
              "    </tr>\n",
              "    <tr>\n",
              "      <th>10</th>\n",
              "      <td>10.0</td>\n",
              "      <td>693.0</td>\n",
              "      <td>4.503217</td>\n",
              "    </tr>\n",
              "    <tr>\n",
              "      <th>11</th>\n",
              "      <td>11.0</td>\n",
              "      <td>22.0</td>\n",
              "      <td>0.142959</td>\n",
              "    </tr>\n",
              "    <tr>\n",
              "      <th>12</th>\n",
              "      <td>12.0</td>\n",
              "      <td>4506.0</td>\n",
              "      <td>29.280655</td>\n",
              "    </tr>\n",
              "    <tr>\n",
              "      <th>13</th>\n",
              "      <td>13.0</td>\n",
              "      <td>2.0</td>\n",
              "      <td>0.012996</td>\n",
              "    </tr>\n",
              "    <tr>\n",
              "      <th>14</th>\n",
              "      <td>14.0</td>\n",
              "      <td>17.0</td>\n",
              "      <td>0.110469</td>\n",
              "    </tr>\n",
              "    <tr>\n",
              "      <th>15</th>\n",
              "      <td>15.0</td>\n",
              "      <td>3.0</td>\n",
              "      <td>0.019494</td>\n",
              "    </tr>\n",
              "    <tr>\n",
              "      <th>16</th>\n",
              "      <td>16.0</td>\n",
              "      <td>79.0</td>\n",
              "      <td>0.513354</td>\n",
              "    </tr>\n",
              "  </tbody>\n",
              "</table>\n",
              "</div>"
            ],
            "text/plain": [
              "    Airbags  Value_COunts  %age_Value_Counts\n",
              "0       0.0        1950.0          12.671389\n",
              "1       1.0          64.0           0.415881\n",
              "2       2.0         838.0           5.445448\n",
              "3       3.0          31.0           0.201443\n",
              "4       4.0        4665.0          30.313861\n",
              "5       5.0          85.0           0.552343\n",
              "6       6.0        1016.0           6.602118\n",
              "7       7.0          76.0           0.493859\n",
              "8       8.0        1290.0           8.382611\n",
              "9       9.0          52.0           0.337904\n",
              "10     10.0         693.0           4.503217\n",
              "11     11.0          22.0           0.142959\n",
              "12     12.0        4506.0          29.280655\n",
              "13     13.0           2.0           0.012996\n",
              "14     14.0          17.0           0.110469\n",
              "15     15.0           3.0           0.019494\n",
              "16     16.0          79.0           0.513354"
            ]
          },
          "metadata": {
            "tags": []
          },
          "execution_count": 28
        }
      ]
    },
    {
      "cell_type": "markdown",
      "metadata": {
        "id": "5es5RpxfzjoU"
      },
      "source": [
        "Bar graph"
      ]
    },
    {
      "cell_type": "code",
      "metadata": {
        "colab": {
          "base_uri": "https://localhost:8080/",
          "height": 349
        },
        "id": "3d2THs3Lzjke",
        "outputId": "3dcd3f63-1f3f-4985-c5b5-5c4f1b9293f8"
      },
      "source": [
        "fig, ax = plt.subplots(figsize=(8, 5))\n",
        "temp_df[\"%age_Value_Counts\"].plot.bar(ax=ax)\n",
        "\n",
        "ax.grid()\n",
        "ax.set_xticklabels(temp_df[\"Airbags\"])\n",
        "ax.set_xlabel(\"Airbags\", size=12)\n",
        "ax.set_ylabel(\"%age of records\", size=12)\n",
        "plt.show()"
      ],
      "execution_count": 29,
      "outputs": [
        {
          "output_type": "display_data",
          "data": {
            "image/png": "[encoded data removed]",
            "text/plain": [
              "<Figure size 576x360 with 1 Axes>"
            ]
          },
          "metadata": {
            "tags": [],
            "needs_background": "light"
          }
        }
      ]
    },
    {
      "cell_type": "markdown",
      "metadata": {
        "id": "0McC3ZYVPtq_"
      },
      "source": [
        "Checking for consistency in val and test sets"
      ]
    },
    {
      "cell_type": "code",
      "metadata": {
        "colab": {
          "base_uri": "https://localhost:8080/"
        },
        "id": "dmOemrT6PkQj",
        "outputId": "77d95075-fce5-45ec-86ed-40652d3313b5"
      },
      "source": [
        "val_features[\"Airbags\"].min(), val_features[\"Airbags\"].max()"
      ],
      "execution_count": 30,
      "outputs": [
        {
          "output_type": "execute_result",
          "data": {
            "text/plain": [
              "(0, 16)"
            ]
          },
          "metadata": {
            "tags": []
          },
          "execution_count": 30
        }
      ]
    },
    {
      "cell_type": "code",
      "metadata": {
        "colab": {
          "base_uri": "https://localhost:8080/"
        },
        "id": "syeYg4tTPp-d",
        "outputId": "432ca692-70a7-46a4-ae71-8e36c309a7bf"
      },
      "source": [
        "test_df[\"Airbags\"].min(), test_df[\"Airbags\"].max()"
      ],
      "execution_count": 31,
      "outputs": [
        {
          "output_type": "execute_result",
          "data": {
            "text/plain": [
              "(0, 16)"
            ]
          },
          "metadata": {
            "tags": []
          },
          "execution_count": 31
        }
      ]
    },
    {
      "cell_type": "markdown",
      "metadata": {
        "id": "JDl1Qf2o1Iw3"
      },
      "source": [
        "### Object Data Type"
      ]
    },
    {
      "cell_type": "code",
      "metadata": {
        "colab": {
          "base_uri": "https://localhost:8080/"
        },
        "id": "thugnhnp1aAV",
        "outputId": "24028898-76da-4264-dcd4-2e9f65c8480a"
      },
      "source": [
        "obj_features"
      ],
      "execution_count": 32,
      "outputs": [
        {
          "output_type": "execute_result",
          "data": {
            "text/plain": [
              "['Levy',\n",
              " 'Manufacturer',\n",
              " 'Model',\n",
              " 'Category',\n",
              " 'Leather interior',\n",
              " 'Fuel type',\n",
              " 'Engine volume',\n",
              " 'Mileage',\n",
              " 'Gear box type',\n",
              " 'Drive wheels',\n",
              " 'Doors',\n",
              " 'Wheel',\n",
              " 'Color']"
            ]
          },
          "metadata": {
            "tags": []
          },
          "execution_count": 32
        }
      ]
    },
    {
      "cell_type": "markdown",
      "metadata": {
        "id": "VvGDxrLy1nlR"
      },
      "source": [
        "#### Levy"
      ]
    },
    {
      "cell_type": "markdown",
      "metadata": {
        "id": "oBew1O_J6OG-"
      },
      "source": [
        "Number of Null values in this column. Here the Null values are given by `\"-\"` sign."
      ]
    },
    {
      "cell_type": "code",
      "metadata": {
        "colab": {
          "base_uri": "https://localhost:8080/"
        },
        "id": "4pbJiAvG1Z8o",
        "outputId": "e903ed1c-8b9e-4417-fc93-1e799a60366c"
      },
      "source": [
        "train_features[train_features[\"Levy\"] == \"-\"].shape"
      ],
      "execution_count": 33,
      "outputs": [
        {
          "output_type": "execute_result",
          "data": {
            "text/plain": [
              "(4632, 16)"
            ]
          },
          "metadata": {
            "tags": []
          },
          "execution_count": 33
        }
      ]
    },
    {
      "cell_type": "markdown",
      "metadata": {
        "id": "xcuUADm17yaO"
      },
      "source": [
        "%age of Null values"
      ]
    },
    {
      "cell_type": "code",
      "metadata": {
        "colab": {
          "base_uri": "https://localhost:8080/"
        },
        "id": "2E0s0fSe7roD",
        "outputId": "8d4a8efb-60fb-4b67-ab1d-eacf8d3d6608"
      },
      "source": [
        "(train_features[train_features[\"Levy\"] == \"-\"].shape[0]/train_features.shape[0])*100"
      ],
      "execution_count": 34,
      "outputs": [
        {
          "output_type": "execute_result",
          "data": {
            "text/plain": [
              "30.099421664825528"
            ]
          },
          "metadata": {
            "tags": []
          },
          "execution_count": 34
        }
      ]
    },
    {
      "cell_type": "markdown",
      "metadata": {
        "id": "2PgKDbJx_ENh"
      },
      "source": [
        "Removing Null values"
      ]
    },
    {
      "cell_type": "code",
      "metadata": {
        "colab": {
          "base_uri": "https://localhost:8080/",
          "height": 221
        },
        "id": "eERtF0MS1Z7Y",
        "outputId": "95713abd-9ac1-4f87-a1e6-813bf3c0cfd9"
      },
      "source": [
        "temp_df = pd.DataFrame(\n",
        "  train_features[train_features[\"Levy\"] != \"-\"][\"Levy\"].astype(np.uint), \n",
        "  columns=[\"Levy\"]\n",
        ")\n",
        "print(temp_df.shape)\n",
        "temp_df.head()"
      ],
      "execution_count": 35,
      "outputs": [
        {
          "output_type": "stream",
          "text": [
            "(10757, 1)\n"
          ],
          "name": "stdout"
        },
        {
          "output_type": "execute_result",
          "data": {
            "text/html": [
              "<div>\n",
              "<style scoped>\n",
              "    .dataframe tbody tr th:only-of-type {\n",
              "        vertical-align: middle;\n",
              "    }\n",
              "\n",
              "    .dataframe tbody tr th {\n",
              "        vertical-align: top;\n",
              "    }\n",
              "\n",
              "    .dataframe thead th {\n",
              "        text-align: right;\n",
              "    }\n",
              "</style>\n",
              "<table border=\"1\" class=\"dataframe\">\n",
              "  <thead>\n",
              "    <tr style=\"text-align: right;\">\n",
              "      <th></th>\n",
              "      <th>Levy</th>\n",
              "    </tr>\n",
              "  </thead>\n",
              "  <tbody>\n",
              "    <tr>\n",
              "      <th>7808</th>\n",
              "      <td>779</td>\n",
              "    </tr>\n",
              "    <tr>\n",
              "      <th>16766</th>\n",
              "      <td>1282</td>\n",
              "    </tr>\n",
              "    <tr>\n",
              "      <th>7285</th>\n",
              "      <td>1399</td>\n",
              "    </tr>\n",
              "    <tr>\n",
              "      <th>15712</th>\n",
              "      <td>642</td>\n",
              "    </tr>\n",
              "    <tr>\n",
              "      <th>9341</th>\n",
              "      <td>394</td>\n",
              "    </tr>\n",
              "  </tbody>\n",
              "</table>\n",
              "</div>"
            ],
            "text/plain": [
              "       Levy\n",
              "7808    779\n",
              "16766  1282\n",
              "7285   1399\n",
              "15712   642\n",
              "9341    394"
            ]
          },
          "metadata": {
            "tags": []
          },
          "execution_count": 35
        }
      ]
    },
    {
      "cell_type": "markdown",
      "metadata": {
        "id": "Qz7d8kTb_Go3"
      },
      "source": [
        "Histogram and Box Plots"
      ]
    },
    {
      "cell_type": "code",
      "metadata": {
        "colab": {
          "base_uri": "https://localhost:8080/",
          "height": 331
        },
        "id": "TrqOdPdL1Z46",
        "outputId": "ce504914-5188-44b3-f2a0-e4ee389b2fe9"
      },
      "source": [
        "fig, ax = plt.subplots(1, 2, figsize=(16, 5))\n",
        "temp_df[\"Levy\"].plot.hist(ax=ax[0], bins=100)\n",
        "ax[0].set_xlabel(\"Levy\", size=15)\n",
        "ax[0].set_ylabel(\"Frequency\", size=15)\n",
        "ax[0].set_title(\"Histogram for Levy\", size=20)\n",
        "ax[0].grid()\n",
        "\n",
        "temp_df[[\"Levy\"]].boxplot(ax=ax[1])\n",
        "ax[1].set_ylabel(\"Levy\", size=15)\n",
        "ax[1].set_title(\"Box Plot for Levy\", size=20)\n",
        "plt.show()"
      ],
      "execution_count": 36,
      "outputs": [
        {
          "output_type": "display_data",
          "data": {
            "image/png": "[encoded data removed]",
            "text/plain": [
              "<Figure size 1152x360 with 2 Axes>"
            ]
          },
          "metadata": {
            "tags": [],
            "needs_background": "light"
          }
        }
      ]
    },
    {
      "cell_type": "markdown",
      "metadata": {
        "id": "9x1XO0hr_3qc"
      },
      "source": [
        "#### Manufacturer"
      ]
    },
    {
      "cell_type": "code",
      "metadata": {
        "colab": {
          "base_uri": "https://localhost:8080/"
        },
        "id": "sz70vKG6_9QM",
        "outputId": "d68b1c0a-c944-4399-995a-289576f55aa7"
      },
      "source": [
        "train_features[\"Manufacturer\"].unique()"
      ],
      "execution_count": 37,
      "outputs": [
        {
          "output_type": "execute_result",
          "data": {
            "text/plain": [
              "array(['TOYOTA', 'CHEVROLET', 'MERCEDES-BENZ', 'BMW', 'LEXUS', 'HONDA',\n",
              "       'FORD', 'DAEWOO', 'HYUNDAI', 'SSANGYONG', 'VOLKSWAGEN', 'SUBARU',\n",
              "       'SUZUKI', 'FIAT', 'NISSAN', 'OPEL', 'KIA', 'ALFA ROMEO',\n",
              "       'MITSUBISHI', 'JEEP', 'DODGE', 'MAZDA', 'CADILLAC', 'VAZ',\n",
              "       'LAND ROVER', 'AUDI', 'RENAULT', 'SKODA', 'PORSCHE', 'CHRYSLER',\n",
              "       'JAGUAR', 'MINI', 'LINCOLN', 'ACURA', 'HUMMER', 'DAIHATSU', 'UAZ',\n",
              "       'BUICK', 'SCION', 'CITROEN', 'INFINITI', 'GMC', 'GAZ', 'PEUGEOT',\n",
              "       'VOLVO', 'TESLA', 'SEAT', 'ASTON MARTIN', 'ROVER', 'LAMBORGHINI',\n",
              "       'ISUZU', 'BENTLEY', 'HAVAL', 'ROLLS-ROYCE', 'MERCURY', 'MASERATI',\n",
              "       'SAAB', 'სხვა', 'MOSKVICH', 'ZAZ', 'FERRARI', 'SATURN', 'PONTIAC',\n",
              "       'GREATWALL'], dtype=object)"
            ]
          },
          "metadata": {
            "tags": []
          },
          "execution_count": 37
        }
      ]
    },
    {
      "cell_type": "code",
      "metadata": {
        "colab": {
          "base_uri": "https://localhost:8080/",
          "height": 221
        },
        "id": "vp_0k9dgGNas",
        "outputId": "9aad9fbd-41fc-45d7-c011-ffe90e56044a"
      },
      "source": [
        "temp_series = train_features[\"Manufacturer\"].value_counts()\n",
        "temp_df = pd.DataFrame(\n",
        "  np.c_[\n",
        "        temp_series.index, \n",
        "        temp_series.to_numpy(), \n",
        "        (temp_series.to_numpy()/train_features.shape[0])*100\n",
        "  ],\n",
        "  columns=[\"Manufacturer\", \"Value_counts\", \"%age_Value_counts\"]\n",
        ")\n",
        "print(temp_df.shape)\n",
        "temp_df.head()"
      ],
      "execution_count": 38,
      "outputs": [
        {
          "output_type": "stream",
          "text": [
            "(64, 3)\n"
          ],
          "name": "stdout"
        },
        {
          "output_type": "execute_result",
          "data": {
            "text/html": [
              "<div>\n",
              "<style scoped>\n",
              "    .dataframe tbody tr th:only-of-type {\n",
              "        vertical-align: middle;\n",
              "    }\n",
              "\n",
              "    .dataframe tbody tr th {\n",
              "        vertical-align: top;\n",
              "    }\n",
              "\n",
              "    .dataframe thead th {\n",
              "        text-align: right;\n",
              "    }\n",
              "</style>\n",
              "<table border=\"1\" class=\"dataframe\">\n",
              "  <thead>\n",
              "    <tr style=\"text-align: right;\">\n",
              "      <th></th>\n",
              "      <th>Manufacturer</th>\n",
              "      <th>Value_counts</th>\n",
              "      <th>%age_Value_counts</th>\n",
              "    </tr>\n",
              "  </thead>\n",
              "  <tbody>\n",
              "    <tr>\n",
              "      <th>0</th>\n",
              "      <td>HYUNDAI</td>\n",
              "      <td>3026</td>\n",
              "      <td>19.6634</td>\n",
              "    </tr>\n",
              "    <tr>\n",
              "      <th>1</th>\n",
              "      <td>TOYOTA</td>\n",
              "      <td>2934</td>\n",
              "      <td>19.0656</td>\n",
              "    </tr>\n",
              "    <tr>\n",
              "      <th>2</th>\n",
              "      <td>MERCEDES-BENZ</td>\n",
              "      <td>1688</td>\n",
              "      <td>10.9689</td>\n",
              "    </tr>\n",
              "    <tr>\n",
              "      <th>3</th>\n",
              "      <td>FORD</td>\n",
              "      <td>887</td>\n",
              "      <td>5.76386</td>\n",
              "    </tr>\n",
              "    <tr>\n",
              "      <th>4</th>\n",
              "      <td>CHEVROLET</td>\n",
              "      <td>863</td>\n",
              "      <td>5.6079</td>\n",
              "    </tr>\n",
              "  </tbody>\n",
              "</table>\n",
              "</div>"
            ],
            "text/plain": [
              "    Manufacturer Value_counts %age_Value_counts\n",
              "0        HYUNDAI         3026           19.6634\n",
              "1         TOYOTA         2934           19.0656\n",
              "2  MERCEDES-BENZ         1688           10.9689\n",
              "3           FORD          887           5.76386\n",
              "4      CHEVROLET          863            5.6079"
            ]
          },
          "metadata": {
            "tags": []
          },
          "execution_count": 38
        }
      ]
    },
    {
      "cell_type": "code",
      "metadata": {
        "colab": {
          "base_uri": "https://localhost:8080/",
          "height": 303
        },
        "id": "LLLDxA5iG0bi",
        "outputId": "97c8baf6-0e34-4f98-e1ec-d7a4257a08cb"
      },
      "source": [
        "fig, ax = plt.subplots(figsize=(20, 5))\n",
        "temp_df[\"%age_Value_counts\"].plot.bar(ax=ax)\n",
        "ax.set_xticklabels(temp_df[\"Manufacturer\"])\n",
        "plt.show()"
      ],
      "execution_count": 39,
      "outputs": [
        {
          "output_type": "display_data",
          "data": {
            "image/png": "[encoded data removed]",
            "text/plain": [
              "<Figure size 1440x360 with 1 Axes>"
            ]
          },
          "metadata": {
            "tags": [],
            "needs_background": "light"
          }
        }
      ]
    },
    {
      "cell_type": "markdown",
      "metadata": {
        "id": "-RSJZXDnN1P8"
      },
      "source": [
        "Does the train set contain all the car manufacturers in the val and test sets?"
      ]
    },
    {
      "cell_type": "markdown",
      "metadata": {
        "id": "rXWFpQLrOkaq"
      },
      "source": [
        "- Validation set"
      ]
    },
    {
      "cell_type": "code",
      "metadata": {
        "colab": {
          "base_uri": "https://localhost:8080/"
        },
        "id": "U37BHZkVG0XM",
        "outputId": "ebd7cc87-75dd-48c6-8520-d817e28a017f"
      },
      "source": [
        "len(val_features[\"Manufacturer\"].unique())"
      ],
      "execution_count": 40,
      "outputs": [
        {
          "output_type": "execute_result",
          "data": {
            "text/plain": [
              "51"
            ]
          },
          "metadata": {
            "tags": []
          },
          "execution_count": 40
        }
      ]
    },
    {
      "cell_type": "code",
      "metadata": {
        "colab": {
          "base_uri": "https://localhost:8080/"
        },
        "id": "fGoUU2OQMmVj",
        "outputId": "0dcc4b47-65f7-4ac9-886e-aed41dd96a74"
      },
      "source": [
        "set(val_features[\"Manufacturer\"].unique()).difference(\n",
        "    set(train_features[\"Manufacturer\"].unique())\n",
        "  )"
      ],
      "execution_count": 41,
      "outputs": [
        {
          "output_type": "execute_result",
          "data": {
            "text/plain": [
              "{'LANCIA'}"
            ]
          },
          "metadata": {
            "tags": []
          },
          "execution_count": 41
        }
      ]
    },
    {
      "cell_type": "code",
      "metadata": {
        "colab": {
          "base_uri": "https://localhost:8080/"
        },
        "id": "-xI5rS6HN8xs",
        "outputId": "38efd2b9-6396-4b37-fc0c-ae9deb09ff45"
      },
      "source": [
        "val_features[val_features[\"Manufacturer\"] == \"LANCIA\"].shape"
      ],
      "execution_count": 42,
      "outputs": [
        {
          "output_type": "execute_result",
          "data": {
            "text/plain": [
              "(1, 16)"
            ]
          },
          "metadata": {
            "tags": []
          },
          "execution_count": 42
        }
      ]
    },
    {
      "cell_type": "markdown",
      "metadata": {
        "id": "AbRyZvjkOmiE"
      },
      "source": [
        "- Test set"
      ]
    },
    {
      "cell_type": "code",
      "metadata": {
        "colab": {
          "base_uri": "https://localhost:8080/"
        },
        "id": "mlOv9njoNZtQ",
        "outputId": "479ca8ef-97ce-4552-fa39-95ea0de96750"
      },
      "source": [
        "len(test_df[\"Manufacturer\"].unique())"
      ],
      "execution_count": 43,
      "outputs": [
        {
          "output_type": "execute_result",
          "data": {
            "text/plain": [
              "62"
            ]
          },
          "metadata": {
            "tags": []
          },
          "execution_count": 43
        }
      ]
    },
    {
      "cell_type": "code",
      "metadata": {
        "colab": {
          "base_uri": "https://localhost:8080/"
        },
        "id": "jXK0RroINZks",
        "outputId": "6ee3aae8-f6a3-4575-80d2-172aace3e4e8"
      },
      "source": [
        "set(test_df[\"Manufacturer\"].unique()).difference(\n",
        "    set(train_df[\"Manufacturer\"].unique())\n",
        "  )"
      ],
      "execution_count": 44,
      "outputs": [
        {
          "output_type": "execute_result",
          "data": {
            "text/plain": [
              "{'FOTON', 'MG', 'TATA'}"
            ]
          },
          "metadata": {
            "tags": []
          },
          "execution_count": 44
        }
      ]
    },
    {
      "cell_type": "code",
      "metadata": {
        "colab": {
          "base_uri": "https://localhost:8080/"
        },
        "id": "-zMovldBOEHu",
        "outputId": "a4eebec7-a180-4d55-b45d-18813ef60b28"
      },
      "source": [
        "idx = test_df[\"Manufacturer\"].isin([\"FOTON\", \"MG\", \"TATA\"])\n",
        "test_df.loc[idx, :].shape"
      ],
      "execution_count": 45,
      "outputs": [
        {
          "output_type": "execute_result",
          "data": {
            "text/plain": [
              "(3, 18)"
            ]
          },
          "metadata": {
            "tags": []
          },
          "execution_count": 45
        }
      ]
    },
    {
      "cell_type": "markdown",
      "metadata": {
        "id": "gQ4TdxI9QppV"
      },
      "source": [
        "#### Model"
      ]
    },
    {
      "cell_type": "code",
      "metadata": {
        "colab": {
          "base_uri": "https://localhost:8080/"
        },
        "id": "DvZVqC-SQ5Fr",
        "outputId": "ee8a0069-e172-4862-ef51-94b94d55a181"
      },
      "source": [
        "train_features[\"Model\"].head()"
      ],
      "execution_count": 46,
      "outputs": [
        {
          "output_type": "execute_result",
          "data": {
            "text/plain": [
              "7808       Camry\n",
              "16766    Captiva\n",
              "7285       E 350\n",
              "15712    Orlando\n",
              "16562         X5\n",
              "Name: Model, dtype: object"
            ]
          },
          "metadata": {
            "tags": []
          },
          "execution_count": 46
        }
      ]
    },
    {
      "cell_type": "code",
      "metadata": {
        "colab": {
          "base_uri": "https://localhost:8080/"
        },
        "id": "ECKkXKyzQqn-",
        "outputId": "f48cb4da-ba26-457b-f48c-240e1805787e"
      },
      "source": [
        "train_features[\"Model\"].nunique()"
      ],
      "execution_count": 47,
      "outputs": [
        {
          "output_type": "execute_result",
          "data": {
            "text/plain": [
              "1402"
            ]
          },
          "metadata": {
            "tags": []
          },
          "execution_count": 47
        }
      ]
    },
    {
      "cell_type": "code",
      "metadata": {
        "colab": {
          "base_uri": "https://localhost:8080/",
          "height": 221
        },
        "id": "uCnFOVsuQ27y",
        "outputId": "59feb87a-21a2-491a-9b19-ded4efea1e95"
      },
      "source": [
        "temp_series = train_features[\"Model\"].value_counts()\n",
        "temp_df = pd.DataFrame(\n",
        "  np.c_[\n",
        "        temp_series.index, \n",
        "        temp_series.to_numpy(), \n",
        "        (temp_series.to_numpy()/train_features.shape[0])*100\n",
        "  ],\n",
        "  columns=[\"Model\", \"Value_counts\", \"%age_Value_counts\"]\n",
        ")\n",
        "print(temp_df.shape)\n",
        "temp_df.head()"
      ],
      "execution_count": 48,
      "outputs": [
        {
          "output_type": "stream",
          "text": [
            "(1402, 3)\n"
          ],
          "name": "stdout"
        },
        {
          "output_type": "execute_result",
          "data": {
            "text/html": [
              "<div>\n",
              "<style scoped>\n",
              "    .dataframe tbody tr th:only-of-type {\n",
              "        vertical-align: middle;\n",
              "    }\n",
              "\n",
              "    .dataframe tbody tr th {\n",
              "        vertical-align: top;\n",
              "    }\n",
              "\n",
              "    .dataframe thead th {\n",
              "        text-align: right;\n",
              "    }\n",
              "</style>\n",
              "<table border=\"1\" class=\"dataframe\">\n",
              "  <thead>\n",
              "    <tr style=\"text-align: right;\">\n",
              "      <th></th>\n",
              "      <th>Model</th>\n",
              "      <th>Value_counts</th>\n",
              "      <th>%age_Value_counts</th>\n",
              "    </tr>\n",
              "  </thead>\n",
              "  <tbody>\n",
              "    <tr>\n",
              "      <th>0</th>\n",
              "      <td>Sonata</td>\n",
              "      <td>872</td>\n",
              "      <td>5.66639</td>\n",
              "    </tr>\n",
              "    <tr>\n",
              "      <th>1</th>\n",
              "      <td>Prius</td>\n",
              "      <td>867</td>\n",
              "      <td>5.63389</td>\n",
              "    </tr>\n",
              "    <tr>\n",
              "      <th>2</th>\n",
              "      <td>Camry</td>\n",
              "      <td>754</td>\n",
              "      <td>4.8996</td>\n",
              "    </tr>\n",
              "    <tr>\n",
              "      <th>3</th>\n",
              "      <td>Elantra</td>\n",
              "      <td>728</td>\n",
              "      <td>4.73065</td>\n",
              "    </tr>\n",
              "    <tr>\n",
              "      <th>4</th>\n",
              "      <td>E 350</td>\n",
              "      <td>442</td>\n",
              "      <td>2.87218</td>\n",
              "    </tr>\n",
              "  </tbody>\n",
              "</table>\n",
              "</div>"
            ],
            "text/plain": [
              "     Model Value_counts %age_Value_counts\n",
              "0   Sonata          872           5.66639\n",
              "1    Prius          867           5.63389\n",
              "2    Camry          754            4.8996\n",
              "3  Elantra          728           4.73065\n",
              "4    E 350          442           2.87218"
            ]
          },
          "metadata": {
            "tags": []
          },
          "execution_count": 48
        }
      ]
    },
    {
      "cell_type": "markdown",
      "metadata": {
        "id": "Q0yPBdflZLbV"
      },
      "source": [
        "Bar graph for some of the most common models (>1% occurance)"
      ]
    },
    {
      "cell_type": "code",
      "metadata": {
        "colab": {
          "base_uri": "https://localhost:8080/",
          "height": 306
        },
        "id": "zWV4G7PUYmaM",
        "outputId": "96b0d0d8-fdc8-45e6-9fba-377b4ff8092e"
      },
      "source": [
        "fig, ax = plt.subplots(figsize=(20, 5))\n",
        "temp_df[temp_df[\"%age_Value_counts\"]>1][\"%age_Value_counts\"].plot.bar(ax=ax)\n",
        "\n",
        "ax.set_xlabel(\"Model\", size=15)\n",
        "ax.set_ylabel(\"%age of occurances\", size=15)\n",
        "ax.set_xticklabels(temp_df[\"Model\"], fontdict={\"fontsize\": 13})\n",
        "plt.show()"
      ],
      "execution_count": 49,
      "outputs": [
        {
          "output_type": "display_data",
          "data": {
            "image/png": "[encoded data removed]",
            "text/plain": [
              "<Figure size 1440x360 with 1 Axes>"
            ]
          },
          "metadata": {
            "tags": [],
            "needs_background": "light"
          }
        }
      ]
    },
    {
      "cell_type": "markdown",
      "metadata": {
        "id": "1brusE8oZUyN"
      },
      "source": [
        "Does the train set contain all the car manufacturers in the val and test sets?"
      ]
    },
    {
      "cell_type": "markdown",
      "metadata": {
        "id": "QydeFYLAZpLX"
      },
      "source": [
        "- Validation set"
      ]
    },
    {
      "cell_type": "code",
      "metadata": {
        "colab": {
          "base_uri": "https://localhost:8080/"
        },
        "id": "TmyJECHkZqtL",
        "outputId": "794c56dc-6bed-491c-f34d-92a31a47092c"
      },
      "source": [
        "len(val_features[\"Model\"].unique())"
      ],
      "execution_count": 50,
      "outputs": [
        {
          "output_type": "execute_result",
          "data": {
            "text/plain": [
              "621"
            ]
          },
          "metadata": {
            "tags": []
          },
          "execution_count": 50
        }
      ]
    },
    {
      "cell_type": "code",
      "metadata": {
        "colab": {
          "base_uri": "https://localhost:8080/"
        },
        "id": "3xkWEhkiZv_L",
        "outputId": "eccac27c-82db-452c-dd5f-ae56cf47876d"
      },
      "source": [
        "len(set(val_features[\"Model\"].unique()).difference(\n",
        "    set(train_features[\"Model\"].unique())\n",
        "  ))"
      ],
      "execution_count": 51,
      "outputs": [
        {
          "output_type": "execute_result",
          "data": {
            "text/plain": [
              "188"
            ]
          },
          "metadata": {
            "tags": []
          },
          "execution_count": 51
        }
      ]
    },
    {
      "cell_type": "markdown",
      "metadata": {
        "id": "DLRzfzS4Zq6T"
      },
      "source": [
        "- Test set"
      ]
    },
    {
      "cell_type": "code",
      "metadata": {
        "colab": {
          "base_uri": "https://localhost:8080/"
        },
        "id": "Fb4yCpl_Z18-",
        "outputId": "2b3c37de-9c3a-4a7d-be8c-6ce53d86b38c"
      },
      "source": [
        "len(test_df[\"Model\"].unique())"
      ],
      "execution_count": 52,
      "outputs": [
        {
          "output_type": "execute_result",
          "data": {
            "text/plain": [
              "995"
            ]
          },
          "metadata": {
            "tags": []
          },
          "execution_count": 52
        }
      ]
    },
    {
      "cell_type": "code",
      "metadata": {
        "colab": {
          "base_uri": "https://localhost:8080/"
        },
        "id": "vOkIFi1SZ12X",
        "outputId": "61b649ca-9054-48ce-c90a-ca834e657a75"
      },
      "source": [
        "len(set(test_df[\"Model\"].unique()).difference(\n",
        "    set(train_df[\"Model\"].unique())\n",
        "  ))"
      ],
      "execution_count": 53,
      "outputs": [
        {
          "output_type": "execute_result",
          "data": {
            "text/plain": [
              "391"
            ]
          },
          "metadata": {
            "tags": []
          },
          "execution_count": 53
        }
      ]
    },
    {
      "cell_type": "markdown",
      "metadata": {
        "id": "rS7gnJzKcFvV"
      },
      "source": [
        "#### Category"
      ]
    },
    {
      "cell_type": "code",
      "metadata": {
        "id": "fxP0ij6_xl2X",
        "outputId": "0f7d8437-f150-4db3-b1c7-e7a415b0ce6c",
        "colab": {
          "base_uri": "https://localhost:8080/",
          "height": 390
        }
      },
      "source": [
        "temp_series = train_features[\"Category\"].value_counts()\n",
        "temp_df = pd.DataFrame(\n",
        "  np.c_[\n",
        "        temp_series.index, \n",
        "        temp_series.to_numpy(), \n",
        "        (temp_series.to_numpy()/train_features.shape[0])*100\n",
        "      ],\n",
        "  columns = [\"Category\", \"Value_counts\", \"%age_Value_counts\"]\n",
        "  )\n",
        "\n",
        "temp_df"
      ],
      "execution_count": 55,
      "outputs": [
        {
          "output_type": "execute_result",
          "data": {
            "text/html": [
              "<div>\n",
              "<style scoped>\n",
              "    .dataframe tbody tr th:only-of-type {\n",
              "        vertical-align: middle;\n",
              "    }\n",
              "\n",
              "    .dataframe tbody tr th {\n",
              "        vertical-align: top;\n",
              "    }\n",
              "\n",
              "    .dataframe thead th {\n",
              "        text-align: right;\n",
              "    }\n",
              "</style>\n",
              "<table border=\"1\" class=\"dataframe\">\n",
              "  <thead>\n",
              "    <tr style=\"text-align: right;\">\n",
              "      <th></th>\n",
              "      <th>Category</th>\n",
              "      <th>Value_counts</th>\n",
              "      <th>%age_Value_counts</th>\n",
              "    </tr>\n",
              "  </thead>\n",
              "  <tbody>\n",
              "    <tr>\n",
              "      <th>0</th>\n",
              "      <td>Sedan</td>\n",
              "      <td>7007</td>\n",
              "      <td>45.5325</td>\n",
              "    </tr>\n",
              "    <tr>\n",
              "      <th>1</th>\n",
              "      <td>Jeep</td>\n",
              "      <td>4364</td>\n",
              "      <td>28.3579</td>\n",
              "    </tr>\n",
              "    <tr>\n",
              "      <th>2</th>\n",
              "      <td>Hatchback</td>\n",
              "      <td>2270</td>\n",
              "      <td>14.7508</td>\n",
              "    </tr>\n",
              "    <tr>\n",
              "      <th>3</th>\n",
              "      <td>Minivan</td>\n",
              "      <td>526</td>\n",
              "      <td>3.41803</td>\n",
              "    </tr>\n",
              "    <tr>\n",
              "      <th>4</th>\n",
              "      <td>Coupe</td>\n",
              "      <td>418</td>\n",
              "      <td>2.71623</td>\n",
              "    </tr>\n",
              "    <tr>\n",
              "      <th>5</th>\n",
              "      <td>Universal</td>\n",
              "      <td>287</td>\n",
              "      <td>1.86497</td>\n",
              "    </tr>\n",
              "    <tr>\n",
              "      <th>6</th>\n",
              "      <td>Microbus</td>\n",
              "      <td>246</td>\n",
              "      <td>1.59854</td>\n",
              "    </tr>\n",
              "    <tr>\n",
              "      <th>7</th>\n",
              "      <td>Goods wagon</td>\n",
              "      <td>194</td>\n",
              "      <td>1.26064</td>\n",
              "    </tr>\n",
              "    <tr>\n",
              "      <th>8</th>\n",
              "      <td>Pickup</td>\n",
              "      <td>40</td>\n",
              "      <td>0.259926</td>\n",
              "    </tr>\n",
              "    <tr>\n",
              "      <th>9</th>\n",
              "      <td>Cabriolet</td>\n",
              "      <td>28</td>\n",
              "      <td>0.181948</td>\n",
              "    </tr>\n",
              "    <tr>\n",
              "      <th>10</th>\n",
              "      <td>Limousine</td>\n",
              "      <td>9</td>\n",
              "      <td>0.0584833</td>\n",
              "    </tr>\n",
              "  </tbody>\n",
              "</table>\n",
              "</div>"
            ],
            "text/plain": [
              "       Category Value_counts %age_Value_counts\n",
              "0         Sedan         7007           45.5325\n",
              "1          Jeep         4364           28.3579\n",
              "2     Hatchback         2270           14.7508\n",
              "3       Minivan          526           3.41803\n",
              "4         Coupe          418           2.71623\n",
              "5     Universal          287           1.86497\n",
              "6      Microbus          246           1.59854\n",
              "7   Goods wagon          194           1.26064\n",
              "8        Pickup           40          0.259926\n",
              "9     Cabriolet           28          0.181948\n",
              "10    Limousine            9         0.0584833"
            ]
          },
          "metadata": {
            "tags": []
          },
          "execution_count": 55
        }
      ]
    },
    {
      "cell_type": "code",
      "metadata": {
        "id": "URdGOil-y0qT",
        "outputId": "6bcff38c-1558-4d18-85b7-3b42fb10b3df",
        "colab": {
          "base_uri": "https://localhost:8080/",
          "height": 396
        }
      },
      "source": [
        "fig, ax = plt.subplots(figsize=(8, 5))\n",
        "temp_df[\"%age_Value_counts\"].plot.bar(ax=ax)\n",
        "\n",
        "ax.set_xlabel(\"Category\", size=15)\n",
        "ax.set_ylabel(\"%age of Occurances\", size=15)\n",
        "\n",
        "ax.set_xticklabels(temp_df[\"Category\"])\n",
        "ax.grid()\n",
        "plt.show()"
      ],
      "execution_count": 58,
      "outputs": [
        {
          "output_type": "display_data",
          "data": {
            "image/png": "[encoded data removed]",
            "text/plain": [
              "<Figure size 576x360 with 1 Axes>"
            ]
          },
          "metadata": {
            "tags": [],
            "needs_background": "light"
          }
        }
      ]
    },
    {
      "cell_type": "markdown",
      "metadata": {
        "id": "US3B0C3i0GE-"
      },
      "source": [
        "Checking consistency in val and test sets"
      ]
    },
    {
      "cell_type": "code",
      "metadata": {
        "id": "tU6ddfCb0F5O",
        "outputId": "4a95964a-d208-427a-9e09-bba62a590499",
        "colab": {
          "base_uri": "https://localhost:8080/"
        }
      },
      "source": [
        "set(val_features[\"Category\"].unique()).difference(\n",
        "    set(train_features[\"Category\"].unique())\n",
        "  )"
      ],
      "execution_count": 61,
      "outputs": [
        {
          "output_type": "execute_result",
          "data": {
            "text/plain": [
              "set()"
            ]
          },
          "metadata": {
            "tags": []
          },
          "execution_count": 61
        }
      ]
    },
    {
      "cell_type": "code",
      "metadata": {
        "id": "zs8G5JHl0F07",
        "outputId": "6074a676-4299-4d16-f4bc-f06989c64aa1",
        "colab": {
          "base_uri": "https://localhost:8080/"
        }
      },
      "source": [
        "set(test_df[\"Category\"].unique()).difference(\n",
        "    set(train_features[\"Category\"].unique())\n",
        "  )"
      ],
      "execution_count": 63,
      "outputs": [
        {
          "output_type": "execute_result",
          "data": {
            "text/plain": [
              "set()"
            ]
          },
          "metadata": {
            "tags": []
          },
          "execution_count": 63
        }
      ]
    },
    {
      "cell_type": "markdown",
      "metadata": {
        "id": "TrGIC93w0gnr"
      },
      "source": [
        "#### Leather interior"
      ]
    },
    {
      "cell_type": "code",
      "metadata": {
        "id": "f0xuBwpL0hoG",
        "outputId": "89ad3233-1092-4771-8974-6c84c207f339",
        "colab": {
          "base_uri": "https://localhost:8080/"
        }
      },
      "source": [
        "train_features[\"Leather interior\"].value_counts()"
      ],
      "execution_count": 66,
      "outputs": [
        {
          "output_type": "execute_result",
          "data": {
            "text/plain": [
              "Yes    11195\n",
              "No      4194\n",
              "Name: Leather interior, dtype: int64"
            ]
          },
          "metadata": {
            "tags": []
          },
          "execution_count": 66
        }
      ]
    },
    {
      "cell_type": "code",
      "metadata": {
        "id": "U2GaOTkf0hi1",
        "outputId": "4c349c37-3467-45e1-eb19-7503aca261cc",
        "colab": {
          "base_uri": "https://localhost:8080/"
        }
      },
      "source": [
        "(train_features[\"Leather interior\"].value_counts()/train_features.shape[0])*100"
      ],
      "execution_count": 67,
      "outputs": [
        {
          "output_type": "execute_result",
          "data": {
            "text/plain": [
              "Yes    72.746767\n",
              "No     27.253233\n",
              "Name: Leather interior, dtype: float64"
            ]
          },
          "metadata": {
            "tags": []
          },
          "execution_count": 67
        }
      ]
    },
    {
      "cell_type": "markdown",
      "metadata": {
        "id": "ho1TDWIO1GvO"
      },
      "source": [
        "Val and test set"
      ]
    },
    {
      "cell_type": "code",
      "metadata": {
        "id": "61KOq3nt0hhD",
        "outputId": "bee29eb5-6aad-4e7d-ec00-c580397b54ec",
        "colab": {
          "base_uri": "https://localhost:8080/"
        }
      },
      "source": [
        "(val_features[\"Leather interior\"].value_counts()/val_features.shape[0])*100"
      ],
      "execution_count": 68,
      "outputs": [
        {
          "output_type": "execute_result",
          "data": {
            "text/plain": [
              "Yes    71.699584\n",
              "No     28.300416\n",
              "Name: Leather interior, dtype: float64"
            ]
          },
          "metadata": {
            "tags": []
          },
          "execution_count": 68
        }
      ]
    },
    {
      "cell_type": "code",
      "metadata": {
        "id": "-KBKPfTM1Lj0",
        "outputId": "f59185ce-5690-4634-feda-9d41ecb8506f",
        "colab": {
          "base_uri": "https://localhost:8080/"
        }
      },
      "source": [
        "(test_df[\"Leather interior\"].value_counts()/test_df.shape[0])*100"
      ],
      "execution_count": 69,
      "outputs": [
        {
          "output_type": "execute_result",
          "data": {
            "text/plain": [
              "Yes    72.431777\n",
              "No     27.568223\n",
              "Name: Leather interior, dtype: float64"
            ]
          },
          "metadata": {
            "tags": []
          },
          "execution_count": 69
        }
      ]
    },
    {
      "cell_type": "markdown",
      "metadata": {
        "id": "tuljWOpA1dk0"
      },
      "source": [
        "#### Fuel type"
      ]
    },
    {
      "cell_type": "code",
      "metadata": {
        "id": "z-n2nRGV1elb",
        "outputId": "97a7419b-a720-467b-fc24-f074bb300dcf",
        "colab": {
          "base_uri": "https://localhost:8080/",
          "height": 266
        }
      },
      "source": [
        "temp_series = train_features[\"Fuel type\"].value_counts()\n",
        "temp_df = pd.DataFrame(\n",
        "  np.c_[\n",
        "        temp_series.index, \n",
        "        temp_series.to_numpy(), \n",
        "        (temp_series.to_numpy()/train_features.shape[0])*100\n",
        "      ],\n",
        "  columns = [\"Fuel_Type\", \"Value_counts\", \"%age_Value_counts\"]\n",
        ")\n",
        "\n",
        "temp_df"
      ],
      "execution_count": 73,
      "outputs": [
        {
          "output_type": "execute_result",
          "data": {
            "text/html": [
              "<div>\n",
              "<style scoped>\n",
              "    .dataframe tbody tr th:only-of-type {\n",
              "        vertical-align: middle;\n",
              "    }\n",
              "\n",
              "    .dataframe tbody tr th {\n",
              "        vertical-align: top;\n",
              "    }\n",
              "\n",
              "    .dataframe thead th {\n",
              "        text-align: right;\n",
              "    }\n",
              "</style>\n",
              "<table border=\"1\" class=\"dataframe\">\n",
              "  <thead>\n",
              "    <tr style=\"text-align: right;\">\n",
              "      <th></th>\n",
              "      <th>Fuel_Type</th>\n",
              "      <th>Value_counts</th>\n",
              "      <th>%age_Value_counts</th>\n",
              "    </tr>\n",
              "  </thead>\n",
              "  <tbody>\n",
              "    <tr>\n",
              "      <th>0</th>\n",
              "      <td>Petrol</td>\n",
              "      <td>8095</td>\n",
              "      <td>52.6025</td>\n",
              "    </tr>\n",
              "    <tr>\n",
              "      <th>1</th>\n",
              "      <td>Diesel</td>\n",
              "      <td>3275</td>\n",
              "      <td>21.2814</td>\n",
              "    </tr>\n",
              "    <tr>\n",
              "      <th>2</th>\n",
              "      <td>Hybrid</td>\n",
              "      <td>2852</td>\n",
              "      <td>18.5327</td>\n",
              "    </tr>\n",
              "    <tr>\n",
              "      <th>3</th>\n",
              "      <td>LPG</td>\n",
              "      <td>704</td>\n",
              "      <td>4.5747</td>\n",
              "    </tr>\n",
              "    <tr>\n",
              "      <th>4</th>\n",
              "      <td>CNG</td>\n",
              "      <td>398</td>\n",
              "      <td>2.58626</td>\n",
              "    </tr>\n",
              "    <tr>\n",
              "      <th>5</th>\n",
              "      <td>Plug-in Hybrid</td>\n",
              "      <td>64</td>\n",
              "      <td>0.415881</td>\n",
              "    </tr>\n",
              "    <tr>\n",
              "      <th>6</th>\n",
              "      <td>Hydrogen</td>\n",
              "      <td>1</td>\n",
              "      <td>0.00649815</td>\n",
              "    </tr>\n",
              "  </tbody>\n",
              "</table>\n",
              "</div>"
            ],
            "text/plain": [
              "        Fuel_Type Value_counts %age_Value_counts\n",
              "0          Petrol         8095           52.6025\n",
              "1          Diesel         3275           21.2814\n",
              "2          Hybrid         2852           18.5327\n",
              "3             LPG          704            4.5747\n",
              "4             CNG          398           2.58626\n",
              "5  Plug-in Hybrid           64          0.415881\n",
              "6        Hydrogen            1        0.00649815"
            ]
          },
          "metadata": {
            "tags": []
          },
          "execution_count": 73
        }
      ]
    },
    {
      "cell_type": "code",
      "metadata": {
        "id": "-9HcsmNA443W",
        "outputId": "c9ef955d-ddc4-480d-c476-9b291dc20bf3",
        "colab": {
          "base_uri": "https://localhost:8080/",
          "height": 399
        }
      },
      "source": [
        "fig, ax = plt.subplots(figsize=(8, 5))\n",
        "temp_df[\"%age_Value_counts\"].plot.bar(ax=ax)\n",
        "\n",
        "ax.set_xlabel(\"Fuel Type\", size=15)\n",
        "ax.set_ylabel(\"%age of Occurances\", size=15)\n",
        "ax.set_xticklabels(temp_df[\"Fuel_Type\"])\n",
        "\n",
        "ax.grid()\n",
        "plt.show()"
      ],
      "execution_count": 74,
      "outputs": [
        {
          "output_type": "display_data",
          "data": {
            "image/png": "[encoded data removed]",
            "text/plain": [
              "<Figure size 576x360 with 1 Axes>"
            ]
          },
          "metadata": {
            "tags": [],
            "needs_background": "light"
          }
        }
      ]
    },
    {
      "cell_type": "markdown",
      "metadata": {
        "id": "5T5UuxLI5bK4"
      },
      "source": [
        "Checking consistence in val and test sets"
      ]
    },
    {
      "cell_type": "code",
      "metadata": {
        "id": "gJyb3gi65dZ2",
        "outputId": "f3f122e9-e4f7-49cc-ce77-7aa211ffeecb",
        "colab": {
          "base_uri": "https://localhost:8080/"
        }
      },
      "source": [
        "set(val_features[\"Fuel type\"].unique()).difference(\n",
        "    set(train_features[\"Fuel type\"].unique())\n",
        ")"
      ],
      "execution_count": 78,
      "outputs": [
        {
          "output_type": "execute_result",
          "data": {
            "text/plain": [
              "set()"
            ]
          },
          "metadata": {
            "tags": []
          },
          "execution_count": 78
        }
      ]
    },
    {
      "cell_type": "code",
      "metadata": {
        "id": "pGjyse5x5sUO",
        "outputId": "72c5e831-4f91-4dca-c3d9-302323c1e91f",
        "colab": {
          "base_uri": "https://localhost:8080/"
        }
      },
      "source": [
        "set(test_df[\"Fuel type\"].unique()).difference(\n",
        "    set(train_features[\"Fuel type\"].unique())\n",
        ")"
      ],
      "execution_count": 79,
      "outputs": [
        {
          "output_type": "execute_result",
          "data": {
            "text/plain": [
              "set()"
            ]
          },
          "metadata": {
            "tags": []
          },
          "execution_count": 79
        }
      ]
    },
    {
      "cell_type": "markdown",
      "metadata": {
        "id": "4wPNfb866K4y"
      },
      "source": [
        "#### Engine volume"
      ]
    },
    {
      "cell_type": "code",
      "metadata": {
        "id": "VZA8j6nW6Lvq",
        "outputId": "0328616c-f147-483c-a6f6-f9c854538429",
        "colab": {
          "base_uri": "https://localhost:8080/",
          "height": 221
        }
      },
      "source": [
        "turbo_idx = train_features[\"Engine volume\"].str.contains(\"Turbo\")\n",
        "temp_series = train_features[\"Engine volume\"]\n",
        "temp_series = temp_series.str.replace(\" Turbo\", \"\").astype(np.float)\n",
        "\n",
        "temp_df = pd.DataFrame(\n",
        "    np.c_[\n",
        "          temp_series.to_numpy(), \n",
        "          turbo_idx.to_numpy()\n",
        "        ], \n",
        "    columns = [\"Engine_volume\", \"Turbo\"]\n",
        "  )\n",
        "temp_df[\"Turbo\"] = temp_df[\"Turbo\"].astype(np.uint)\n",
        "print(temp_df.shape)\n",
        "temp_df.head()"
      ],
      "execution_count": 100,
      "outputs": [
        {
          "output_type": "stream",
          "text": [
            "(15389, 2)\n"
          ],
          "name": "stdout"
        },
        {
          "output_type": "execute_result",
          "data": {
            "text/html": [
              "<div>\n",
              "<style scoped>\n",
              "    .dataframe tbody tr th:only-of-type {\n",
              "        vertical-align: middle;\n",
              "    }\n",
              "\n",
              "    .dataframe tbody tr th {\n",
              "        vertical-align: top;\n",
              "    }\n",
              "\n",
              "    .dataframe thead th {\n",
              "        text-align: right;\n",
              "    }\n",
              "</style>\n",
              "<table border=\"1\" class=\"dataframe\">\n",
              "  <thead>\n",
              "    <tr style=\"text-align: right;\">\n",
              "      <th></th>\n",
              "      <th>Engine_volume</th>\n",
              "      <th>Turbo</th>\n",
              "    </tr>\n",
              "  </thead>\n",
              "  <tbody>\n",
              "    <tr>\n",
              "      <th>0</th>\n",
              "      <td>2.5</td>\n",
              "      <td>0</td>\n",
              "    </tr>\n",
              "    <tr>\n",
              "      <th>1</th>\n",
              "      <td>2.0</td>\n",
              "      <td>0</td>\n",
              "    </tr>\n",
              "    <tr>\n",
              "      <th>2</th>\n",
              "      <td>3.5</td>\n",
              "      <td>0</td>\n",
              "    </tr>\n",
              "    <tr>\n",
              "      <th>3</th>\n",
              "      <td>2.0</td>\n",
              "      <td>0</td>\n",
              "    </tr>\n",
              "    <tr>\n",
              "      <th>4</th>\n",
              "      <td>3.0</td>\n",
              "      <td>0</td>\n",
              "    </tr>\n",
              "  </tbody>\n",
              "</table>\n",
              "</div>"
            ],
            "text/plain": [
              "   Engine_volume  Turbo\n",
              "0            2.5      0\n",
              "1            2.0      0\n",
              "2            3.5      0\n",
              "3            2.0      0\n",
              "4            3.0      0"
            ]
          },
          "metadata": {
            "tags": []
          },
          "execution_count": 100
        }
      ]
    },
    {
      "cell_type": "code",
      "metadata": {
        "id": "JGq-pOPN9JU6",
        "outputId": "7291740d-18f0-4226-ce07-5abc0778d7b5",
        "colab": {
          "base_uri": "https://localhost:8080/"
        }
      },
      "source": [
        "temp_df[\"Turbo\"].value_counts()"
      ],
      "execution_count": 101,
      "outputs": [
        {
          "output_type": "execute_result",
          "data": {
            "text/plain": [
              "0    13848\n",
              "1     1541\n",
              "Name: Turbo, dtype: int64"
            ]
          },
          "metadata": {
            "tags": []
          },
          "execution_count": 101
        }
      ]
    },
    {
      "cell_type": "code",
      "metadata": {
        "id": "nkeJJdtaBAYl",
        "outputId": "a8f7445f-1fc8-4aa5-9bc1-ef9f4f7ed2b2",
        "colab": {
          "base_uri": "https://localhost:8080/"
        }
      },
      "source": [
        "temp_df[temp_df[\"Turbo\"] == 1][\"Engine_volume\"].describe()"
      ],
      "execution_count": 117,
      "outputs": [
        {
          "output_type": "execute_result",
          "data": {
            "text/plain": [
              "count    1541.000000\n",
              "mean        2.261129\n",
              "std         0.776757\n",
              "min         0.300000\n",
              "25%         1.800000\n",
              "50%         2.000000\n",
              "75%         2.700000\n",
              "max         6.300000\n",
              "Name: Engine_volume, dtype: float64"
            ]
          },
          "metadata": {
            "tags": []
          },
          "execution_count": 117
        }
      ]
    },
    {
      "cell_type": "code",
      "metadata": {
        "id": "7oiryQ1RBAUg",
        "outputId": "9bc3d89d-4354-4a68-d30d-490de1f0e76c",
        "colab": {
          "base_uri": "https://localhost:8080/"
        }
      },
      "source": [
        "temp_df[temp_df[\"Turbo\"] == 0][\"Engine_volume\"].describe()"
      ],
      "execution_count": 118,
      "outputs": [
        {
          "output_type": "execute_result",
          "data": {
            "text/plain": [
              "count    13848.000000\n",
              "mean         2.313294\n",
              "std          0.890661\n",
              "min          0.000000\n",
              "25%          1.800000\n",
              "50%          2.000000\n",
              "75%          2.500000\n",
              "max         20.000000\n",
              "Name: Engine_volume, dtype: float64"
            ]
          },
          "metadata": {
            "tags": []
          },
          "execution_count": 118
        }
      ]
    },
    {
      "cell_type": "code",
      "metadata": {
        "id": "epFt1-SD_uCC",
        "outputId": "9b0ffbfe-d52a-40e1-8bb9-10a728b7d6f6",
        "colab": {
          "base_uri": "https://localhost:8080/",
          "height": 567
        }
      },
      "source": [
        "fig, ax = plt.subplots(2, 2, figsize=(16, 10))\n",
        "\n",
        "temp_df[temp_df[\"Turbo\"] == 1][\"Engine_volume\"].plot.hist(ax=ax[0, 0])\n",
        "ax[0, 0].set_ylabel(\"Frequency\", size=15)\n",
        "ax[0, 0].set_title(\"Engine Volume for Turbo=1\", size=20)\n",
        "\n",
        "temp_df[temp_df[\"Turbo\"] == 0][\"Engine_volume\"].plot.hist(ax=ax[0, 1], bins=30)\n",
        "ax[0, 1].set_ylabel(\"Frequency\", size=15)\n",
        "ax[0, 1].set_title(\"Engine Volume for Turbo=0\", size=20)\n",
        "\n",
        "temp_df[temp_df[\"Turbo\"] == 1][[\"Engine_volume\"]].boxplot(ax=ax[1, 0])\n",
        "temp_df[temp_df[\"Turbo\"] == 0][[\"Engine_volume\"]].boxplot(ax=ax[1, 1])\n",
        "\n",
        "plt.show()"
      ],
      "execution_count": 123,
      "outputs": [
        {
          "output_type": "display_data",
          "data": {
            "image/png": "[encoded data removed]",
            "text/plain": [
              "<Figure size 1152x720 with 4 Axes>"
            ]
          },
          "metadata": {
            "tags": [],
            "needs_background": "light"
          }
        }
      ]
    },
    {
      "cell_type": "code",
      "metadata": {
        "id": "gZ_b5I9Q_t80",
        "outputId": "8ab2d522-c6ff-47de-ddb6-783804c0813a",
        "colab": {
          "base_uri": "https://localhost:8080/"
        }
      },
      "source": [
        "val_features[\"Engine volume\"].unique()"
      ],
      "execution_count": 125,
      "outputs": [
        {
          "output_type": "execute_result",
          "data": {
            "text/plain": [
              "array(['1.4', '2.9 Turbo', '1.8', '2', '1.6', '4.4', '2.5 Turbo', '3',\n",
              "       '4.6', '3.2', '2.4', '2.5', '2.2 Turbo', '2.7', '3.3', '1.3',\n",
              "       '1.6 Turbo', '3.5', '5', '1.8 Turbo', '6.3', '4.7', '1.5',\n",
              "       '2.7 Turbo', '2.9', '3.0 Turbo', '1', '1.5 Turbo', '2.2', '3.4',\n",
              "       '3.7', '2.3', '3.6', '5.5', '4', '2.8 Turbo', '4.4 Turbo', '1.7',\n",
              "       '2.8', '4.2 Turbo', '2.0 Turbo', '1.4 Turbo', '1.2 Turbo', '0.4',\n",
              "       '0.1', '1.2', '1.9', '0.6', '3.5 Turbo', '1.9 Turbo', '3.8', '6.2',\n",
              "       '3.7 Turbo', '2.1', '1.7 Turbo', '2.4 Turbo', '4.7 Turbo', '5.2',\n",
              "       '0.7', '4.5', '5.3', '6.7', '4.2', '3.9', '4.8', '5.5 Turbo',\n",
              "       '0.2', '5.7', '1.3 Turbo', '3.6 Turbo', '1.0 Turbo', '2.3 Turbo',\n",
              "       '4.5 Turbo', '2.1 Turbo', '0', '0.2 Turbo', '0.8', '6.4', '6',\n",
              "       '1.1', '3.2 Turbo', '4.0 Turbo', '0.9', '4.6 Turbo', '4.3', '2.6'],\n",
              "      dtype=object)"
            ]
          },
          "metadata": {
            "tags": []
          },
          "execution_count": 125
        }
      ]
    },
    {
      "cell_type": "code",
      "metadata": {
        "id": "dYqsPE0D_t6_",
        "outputId": "fbe71172-421a-41ea-82c8-b457ea84f5aa",
        "colab": {
          "base_uri": "https://localhost:8080/"
        }
      },
      "source": [
        "test_df[\"Engine volume\"].unique()"
      ],
      "execution_count": 127,
      "outputs": [
        {
          "output_type": "execute_result",
          "data": {
            "text/plain": [
              "array(['2.0 Turbo', '2.4', '1.5', '3.2', '1.6', '4.6', '3.5', '2', '1.8',\n",
              "       '2.5', '1.7', '2.2 Turbo', '2.3 Turbo', '4', '1.3', '3',\n",
              "       '1.4 Turbo', '2.2', '3.0 Turbo', '3.3', '2.9 Turbo', '1.4',\n",
              "       '3.2 Turbo', '4.8', '3.6', '2.7', '1.8 Turbo', '1', '1.5 Turbo',\n",
              "       '2.4 Turbo', '0.7', '5.5', '1.7 Turbo', '4.4', '4.7', '5', '1.2',\n",
              "       '2.8', '3.8', '1.6 Turbo', '2.6', '5.3', '3.7', '5.7', '6.6',\n",
              "       '1.3 Turbo', '2.3', '0.2', '4.7 Turbo', '2.5 Turbo', '6.4', '5.6',\n",
              "       '1.9 Turbo', '3.4', '5.5 Turbo', '6.7', '0.4', '4.4 Turbo',\n",
              "       '2.7 Turbo', '4.2', '2.1', '2.1 Turbo', '6.2', '0.8 Turbo', '0',\n",
              "       '6', '4.3', '1.9', '1.1', '4.6 Turbo', '3.1', '1.2 Turbo', '0.8',\n",
              "       '3.5 Turbo', '0.6 Turbo', '4.5 Turbo', '6.3', '6.1', '4.8 Turbo',\n",
              "       '0.5', '4.0 Turbo', '3.6 Turbo', '10.8', '0.7 Turbo', '5.4',\n",
              "       '3.7 Turbo', '4.2 Turbo', '4.5', '0.6', '2.8 Turbo', '2.9',\n",
              "       '0.3 Turbo', '1.0 Turbo', '5.2', '6.0 Turbo', '3.9', '2.6 Turbo'],\n",
              "      dtype=object)"
            ]
          },
          "metadata": {
            "tags": []
          },
          "execution_count": 127
        }
      ]
    },
    {
      "cell_type": "markdown",
      "metadata": {
        "id": "SLKP1U9iDhKw"
      },
      "source": [
        "#### Mileage"
      ]
    },
    {
      "cell_type": "code",
      "metadata": {
        "id": "vHDlo2VEDiQj",
        "outputId": "7878b108-0c29-4f1c-dfb6-32c256d2c7b3",
        "colab": {
          "base_uri": "https://localhost:8080/",
          "height": 221
        }
      },
      "source": [
        "temp_df = pd.DataFrame(\n",
        "  train_features[\"Mileage\"].str.replace(\" km\", \"\").astype(np.uint), \n",
        "  columns = [\"Mileage\"]\n",
        ")\n",
        "print(temp_df.shape)\n",
        "temp_df.head()"
      ],
      "execution_count": 135,
      "outputs": [
        {
          "output_type": "stream",
          "text": [
            "(15389, 1)\n"
          ],
          "name": "stdout"
        },
        {
          "output_type": "execute_result",
          "data": {
            "text/html": [
              "<div>\n",
              "<style scoped>\n",
              "    .dataframe tbody tr th:only-of-type {\n",
              "        vertical-align: middle;\n",
              "    }\n",
              "\n",
              "    .dataframe tbody tr th {\n",
              "        vertical-align: top;\n",
              "    }\n",
              "\n",
              "    .dataframe thead th {\n",
              "        text-align: right;\n",
              "    }\n",
              "</style>\n",
              "<table border=\"1\" class=\"dataframe\">\n",
              "  <thead>\n",
              "    <tr style=\"text-align: right;\">\n",
              "      <th></th>\n",
              "      <th>Mileage</th>\n",
              "    </tr>\n",
              "  </thead>\n",
              "  <tbody>\n",
              "    <tr>\n",
              "      <th>7808</th>\n",
              "      <td>225510</td>\n",
              "    </tr>\n",
              "    <tr>\n",
              "      <th>16766</th>\n",
              "      <td>76198</td>\n",
              "    </tr>\n",
              "    <tr>\n",
              "      <th>7285</th>\n",
              "      <td>189530</td>\n",
              "    </tr>\n",
              "    <tr>\n",
              "      <th>15712</th>\n",
              "      <td>218525</td>\n",
              "    </tr>\n",
              "    <tr>\n",
              "      <th>16562</th>\n",
              "      <td>25000</td>\n",
              "    </tr>\n",
              "  </tbody>\n",
              "</table>\n",
              "</div>"
            ],
            "text/plain": [
              "       Mileage\n",
              "7808    225510\n",
              "16766    76198\n",
              "7285    189530\n",
              "15712   218525\n",
              "16562    25000"
            ]
          },
          "metadata": {
            "tags": []
          },
          "execution_count": 135
        }
      ]
    },
    {
      "cell_type": "code",
      "metadata": {
        "id": "0XMTGl8CF_8b",
        "outputId": "b3df2f11-8a14-46ab-997a-0f0eacb7f34f",
        "colab": {
          "base_uri": "https://localhost:8080/"
        }
      },
      "source": [
        "temp_df[\"Mileage\"].describe()"
      ],
      "execution_count": 150,
      "outputs": [
        {
          "output_type": "execute_result",
          "data": {
            "text/plain": [
              "count    1.538900e+04\n",
              "mean     1.578701e+06\n",
              "std      4.962160e+07\n",
              "min      0.000000e+00\n",
              "25%      6.991800e+04\n",
              "50%      1.254450e+05\n",
              "75%      1.888880e+05\n",
              "max      2.147484e+09\n",
              "Name: Mileage, dtype: float64"
            ]
          },
          "metadata": {
            "tags": []
          },
          "execution_count": 150
        }
      ]
    },
    {
      "cell_type": "code",
      "metadata": {
        "id": "78izjDMQE7SW",
        "outputId": "6ffd689f-0365-4d40-9a81-5fba7f70b9a8",
        "colab": {
          "base_uri": "https://localhost:8080/",
          "height": 571
        }
      },
      "source": [
        "fig, ax = plt.subplots(2, 2, figsize=(16, 10))\n",
        "\n",
        "temp_df[temp_df[\"Mileage\"] < 8e+05][\"Mileage\"].plot.hist(bins=100, ax=ax[0, 0])\n",
        "ax[0, 0].set_ylabel(\"Frequency\", size=15)\n",
        "ax[0, 0].set_title(\"Mileage < 80,000\", size=20)\n",
        "ax[0, 0].grid()\n",
        "\n",
        "temp_df[temp_df[\"Mileage\"] < 8e+05][[\"Mileage\"]].boxplot(ax=ax[0, 1])\n",
        "ax[0, 1].set_title(\"Mileage < 80,000\", size=20)\n",
        "\n",
        "temp_df[\"Mileage\"].plot.hist(bins=100, ax=ax[1, 0])\n",
        "ax[1, 0].set_ylabel(\"Frequency\", size=15)\n",
        "ax[1, 0].set_title(\"All Mileage values\", size=20)\n",
        "ax[1, 0].grid()\n",
        "\n",
        "temp_df[[\"Mileage\"]].boxplot(ax=ax[1, 1])\n",
        "ax[1, 1].set_title(\"All Mileage values\", size=20)\n",
        "\n",
        "plt.show()"
      ],
      "execution_count": 169,
      "outputs": [
        {
          "output_type": "display_data",
          "data": {
            "image/png": "[encoded data removed]",
            "text/plain": [
              "<Figure size 1152x720 with 4 Axes>"
            ]
          },
          "metadata": {
            "tags": [],
            "needs_background": "light"
          }
        }
      ]
    },
    {
      "cell_type": "code",
      "metadata": {
        "id": "2HEmLRXDH_rF",
        "outputId": "5aac5d46-f6db-4f7d-a214-b2f8a8e3aa9f",
        "colab": {
          "base_uri": "https://localhost:8080/"
        }
      },
      "source": [
        "val_features[\"Mileage\"].str.replace(\" km\", \"\").astype(np.uint).describe()"
      ],
      "execution_count": 172,
      "outputs": [
        {
          "output_type": "execute_result",
          "data": {
            "text/plain": [
              "count    3.848000e+03\n",
              "mean     1.346411e+06\n",
              "std      4.319754e+07\n",
              "min      0.000000e+00\n",
              "25%      7.266975e+04\n",
              "50%      1.280000e+05\n",
              "75%      1.888500e+05\n",
              "max      2.147484e+09\n",
              "Name: Mileage, dtype: float64"
            ]
          },
          "metadata": {
            "tags": []
          },
          "execution_count": 172
        }
      ]
    },
    {
      "cell_type": "code",
      "metadata": {
        "id": "b_YXSdHxIKHs",
        "outputId": "b4a5461a-c28e-41c3-a91e-d93753059c7b",
        "colab": {
          "base_uri": "https://localhost:8080/"
        }
      },
      "source": [
        "test_df[\"Mileage\"].str.replace(\" km\", \"\").astype(np.uint).describe()"
      ],
      "execution_count": 173,
      "outputs": [
        {
          "output_type": "execute_result",
          "data": {
            "text/plain": [
              "count    8.245000e+03\n",
              "mean     1.318247e+06\n",
              "std      4.776089e+07\n",
              "min      0.000000e+00\n",
              "25%      7.155100e+04\n",
              "50%      1.276750e+05\n",
              "75%      1.920000e+05\n",
              "max      2.147484e+09\n",
              "Name: Mileage, dtype: float64"
            ]
          },
          "metadata": {
            "tags": []
          },
          "execution_count": 173
        }
      ]
    },
    {
      "cell_type": "markdown",
      "metadata": {
        "id": "DozbmfEnIqsG"
      },
      "source": [
        "#### Gear box type"
      ]
    },
    {
      "cell_type": "code",
      "metadata": {
        "id": "Pc1l3PlCIsFC",
        "outputId": "9dbc1d06-1a87-448b-c142-2b50320759ad",
        "colab": {
          "base_uri": "https://localhost:8080/",
          "height": 173
        }
      },
      "source": [
        "temp_series  = train_features[\"Gear box type\"].value_counts()\n",
        "temp_df = pd.DataFrame(\n",
        "  np.c_[\n",
        "        temp_series.index,\n",
        "        temp_series.to_numpy(), \n",
        "        (temp_series.to_numpy()/train_features.shape[0])*100\n",
        "  ], \n",
        "  columns=[\"Gear_box_type\", \"Value_counts\", \"%age_Value_counts\"]\n",
        ")\n",
        "temp_df"
      ],
      "execution_count": 177,
      "outputs": [
        {
          "output_type": "execute_result",
          "data": {
            "text/html": [
              "<div>\n",
              "<style scoped>\n",
              "    .dataframe tbody tr th:only-of-type {\n",
              "        vertical-align: middle;\n",
              "    }\n",
              "\n",
              "    .dataframe tbody tr th {\n",
              "        vertical-align: top;\n",
              "    }\n",
              "\n",
              "    .dataframe thead th {\n",
              "        text-align: right;\n",
              "    }\n",
              "</style>\n",
              "<table border=\"1\" class=\"dataframe\">\n",
              "  <thead>\n",
              "    <tr style=\"text-align: right;\">\n",
              "      <th></th>\n",
              "      <th>Gear_box_type</th>\n",
              "      <th>Value_counts</th>\n",
              "      <th>%age_Value_counts</th>\n",
              "    </tr>\n",
              "  </thead>\n",
              "  <tbody>\n",
              "    <tr>\n",
              "      <th>0</th>\n",
              "      <td>Automatic</td>\n",
              "      <td>10823</td>\n",
              "      <td>70.3295</td>\n",
              "    </tr>\n",
              "    <tr>\n",
              "      <th>1</th>\n",
              "      <td>Tiptronic</td>\n",
              "      <td>2486</td>\n",
              "      <td>16.1544</td>\n",
              "    </tr>\n",
              "    <tr>\n",
              "      <th>2</th>\n",
              "      <td>Manual</td>\n",
              "      <td>1486</td>\n",
              "      <td>9.65625</td>\n",
              "    </tr>\n",
              "    <tr>\n",
              "      <th>3</th>\n",
              "      <td>Variator</td>\n",
              "      <td>594</td>\n",
              "      <td>3.8599</td>\n",
              "    </tr>\n",
              "  </tbody>\n",
              "</table>\n",
              "</div>"
            ],
            "text/plain": [
              "  Gear_box_type Value_counts %age_Value_counts\n",
              "0     Automatic        10823           70.3295\n",
              "1     Tiptronic         2486           16.1544\n",
              "2        Manual         1486           9.65625\n",
              "3      Variator          594            3.8599"
            ]
          },
          "metadata": {
            "tags": []
          },
          "execution_count": 177
        }
      ]
    },
    {
      "cell_type": "code",
      "metadata": {
        "id": "mPKmQ0NgIsAa",
        "outputId": "108446d8-bbf6-4a19-e9ce-5c5d2bccbd14",
        "colab": {
          "base_uri": "https://localhost:8080/",
          "height": 380
        }
      },
      "source": [
        "fig, ax = plt.subplots(figsize=(8, 5))\n",
        "temp_df[\"%age_Value_counts\"].plot.bar(ax=ax)\n",
        "ax.set_xlabel(\"Gear Box Type\", size=15)\n",
        "ax.set_ylabel(\"Frequency\", size=15)\n",
        "ax.set_xticklabels(temp_df[\"Gear_box_type\"])\n",
        "ax.grid()\n",
        "plt.show()"
      ],
      "execution_count": 178,
      "outputs": [
        {
          "output_type": "display_data",
          "data": {
            "image/png": "[encoded data removed]",
            "text/plain": [
              "<Figure size 576x360 with 1 Axes>"
            ]
          },
          "metadata": {
            "tags": [],
            "needs_background": "light"
          }
        }
      ]
    },
    {
      "cell_type": "markdown",
      "metadata": {
        "id": "g4kfdxKJYKQb"
      },
      "source": [
        "Val and test set sanity checks"
      ]
    },
    {
      "cell_type": "code",
      "metadata": {
        "id": "seeO48uvXt3z",
        "outputId": "3e717806-8ffc-4f61-f9d9-d05fb0d58bec",
        "colab": {
          "base_uri": "https://localhost:8080/"
        }
      },
      "source": [
        "set(val_features[\"Gear box type\"].unique()).difference(\n",
        "  set(val_features[\"Gear box type\"].unique())\n",
        ")"
      ],
      "execution_count": 179,
      "outputs": [
        {
          "output_type": "execute_result",
          "data": {
            "text/plain": [
              "set()"
            ]
          },
          "metadata": {
            "tags": []
          },
          "execution_count": 179
        }
      ]
    },
    {
      "cell_type": "code",
      "metadata": {
        "id": "pC16mJPlIr_K",
        "outputId": "c2acf292-9890-4ce7-b2fd-0cddf6e02168",
        "colab": {
          "base_uri": "https://localhost:8080/"
        }
      },
      "source": [
        "set(test_df[\"Gear box type\"].unique()).difference(\n",
        "  set(val_features[\"Gear box type\"].unique())\n",
        ")"
      ],
      "execution_count": 180,
      "outputs": [
        {
          "output_type": "execute_result",
          "data": {
            "text/plain": [
              "set()"
            ]
          },
          "metadata": {
            "tags": []
          },
          "execution_count": 180
        }
      ]
    },
    {
      "cell_type": "markdown",
      "metadata": {
        "id": "l3U54l6yl-gS"
      },
      "source": [
        "#### Drive wheels"
      ]
    },
    {
      "cell_type": "code",
      "metadata": {
        "id": "btWD-k__Ir8G",
        "outputId": "0ba65dd0-6241-455c-fbab-dfb965362298",
        "colab": {
          "base_uri": "https://localhost:8080/",
          "height": 142
        }
      },
      "source": [
        "temp_series = train_features[\"Drive wheels\"].value_counts()\n",
        "temp_df = pd.DataFrame(\n",
        "  np.c_[\n",
        "        temp_series.index,\n",
        "        temp_series.to_numpy(), \n",
        "        (temp_series.to_numpy()/train_features.shape[0])*100\n",
        "  ], \n",
        "  columns=[\"Drive_wheels\", \"Value_counts\", \"%age_Value_counts\"]\n",
        ")\n",
        "temp_df"
      ],
      "execution_count": 183,
      "outputs": [
        {
          "output_type": "execute_result",
          "data": {
            "text/html": [
              "<div>\n",
              "<style scoped>\n",
              "    .dataframe tbody tr th:only-of-type {\n",
              "        vertical-align: middle;\n",
              "    }\n",
              "\n",
              "    .dataframe tbody tr th {\n",
              "        vertical-align: top;\n",
              "    }\n",
              "\n",
              "    .dataframe thead th {\n",
              "        text-align: right;\n",
              "    }\n",
              "</style>\n",
              "<table border=\"1\" class=\"dataframe\">\n",
              "  <thead>\n",
              "    <tr style=\"text-align: right;\">\n",
              "      <th></th>\n",
              "      <th>Drive_wheels</th>\n",
              "      <th>Value_counts</th>\n",
              "      <th>%age_Value_counts</th>\n",
              "    </tr>\n",
              "  </thead>\n",
              "  <tbody>\n",
              "    <tr>\n",
              "      <th>0</th>\n",
              "      <td>Front</td>\n",
              "      <td>10339</td>\n",
              "      <td>67.1844</td>\n",
              "    </tr>\n",
              "    <tr>\n",
              "      <th>1</th>\n",
              "      <td>4x4</td>\n",
              "      <td>3183</td>\n",
              "      <td>20.6836</td>\n",
              "    </tr>\n",
              "    <tr>\n",
              "      <th>2</th>\n",
              "      <td>Rear</td>\n",
              "      <td>1867</td>\n",
              "      <td>12.132</td>\n",
              "    </tr>\n",
              "  </tbody>\n",
              "</table>\n",
              "</div>"
            ],
            "text/plain": [
              "  Drive_wheels Value_counts %age_Value_counts\n",
              "0        Front        10339           67.1844\n",
              "1          4x4         3183           20.6836\n",
              "2         Rear         1867            12.132"
            ]
          },
          "metadata": {
            "tags": []
          },
          "execution_count": 183
        }
      ]
    },
    {
      "cell_type": "code",
      "metadata": {
        "id": "cPkMu6Win3kf",
        "outputId": "54346c00-0003-41f6-969d-42c8a1be3453",
        "colab": {
          "base_uri": "https://localhost:8080/"
        }
      },
      "source": [
        "set(val_features[\"Drive wheels\"].unique()).difference(\n",
        "  set(val_features[\"Drive wheels\"].unique())\n",
        ")"
      ],
      "execution_count": 184,
      "outputs": [
        {
          "output_type": "execute_result",
          "data": {
            "text/plain": [
              "set()"
            ]
          },
          "metadata": {
            "tags": []
          },
          "execution_count": 184
        }
      ]
    },
    {
      "cell_type": "code",
      "metadata": {
        "id": "5Dse2TBKn_L2",
        "outputId": "664dcdb9-3008-4a91-9377-3f94e0bf7138",
        "colab": {
          "base_uri": "https://localhost:8080/"
        }
      },
      "source": [
        "set(test_df[\"Drive wheels\"].unique()).difference(\n",
        "  set(val_features[\"Drive wheels\"].unique())\n",
        ")"
      ],
      "execution_count": 185,
      "outputs": [
        {
          "output_type": "execute_result",
          "data": {
            "text/plain": [
              "set()"
            ]
          },
          "metadata": {
            "tags": []
          },
          "execution_count": 185
        }
      ]
    },
    {
      "cell_type": "markdown",
      "metadata": {
        "id": "pCoEVgxpqmiV"
      },
      "source": [
        "#### Doors"
      ]
    },
    {
      "cell_type": "code",
      "metadata": {
        "id": "QWq53YUiqnoJ",
        "outputId": "3070bba7-466c-495a-f37a-fa74beb4327e",
        "colab": {
          "base_uri": "https://localhost:8080/"
        }
      },
      "source": [
        "(train_features[\"Doors\"].value_counts()/train_features.shape[0])*100"
      ],
      "execution_count": 189,
      "outputs": [
        {
          "output_type": "execute_result",
          "data": {
            "text/plain": [
              "04-May    95.282345\n",
              "02-Mar     3.976867\n",
              ">5         0.740789\n",
              "Name: Doors, dtype: float64"
            ]
          },
          "metadata": {
            "tags": []
          },
          "execution_count": 189
        }
      ]
    },
    {
      "cell_type": "code",
      "metadata": {
        "id": "lVxYFvnKrsC_",
        "outputId": "fae3166d-81e4-420f-a75b-050221147c2a",
        "colab": {
          "base_uri": "https://localhost:8080/"
        }
      },
      "source": [
        "(val_features[\"Doors\"].value_counts()/val_features.shape[0])*100"
      ],
      "execution_count": 190,
      "outputs": [
        {
          "output_type": "execute_result",
          "data": {
            "text/plain": [
              "04-May    95.348233\n",
              "02-Mar     4.287942\n",
              ">5         0.363825\n",
              "Name: Doors, dtype: float64"
            ]
          },
          "metadata": {
            "tags": []
          },
          "execution_count": 190
        }
      ]
    },
    {
      "cell_type": "code",
      "metadata": {
        "id": "x7uBmzXNqnmE",
        "outputId": "2f048605-b02c-4804-fde1-44cfe0d5e635",
        "colab": {
          "base_uri": "https://localhost:8080/"
        }
      },
      "source": [
        "(test_df[\"Doors\"].value_counts()/test_df.shape[0])*100"
      ],
      "execution_count": 191,
      "outputs": [
        {
          "output_type": "execute_result",
          "data": {
            "text/plain": [
              "04-May    95.100061\n",
              "02-Mar     4.269254\n",
              ">5         0.630685\n",
              "Name: Doors, dtype: float64"
            ]
          },
          "metadata": {
            "tags": []
          },
          "execution_count": 191
        }
      ]
    },
    {
      "cell_type": "markdown",
      "metadata": {
        "id": "lZVu1-M3sVN5"
      },
      "source": [
        "#### Wheel"
      ]
    },
    {
      "cell_type": "code",
      "metadata": {
        "id": "zQ_bOF7uqnjQ",
        "outputId": "3e529023-73b4-4faa-fd6e-e66a9ba2e0e6",
        "colab": {
          "base_uri": "https://localhost:8080/"
        }
      },
      "source": [
        "(train_features[\"Wheel\"].value_counts()/train_features.shape[0])*100"
      ],
      "execution_count": 194,
      "outputs": [
        {
          "output_type": "execute_result",
          "data": {
            "text/plain": [
              "Left wheel          92.397167\n",
              "Right-hand drive     7.602833\n",
              "Name: Wheel, dtype: float64"
            ]
          },
          "metadata": {
            "tags": []
          },
          "execution_count": 194
        }
      ]
    },
    {
      "cell_type": "code",
      "metadata": {
        "id": "bLFPBatLsrMm",
        "outputId": "a9bfd880-d138-40c5-f61c-b1bc18c724f2",
        "colab": {
          "base_uri": "https://localhost:8080/"
        }
      },
      "source": [
        "(val_features[\"Wheel\"].value_counts()/val_features.shape[0])*100"
      ],
      "execution_count": 195,
      "outputs": [
        {
          "output_type": "execute_result",
          "data": {
            "text/plain": [
              "Left wheel          91.839917\n",
              "Right-hand drive     8.160083\n",
              "Name: Wheel, dtype: float64"
            ]
          },
          "metadata": {
            "tags": []
          },
          "execution_count": 195
        }
      ]
    },
    {
      "cell_type": "code",
      "metadata": {
        "id": "zLT7VWKxsrIV",
        "outputId": "37849e47-d138-4568-b4ca-358279dd41e2",
        "colab": {
          "base_uri": "https://localhost:8080/"
        }
      },
      "source": [
        "(test_df[\"Wheel\"].value_counts()/test_df.shape[0])*100"
      ],
      "execution_count": 196,
      "outputs": [
        {
          "output_type": "execute_result",
          "data": {
            "text/plain": [
              "Left wheel          92.553062\n",
              "Right-hand drive     7.446938\n",
              "Name: Wheel, dtype: float64"
            ]
          },
          "metadata": {
            "tags": []
          },
          "execution_count": 196
        }
      ]
    },
    {
      "cell_type": "markdown",
      "metadata": {
        "id": "qJ6m39zTtKJG"
      },
      "source": [
        "#### Color"
      ]
    },
    {
      "cell_type": "code",
      "metadata": {
        "id": "Nl5GmrUbtLQK",
        "outputId": "aa9c370e-3a16-4ecc-827e-47b726692029",
        "colab": {
          "base_uri": "https://localhost:8080/",
          "height": 545
        }
      },
      "source": [
        "temp_series = train_features[\"Color\"].value_counts()\n",
        "temp_df = pd.DataFrame(\n",
        "  np.c_[\n",
        "        temp_series.index,\n",
        "        temp_series.to_numpy(), \n",
        "        (temp_series.to_numpy()/train_features.shape[0])*100\n",
        "  ], \n",
        "  columns=[\"Color\", \"Value_counts\", \"%age_Value_counts\"]\n",
        ")\n",
        "temp_df"
      ],
      "execution_count": 199,
      "outputs": [
        {
          "output_type": "execute_result",
          "data": {
            "text/html": [
              "<div>\n",
              "<style scoped>\n",
              "    .dataframe tbody tr th:only-of-type {\n",
              "        vertical-align: middle;\n",
              "    }\n",
              "\n",
              "    .dataframe tbody tr th {\n",
              "        vertical-align: top;\n",
              "    }\n",
              "\n",
              "    .dataframe thead th {\n",
              "        text-align: right;\n",
              "    }\n",
              "</style>\n",
              "<table border=\"1\" class=\"dataframe\">\n",
              "  <thead>\n",
              "    <tr style=\"text-align: right;\">\n",
              "      <th></th>\n",
              "      <th>Color</th>\n",
              "      <th>Value_counts</th>\n",
              "      <th>%age_Value_counts</th>\n",
              "    </tr>\n",
              "  </thead>\n",
              "  <tbody>\n",
              "    <tr>\n",
              "      <th>0</th>\n",
              "      <td>Black</td>\n",
              "      <td>4005</td>\n",
              "      <td>26.0251</td>\n",
              "    </tr>\n",
              "    <tr>\n",
              "      <th>1</th>\n",
              "      <td>White</td>\n",
              "      <td>3576</td>\n",
              "      <td>23.2374</td>\n",
              "    </tr>\n",
              "    <tr>\n",
              "      <th>2</th>\n",
              "      <td>Silver</td>\n",
              "      <td>3073</td>\n",
              "      <td>19.9688</td>\n",
              "    </tr>\n",
              "    <tr>\n",
              "      <th>3</th>\n",
              "      <td>Grey</td>\n",
              "      <td>1902</td>\n",
              "      <td>12.3595</td>\n",
              "    </tr>\n",
              "    <tr>\n",
              "      <th>4</th>\n",
              "      <td>Blue</td>\n",
              "      <td>1111</td>\n",
              "      <td>7.21944</td>\n",
              "    </tr>\n",
              "    <tr>\n",
              "      <th>5</th>\n",
              "      <td>Red</td>\n",
              "      <td>516</td>\n",
              "      <td>3.35304</td>\n",
              "    </tr>\n",
              "    <tr>\n",
              "      <th>6</th>\n",
              "      <td>Green</td>\n",
              "      <td>258</td>\n",
              "      <td>1.67652</td>\n",
              "    </tr>\n",
              "    <tr>\n",
              "      <th>7</th>\n",
              "      <td>Orange</td>\n",
              "      <td>218</td>\n",
              "      <td>1.4166</td>\n",
              "    </tr>\n",
              "    <tr>\n",
              "      <th>8</th>\n",
              "      <td>Brown</td>\n",
              "      <td>148</td>\n",
              "      <td>0.961726</td>\n",
              "    </tr>\n",
              "    <tr>\n",
              "      <th>9</th>\n",
              "      <td>Carnelian red</td>\n",
              "      <td>141</td>\n",
              "      <td>0.916239</td>\n",
              "    </tr>\n",
              "    <tr>\n",
              "      <th>10</th>\n",
              "      <td>Golden</td>\n",
              "      <td>108</td>\n",
              "      <td>0.7018</td>\n",
              "    </tr>\n",
              "    <tr>\n",
              "      <th>11</th>\n",
              "      <td>Beige</td>\n",
              "      <td>103</td>\n",
              "      <td>0.669309</td>\n",
              "    </tr>\n",
              "    <tr>\n",
              "      <th>12</th>\n",
              "      <td>Sky blue</td>\n",
              "      <td>95</td>\n",
              "      <td>0.617324</td>\n",
              "    </tr>\n",
              "    <tr>\n",
              "      <th>13</th>\n",
              "      <td>Yellow</td>\n",
              "      <td>79</td>\n",
              "      <td>0.513354</td>\n",
              "    </tr>\n",
              "    <tr>\n",
              "      <th>14</th>\n",
              "      <td>Purple</td>\n",
              "      <td>35</td>\n",
              "      <td>0.227435</td>\n",
              "    </tr>\n",
              "    <tr>\n",
              "      <th>15</th>\n",
              "      <td>Pink</td>\n",
              "      <td>21</td>\n",
              "      <td>0.136461</td>\n",
              "    </tr>\n",
              "  </tbody>\n",
              "</table>\n",
              "</div>"
            ],
            "text/plain": [
              "            Color Value_counts %age_Value_counts\n",
              "0           Black         4005           26.0251\n",
              "1           White         3576           23.2374\n",
              "2          Silver         3073           19.9688\n",
              "3            Grey         1902           12.3595\n",
              "4            Blue         1111           7.21944\n",
              "5             Red          516           3.35304\n",
              "6           Green          258           1.67652\n",
              "7          Orange          218            1.4166\n",
              "8           Brown          148          0.961726\n",
              "9   Carnelian red          141          0.916239\n",
              "10         Golden          108            0.7018\n",
              "11          Beige          103          0.669309\n",
              "12       Sky blue           95          0.617324\n",
              "13         Yellow           79          0.513354\n",
              "14         Purple           35          0.227435\n",
              "15           Pink           21          0.136461"
            ]
          },
          "metadata": {
            "tags": []
          },
          "execution_count": 199
        }
      ]
    },
    {
      "cell_type": "code",
      "metadata": {
        "id": "UrdtnWTfuVKW",
        "outputId": "0837f9cf-cfdd-47f6-fe05-769a2bb92586",
        "colab": {
          "base_uri": "https://localhost:8080/",
          "height": 396
        }
      },
      "source": [
        "fig, ax = plt.subplots(figsize=(8, 5))\n",
        "temp_df[\"%age_Value_counts\"].plot.bar(ax=ax)\n",
        "ax.set_xlabel(\"Color\", size=15)\n",
        "ax.set_ylabel(\"Frequency\", size=15)\n",
        "ax.set_xticklabels(temp_df[\"Color\"])\n",
        "ax.grid()\n",
        "plt.show()"
      ],
      "execution_count": 201,
      "outputs": [
        {
          "output_type": "display_data",
          "data": {
            "image/png": "[encoded data removed]",
            "text/plain": [
              "<Figure size 576x360 with 1 Axes>"
            ]
          },
          "metadata": {
            "tags": [],
            "needs_background": "light"
          }
        }
      ]
    },
    {
      "cell_type": "code",
      "metadata": {
        "id": "KEXmAqTNuVGo",
        "outputId": "50576cf2-8710-4f60-f17c-908cd9544d71",
        "colab": {
          "base_uri": "https://localhost:8080/"
        }
      },
      "source": [
        "set(val_features[\"Color\"].unique()).difference(\n",
        "  set(val_features[\"Color\"].unique())\n",
        ")"
      ],
      "execution_count": 202,
      "outputs": [
        {
          "output_type": "execute_result",
          "data": {
            "text/plain": [
              "set()"
            ]
          },
          "metadata": {
            "tags": []
          },
          "execution_count": 202
        }
      ]
    },
    {
      "cell_type": "code",
      "metadata": {
        "id": "slmM815CwYwW",
        "outputId": "621e9e91-5b1a-4e00-f603-6840bbe3c9f8",
        "colab": {
          "base_uri": "https://localhost:8080/"
        }
      },
      "source": [
        "set(test_df[\"Color\"].unique()).difference(\n",
        "  set(test_df[\"Color\"].unique())\n",
        ")"
      ],
      "execution_count": 203,
      "outputs": [
        {
          "output_type": "execute_result",
          "data": {
            "text/plain": [
              "set()"
            ]
          },
          "metadata": {
            "tags": []
          },
          "execution_count": 203
        }
      ]
    },
    {
      "cell_type": "markdown",
      "metadata": {
        "id": "k7ywACmQikfi"
      },
      "source": [
        "\n",
        "# Notes"
      ]
    },
    {
      "cell_type": "markdown",
      "metadata": {
        "id": "VyQR9YUy8_Ij"
      },
      "source": [
        "**Preliminary EDA**\n",
        "- Data has no NAN values in train or test. Need to check whether NANs are represented as dashes or strings."
      ]
    },
    {
      "cell_type": "markdown",
      "metadata": {
        "id": "vRjLvrkUioBe"
      },
      "source": [
        "**EDA for each column**\n",
        "\n",
        "Data is split using train_test_split into train and val sets (80-20 split). All EDA done on train set only"
      ]
    },
    {
      "cell_type": "markdown",
      "metadata": {
        "id": "Bg9Ql6ue9EHB"
      },
      "source": [
        "- Numerical Data Types\n",
        "  1. `Prod. year`: Most of the data points come from 2010-2017\n",
        "  2. `Cylinders`: Convert this to `int` from `float`. Most of the cars have 4 cylinders (>74%), so might not be very useful. Could be used as a categorical feature. There is a big outlier in the test set.\n",
        "  3. `Airbags`: Convert this to `int` from `float`. Not as unbalanced as `Cylinders`. From simple intuition, having more `Cylinders` or `Airbags` seem like factors that can make a car more expensive. Explore this theory in bivariate exploration."
      ]
    },
    {
      "cell_type": "markdown",
      "metadata": {
        "id": "aGC1qfPQ9HU6"
      },
      "source": [
        "- Object Data Type\n",
        "  1. `Levy`: Normally distributed but extremely right skewed. 30% values are Null (`\"-\"`). Find suitable imputation methods for the Null values. High `Levy` intuitively means high price, so maybe outlier removal should not be used here. Explore the approach anyway.\n",
        "  2. `Manufacturer`: There are 64 manufacturers. Most of them are highly uncommon. Try to split these into a few categories like common-uncommon, cheap-expensive, etc. instead of using all 64 categories as is. 1 manufacturer in validation set and 3 manufacturers in test set are not in train set. All these have only 1 row each.\n",
        "  3. `Model`: There are plenty of models. Some are common. Most are rare. Validation and test sets also have many models that are not in train sets. Categories like common-uncommon should be used here mostly.\n",
        "  4. `Category`: A few types in this feature are common. But can group these into functional categories like car-suv-van-luxury etc.\n",
        "  5. `Leather interior`: Binary variable. Mostly all records are `Yes` (70% in all sets).\n",
        "  6. `Fuel type`: A few common types. Type of fuel will affect the engine type and so should affect cost. Explore cost relationships with fuel type more.\n",
        "  7. `Engine volume`: There are 2 categories - Turbo and no turbo. Check price relations with both. Both are normally distributed but with some outliers.\n",
        "  8. `Mileage`: There is a big right skew in this distribution. Need to consider outlier removal, or clipping etc. Val and test sets also show similar  outlier trends. Many values are `0`. These could indicate new cars and should be appropriately used in features.\n",
        "  9. `Gear box type`: There are a few categories only. Nothing unusual in test and val sets as well. Should be ok to convert into categories and explore further.\n",
        "  10. `Drive wheels`: 3 (Unbalanced) categories in all the sets. \n",
        "  11. `Doors`: 3 (Unbalanced) categories in all the sets.\n",
        "  12. `Wheel`: 2 (Unbalanced) categories in all the sets.\n",
        "  13. `Color`: A few categories. Nothing unusual in train, val ans test sets."
      ]
    },
    {
      "cell_type": "markdown",
      "metadata": {
        "id": "Kj1zlyI8zL-T"
      },
      "source": [
        "# Exporting datasets"
      ]
    },
    {
      "cell_type": "code",
      "metadata": {
        "id": "_qDOsn3wyk0U"
      },
      "source": [
        "train_features.to_csv(\"train_features.csv\", index=False)\n",
        "train_targets.to_csv(\"train_targets.csv\", index=False)\n",
        "\n",
        "val_features.to_csv(\"val_features.csv\", index=False)\n",
        "val_targets.to_csv(\"val_targets.csv\", index=False)\n",
        "\n",
        "test_df.to_csv(\"test_df.csv\", index=False)"
      ],
      "execution_count": 206,
      "outputs": []
    }
  ]
}