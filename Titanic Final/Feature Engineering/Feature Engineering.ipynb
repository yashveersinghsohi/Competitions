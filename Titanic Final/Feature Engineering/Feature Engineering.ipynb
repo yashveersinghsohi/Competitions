{
 "cells": [
  {
   "cell_type": "markdown",
   "metadata": {},
   "source": [
    "# Importing Required Packages"
   ]
  },
  {
   "cell_type": "code",
   "execution_count": 1,
   "metadata": {
    "ExecuteTime": {
     "end_time": "2020-11-06T03:06:17.071405Z",
     "start_time": "2020-11-06T03:06:13.613652Z"
    }
   },
   "outputs": [],
   "source": [
    "import pandas as pd\n",
    "import numpy as np\n",
    "import matplotlib.pyplot as plt\n",
    "import seaborn as sns\n",
    "\n",
    "from sklearn.preprocessing import LabelEncoder\n",
    "from sklearn.feature_selection import SelectKBest, chi2\n",
    "\n",
    "import warnings\n",
    "warnings.filterwarnings(\"ignore\")\n",
    "\n",
    "sns.set()"
   ]
  },
  {
   "cell_type": "markdown",
   "metadata": {},
   "source": [
    "# Importing Data"
   ]
  },
  {
   "cell_type": "code",
   "execution_count": 2,
   "metadata": {
    "ExecuteTime": {
     "end_time": "2020-11-06T03:06:17.119275Z",
     "start_time": "2020-11-06T03:06:17.075394Z"
    }
   },
   "outputs": [],
   "source": [
    "train_backup = pd.read_csv(\"../Data/preprocessed_train_df.csv\")\n",
    "train_df = train_backup.copy()"
   ]
  },
  {
   "cell_type": "code",
   "execution_count": 3,
   "metadata": {
    "ExecuteTime": {
     "end_time": "2020-11-06T03:06:17.244940Z",
     "start_time": "2020-11-06T03:06:17.121273Z"
    }
   },
   "outputs": [
    {
     "data": {
      "text/html": [
       "<div>\n",
       "<style scoped>\n",
       "    .dataframe tbody tr th:only-of-type {\n",
       "        vertical-align: middle;\n",
       "    }\n",
       "\n",
       "    .dataframe tbody tr th {\n",
       "        vertical-align: top;\n",
       "    }\n",
       "\n",
       "    .dataframe thead th {\n",
       "        text-align: right;\n",
       "    }\n",
       "</style>\n",
       "<table border=\"1\" class=\"dataframe\">\n",
       "  <thead>\n",
       "    <tr style=\"text-align: right;\">\n",
       "      <th></th>\n",
       "      <th>PassengerId</th>\n",
       "      <th>Survived</th>\n",
       "      <th>Pclass</th>\n",
       "      <th>Name</th>\n",
       "      <th>Sex</th>\n",
       "      <th>Age</th>\n",
       "      <th>SibSp</th>\n",
       "      <th>Parch</th>\n",
       "      <th>Ticket</th>\n",
       "      <th>Fare</th>\n",
       "      <th>Cabin</th>\n",
       "      <th>Embarked</th>\n",
       "      <th>Title</th>\n",
       "      <th>Family</th>\n",
       "      <th>Cabin_Names</th>\n",
       "    </tr>\n",
       "  </thead>\n",
       "  <tbody>\n",
       "    <tr>\n",
       "      <th>0</th>\n",
       "      <td>1</td>\n",
       "      <td>0</td>\n",
       "      <td>3</td>\n",
       "      <td>Braund, Mr. Owen Harris</td>\n",
       "      <td>male</td>\n",
       "      <td>22.0</td>\n",
       "      <td>1</td>\n",
       "      <td>0</td>\n",
       "      <td>A/5 21171</td>\n",
       "      <td>7.2500</td>\n",
       "      <td>NaN</td>\n",
       "      <td>S</td>\n",
       "      <td>Mr.</td>\n",
       "      <td>1</td>\n",
       "      <td>NaN</td>\n",
       "    </tr>\n",
       "    <tr>\n",
       "      <th>1</th>\n",
       "      <td>2</td>\n",
       "      <td>1</td>\n",
       "      <td>1</td>\n",
       "      <td>Cumings, Mrs. John Bradley (Florence Briggs Th...</td>\n",
       "      <td>female</td>\n",
       "      <td>38.0</td>\n",
       "      <td>1</td>\n",
       "      <td>0</td>\n",
       "      <td>PC 17599</td>\n",
       "      <td>71.2833</td>\n",
       "      <td>C85</td>\n",
       "      <td>C</td>\n",
       "      <td>Mrs.</td>\n",
       "      <td>1</td>\n",
       "      <td>C</td>\n",
       "    </tr>\n",
       "    <tr>\n",
       "      <th>2</th>\n",
       "      <td>3</td>\n",
       "      <td>1</td>\n",
       "      <td>3</td>\n",
       "      <td>Heikkinen, Miss. Laina</td>\n",
       "      <td>female</td>\n",
       "      <td>26.0</td>\n",
       "      <td>0</td>\n",
       "      <td>0</td>\n",
       "      <td>STON/O2. 3101282</td>\n",
       "      <td>7.9250</td>\n",
       "      <td>NaN</td>\n",
       "      <td>S</td>\n",
       "      <td>Miss.</td>\n",
       "      <td>0</td>\n",
       "      <td>NaN</td>\n",
       "    </tr>\n",
       "    <tr>\n",
       "      <th>3</th>\n",
       "      <td>4</td>\n",
       "      <td>1</td>\n",
       "      <td>1</td>\n",
       "      <td>Futrelle, Mrs. Jacques Heath (Lily May Peel)</td>\n",
       "      <td>female</td>\n",
       "      <td>35.0</td>\n",
       "      <td>1</td>\n",
       "      <td>0</td>\n",
       "      <td>113803</td>\n",
       "      <td>53.1000</td>\n",
       "      <td>C123</td>\n",
       "      <td>S</td>\n",
       "      <td>Mrs.</td>\n",
       "      <td>1</td>\n",
       "      <td>C</td>\n",
       "    </tr>\n",
       "    <tr>\n",
       "      <th>4</th>\n",
       "      <td>5</td>\n",
       "      <td>0</td>\n",
       "      <td>3</td>\n",
       "      <td>Allen, Mr. William Henry</td>\n",
       "      <td>male</td>\n",
       "      <td>35.0</td>\n",
       "      <td>0</td>\n",
       "      <td>0</td>\n",
       "      <td>373450</td>\n",
       "      <td>8.0500</td>\n",
       "      <td>NaN</td>\n",
       "      <td>S</td>\n",
       "      <td>Mr.</td>\n",
       "      <td>0</td>\n",
       "      <td>NaN</td>\n",
       "    </tr>\n",
       "  </tbody>\n",
       "</table>\n",
       "</div>"
      ],
      "text/plain": [
       "   PassengerId  Survived  Pclass  \\\n",
       "0            1         0       3   \n",
       "1            2         1       1   \n",
       "2            3         1       3   \n",
       "3            4         1       1   \n",
       "4            5         0       3   \n",
       "\n",
       "                                                Name     Sex   Age  SibSp  \\\n",
       "0                            Braund, Mr. Owen Harris    male  22.0      1   \n",
       "1  Cumings, Mrs. John Bradley (Florence Briggs Th...  female  38.0      1   \n",
       "2                             Heikkinen, Miss. Laina  female  26.0      0   \n",
       "3       Futrelle, Mrs. Jacques Heath (Lily May Peel)  female  35.0      1   \n",
       "4                           Allen, Mr. William Henry    male  35.0      0   \n",
       "\n",
       "   Parch            Ticket     Fare Cabin Embarked  Title  Family Cabin_Names  \n",
       "0      0         A/5 21171   7.2500   NaN        S    Mr.       1         NaN  \n",
       "1      0          PC 17599  71.2833   C85        C   Mrs.       1           C  \n",
       "2      0  STON/O2. 3101282   7.9250   NaN        S  Miss.       0         NaN  \n",
       "3      0            113803  53.1000  C123        S   Mrs.       1           C  \n",
       "4      0            373450   8.0500   NaN        S    Mr.       0         NaN  "
      ]
     },
     "execution_count": 3,
     "metadata": {},
     "output_type": "execute_result"
    }
   ],
   "source": [
    "train_df.head()"
   ]
  },
  {
   "cell_type": "markdown",
   "metadata": {},
   "source": [
    "# Feature Engineering"
   ]
  },
  {
   "cell_type": "markdown",
   "metadata": {},
   "source": [
    "**Features DataFrame**"
   ]
  },
  {
   "cell_type": "code",
   "execution_count": 4,
   "metadata": {
    "ExecuteTime": {
     "end_time": "2020-11-06T03:06:17.340686Z",
     "start_time": "2020-11-06T03:06:17.246936Z"
    }
   },
   "outputs": [],
   "source": [
    "train_features_df = pd.DataFrame(index = train_df.index)"
   ]
  },
  {
   "cell_type": "markdown",
   "metadata": {},
   "source": [
    "**Targets DataFrame**"
   ]
  },
  {
   "cell_type": "code",
   "execution_count": 5,
   "metadata": {
    "ExecuteTime": {
     "end_time": "2020-11-06T03:06:17.435434Z",
     "start_time": "2020-11-06T03:06:17.344673Z"
    }
   },
   "outputs": [],
   "source": [
    "train_targets_df = train_df[\"Survived\"]"
   ]
  },
  {
   "cell_type": "markdown",
   "metadata": {},
   "source": [
    "## Categorical Feature Encoding"
   ]
  },
  {
   "cell_type": "markdown",
   "metadata": {},
   "source": [
    "### Sex"
   ]
  },
  {
   "cell_type": "markdown",
   "metadata": {},
   "source": [
    "**One Hot Encoding**"
   ]
  },
  {
   "cell_type": "code",
   "execution_count": 6,
   "metadata": {
    "ExecuteTime": {
     "end_time": "2020-11-06T03:06:17.578049Z",
     "start_time": "2020-11-06T03:06:17.441415Z"
    }
   },
   "outputs": [],
   "source": [
    "train_features_df[\"Sex:female\"] = pd.get_dummies(train_df[\"Sex\"], prefix = \"Sex\", prefix_sep = \":\")[\"Sex:female\"]\n",
    "train_features_df[\"Sex:male\"] = pd.get_dummies(train_df[\"Sex\"], prefix = \"Sex\", prefix_sep = \":\")[\"Sex:male\"]"
   ]
  },
  {
   "cell_type": "markdown",
   "metadata": {},
   "source": [
    "**Mean Encoding**"
   ]
  },
  {
   "cell_type": "code",
   "execution_count": 7,
   "metadata": {
    "ExecuteTime": {
     "end_time": "2020-11-06T03:06:17.751585Z",
     "start_time": "2020-11-06T03:06:17.581042Z"
    }
   },
   "outputs": [
    {
     "data": {
      "text/plain": [
       "Sex\n",
       "female    0.742038\n",
       "male      0.188908\n",
       "Name: Survived, dtype: float64"
      ]
     },
     "execution_count": 7,
     "metadata": {},
     "output_type": "execute_result"
    }
   ],
   "source": [
    "train_df.groupby(by = \"Sex\")[\"Survived\"].mean()"
   ]
  },
  {
   "cell_type": "code",
   "execution_count": 8,
   "metadata": {
    "ExecuteTime": {
     "end_time": "2020-11-06T03:06:17.878284Z",
     "start_time": "2020-11-06T03:06:17.755577Z"
    }
   },
   "outputs": [],
   "source": [
    "train_features_df[\"Sex_mean_enc\"] = train_df[\"Sex\"].map(train_df.groupby(by = \"Sex\")[\"Survived\"].mean())"
   ]
  },
  {
   "cell_type": "markdown",
   "metadata": {},
   "source": [
    "**Feature Selection**"
   ]
  },
  {
   "cell_type": "code",
   "execution_count": 9,
   "metadata": {
    "ExecuteTime": {
     "end_time": "2020-11-06T03:06:18.034832Z",
     "start_time": "2020-11-06T03:06:17.880243Z"
    }
   },
   "outputs": [
    {
     "data": {
      "text/plain": [
       "Index(['Sex:female', 'Sex:male', 'Sex_mean_enc'], dtype='object')"
      ]
     },
     "execution_count": 9,
     "metadata": {},
     "output_type": "execute_result"
    }
   ],
   "source": [
    "train_features_df.columns"
   ]
  },
  {
   "cell_type": "code",
   "execution_count": 10,
   "metadata": {
    "ExecuteTime": {
     "end_time": "2020-11-06T03:06:18.143541Z",
     "start_time": "2020-11-06T03:06:18.037822Z"
    }
   },
   "outputs": [
    {
     "data": {
      "text/plain": [
       "array([170.34812709,  92.70244698,  47.85148767])"
      ]
     },
     "execution_count": 10,
     "metadata": {},
     "output_type": "execute_result"
    }
   ],
   "source": [
    "fs = SelectKBest(score_func = chi2, k = \"all\")\n",
    "fs.fit(train_features_df, train_targets_df)\n",
    "fs.scores_"
   ]
  },
  {
   "cell_type": "code",
   "execution_count": 11,
   "metadata": {
    "ExecuteTime": {
     "end_time": "2020-11-06T03:06:18.220335Z",
     "start_time": "2020-11-06T03:06:18.145534Z"
    }
   },
   "outputs": [],
   "source": [
    "train_features_df = train_features_df.drop([\"Sex:male\", \"Sex_mean_enc\"], axis = 1)"
   ]
  },
  {
   "cell_type": "markdown",
   "metadata": {},
   "source": [
    "### Pclass"
   ]
  },
  {
   "cell_type": "markdown",
   "metadata": {},
   "source": [
    "**One Hot Encoding**"
   ]
  },
  {
   "cell_type": "code",
   "execution_count": 12,
   "metadata": {
    "ExecuteTime": {
     "end_time": "2020-11-06T03:06:18.332036Z",
     "start_time": "2020-11-06T03:06:18.222327Z"
    }
   },
   "outputs": [],
   "source": [
    "train_features_df[\"Pclass:1\"] = pd.get_dummies(train_df[\"Pclass\"], prefix = \"Pclass\", prefix_sep = \":\")[\"Pclass:1\"]\n",
    "train_features_df[\"Pclass:2\"] = pd.get_dummies(train_df[\"Pclass\"], prefix = \"Pclass\", prefix_sep = \":\")[\"Pclass:2\"]\n",
    "train_features_df[\"Pclass:3\"] = pd.get_dummies(train_df[\"Pclass\"], prefix = \"Pclass\", prefix_sep = \":\")[\"Pclass:3\"]"
   ]
  },
  {
   "cell_type": "markdown",
   "metadata": {},
   "source": [
    "**Mean Encoding**"
   ]
  },
  {
   "cell_type": "code",
   "execution_count": 13,
   "metadata": {
    "ExecuteTime": {
     "end_time": "2020-11-06T03:06:18.471978Z",
     "start_time": "2020-11-06T03:06:18.335026Z"
    }
   },
   "outputs": [
    {
     "data": {
      "text/plain": [
       "Pclass\n",
       "1    0.629630\n",
       "2    0.472826\n",
       "3    0.242363\n",
       "Name: Survived, dtype: float64"
      ]
     },
     "execution_count": 13,
     "metadata": {},
     "output_type": "execute_result"
    }
   ],
   "source": [
    "train_df.groupby(by = \"Pclass\")[\"Survived\"].mean()"
   ]
  },
  {
   "cell_type": "code",
   "execution_count": 14,
   "metadata": {
    "ExecuteTime": {
     "end_time": "2020-11-06T03:06:18.581797Z",
     "start_time": "2020-11-06T03:06:18.473935Z"
    }
   },
   "outputs": [],
   "source": [
    "train_features_df[\"Pclass_mean_enc\"] = train_df[\"Pclass\"].map(train_df.groupby(by = \"Pclass\")[\"Survived\"].mean())"
   ]
  },
  {
   "cell_type": "markdown",
   "metadata": {},
   "source": [
    "**Feature Selection**"
   ]
  },
  {
   "cell_type": "code",
   "execution_count": 15,
   "metadata": {
    "ExecuteTime": {
     "end_time": "2020-11-06T03:06:18.692687Z",
     "start_time": "2020-11-06T03:06:18.584789Z"
    }
   },
   "outputs": [
    {
     "data": {
      "text/plain": [
       "Index(['Sex:female', 'Pclass:1', 'Pclass:2', 'Pclass:3', 'Pclass_mean_enc'], dtype='object')"
      ]
     },
     "execution_count": 15,
     "metadata": {},
     "output_type": "execute_result"
    }
   ],
   "source": [
    "train_features_df.columns"
   ]
  },
  {
   "cell_type": "code",
   "execution_count": 16,
   "metadata": {
    "ExecuteTime": {
     "end_time": "2020-11-06T03:06:18.801395Z",
     "start_time": "2020-11-06T03:06:18.694680Z"
    }
   },
   "outputs": [
    {
     "data": {
      "text/plain": [
       "array([170.34812709,  55.17515099,   6.16076687,  41.55307089,\n",
       "         7.3207358 ])"
      ]
     },
     "execution_count": 16,
     "metadata": {},
     "output_type": "execute_result"
    }
   ],
   "source": [
    "fs = SelectKBest(score_func = chi2, k = \"all\")\n",
    "fs.fit(train_features_df, train_targets_df)\n",
    "fs.scores_"
   ]
  },
  {
   "cell_type": "code",
   "execution_count": 17,
   "metadata": {
    "ExecuteTime": {
     "end_time": "2020-11-06T03:06:18.926060Z",
     "start_time": "2020-11-06T03:06:18.804387Z"
    }
   },
   "outputs": [],
   "source": [
    "train_features_df = train_features_df.drop([\"Pclass:2\", \"Pclass_mean_enc\"], axis = 1)"
   ]
  },
  {
   "cell_type": "markdown",
   "metadata": {},
   "source": [
    "### Embarked"
   ]
  },
  {
   "cell_type": "markdown",
   "metadata": {},
   "source": [
    "**One Hot Encoding**"
   ]
  },
  {
   "cell_type": "code",
   "execution_count": 18,
   "metadata": {
    "ExecuteTime": {
     "end_time": "2020-11-06T03:06:19.069680Z",
     "start_time": "2020-11-06T03:06:18.928058Z"
    }
   },
   "outputs": [],
   "source": [
    "train_features_df[\"Embarked:Q\"] = pd.get_dummies(train_df[\"Embarked\"], prefix = \"Embarked\", prefix_sep = \":\")[\"Embarked:Q\"]\n",
    "train_features_df[\"Embarked:S\"] = pd.get_dummies(train_df[\"Embarked\"], prefix = \"Embarked\", prefix_sep = \":\")[\"Embarked:S\"]\n",
    "train_features_df[\"Embarked:C\"] = pd.get_dummies(train_df[\"Embarked\"], prefix = \"Embarked\", prefix_sep = \":\")[\"Embarked:C\"]"
   ]
  },
  {
   "cell_type": "markdown",
   "metadata": {},
   "source": [
    "**Mean Encoding**"
   ]
  },
  {
   "cell_type": "code",
   "execution_count": 19,
   "metadata": {
    "ExecuteTime": {
     "end_time": "2020-11-06T03:06:19.179322Z",
     "start_time": "2020-11-06T03:06:19.071672Z"
    }
   },
   "outputs": [
    {
     "data": {
      "text/plain": [
       "Embarked\n",
       "C    0.553571\n",
       "Q    0.389610\n",
       "S    0.339009\n",
       "Name: Survived, dtype: float64"
      ]
     },
     "execution_count": 19,
     "metadata": {},
     "output_type": "execute_result"
    }
   ],
   "source": [
    "train_df.groupby(by = \"Embarked\")[\"Survived\"].mean()"
   ]
  },
  {
   "cell_type": "code",
   "execution_count": 20,
   "metadata": {
    "ExecuteTime": {
     "end_time": "2020-11-06T03:06:19.352983Z",
     "start_time": "2020-11-06T03:06:19.181314Z"
    }
   },
   "outputs": [],
   "source": [
    "train_features_df[\"Embarked_mean_enc\"] = train_df[\"Embarked\"].map(train_df.groupby(by = \"Embarked\")[\"Survived\"].mean())"
   ]
  },
  {
   "cell_type": "markdown",
   "metadata": {},
   "source": [
    "**Feature Selection**"
   ]
  },
  {
   "cell_type": "code",
   "execution_count": 21,
   "metadata": {
    "ExecuteTime": {
     "end_time": "2020-11-06T03:06:19.496313Z",
     "start_time": "2020-11-06T03:06:19.355975Z"
    }
   },
   "outputs": [
    {
     "data": {
      "text/plain": [
       "Index(['Sex:female', 'Pclass:1', 'Pclass:3', 'Embarked:Q', 'Embarked:S',\n",
       "       'Embarked:C', 'Embarked_mean_enc'],\n",
       "      dtype='object')"
      ]
     },
     "execution_count": 21,
     "metadata": {},
     "output_type": "execute_result"
    }
   ],
   "source": [
    "train_features_df.columns"
   ]
  },
  {
   "cell_type": "code",
   "execution_count": 22,
   "metadata": {
    "ExecuteTime": {
     "end_time": "2020-11-06T03:06:19.620682Z",
     "start_time": "2020-11-06T03:06:19.498306Z"
    }
   },
   "outputs": [
    {
     "data": {
      "text/plain": [
       "array([1.70348127e+02, 5.51751510e+01, 4.15530709e+01, 1.08467891e-02,\n",
       "       5.48920482e+00, 2.04644013e+01, 4.66203240e-01])"
      ]
     },
     "execution_count": 22,
     "metadata": {},
     "output_type": "execute_result"
    }
   ],
   "source": [
    "fs = SelectKBest(score_func = chi2, k = \"all\")\n",
    "fs.fit(train_features_df, train_targets_df)\n",
    "fs.scores_"
   ]
  },
  {
   "cell_type": "code",
   "execution_count": 23,
   "metadata": {
    "ExecuteTime": {
     "end_time": "2020-11-06T03:06:19.795115Z",
     "start_time": "2020-11-06T03:06:19.622616Z"
    }
   },
   "outputs": [],
   "source": [
    "train_features_df = train_features_df.drop([\"Embarked:Q\", \"Embarked_mean_enc\"], axis = 1)"
   ]
  },
  {
   "cell_type": "markdown",
   "metadata": {},
   "source": [
    "### Cabin_Names"
   ]
  },
  {
   "cell_type": "markdown",
   "metadata": {},
   "source": [
    "**Filling Null Values**"
   ]
  },
  {
   "cell_type": "code",
   "execution_count": 24,
   "metadata": {
    "ExecuteTime": {
     "end_time": "2020-11-06T03:06:19.953186Z",
     "start_time": "2020-11-06T03:06:19.797653Z"
    }
   },
   "outputs": [],
   "source": [
    "train_df[\"Cabin_Names\"] = train_df[\"Cabin_Names\"].fillna(\"Missing\")"
   ]
  },
  {
   "cell_type": "markdown",
   "metadata": {},
   "source": [
    "**One Hot Encoding**"
   ]
  },
  {
   "cell_type": "code",
   "execution_count": 25,
   "metadata": {
    "ExecuteTime": {
     "end_time": "2020-11-06T03:06:20.077578Z",
     "start_time": "2020-11-06T03:06:19.956140Z"
    }
   },
   "outputs": [],
   "source": [
    "train_features_df = pd.concat(\n",
    "                              [train_features_df, \n",
    "                               pd.get_dummies(train_df[\"Cabin_Names\"], prefix = \"Cabin_Names\", prefix_sep = \":\")],\n",
    "                              axis = 1)"
   ]
  },
  {
   "cell_type": "markdown",
   "metadata": {},
   "source": [
    "**Mean Encoding**"
   ]
  },
  {
   "cell_type": "code",
   "execution_count": 26,
   "metadata": {
    "ExecuteTime": {
     "end_time": "2020-11-06T03:06:20.187728Z",
     "start_time": "2020-11-06T03:06:20.079535Z"
    }
   },
   "outputs": [
    {
     "data": {
      "text/plain": [
       "Cabin_Names\n",
       "A          0.466667\n",
       "B          0.744681\n",
       "C          0.593220\n",
       "D          0.757576\n",
       "E          0.750000\n",
       "F          0.615385\n",
       "G          0.500000\n",
       "Missing    0.299854\n",
       "T          0.000000\n",
       "Name: Survived, dtype: float64"
      ]
     },
     "execution_count": 26,
     "metadata": {},
     "output_type": "execute_result"
    }
   ],
   "source": [
    "train_df.groupby(by = \"Cabin_Names\")[\"Survived\"].mean()"
   ]
  },
  {
   "cell_type": "code",
   "execution_count": 27,
   "metadata": {
    "ExecuteTime": {
     "end_time": "2020-11-06T03:06:20.298249Z",
     "start_time": "2020-11-06T03:06:20.189723Z"
    }
   },
   "outputs": [],
   "source": [
    "train_features_df[\"Cabin_Names_mean_enc\"] = train_df[\"Cabin_Names\"].map(train_df.groupby(by = \"Cabin_Names\")[\"Survived\"].mean())"
   ]
  },
  {
   "cell_type": "markdown",
   "metadata": {},
   "source": [
    "**Label Encoding**"
   ]
  },
  {
   "cell_type": "code",
   "execution_count": 28,
   "metadata": {
    "ExecuteTime": {
     "end_time": "2020-11-06T03:06:20.424427Z",
     "start_time": "2020-11-06T03:06:20.300253Z"
    }
   },
   "outputs": [
    {
     "data": {
      "text/plain": [
       "0      Missing\n",
       "1            C\n",
       "2      Missing\n",
       "3            C\n",
       "4      Missing\n",
       "        ...   \n",
       "886    Missing\n",
       "887          B\n",
       "888    Missing\n",
       "889          C\n",
       "890    Missing\n",
       "Name: Cabin_Names, Length: 891, dtype: object"
      ]
     },
     "execution_count": 28,
     "metadata": {},
     "output_type": "execute_result"
    }
   ],
   "source": [
    "train_df[\"Cabin_Names\"]"
   ]
  },
  {
   "cell_type": "code",
   "execution_count": 29,
   "metadata": {
    "ExecuteTime": {
     "end_time": "2020-11-06T03:06:20.535145Z",
     "start_time": "2020-11-06T03:06:20.426385Z"
    }
   },
   "outputs": [],
   "source": [
    "train_features_df[\"Cabin_Names_label_enc\"] = train_df[\"Cabin_Names\"].map({\"Missing\":0,\n",
    "                                                                        \"A\": 1, \"B\": 2, \"C\": 3, \"D\": 4,\n",
    "                                                                        \"E\": 5, \"F\": 6, \"G\": 7, \"T\": 8})"
   ]
  },
  {
   "cell_type": "markdown",
   "metadata": {},
   "source": [
    "**Feature Selection**"
   ]
  },
  {
   "cell_type": "code",
   "execution_count": 30,
   "metadata": {
    "ExecuteTime": {
     "end_time": "2020-11-06T03:06:20.676407Z",
     "start_time": "2020-11-06T03:06:20.537826Z"
    }
   },
   "outputs": [
    {
     "name": "stdout",
     "output_type": "stream",
     "text": [
      "Sex:female: 170.34812709177143\n",
      "Pclass:1: 55.17515099223469\n",
      "Pclass:3: 41.553070892984856\n",
      "Embarked:S: 5.489204823203513\n",
      "Embarked:C: 20.46440126956736\n",
      "Cabin_Names:A: 0.43511647972390016\n",
      "Cabin_Names:B: 25.875580562847652\n",
      "Cabin_Names:C: 10.93672950088475\n",
      "Cabin_Names:D: 19.48964624676445\n",
      "Cabin_Names:E: 18.14063848144953\n",
      "Cabin_Names:F: 2.9469701997743414\n",
      "Cabin_Names:G: 0.22821397756686804\n",
      "Cabin_Names:Missing: 20.4883143501965\n",
      "Cabin_Names:T: 0.6229508196721312\n",
      "Cabin_Names_mean_enc: 6.800274074369643\n",
      "Cabin_Names_label_enc: 240.47140498835452\n"
     ]
    }
   ],
   "source": [
    "fs = SelectKBest(score_func = chi2, k = \"all\")\n",
    "fs.fit(train_features_df, train_targets_df)\n",
    "scores = fs.scores_\n",
    "\n",
    "for i, score in enumerate(scores):\n",
    "    print(f\"{train_features_df.columns[i]}: {score}\")"
   ]
  },
  {
   "cell_type": "code",
   "execution_count": 31,
   "metadata": {
    "ExecuteTime": {
     "end_time": "2020-11-06T03:06:20.818182Z",
     "start_time": "2020-11-06T03:06:20.678402Z"
    }
   },
   "outputs": [],
   "source": [
    "train_features_df = train_features_df[[\n",
    "    \"Sex:female\", \"Pclass:1\", \"Pclass:3\",\n",
    "    \"Embarked:S\", \"Embarked:C\", \"Cabin_Names_label_enc\"\n",
    "]]"
   ]
  },
  {
   "cell_type": "code",
   "execution_count": 32,
   "metadata": {
    "ExecuteTime": {
     "end_time": "2020-11-06T03:06:20.945364Z",
     "start_time": "2020-11-06T03:06:20.829150Z"
    }
   },
   "outputs": [
    {
     "data": {
      "text/html": [
       "<div>\n",
       "<style scoped>\n",
       "    .dataframe tbody tr th:only-of-type {\n",
       "        vertical-align: middle;\n",
       "    }\n",
       "\n",
       "    .dataframe tbody tr th {\n",
       "        vertical-align: top;\n",
       "    }\n",
       "\n",
       "    .dataframe thead th {\n",
       "        text-align: right;\n",
       "    }\n",
       "</style>\n",
       "<table border=\"1\" class=\"dataframe\">\n",
       "  <thead>\n",
       "    <tr style=\"text-align: right;\">\n",
       "      <th></th>\n",
       "      <th>Sex:female</th>\n",
       "      <th>Pclass:1</th>\n",
       "      <th>Pclass:3</th>\n",
       "      <th>Embarked:S</th>\n",
       "      <th>Embarked:C</th>\n",
       "      <th>Cabin_Names_label_enc</th>\n",
       "    </tr>\n",
       "  </thead>\n",
       "  <tbody>\n",
       "    <tr>\n",
       "      <th>0</th>\n",
       "      <td>0</td>\n",
       "      <td>0</td>\n",
       "      <td>1</td>\n",
       "      <td>1</td>\n",
       "      <td>0</td>\n",
       "      <td>0</td>\n",
       "    </tr>\n",
       "    <tr>\n",
       "      <th>1</th>\n",
       "      <td>1</td>\n",
       "      <td>1</td>\n",
       "      <td>0</td>\n",
       "      <td>0</td>\n",
       "      <td>1</td>\n",
       "      <td>3</td>\n",
       "    </tr>\n",
       "    <tr>\n",
       "      <th>2</th>\n",
       "      <td>1</td>\n",
       "      <td>0</td>\n",
       "      <td>1</td>\n",
       "      <td>1</td>\n",
       "      <td>0</td>\n",
       "      <td>0</td>\n",
       "    </tr>\n",
       "    <tr>\n",
       "      <th>3</th>\n",
       "      <td>1</td>\n",
       "      <td>1</td>\n",
       "      <td>0</td>\n",
       "      <td>1</td>\n",
       "      <td>0</td>\n",
       "      <td>3</td>\n",
       "    </tr>\n",
       "    <tr>\n",
       "      <th>4</th>\n",
       "      <td>0</td>\n",
       "      <td>0</td>\n",
       "      <td>1</td>\n",
       "      <td>1</td>\n",
       "      <td>0</td>\n",
       "      <td>0</td>\n",
       "    </tr>\n",
       "  </tbody>\n",
       "</table>\n",
       "</div>"
      ],
      "text/plain": [
       "   Sex:female  Pclass:1  Pclass:3  Embarked:S  Embarked:C  \\\n",
       "0           0         0         1           1           0   \n",
       "1           1         1         0           0           1   \n",
       "2           1         0         1           1           0   \n",
       "3           1         1         0           1           0   \n",
       "4           0         0         1           1           0   \n",
       "\n",
       "   Cabin_Names_label_enc  \n",
       "0                      0  \n",
       "1                      3  \n",
       "2                      0  \n",
       "3                      3  \n",
       "4                      0  "
      ]
     },
     "execution_count": 32,
     "metadata": {},
     "output_type": "execute_result"
    }
   ],
   "source": [
    "train_features_df.head()"
   ]
  },
  {
   "cell_type": "markdown",
   "metadata": {},
   "source": [
    "### Title"
   ]
  },
  {
   "cell_type": "markdown",
   "metadata": {},
   "source": [
    "**One Hot Encoding**"
   ]
  },
  {
   "cell_type": "code",
   "execution_count": 33,
   "metadata": {
    "ExecuteTime": {
     "end_time": "2020-11-06T03:06:21.037963Z",
     "start_time": "2020-11-06T03:06:20.948357Z"
    }
   },
   "outputs": [],
   "source": [
    "train_features_df = pd.concat(\n",
    "                              [\n",
    "                                  train_features_df,\n",
    "                                  pd.get_dummies(train_df[\"Title\"], prefix = \"Title\", prefix_sep = \":\")\n",
    "                              ], axis = 1)"
   ]
  },
  {
   "cell_type": "markdown",
   "metadata": {},
   "source": [
    "**Mean Encoding**"
   ]
  },
  {
   "cell_type": "code",
   "execution_count": 34,
   "metadata": {
    "ExecuteTime": {
     "end_time": "2020-11-06T03:06:21.164624Z",
     "start_time": "2020-11-06T03:06:21.039921Z"
    }
   },
   "outputs": [
    {
     "data": {
      "text/plain": [
       "Title\n",
       "Master.    0.575000\n",
       "Miss.      0.699454\n",
       "Mr.        0.156673\n",
       "Mrs.       0.792000\n",
       "Rare.      0.423077\n",
       "Name: Survived, dtype: float64"
      ]
     },
     "execution_count": 34,
     "metadata": {},
     "output_type": "execute_result"
    }
   ],
   "source": [
    "train_df.groupby(by = \"Title\")[\"Survived\"].mean()"
   ]
  },
  {
   "cell_type": "code",
   "execution_count": 35,
   "metadata": {
    "ExecuteTime": {
     "end_time": "2020-11-06T03:06:21.258284Z",
     "start_time": "2020-11-06T03:06:21.166580Z"
    }
   },
   "outputs": [],
   "source": [
    "train_features_df[\"Title_mean_enc\"] = train_df[\"Title\"].map(train_df.groupby(by = \"Title\")[\"Survived\"].mean())"
   ]
  },
  {
   "cell_type": "markdown",
   "metadata": {},
   "source": [
    "**Label Encoding**"
   ]
  },
  {
   "cell_type": "code",
   "execution_count": 36,
   "metadata": {
    "ExecuteTime": {
     "end_time": "2020-11-06T03:06:21.368017Z",
     "start_time": "2020-11-06T03:06:21.260284Z"
    }
   },
   "outputs": [],
   "source": [
    "train_features_df[\"Title_label_enc\"] = train_df[\"Title\"].map(\n",
    "                                                            {\n",
    "                                                                \"Mr.\": 0, \"Rare.\": 1, \"Master.\": 2,\n",
    "                                                                \"Miss.\":3, \"Mrs.\":4\n",
    "                                                            })"
   ]
  },
  {
   "cell_type": "markdown",
   "metadata": {},
   "source": [
    "**Feature Selection**"
   ]
  },
  {
   "cell_type": "code",
   "execution_count": 37,
   "metadata": {
    "ExecuteTime": {
     "end_time": "2020-11-06T03:06:21.463216Z",
     "start_time": "2020-11-06T03:06:21.371008Z"
    }
   },
   "outputs": [
    {
     "name": "stdout",
     "output_type": "stream",
     "text": [
      "Sex:female: 170.34812709177143\n",
      "Pclass:1: 55.17515099223469\n",
      "Pclass:3: 41.553070892984856\n",
      "Embarked:S: 5.489204823203513\n",
      "Embarked:C: 20.46440126956736\n",
      "Cabin_Names_label_enc: 240.47140498835452\n",
      "Title:Master.: 6.180424935289041\n",
      "Title:Miss.: 77.07681862544027\n",
      "Title:Mr.: 112.80578451710022\n",
      "Title:Mrs.: 88.05039171699741\n",
      "Title:Rare.: 0.1692606358266412\n",
      "Title_mean_enc: 55.887893366471445\n",
      "Title_label_enc: 567.3254406508074\n"
     ]
    }
   ],
   "source": [
    "fs = SelectKBest(score_func = chi2, k = \"all\")\n",
    "fs.fit(train_features_df, train_targets_df)\n",
    "scores = fs.scores_\n",
    "\n",
    "for i, score in enumerate(scores):\n",
    "    print(f\"{train_features_df.columns[i]}: {score}\")"
   ]
  },
  {
   "cell_type": "code",
   "execution_count": 38,
   "metadata": {
    "ExecuteTime": {
     "end_time": "2020-11-06T03:06:21.588274Z",
     "start_time": "2020-11-06T03:06:21.464718Z"
    }
   },
   "outputs": [],
   "source": [
    "train_features_df = train_features_df.drop(\n",
    "                                          [\n",
    "                                              \"Title:Master.\", \"Title:Miss.\", \"Title:Mr.\",\n",
    "                                              \"Title:Mrs.\", \"Title:Rare.\", \"Title_mean_enc\"\n",
    "                                          ], axis = 1)"
   ]
  },
  {
   "cell_type": "code",
   "execution_count": 39,
   "metadata": {
    "ExecuteTime": {
     "end_time": "2020-11-06T03:06:21.698510Z",
     "start_time": "2020-11-06T03:06:21.590232Z"
    }
   },
   "outputs": [
    {
     "data": {
      "text/html": [
       "<div>\n",
       "<style scoped>\n",
       "    .dataframe tbody tr th:only-of-type {\n",
       "        vertical-align: middle;\n",
       "    }\n",
       "\n",
       "    .dataframe tbody tr th {\n",
       "        vertical-align: top;\n",
       "    }\n",
       "\n",
       "    .dataframe thead th {\n",
       "        text-align: right;\n",
       "    }\n",
       "</style>\n",
       "<table border=\"1\" class=\"dataframe\">\n",
       "  <thead>\n",
       "    <tr style=\"text-align: right;\">\n",
       "      <th></th>\n",
       "      <th>Sex:female</th>\n",
       "      <th>Pclass:1</th>\n",
       "      <th>Pclass:3</th>\n",
       "      <th>Embarked:S</th>\n",
       "      <th>Embarked:C</th>\n",
       "      <th>Cabin_Names_label_enc</th>\n",
       "      <th>Title_label_enc</th>\n",
       "    </tr>\n",
       "  </thead>\n",
       "  <tbody>\n",
       "    <tr>\n",
       "      <th>0</th>\n",
       "      <td>0</td>\n",
       "      <td>0</td>\n",
       "      <td>1</td>\n",
       "      <td>1</td>\n",
       "      <td>0</td>\n",
       "      <td>0</td>\n",
       "      <td>0</td>\n",
       "    </tr>\n",
       "    <tr>\n",
       "      <th>1</th>\n",
       "      <td>1</td>\n",
       "      <td>1</td>\n",
       "      <td>0</td>\n",
       "      <td>0</td>\n",
       "      <td>1</td>\n",
       "      <td>3</td>\n",
       "      <td>4</td>\n",
       "    </tr>\n",
       "    <tr>\n",
       "      <th>2</th>\n",
       "      <td>1</td>\n",
       "      <td>0</td>\n",
       "      <td>1</td>\n",
       "      <td>1</td>\n",
       "      <td>0</td>\n",
       "      <td>0</td>\n",
       "      <td>3</td>\n",
       "    </tr>\n",
       "    <tr>\n",
       "      <th>3</th>\n",
       "      <td>1</td>\n",
       "      <td>1</td>\n",
       "      <td>0</td>\n",
       "      <td>1</td>\n",
       "      <td>0</td>\n",
       "      <td>3</td>\n",
       "      <td>4</td>\n",
       "    </tr>\n",
       "    <tr>\n",
       "      <th>4</th>\n",
       "      <td>0</td>\n",
       "      <td>0</td>\n",
       "      <td>1</td>\n",
       "      <td>1</td>\n",
       "      <td>0</td>\n",
       "      <td>0</td>\n",
       "      <td>0</td>\n",
       "    </tr>\n",
       "  </tbody>\n",
       "</table>\n",
       "</div>"
      ],
      "text/plain": [
       "   Sex:female  Pclass:1  Pclass:3  Embarked:S  Embarked:C  \\\n",
       "0           0         0         1           1           0   \n",
       "1           1         1         0           0           1   \n",
       "2           1         0         1           1           0   \n",
       "3           1         1         0           1           0   \n",
       "4           0         0         1           1           0   \n",
       "\n",
       "   Cabin_Names_label_enc  Title_label_enc  \n",
       "0                      0                0  \n",
       "1                      3                4  \n",
       "2                      0                3  \n",
       "3                      3                4  \n",
       "4                      0                0  "
      ]
     },
     "execution_count": 39,
     "metadata": {},
     "output_type": "execute_result"
    }
   ],
   "source": [
    "train_features_df.head()"
   ]
  },
  {
   "cell_type": "markdown",
   "metadata": {},
   "source": [
    "# Continuous Feature Encoding"
   ]
  },
  {
   "cell_type": "markdown",
   "metadata": {},
   "source": [
    "## Family"
   ]
  },
  {
   "cell_type": "markdown",
   "metadata": {},
   "source": [
    "**Building Labels for Family sizes**"
   ]
  },
  {
   "cell_type": "code",
   "execution_count": 40,
   "metadata": {
    "ExecuteTime": {
     "end_time": "2020-11-06T03:06:21.809189Z",
     "start_time": "2020-11-06T03:06:21.700506Z"
    }
   },
   "outputs": [
    {
     "data": {
      "text/plain": [
       "0     537\n",
       "1     161\n",
       "2     102\n",
       "3      29\n",
       "5      22\n",
       "4      15\n",
       "6      12\n",
       "10      7\n",
       "7       6\n",
       "Name: Family, dtype: int64"
      ]
     },
     "execution_count": 40,
     "metadata": {},
     "output_type": "execute_result"
    }
   ],
   "source": [
    "train_df[\"Family\"].value_counts()"
   ]
  },
  {
   "cell_type": "code",
   "execution_count": 41,
   "metadata": {
    "ExecuteTime": {
     "end_time": "2020-11-06T03:06:21.950179Z",
     "start_time": "2020-11-06T03:06:21.811186Z"
    }
   },
   "outputs": [],
   "source": [
    "family_df = train_df[[\"Survived\"]]\n",
    "\n",
    "family_df[\"Family_labels\"] = np.where(train_df[\"Family\"] == 0, \"No\", train_df[\"Family\"])\n",
    "family_df[\"Family_labels\"] = np.where(train_df[\"Family\"].isin([1, 2, 3]), \"Small\", family_df[\"Family_labels\"])\n",
    "family_df[\"Family_labels\"] = np.where(train_df[\"Family\"] >= 4, \"Large\", family_df[\"Family_labels\"])"
   ]
  },
  {
   "cell_type": "code",
   "execution_count": 42,
   "metadata": {
    "ExecuteTime": {
     "end_time": "2020-11-06T03:06:22.154529Z",
     "start_time": "2020-11-06T03:06:21.952178Z"
    }
   },
   "outputs": [
    {
     "data": {
      "text/plain": [
       "No       537\n",
       "Small    292\n",
       "Large     62\n",
       "Name: Family_labels, dtype: int64"
      ]
     },
     "execution_count": 42,
     "metadata": {},
     "output_type": "execute_result"
    }
   ],
   "source": [
    "family_df[\"Family_labels\"].value_counts()"
   ]
  },
  {
   "cell_type": "code",
   "execution_count": 43,
   "metadata": {
    "ExecuteTime": {
     "end_time": "2020-11-06T03:06:22.264386Z",
     "start_time": "2020-11-06T03:06:22.156525Z"
    }
   },
   "outputs": [
    {
     "data": {
      "text/plain": [
       "Family_labels\n",
       "Large    0.161290\n",
       "No       0.303538\n",
       "Small    0.578767\n",
       "Name: Survived, dtype: float64"
      ]
     },
     "execution_count": 43,
     "metadata": {},
     "output_type": "execute_result"
    }
   ],
   "source": [
    "family_df.groupby(by = \"Family_labels\")[\"Survived\"].mean()"
   ]
  },
  {
   "cell_type": "markdown",
   "metadata": {},
   "source": [
    "**One Hot Encoding**"
   ]
  },
  {
   "cell_type": "code",
   "execution_count": 44,
   "metadata": {
    "ExecuteTime": {
     "end_time": "2020-11-06T03:06:22.375351Z",
     "start_time": "2020-11-06T03:06:22.266998Z"
    }
   },
   "outputs": [],
   "source": [
    "train_features_df = pd.concat([\n",
    "                                train_features_df,\n",
    "                                pd.get_dummies(family_df[\"Family_labels\"], prefix = \"Family\", prefix_sep = \":\")\n",
    "                                ], axis = 1)"
   ]
  },
  {
   "cell_type": "markdown",
   "metadata": {},
   "source": [
    "**Mean Encoding**"
   ]
  },
  {
   "cell_type": "code",
   "execution_count": 45,
   "metadata": {
    "ExecuteTime": {
     "end_time": "2020-11-06T03:06:22.467820Z",
     "start_time": "2020-11-06T03:06:22.377703Z"
    }
   },
   "outputs": [],
   "source": [
    "train_features_df[\"Family_mean_enc\"] = family_df[\"Family_labels\"].map(family_df.groupby(by = \"Family_labels\")[\"Survived\"].mean())"
   ]
  },
  {
   "cell_type": "markdown",
   "metadata": {},
   "source": [
    "**Label Encoding**"
   ]
  },
  {
   "cell_type": "code",
   "execution_count": 46,
   "metadata": {
    "ExecuteTime": {
     "end_time": "2020-11-06T03:06:22.594846Z",
     "start_time": "2020-11-06T03:06:22.470819Z"
    }
   },
   "outputs": [],
   "source": [
    "train_features_df[\"Family_label_enc\"] = family_df[\"Family_labels\"].map({\n",
    "                                                                        \"Large\": 0, \"No\": 1, \"Small\": 2\n",
    "                                                                        })"
   ]
  },
  {
   "cell_type": "markdown",
   "metadata": {},
   "source": [
    "**Feature Selection**"
   ]
  },
  {
   "cell_type": "code",
   "execution_count": 47,
   "metadata": {
    "ExecuteTime": {
     "end_time": "2020-11-06T03:06:22.705895Z",
     "start_time": "2020-11-06T03:06:22.596785Z"
    }
   },
   "outputs": [
    {
     "name": "stdout",
     "output_type": "stream",
     "text": [
      "Sex:female: 170.34812709177143\n",
      "Pclass:1: 55.17515099223469\n",
      "Pclass:3: 41.553070892984856\n",
      "Embarked:S: 5.489204823203513\n",
      "Embarked:C: 20.46440126956736\n",
      "Cabin_Names_label_enc: 240.47140498835452\n",
      "Title_label_enc: 567.3254406508074\n",
      "Family:Large: 12.983634390047037\n",
      "Family:No: 14.640792727307776\n",
      "Family:Small: 46.91282192962758\n",
      "Family_mean_enc: 3.8420556998152637\n",
      "Family_label_enc: 18.86258071070836\n"
     ]
    }
   ],
   "source": [
    "fs = SelectKBest(score_func = chi2, k = \"all\")\n",
    "fs.fit(train_features_df, train_targets_df)\n",
    "scores = fs.scores_\n",
    "\n",
    "for i, score in enumerate(scores):\n",
    "    print(f\"{train_features_df.columns[i]}: {score}\")"
   ]
  },
  {
   "cell_type": "code",
   "execution_count": 48,
   "metadata": {
    "ExecuteTime": {
     "end_time": "2020-11-06T03:06:22.800038Z",
     "start_time": "2020-11-06T03:06:22.708886Z"
    }
   },
   "outputs": [],
   "source": [
    "train_features_df = train_features_df.drop([\n",
    "                                            \"Family_mean_enc\", \"Family_label_enc\", \"Family:Large\"\n",
    "                                            ], axis = 1)"
   ]
  },
  {
   "cell_type": "code",
   "execution_count": 49,
   "metadata": {
    "ExecuteTime": {
     "end_time": "2020-11-06T03:06:22.911434Z",
     "start_time": "2020-11-06T03:06:22.802038Z"
    }
   },
   "outputs": [
    {
     "data": {
      "text/html": [
       "<div>\n",
       "<style scoped>\n",
       "    .dataframe tbody tr th:only-of-type {\n",
       "        vertical-align: middle;\n",
       "    }\n",
       "\n",
       "    .dataframe tbody tr th {\n",
       "        vertical-align: top;\n",
       "    }\n",
       "\n",
       "    .dataframe thead th {\n",
       "        text-align: right;\n",
       "    }\n",
       "</style>\n",
       "<table border=\"1\" class=\"dataframe\">\n",
       "  <thead>\n",
       "    <tr style=\"text-align: right;\">\n",
       "      <th></th>\n",
       "      <th>Sex:female</th>\n",
       "      <th>Pclass:1</th>\n",
       "      <th>Pclass:3</th>\n",
       "      <th>Embarked:S</th>\n",
       "      <th>Embarked:C</th>\n",
       "      <th>Cabin_Names_label_enc</th>\n",
       "      <th>Title_label_enc</th>\n",
       "      <th>Family:No</th>\n",
       "      <th>Family:Small</th>\n",
       "    </tr>\n",
       "  </thead>\n",
       "  <tbody>\n",
       "    <tr>\n",
       "      <th>0</th>\n",
       "      <td>0</td>\n",
       "      <td>0</td>\n",
       "      <td>1</td>\n",
       "      <td>1</td>\n",
       "      <td>0</td>\n",
       "      <td>0</td>\n",
       "      <td>0</td>\n",
       "      <td>0</td>\n",
       "      <td>1</td>\n",
       "    </tr>\n",
       "    <tr>\n",
       "      <th>1</th>\n",
       "      <td>1</td>\n",
       "      <td>1</td>\n",
       "      <td>0</td>\n",
       "      <td>0</td>\n",
       "      <td>1</td>\n",
       "      <td>3</td>\n",
       "      <td>4</td>\n",
       "      <td>0</td>\n",
       "      <td>1</td>\n",
       "    </tr>\n",
       "    <tr>\n",
       "      <th>2</th>\n",
       "      <td>1</td>\n",
       "      <td>0</td>\n",
       "      <td>1</td>\n",
       "      <td>1</td>\n",
       "      <td>0</td>\n",
       "      <td>0</td>\n",
       "      <td>3</td>\n",
       "      <td>1</td>\n",
       "      <td>0</td>\n",
       "    </tr>\n",
       "    <tr>\n",
       "      <th>3</th>\n",
       "      <td>1</td>\n",
       "      <td>1</td>\n",
       "      <td>0</td>\n",
       "      <td>1</td>\n",
       "      <td>0</td>\n",
       "      <td>3</td>\n",
       "      <td>4</td>\n",
       "      <td>0</td>\n",
       "      <td>1</td>\n",
       "    </tr>\n",
       "    <tr>\n",
       "      <th>4</th>\n",
       "      <td>0</td>\n",
       "      <td>0</td>\n",
       "      <td>1</td>\n",
       "      <td>1</td>\n",
       "      <td>0</td>\n",
       "      <td>0</td>\n",
       "      <td>0</td>\n",
       "      <td>1</td>\n",
       "      <td>0</td>\n",
       "    </tr>\n",
       "  </tbody>\n",
       "</table>\n",
       "</div>"
      ],
      "text/plain": [
       "   Sex:female  Pclass:1  Pclass:3  Embarked:S  Embarked:C  \\\n",
       "0           0         0         1           1           0   \n",
       "1           1         1         0           0           1   \n",
       "2           1         0         1           1           0   \n",
       "3           1         1         0           1           0   \n",
       "4           0         0         1           1           0   \n",
       "\n",
       "   Cabin_Names_label_enc  Title_label_enc  Family:No  Family:Small  \n",
       "0                      0                0          0             1  \n",
       "1                      3                4          0             1  \n",
       "2                      0                3          1             0  \n",
       "3                      3                4          0             1  \n",
       "4                      0                0          1             0  "
      ]
     },
     "execution_count": 49,
     "metadata": {},
     "output_type": "execute_result"
    }
   ],
   "source": [
    "train_features_df.head()"
   ]
  },
  {
   "cell_type": "markdown",
   "metadata": {},
   "source": [
    "## Age"
   ]
  },
  {
   "cell_type": "markdown",
   "metadata": {},
   "source": [
    "**Building Age Labels**"
   ]
  },
  {
   "cell_type": "code",
   "execution_count": 50,
   "metadata": {
    "ExecuteTime": {
     "end_time": "2020-11-06T03:06:22.989821Z",
     "start_time": "2020-11-06T03:06:22.913430Z"
    }
   },
   "outputs": [],
   "source": [
    "age_df = train_df[[\"Survived\"]]\n",
    "\n",
    "age_df[\"Age_labels\"] = np.where(train_df[\"Age\"]<=10, \"Infant\", train_df[\"Age\"])\n",
    "age_df[\"Age_labels\"] = np.where(((train_df[\"Age\"]>10) & (train_df[\"Age\"]<=18)), \"Kid\", age_df[\"Age_labels\"])\n",
    "age_df[\"Age_labels\"] = np.where(((train_df[\"Age\"]>18) & (train_df[\"Age\"]<=25)), \"Young_Adult\", age_df[\"Age_labels\"])\n",
    "age_df[\"Age_labels\"] = np.where(((train_df[\"Age\"]>25) & (train_df[\"Age\"]<=40)), \"Adult\", age_df[\"Age_labels\"])\n",
    "age_df[\"Age_labels\"] = np.where(((train_df[\"Age\"]>40) & (train_df[\"Age\"]<=60)), \"Old_Adult\", age_df[\"Age_labels\"])\n",
    "age_df[\"Age_labels\"] = np.where(train_df[\"Age\"]>60, \"Old\", age_df[\"Age_labels\"])"
   ]
  },
  {
   "cell_type": "code",
   "execution_count": 51,
   "metadata": {
    "ExecuteTime": {
     "end_time": "2020-11-06T03:06:23.084277Z",
     "start_time": "2020-11-06T03:06:22.991821Z"
    }
   },
   "outputs": [
    {
     "data": {
      "text/plain": [
       "Adult          399\n",
       "Young_Adult    198\n",
       "Old_Adult      129\n",
       "Kid             75\n",
       "Infant          68\n",
       "Old             22\n",
       "Name: Age_labels, dtype: int64"
      ]
     },
     "execution_count": 51,
     "metadata": {},
     "output_type": "execute_result"
    }
   ],
   "source": [
    "age_df[\"Age_labels\"].value_counts()"
   ]
  },
  {
   "cell_type": "code",
   "execution_count": 52,
   "metadata": {
    "ExecuteTime": {
     "end_time": "2020-11-06T03:06:23.194378Z",
     "start_time": "2020-11-06T03:06:23.087270Z"
    }
   },
   "outputs": [
    {
     "data": {
      "text/plain": [
       "Age_labels\n",
       "Adult          0.348371\n",
       "Infant         0.588235\n",
       "Kid            0.426667\n",
       "Old            0.227273\n",
       "Old_Adult      0.387597\n",
       "Young_Adult    0.383838\n",
       "Name: Survived, dtype: float64"
      ]
     },
     "execution_count": 52,
     "metadata": {},
     "output_type": "execute_result"
    }
   ],
   "source": [
    "age_df.groupby(by = \"Age_labels\")[\"Survived\"].mean()"
   ]
  },
  {
   "cell_type": "markdown",
   "metadata": {},
   "source": [
    "**One Hot Encoding**"
   ]
  },
  {
   "cell_type": "code",
   "execution_count": 53,
   "metadata": {
    "ExecuteTime": {
     "end_time": "2020-11-06T03:06:23.290041Z",
     "start_time": "2020-11-06T03:06:23.196336Z"
    }
   },
   "outputs": [],
   "source": [
    "train_features_df = pd.concat([\n",
    "                                train_features_df,\n",
    "                                pd.get_dummies(age_df[\"Age_labels\"], prefix = \"Age\", prefix_sep = \":\")\n",
    "                            ], axis = 1)"
   ]
  },
  {
   "cell_type": "markdown",
   "metadata": {},
   "source": [
    "**Mean Encoding**"
   ]
  },
  {
   "cell_type": "code",
   "execution_count": 54,
   "metadata": {
    "ExecuteTime": {
     "end_time": "2020-11-06T03:06:23.432487Z",
     "start_time": "2020-11-06T03:06:23.292043Z"
    }
   },
   "outputs": [],
   "source": [
    "train_features_df[\"Age_mean_enc\"] = age_df[\"Age_labels\"].map(age_df.groupby(by = \"Age_labels\")[\"Survived\"].mean())"
   ]
  },
  {
   "cell_type": "markdown",
   "metadata": {},
   "source": [
    "**Label Encoding**"
   ]
  },
  {
   "cell_type": "code",
   "execution_count": 55,
   "metadata": {
    "ExecuteTime": {
     "end_time": "2020-11-06T03:06:23.543183Z",
     "start_time": "2020-11-06T03:06:23.435484Z"
    }
   },
   "outputs": [],
   "source": [
    "train_features_df[\"Age_label_enc\"] = age_df[\"Age_labels\"].map({\n",
    "                                                                \"Old\": 0, \"Adult\": 1, \"Young_Adult\": 2,\n",
    "                                                                \"Old_Adult\": 3, \"Kid\": 4, \"Infant\": 5\n",
    "                                                            })"
   ]
  },
  {
   "cell_type": "markdown",
   "metadata": {},
   "source": [
    "**Adding Raw Age Feature**"
   ]
  },
  {
   "cell_type": "code",
   "execution_count": 56,
   "metadata": {
    "ExecuteTime": {
     "end_time": "2020-11-06T03:06:23.683522Z",
     "start_time": "2020-11-06T03:06:23.546126Z"
    }
   },
   "outputs": [],
   "source": [
    "train_features_df[\"Age\"] = train_df[\"Age\"]"
   ]
  },
  {
   "cell_type": "markdown",
   "metadata": {},
   "source": [
    "**Feature Selection**"
   ]
  },
  {
   "cell_type": "code",
   "execution_count": 57,
   "metadata": {
    "ExecuteTime": {
     "end_time": "2020-11-06T03:06:23.777195Z",
     "start_time": "2020-11-06T03:06:23.685521Z"
    }
   },
   "outputs": [
    {
     "name": "stdout",
     "output_type": "stream",
     "text": [
      "Sex:female: 170.34812709177143\n",
      "Pclass:1: 55.17515099223469\n",
      "Pclass:3: 41.553070892984856\n",
      "Embarked:S: 5.489204823203513\n",
      "Embarked:C: 20.46440126956736\n",
      "Cabin_Names_label_enc: 240.47140498835452\n",
      "Title_label_enc: 567.3254406508074\n",
      "Family:No: 14.640792727307776\n",
      "Family:Small: 46.91282192962758\n",
      "Age:Adult: 2.1222177531836457\n",
      "Age:Infant: 12.011977871390144\n",
      "Age:Kid: 0.5816738567730807\n",
      "Age:Old: 2.280198446937015\n",
      "Age:Old_Adult: 0.0077051186869194835\n",
      "Age:Young_Adult: 0.0\n",
      "Age_mean_enc: 0.19994361309850825\n",
      "Age_label_enc: 11.256587116150138\n",
      "Age: 33.01939248021836\n"
     ]
    }
   ],
   "source": [
    "fs = SelectKBest(score_func = chi2, k = \"all\")\n",
    "fs.fit(train_features_df, train_targets_df)\n",
    "scores = fs.scores_\n",
    "\n",
    "for i, score in enumerate(scores):\n",
    "    print(f\"{train_features_df.columns[i]}: {score}\")"
   ]
  },
  {
   "cell_type": "code",
   "execution_count": 58,
   "metadata": {
    "ExecuteTime": {
     "end_time": "2020-11-06T03:06:23.885783Z",
     "start_time": "2020-11-06T03:06:23.783179Z"
    }
   },
   "outputs": [],
   "source": [
    "train_features_df = train_features_df.drop([\n",
    "    \"Age:Adult\", \"Age:Infant\", \"Age:Kid\", \"Age:Old\", \"Age:Old_Adult\", \"Age:Young_Adult\", \"Age_mean_enc\"\n",
    "], axis = 1)"
   ]
  },
  {
   "cell_type": "code",
   "execution_count": 59,
   "metadata": {
    "ExecuteTime": {
     "end_time": "2020-11-06T03:06:24.041052Z",
     "start_time": "2020-11-06T03:06:23.887778Z"
    }
   },
   "outputs": [
    {
     "data": {
      "text/html": [
       "<div>\n",
       "<style scoped>\n",
       "    .dataframe tbody tr th:only-of-type {\n",
       "        vertical-align: middle;\n",
       "    }\n",
       "\n",
       "    .dataframe tbody tr th {\n",
       "        vertical-align: top;\n",
       "    }\n",
       "\n",
       "    .dataframe thead th {\n",
       "        text-align: right;\n",
       "    }\n",
       "</style>\n",
       "<table border=\"1\" class=\"dataframe\">\n",
       "  <thead>\n",
       "    <tr style=\"text-align: right;\">\n",
       "      <th></th>\n",
       "      <th>Sex:female</th>\n",
       "      <th>Pclass:1</th>\n",
       "      <th>Pclass:3</th>\n",
       "      <th>Embarked:S</th>\n",
       "      <th>Embarked:C</th>\n",
       "      <th>Cabin_Names_label_enc</th>\n",
       "      <th>Title_label_enc</th>\n",
       "      <th>Family:No</th>\n",
       "      <th>Family:Small</th>\n",
       "      <th>Age_label_enc</th>\n",
       "      <th>Age</th>\n",
       "    </tr>\n",
       "  </thead>\n",
       "  <tbody>\n",
       "    <tr>\n",
       "      <th>0</th>\n",
       "      <td>0</td>\n",
       "      <td>0</td>\n",
       "      <td>1</td>\n",
       "      <td>1</td>\n",
       "      <td>0</td>\n",
       "      <td>0</td>\n",
       "      <td>0</td>\n",
       "      <td>0</td>\n",
       "      <td>1</td>\n",
       "      <td>2</td>\n",
       "      <td>22.0</td>\n",
       "    </tr>\n",
       "    <tr>\n",
       "      <th>1</th>\n",
       "      <td>1</td>\n",
       "      <td>1</td>\n",
       "      <td>0</td>\n",
       "      <td>0</td>\n",
       "      <td>1</td>\n",
       "      <td>3</td>\n",
       "      <td>4</td>\n",
       "      <td>0</td>\n",
       "      <td>1</td>\n",
       "      <td>1</td>\n",
       "      <td>38.0</td>\n",
       "    </tr>\n",
       "    <tr>\n",
       "      <th>2</th>\n",
       "      <td>1</td>\n",
       "      <td>0</td>\n",
       "      <td>1</td>\n",
       "      <td>1</td>\n",
       "      <td>0</td>\n",
       "      <td>0</td>\n",
       "      <td>3</td>\n",
       "      <td>1</td>\n",
       "      <td>0</td>\n",
       "      <td>1</td>\n",
       "      <td>26.0</td>\n",
       "    </tr>\n",
       "    <tr>\n",
       "      <th>3</th>\n",
       "      <td>1</td>\n",
       "      <td>1</td>\n",
       "      <td>0</td>\n",
       "      <td>1</td>\n",
       "      <td>0</td>\n",
       "      <td>3</td>\n",
       "      <td>4</td>\n",
       "      <td>0</td>\n",
       "      <td>1</td>\n",
       "      <td>1</td>\n",
       "      <td>35.0</td>\n",
       "    </tr>\n",
       "    <tr>\n",
       "      <th>4</th>\n",
       "      <td>0</td>\n",
       "      <td>0</td>\n",
       "      <td>1</td>\n",
       "      <td>1</td>\n",
       "      <td>0</td>\n",
       "      <td>0</td>\n",
       "      <td>0</td>\n",
       "      <td>1</td>\n",
       "      <td>0</td>\n",
       "      <td>1</td>\n",
       "      <td>35.0</td>\n",
       "    </tr>\n",
       "  </tbody>\n",
       "</table>\n",
       "</div>"
      ],
      "text/plain": [
       "   Sex:female  Pclass:1  Pclass:3  Embarked:S  Embarked:C  \\\n",
       "0           0         0         1           1           0   \n",
       "1           1         1         0           0           1   \n",
       "2           1         0         1           1           0   \n",
       "3           1         1         0           1           0   \n",
       "4           0         0         1           1           0   \n",
       "\n",
       "   Cabin_Names_label_enc  Title_label_enc  Family:No  Family:Small  \\\n",
       "0                      0                0          0             1   \n",
       "1                      3                4          0             1   \n",
       "2                      0                3          1             0   \n",
       "3                      3                4          0             1   \n",
       "4                      0                0          1             0   \n",
       "\n",
       "   Age_label_enc   Age  \n",
       "0              2  22.0  \n",
       "1              1  38.0  \n",
       "2              1  26.0  \n",
       "3              1  35.0  \n",
       "4              1  35.0  "
      ]
     },
     "execution_count": 59,
     "metadata": {},
     "output_type": "execute_result"
    }
   ],
   "source": [
    "train_features_df.head()"
   ]
  },
  {
   "cell_type": "markdown",
   "metadata": {},
   "source": [
    "## Fare"
   ]
  },
  {
   "cell_type": "markdown",
   "metadata": {},
   "source": [
    "**Building Fare Labels**"
   ]
  },
  {
   "cell_type": "code",
   "execution_count": 60,
   "metadata": {
    "ExecuteTime": {
     "end_time": "2020-11-06T03:06:24.197988Z",
     "start_time": "2020-11-06T03:06:24.043046Z"
    }
   },
   "outputs": [],
   "source": [
    "fare_df = train_df[[\"Survived\"]]\n",
    "\n",
    "fare_df[\"Fare_labels\"] = np.where(train_df[\"Fare\"]<50, \"Cheap\", train_df[\"Fare\"])\n",
    "fare_df[\"Fare_labels\"] = np.where(((train_df[\"Fare\"]>=50) & (train_df[\"Fare\"]<100)), \"Mid\", fare_df[\"Fare_labels\"])\n",
    "fare_df[\"Fare_labels\"] = np.where(train_df[\"Fare\"]>=100, \"Costly\", fare_df[\"Fare_labels\"])"
   ]
  },
  {
   "cell_type": "code",
   "execution_count": 61,
   "metadata": {
    "ExecuteTime": {
     "end_time": "2020-11-06T03:06:24.341479Z",
     "start_time": "2020-11-06T03:06:24.200984Z"
    }
   },
   "outputs": [
    {
     "data": {
      "text/plain": [
       "Cheap     730\n",
       "Mid       108\n",
       "Costly     53\n",
       "Name: Fare_labels, dtype: int64"
      ]
     },
     "execution_count": 61,
     "metadata": {},
     "output_type": "execute_result"
    }
   ],
   "source": [
    "fare_df[\"Fare_labels\"].value_counts()"
   ]
  },
  {
   "cell_type": "code",
   "execution_count": 62,
   "metadata": {
    "ExecuteTime": {
     "end_time": "2020-11-06T03:06:24.465888Z",
     "start_time": "2020-11-06T03:06:24.343470Z"
    }
   },
   "outputs": [
    {
     "data": {
      "text/plain": [
       "Fare_labels\n",
       "Cheap     0.319178\n",
       "Costly    0.735849\n",
       "Mid       0.648148\n",
       "Name: Survived, dtype: float64"
      ]
     },
     "execution_count": 62,
     "metadata": {},
     "output_type": "execute_result"
    }
   ],
   "source": [
    "fare_df.groupby(by = \"Fare_labels\")[\"Survived\"].mean()"
   ]
  },
  {
   "cell_type": "markdown",
   "metadata": {},
   "source": [
    "**One Hot Encoding**"
   ]
  },
  {
   "cell_type": "code",
   "execution_count": 63,
   "metadata": {
    "ExecuteTime": {
     "end_time": "2020-11-06T03:06:24.593604Z",
     "start_time": "2020-11-06T03:06:24.468519Z"
    }
   },
   "outputs": [],
   "source": [
    "train_features_df = pd.concat([\n",
    "    train_features_df,\n",
    "    pd.get_dummies(fare_df[\"Fare_labels\"], prefix = \"Fare\", prefix_sep = \":\")\n",
    "], axis = 1)"
   ]
  },
  {
   "cell_type": "markdown",
   "metadata": {},
   "source": [
    "**Mean Encoding**"
   ]
  },
  {
   "cell_type": "code",
   "execution_count": 64,
   "metadata": {
    "ExecuteTime": {
     "end_time": "2020-11-06T03:06:24.704179Z",
     "start_time": "2020-11-06T03:06:24.595604Z"
    }
   },
   "outputs": [],
   "source": [
    "train_features_df[\"Fare_mean_enc\"] = fare_df[\"Fare_labels\"].map(fare_df.groupby(by = \"Fare_labels\")[\"Survived\"].mean())"
   ]
  },
  {
   "cell_type": "markdown",
   "metadata": {},
   "source": [
    "**Label Encoding**"
   ]
  },
  {
   "cell_type": "code",
   "execution_count": 65,
   "metadata": {
    "ExecuteTime": {
     "end_time": "2020-11-06T03:06:24.813731Z",
     "start_time": "2020-11-06T03:06:24.706093Z"
    }
   },
   "outputs": [],
   "source": [
    "train_features_df[\"Fare_label_enc\"] = fare_df[\"Fare_labels\"].map({\"Cheap\": 0, \"Mid\": 1, \"Costly\": 2})"
   ]
  },
  {
   "cell_type": "markdown",
   "metadata": {},
   "source": [
    "**Adding raw Fare feature**"
   ]
  },
  {
   "cell_type": "code",
   "execution_count": 66,
   "metadata": {
    "ExecuteTime": {
     "end_time": "2020-11-06T03:06:24.908584Z",
     "start_time": "2020-11-06T03:06:24.815726Z"
    }
   },
   "outputs": [],
   "source": [
    "train_features_df[\"Fare\"] = train_df[\"Fare\"]"
   ]
  },
  {
   "cell_type": "markdown",
   "metadata": {},
   "source": [
    "**Feature Selection**"
   ]
  },
  {
   "cell_type": "code",
   "execution_count": 67,
   "metadata": {
    "ExecuteTime": {
     "end_time": "2020-11-06T03:06:25.019616Z",
     "start_time": "2020-11-06T03:06:24.910490Z"
    }
   },
   "outputs": [
    {
     "name": "stdout",
     "output_type": "stream",
     "text": [
      "Sex:female: 170.34812709177143\n",
      "Pclass:1: 55.17515099223469\n",
      "Pclass:3: 41.553070892984856\n",
      "Embarked:S: 5.489204823203513\n",
      "Embarked:C: 20.46440126956736\n",
      "Cabin_Names_label_enc: 240.47140498835452\n",
      "Title_label_enc: 567.3254406508074\n",
      "Family:No: 14.640792727307776\n",
      "Family:Small: 46.91282192962758\n",
      "Age_label_enc: 11.256587116150138\n",
      "Age: 33.01939248021836\n",
      "Fare:Cheap: 12.904918623754538\n",
      "Fare:Costly: 27.76799290214401\n",
      "Fare:Mid: 31.90120793787748\n",
      "Fare_mean_enc: 3.6423400307507308\n",
      "Fare_label_enc: 85.69746720101926\n",
      "Fare: 4518.3190906386335\n"
     ]
    }
   ],
   "source": [
    "fs = SelectKBest(score_func = chi2, k = \"all\")\n",
    "fs.fit(train_features_df, train_targets_df)\n",
    "scores = fs.scores_\n",
    "\n",
    "for i, score in enumerate(scores):\n",
    "    print(f\"{train_features_df.columns[i]}: {score}\")"
   ]
  },
  {
   "cell_type": "code",
   "execution_count": 68,
   "metadata": {
    "ExecuteTime": {
     "end_time": "2020-11-06T03:06:25.145523Z",
     "start_time": "2020-11-06T03:06:25.021610Z"
    }
   },
   "outputs": [],
   "source": [
    "train_features_df = train_features_df.drop([\n",
    "    \"Fare:Cheap\", \"Fare:Costly\", \"Fare:Mid\", \"Fare_mean_enc\"\n",
    "], axis = 1)"
   ]
  },
  {
   "cell_type": "code",
   "execution_count": 69,
   "metadata": {
    "ExecuteTime": {
     "end_time": "2020-11-06T03:06:25.270930Z",
     "start_time": "2020-11-06T03:06:25.147528Z"
    }
   },
   "outputs": [
    {
     "data": {
      "text/html": [
       "<div>\n",
       "<style scoped>\n",
       "    .dataframe tbody tr th:only-of-type {\n",
       "        vertical-align: middle;\n",
       "    }\n",
       "\n",
       "    .dataframe tbody tr th {\n",
       "        vertical-align: top;\n",
       "    }\n",
       "\n",
       "    .dataframe thead th {\n",
       "        text-align: right;\n",
       "    }\n",
       "</style>\n",
       "<table border=\"1\" class=\"dataframe\">\n",
       "  <thead>\n",
       "    <tr style=\"text-align: right;\">\n",
       "      <th></th>\n",
       "      <th>Sex:female</th>\n",
       "      <th>Pclass:1</th>\n",
       "      <th>Pclass:3</th>\n",
       "      <th>Embarked:S</th>\n",
       "      <th>Embarked:C</th>\n",
       "      <th>Cabin_Names_label_enc</th>\n",
       "      <th>Title_label_enc</th>\n",
       "      <th>Family:No</th>\n",
       "      <th>Family:Small</th>\n",
       "      <th>Age_label_enc</th>\n",
       "      <th>Age</th>\n",
       "      <th>Fare_label_enc</th>\n",
       "      <th>Fare</th>\n",
       "    </tr>\n",
       "  </thead>\n",
       "  <tbody>\n",
       "    <tr>\n",
       "      <th>0</th>\n",
       "      <td>0</td>\n",
       "      <td>0</td>\n",
       "      <td>1</td>\n",
       "      <td>1</td>\n",
       "      <td>0</td>\n",
       "      <td>0</td>\n",
       "      <td>0</td>\n",
       "      <td>0</td>\n",
       "      <td>1</td>\n",
       "      <td>2</td>\n",
       "      <td>22.0</td>\n",
       "      <td>0</td>\n",
       "      <td>7.2500</td>\n",
       "    </tr>\n",
       "    <tr>\n",
       "      <th>1</th>\n",
       "      <td>1</td>\n",
       "      <td>1</td>\n",
       "      <td>0</td>\n",
       "      <td>0</td>\n",
       "      <td>1</td>\n",
       "      <td>3</td>\n",
       "      <td>4</td>\n",
       "      <td>0</td>\n",
       "      <td>1</td>\n",
       "      <td>1</td>\n",
       "      <td>38.0</td>\n",
       "      <td>1</td>\n",
       "      <td>71.2833</td>\n",
       "    </tr>\n",
       "    <tr>\n",
       "      <th>2</th>\n",
       "      <td>1</td>\n",
       "      <td>0</td>\n",
       "      <td>1</td>\n",
       "      <td>1</td>\n",
       "      <td>0</td>\n",
       "      <td>0</td>\n",
       "      <td>3</td>\n",
       "      <td>1</td>\n",
       "      <td>0</td>\n",
       "      <td>1</td>\n",
       "      <td>26.0</td>\n",
       "      <td>0</td>\n",
       "      <td>7.9250</td>\n",
       "    </tr>\n",
       "    <tr>\n",
       "      <th>3</th>\n",
       "      <td>1</td>\n",
       "      <td>1</td>\n",
       "      <td>0</td>\n",
       "      <td>1</td>\n",
       "      <td>0</td>\n",
       "      <td>3</td>\n",
       "      <td>4</td>\n",
       "      <td>0</td>\n",
       "      <td>1</td>\n",
       "      <td>1</td>\n",
       "      <td>35.0</td>\n",
       "      <td>1</td>\n",
       "      <td>53.1000</td>\n",
       "    </tr>\n",
       "    <tr>\n",
       "      <th>4</th>\n",
       "      <td>0</td>\n",
       "      <td>0</td>\n",
       "      <td>1</td>\n",
       "      <td>1</td>\n",
       "      <td>0</td>\n",
       "      <td>0</td>\n",
       "      <td>0</td>\n",
       "      <td>1</td>\n",
       "      <td>0</td>\n",
       "      <td>1</td>\n",
       "      <td>35.0</td>\n",
       "      <td>0</td>\n",
       "      <td>8.0500</td>\n",
       "    </tr>\n",
       "  </tbody>\n",
       "</table>\n",
       "</div>"
      ],
      "text/plain": [
       "   Sex:female  Pclass:1  Pclass:3  Embarked:S  Embarked:C  \\\n",
       "0           0         0         1           1           0   \n",
       "1           1         1         0           0           1   \n",
       "2           1         0         1           1           0   \n",
       "3           1         1         0           1           0   \n",
       "4           0         0         1           1           0   \n",
       "\n",
       "   Cabin_Names_label_enc  Title_label_enc  Family:No  Family:Small  \\\n",
       "0                      0                0          0             1   \n",
       "1                      3                4          0             1   \n",
       "2                      0                3          1             0   \n",
       "3                      3                4          0             1   \n",
       "4                      0                0          1             0   \n",
       "\n",
       "   Age_label_enc   Age  Fare_label_enc     Fare  \n",
       "0              2  22.0               0   7.2500  \n",
       "1              1  38.0               1  71.2833  \n",
       "2              1  26.0               0   7.9250  \n",
       "3              1  35.0               1  53.1000  \n",
       "4              1  35.0               0   8.0500  "
      ]
     },
     "execution_count": 69,
     "metadata": {},
     "output_type": "execute_result"
    }
   ],
   "source": [
    "train_features_df.head()"
   ]
  },
  {
   "cell_type": "code",
   "execution_count": 70,
   "metadata": {
    "ExecuteTime": {
     "end_time": "2020-11-06T03:06:25.365999Z",
     "start_time": "2020-11-06T03:06:25.272924Z"
    }
   },
   "outputs": [
    {
     "data": {
      "text/plain": [
       "Index(['Sex:female', 'Pclass:1', 'Pclass:3', 'Embarked:S', 'Embarked:C',\n",
       "       'Cabin_Names_label_enc', 'Title_label_enc', 'Family:No', 'Family:Small',\n",
       "       'Age_label_enc', 'Age', 'Fare_label_enc', 'Fare'],\n",
       "      dtype='object')"
      ]
     },
     "execution_count": 70,
     "metadata": {},
     "output_type": "execute_result"
    }
   ],
   "source": [
    "train_features_df.columns"
   ]
  },
  {
   "cell_type": "markdown",
   "metadata": {},
   "source": [
    "# Exporting Train Set after Feature Engineering"
   ]
  },
  {
   "cell_type": "code",
   "execution_count": 71,
   "metadata": {
    "ExecuteTime": {
     "end_time": "2020-11-06T08:17:24.538638Z",
     "start_time": "2020-11-06T08:17:24.459209Z"
    }
   },
   "outputs": [],
   "source": [
    "train_features_df.to_csv(\"../Data/train_features_df.csv\", index = False)"
   ]
  }
 ],
 "metadata": {
  "kernelspec": {
   "display_name": "Python 3",
   "language": "python",
   "name": "python3"
  },
  "language_info": {
   "codemirror_mode": {
    "name": "ipython",
    "version": 3
   },
   "file_extension": ".py",
   "mimetype": "text/x-python",
   "name": "python",
   "nbconvert_exporter": "python",
   "pygments_lexer": "ipython3",
   "version": "3.7.6"
  },
  "latex_envs": {
   "LaTeX_envs_menu_present": true,
   "autoclose": false,
   "autocomplete": true,
   "bibliofile": "biblio.bib",
   "cite_by": "apalike",
   "current_citInitial": 1,
   "eqLabelWithNumbers": true,
   "eqNumInitial": 1,
   "hotkeys": {
    "equation": "Ctrl-E",
    "itemize": "Ctrl-I"
   },
   "labels_anchors": false,
   "latex_user_defs": false,
   "report_style_numbering": false,
   "user_envs_cfg": false
  },
  "toc": {
   "base_numbering": 1,
   "nav_menu": {},
   "number_sections": true,
   "sideBar": true,
   "skip_h1_title": false,
   "title_cell": "Table of Contents",
   "title_sidebar": "Contents",
   "toc_cell": false,
   "toc_position": {},
   "toc_section_display": true,
   "toc_window_display": true
  }
 },
 "nbformat": 4,
 "nbformat_minor": 4
}
