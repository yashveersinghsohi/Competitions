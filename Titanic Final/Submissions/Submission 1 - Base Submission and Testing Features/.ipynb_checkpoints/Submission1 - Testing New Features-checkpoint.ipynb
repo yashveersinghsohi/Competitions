{
 "cells": [
  {
   "cell_type": "markdown",
   "metadata": {},
   "source": [
    "# Importing Required Packages"
   ]
  },
  {
   "cell_type": "code",
   "execution_count": 1,
   "metadata": {
    "ExecuteTime": {
     "end_time": "2020-11-16T06:49:17.837504Z",
     "start_time": "2020-11-16T06:49:15.960525Z"
    }
   },
   "outputs": [],
   "source": [
    "import pandas as pd\n",
    "import numpy as np\n",
    "import matplotlib.pyplot as plt\n",
    "import seaborn as sns\n",
    "\n",
    "from sklearn.model_selection import train_test_split\n",
    "from sklearn.ensemble import RandomForestClassifier\n",
    "from sklearn.feature_selection import SelectKBest, chi2\n",
    "from sklearn.metrics import f1_score\n",
    "\n",
    "import warnings\n",
    "warnings.filterwarnings(\"ignore\")\n",
    "\n",
    "sns.set()"
   ]
  },
  {
   "cell_type": "markdown",
   "metadata": {},
   "source": [
    "# Importing Datasets"
   ]
  },
  {
   "cell_type": "code",
   "execution_count": 2,
   "metadata": {
    "ExecuteTime": {
     "end_time": "2020-11-16T06:49:21.142067Z",
     "start_time": "2020-11-16T06:49:21.117133Z"
    }
   },
   "outputs": [],
   "source": [
    "train_features_backup = pd.read_csv(\"../Data/train_features_df.csv\")\n",
    "test_features_backup = pd.read_csv(\"../Data/test_features_df.csv\")\n",
    "\n",
    "train_features_df = train_features_backup.copy()\n",
    "test_features_df = test_features_backup.copy()"
   ]
  },
  {
   "cell_type": "code",
   "execution_count": 3,
   "metadata": {
    "ExecuteTime": {
     "end_time": "2020-11-16T06:49:22.251499Z",
     "start_time": "2020-11-16T06:49:22.203628Z"
    }
   },
   "outputs": [],
   "source": [
    "train_df = pd.read_csv(\"../Data/train.csv\")\n",
    "test_df = pd.read_csv(\"../Data/test.csv\")\n",
    "\n",
    "train_preprocessed_df = pd.read_csv(\"../Data/preprocessed_train_df.csv\")\n",
    "test_preprocessed_df = pd.read_csv(\"../Data/preprocessed_test_df.csv\")"
   ]
  },
  {
   "cell_type": "markdown",
   "metadata": {},
   "source": [
    "# Adding Some New Features"
   ]
  },
  {
   "cell_type": "code",
   "execution_count": 4,
   "metadata": {
    "ExecuteTime": {
     "end_time": "2020-11-16T06:49:24.117918Z",
     "start_time": "2020-11-16T06:49:24.088996Z"
    }
   },
   "outputs": [
    {
     "data": {
      "text/html": [
       "<div>\n",
       "<style scoped>\n",
       "    .dataframe tbody tr th:only-of-type {\n",
       "        vertical-align: middle;\n",
       "    }\n",
       "\n",
       "    .dataframe tbody tr th {\n",
       "        vertical-align: top;\n",
       "    }\n",
       "\n",
       "    .dataframe thead th {\n",
       "        text-align: right;\n",
       "    }\n",
       "</style>\n",
       "<table border=\"1\" class=\"dataframe\">\n",
       "  <thead>\n",
       "    <tr style=\"text-align: right;\">\n",
       "      <th></th>\n",
       "      <th>Sex:female</th>\n",
       "      <th>Pclass:1</th>\n",
       "      <th>Pclass:3</th>\n",
       "      <th>Embarked:S</th>\n",
       "      <th>Embarked:C</th>\n",
       "      <th>Cabin_Names_label_enc</th>\n",
       "      <th>Title_label_enc</th>\n",
       "      <th>Family:No</th>\n",
       "      <th>Family:Small</th>\n",
       "      <th>Age_label_enc</th>\n",
       "      <th>Age</th>\n",
       "      <th>Fare_label_enc</th>\n",
       "      <th>Fare</th>\n",
       "    </tr>\n",
       "  </thead>\n",
       "  <tbody>\n",
       "    <tr>\n",
       "      <th>0</th>\n",
       "      <td>0</td>\n",
       "      <td>0</td>\n",
       "      <td>1</td>\n",
       "      <td>1</td>\n",
       "      <td>0</td>\n",
       "      <td>0</td>\n",
       "      <td>0</td>\n",
       "      <td>0</td>\n",
       "      <td>1</td>\n",
       "      <td>2</td>\n",
       "      <td>22.0</td>\n",
       "      <td>0</td>\n",
       "      <td>7.2500</td>\n",
       "    </tr>\n",
       "    <tr>\n",
       "      <th>1</th>\n",
       "      <td>1</td>\n",
       "      <td>1</td>\n",
       "      <td>0</td>\n",
       "      <td>0</td>\n",
       "      <td>1</td>\n",
       "      <td>3</td>\n",
       "      <td>4</td>\n",
       "      <td>0</td>\n",
       "      <td>1</td>\n",
       "      <td>1</td>\n",
       "      <td>38.0</td>\n",
       "      <td>1</td>\n",
       "      <td>71.2833</td>\n",
       "    </tr>\n",
       "    <tr>\n",
       "      <th>2</th>\n",
       "      <td>1</td>\n",
       "      <td>0</td>\n",
       "      <td>1</td>\n",
       "      <td>1</td>\n",
       "      <td>0</td>\n",
       "      <td>0</td>\n",
       "      <td>3</td>\n",
       "      <td>1</td>\n",
       "      <td>0</td>\n",
       "      <td>1</td>\n",
       "      <td>26.0</td>\n",
       "      <td>0</td>\n",
       "      <td>7.9250</td>\n",
       "    </tr>\n",
       "    <tr>\n",
       "      <th>3</th>\n",
       "      <td>1</td>\n",
       "      <td>1</td>\n",
       "      <td>0</td>\n",
       "      <td>1</td>\n",
       "      <td>0</td>\n",
       "      <td>3</td>\n",
       "      <td>4</td>\n",
       "      <td>0</td>\n",
       "      <td>1</td>\n",
       "      <td>1</td>\n",
       "      <td>35.0</td>\n",
       "      <td>1</td>\n",
       "      <td>53.1000</td>\n",
       "    </tr>\n",
       "    <tr>\n",
       "      <th>4</th>\n",
       "      <td>0</td>\n",
       "      <td>0</td>\n",
       "      <td>1</td>\n",
       "      <td>1</td>\n",
       "      <td>0</td>\n",
       "      <td>0</td>\n",
       "      <td>0</td>\n",
       "      <td>1</td>\n",
       "      <td>0</td>\n",
       "      <td>1</td>\n",
       "      <td>35.0</td>\n",
       "      <td>0</td>\n",
       "      <td>8.0500</td>\n",
       "    </tr>\n",
       "  </tbody>\n",
       "</table>\n",
       "</div>"
      ],
      "text/plain": [
       "   Sex:female  Pclass:1  Pclass:3  Embarked:S  Embarked:C  \\\n",
       "0           0         0         1           1           0   \n",
       "1           1         1         0           0           1   \n",
       "2           1         0         1           1           0   \n",
       "3           1         1         0           1           0   \n",
       "4           0         0         1           1           0   \n",
       "\n",
       "   Cabin_Names_label_enc  Title_label_enc  Family:No  Family:Small  \\\n",
       "0                      0                0          0             1   \n",
       "1                      3                4          0             1   \n",
       "2                      0                3          1             0   \n",
       "3                      3                4          0             1   \n",
       "4                      0                0          1             0   \n",
       "\n",
       "   Age_label_enc   Age  Fare_label_enc     Fare  \n",
       "0              2  22.0               0   7.2500  \n",
       "1              1  38.0               1  71.2833  \n",
       "2              1  26.0               0   7.9250  \n",
       "3              1  35.0               1  53.1000  \n",
       "4              1  35.0               0   8.0500  "
      ]
     },
     "execution_count": 4,
     "metadata": {},
     "output_type": "execute_result"
    }
   ],
   "source": [
    "train_features_df.head()"
   ]
  },
  {
   "cell_type": "markdown",
   "metadata": {},
   "source": [
    "## Is_Rich_Woman"
   ]
  },
  {
   "cell_type": "markdown",
   "metadata": {},
   "source": [
    "- **Pclass = 1, 2**\n",
    "- **Sex = female**"
   ]
  },
  {
   "cell_type": "code",
   "execution_count": 5,
   "metadata": {
    "ExecuteTime": {
     "end_time": "2020-11-16T06:49:26.642905Z",
     "start_time": "2020-11-16T06:49:26.613983Z"
    }
   },
   "outputs": [],
   "source": [
    "train_features_df[\"Is_Rich_Woman\"] = np.where(\n",
    "                            ((train_preprocessed_df[\"Pclass\"].isin([1, 2])) & (train_preprocessed_df[\"Sex\"] == \"female\")),\n",
    "                            1, 0)"
   ]
  },
  {
   "cell_type": "code",
   "execution_count": 6,
   "metadata": {
    "ExecuteTime": {
     "end_time": "2020-11-16T06:49:27.112649Z",
     "start_time": "2020-11-16T06:49:27.091706Z"
    }
   },
   "outputs": [],
   "source": [
    "test_features_df[\"Is_Rich_Woman\"] = np.where(\n",
    "                            ((test_preprocessed_df[\"Pclass\"].isin([1, 2])) & (test_preprocessed_df[\"Sex\"] == \"female\")),\n",
    "                            1, 0)"
   ]
  },
  {
   "cell_type": "code",
   "execution_count": 7,
   "metadata": {
    "ExecuteTime": {
     "end_time": "2020-11-16T06:49:27.635253Z",
     "start_time": "2020-11-16T06:49:27.621291Z"
    }
   },
   "outputs": [
    {
     "data": {
      "text/plain": [
       "0    721\n",
       "1    170\n",
       "Name: Is_Rich_Woman, dtype: int64"
      ]
     },
     "execution_count": 7,
     "metadata": {},
     "output_type": "execute_result"
    }
   ],
   "source": [
    "train_features_df[\"Is_Rich_Woman\"].value_counts()"
   ]
  },
  {
   "cell_type": "code",
   "execution_count": 8,
   "metadata": {
    "ExecuteTime": {
     "end_time": "2020-11-16T06:49:28.358646Z",
     "start_time": "2020-11-16T06:49:28.112690Z"
    }
   },
   "outputs": [
    {
     "name": "stdout",
     "output_type": "stream",
     "text": [
      "Is_Rich_Woman  Survived\n",
      "0              0           540\n",
      "               1           181\n",
      "1              1           161\n",
      "               0             9\n",
      "Name: Survived, dtype: int64\n"
     ]
    },
    {
     "data": {
      "image/png": "[encoded data removed]",
      "text/plain": [
       "<Figure size 432x288 with 1 Axes>"
      ]
     },
     "metadata": {},
     "output_type": "display_data"
    }
   ],
   "source": [
    "df = train_df[[\"Survived\"]]\n",
    "df[\"Is_Rich_Woman\"] = train_features_df[\"Is_Rich_Woman\"]\n",
    "\n",
    "df.groupby(by = \"Is_Rich_Woman\")[\"Survived\"].value_counts().unstack().plot.bar()\n",
    "print(df.groupby(by = \"Is_Rich_Woman\")[\"Survived\"].value_counts())\n",
    "plt.show()"
   ]
  },
  {
   "cell_type": "markdown",
   "metadata": {},
   "source": [
    "## Is_Poor_Man"
   ]
  },
  {
   "cell_type": "markdown",
   "metadata": {},
   "source": [
    "- **Pclass = 3**\n",
    "- **Sex = male**"
   ]
  },
  {
   "cell_type": "code",
   "execution_count": 9,
   "metadata": {
    "ExecuteTime": {
     "end_time": "2020-11-16T06:49:29.234578Z",
     "start_time": "2020-11-16T06:49:29.218619Z"
    }
   },
   "outputs": [],
   "source": [
    "train_features_df[\"Is_Poor_Man\"] = np.where(\n",
    "                            ((train_preprocessed_df[\"Pclass\"] == 3) & (train_preprocessed_df[\"Sex\"] == \"male\")),\n",
    "                            1, 0)"
   ]
  },
  {
   "cell_type": "code",
   "execution_count": 10,
   "metadata": {
    "ExecuteTime": {
     "end_time": "2020-11-16T06:49:29.561702Z",
     "start_time": "2020-11-16T06:49:29.544747Z"
    }
   },
   "outputs": [],
   "source": [
    "test_features_df[\"Is_Poor_Man\"] = np.where(\n",
    "                            ((test_preprocessed_df[\"Pclass\"] == 3) & (test_preprocessed_df[\"Sex\"] == \"male\")),\n",
    "                            1, 0)"
   ]
  },
  {
   "cell_type": "code",
   "execution_count": 11,
   "metadata": {
    "ExecuteTime": {
     "end_time": "2020-11-16T06:49:29.905506Z",
     "start_time": "2020-11-16T06:49:29.883572Z"
    }
   },
   "outputs": [
    {
     "data": {
      "text/plain": [
       "0    544\n",
       "1    347\n",
       "Name: Is_Poor_Man, dtype: int64"
      ]
     },
     "execution_count": 11,
     "metadata": {},
     "output_type": "execute_result"
    }
   ],
   "source": [
    "train_features_df[\"Is_Poor_Man\"].value_counts()"
   ]
  },
  {
   "cell_type": "code",
   "execution_count": 12,
   "metadata": {
    "ExecuteTime": {
     "end_time": "2020-11-16T06:49:30.564906Z",
     "start_time": "2020-11-16T06:49:30.351477Z"
    }
   },
   "outputs": [
    {
     "name": "stdout",
     "output_type": "stream",
     "text": [
      "Is_Poor_Man  Survived\n",
      "0            1           295\n",
      "             0           249\n",
      "1            0           300\n",
      "             1            47\n",
      "Name: Survived, dtype: int64\n"
     ]
    },
    {
     "data": {
      "image/png": "[encoded data removed]",
      "text/plain": [
       "<Figure size 432x288 with 1 Axes>"
      ]
     },
     "metadata": {},
     "output_type": "display_data"
    }
   ],
   "source": [
    "df = train_df[[\"Survived\"]]\n",
    "df[\"Is_Poor_Man\"] = train_features_df[\"Is_Poor_Man\"]\n",
    "\n",
    "df.groupby(by = \"Is_Poor_Man\")[\"Survived\"].value_counts().unstack().plot.bar()\n",
    "print(df.groupby(by = \"Is_Poor_Man\")[\"Survived\"].value_counts())\n",
    "plt.show()"
   ]
  },
  {
   "cell_type": "markdown",
   "metadata": {},
   "source": [
    "## Is_Alone"
   ]
  },
  {
   "cell_type": "code",
   "execution_count": 13,
   "metadata": {
    "ExecuteTime": {
     "end_time": "2020-11-16T06:49:31.069336Z",
     "start_time": "2020-11-16T06:49:31.051387Z"
    }
   },
   "outputs": [],
   "source": [
    "train_features_df[\"Is_Alone\"] = np.where(train_preprocessed_df[\"Family\"] == 0, 1, 0)\n",
    "test_features_df[\"Is_Alone\"] = np.where(test_preprocessed_df[\"Family\"] == 0, 1, 0)"
   ]
  },
  {
   "cell_type": "code",
   "execution_count": 14,
   "metadata": {
    "ExecuteTime": {
     "end_time": "2020-11-16T06:49:31.415903Z",
     "start_time": "2020-11-16T06:49:31.397954Z"
    }
   },
   "outputs": [
    {
     "data": {
      "text/plain": [
       "1    537\n",
       "0    354\n",
       "Name: Is_Alone, dtype: int64"
      ]
     },
     "execution_count": 14,
     "metadata": {},
     "output_type": "execute_result"
    }
   ],
   "source": [
    "train_features_df[\"Is_Alone\"].value_counts()"
   ]
  },
  {
   "cell_type": "code",
   "execution_count": 15,
   "metadata": {
    "ExecuteTime": {
     "end_time": "2020-11-16T06:49:32.065168Z",
     "start_time": "2020-11-16T06:49:31.860715Z"
    }
   },
   "outputs": [
    {
     "name": "stdout",
     "output_type": "stream",
     "text": [
      "Is_Alone  Survived\n",
      "0         1           179\n",
      "          0           175\n",
      "1         0           374\n",
      "          1           163\n",
      "Name: Survived, dtype: int64\n"
     ]
    },
    {
     "data": {
      "image/png": "[encoded data removed]",
      "text/plain": [
       "<Figure size 432x288 with 1 Axes>"
      ]
     },
     "metadata": {},
     "output_type": "display_data"
    }
   ],
   "source": [
    "df = train_df[[\"Survived\"]]\n",
    "df[\"Is_Alone\"] = train_features_df[\"Is_Alone\"]\n",
    "\n",
    "df.groupby(by = \"Is_Alone\")[\"Survived\"].value_counts().unstack().plot.bar()\n",
    "print(df.groupby(by = \"Is_Alone\")[\"Survived\"].value_counts())\n",
    "plt.show()"
   ]
  },
  {
   "cell_type": "markdown",
   "metadata": {},
   "source": [
    "# Modeling"
   ]
  },
  {
   "cell_type": "markdown",
   "metadata": {},
   "source": [
    "## With New Features"
   ]
  },
  {
   "cell_type": "code",
   "execution_count": 16,
   "metadata": {
    "ExecuteTime": {
     "end_time": "2020-11-16T06:49:34.608289Z",
     "start_time": "2020-11-16T06:49:34.355967Z"
    }
   },
   "outputs": [
    {
     "name": "stdout",
     "output_type": "stream",
     "text": [
      "Classification Accuracy -  0.8324022346368715\n",
      "F1 Score -  0.7916666666666666\n"
     ]
    }
   ],
   "source": [
    "X, y = train_features_df.drop([\"Age_label_enc\", \"Fare_label_enc\"], axis = 1).values, train_df[\"Survived\"].values\n",
    "X_train, X_test, y_train, y_test = train_test_split(X, y, test_size = 0.2, random_state = 42)\n",
    "\n",
    "rfc = RandomForestClassifier(n_estimators = 100, random_state = 42)\n",
    "rfc.fit(X_train, y_train)\n",
    "\n",
    "print(\"Classification Accuracy - \", np.where(rfc.predict(X_test) == y_test, 1, 0).mean())\n",
    "print(\"F1 Score - \", f1_score(y_true = y_test, y_pred = rfc.predict(X_test)))"
   ]
  },
  {
   "cell_type": "markdown",
   "metadata": {},
   "source": [
    "## Without New Features"
   ]
  },
  {
   "cell_type": "code",
   "execution_count": 17,
   "metadata": {
    "ExecuteTime": {
     "end_time": "2020-11-16T06:49:36.866505Z",
     "start_time": "2020-11-16T06:49:36.640380Z"
    }
   },
   "outputs": [
    {
     "name": "stdout",
     "output_type": "stream",
     "text": [
      "Classification Accuracy -  0.8547486033519553\n",
      "F1 Score -  0.8243243243243243\n"
     ]
    }
   ],
   "source": [
    "X, y = train_features_df.drop([\"Age_label_enc\", \"Fare_label_enc\", \"Is_Poor_Man\", \"Is_Rich_Woman\", \"Is_Alone\"], axis = 1).values, train_df[\"Survived\"].values\n",
    "X_train, X_test, y_train, y_test = train_test_split(X, y, test_size = 0.2, random_state = 42)\n",
    "\n",
    "rfc = RandomForestClassifier(n_estimators = 100, random_state = 42)\n",
    "rfc.fit(X_train, y_train)\n",
    "\n",
    "print(\"Classification Accuracy - \", np.where(rfc.predict(X_test) == y_test, 1, 0).mean())\n",
    "print(\"F1 Score - \", f1_score(y_true = y_test, y_pred = rfc.predict(X_test)))"
   ]
  }
 ],
 "metadata": {
  "kernelspec": {
   "display_name": "Python 3",
   "language": "python",
   "name": "python3"
  },
  "language_info": {
   "codemirror_mode": {
    "name": "ipython",
    "version": 3
   },
   "file_extension": ".py",
   "mimetype": "text/x-python",
   "name": "python",
   "nbconvert_exporter": "python",
   "pygments_lexer": "ipython3",
   "version": "3.7.6"
  },
  "latex_envs": {
   "LaTeX_envs_menu_present": true,
   "autoclose": false,
   "autocomplete": true,
   "bibliofile": "biblio.bib",
   "cite_by": "apalike",
   "current_citInitial": 1,
   "eqLabelWithNumbers": true,
   "eqNumInitial": 1,
   "hotkeys": {
    "equation": "Ctrl-E",
    "itemize": "Ctrl-I"
   },
   "labels_anchors": false,
   "latex_user_defs": false,
   "report_style_numbering": false,
   "user_envs_cfg": false
  },
  "toc": {
   "base_numbering": 1,
   "nav_menu": {},
   "number_sections": true,
   "sideBar": true,
   "skip_h1_title": false,
   "title_cell": "Table of Contents",
   "title_sidebar": "Contents",
   "toc_cell": false,
   "toc_position": {},
   "toc_section_display": true,
   "toc_window_display": true
  }
 },
 "nbformat": 4,
 "nbformat_minor": 4
}
