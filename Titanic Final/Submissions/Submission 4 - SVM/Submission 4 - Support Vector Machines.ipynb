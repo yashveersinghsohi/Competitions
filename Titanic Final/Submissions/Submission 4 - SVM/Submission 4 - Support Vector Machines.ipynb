{
 "cells": [
  {
   "cell_type": "markdown",
   "metadata": {},
   "source": [
    "# Importing Required Packages"
   ]
  },
  {
   "cell_type": "code",
   "execution_count": 1,
   "metadata": {
    "ExecuteTime": {
     "end_time": "2020-11-16T09:27:04.804231Z",
     "start_time": "2020-11-16T09:27:02.817789Z"
    }
   },
   "outputs": [],
   "source": [
    "import pandas as pd\n",
    "import numpy as np\n",
    "import matplotlib.pyplot as plt\n",
    "import seaborn as sns\n",
    "\n",
    "from sklearn.model_selection import train_test_split\n",
    "from sklearn.svm import SVC\n",
    "from sklearn.metrics import f1_score\n",
    "from sklearn.model_selection import GridSearchCV\n",
    "\n",
    "import pickle\n",
    "\n",
    "import warnings\n",
    "warnings.filterwarnings(\"ignore\")\n",
    "\n",
    "sns.set()"
   ]
  },
  {
   "cell_type": "markdown",
   "metadata": {},
   "source": [
    "# Importing Data"
   ]
  },
  {
   "cell_type": "code",
   "execution_count": 2,
   "metadata": {
    "ExecuteTime": {
     "end_time": "2020-11-16T09:27:04.852131Z",
     "start_time": "2020-11-16T09:27:04.809218Z"
    }
   },
   "outputs": [],
   "source": [
    "train_features_backup = pd.read_csv(\"../Data/train_features_df.csv\")\n",
    "test_features_backup = pd.read_csv(\"../Data/test_features_df.csv\")\n",
    "\n",
    "train_features_df = train_features_backup.copy()\n",
    "train_features_df = train_features_df.drop([\"Age_label_enc\", \"Fare_label_enc\"], axis = 1)\n",
    "train_features_df[\"Indices\"] = train_features_df.index\n",
    "\n",
    "test_features_df = test_features_backup.copy()\n",
    "test_features_df = test_features_df.drop([\"Age_label_enc\", \"Fare_mean_enc\"], axis = 1)"
   ]
  },
  {
   "cell_type": "code",
   "execution_count": 3,
   "metadata": {
    "ExecuteTime": {
     "end_time": "2020-11-16T09:27:04.992901Z",
     "start_time": "2020-11-16T09:27:04.860090Z"
    }
   },
   "outputs": [],
   "source": [
    "train_df = pd.read_csv(\"../Data/train.csv\")\n",
    "test_df = pd.read_csv(\"../Data/test.csv\")\n",
    "\n",
    "train_preprocessed_df = pd.read_csv(\"../Data/preprocessed_train_df.csv\")\n",
    "test_preprocessed_df = pd.read_csv(\"../Data/preprocessed_test_df.csv\")"
   ]
  },
  {
   "cell_type": "markdown",
   "metadata": {},
   "source": [
    "# Train-Test Split"
   ]
  },
  {
   "cell_type": "code",
   "execution_count": 4,
   "metadata": {
    "ExecuteTime": {
     "end_time": "2020-11-16T09:27:05.071769Z",
     "start_time": "2020-11-16T09:27:04.996889Z"
    }
   },
   "outputs": [],
   "source": [
    "X, y = train_features_df.values, train_df[\"Survived\"].values\n",
    "X_train, X_test, y_train, y_test = train_test_split(X, y, test_size = 0.2, random_state = 42)"
   ]
  },
  {
   "cell_type": "markdown",
   "metadata": {},
   "source": [
    "# Base SVM Model"
   ]
  },
  {
   "cell_type": "code",
   "execution_count": 5,
   "metadata": {
    "ExecuteTime": {
     "end_time": "2020-11-16T09:27:05.212330Z",
     "start_time": "2020-11-16T09:27:05.077753Z"
    }
   },
   "outputs": [
    {
     "data": {
      "text/plain": [
       "SVC(C=1.0, break_ties=False, cache_size=200, class_weight=None, coef0=0.0,\n",
       "    decision_function_shape='ovr', degree=3, gamma='scale', kernel='rbf',\n",
       "    max_iter=-1, probability=False, random_state=None, shrinking=True,\n",
       "    tol=0.001, verbose=False)"
      ]
     },
     "execution_count": 5,
     "metadata": {},
     "output_type": "execute_result"
    }
   ],
   "source": [
    "SVC().fit(X_train, y_train)"
   ]
  },
  {
   "cell_type": "code",
   "execution_count": 6,
   "metadata": {
    "ExecuteTime": {
     "end_time": "2020-11-16T09:27:05.322285Z",
     "start_time": "2020-11-16T09:27:05.218316Z"
    }
   },
   "outputs": [],
   "source": [
    "svm_model = SVC(random_state = 42).fit(X_train[:, :-1], y_train)"
   ]
  },
  {
   "cell_type": "markdown",
   "metadata": {},
   "source": [
    "## Classification Accuracy"
   ]
  },
  {
   "cell_type": "code",
   "execution_count": 7,
   "metadata": {
    "ExecuteTime": {
     "end_time": "2020-11-16T09:27:05.432809Z",
     "start_time": "2020-11-16T09:27:05.325214Z"
    }
   },
   "outputs": [
    {
     "data": {
      "text/plain": [
       "0.6703910614525139"
      ]
     },
     "execution_count": 7,
     "metadata": {},
     "output_type": "execute_result"
    }
   ],
   "source": [
    "np.where(svm_model.predict(X_test[:, :-1]) == y_test, 1, 0).mean()"
   ]
  },
  {
   "cell_type": "markdown",
   "metadata": {},
   "source": [
    "## F1 Score"
   ]
  },
  {
   "cell_type": "code",
   "execution_count": 8,
   "metadata": {
    "ExecuteTime": {
     "end_time": "2020-11-16T09:27:05.638225Z",
     "start_time": "2020-11-16T09:27:05.434805Z"
    }
   },
   "outputs": [
    {
     "data": {
      "text/plain": [
       "0.4158415841584159"
      ]
     },
     "execution_count": 8,
     "metadata": {},
     "output_type": "execute_result"
    }
   ],
   "source": [
    "f1_score(y_true = y_test, y_pred = svm_model.predict(X_test[:, :-1]))"
   ]
  },
  {
   "cell_type": "markdown",
   "metadata": {},
   "source": [
    "## Classification Summary"
   ]
  },
  {
   "cell_type": "code",
   "execution_count": 9,
   "metadata": {
    "ExecuteTime": {
     "end_time": "2020-11-16T09:27:05.810848Z",
     "start_time": "2020-11-16T09:27:05.641831Z"
    }
   },
   "outputs": [
    {
     "data": {
      "text/html": [
       "<div>\n",
       "<style scoped>\n",
       "    .dataframe tbody tr th:only-of-type {\n",
       "        vertical-align: middle;\n",
       "    }\n",
       "\n",
       "    .dataframe tbody tr th {\n",
       "        vertical-align: top;\n",
       "    }\n",
       "\n",
       "    .dataframe thead th {\n",
       "        text-align: right;\n",
       "    }\n",
       "</style>\n",
       "<table border=\"1\" class=\"dataframe\">\n",
       "  <thead>\n",
       "    <tr style=\"text-align: right;\">\n",
       "      <th></th>\n",
       "      <th>Actuals:0</th>\n",
       "      <th>Actuals:1</th>\n",
       "    </tr>\n",
       "  </thead>\n",
       "  <tbody>\n",
       "    <tr>\n",
       "      <th>Predictions:0</th>\n",
       "      <td>99</td>\n",
       "      <td>53</td>\n",
       "    </tr>\n",
       "    <tr>\n",
       "      <th>Predictions:1</th>\n",
       "      <td>6</td>\n",
       "      <td>21</td>\n",
       "    </tr>\n",
       "  </tbody>\n",
       "</table>\n",
       "</div>"
      ],
      "text/plain": [
       "              Actuals:0 Actuals:1\n",
       "Predictions:0        99        53\n",
       "Predictions:1         6        21"
      ]
     },
     "execution_count": 9,
     "metadata": {},
     "output_type": "execute_result"
    }
   ],
   "source": [
    "preds = svm_model.predict(X_test[:, :-1])\n",
    "\n",
    "f1_df = pd.DataFrame(index = [\"Predictions:0\", \"Predictions:1\"], columns = [\"Actuals:0\", \"Actuals:1\"])\n",
    "\n",
    "f1_df.at[\"Predictions:0\", \"Actuals:0\"] = np.where((preds == 0) & (y_test == 0), 1, 0).sum()\n",
    "f1_df.at[\"Predictions:0\", \"Actuals:1\"] = np.where((preds == 0) & (y_test == 1), 1, 0).sum()\n",
    "f1_df.at[\"Predictions:1\", \"Actuals:0\"] = np.where((preds == 1) & (y_test == 0), 1, 0).sum()\n",
    "f1_df.at[\"Predictions:1\", \"Actuals:1\"] = np.where((preds == 1) & (y_test == 1), 1, 0).sum()\n",
    "\n",
    "f1_df"
   ]
  },
  {
   "cell_type": "markdown",
   "metadata": {},
   "source": [
    "## Creating Base Submission File"
   ]
  },
  {
   "cell_type": "code",
   "execution_count": 10,
   "metadata": {
    "ExecuteTime": {
     "end_time": "2020-11-16T09:27:06.046203Z",
     "start_time": "2020-11-16T09:27:05.813385Z"
    }
   },
   "outputs": [
    {
     "data": {
      "text/html": [
       "<div>\n",
       "<style scoped>\n",
       "    .dataframe tbody tr th:only-of-type {\n",
       "        vertical-align: middle;\n",
       "    }\n",
       "\n",
       "    .dataframe tbody tr th {\n",
       "        vertical-align: top;\n",
       "    }\n",
       "\n",
       "    .dataframe thead th {\n",
       "        text-align: right;\n",
       "    }\n",
       "</style>\n",
       "<table border=\"1\" class=\"dataframe\">\n",
       "  <thead>\n",
       "    <tr style=\"text-align: right;\">\n",
       "      <th></th>\n",
       "      <th>PassengerId</th>\n",
       "      <th>Survived</th>\n",
       "    </tr>\n",
       "  </thead>\n",
       "  <tbody>\n",
       "    <tr>\n",
       "      <th>0</th>\n",
       "      <td>892</td>\n",
       "      <td>0</td>\n",
       "    </tr>\n",
       "    <tr>\n",
       "      <th>1</th>\n",
       "      <td>893</td>\n",
       "      <td>0</td>\n",
       "    </tr>\n",
       "    <tr>\n",
       "      <th>2</th>\n",
       "      <td>894</td>\n",
       "      <td>0</td>\n",
       "    </tr>\n",
       "    <tr>\n",
       "      <th>3</th>\n",
       "      <td>895</td>\n",
       "      <td>0</td>\n",
       "    </tr>\n",
       "    <tr>\n",
       "      <th>4</th>\n",
       "      <td>896</td>\n",
       "      <td>0</td>\n",
       "    </tr>\n",
       "  </tbody>\n",
       "</table>\n",
       "</div>"
      ],
      "text/plain": [
       "   PassengerId  Survived\n",
       "0          892         0\n",
       "1          893         0\n",
       "2          894         0\n",
       "3          895         0\n",
       "4          896         0"
      ]
     },
     "execution_count": 10,
     "metadata": {},
     "output_type": "execute_result"
    }
   ],
   "source": [
    "X, y = train_features_df.values, train_df[\"Survived\"].values\n",
    "\n",
    "full_svm_model = SVC(random_state = 42).fit(X[:, :-1], y)\n",
    "full_preds = full_svm_model.predict(test_features_df.values)\n",
    "\n",
    "sub4 = pd.read_csv(\"../Data/gender_submission.csv\")\n",
    "sub4[\"Survived\"] = full_preds\n",
    "sub4.head()"
   ]
  },
  {
   "cell_type": "code",
   "execution_count": 11,
   "metadata": {
    "ExecuteTime": {
     "end_time": "2020-11-16T09:27:06.232723Z",
     "start_time": "2020-11-16T09:27:06.048895Z"
    }
   },
   "outputs": [],
   "source": [
    "sub4.to_csv(\"sub4_base_svm.csv\", index = False)"
   ]
  },
  {
   "cell_type": "markdown",
   "metadata": {},
   "source": [
    "# Optimizing SVM Model"
   ]
  },
  {
   "cell_type": "markdown",
   "metadata": {},
   "source": [
    "## Data"
   ]
  },
  {
   "cell_type": "code",
   "execution_count": 12,
   "metadata": {
    "ExecuteTime": {
     "end_time": "2020-11-16T09:27:06.418748Z",
     "start_time": "2020-11-16T09:27:06.235714Z"
    }
   },
   "outputs": [],
   "source": [
    "X, y = train_features_df.values, train_df[\"Survived\"].values\n",
    "X_train, X_test, y_train, y_test = train_test_split(X, y, test_size = 0.2, random_state = 42)"
   ]
  },
  {
   "cell_type": "markdown",
   "metadata": {},
   "source": [
    "## Base Model"
   ]
  },
  {
   "cell_type": "code",
   "execution_count": 13,
   "metadata": {
    "ExecuteTime": {
     "end_time": "2020-11-16T09:27:06.591730Z",
     "start_time": "2020-11-16T09:27:06.422737Z"
    }
   },
   "outputs": [],
   "source": [
    "base_svm_model = SVC(random_state = 42)"
   ]
  },
  {
   "cell_type": "markdown",
   "metadata": {},
   "source": [
    "## Grid Search"
   ]
  },
  {
   "cell_type": "markdown",
   "metadata": {},
   "source": [
    "### Parameters"
   ]
  },
  {
   "cell_type": "code",
   "execution_count": 14,
   "metadata": {
    "ExecuteTime": {
     "end_time": "2020-11-16T09:27:06.762728Z",
     "start_time": "2020-11-16T09:27:06.594753Z"
    }
   },
   "outputs": [],
   "source": [
    "param_grid = [\n",
    "              {'kernel': ['rbf'], \n",
    "               'gamma': [1e-2, 1e-3, 1e-4, 1e-5],\n",
    "               'C': [0.001, 0.10, 0.1, 10, 25, 50, 100, 1000]},\n",
    "              \n",
    "              {'kernel': ['sigmoid'], \n",
    "               'gamma': [1e-2, 1e-3, 1e-4, 1e-5],\n",
    "               'C': [0.001, 0.10, 0.1, 10, 25, 50, 100, 1000]},\n",
    "              \n",
    "              {'kernel': ['linear'], \n",
    "               'C': [0.001, 0.10, 0.1, 10, 25, 50, 100, 1000]}\n",
    "]"
   ]
  },
  {
   "cell_type": "markdown",
   "metadata": {},
   "source": [
    "### All Possible SVM Models "
   ]
  },
  {
   "cell_type": "code",
   "execution_count": 15,
   "metadata": {
    "ExecuteTime": {
     "end_time": "2020-11-16T09:27:07.010249Z",
     "start_time": "2020-11-16T09:27:06.767715Z"
    }
   },
   "outputs": [],
   "source": [
    "all_svm_models = GridSearchCV(base_svm_model, param_grid = param_grid, cv = 3, verbose=True, n_jobs=-1)"
   ]
  },
  {
   "cell_type": "markdown",
   "metadata": {},
   "source": [
    "### Fitting All Models"
   ]
  },
  {
   "cell_type": "code",
   "execution_count": 16,
   "metadata": {
    "ExecuteTime": {
     "end_time": "2020-11-16T09:35:02.837668Z",
     "start_time": "2020-11-16T09:27:11.057786Z"
    }
   },
   "outputs": [
    {
     "name": "stdout",
     "output_type": "stream",
     "text": [
      "Fitting 3 folds for each of 72 candidates, totalling 216 fits\n"
     ]
    },
    {
     "name": "stderr",
     "output_type": "stream",
     "text": [
      "[Parallel(n_jobs=-1)]: Using backend LokyBackend with 4 concurrent workers.\n",
      "[Parallel(n_jobs=-1)]: Done  68 tasks      | elapsed:    1.8s\n",
      "[Parallel(n_jobs=-1)]: Done 216 out of 216 | elapsed:  6.8min finished\n"
     ]
    }
   ],
   "source": [
    "all_svm_models_fit = all_svm_models.fit(X_train[:, :-1], y_train)"
   ]
  },
  {
   "cell_type": "code",
   "execution_count": 17,
   "metadata": {
    "ExecuteTime": {
     "end_time": "2020-11-16T09:35:41.364638Z",
     "start_time": "2020-11-16T09:35:41.344729Z"
    }
   },
   "outputs": [
    {
     "data": {
      "text/plain": [
       "SVC(C=100, break_ties=False, cache_size=200, class_weight=None, coef0=0.0,\n",
       "    decision_function_shape='ovr', degree=3, gamma='scale', kernel='linear',\n",
       "    max_iter=-1, probability=False, random_state=42, shrinking=True, tol=0.001,\n",
       "    verbose=False)"
      ]
     },
     "execution_count": 17,
     "metadata": {},
     "output_type": "execute_result"
    }
   ],
   "source": [
    "all_svm_models_fit.best_estimator_"
   ]
  }
 ],
 "metadata": {
  "kernelspec": {
   "display_name": "Python 3",
   "language": "python",
   "name": "python3"
  },
  "language_info": {
   "codemirror_mode": {
    "name": "ipython",
    "version": 3
   },
   "file_extension": ".py",
   "mimetype": "text/x-python",
   "name": "python",
   "nbconvert_exporter": "python",
   "pygments_lexer": "ipython3",
   "version": "3.7.6"
  },
  "latex_envs": {
   "LaTeX_envs_menu_present": true,
   "autoclose": false,
   "autocomplete": true,
   "bibliofile": "biblio.bib",
   "cite_by": "apalike",
   "current_citInitial": 1,
   "eqLabelWithNumbers": true,
   "eqNumInitial": 1,
   "hotkeys": {
    "equation": "Ctrl-E",
    "itemize": "Ctrl-I"
   },
   "labels_anchors": false,
   "latex_user_defs": false,
   "report_style_numbering": false,
   "user_envs_cfg": false
  },
  "toc": {
   "base_numbering": 1,
   "nav_menu": {},
   "number_sections": true,
   "sideBar": true,
   "skip_h1_title": false,
   "title_cell": "Table of Contents",
   "title_sidebar": "Contents",
   "toc_cell": false,
   "toc_position": {},
   "toc_section_display": true,
   "toc_window_display": true
  }
 },
 "nbformat": 4,
 "nbformat_minor": 4
}
