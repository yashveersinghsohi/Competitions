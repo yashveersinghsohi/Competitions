{
  "nbformat": 4,
  "nbformat_minor": 0,
  "metadata": {
    "kernelspec": {
      "display_name": "Python 3",
      "language": "python",
      "name": "python3"
    },
    "language_info": {
      "codemirror_mode": {
        "name": "ipython",
        "version": 3
      },
      "file_extension": ".py",
      "mimetype": "text/x-python",
      "name": "python",
      "nbconvert_exporter": "python",
      "pygments_lexer": "ipython3",
      "version": "3.7.6"
    },
    "latex_envs": {
      "LaTeX_envs_menu_present": true,
      "autoclose": false,
      "autocomplete": true,
      "bibliofile": "biblio.bib",
      "cite_by": "apalike",
      "current_citInitial": 1,
      "eqLabelWithNumbers": true,
      "eqNumInitial": 1,
      "hotkeys": {
        "equation": "Ctrl-E",
        "itemize": "Ctrl-I"
      },
      "labels_anchors": false,
      "latex_user_defs": false,
      "report_style_numbering": false,
      "user_envs_cfg": false
    },
    "toc": {
      "base_numbering": 1,
      "nav_menu": {},
      "number_sections": true,
      "sideBar": true,
      "skip_h1_title": false,
      "title_cell": "Table of Contents",
      "title_sidebar": "Contents",
      "toc_cell": false,
      "toc_position": {},
      "toc_section_display": true,
      "toc_window_display": true
    },
    "colab": {
      "name": "Submission 4 - Support Vector Machines.ipynb",
      "provenance": [],
      "toc_visible": true
    },
    "accelerator": "GPU"
  },
  "cells": [
    {
      "cell_type": "markdown",
      "metadata": {
        "id": "P21NRWTkOgMK"
      },
      "source": [
        "# Importing Required Packages"
      ]
    },
    {
      "cell_type": "code",
      "metadata": {
        "ExecuteTime": {
          "end_time": "2020-11-16T07:44:07.399738Z",
          "start_time": "2020-11-16T07:44:07.389766Z"
        },
        "id": "Wutwn5IcOgMR"
      },
      "source": [
        "import pandas as pd\n",
        "import numpy as np\n",
        "import matplotlib.pyplot as plt\n",
        "import seaborn as sns\n",
        "\n",
        "from sklearn.model_selection import train_test_split\n",
        "from sklearn.svm import SVC\n",
        "from sklearn.metrics import f1_score\n",
        "from sklearn.model_selection import GridSearchCV\n",
        "\n",
        "import pickle\n",
        "\n",
        "import warnings\n",
        "warnings.filterwarnings(\"ignore\")\n",
        "\n",
        "sns.set()"
      ],
      "execution_count": 1,
      "outputs": []
    },
    {
      "cell_type": "markdown",
      "metadata": {
        "id": "dLbsr0cJOgMe"
      },
      "source": [
        "# Importing Data"
      ]
    },
    {
      "cell_type": "code",
      "metadata": {
        "ExecuteTime": {
          "end_time": "2020-11-16T07:44:10.908295Z",
          "start_time": "2020-11-16T07:44:10.883322Z"
        },
        "id": "1KUgn3rZOgMg"
      },
      "source": [
        "train_features_backup = pd.read_csv(\"train_features_df.csv\")\n",
        "test_features_backup = pd.read_csv(\"test_features_df.csv\")\n",
        "\n",
        "train_features_df = train_features_backup.copy()\n",
        "train_features_df = train_features_df.drop([\"Age_label_enc\", \"Fare_label_enc\"], axis = 1)\n",
        "train_features_df[\"Indices\"] = train_features_df.index\n",
        "\n",
        "test_features_df = test_features_backup.copy()\n",
        "test_features_df = test_features_df.drop([\"Age_label_enc\", \"Fare_mean_enc\"], axis = 1)"
      ],
      "execution_count": 2,
      "outputs": []
    },
    {
      "cell_type": "code",
      "metadata": {
        "ExecuteTime": {
          "end_time": "2020-11-16T07:44:11.475524Z",
          "start_time": "2020-11-16T07:44:11.439636Z"
        },
        "id": "IJwxdCo0OgMm"
      },
      "source": [
        "train_df = pd.read_csv(\"train.csv\")\n",
        "test_df = pd.read_csv(\"test.csv\")\n",
        "\n",
        "train_preprocessed_df = pd.read_csv(\"preprocessed_train_df.csv\")\n",
        "test_preprocessed_df = pd.read_csv(\"preprocessed_test_df.csv\")"
      ],
      "execution_count": 3,
      "outputs": []
    },
    {
      "cell_type": "markdown",
      "metadata": {
        "id": "Kczq_nNWOgMs"
      },
      "source": [
        "# Train-Test Split"
      ]
    },
    {
      "cell_type": "code",
      "metadata": {
        "ExecuteTime": {
          "end_time": "2020-11-16T07:44:15.759565Z",
          "start_time": "2020-11-16T07:44:15.746563Z"
        },
        "id": "28eu3ovoOgMt"
      },
      "source": [
        "X, y = train_features_df.values, train_df[\"Survived\"].values\n",
        "X_train, X_test, y_train, y_test = train_test_split(X, y, test_size = 0.2, random_state = 42)"
      ],
      "execution_count": 4,
      "outputs": []
    },
    {
      "cell_type": "markdown",
      "metadata": {
        "id": "XXJtl98KOgMz"
      },
      "source": [
        "# Base SVM Model"
      ]
    },
    {
      "cell_type": "code",
      "metadata": {
        "ExecuteTime": {
          "end_time": "2020-11-16T07:52:43.929262Z",
          "start_time": "2020-11-16T07:52:43.886441Z"
        },
        "id": "SUFjb9cFOgM0",
        "outputId": "fe7e5635-8946-4eee-fb53-03ca49e46391",
        "colab": {
          "base_uri": "https://localhost:8080/"
        }
      },
      "source": [
        "SVC().fit(X_train, y_train)"
      ],
      "execution_count": 5,
      "outputs": [
        {
          "output_type": "execute_result",
          "data": {
            "text/plain": [
              "SVC(C=1.0, break_ties=False, cache_size=200, class_weight=None, coef0=0.0,\n",
              "    decision_function_shape='ovr', degree=3, gamma='scale', kernel='rbf',\n",
              "    max_iter=-1, probability=False, random_state=None, shrinking=True,\n",
              "    tol=0.001, verbose=False)"
            ]
          },
          "metadata": {
            "tags": []
          },
          "execution_count": 5
        }
      ]
    },
    {
      "cell_type": "code",
      "metadata": {
        "ExecuteTime": {
          "end_time": "2020-11-16T07:54:17.350879Z",
          "start_time": "2020-11-16T07:54:17.317273Z"
        },
        "id": "Rt4T3V21OgNV"
      },
      "source": [
        "svm_model = SVC(random_state = 42).fit(X_train[:, :-1], y_train)"
      ],
      "execution_count": 6,
      "outputs": []
    },
    {
      "cell_type": "markdown",
      "metadata": {
        "id": "jrhWttbQOgNc"
      },
      "source": [
        "## Classification Accuracy"
      ]
    },
    {
      "cell_type": "code",
      "metadata": {
        "ExecuteTime": {
          "end_time": "2020-11-16T07:54:37.073216Z",
          "start_time": "2020-11-16T07:54:37.049240Z"
        },
        "id": "pbFD2DYBOgNd",
        "outputId": "805079ce-9c2d-4a8c-a151-7a4a6047feb5",
        "colab": {
          "base_uri": "https://localhost:8080/"
        }
      },
      "source": [
        "np.where(svm_model.predict(X_test[:, :-1]) == y_test, 1, 0).mean()"
      ],
      "execution_count": 7,
      "outputs": [
        {
          "output_type": "execute_result",
          "data": {
            "text/plain": [
              "0.6703910614525139"
            ]
          },
          "metadata": {
            "tags": []
          },
          "execution_count": 7
        }
      ]
    },
    {
      "cell_type": "markdown",
      "metadata": {
        "id": "j90mfRK6OgNo"
      },
      "source": [
        "## F1 Score"
      ]
    },
    {
      "cell_type": "code",
      "metadata": {
        "ExecuteTime": {
          "end_time": "2020-11-16T07:57:01.402025Z",
          "start_time": "2020-11-16T07:57:01.382079Z"
        },
        "id": "KvtkbpfEOgNp",
        "outputId": "5d3f3755-ad78-4126-88da-d0b8706e05ae",
        "colab": {
          "base_uri": "https://localhost:8080/"
        }
      },
      "source": [
        "f1_score(y_true = y_test, y_pred = svm_model.predict(X_test[:, :-1]))"
      ],
      "execution_count": 8,
      "outputs": [
        {
          "output_type": "execute_result",
          "data": {
            "text/plain": [
              "0.4158415841584159"
            ]
          },
          "metadata": {
            "tags": []
          },
          "execution_count": 8
        }
      ]
    },
    {
      "cell_type": "markdown",
      "metadata": {
        "id": "57RNCe4mOgNu"
      },
      "source": [
        "## Classification Summary"
      ]
    },
    {
      "cell_type": "code",
      "metadata": {
        "ExecuteTime": {
          "end_time": "2020-11-16T07:59:03.849541Z",
          "start_time": "2020-11-16T07:59:03.817404Z"
        },
        "id": "mHab8t-pOgNv",
        "outputId": "0029d034-05cf-4862-ffbd-70036c7b9bba",
        "colab": {
          "base_uri": "https://localhost:8080/",
          "height": 111
        }
      },
      "source": [
        "preds = svm_model.predict(X_test[:, :-1])\n",
        "\n",
        "f1_df = pd.DataFrame(index = [\"Predictions:0\", \"Predictions:1\"], columns = [\"Actuals:0\", \"Actuals:1\"])\n",
        "\n",
        "f1_df.at[\"Predictions:0\", \"Actuals:0\"] = np.where((preds == 0) & (y_test == 0), 1, 0).sum()\n",
        "f1_df.at[\"Predictions:0\", \"Actuals:1\"] = np.where((preds == 0) & (y_test == 1), 1, 0).sum()\n",
        "f1_df.at[\"Predictions:1\", \"Actuals:0\"] = np.where((preds == 1) & (y_test == 0), 1, 0).sum()\n",
        "f1_df.at[\"Predictions:1\", \"Actuals:1\"] = np.where((preds == 1) & (y_test == 1), 1, 0).sum()\n",
        "\n",
        "f1_df"
      ],
      "execution_count": 9,
      "outputs": [
        {
          "output_type": "execute_result",
          "data": {
            "text/html": [
              "<div>\n",
              "<style scoped>\n",
              "    .dataframe tbody tr th:only-of-type {\n",
              "        vertical-align: middle;\n",
              "    }\n",
              "\n",
              "    .dataframe tbody tr th {\n",
              "        vertical-align: top;\n",
              "    }\n",
              "\n",
              "    .dataframe thead th {\n",
              "        text-align: right;\n",
              "    }\n",
              "</style>\n",
              "<table border=\"1\" class=\"dataframe\">\n",
              "  <thead>\n",
              "    <tr style=\"text-align: right;\">\n",
              "      <th></th>\n",
              "      <th>Actuals:0</th>\n",
              "      <th>Actuals:1</th>\n",
              "    </tr>\n",
              "  </thead>\n",
              "  <tbody>\n",
              "    <tr>\n",
              "      <th>Predictions:0</th>\n",
              "      <td>99</td>\n",
              "      <td>53</td>\n",
              "    </tr>\n",
              "    <tr>\n",
              "      <th>Predictions:1</th>\n",
              "      <td>6</td>\n",
              "      <td>21</td>\n",
              "    </tr>\n",
              "  </tbody>\n",
              "</table>\n",
              "</div>"
            ],
            "text/plain": [
              "              Actuals:0 Actuals:1\n",
              "Predictions:0        99        53\n",
              "Predictions:1         6        21"
            ]
          },
          "metadata": {
            "tags": []
          },
          "execution_count": 9
        }
      ]
    },
    {
      "cell_type": "markdown",
      "metadata": {
        "id": "Ce8RczW2OgN2"
      },
      "source": [
        "## Creating Base Submission File"
      ]
    },
    {
      "cell_type": "code",
      "metadata": {
        "ExecuteTime": {
          "end_time": "2020-11-16T08:04:07.053530Z",
          "start_time": "2020-11-16T08:04:06.950768Z"
        },
        "id": "tcN4OuI-OgN3",
        "outputId": "89534edd-2edf-4f49-bca2-327fe54b876f",
        "colab": {
          "base_uri": "https://localhost:8080/",
          "height": 204
        }
      },
      "source": [
        "X, y = train_features_df.values, train_df[\"Survived\"].values\n",
        "\n",
        "full_svm_model = SVC(random_state = 42).fit(X[:, :-1], y)\n",
        "full_preds = full_svm_model.predict(test_features_df.values)\n",
        "\n",
        "sub4 = pd.read_csv(\"gender_submission.csv\")\n",
        "sub4[\"Survived\"] = full_preds\n",
        "sub4.head()"
      ],
      "execution_count": 10,
      "outputs": [
        {
          "output_type": "execute_result",
          "data": {
            "text/html": [
              "<div>\n",
              "<style scoped>\n",
              "    .dataframe tbody tr th:only-of-type {\n",
              "        vertical-align: middle;\n",
              "    }\n",
              "\n",
              "    .dataframe tbody tr th {\n",
              "        vertical-align: top;\n",
              "    }\n",
              "\n",
              "    .dataframe thead th {\n",
              "        text-align: right;\n",
              "    }\n",
              "</style>\n",
              "<table border=\"1\" class=\"dataframe\">\n",
              "  <thead>\n",
              "    <tr style=\"text-align: right;\">\n",
              "      <th></th>\n",
              "      <th>PassengerId</th>\n",
              "      <th>Survived</th>\n",
              "    </tr>\n",
              "  </thead>\n",
              "  <tbody>\n",
              "    <tr>\n",
              "      <th>0</th>\n",
              "      <td>892</td>\n",
              "      <td>0</td>\n",
              "    </tr>\n",
              "    <tr>\n",
              "      <th>1</th>\n",
              "      <td>893</td>\n",
              "      <td>0</td>\n",
              "    </tr>\n",
              "    <tr>\n",
              "      <th>2</th>\n",
              "      <td>894</td>\n",
              "      <td>0</td>\n",
              "    </tr>\n",
              "    <tr>\n",
              "      <th>3</th>\n",
              "      <td>895</td>\n",
              "      <td>0</td>\n",
              "    </tr>\n",
              "    <tr>\n",
              "      <th>4</th>\n",
              "      <td>896</td>\n",
              "      <td>0</td>\n",
              "    </tr>\n",
              "  </tbody>\n",
              "</table>\n",
              "</div>"
            ],
            "text/plain": [
              "   PassengerId  Survived\n",
              "0          892         0\n",
              "1          893         0\n",
              "2          894         0\n",
              "3          895         0\n",
              "4          896         0"
            ]
          },
          "metadata": {
            "tags": []
          },
          "execution_count": 10
        }
      ]
    },
    {
      "cell_type": "code",
      "metadata": {
        "ExecuteTime": {
          "end_time": "2020-11-16T08:04:43.727807Z",
          "start_time": "2020-11-16T08:04:43.716836Z"
        },
        "id": "4CgsmceaOgN9"
      },
      "source": [
        "sub4.to_csv(\"sub4_base_svm.csv\", index = False)"
      ],
      "execution_count": 11,
      "outputs": []
    },
    {
      "cell_type": "markdown",
      "metadata": {
        "id": "7kePSLbQOgOC"
      },
      "source": [
        "# Optimizing SVM Model"
      ]
    },
    {
      "cell_type": "markdown",
      "metadata": {
        "id": "MZ8YzMBKOgOD"
      },
      "source": [
        "## Data"
      ]
    },
    {
      "cell_type": "code",
      "metadata": {
        "ExecuteTime": {
          "end_time": "2020-11-16T08:11:46.172909Z",
          "start_time": "2020-11-16T08:11:46.160984Z"
        },
        "id": "4G3AhCeMOgOE"
      },
      "source": [
        "X, y = train_features_df.values, train_df[\"Survived\"].values\n",
        "X_train, X_test, y_train, y_test = train_test_split(X, y, test_size = 0.2, random_state = 42)"
      ],
      "execution_count": 12,
      "outputs": []
    },
    {
      "cell_type": "markdown",
      "metadata": {
        "id": "OuCprkdXOgOK"
      },
      "source": [
        "## Base Model"
      ]
    },
    {
      "cell_type": "code",
      "metadata": {
        "ExecuteTime": {
          "end_time": "2020-11-16T08:12:33.372850Z",
          "start_time": "2020-11-16T08:12:33.362837Z"
        },
        "id": "amNevaVmOgOL"
      },
      "source": [
        "base_svm_model = SVC(random_state = 42)"
      ],
      "execution_count": 13,
      "outputs": []
    },
    {
      "cell_type": "markdown",
      "metadata": {
        "id": "lUo1a1yYOgOT"
      },
      "source": [
        "## Grid Search"
      ]
    },
    {
      "cell_type": "markdown",
      "metadata": {
        "id": "rnAGQ9e9OgOU"
      },
      "source": [
        "### Parameters"
      ]
    },
    {
      "cell_type": "code",
      "metadata": {
        "id": "958CXlimVEOV"
      },
      "source": [
        "tuned_parameters = [{'kernel': ['rbf'], 'gamma': [1e-2, 1e-3, 1e-4, 1e-5],\n",
        "                     'C': [0.001, 0.10, 0.1, 10, 25, 50, 100, 1000]},\n",
        "                    {'kernel': ['sigmoid'], 'gamma': [1e-2, 1e-3, 1e-4, 1e-5],\n",
        "                     'C': [0.001, 0.10, 0.1, 10, 25, 50, 100, 1000]},\n",
        "                    {'kernel': ['linear'], 'C': [0.001, 0.10, 0.1, 10, 25, 50, 100, 1000]}\n",
        "                   ]"
      ],
      "execution_count": null,
      "outputs": []
    },
    {
      "cell_type": "code",
      "metadata": {
        "ExecuteTime": {
          "end_time": "2020-11-16T08:24:02.049295Z",
          "start_time": "2020-11-16T08:24:02.041320Z"
        },
        "id": "nnsATq6fOgOV"
      },
      "source": [
        "param_grid = [\n",
        "              {'kernel': ['rbf'], \n",
        "               'gamma': [1e-2, 1e-3, 1e-4, 1e-5],\n",
        "               'C': [0.001, 0.10, 0.1, 10, 25, 50, 100, 1000]},\n",
        "              \n",
        "              {'kernel': ['sigmoid'], \n",
        "               'gamma': [1e-2, 1e-3, 1e-4, 1e-5],\n",
        "               'C': [0.001, 0.10, 0.1, 10, 25, 50, 100, 1000]},\n",
        "              \n",
        "              {'kernel': ['linear'], \n",
        "               'C': [0.001, 0.10, 0.1, 10, 25, 50, 100, 1000]}\n",
        "]"
      ],
      "execution_count": 14,
      "outputs": []
    },
    {
      "cell_type": "markdown",
      "metadata": {
        "id": "J09otVPNOgO5"
      },
      "source": [
        "### All Possible SVM Models "
      ]
    },
    {
      "cell_type": "code",
      "metadata": {
        "ExecuteTime": {
          "end_time": "2020-11-16T08:24:50.669601Z",
          "start_time": "2020-11-16T08:24:50.649612Z"
        },
        "id": "KZzacwbNOgO6"
      },
      "source": [
        "all_svm_models = GridSearchCV(base_svm_model, param_grid = param_grid, cv = 3, verbose=True, n_jobs=-1)"
      ],
      "execution_count": 15,
      "outputs": []
    },
    {
      "cell_type": "markdown",
      "metadata": {
        "id": "FvhY0TWjOgO_"
      },
      "source": [
        "### Fitting All Models"
      ]
    },
    {
      "cell_type": "code",
      "metadata": {
        "ExecuteTime": {
          "start_time": "2020-11-16T08:25:28.038Z"
        },
        "id": "2eXqqjXqOgPA",
        "outputId": "407ad960-2d6b-4d2b-de1c-083d1ad57f17",
        "colab": {
          "base_uri": "https://localhost:8080/"
        }
      },
      "source": [
        "all_svm_models_fit = all_svm_models.fit(X_train[:, :-1], y_train)"
      ],
      "execution_count": 16,
      "outputs": [
        {
          "output_type": "stream",
          "text": [
            "Fitting 3 folds for each of 72 candidates, totalling 216 fits\n"
          ],
          "name": "stdout"
        },
        {
          "output_type": "stream",
          "text": [
            "[Parallel(n_jobs=-1)]: Using backend LokyBackend with 2 concurrent workers.\n",
            "[Parallel(n_jobs=-1)]: Done 216 out of 216 | elapsed: 11.3min finished\n"
          ],
          "name": "stderr"
        }
      ]
    },
    {
      "cell_type": "markdown",
      "metadata": {
        "id": "YiejKdFmOgPI"
      },
      "source": [
        "\n",
        "### Best Estimator"
      ]
    },
    {
      "cell_type": "code",
      "metadata": {
        "id": "Yt7GxLKuZjM7"
      },
      "source": [
        "int_best_svm = all_svm_models_fit.best_estimator_"
      ],
      "execution_count": 21,
      "outputs": []
    },
    {
      "cell_type": "code",
      "metadata": {
        "id": "hJuGfBfAYnjg"
      },
      "source": [
        "filename = \"intenal_best_svm.sav\"\n",
        "pickle.dump(all_svm_models_fit.best_estimator_, open(filename, 'wb'))\n",
        "\n",
        "# pickle.dump(all_svm_models_fit.best_estimator_, \"internal_best_svm.sav\")"
      ],
      "execution_count": 18,
      "outputs": []
    },
    {
      "cell_type": "code",
      "metadata": {
        "id": "X3FZauIzZLX-",
        "outputId": "6bc025cb-fd84-45df-95d0-9d00094ebd9d",
        "colab": {
          "base_uri": "https://localhost:8080/"
        }
      },
      "source": [
        "filename = \"intenal_best_svm.sav\"\n",
        "loaded_model = pickle.load(open(filename, 'rb'))\n",
        "loaded_model"
      ],
      "execution_count": 20,
      "outputs": [
        {
          "output_type": "execute_result",
          "data": {
            "text/plain": [
              "SVC(C=100, break_ties=False, cache_size=200, class_weight=None, coef0=0.0,\n",
              "    decision_function_shape='ovr', degree=3, gamma='scale', kernel='linear',\n",
              "    max_iter=-1, probability=False, random_state=42, shrinking=True, tol=0.001,\n",
              "    verbose=False)"
            ]
          },
          "metadata": {
            "tags": []
          },
          "execution_count": 20
        }
      ]
    },
    {
      "cell_type": "markdown",
      "metadata": {
        "id": "2J9u9dPMZXkR"
      },
      "source": [
        "#### Accuracy of Best Estimator"
      ]
    },
    {
      "cell_type": "markdown",
      "metadata": {
        "id": "E9PAvgi4Zdvp"
      },
      "source": [
        "**Classification Accuracy**"
      ]
    },
    {
      "cell_type": "code",
      "metadata": {
        "id": "NGVtIH67Zb6P",
        "outputId": "6e1f9dbc-e25d-4033-ded3-f36f7bf40526",
        "colab": {
          "base_uri": "https://localhost:8080/"
        }
      },
      "source": [
        "np.where(int_best_svm.predict(X_test[:, :-1]) == y_test, 1, 0).mean()"
      ],
      "execution_count": 22,
      "outputs": [
        {
          "output_type": "execute_result",
          "data": {
            "text/plain": [
              "0.8156424581005587"
            ]
          },
          "metadata": {
            "tags": []
          },
          "execution_count": 22
        }
      ]
    },
    {
      "cell_type": "markdown",
      "metadata": {
        "id": "CxRAWzRaZwPA"
      },
      "source": [
        "**F1 Score**"
      ]
    },
    {
      "cell_type": "code",
      "metadata": {
        "id": "tPeafsg7ZupK",
        "outputId": "c577aa99-a9df-4093-b9d3-619acb7343cc",
        "colab": {
          "base_uri": "https://localhost:8080/"
        }
      },
      "source": [
        "f1_score(y_pred = int_best_svm.predict(X_test[:, :-1]), y_true = y_test)"
      ],
      "execution_count": 23,
      "outputs": [
        {
          "output_type": "execute_result",
          "data": {
            "text/plain": [
              "0.7692307692307693"
            ]
          },
          "metadata": {
            "tags": []
          },
          "execution_count": 23
        }
      ]
    },
    {
      "cell_type": "markdown",
      "metadata": {
        "id": "V_VOLzXKZ8Fj"
      },
      "source": [
        "# Submission File"
      ]
    },
    {
      "cell_type": "markdown",
      "metadata": {
        "id": "Cv7hiVE2aBrk"
      },
      "source": [
        "## Fitting Full Data To Optimized SVM Model"
      ]
    },
    {
      "cell_type": "code",
      "metadata": {
        "id": "pNBVozWEaTv4"
      },
      "source": [
        "X, y = train_features_df.values, train_df[\"Survived\"].values"
      ],
      "execution_count": 24,
      "outputs": []
    },
    {
      "cell_type": "code",
      "metadata": {
        "id": "9w_ppeAvZ6yW",
        "outputId": "b08f9905-ae2c-4d32-c1a9-f45865c43310",
        "colab": {
          "base_uri": "https://localhost:8080/"
        }
      },
      "source": [
        "final_svm_models_fit = all_svm_models.fit(X[:, :-1], y)"
      ],
      "execution_count": 27,
      "outputs": [
        {
          "output_type": "stream",
          "text": [
            "Fitting 3 folds for each of 72 candidates, totalling 216 fits\n"
          ],
          "name": "stdout"
        },
        {
          "output_type": "stream",
          "text": [
            "[Parallel(n_jobs=-1)]: Using backend LokyBackend with 2 concurrent workers.\n",
            "[Parallel(n_jobs=-1)]: Done 216 out of 216 | elapsed:  9.5min finished\n"
          ],
          "name": "stderr"
        }
      ]
    },
    {
      "cell_type": "markdown",
      "metadata": {
        "id": "f34fiKgwdZti"
      },
      "source": [
        "### Best Estimator"
      ]
    },
    {
      "cell_type": "code",
      "metadata": {
        "id": "zdrDHYX0af6t",
        "outputId": "85b8bc3d-4048-48c2-b5af-d75e0c633a49",
        "colab": {
          "base_uri": "https://localhost:8080/"
        }
      },
      "source": [
        "final_best_svm = final_svm_models_fit.best_estimator_\n",
        "final_best_svm"
      ],
      "execution_count": 29,
      "outputs": [
        {
          "output_type": "execute_result",
          "data": {
            "text/plain": [
              "SVC(C=100, break_ties=False, cache_size=200, class_weight=None, coef0=0.0,\n",
              "    decision_function_shape='ovr', degree=3, gamma='scale', kernel='linear',\n",
              "    max_iter=-1, probability=False, random_state=42, shrinking=True, tol=0.001,\n",
              "    verbose=False)"
            ]
          },
          "metadata": {
            "tags": []
          },
          "execution_count": 29
        }
      ]
    },
    {
      "cell_type": "markdown",
      "metadata": {
        "id": "jTmTxdHQd48H"
      },
      "source": [
        "### Exporting Final SVM Model"
      ]
    },
    {
      "cell_type": "code",
      "metadata": {
        "id": "0xcOpHnvdcWg"
      },
      "source": [
        "filename = \"final_best_svm.sav\"\n",
        "pickle.dump(final_best_svm, open(filename, 'wb'))"
      ],
      "execution_count": 30,
      "outputs": []
    },
    {
      "cell_type": "code",
      "metadata": {
        "id": "NNKZiJyjdr8D",
        "outputId": "515ef3a9-bd51-4169-90c2-e169ad83f78c",
        "colab": {
          "base_uri": "https://localhost:8080/"
        }
      },
      "source": [
        "filename = \"final_best_svm.sav\"\n",
        "loaded_model = pickle.load(open(filename, 'rb'))\n",
        "loaded_model"
      ],
      "execution_count": 31,
      "outputs": [
        {
          "output_type": "execute_result",
          "data": {
            "text/plain": [
              "SVC(C=100, break_ties=False, cache_size=200, class_weight=None, coef0=0.0,\n",
              "    decision_function_shape='ovr', degree=3, gamma='scale', kernel='linear',\n",
              "    max_iter=-1, probability=False, random_state=42, shrinking=True, tol=0.001,\n",
              "    verbose=False)"
            ]
          },
          "metadata": {
            "tags": []
          },
          "execution_count": 31
        }
      ]
    },
    {
      "cell_type": "markdown",
      "metadata": {
        "id": "5OT-o8WSdze8"
      },
      "source": [
        "## Creating Submission"
      ]
    },
    {
      "cell_type": "code",
      "metadata": {
        "id": "i2gHIvg8dyBS",
        "outputId": "03c75f94-0625-48a3-80b8-28fc7cec7fe6",
        "colab": {
          "base_uri": "https://localhost:8080/",
          "height": 204
        }
      },
      "source": [
        "sub4_final = pd.read_csv(\"gender_submission.csv\")\n",
        "sub4_final[\"Survived\"] = final_best_svm.predict(test_features_df.values)\n",
        "sub4_final.head()"
      ],
      "execution_count": 34,
      "outputs": [
        {
          "output_type": "execute_result",
          "data": {
            "text/html": [
              "<div>\n",
              "<style scoped>\n",
              "    .dataframe tbody tr th:only-of-type {\n",
              "        vertical-align: middle;\n",
              "    }\n",
              "\n",
              "    .dataframe tbody tr th {\n",
              "        vertical-align: top;\n",
              "    }\n",
              "\n",
              "    .dataframe thead th {\n",
              "        text-align: right;\n",
              "    }\n",
              "</style>\n",
              "<table border=\"1\" class=\"dataframe\">\n",
              "  <thead>\n",
              "    <tr style=\"text-align: right;\">\n",
              "      <th></th>\n",
              "      <th>PassengerId</th>\n",
              "      <th>Survived</th>\n",
              "    </tr>\n",
              "  </thead>\n",
              "  <tbody>\n",
              "    <tr>\n",
              "      <th>0</th>\n",
              "      <td>892</td>\n",
              "      <td>0</td>\n",
              "    </tr>\n",
              "    <tr>\n",
              "      <th>1</th>\n",
              "      <td>893</td>\n",
              "      <td>1</td>\n",
              "    </tr>\n",
              "    <tr>\n",
              "      <th>2</th>\n",
              "      <td>894</td>\n",
              "      <td>0</td>\n",
              "    </tr>\n",
              "    <tr>\n",
              "      <th>3</th>\n",
              "      <td>895</td>\n",
              "      <td>0</td>\n",
              "    </tr>\n",
              "    <tr>\n",
              "      <th>4</th>\n",
              "      <td>896</td>\n",
              "      <td>1</td>\n",
              "    </tr>\n",
              "  </tbody>\n",
              "</table>\n",
              "</div>"
            ],
            "text/plain": [
              "   PassengerId  Survived\n",
              "0          892         0\n",
              "1          893         1\n",
              "2          894         0\n",
              "3          895         0\n",
              "4          896         1"
            ]
          },
          "metadata": {
            "tags": []
          },
          "execution_count": 34
        }
      ]
    },
    {
      "cell_type": "code",
      "metadata": {
        "id": "Uslzh10DeN3v"
      },
      "source": [
        "sub4_final.to_csv(\"sub4_final_svm.csv\", index = False)"
      ],
      "execution_count": 35,
      "outputs": []
    }
  ]
}