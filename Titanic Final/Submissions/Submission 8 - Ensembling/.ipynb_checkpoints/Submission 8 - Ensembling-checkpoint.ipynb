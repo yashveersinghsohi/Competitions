{
 "cells": [
  {
   "cell_type": "markdown",
   "metadata": {},
   "source": [
    "# Importing Required Packages"
   ]
  },
  {
   "cell_type": "code",
   "execution_count": 89,
   "metadata": {
    "ExecuteTime": {
     "end_time": "2020-11-20T07:26:21.951817Z",
     "start_time": "2020-11-20T07:26:21.931835Z"
    }
   },
   "outputs": [],
   "source": [
    "import pandas as pd\n",
    "import numpy as np\n",
    "import matplotlib.pyplot as plt\n",
    "import seaborn as sns\n",
    "\n",
    "from sklearn.model_selection import train_test_split\n",
    "\n",
    "from sklearn.linear_model import LogisticRegression\n",
    "from sklearn.neighbors import KNeighborsClassifier\n",
    "from sklearn.svm import SVC\n",
    "from sklearn.tree import DecisionTreeClassifier\n",
    "from sklearn.ensemble import RandomForestClassifier\n",
    "from xgboost import XGBClassifier\n",
    "from sklearn.ensemble import VotingClassifier\n",
    "\n",
    "from sklearn.metrics import f1_score\n",
    "from sklearn.model_selection import GridSearchCV, RandomizedSearchCV\n",
    "\n",
    "import pickle\n",
    "\n",
    "import warnings\n",
    "warnings.filterwarnings(\"ignore\")\n",
    "\n",
    "sns.set()"
   ]
  },
  {
   "cell_type": "markdown",
   "metadata": {},
   "source": [
    "# Reading Data"
   ]
  },
  {
   "cell_type": "code",
   "execution_count": 2,
   "metadata": {
    "ExecuteTime": {
     "end_time": "2020-11-20T06:12:26.205474Z",
     "start_time": "2020-11-20T06:12:26.180581Z"
    }
   },
   "outputs": [],
   "source": [
    "train_features_backup = pd.read_csv(\"../Data/train_features_df.csv\")\n",
    "test_features_backup = pd.read_csv(\"../Data/test_features_df.csv\")\n",
    "\n",
    "train_features_df = train_features_backup.copy()\n",
    "train_features_df = train_features_df.drop([\"Age_label_enc\", \"Fare_label_enc\"], axis = 1)\n",
    "train_features_df[\"Indices\"] = train_features_df.index\n",
    "\n",
    "test_features_df = test_features_backup.copy()\n",
    "test_features_df = test_features_df.drop([\"Age_label_enc\", \"Fare_mean_enc\"], axis = 1)"
   ]
  },
  {
   "cell_type": "code",
   "execution_count": 3,
   "metadata": {
    "ExecuteTime": {
     "end_time": "2020-11-20T06:12:26.410611Z",
     "start_time": "2020-11-20T06:12:26.363533Z"
    }
   },
   "outputs": [],
   "source": [
    "train_df = pd.read_csv(\"../Data/train.csv\")\n",
    "test_df = pd.read_csv(\"../Data/test.csv\")\n",
    "\n",
    "train_preprocessed_df = pd.read_csv(\"../Data/preprocessed_train_df.csv\")\n",
    "test_preprocessed_df = pd.read_csv(\"../Data/preprocessed_test_df.csv\")"
   ]
  },
  {
   "cell_type": "markdown",
   "metadata": {},
   "source": [
    "# Train Test Split"
   ]
  },
  {
   "cell_type": "code",
   "execution_count": 67,
   "metadata": {
    "ExecuteTime": {
     "end_time": "2020-11-20T07:10:44.443809Z",
     "start_time": "2020-11-20T07:10:44.432839Z"
    }
   },
   "outputs": [],
   "source": [
    "X, y = train_features_df.values, train_df[\"Survived\"].values\n",
    "X_train, X_test, y_train, y_test = train_test_split(X, y, test_size = 0.2, random_state = 42)"
   ]
  },
  {
   "cell_type": "markdown",
   "metadata": {},
   "source": [
    "# Building and testing Ensemble on Train Set"
   ]
  },
  {
   "cell_type": "markdown",
   "metadata": {},
   "source": [
    "## All Models"
   ]
  },
  {
   "cell_type": "code",
   "execution_count": 68,
   "metadata": {
    "ExecuteTime": {
     "end_time": "2020-11-20T07:10:46.849961Z",
     "start_time": "2020-11-20T07:10:46.429311Z"
    }
   },
   "outputs": [
    {
     "name": "stdout",
     "output_type": "stream",
     "text": [
      "[0]\tvalidation_0-error:0.18994\n",
      "Will train until validation_0-error hasn't improved in 5 rounds.\n",
      "[1]\tvalidation_0-error:0.18436\n",
      "[2]\tvalidation_0-error:0.18994\n",
      "[3]\tvalidation_0-error:0.17877\n",
      "[4]\tvalidation_0-error:0.17877\n",
      "[5]\tvalidation_0-error:0.17877\n",
      "[6]\tvalidation_0-error:0.17877\n",
      "[7]\tvalidation_0-error:0.17318\n",
      "[8]\tvalidation_0-error:0.17877\n",
      "[9]\tvalidation_0-error:0.16760\n",
      "[10]\tvalidation_0-error:0.16760\n",
      "[11]\tvalidation_0-error:0.17318\n",
      "[12]\tvalidation_0-error:0.16760\n",
      "[13]\tvalidation_0-error:0.16201\n",
      "[14]\tvalidation_0-error:0.16760\n",
      "[15]\tvalidation_0-error:0.16201\n",
      "[16]\tvalidation_0-error:0.16201\n",
      "[17]\tvalidation_0-error:0.16760\n",
      "[18]\tvalidation_0-error:0.16201\n",
      "Stopping. Best iteration:\n",
      "[13]\tvalidation_0-error:0.16201\n",
      "\n"
     ]
    }
   ],
   "source": [
    "lr_model = pickle.load(open(\"logistic_regression_model.sav\", 'rb'))\n",
    "svm_model = pickle.load(open(\"final_best_svm.sav\", 'rb'))\n",
    "dt_model = DecisionTreeClassifier(random_state = 42).fit(X_train[:, :-1], y_train)\n",
    "rf_model = pickle.load(open(\"best_ext_rf.sav\", 'rb'))\n",
    "xgb_model = XGBClassifier(\n",
    "                    objective = \"binary:logistic\", \n",
    "                    random_state = 42\n",
    "                ).fit(X_train[:, :-1], y_train, early_stopping_rounds=5, eval_set=[(X_test[:, :-1], y_test)])"
   ]
  },
  {
   "cell_type": "markdown",
   "metadata": {},
   "source": [
    "# First Level Model Predictions"
   ]
  },
  {
   "cell_type": "code",
   "execution_count": 73,
   "metadata": {
    "ExecuteTime": {
     "end_time": "2020-11-20T07:11:54.359263Z",
     "start_time": "2020-11-20T07:11:54.101069Z"
    }
   },
   "outputs": [],
   "source": [
    "train_first_preds = pd.DataFrame()\n",
    "train_first_preds[\"lr\"] = lr_model.predict(X_train[:, :-1])\n",
    "train_first_preds[\"svm\"] = svm_model.predict(X_train[:, :-1])\n",
    "# train_first_preds[\"dt\"] = dt_model.predict(X_train[:, :-1])\n",
    "train_first_preds[\"rf\"] = rf_model.predict(X_train[:, :-1])\n",
    "# train_first_preds[\"xgb\"] = xgb_model.predict(X_train[:, :-1])\n",
    "\n",
    "test_first_preds = pd.DataFrame()\n",
    "test_first_preds[\"lr\"] = lr_model.predict(X_test[:, :-1])\n",
    "test_first_preds[\"svm\"] = svm_model.predict(X_test[:, :-1])\n",
    "# test_first_preds[\"dt\"] = dt_model.predict(X_test[:, :-1])\n",
    "test_first_preds[\"rf\"] = rf_model.predict(X_test[:, :-1])\n",
    "# test_first_preds[\"xgb\"] = xgb_model.predict(X_test[:, :-1])"
   ]
  },
  {
   "cell_type": "markdown",
   "metadata": {},
   "source": [
    "# Second Level Predictions"
   ]
  },
  {
   "cell_type": "code",
   "execution_count": 80,
   "metadata": {
    "ExecuteTime": {
     "end_time": "2020-11-20T07:12:36.987826Z",
     "start_time": "2020-11-20T07:12:36.968836Z"
    }
   },
   "outputs": [],
   "source": [
    "base_ens_model = DecisionTreeClassifier(random_state = 42).fit(train_first_preds.values, y_train)"
   ]
  },
  {
   "cell_type": "code",
   "execution_count": 81,
   "metadata": {
    "ExecuteTime": {
     "end_time": "2020-11-20T07:12:37.292607Z",
     "start_time": "2020-11-20T07:12:37.276649Z"
    }
   },
   "outputs": [
    {
     "data": {
      "text/plain": [
       "0.8268156424581006"
      ]
     },
     "execution_count": 81,
     "metadata": {},
     "output_type": "execute_result"
    }
   ],
   "source": [
    "np.where(base_ens_model.predict(test_first_preds.values) == y_test, 1, 0).mean()"
   ]
  },
  {
   "cell_type": "markdown",
   "metadata": {},
   "source": [
    "## Optimizing Second Level Predictions"
   ]
  },
  {
   "cell_type": "code",
   "execution_count": 82,
   "metadata": {
    "ExecuteTime": {
     "end_time": "2020-11-20T07:19:25.034921Z",
     "start_time": "2020-11-20T07:14:49.417534Z"
    }
   },
   "outputs": [
    {
     "name": "stdout",
     "output_type": "stream",
     "text": [
      "Fitting 3 folds for each of 45600 candidates, totalling 136800 fits\n"
     ]
    },
    {
     "name": "stderr",
     "output_type": "stream",
     "text": [
      "[Parallel(n_jobs=-1)]: Using backend LokyBackend with 4 concurrent workers.\n",
      "[Parallel(n_jobs=-1)]: Done  68 tasks      | elapsed:    2.8s\n",
      "[Parallel(n_jobs=-1)]: Done 4492 tasks      | elapsed:    9.5s\n",
      "[Parallel(n_jobs=-1)]: Done 12492 tasks      | elapsed:   22.0s\n",
      "[Parallel(n_jobs=-1)]: Done 22396 tasks      | elapsed:   43.0s\n",
      "[Parallel(n_jobs=-1)]: Done 34588 tasks      | elapsed:  1.2min\n",
      "[Parallel(n_jobs=-1)]: Done 49564 tasks      | elapsed:  1.8min\n",
      "[Parallel(n_jobs=-1)]: Done 71764 tasks      | elapsed:  2.6min\n",
      "[Parallel(n_jobs=-1)]: Done 95764 tasks      | elapsed:  3.3min\n",
      "[Parallel(n_jobs=-1)]: Done 122964 tasks      | elapsed:  4.1min\n",
      "[Parallel(n_jobs=-1)]: Done 136800 out of 136800 | elapsed:  4.6min finished\n"
     ]
    }
   ],
   "source": [
    "base_dt = DecisionTreeClassifier(random_state = 42)\n",
    "\n",
    "param_grid = [\n",
    "    {\n",
    "        \"max_features\" : [\"log2\", \"sqrt\", \"auto\"],\n",
    "        \"criterion\" : [\"entropy\", \"gini\"],\n",
    "        \"max_depth\" : [i for i in range(2, 21)],\n",
    "        \"min_samples_split\" : [i for i in range(1, 21)],\n",
    "        \"min_samples_leaf\" : [i for i in range(1, 21)]\n",
    "    }\n",
    "]\n",
    "\n",
    "dt_grid = GridSearchCV(base_dt, param_grid = param_grid, cv = 3, verbose=True, n_jobs=-1)\n",
    "\n",
    "dt_grid_fit = dt_grid.fit(train_first_preds, y_train)"
   ]
  },
  {
   "cell_type": "code",
   "execution_count": 83,
   "metadata": {
    "ExecuteTime": {
     "end_time": "2020-11-20T07:19:37.111027Z",
     "start_time": "2020-11-20T07:19:37.100018Z"
    }
   },
   "outputs": [
    {
     "data": {
      "text/plain": [
       "{'criterion': 'entropy',\n",
       " 'max_depth': 3,\n",
       " 'max_features': 'log2',\n",
       " 'min_samples_leaf': 1,\n",
       " 'min_samples_split': 2}"
      ]
     },
     "execution_count": 83,
     "metadata": {},
     "output_type": "execute_result"
    }
   ],
   "source": [
    "dt_grid_fit.best_params_"
   ]
  },
  {
   "cell_type": "code",
   "execution_count": 85,
   "metadata": {
    "ExecuteTime": {
     "end_time": "2020-11-20T07:19:49.643142Z",
     "start_time": "2020-11-20T07:19:49.624195Z"
    }
   },
   "outputs": [],
   "source": [
    "dt_best = dt_grid_fit.best_estimator_"
   ]
  },
  {
   "cell_type": "code",
   "execution_count": 87,
   "metadata": {
    "ExecuteTime": {
     "end_time": "2020-11-20T07:20:45.690978Z",
     "start_time": "2020-11-20T07:20:45.680009Z"
    }
   },
   "outputs": [
    {
     "data": {
      "text/plain": [
       "0.8268156424581006"
      ]
     },
     "execution_count": 87,
     "metadata": {},
     "output_type": "execute_result"
    }
   ],
   "source": [
    "np.where(dt_best.predict(test_first_preds) == y_test, 1, 0).mean()"
   ]
  },
  {
   "cell_type": "markdown",
   "metadata": {},
   "source": [
    "# Submission for Decision Tree Ensemble"
   ]
  },
  {
   "cell_type": "code",
   "execution_count": 100,
   "metadata": {
    "ExecuteTime": {
     "end_time": "2020-11-20T07:58:09.763261Z",
     "start_time": "2020-11-20T07:58:09.501489Z"
    }
   },
   "outputs": [],
   "source": [
    "X, y = train_features_df.values, train_df[\"Survived\"].values\n",
    "X_train, X_test, y_train, y_test = train_test_split(X, y, test_size = 0.2, random_state = 42)\n",
    "\n",
    "train_first_preds = pd.DataFrame()\n",
    "train_first_preds[\"lr\"] = lr_model.predict(X[:, :-1])\n",
    "train_first_preds[\"svm\"] = svm_model.predict(X[:, :-1])\n",
    "# train_first_preds[\"dt\"] = dt_model.predict(X_train[:, :-1])\n",
    "train_first_preds[\"rf\"] = rf_model.predict(X[:, :-1])\n",
    "# train_first_preds[\"xgb\"] = xgb_model.predict(X_train[:, :-1])\n",
    "\n",
    "test_first_preds = pd.DataFrame()\n",
    "test_first_preds[\"lr\"] = lr_model.predict(test_features_df.values)\n",
    "test_first_preds[\"svm\"] = svm_model.predict(test_features_df.values)\n",
    "# test_first_preds[\"dt\"] = dt_model.predict(X_test[:, :-1])\n",
    "test_first_preds[\"rf\"] = rf_model.predict(test_features_df.values)\n",
    "# test_first_preds[\"xgb\"] = xgb_model.predict(X_test[:, :-1])"
   ]
  },
  {
   "cell_type": "code",
   "execution_count": 101,
   "metadata": {
    "ExecuteTime": {
     "end_time": "2020-11-20T08:01:59.527036Z",
     "start_time": "2020-11-20T07:58:10.785636Z"
    }
   },
   "outputs": [
    {
     "name": "stdout",
     "output_type": "stream",
     "text": [
      "Fitting 3 folds for each of 45600 candidates, totalling 136800 fits\n"
     ]
    },
    {
     "name": "stderr",
     "output_type": "stream",
     "text": [
      "[Parallel(n_jobs=-1)]: Using backend LokyBackend with 4 concurrent workers.\n",
      "[Parallel(n_jobs=-1)]: Done  71 tasks      | elapsed:    2.8s\n",
      "[Parallel(n_jobs=-1)]: Done 4492 tasks      | elapsed:   10.0s\n",
      "[Parallel(n_jobs=-1)]: Done 12492 tasks      | elapsed:   23.1s\n",
      "[Parallel(n_jobs=-1)]: Done 23692 tasks      | elapsed:   41.6s\n",
      "[Parallel(n_jobs=-1)]: Done 38092 tasks      | elapsed:  1.1min\n",
      "[Parallel(n_jobs=-1)]: Done 55692 tasks      | elapsed:  1.5min\n",
      "[Parallel(n_jobs=-1)]: Done 76492 tasks      | elapsed:  2.1min\n",
      "[Parallel(n_jobs=-1)]: Done 100492 tasks      | elapsed:  2.8min\n",
      "[Parallel(n_jobs=-1)]: Done 127692 tasks      | elapsed:  3.5min\n",
      "[Parallel(n_jobs=-1)]: Done 136800 out of 136800 | elapsed:  3.8min finished\n"
     ]
    }
   ],
   "source": [
    "base_dt = DecisionTreeClassifier(random_state = 42)\n",
    "\n",
    "param_grid = [\n",
    "    {\n",
    "        \"max_features\" : [\"log2\", \"sqrt\", \"auto\"],\n",
    "        \"criterion\" : [\"entropy\", \"gini\"],\n",
    "        \"max_depth\" : [i for i in range(2, 21)],\n",
    "        \"min_samples_split\" : [i for i in range(1, 21)],\n",
    "        \"min_samples_leaf\" : [i for i in range(1, 21)]\n",
    "    }\n",
    "]\n",
    "\n",
    "dt_grid = GridSearchCV(base_dt, param_grid = param_grid, cv = 3, verbose=True, n_jobs=-1)\n",
    "\n",
    "dt_grid_fit = dt_grid.fit(train_first_preds, y)"
   ]
  },
  {
   "cell_type": "code",
   "execution_count": 103,
   "metadata": {
    "ExecuteTime": {
     "end_time": "2020-11-20T08:02:56.096424Z",
     "start_time": "2020-11-20T08:02:56.076477Z"
    }
   },
   "outputs": [],
   "source": [
    "dt_ens_sub8 = pd.read_csv(\"../Data/gender_submission.csv\")\n",
    "dt_ens_sub8[\"Survived\"] = dt_grid_fit.best_estimator_.predict(test_first_preds.values)\n",
    "dt_ens_sub8.to_csv(\"sub8_dt_ensemble.csv\", index = False)"
   ]
  },
  {
   "cell_type": "markdown",
   "metadata": {},
   "source": [
    "# Exporting Ensemble"
   ]
  },
  {
   "cell_type": "code",
   "execution_count": 105,
   "metadata": {
    "ExecuteTime": {
     "end_time": "2020-11-20T08:06:16.625197Z",
     "start_time": "2020-11-20T08:06:16.619214Z"
    }
   },
   "outputs": [],
   "source": [
    "filename = \"best_dt_ensemble.sav\"\n",
    "pickle.dump(dt_grid_fit.best_estimator_, open(filename, 'wb'))"
   ]
  },
  {
   "cell_type": "code",
   "execution_count": 106,
   "metadata": {
    "ExecuteTime": {
     "end_time": "2020-11-20T08:06:30.318587Z",
     "start_time": "2020-11-20T08:06:30.289663Z"
    }
   },
   "outputs": [],
   "source": [
    "filename = \"best_dt_ensemble.sav\"\n",
    "loaded_model = pickle.load(open(filename, 'rb'))"
   ]
  },
  {
   "cell_type": "code",
   "execution_count": 107,
   "metadata": {
    "ExecuteTime": {
     "end_time": "2020-11-20T08:06:34.276662Z",
     "start_time": "2020-11-20T08:06:34.259707Z"
    }
   },
   "outputs": [
    {
     "data": {
      "text/plain": [
       "DecisionTreeClassifier(ccp_alpha=0.0, class_weight=None, criterion='entropy',\n",
       "                       max_depth=3, max_features='log2', max_leaf_nodes=None,\n",
       "                       min_impurity_decrease=0.0, min_impurity_split=None,\n",
       "                       min_samples_leaf=1, min_samples_split=2,\n",
       "                       min_weight_fraction_leaf=0.0, presort='deprecated',\n",
       "                       random_state=42, splitter='best')"
      ]
     },
     "execution_count": 107,
     "metadata": {},
     "output_type": "execute_result"
    }
   ],
   "source": [
    "loaded_model"
   ]
  }
 ],
 "metadata": {
  "kernelspec": {
   "display_name": "Python 3",
   "language": "python",
   "name": "python3"
  },
  "language_info": {
   "codemirror_mode": {
    "name": "ipython",
    "version": 3
   },
   "file_extension": ".py",
   "mimetype": "text/x-python",
   "name": "python",
   "nbconvert_exporter": "python",
   "pygments_lexer": "ipython3",
   "version": "3.7.6"
  },
  "latex_envs": {
   "LaTeX_envs_menu_present": true,
   "autoclose": false,
   "autocomplete": true,
   "bibliofile": "biblio.bib",
   "cite_by": "apalike",
   "current_citInitial": 1,
   "eqLabelWithNumbers": true,
   "eqNumInitial": 1,
   "hotkeys": {
    "equation": "Ctrl-E",
    "itemize": "Ctrl-I"
   },
   "labels_anchors": false,
   "latex_user_defs": false,
   "report_style_numbering": false,
   "user_envs_cfg": false
  },
  "toc": {
   "base_numbering": 1,
   "nav_menu": {},
   "number_sections": true,
   "sideBar": true,
   "skip_h1_title": false,
   "title_cell": "Table of Contents",
   "title_sidebar": "Contents",
   "toc_cell": false,
   "toc_position": {},
   "toc_section_display": true,
   "toc_window_display": false
  }
 },
 "nbformat": 4,
 "nbformat_minor": 4
}
