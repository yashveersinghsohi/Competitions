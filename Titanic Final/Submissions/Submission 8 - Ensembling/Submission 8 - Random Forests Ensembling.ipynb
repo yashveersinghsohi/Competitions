{
 "cells": [
  {
   "cell_type": "markdown",
   "metadata": {},
   "source": [
    "# Importing Required Packages"
   ]
  },
  {
   "cell_type": "code",
   "execution_count": 1,
   "metadata": {
    "ExecuteTime": {
     "end_time": "2020-11-21T05:02:29.019587Z",
     "start_time": "2020-11-21T05:02:00.866726Z"
    }
   },
   "outputs": [],
   "source": [
    "import pandas as pd\n",
    "import numpy as np\n",
    "import matplotlib.pyplot as plt\n",
    "import seaborn as sns\n",
    "\n",
    "from sklearn.model_selection import train_test_split\n",
    "\n",
    "from sklearn.linear_model import LogisticRegression\n",
    "from sklearn.neighbors import KNeighborsClassifier\n",
    "from sklearn.svm import SVC\n",
    "from sklearn.tree import DecisionTreeClassifier\n",
    "from sklearn.ensemble import RandomForestClassifier\n",
    "from xgboost import XGBClassifier\n",
    "from sklearn.ensemble import VotingClassifier\n",
    "\n",
    "from sklearn.metrics import f1_score\n",
    "from sklearn.model_selection import GridSearchCV, RandomizedSearchCV\n",
    "\n",
    "import pickle\n",
    "\n",
    "import warnings\n",
    "warnings.filterwarnings(\"ignore\")\n",
    "\n",
    "sns.set()"
   ]
  },
  {
   "cell_type": "markdown",
   "metadata": {},
   "source": [
    "# Reading Data"
   ]
  },
  {
   "cell_type": "code",
   "execution_count": 2,
   "metadata": {
    "ExecuteTime": {
     "end_time": "2020-11-21T05:02:39.480231Z",
     "start_time": "2020-11-21T05:02:39.158992Z"
    }
   },
   "outputs": [],
   "source": [
    "train_features_backup = pd.read_csv(\"../Data/train_features_df.csv\")\n",
    "test_features_backup = pd.read_csv(\"../Data/test_features_df.csv\")\n",
    "\n",
    "train_features_df = train_features_backup.copy()\n",
    "train_features_df = train_features_df.drop([\"Age_label_enc\", \"Fare_label_enc\"], axis = 1)\n",
    "train_features_df[\"Indices\"] = train_features_df.index\n",
    "\n",
    "test_features_df = test_features_backup.copy()\n",
    "test_features_df = test_features_df.drop([\"Age_label_enc\", \"Fare_mean_enc\"], axis = 1)"
   ]
  },
  {
   "cell_type": "code",
   "execution_count": 3,
   "metadata": {
    "ExecuteTime": {
     "end_time": "2020-11-21T05:02:39.745706Z",
     "start_time": "2020-11-21T05:02:39.483080Z"
    }
   },
   "outputs": [],
   "source": [
    "train_df = pd.read_csv(\"../Data/train.csv\")\n",
    "test_df = pd.read_csv(\"../Data/test.csv\")\n",
    "\n",
    "train_preprocessed_df = pd.read_csv(\"../Data/preprocessed_train_df.csv\")\n",
    "test_preprocessed_df = pd.read_csv(\"../Data/preprocessed_test_df.csv\")"
   ]
  },
  {
   "cell_type": "markdown",
   "metadata": {},
   "source": [
    "# Train Test Split"
   ]
  },
  {
   "cell_type": "code",
   "execution_count": 4,
   "metadata": {
    "ExecuteTime": {
     "end_time": "2020-11-21T05:02:41.928067Z",
     "start_time": "2020-11-21T05:02:41.909117Z"
    }
   },
   "outputs": [],
   "source": [
    "X, y = train_features_df.values, train_df[\"Survived\"].values\n",
    "X_train, X_test, y_train, y_test = train_test_split(X, y, test_size = 0.2, random_state = 42)"
   ]
  },
  {
   "cell_type": "markdown",
   "metadata": {},
   "source": [
    "# Building and testing Ensemble on Train Set"
   ]
  },
  {
   "cell_type": "markdown",
   "metadata": {},
   "source": [
    "## All Models"
   ]
  },
  {
   "cell_type": "code",
   "execution_count": 6,
   "metadata": {
    "ExecuteTime": {
     "end_time": "2020-11-21T05:18:37.907977Z",
     "start_time": "2020-11-21T05:18:37.409562Z"
    }
   },
   "outputs": [
    {
     "name": "stdout",
     "output_type": "stream",
     "text": [
      "[0]\tvalidation_0-error:0.18994\n",
      "Will train until validation_0-error hasn't improved in 5 rounds.\n",
      "[1]\tvalidation_0-error:0.18436\n",
      "[2]\tvalidation_0-error:0.18994\n",
      "[3]\tvalidation_0-error:0.17877\n",
      "[4]\tvalidation_0-error:0.17877\n",
      "[5]\tvalidation_0-error:0.17877\n",
      "[6]\tvalidation_0-error:0.17877\n",
      "[7]\tvalidation_0-error:0.17318\n",
      "[8]\tvalidation_0-error:0.17877\n",
      "[9]\tvalidation_0-error:0.16760\n",
      "[10]\tvalidation_0-error:0.16760\n",
      "[11]\tvalidation_0-error:0.17318\n",
      "[12]\tvalidation_0-error:0.16760\n",
      "[13]\tvalidation_0-error:0.16201\n",
      "[14]\tvalidation_0-error:0.16760\n",
      "[15]\tvalidation_0-error:0.16201\n",
      "[16]\tvalidation_0-error:0.16201\n",
      "[17]\tvalidation_0-error:0.16760\n",
      "[18]\tvalidation_0-error:0.16201\n",
      "Stopping. Best iteration:\n",
      "[13]\tvalidation_0-error:0.16201\n",
      "\n"
     ]
    }
   ],
   "source": [
    "lr_model = pickle.load(open(\"logistic_regression_model.sav\", 'rb'))\n",
    "knn_model = pickle.load(open(\"grid_search_knn_model.sav\", \"rb\"))\n",
    "svm_model = pickle.load(open(\"final_best_svm.sav\", 'rb'))\n",
    "dt_model = DecisionTreeClassifier(random_state = 42).fit(X_train[:, :-1], y_train)\n",
    "rf_model = pickle.load(open(\"best_ext_rf.sav\", 'rb'))\n",
    "xgb_model = XGBClassifier(\n",
    "                    objective = \"binary:logistic\", \n",
    "                    random_state = 42\n",
    "                ).fit(X_train[:, :-1], y_train, early_stopping_rounds=5, eval_set=[(X_test[:, :-1], y_test)])"
   ]
  },
  {
   "cell_type": "markdown",
   "metadata": {},
   "source": [
    "## Adding First Level Predictions"
   ]
  },
  {
   "cell_type": "code",
   "execution_count": 31,
   "metadata": {
    "ExecuteTime": {
     "end_time": "2020-11-21T05:35:19.822789Z",
     "start_time": "2020-11-21T05:35:19.772921Z"
    }
   },
   "outputs": [],
   "source": [
    "train_first_preds = pd.DataFrame()\n",
    "# train_first_preds[\"lr\"] = lr_model.predict(X_train[:, :-1])\n",
    "train_first_preds[\"knn\"] = knn_model.predict(X_train[:, :-1])\n",
    "# train_first_preds[\"svm\"] = svm_model.predict(X_train[:, :-1])\n",
    "train_first_preds[\"dt\"] = dt_model.predict(X_train[:, :-1])\n",
    "# train_first_preds[\"rf\"] = rf_model.predict(X_train[:, :-1])\n",
    "train_first_preds[\"xgb\"] = xgb_model.predict(X_train[:, :-1])\n",
    "\n",
    "test_first_preds = pd.DataFrame()\n",
    "# test_first_preds[\"lr\"] = lr_model.predict(X_test[:, :-1])\n",
    "test_first_preds[\"knn\"] = knn_model.predict(X_test[:, :-1])\n",
    "# test_first_preds[\"svm\"] = svm_model.predict(X_test[:, :-1])\n",
    "test_first_preds[\"dt\"] = dt_model.predict(X_test[:, :-1])\n",
    "# test_first_preds[\"rf\"] = rf_model.predict(X_test[:, :-1])\n",
    "test_first_preds[\"xgb\"] = xgb_model.predict(X_test[:, :-1])"
   ]
  },
  {
   "cell_type": "markdown",
   "metadata": {},
   "source": [
    "## Base Ensemble Models"
   ]
  },
  {
   "cell_type": "code",
   "execution_count": 43,
   "metadata": {
    "ExecuteTime": {
     "end_time": "2020-11-21T05:39:57.781622Z",
     "start_time": "2020-11-21T05:39:57.753720Z"
    }
   },
   "outputs": [
    {
     "data": {
      "text/plain": [
       "0.8770949720670391"
      ]
     },
     "execution_count": 43,
     "metadata": {},
     "output_type": "execute_result"
    }
   ],
   "source": [
    "lr_ens = LogisticRegression(random_state = 42).fit(train_first_preds.values, y_train)\n",
    "\n",
    "np.where(lr_ens.predict(test_first_preds.values) == y_test, 1, 0).mean()"
   ]
  },
  {
   "cell_type": "code",
   "execution_count": 44,
   "metadata": {
    "ExecuteTime": {
     "end_time": "2020-11-21T05:40:07.595638Z",
     "start_time": "2020-11-21T05:40:07.582670Z"
    }
   },
   "outputs": [
    {
     "data": {
      "text/plain": [
       "0.888268156424581"
      ]
     },
     "execution_count": 44,
     "metadata": {},
     "output_type": "execute_result"
    }
   ],
   "source": [
    "svm_ens = SVC(random_state = 42).fit(train_first_preds.values, y_train)\n",
    "\n",
    "np.where(svm_ens.predict(test_first_preds.values) == y_test, 1, 0).mean()"
   ]
  },
  {
   "cell_type": "code",
   "execution_count": 46,
   "metadata": {
    "ExecuteTime": {
     "end_time": "2020-11-21T05:40:44.219344Z",
     "start_time": "2020-11-21T05:40:44.054779Z"
    }
   },
   "outputs": [
    {
     "data": {
      "text/plain": [
       "0.888268156424581"
      ]
     },
     "execution_count": 46,
     "metadata": {},
     "output_type": "execute_result"
    }
   ],
   "source": [
    "rf_ens = RandomForestClassifier(n_estimators = 100, \n",
    "                                random_state = 42).fit(train_first_preds.values, y_train)\n",
    "\n",
    "np.where(rf_ens.predict(test_first_preds.values) == y_test, 1, 0).mean()"
   ]
  },
  {
   "cell_type": "markdown",
   "metadata": {},
   "source": [
    "## Base Submissions"
   ]
  },
  {
   "cell_type": "code",
   "execution_count": 48,
   "metadata": {
    "ExecuteTime": {
     "end_time": "2020-11-21T05:48:07.233855Z",
     "start_time": "2020-11-21T05:48:07.146077Z"
    }
   },
   "outputs": [],
   "source": [
    "X, y = train_features_df.values, train_df[\"Survived\"].values\n",
    "\n",
    "train_first_preds = pd.DataFrame()\n",
    "# train_first_preds[\"lr\"] = lr_model.predict(X[:, :-1])\n",
    "train_first_preds[\"knn\"] = knn_model.predict(X[:, :-1])\n",
    "# train_first_preds[\"svm\"] = svm_model.predict(X[:, :-1])\n",
    "train_first_preds[\"dt\"] = dt_model.predict(X[:, :-1])\n",
    "# train_first_preds[\"rf\"] = rf_model.predict(X[:, :-1])\n",
    "train_first_preds[\"xgb\"] = xgb_model.predict(X[:, :-1])\n",
    "\n",
    "test_first_preds = pd.DataFrame()\n",
    "# test_first_preds[\"lr\"] = lr_model.predict(test_features_df.values)\n",
    "test_first_preds[\"knn\"] = knn_model.predict(test_features_df.values)\n",
    "# test_first_preds[\"svm\"] = svm_model.predict(test_features_df.values)\n",
    "test_first_preds[\"dt\"] = dt_model.predict(test_features_df.values)\n",
    "# test_first_preds[\"rf\"] = rf_model.predict(test_features_df.values)\n",
    "test_first_preds[\"xgb\"] = xgb_model.predict(test_features_df.values)"
   ]
  },
  {
   "cell_type": "code",
   "execution_count": 49,
   "metadata": {
    "ExecuteTime": {
     "end_time": "2020-11-21T05:48:08.661984Z",
     "start_time": "2020-11-21T05:48:08.477024Z"
    }
   },
   "outputs": [],
   "source": [
    "full_lr_ens = LogisticRegression(random_state = 42).fit(train_first_preds, y)\n",
    "sub8_base_lr_ens = pd.read_csv(\"../Data/gender_submission.csv\")\n",
    "sub8_base_lr_ens[\"Survived\"] = full_lr_ens.predict(test_first_preds)\n",
    "sub8_base_lr_ens.to_csv(\"sub8_base_lr_ens.csv\", index = False)"
   ]
  },
  {
   "cell_type": "code",
   "execution_count": 51,
   "metadata": {
    "ExecuteTime": {
     "end_time": "2020-11-21T05:49:40.602758Z",
     "start_time": "2020-11-21T05:49:40.582812Z"
    }
   },
   "outputs": [],
   "source": [
    "full_svm_ens = SVC(random_state = 42).fit(train_first_preds, y)\n",
    "sub8_base_svm_ens = pd.read_csv(\"../Data/gender_submission.csv\")\n",
    "sub8_base_svm_ens[\"Survived\"] = full_svm_ens.predict(test_first_preds)\n",
    "sub8_base_svm_ens.to_csv(\"sub8_base_svm_ens.csv\", index = False)"
   ]
  }
 ],
 "metadata": {
  "kernelspec": {
   "display_name": "Python 3",
   "language": "python",
   "name": "python3"
  },
  "language_info": {
   "codemirror_mode": {
    "name": "ipython",
    "version": 3
   },
   "file_extension": ".py",
   "mimetype": "text/x-python",
   "name": "python",
   "nbconvert_exporter": "python",
   "pygments_lexer": "ipython3",
   "version": "3.7.6"
  },
  "latex_envs": {
   "LaTeX_envs_menu_present": true,
   "autoclose": false,
   "autocomplete": true,
   "bibliofile": "biblio.bib",
   "cite_by": "apalike",
   "current_citInitial": 1,
   "eqLabelWithNumbers": true,
   "eqNumInitial": 1,
   "hotkeys": {
    "equation": "Ctrl-E",
    "itemize": "Ctrl-I"
   },
   "labels_anchors": false,
   "latex_user_defs": false,
   "report_style_numbering": false,
   "user_envs_cfg": false
  },
  "toc": {
   "base_numbering": 1,
   "nav_menu": {},
   "number_sections": true,
   "sideBar": true,
   "skip_h1_title": false,
   "title_cell": "Table of Contents",
   "title_sidebar": "Contents",
   "toc_cell": false,
   "toc_position": {},
   "toc_section_display": true,
   "toc_window_display": true
  }
 },
 "nbformat": 4,
 "nbformat_minor": 4
}
