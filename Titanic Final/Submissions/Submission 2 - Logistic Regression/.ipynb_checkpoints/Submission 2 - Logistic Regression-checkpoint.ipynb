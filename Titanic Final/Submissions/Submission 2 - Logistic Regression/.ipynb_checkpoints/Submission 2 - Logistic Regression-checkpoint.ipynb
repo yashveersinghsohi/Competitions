{
 "cells": [
  {
   "cell_type": "markdown",
   "metadata": {},
   "source": [
    "# Importing Required Packages"
   ]
  },
  {
   "cell_type": "code",
   "execution_count": 1,
   "metadata": {
    "ExecuteTime": {
     "end_time": "2020-11-16T06:54:03.098357Z",
     "start_time": "2020-11-16T06:54:01.067789Z"
    }
   },
   "outputs": [],
   "source": [
    "import pandas as pd\n",
    "import numpy as np\n",
    "import matplotlib.pyplot as plt\n",
    "import seaborn as sns\n",
    "\n",
    "from sklearn.model_selection import train_test_split\n",
    "from sklearn.linear_model import LogisticRegression\n",
    "from sklearn.metrics import f1_score\n",
    "from sklearn.model_selection import GridSearchCV\n",
    "\n",
    "import pickle\n",
    "\n",
    "import warnings\n",
    "warnings.filterwarnings(\"ignore\")\n",
    "\n",
    "sns.set()"
   ]
  },
  {
   "cell_type": "markdown",
   "metadata": {},
   "source": [
    "# Importing Dataset"
   ]
  },
  {
   "cell_type": "code",
   "execution_count": 2,
   "metadata": {
    "ExecuteTime": {
     "end_time": "2020-11-16T06:54:05.150867Z",
     "start_time": "2020-11-16T06:54:05.119952Z"
    }
   },
   "outputs": [],
   "source": [
    "train_features_backup = pd.read_csv(\"../Data/train_features_df.csv\")\n",
    "test_features_backup = pd.read_csv(\"../Data/test_features_df.csv\")\n",
    "\n",
    "train_features_df = train_features_backup.copy()\n",
    "test_features_df = test_features_backup.copy()"
   ]
  },
  {
   "cell_type": "code",
   "execution_count": 3,
   "metadata": {
    "ExecuteTime": {
     "end_time": "2020-11-16T06:54:05.401197Z",
     "start_time": "2020-11-16T06:54:05.364298Z"
    }
   },
   "outputs": [],
   "source": [
    "train_df = pd.read_csv(\"../Data/train.csv\")\n",
    "test_df = pd.read_csv(\"../Data/test.csv\")\n",
    "\n",
    "train_preprocessed_df = pd.read_csv(\"../Data/preprocessed_train_df.csv\")\n",
    "test_preprocessed_df = pd.read_csv(\"../Data/preprocessed_test_df.csv\")"
   ]
  },
  {
   "cell_type": "markdown",
   "metadata": {},
   "source": [
    "# Train Test Split"
   ]
  },
  {
   "cell_type": "code",
   "execution_count": 4,
   "metadata": {
    "ExecuteTime": {
     "end_time": "2020-11-16T06:54:08.863659Z",
     "start_time": "2020-11-16T06:54:08.855681Z"
    }
   },
   "outputs": [],
   "source": [
    "train_features_df[\"Indices\"] = train_features_df.index"
   ]
  },
  {
   "cell_type": "code",
   "execution_count": 5,
   "metadata": {
    "ExecuteTime": {
     "end_time": "2020-11-16T06:54:09.240652Z",
     "start_time": "2020-11-16T06:54:09.222699Z"
    }
   },
   "outputs": [],
   "source": [
    "X, y = train_features_df.drop([\"Age_label_enc\", \"Fare_label_enc\"], axis = 1).values, train_df[\"Survived\"].values\n",
    "\n",
    "X_train, X_test, y_train, y_test = train_test_split(X, y, test_size = 0.2, random_state = 42)"
   ]
  },
  {
   "cell_type": "markdown",
   "metadata": {},
   "source": [
    "# Base Logistic Regression Model"
   ]
  },
  {
   "cell_type": "code",
   "execution_count": 6,
   "metadata": {
    "ExecuteTime": {
     "end_time": "2020-11-16T06:54:12.130919Z",
     "start_time": "2020-11-16T06:54:11.203402Z"
    }
   },
   "outputs": [],
   "source": [
    "base_lr = LogisticRegression(random_state = 42)\n",
    "base_lr_fit = base_lr.fit(X_train[:, :-1], y_train)"
   ]
  },
  {
   "cell_type": "markdown",
   "metadata": {},
   "source": [
    "## Classificaton Accuracy"
   ]
  },
  {
   "cell_type": "code",
   "execution_count": 7,
   "metadata": {
    "ExecuteTime": {
     "end_time": "2020-11-16T06:54:13.492280Z",
     "start_time": "2020-11-16T06:54:13.479315Z"
    }
   },
   "outputs": [
    {
     "data": {
      "text/plain": [
       "0.8100558659217877"
      ]
     },
     "execution_count": 7,
     "metadata": {},
     "output_type": "execute_result"
    }
   ],
   "source": [
    "np.where(base_lr_fit.predict(X_test[:, :-1]) == y_test, 1, 0).mean()"
   ]
  },
  {
   "cell_type": "markdown",
   "metadata": {},
   "source": [
    "## F1 Score"
   ]
  },
  {
   "cell_type": "code",
   "execution_count": 8,
   "metadata": {
    "ExecuteTime": {
     "end_time": "2020-11-16T06:54:14.199424Z",
     "start_time": "2020-11-16T06:54:14.188418Z"
    }
   },
   "outputs": [
    {
     "data": {
      "text/plain": [
       "0.7671232876712328"
      ]
     },
     "execution_count": 8,
     "metadata": {},
     "output_type": "execute_result"
    }
   ],
   "source": [
    "f1_score(y_true = y_test, y_pred = base_lr_fit.predict(X_test[:, :-1]))"
   ]
  },
  {
   "cell_type": "markdown",
   "metadata": {},
   "source": [
    "## Classification Summary"
   ]
  },
  {
   "cell_type": "code",
   "execution_count": 9,
   "metadata": {
    "ExecuteTime": {
     "end_time": "2020-11-16T06:54:16.003564Z",
     "start_time": "2020-11-16T06:54:15.969656Z"
    }
   },
   "outputs": [
    {
     "data": {
      "text/html": [
       "<div>\n",
       "<style scoped>\n",
       "    .dataframe tbody tr th:only-of-type {\n",
       "        vertical-align: middle;\n",
       "    }\n",
       "\n",
       "    .dataframe tbody tr th {\n",
       "        vertical-align: top;\n",
       "    }\n",
       "\n",
       "    .dataframe thead th {\n",
       "        text-align: right;\n",
       "    }\n",
       "</style>\n",
       "<table border=\"1\" class=\"dataframe\">\n",
       "  <thead>\n",
       "    <tr style=\"text-align: right;\">\n",
       "      <th></th>\n",
       "      <th>Actuals:0</th>\n",
       "      <th>Actuals:1</th>\n",
       "    </tr>\n",
       "  </thead>\n",
       "  <tbody>\n",
       "    <tr>\n",
       "      <th>Predictions:0</th>\n",
       "      <td>89</td>\n",
       "      <td>18</td>\n",
       "    </tr>\n",
       "    <tr>\n",
       "      <th>Predictions:1</th>\n",
       "      <td>16</td>\n",
       "      <td>56</td>\n",
       "    </tr>\n",
       "  </tbody>\n",
       "</table>\n",
       "</div>"
      ],
      "text/plain": [
       "              Actuals:0 Actuals:1\n",
       "Predictions:0        89        18\n",
       "Predictions:1        16        56"
      ]
     },
     "execution_count": 9,
     "metadata": {},
     "output_type": "execute_result"
    }
   ],
   "source": [
    "preds = base_lr_fit.predict(X_test[:, :-1])\n",
    "\n",
    "f1_df = pd.DataFrame(index = [\"Predictions:0\", \"Predictions:1\"], columns = [\"Actuals:0\", \"Actuals:1\"])\n",
    "\n",
    "f1_df.at[\"Predictions:0\", \"Actuals:0\"] = np.where((preds == 0) & (y_test == 0), 1, 0).sum()\n",
    "f1_df.at[\"Predictions:0\", \"Actuals:1\"] = np.where((preds == 0) & (y_test == 1), 1, 0).sum()\n",
    "f1_df.at[\"Predictions:1\", \"Actuals:0\"] = np.where((preds == 1) & (y_test == 0), 1, 0).sum()\n",
    "f1_df.at[\"Predictions:1\", \"Actuals:1\"] = np.where((preds == 1) & (y_test == 1), 1, 0).sum()\n",
    "\n",
    "f1_df"
   ]
  },
  {
   "cell_type": "markdown",
   "metadata": {},
   "source": [
    "## Error Analysis"
   ]
  },
  {
   "cell_type": "code",
   "execution_count": 10,
   "metadata": {
    "ExecuteTime": {
     "end_time": "2020-11-16T06:54:17.851488Z",
     "start_time": "2020-11-16T06:54:17.840519Z"
    }
   },
   "outputs": [],
   "source": [
    "preds = base_lr_fit.predict(X_test[:, :-1])\n",
    "\n",
    "p0_a1 = X_test[:, -1][(preds == 0) & (y_test == 1)]\n",
    "p1_a0 = X_test[:, -1][(preds == 1) & (y_test == 0)]"
   ]
  },
  {
   "cell_type": "code",
   "execution_count": 11,
   "metadata": {
    "ExecuteTime": {
     "end_time": "2020-11-16T06:54:18.452308Z",
     "start_time": "2020-11-16T06:54:18.434357Z"
    }
   },
   "outputs": [
    {
     "data": {
      "text/plain": [
       "array([0, 1], dtype=int64)"
      ]
     },
     "execution_count": 11,
     "metadata": {},
     "output_type": "execute_result"
    }
   ],
   "source": [
    "base_lr_fit.classes_"
   ]
  },
  {
   "cell_type": "code",
   "execution_count": 12,
   "metadata": {
    "ExecuteTime": {
     "end_time": "2020-11-16T06:54:19.674009Z",
     "start_time": "2020-11-16T06:54:19.614151Z"
    },
    "scrolled": true
   },
   "outputs": [
    {
     "data": {
      "text/html": [
       "<div>\n",
       "<style scoped>\n",
       "    .dataframe tbody tr th:only-of-type {\n",
       "        vertical-align: middle;\n",
       "    }\n",
       "\n",
       "    .dataframe tbody tr th {\n",
       "        vertical-align: top;\n",
       "    }\n",
       "\n",
       "    .dataframe thead th {\n",
       "        text-align: right;\n",
       "    }\n",
       "</style>\n",
       "<table border=\"1\" class=\"dataframe\">\n",
       "  <thead>\n",
       "    <tr style=\"text-align: right;\">\n",
       "      <th></th>\n",
       "      <th>PassengerId</th>\n",
       "      <th>Survived</th>\n",
       "      <th>Pclass</th>\n",
       "      <th>Name</th>\n",
       "      <th>Sex</th>\n",
       "      <th>Age</th>\n",
       "      <th>SibSp</th>\n",
       "      <th>Parch</th>\n",
       "      <th>Ticket</th>\n",
       "      <th>Fare</th>\n",
       "      <th>Cabin</th>\n",
       "      <th>Embarked</th>\n",
       "      <th>Prediction_Proba</th>\n",
       "    </tr>\n",
       "  </thead>\n",
       "  <tbody>\n",
       "    <tr>\n",
       "      <th>621.0</th>\n",
       "      <td>622</td>\n",
       "      <td>1</td>\n",
       "      <td>1</td>\n",
       "      <td>Kimball, Mr. Edwin Nelson Jr</td>\n",
       "      <td>male</td>\n",
       "      <td>42.0</td>\n",
       "      <td>1</td>\n",
       "      <td>0</td>\n",
       "      <td>11753</td>\n",
       "      <td>52.5542</td>\n",
       "      <td>D19</td>\n",
       "      <td>S</td>\n",
       "      <td>0.301741</td>\n",
       "    </tr>\n",
       "    <tr>\n",
       "      <th>447.0</th>\n",
       "      <td>448</td>\n",
       "      <td>1</td>\n",
       "      <td>1</td>\n",
       "      <td>Seward, Mr. Frederic Kimber</td>\n",
       "      <td>male</td>\n",
       "      <td>34.0</td>\n",
       "      <td>0</td>\n",
       "      <td>0</td>\n",
       "      <td>113794</td>\n",
       "      <td>26.5500</td>\n",
       "      <td>NaN</td>\n",
       "      <td>S</td>\n",
       "      <td>0.219224</td>\n",
       "    </tr>\n",
       "    <tr>\n",
       "      <th>673.0</th>\n",
       "      <td>674</td>\n",
       "      <td>1</td>\n",
       "      <td>2</td>\n",
       "      <td>Wilhelms, Mr. Charles</td>\n",
       "      <td>male</td>\n",
       "      <td>31.0</td>\n",
       "      <td>0</td>\n",
       "      <td>0</td>\n",
       "      <td>244270</td>\n",
       "      <td>13.0000</td>\n",
       "      <td>NaN</td>\n",
       "      <td>S</td>\n",
       "      <td>0.525590</td>\n",
       "    </tr>\n",
       "    <tr>\n",
       "      <th>204.0</th>\n",
       "      <td>205</td>\n",
       "      <td>1</td>\n",
       "      <td>3</td>\n",
       "      <td>Cohen, Mr. Gurshon \"Gus\"</td>\n",
       "      <td>male</td>\n",
       "      <td>18.0</td>\n",
       "      <td>0</td>\n",
       "      <td>0</td>\n",
       "      <td>A/5 3540</td>\n",
       "      <td>8.0500</td>\n",
       "      <td>NaN</td>\n",
       "      <td>S</td>\n",
       "      <td>0.197066</td>\n",
       "    </tr>\n",
       "    <tr>\n",
       "      <th>23.0</th>\n",
       "      <td>24</td>\n",
       "      <td>1</td>\n",
       "      <td>1</td>\n",
       "      <td>Sloper, Mr. William Thompson</td>\n",
       "      <td>male</td>\n",
       "      <td>28.0</td>\n",
       "      <td>0</td>\n",
       "      <td>0</td>\n",
       "      <td>113788</td>\n",
       "      <td>35.5000</td>\n",
       "      <td>A6</td>\n",
       "      <td>S</td>\n",
       "      <td>0.523634</td>\n",
       "    </tr>\n",
       "    <tr>\n",
       "      <th>165.0</th>\n",
       "      <td>166</td>\n",
       "      <td>1</td>\n",
       "      <td>3</td>\n",
       "      <td>Goldsmith, Master. Frank John William \"Frankie\"</td>\n",
       "      <td>male</td>\n",
       "      <td>9.0</td>\n",
       "      <td>0</td>\n",
       "      <td>2</td>\n",
       "      <td>363291</td>\n",
       "      <td>20.5250</td>\n",
       "      <td>NaN</td>\n",
       "      <td>S</td>\n",
       "      <td>0.576543</td>\n",
       "    </tr>\n",
       "    <tr>\n",
       "      <th>712.0</th>\n",
       "      <td>713</td>\n",
       "      <td>1</td>\n",
       "      <td>1</td>\n",
       "      <td>Taylor, Mr. Elmer Zebley</td>\n",
       "      <td>male</td>\n",
       "      <td>48.0</td>\n",
       "      <td>1</td>\n",
       "      <td>0</td>\n",
       "      <td>19996</td>\n",
       "      <td>52.0000</td>\n",
       "      <td>C126</td>\n",
       "      <td>S</td>\n",
       "      <td>0.095300</td>\n",
       "    </tr>\n",
       "    <tr>\n",
       "      <th>338.0</th>\n",
       "      <td>339</td>\n",
       "      <td>1</td>\n",
       "      <td>3</td>\n",
       "      <td>Dahl, Mr. Karl Edwart</td>\n",
       "      <td>male</td>\n",
       "      <td>45.0</td>\n",
       "      <td>0</td>\n",
       "      <td>0</td>\n",
       "      <td>7598</td>\n",
       "      <td>8.0500</td>\n",
       "      <td>NaN</td>\n",
       "      <td>S</td>\n",
       "      <td>0.287643</td>\n",
       "    </tr>\n",
       "    <tr>\n",
       "      <th>286.0</th>\n",
       "      <td>287</td>\n",
       "      <td>1</td>\n",
       "      <td>3</td>\n",
       "      <td>de Mulder, Mr. Theodore</td>\n",
       "      <td>male</td>\n",
       "      <td>30.0</td>\n",
       "      <td>0</td>\n",
       "      <td>0</td>\n",
       "      <td>345774</td>\n",
       "      <td>9.5000</td>\n",
       "      <td>NaN</td>\n",
       "      <td>S</td>\n",
       "      <td>0.735364</td>\n",
       "    </tr>\n",
       "    <tr>\n",
       "      <th>209.0</th>\n",
       "      <td>210</td>\n",
       "      <td>1</td>\n",
       "      <td>1</td>\n",
       "      <td>Blank, Mr. Henry</td>\n",
       "      <td>male</td>\n",
       "      <td>40.0</td>\n",
       "      <td>0</td>\n",
       "      <td>0</td>\n",
       "      <td>112277</td>\n",
       "      <td>31.0000</td>\n",
       "      <td>A31</td>\n",
       "      <td>C</td>\n",
       "      <td>0.929229</td>\n",
       "    </tr>\n",
       "    <tr>\n",
       "      <th>512.0</th>\n",
       "      <td>513</td>\n",
       "      <td>1</td>\n",
       "      <td>1</td>\n",
       "      <td>McGough, Mr. James Robert</td>\n",
       "      <td>male</td>\n",
       "      <td>36.0</td>\n",
       "      <td>0</td>\n",
       "      <td>0</td>\n",
       "      <td>PC 17473</td>\n",
       "      <td>26.2875</td>\n",
       "      <td>E25</td>\n",
       "      <td>S</td>\n",
       "      <td>0.882418</td>\n",
       "    </tr>\n",
       "    <tr>\n",
       "      <th>604.0</th>\n",
       "      <td>605</td>\n",
       "      <td>1</td>\n",
       "      <td>1</td>\n",
       "      <td>Homer, Mr. Harry (\"Mr E Haven\")</td>\n",
       "      <td>male</td>\n",
       "      <td>35.0</td>\n",
       "      <td>0</td>\n",
       "      <td>0</td>\n",
       "      <td>111426</td>\n",
       "      <td>26.5500</td>\n",
       "      <td>NaN</td>\n",
       "      <td>C</td>\n",
       "      <td>0.683574</td>\n",
       "    </tr>\n",
       "    <tr>\n",
       "      <th>796.0</th>\n",
       "      <td>797</td>\n",
       "      <td>1</td>\n",
       "      <td>1</td>\n",
       "      <td>Leader, Dr. Alice (Farnham)</td>\n",
       "      <td>female</td>\n",
       "      <td>49.0</td>\n",
       "      <td>0</td>\n",
       "      <td>0</td>\n",
       "      <td>17465</td>\n",
       "      <td>25.9292</td>\n",
       "      <td>D17</td>\n",
       "      <td>S</td>\n",
       "      <td>0.744662</td>\n",
       "    </tr>\n",
       "    <tr>\n",
       "      <th>599.0</th>\n",
       "      <td>600</td>\n",
       "      <td>1</td>\n",
       "      <td>1</td>\n",
       "      <td>Duff Gordon, Sir. Cosmo Edmund (\"Mr Morgan\")</td>\n",
       "      <td>male</td>\n",
       "      <td>49.0</td>\n",
       "      <td>1</td>\n",
       "      <td>0</td>\n",
       "      <td>PC 17485</td>\n",
       "      <td>56.9292</td>\n",
       "      <td>A20</td>\n",
       "      <td>C</td>\n",
       "      <td>0.637332</td>\n",
       "    </tr>\n",
       "    <tr>\n",
       "      <th>643.0</th>\n",
       "      <td>644</td>\n",
       "      <td>1</td>\n",
       "      <td>3</td>\n",
       "      <td>Foo, Mr. Choong</td>\n",
       "      <td>male</td>\n",
       "      <td>NaN</td>\n",
       "      <td>0</td>\n",
       "      <td>0</td>\n",
       "      <td>1601</td>\n",
       "      <td>56.4958</td>\n",
       "      <td>NaN</td>\n",
       "      <td>S</td>\n",
       "      <td>0.391249</td>\n",
       "    </tr>\n",
       "    <tr>\n",
       "      <th>507.0</th>\n",
       "      <td>508</td>\n",
       "      <td>1</td>\n",
       "      <td>1</td>\n",
       "      <td>Bradley, Mr. George (\"George Arthur Brayton\")</td>\n",
       "      <td>male</td>\n",
       "      <td>NaN</td>\n",
       "      <td>0</td>\n",
       "      <td>0</td>\n",
       "      <td>111427</td>\n",
       "      <td>26.5500</td>\n",
       "      <td>NaN</td>\n",
       "      <td>S</td>\n",
       "      <td>0.237032</td>\n",
       "    </tr>\n",
       "    <tr>\n",
       "      <th>572.0</th>\n",
       "      <td>573</td>\n",
       "      <td>1</td>\n",
       "      <td>1</td>\n",
       "      <td>Flynn, Mr. John Irwin (\"Irving\")</td>\n",
       "      <td>male</td>\n",
       "      <td>36.0</td>\n",
       "      <td>0</td>\n",
       "      <td>0</td>\n",
       "      <td>PC 17474</td>\n",
       "      <td>26.3875</td>\n",
       "      <td>E25</td>\n",
       "      <td>S</td>\n",
       "      <td>0.055639</td>\n",
       "    </tr>\n",
       "    <tr>\n",
       "      <th>25.0</th>\n",
       "      <td>26</td>\n",
       "      <td>1</td>\n",
       "      <td>3</td>\n",
       "      <td>Asplund, Mrs. Carl Oscar (Selma Augusta Emilia...</td>\n",
       "      <td>female</td>\n",
       "      <td>38.0</td>\n",
       "      <td>1</td>\n",
       "      <td>5</td>\n",
       "      <td>347077</td>\n",
       "      <td>31.3875</td>\n",
       "      <td>NaN</td>\n",
       "      <td>S</td>\n",
       "      <td>0.075644</td>\n",
       "    </tr>\n",
       "    <tr>\n",
       "      <th>30.0</th>\n",
       "      <td>31</td>\n",
       "      <td>0</td>\n",
       "      <td>1</td>\n",
       "      <td>Uruchurtu, Don. Manuel E</td>\n",
       "      <td>male</td>\n",
       "      <td>40.0</td>\n",
       "      <td>0</td>\n",
       "      <td>0</td>\n",
       "      <td>PC 17601</td>\n",
       "      <td>27.7208</td>\n",
       "      <td>NaN</td>\n",
       "      <td>C</td>\n",
       "      <td>0.350734</td>\n",
       "    </tr>\n",
       "    <tr>\n",
       "      <th>396.0</th>\n",
       "      <td>397</td>\n",
       "      <td>0</td>\n",
       "      <td>3</td>\n",
       "      <td>Olsson, Miss. Elina</td>\n",
       "      <td>female</td>\n",
       "      <td>31.0</td>\n",
       "      <td>0</td>\n",
       "      <td>0</td>\n",
       "      <td>350407</td>\n",
       "      <td>7.8542</td>\n",
       "      <td>NaN</td>\n",
       "      <td>S</td>\n",
       "      <td>0.420462</td>\n",
       "    </tr>\n",
       "    <tr>\n",
       "      <th>235.0</th>\n",
       "      <td>236</td>\n",
       "      <td>0</td>\n",
       "      <td>3</td>\n",
       "      <td>Harknett, Miss. Alice Phoebe</td>\n",
       "      <td>female</td>\n",
       "      <td>NaN</td>\n",
       "      <td>0</td>\n",
       "      <td>0</td>\n",
       "      <td>W./C. 6609</td>\n",
       "      <td>7.5500</td>\n",
       "      <td>NaN</td>\n",
       "      <td>S</td>\n",
       "      <td>0.546632</td>\n",
       "    </tr>\n",
       "    <tr>\n",
       "      <th>362.0</th>\n",
       "      <td>363</td>\n",
       "      <td>0</td>\n",
       "      <td>3</td>\n",
       "      <td>Barbara, Mrs. (Catherine David)</td>\n",
       "      <td>female</td>\n",
       "      <td>45.0</td>\n",
       "      <td>0</td>\n",
       "      <td>1</td>\n",
       "      <td>2691</td>\n",
       "      <td>14.4542</td>\n",
       "      <td>NaN</td>\n",
       "      <td>C</td>\n",
       "      <td>0.326388</td>\n",
       "    </tr>\n",
       "    <tr>\n",
       "      <th>772.0</th>\n",
       "      <td>773</td>\n",
       "      <td>0</td>\n",
       "      <td>2</td>\n",
       "      <td>Mack, Mrs. (Mary)</td>\n",
       "      <td>female</td>\n",
       "      <td>57.0</td>\n",
       "      <td>0</td>\n",
       "      <td>0</td>\n",
       "      <td>S.O./P.P. 3</td>\n",
       "      <td>10.5000</td>\n",
       "      <td>E77</td>\n",
       "      <td>S</td>\n",
       "      <td>0.491263</td>\n",
       "    </tr>\n",
       "    <tr>\n",
       "      <th>312.0</th>\n",
       "      <td>313</td>\n",
       "      <td>0</td>\n",
       "      <td>2</td>\n",
       "      <td>Lahtinen, Mrs. William (Anna Sylfven)</td>\n",
       "      <td>female</td>\n",
       "      <td>26.0</td>\n",
       "      <td>1</td>\n",
       "      <td>1</td>\n",
       "      <td>250651</td>\n",
       "      <td>26.0000</td>\n",
       "      <td>NaN</td>\n",
       "      <td>S</td>\n",
       "      <td>0.529605</td>\n",
       "    </tr>\n",
       "    <tr>\n",
       "      <th>767.0</th>\n",
       "      <td>768</td>\n",
       "      <td>0</td>\n",
       "      <td>3</td>\n",
       "      <td>Mangan, Miss. Mary</td>\n",
       "      <td>female</td>\n",
       "      <td>30.5</td>\n",
       "      <td>0</td>\n",
       "      <td>0</td>\n",
       "      <td>364850</td>\n",
       "      <td>7.7500</td>\n",
       "      <td>NaN</td>\n",
       "      <td>Q</td>\n",
       "      <td>0.775081</td>\n",
       "    </tr>\n",
       "    <tr>\n",
       "      <th>357.0</th>\n",
       "      <td>358</td>\n",
       "      <td>0</td>\n",
       "      <td>2</td>\n",
       "      <td>Funk, Miss. Annie Clemmer</td>\n",
       "      <td>female</td>\n",
       "      <td>38.0</td>\n",
       "      <td>0</td>\n",
       "      <td>0</td>\n",
       "      <td>237671</td>\n",
       "      <td>13.0000</td>\n",
       "      <td>NaN</td>\n",
       "      <td>S</td>\n",
       "      <td>0.482203</td>\n",
       "    </tr>\n",
       "    <tr>\n",
       "      <th>254.0</th>\n",
       "      <td>255</td>\n",
       "      <td>0</td>\n",
       "      <td>3</td>\n",
       "      <td>Rosblom, Mrs. Viktor (Helena Wilhelmina)</td>\n",
       "      <td>female</td>\n",
       "      <td>41.0</td>\n",
       "      <td>0</td>\n",
       "      <td>2</td>\n",
       "      <td>370129</td>\n",
       "      <td>20.2125</td>\n",
       "      <td>NaN</td>\n",
       "      <td>S</td>\n",
       "      <td>0.740618</td>\n",
       "    </tr>\n",
       "    <tr>\n",
       "      <th>527.0</th>\n",
       "      <td>528</td>\n",
       "      <td>0</td>\n",
       "      <td>1</td>\n",
       "      <td>Farthing, Mr. John</td>\n",
       "      <td>male</td>\n",
       "      <td>NaN</td>\n",
       "      <td>0</td>\n",
       "      <td>0</td>\n",
       "      <td>PC 17483</td>\n",
       "      <td>221.7792</td>\n",
       "      <td>C95</td>\n",
       "      <td>S</td>\n",
       "      <td>0.835919</td>\n",
       "    </tr>\n",
       "    <tr>\n",
       "      <th>139.0</th>\n",
       "      <td>140</td>\n",
       "      <td>0</td>\n",
       "      <td>1</td>\n",
       "      <td>Giglio, Mr. Victor</td>\n",
       "      <td>male</td>\n",
       "      <td>24.0</td>\n",
       "      <td>0</td>\n",
       "      <td>0</td>\n",
       "      <td>PC 17593</td>\n",
       "      <td>79.2000</td>\n",
       "      <td>B86</td>\n",
       "      <td>C</td>\n",
       "      <td>0.089769</td>\n",
       "    </tr>\n",
       "    <tr>\n",
       "      <th>578.0</th>\n",
       "      <td>579</td>\n",
       "      <td>0</td>\n",
       "      <td>3</td>\n",
       "      <td>Caram, Mrs. Joseph (Maria Elias)</td>\n",
       "      <td>female</td>\n",
       "      <td>NaN</td>\n",
       "      <td>1</td>\n",
       "      <td>0</td>\n",
       "      <td>2689</td>\n",
       "      <td>14.4583</td>\n",
       "      <td>NaN</td>\n",
       "      <td>C</td>\n",
       "      <td>0.802828</td>\n",
       "    </tr>\n",
       "    <tr>\n",
       "      <th>49.0</th>\n",
       "      <td>50</td>\n",
       "      <td>0</td>\n",
       "      <td>3</td>\n",
       "      <td>Arnold-Franchi, Mrs. Josef (Josefine Franchi)</td>\n",
       "      <td>female</td>\n",
       "      <td>18.0</td>\n",
       "      <td>1</td>\n",
       "      <td>0</td>\n",
       "      <td>349237</td>\n",
       "      <td>17.8000</td>\n",
       "      <td>NaN</td>\n",
       "      <td>S</td>\n",
       "      <td>0.234313</td>\n",
       "    </tr>\n",
       "    <tr>\n",
       "      <th>854.0</th>\n",
       "      <td>855</td>\n",
       "      <td>0</td>\n",
       "      <td>2</td>\n",
       "      <td>Carter, Mrs. Ernest Courtenay (Lilian Hughes)</td>\n",
       "      <td>female</td>\n",
       "      <td>44.0</td>\n",
       "      <td>1</td>\n",
       "      <td>0</td>\n",
       "      <td>244252</td>\n",
       "      <td>26.0000</td>\n",
       "      <td>NaN</td>\n",
       "      <td>S</td>\n",
       "      <td>0.420559</td>\n",
       "    </tr>\n",
       "    <tr>\n",
       "      <th>657.0</th>\n",
       "      <td>658</td>\n",
       "      <td>0</td>\n",
       "      <td>3</td>\n",
       "      <td>Bourke, Mrs. John (Catherine)</td>\n",
       "      <td>female</td>\n",
       "      <td>32.0</td>\n",
       "      <td>1</td>\n",
       "      <td>1</td>\n",
       "      <td>364849</td>\n",
       "      <td>15.5000</td>\n",
       "      <td>NaN</td>\n",
       "      <td>Q</td>\n",
       "      <td>0.704727</td>\n",
       "    </tr>\n",
       "    <tr>\n",
       "      <th>852.0</th>\n",
       "      <td>853</td>\n",
       "      <td>0</td>\n",
       "      <td>3</td>\n",
       "      <td>Boulos, Miss. Nourelain</td>\n",
       "      <td>female</td>\n",
       "      <td>9.0</td>\n",
       "      <td>1</td>\n",
       "      <td>1</td>\n",
       "      <td>2678</td>\n",
       "      <td>15.2458</td>\n",
       "      <td>NaN</td>\n",
       "      <td>C</td>\n",
       "      <td>0.312053</td>\n",
       "    </tr>\n",
       "  </tbody>\n",
       "</table>\n",
       "</div>"
      ],
      "text/plain": [
       "       PassengerId  Survived  Pclass  \\\n",
       "621.0          622         1       1   \n",
       "447.0          448         1       1   \n",
       "673.0          674         1       2   \n",
       "204.0          205         1       3   \n",
       "23.0            24         1       1   \n",
       "165.0          166         1       3   \n",
       "712.0          713         1       1   \n",
       "338.0          339         1       3   \n",
       "286.0          287         1       3   \n",
       "209.0          210         1       1   \n",
       "512.0          513         1       1   \n",
       "604.0          605         1       1   \n",
       "796.0          797         1       1   \n",
       "599.0          600         1       1   \n",
       "643.0          644         1       3   \n",
       "507.0          508         1       1   \n",
       "572.0          573         1       1   \n",
       "25.0            26         1       3   \n",
       "30.0            31         0       1   \n",
       "396.0          397         0       3   \n",
       "235.0          236         0       3   \n",
       "362.0          363         0       3   \n",
       "772.0          773         0       2   \n",
       "312.0          313         0       2   \n",
       "767.0          768         0       3   \n",
       "357.0          358         0       2   \n",
       "254.0          255         0       3   \n",
       "527.0          528         0       1   \n",
       "139.0          140         0       1   \n",
       "578.0          579         0       3   \n",
       "49.0            50         0       3   \n",
       "854.0          855         0       2   \n",
       "657.0          658         0       3   \n",
       "852.0          853         0       3   \n",
       "\n",
       "                                                    Name     Sex   Age  SibSp  \\\n",
       "621.0                       Kimball, Mr. Edwin Nelson Jr    male  42.0      1   \n",
       "447.0                        Seward, Mr. Frederic Kimber    male  34.0      0   \n",
       "673.0                              Wilhelms, Mr. Charles    male  31.0      0   \n",
       "204.0                           Cohen, Mr. Gurshon \"Gus\"    male  18.0      0   \n",
       "23.0                        Sloper, Mr. William Thompson    male  28.0      0   \n",
       "165.0    Goldsmith, Master. Frank John William \"Frankie\"    male   9.0      0   \n",
       "712.0                           Taylor, Mr. Elmer Zebley    male  48.0      1   \n",
       "338.0                              Dahl, Mr. Karl Edwart    male  45.0      0   \n",
       "286.0                            de Mulder, Mr. Theodore    male  30.0      0   \n",
       "209.0                                   Blank, Mr. Henry    male  40.0      0   \n",
       "512.0                          McGough, Mr. James Robert    male  36.0      0   \n",
       "604.0                    Homer, Mr. Harry (\"Mr E Haven\")    male  35.0      0   \n",
       "796.0                        Leader, Dr. Alice (Farnham)  female  49.0      0   \n",
       "599.0       Duff Gordon, Sir. Cosmo Edmund (\"Mr Morgan\")    male  49.0      1   \n",
       "643.0                                    Foo, Mr. Choong    male   NaN      0   \n",
       "507.0      Bradley, Mr. George (\"George Arthur Brayton\")    male   NaN      0   \n",
       "572.0                   Flynn, Mr. John Irwin (\"Irving\")    male  36.0      0   \n",
       "25.0   Asplund, Mrs. Carl Oscar (Selma Augusta Emilia...  female  38.0      1   \n",
       "30.0                            Uruchurtu, Don. Manuel E    male  40.0      0   \n",
       "396.0                                Olsson, Miss. Elina  female  31.0      0   \n",
       "235.0                       Harknett, Miss. Alice Phoebe  female   NaN      0   \n",
       "362.0                    Barbara, Mrs. (Catherine David)  female  45.0      0   \n",
       "772.0                                  Mack, Mrs. (Mary)  female  57.0      0   \n",
       "312.0              Lahtinen, Mrs. William (Anna Sylfven)  female  26.0      1   \n",
       "767.0                                 Mangan, Miss. Mary  female  30.5      0   \n",
       "357.0                          Funk, Miss. Annie Clemmer  female  38.0      0   \n",
       "254.0           Rosblom, Mrs. Viktor (Helena Wilhelmina)  female  41.0      0   \n",
       "527.0                                 Farthing, Mr. John    male   NaN      0   \n",
       "139.0                                 Giglio, Mr. Victor    male  24.0      0   \n",
       "578.0                   Caram, Mrs. Joseph (Maria Elias)  female   NaN      1   \n",
       "49.0       Arnold-Franchi, Mrs. Josef (Josefine Franchi)  female  18.0      1   \n",
       "854.0      Carter, Mrs. Ernest Courtenay (Lilian Hughes)  female  44.0      1   \n",
       "657.0                      Bourke, Mrs. John (Catherine)  female  32.0      1   \n",
       "852.0                            Boulos, Miss. Nourelain  female   9.0      1   \n",
       "\n",
       "       Parch       Ticket      Fare Cabin Embarked  Prediction_Proba  \n",
       "621.0      0        11753   52.5542   D19        S          0.301741  \n",
       "447.0      0       113794   26.5500   NaN        S          0.219224  \n",
       "673.0      0       244270   13.0000   NaN        S          0.525590  \n",
       "204.0      0     A/5 3540    8.0500   NaN        S          0.197066  \n",
       "23.0       0       113788   35.5000    A6        S          0.523634  \n",
       "165.0      2       363291   20.5250   NaN        S          0.576543  \n",
       "712.0      0        19996   52.0000  C126        S          0.095300  \n",
       "338.0      0         7598    8.0500   NaN        S          0.287643  \n",
       "286.0      0       345774    9.5000   NaN        S          0.735364  \n",
       "209.0      0       112277   31.0000   A31        C          0.929229  \n",
       "512.0      0     PC 17473   26.2875   E25        S          0.882418  \n",
       "604.0      0       111426   26.5500   NaN        C          0.683574  \n",
       "796.0      0        17465   25.9292   D17        S          0.744662  \n",
       "599.0      0     PC 17485   56.9292   A20        C          0.637332  \n",
       "643.0      0         1601   56.4958   NaN        S          0.391249  \n",
       "507.0      0       111427   26.5500   NaN        S          0.237032  \n",
       "572.0      0     PC 17474   26.3875   E25        S          0.055639  \n",
       "25.0       5       347077   31.3875   NaN        S          0.075644  \n",
       "30.0       0     PC 17601   27.7208   NaN        C          0.350734  \n",
       "396.0      0       350407    7.8542   NaN        S          0.420462  \n",
       "235.0      0   W./C. 6609    7.5500   NaN        S          0.546632  \n",
       "362.0      1         2691   14.4542   NaN        C          0.326388  \n",
       "772.0      0  S.O./P.P. 3   10.5000   E77        S          0.491263  \n",
       "312.0      1       250651   26.0000   NaN        S          0.529605  \n",
       "767.0      0       364850    7.7500   NaN        Q          0.775081  \n",
       "357.0      0       237671   13.0000   NaN        S          0.482203  \n",
       "254.0      2       370129   20.2125   NaN        S          0.740618  \n",
       "527.0      0     PC 17483  221.7792   C95        S          0.835919  \n",
       "139.0      0     PC 17593   79.2000   B86        C          0.089769  \n",
       "578.0      0         2689   14.4583   NaN        C          0.802828  \n",
       "49.0       0       349237   17.8000   NaN        S          0.234313  \n",
       "854.0      0       244252   26.0000   NaN        S          0.420559  \n",
       "657.0      1       364849   15.5000   NaN        Q          0.704727  \n",
       "852.0      1         2678   15.2458   NaN        C          0.312053  "
      ]
     },
     "execution_count": 12,
     "metadata": {},
     "output_type": "execute_result"
    }
   ],
   "source": [
    "preds_proba = base_lr_fit.predict_proba(X_test[:, :-1])\n",
    "\n",
    "error_df = pd.concat([train_df.loc[p0_a1], train_df.loc[p1_a0]], axis = 0)\n",
    "error_df[\"Prediction_Proba\"] = preds_proba[:, 1][((preds == 0) & (y_test == 1)) | ((preds == 1) & (y_test == 0))]\n",
    "\n",
    "error_df"
   ]
  },
  {
   "cell_type": "code",
   "execution_count": 13,
   "metadata": {
    "ExecuteTime": {
     "end_time": "2020-11-16T06:54:25.049827Z",
     "start_time": "2020-11-16T06:54:24.571775Z"
    }
   },
   "outputs": [
    {
     "data": {
      "image/png": "[encoded data removed]",
      "text/plain": [
       "<Figure size 432x288 with 1 Axes>"
      ]
     },
     "metadata": {},
     "output_type": "display_data"
    }
   ],
   "source": [
    "sur_arr = error_df[error_df[\"Survived\"] == 1][\"Prediction_Proba\"]\n",
    "die_arr = error_df[error_df[\"Survived\"] == 0][\"Prediction_Proba\"]\n",
    "\n",
    "plt.scatter(np.arange(0, sur_arr.shape[0]), sur_arr, color = \"green\", label = \"Actually Survived\")\n",
    "plt.scatter(np.arange(0, die_arr.shape[0]), die_arr, color = \"red\", label = \"Actually Not Survived\")\n",
    "plt.scatter(np.arange(0, max(sur_arr.shape[0], die_arr.shape[0])), [0.5]*max(sur_arr.shape[0], die_arr.shape[0]), color = \"black\", marker = \"_\", label = \"Threshold\")\n",
    "\n",
    "plt.legend(bbox_to_anchor=(1.45, 1))\n",
    "plt.show()"
   ]
  },
  {
   "cell_type": "markdown",
   "metadata": {},
   "source": [
    "# Optimizing Logistic Regression"
   ]
  },
  {
   "cell_type": "markdown",
   "metadata": {},
   "source": [
    "## Base Model Definition"
   ]
  },
  {
   "cell_type": "code",
   "execution_count": 14,
   "metadata": {
    "ExecuteTime": {
     "end_time": "2020-11-16T06:54:29.141292Z",
     "start_time": "2020-11-16T06:54:29.126337Z"
    }
   },
   "outputs": [],
   "source": [
    "log_reg_model = LogisticRegression()"
   ]
  },
  {
   "cell_type": "markdown",
   "metadata": {},
   "source": [
    "## Parameter Grid"
   ]
  },
  {
   "cell_type": "code",
   "execution_count": 15,
   "metadata": {
    "ExecuteTime": {
     "end_time": "2020-11-16T06:54:30.946210Z",
     "start_time": "2020-11-16T06:54:30.929224Z"
    }
   },
   "outputs": [],
   "source": [
    "param_grid = [    \n",
    "    {'penalty' : ['l1', 'l2', 'elasticnet', 'none'],\n",
    "    'C' : np.logspace(-4, 4, 20),\n",
    "    'solver' : ['lbfgs','newton-cg','liblinear','sag','saga'],\n",
    "    'max_iter' : [100, 1000,2500, 5000]\n",
    "    }\n",
    "]"
   ]
  },
  {
   "cell_type": "markdown",
   "metadata": {},
   "source": [
    "## Building Grid Search Object"
   ]
  },
  {
   "cell_type": "code",
   "execution_count": 16,
   "metadata": {
    "ExecuteTime": {
     "end_time": "2020-11-16T06:54:33.459663Z",
     "start_time": "2020-11-16T06:54:33.442709Z"
    }
   },
   "outputs": [],
   "source": [
    "all_log_reg_models = GridSearchCV(log_reg_model, param_grid = param_grid, cv = 3, verbose=True, n_jobs=-1)"
   ]
  },
  {
   "cell_type": "markdown",
   "metadata": {},
   "source": [
    "## Fitting the Models"
   ]
  },
  {
   "cell_type": "code",
   "execution_count": 17,
   "metadata": {
    "ExecuteTime": {
     "end_time": "2020-11-16T06:56:28.289616Z",
     "start_time": "2020-11-16T06:54:36.309625Z"
    }
   },
   "outputs": [
    {
     "name": "stdout",
     "output_type": "stream",
     "text": [
      "Fitting 3 folds for each of 1600 candidates, totalling 4800 fits\n"
     ]
    },
    {
     "name": "stderr",
     "output_type": "stream",
     "text": [
      "[Parallel(n_jobs=-1)]: Using backend LokyBackend with 4 concurrent workers.\n",
      "[Parallel(n_jobs=-1)]: Done  68 tasks      | elapsed:    2.1s\n",
      "[Parallel(n_jobs=-1)]: Done 1556 tasks      | elapsed:   23.1s\n",
      "[Parallel(n_jobs=-1)]: Done 2724 tasks      | elapsed:   52.5s\n",
      "[Parallel(n_jobs=-1)]: Done 4124 tasks      | elapsed:  1.5min\n",
      "[Parallel(n_jobs=-1)]: Done 4793 out of 4800 | elapsed:  1.8min remaining:    0.1s\n",
      "[Parallel(n_jobs=-1)]: Done 4800 out of 4800 | elapsed:  1.9min finished\n"
     ]
    }
   ],
   "source": [
    "all_log_reg_models_fit = all_log_reg_models.fit(X_train[:, :-1], y_train)"
   ]
  },
  {
   "cell_type": "markdown",
   "metadata": {},
   "source": [
    "## Best Model"
   ]
  },
  {
   "cell_type": "code",
   "execution_count": 18,
   "metadata": {
    "ExecuteTime": {
     "end_time": "2020-11-16T06:56:39.956091Z",
     "start_time": "2020-11-16T06:56:39.933152Z"
    }
   },
   "outputs": [
    {
     "data": {
      "text/plain": [
       "LogisticRegression(C=0.615848211066026, class_weight=None, dual=False,\n",
       "                   fit_intercept=True, intercept_scaling=1, l1_ratio=None,\n",
       "                   max_iter=100, multi_class='auto', n_jobs=None, penalty='l2',\n",
       "                   random_state=None, solver='lbfgs', tol=0.0001, verbose=0,\n",
       "                   warm_start=False)"
      ]
     },
     "execution_count": 18,
     "metadata": {},
     "output_type": "execute_result"
    }
   ],
   "source": [
    "best_model = all_log_reg_models_fit.best_estimator_\n",
    "best_model"
   ]
  },
  {
   "cell_type": "markdown",
   "metadata": {},
   "source": [
    "### Best Model Performance"
   ]
  },
  {
   "cell_type": "markdown",
   "metadata": {},
   "source": [
    "#### Classification Accuracy"
   ]
  },
  {
   "cell_type": "code",
   "execution_count": 19,
   "metadata": {
    "ExecuteTime": {
     "end_time": "2020-11-16T06:56:42.618725Z",
     "start_time": "2020-11-16T06:56:42.600772Z"
    }
   },
   "outputs": [
    {
     "data": {
      "text/plain": [
       "0.8100558659217877"
      ]
     },
     "execution_count": 19,
     "metadata": {},
     "output_type": "execute_result"
    }
   ],
   "source": [
    "np.where(best_model.predict(X_test[:, :-1]) == y_test, 1, 0).mean()"
   ]
  },
  {
   "cell_type": "markdown",
   "metadata": {},
   "source": [
    "#### F1 Score"
   ]
  },
  {
   "cell_type": "code",
   "execution_count": 20,
   "metadata": {
    "ExecuteTime": {
     "end_time": "2020-11-16T06:56:44.669025Z",
     "start_time": "2020-11-16T06:56:44.649062Z"
    }
   },
   "outputs": [
    {
     "data": {
      "text/plain": [
       "0.7671232876712328"
      ]
     },
     "execution_count": 20,
     "metadata": {},
     "output_type": "execute_result"
    }
   ],
   "source": [
    "f1_score(y_true = y_test, y_pred = best_model.predict(X_test[:, :-1]))"
   ]
  },
  {
   "cell_type": "markdown",
   "metadata": {},
   "source": [
    "# Submission File"
   ]
  },
  {
   "cell_type": "markdown",
   "metadata": {},
   "source": [
    "## Fitting Best Model on Full Data"
   ]
  },
  {
   "cell_type": "markdown",
   "metadata": {},
   "source": [
    "### Data"
   ]
  },
  {
   "cell_type": "code",
   "execution_count": 21,
   "metadata": {
    "ExecuteTime": {
     "end_time": "2020-11-16T06:56:48.528840Z",
     "start_time": "2020-11-16T06:56:48.509198Z"
    }
   },
   "outputs": [],
   "source": [
    "X, y = train_features_df.drop([\"Age_label_enc\", \"Fare_label_enc\"], axis = 1), train_preprocessed_df[\"Survived\"]"
   ]
  },
  {
   "cell_type": "markdown",
   "metadata": {},
   "source": [
    "### Training all Models"
   ]
  },
  {
   "cell_type": "code",
   "execution_count": 22,
   "metadata": {
    "ExecuteTime": {
     "end_time": "2020-11-16T06:59:07.382734Z",
     "start_time": "2020-11-16T06:56:50.514311Z"
    }
   },
   "outputs": [
    {
     "name": "stdout",
     "output_type": "stream",
     "text": [
      "Fitting 3 folds for each of 1600 candidates, totalling 4800 fits\n"
     ]
    },
    {
     "name": "stderr",
     "output_type": "stream",
     "text": [
      "[Parallel(n_jobs=-1)]: Using backend LokyBackend with 4 concurrent workers.\n",
      "[Parallel(n_jobs=-1)]: Done 344 tasks      | elapsed:    3.7s\n",
      "[Parallel(n_jobs=-1)]: Done 1496 tasks      | elapsed:   25.5s\n",
      "[Parallel(n_jobs=-1)]: Done 2364 tasks      | elapsed:   52.9s\n",
      "[Parallel(n_jobs=-1)]: Done 3464 tasks      | elapsed:  1.5min\n",
      "[Parallel(n_jobs=-1)]: Done 4800 out of 4800 | elapsed:  2.3min finished\n"
     ]
    }
   ],
   "source": [
    "final_fit = all_log_reg_models.fit(X.values[:, :-1], y.values)"
   ]
  },
  {
   "cell_type": "markdown",
   "metadata": {},
   "source": [
    "### Selecting the Best Model"
   ]
  },
  {
   "cell_type": "code",
   "execution_count": 23,
   "metadata": {
    "ExecuteTime": {
     "end_time": "2020-11-16T06:59:40.644708Z",
     "start_time": "2020-11-16T06:59:40.627752Z"
    }
   },
   "outputs": [
    {
     "data": {
      "text/plain": [
       "LogisticRegression(C=29.763514416313132, class_weight=None, dual=False,\n",
       "                   fit_intercept=True, intercept_scaling=1, l1_ratio=None,\n",
       "                   max_iter=100, multi_class='auto', n_jobs=None, penalty='l2',\n",
       "                   random_state=None, solver='lbfgs', tol=0.0001, verbose=0,\n",
       "                   warm_start=False)"
      ]
     },
     "execution_count": 23,
     "metadata": {},
     "output_type": "execute_result"
    }
   ],
   "source": [
    "final_best_model = final_fit.best_estimator_\n",
    "final_best_model"
   ]
  },
  {
   "cell_type": "markdown",
   "metadata": {},
   "source": [
    "## Exporting Model"
   ]
  },
  {
   "cell_type": "code",
   "execution_count": 24,
   "metadata": {
    "ExecuteTime": {
     "end_time": "2020-11-16T06:59:50.823280Z",
     "start_time": "2020-11-16T06:59:50.813263Z"
    }
   },
   "outputs": [],
   "source": [
    "filename = \"logistic_regression_model.sav\"\n",
    "pickle.dump(final_best_model, open(filename, 'wb'))"
   ]
  },
  {
   "cell_type": "markdown",
   "metadata": {},
   "source": [
    "### Checking Exported Model"
   ]
  },
  {
   "cell_type": "code",
   "execution_count": 25,
   "metadata": {
    "ExecuteTime": {
     "end_time": "2020-11-16T06:59:54.688489Z",
     "start_time": "2020-11-16T06:59:54.670541Z"
    }
   },
   "outputs": [],
   "source": [
    "filename = \"logistic_regression_model.sav\"\n",
    "loaded_model = pickle.load(open(filename, 'rb'))"
   ]
  },
  {
   "cell_type": "code",
   "execution_count": 26,
   "metadata": {
    "ExecuteTime": {
     "end_time": "2020-11-16T06:59:56.138421Z",
     "start_time": "2020-11-16T06:59:56.126451Z"
    }
   },
   "outputs": [
    {
     "data": {
      "text/plain": [
       "LogisticRegression(C=29.763514416313132, class_weight=None, dual=False,\n",
       "                   fit_intercept=True, intercept_scaling=1, l1_ratio=None,\n",
       "                   max_iter=100, multi_class='auto', n_jobs=None, penalty='l2',\n",
       "                   random_state=None, solver='lbfgs', tol=0.0001, verbose=0,\n",
       "                   warm_start=False)"
      ]
     },
     "execution_count": 26,
     "metadata": {},
     "output_type": "execute_result"
    }
   ],
   "source": [
    "loaded_model"
   ]
  },
  {
   "cell_type": "markdown",
   "metadata": {},
   "source": [
    "## Adding Predictions to Submission File"
   ]
  },
  {
   "cell_type": "code",
   "execution_count": 27,
   "metadata": {
    "ExecuteTime": {
     "end_time": "2020-11-16T07:00:01.277307Z",
     "start_time": "2020-11-16T07:00:01.262349Z"
    }
   },
   "outputs": [],
   "source": [
    "test_data = test_features_df.drop([\"Age_label_enc\", \"Fare_mean_enc\"], axis = 1).values"
   ]
  },
  {
   "cell_type": "code",
   "execution_count": 28,
   "metadata": {
    "ExecuteTime": {
     "end_time": "2020-11-16T07:00:03.320634Z",
     "start_time": "2020-11-16T07:00:03.293704Z"
    }
   },
   "outputs": [
    {
     "data": {
      "text/html": [
       "<div>\n",
       "<style scoped>\n",
       "    .dataframe tbody tr th:only-of-type {\n",
       "        vertical-align: middle;\n",
       "    }\n",
       "\n",
       "    .dataframe tbody tr th {\n",
       "        vertical-align: top;\n",
       "    }\n",
       "\n",
       "    .dataframe thead th {\n",
       "        text-align: right;\n",
       "    }\n",
       "</style>\n",
       "<table border=\"1\" class=\"dataframe\">\n",
       "  <thead>\n",
       "    <tr style=\"text-align: right;\">\n",
       "      <th></th>\n",
       "      <th>PassengerId</th>\n",
       "      <th>Survived</th>\n",
       "    </tr>\n",
       "  </thead>\n",
       "  <tbody>\n",
       "    <tr>\n",
       "      <th>0</th>\n",
       "      <td>892</td>\n",
       "      <td>0</td>\n",
       "    </tr>\n",
       "    <tr>\n",
       "      <th>1</th>\n",
       "      <td>893</td>\n",
       "      <td>0</td>\n",
       "    </tr>\n",
       "    <tr>\n",
       "      <th>2</th>\n",
       "      <td>894</td>\n",
       "      <td>0</td>\n",
       "    </tr>\n",
       "    <tr>\n",
       "      <th>3</th>\n",
       "      <td>895</td>\n",
       "      <td>0</td>\n",
       "    </tr>\n",
       "    <tr>\n",
       "      <th>4</th>\n",
       "      <td>896</td>\n",
       "      <td>1</td>\n",
       "    </tr>\n",
       "  </tbody>\n",
       "</table>\n",
       "</div>"
      ],
      "text/plain": [
       "   PassengerId  Survived\n",
       "0          892         0\n",
       "1          893         0\n",
       "2          894         0\n",
       "3          895         0\n",
       "4          896         1"
      ]
     },
     "execution_count": 28,
     "metadata": {},
     "output_type": "execute_result"
    }
   ],
   "source": [
    "sub2 = pd.read_csv(\"../Data/gender_submission.csv\")\n",
    "sub2[\"Survived\"] = final_best_model.predict(test_data)\n",
    "sub2.head()"
   ]
  },
  {
   "cell_type": "code",
   "execution_count": 29,
   "metadata": {
    "ExecuteTime": {
     "end_time": "2020-11-16T07:00:17.401088Z",
     "start_time": "2020-11-16T07:00:17.390078Z"
    }
   },
   "outputs": [],
   "source": [
    "sub2.to_csv(\"sub2_logistic_regression.csv\", index = False)"
   ]
  }
 ],
 "metadata": {
  "kernelspec": {
   "display_name": "Python 3",
   "language": "python",
   "name": "python3"
  },
  "language_info": {
   "codemirror_mode": {
    "name": "ipython",
    "version": 3
   },
   "file_extension": ".py",
   "mimetype": "text/x-python",
   "name": "python",
   "nbconvert_exporter": "python",
   "pygments_lexer": "ipython3",
   "version": "3.7.6"
  },
  "latex_envs": {
   "LaTeX_envs_menu_present": true,
   "autoclose": false,
   "autocomplete": true,
   "bibliofile": "biblio.bib",
   "cite_by": "apalike",
   "current_citInitial": 1,
   "eqLabelWithNumbers": true,
   "eqNumInitial": 1,
   "hotkeys": {
    "equation": "Ctrl-E",
    "itemize": "Ctrl-I"
   },
   "labels_anchors": false,
   "latex_user_defs": false,
   "report_style_numbering": false,
   "user_envs_cfg": false
  },
  "toc": {
   "base_numbering": 1,
   "nav_menu": {},
   "number_sections": true,
   "sideBar": true,
   "skip_h1_title": false,
   "title_cell": "Table of Contents",
   "title_sidebar": "Contents",
   "toc_cell": false,
   "toc_position": {},
   "toc_section_display": true,
   "toc_window_display": true
  }
 },
 "nbformat": 4,
 "nbformat_minor": 4
}
