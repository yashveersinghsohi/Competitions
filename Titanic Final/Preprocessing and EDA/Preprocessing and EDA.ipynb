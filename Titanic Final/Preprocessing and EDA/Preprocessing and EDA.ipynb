{
 "cells": [
  {
   "cell_type": "markdown",
   "metadata": {
    "toc": true
   },
   "source": [
    "<h1>Table of Contents<span class=\"tocSkip\"></span></h1>\n",
    "<div class=\"toc\"><ul class=\"toc-item\"><li><span><a href=\"#Importing-Required-Packages\" data-toc-modified-id=\"Importing-Required-Packages-1\"><span class=\"toc-item-num\">1&nbsp;&nbsp;</span>Importing Required Packages</a></span></li><li><span><a href=\"#Read-Data\" data-toc-modified-id=\"Read-Data-2\"><span class=\"toc-item-num\">2&nbsp;&nbsp;</span>Read Data</a></span></li><li><span><a href=\"#Preliminary-Exploration\" data-toc-modified-id=\"Preliminary-Exploration-3\"><span class=\"toc-item-num\">3&nbsp;&nbsp;</span>Preliminary Exploration</a></span></li><li><span><a href=\"#Exploring-each-column\" data-toc-modified-id=\"Exploring-each-column-4\"><span class=\"toc-item-num\">4&nbsp;&nbsp;</span>Exploring each column</a></span><ul class=\"toc-item\"><li><span><a href=\"#Survived\" data-toc-modified-id=\"Survived-4.1\"><span class=\"toc-item-num\">4.1&nbsp;&nbsp;</span>Survived</a></span></li><li><span><a href=\"#PassengerId\" data-toc-modified-id=\"PassengerId-4.2\"><span class=\"toc-item-num\">4.2&nbsp;&nbsp;</span>PassengerId</a></span></li><li><span><a href=\"#Name\" data-toc-modified-id=\"Name-4.3\"><span class=\"toc-item-num\">4.3&nbsp;&nbsp;</span>Name</a></span><ul class=\"toc-item\"><li><span><a href=\"#Building-Title-Column\" data-toc-modified-id=\"Building-Title-Column-4.3.1\"><span class=\"toc-item-num\">4.3.1&nbsp;&nbsp;</span>Building Title Column</a></span></li></ul></li><li><span><a href=\"#Pclass\" data-toc-modified-id=\"Pclass-4.4\"><span class=\"toc-item-num\">4.4&nbsp;&nbsp;</span>Pclass</a></span></li><li><span><a href=\"#Sex\" data-toc-modified-id=\"Sex-4.5\"><span class=\"toc-item-num\">4.5&nbsp;&nbsp;</span>Sex</a></span></li><li><span><a href=\"#SibSp\" data-toc-modified-id=\"SibSp-4.6\"><span class=\"toc-item-num\">4.6&nbsp;&nbsp;</span>SibSp</a></span></li><li><span><a href=\"#Parch\" data-toc-modified-id=\"Parch-4.7\"><span class=\"toc-item-num\">4.7&nbsp;&nbsp;</span>Parch</a></span></li><li><span><a href=\"#Building-Family-Column\" data-toc-modified-id=\"Building-Family-Column-4.8\"><span class=\"toc-item-num\">4.8&nbsp;&nbsp;</span>Building Family Column</a></span></li><li><span><a href=\"#Embarked\" data-toc-modified-id=\"Embarked-4.9\"><span class=\"toc-item-num\">4.9&nbsp;&nbsp;</span>Embarked</a></span></li><li><span><a href=\"#Age\" data-toc-modified-id=\"Age-4.10\"><span class=\"toc-item-num\">4.10&nbsp;&nbsp;</span>Age</a></span><ul class=\"toc-item\"><li><span><a href=\"#Filling-Missing-values-in-Age\" data-toc-modified-id=\"Filling-Missing-values-in-Age-4.10.1\"><span class=\"toc-item-num\">4.10.1&nbsp;&nbsp;</span>Filling Missing values in Age</a></span></li></ul></li><li><span><a href=\"#Fare\" data-toc-modified-id=\"Fare-4.11\"><span class=\"toc-item-num\">4.11&nbsp;&nbsp;</span>Fare</a></span></li><li><span><a href=\"#Cabin\" data-toc-modified-id=\"Cabin-4.12\"><span class=\"toc-item-num\">4.12&nbsp;&nbsp;</span>Cabin</a></span><ul class=\"toc-item\"><li><span><a href=\"#Building-Cabin-Name-Column\" data-toc-modified-id=\"Building-Cabin-Name-Column-4.12.1\"><span class=\"toc-item-num\">4.12.1&nbsp;&nbsp;</span>Building Cabin Name Column</a></span></li></ul></li><li><span><a href=\"#Ticket\" data-toc-modified-id=\"Ticket-4.13\"><span class=\"toc-item-num\">4.13&nbsp;&nbsp;</span>Ticket</a></span></li></ul></li><li><span><a href=\"#Exploring-Interaction-of-Columns\" data-toc-modified-id=\"Exploring-Interaction-of-Columns-5\"><span class=\"toc-item-num\">5&nbsp;&nbsp;</span>Exploring Interaction of Columns</a></span><ul class=\"toc-item\"><li><span><a href=\"#Survived-vs-Sex-Pclass\" data-toc-modified-id=\"Survived-vs-Sex-Pclass-5.1\"><span class=\"toc-item-num\">5.1&nbsp;&nbsp;</span>Survived vs Sex-Pclass</a></span></li><li><span><a href=\"#Survived-vs-Pclass-Embarked\" data-toc-modified-id=\"Survived-vs-Pclass-Embarked-5.2\"><span class=\"toc-item-num\">5.2&nbsp;&nbsp;</span>Survived vs Pclass-Embarked</a></span></li><li><span><a href=\"#Survived-vs-Sex-Embarked\" data-toc-modified-id=\"Survived-vs-Sex-Embarked-5.3\"><span class=\"toc-item-num\">5.3&nbsp;&nbsp;</span>Survived vs Sex-Embarked</a></span></li><li><span><a href=\"#Survived-vs-Age-Fare\" data-toc-modified-id=\"Survived-vs-Age-Fare-5.4\"><span class=\"toc-item-num\">5.4&nbsp;&nbsp;</span>Survived vs Age-Fare</a></span></li><li><span><a href=\"#Pclass-vs-Age,-Pclass-vs-Fare\" data-toc-modified-id=\"Pclass-vs-Age,-Pclass-vs-Fare-5.5\"><span class=\"toc-item-num\">5.5&nbsp;&nbsp;</span>Pclass vs Age, Pclass vs Fare</a></span></li><li><span><a href=\"#Embarked-vs-Age,-Embarked-vs-Fare\" data-toc-modified-id=\"Embarked-vs-Age,-Embarked-vs-Fare-5.6\"><span class=\"toc-item-num\">5.6&nbsp;&nbsp;</span>Embarked vs Age, Embarked vs Fare</a></span></li><li><span><a href=\"#Heatmap-of-all-Columns\" data-toc-modified-id=\"Heatmap-of-all-Columns-5.7\"><span class=\"toc-item-num\">5.7&nbsp;&nbsp;</span>Heatmap of all Columns</a></span></li></ul></li><li><span><a href=\"#Exporting-Preprocessed-Data\" data-toc-modified-id=\"Exporting-Preprocessed-Data-6\"><span class=\"toc-item-num\">6&nbsp;&nbsp;</span>Exporting Preprocessed Data</a></span></li></ul></div>"
   ]
  },
  {
   "cell_type": "markdown",
   "metadata": {},
   "source": [
    "# Importing Required Packages"
   ]
  },
  {
   "cell_type": "code",
   "execution_count": 1,
   "metadata": {
    "ExecuteTime": {
     "end_time": "2020-11-04T04:17:52.159179Z",
     "start_time": "2020-11-04T04:17:39.680237Z"
    }
   },
   "outputs": [],
   "source": [
    "import pandas as pd\n",
    "import numpy as np\n",
    "import matplotlib.pyplot as plt\n",
    "import seaborn as sns\n",
    "\n",
    "from sklearn.preprocessing import LabelEncoder\n",
    "\n",
    "import warnings\n",
    "warnings.filterwarnings(\"ignore\")\n",
    "\n",
    "sns.set()"
   ]
  },
  {
   "cell_type": "markdown",
   "metadata": {},
   "source": [
    "# Read Data"
   ]
  },
  {
   "cell_type": "code",
   "execution_count": 2,
   "metadata": {
    "ExecuteTime": {
     "end_time": "2020-11-04T04:17:52.205102Z",
     "start_time": "2020-11-04T04:17:52.162171Z"
    }
   },
   "outputs": [],
   "source": [
    "train_backup = pd.read_csv(\"../Data/train.csv\")\n",
    "test_backup = pd.read_csv(\"../Data/test.csv\")"
   ]
  },
  {
   "cell_type": "code",
   "execution_count": 3,
   "metadata": {
    "ExecuteTime": {
     "end_time": "2020-11-04T04:17:52.268885Z",
     "start_time": "2020-11-04T04:17:52.207051Z"
    }
   },
   "outputs": [],
   "source": [
    "train_df = train_backup.copy()\n",
    "test_df = test_backup.copy()"
   ]
  },
  {
   "cell_type": "markdown",
   "metadata": {},
   "source": [
    "# Preliminary Exploration"
   ]
  },
  {
   "cell_type": "markdown",
   "metadata": {},
   "source": [
    "Shape of Training and Testing Data"
   ]
  },
  {
   "cell_type": "code",
   "execution_count": 4,
   "metadata": {
    "ExecuteTime": {
     "end_time": "2020-11-04T04:17:52.396543Z",
     "start_time": "2020-11-04T04:17:52.270880Z"
    }
   },
   "outputs": [
    {
     "name": "stdout",
     "output_type": "stream",
     "text": [
      "Training Data Shape - (891, 12)\n",
      "Testing Data Shape - (418, 11)\n"
     ]
    }
   ],
   "source": [
    "print(f\"Training Data Shape - {train_df.shape}\")\n",
    "print(f\"Testing Data Shape - {test_df.shape}\")"
   ]
  },
  {
   "cell_type": "markdown",
   "metadata": {},
   "source": [
    "Number of observations and Data Types of each column in Training and Testing sets"
   ]
  },
  {
   "cell_type": "code",
   "execution_count": 5,
   "metadata": {
    "ExecuteTime": {
     "end_time": "2020-11-04T04:17:52.491290Z",
     "start_time": "2020-11-04T04:17:52.402528Z"
    }
   },
   "outputs": [
    {
     "name": "stdout",
     "output_type": "stream",
     "text": [
      "<class 'pandas.core.frame.DataFrame'>\n",
      "RangeIndex: 891 entries, 0 to 890\n",
      "Data columns (total 12 columns):\n",
      "PassengerId    891 non-null int64\n",
      "Survived       891 non-null int64\n",
      "Pclass         891 non-null int64\n",
      "Name           891 non-null object\n",
      "Sex            891 non-null object\n",
      "Age            714 non-null float64\n",
      "SibSp          891 non-null int64\n",
      "Parch          891 non-null int64\n",
      "Ticket         891 non-null object\n",
      "Fare           891 non-null float64\n",
      "Cabin          204 non-null object\n",
      "Embarked       889 non-null object\n",
      "dtypes: float64(2), int64(5), object(5)\n",
      "memory usage: 83.7+ KB\n"
     ]
    }
   ],
   "source": [
    "train_df.info()"
   ]
  },
  {
   "cell_type": "code",
   "execution_count": 6,
   "metadata": {
    "ExecuteTime": {
     "end_time": "2020-11-04T04:17:52.586036Z",
     "start_time": "2020-11-04T04:17:52.495281Z"
    }
   },
   "outputs": [
    {
     "name": "stdout",
     "output_type": "stream",
     "text": [
      "<class 'pandas.core.frame.DataFrame'>\n",
      "RangeIndex: 418 entries, 0 to 417\n",
      "Data columns (total 11 columns):\n",
      "PassengerId    418 non-null int64\n",
      "Pclass         418 non-null int64\n",
      "Name           418 non-null object\n",
      "Sex            418 non-null object\n",
      "Age            332 non-null float64\n",
      "SibSp          418 non-null int64\n",
      "Parch          418 non-null int64\n",
      "Ticket         418 non-null object\n",
      "Fare           417 non-null float64\n",
      "Cabin          91 non-null object\n",
      "Embarked       418 non-null object\n",
      "dtypes: float64(2), int64(4), object(5)\n",
      "memory usage: 36.0+ KB\n"
     ]
    }
   ],
   "source": [
    "test_df.info()"
   ]
  },
  {
   "cell_type": "markdown",
   "metadata": {},
   "source": [
    "# Exploring each column"
   ]
  },
  {
   "cell_type": "markdown",
   "metadata": {},
   "source": [
    "## Survived"
   ]
  },
  {
   "cell_type": "markdown",
   "metadata": {},
   "source": [
    "Number of Null Values in **Survived** Column."
   ]
  },
  {
   "cell_type": "code",
   "execution_count": 7,
   "metadata": {
    "ExecuteTime": {
     "end_time": "2020-11-04T04:17:52.696793Z",
     "start_time": "2020-11-04T04:17:52.588033Z"
    }
   },
   "outputs": [
    {
     "data": {
      "text/plain": [
       "0"
      ]
     },
     "execution_count": 7,
     "metadata": {},
     "output_type": "execute_result"
    }
   ],
   "source": [
    "train_df[\"Survived\"].isnull().sum()"
   ]
  },
  {
   "cell_type": "markdown",
   "metadata": {},
   "source": [
    "Histogram showing the number of people survived and the number of people who drowned."
   ]
  },
  {
   "cell_type": "code",
   "execution_count": 8,
   "metadata": {
    "ExecuteTime": {
     "end_time": "2020-11-04T04:17:52.983076Z",
     "start_time": "2020-11-04T04:17:52.698736Z"
    }
   },
   "outputs": [
    {
     "data": {
      "image/png": "[encoded data removed]",
      "text/plain": [
       "<Figure size 432x288 with 1 Axes>"
      ]
     },
     "metadata": {},
     "output_type": "display_data"
    }
   ],
   "source": [
    "train_df[\"Survived\"].value_counts().plot.bar()\n",
    "\n",
    "plt.xlabel(\"Survived\")\n",
    "plt.ylabel(\"#People\")\n",
    "\n",
    "plt.show()"
   ]
  },
  {
   "cell_type": "markdown",
   "metadata": {},
   "source": [
    "Clearly, the population of people who survived the crash is less than that of the people who drowned."
   ]
  },
  {
   "cell_type": "markdown",
   "metadata": {},
   "source": [
    "## PassengerId"
   ]
  },
  {
   "cell_type": "markdown",
   "metadata": {},
   "source": [
    "Statistical Properties of **PassengerId**"
   ]
  },
  {
   "cell_type": "code",
   "execution_count": 9,
   "metadata": {
    "ExecuteTime": {
     "end_time": "2020-11-04T04:17:52.999021Z",
     "start_time": "2020-11-04T04:17:52.986016Z"
    }
   },
   "outputs": [
    {
     "data": {
      "text/plain": [
       "count    891.000000\n",
       "mean     446.000000\n",
       "std      257.353842\n",
       "min        1.000000\n",
       "25%      223.500000\n",
       "50%      446.000000\n",
       "75%      668.500000\n",
       "max      891.000000\n",
       "Name: PassengerId, dtype: float64"
      ]
     },
     "execution_count": 9,
     "metadata": {},
     "output_type": "execute_result"
    }
   ],
   "source": [
    "train_df[\"PassengerId\"].describe()"
   ]
  },
  {
   "cell_type": "markdown",
   "metadata": {},
   "source": [
    "Number of Null values"
   ]
  },
  {
   "cell_type": "code",
   "execution_count": 10,
   "metadata": {
    "ExecuteTime": {
     "end_time": "2020-11-04T04:17:53.422896Z",
     "start_time": "2020-11-04T04:17:53.000976Z"
    }
   },
   "outputs": [
    {
     "data": {
      "text/plain": [
       "0"
      ]
     },
     "execution_count": 10,
     "metadata": {},
     "output_type": "execute_result"
    }
   ],
   "source": [
    "train_df[\"PassengerId\"].isnull().sum()"
   ]
  },
  {
   "cell_type": "markdown",
   "metadata": {},
   "source": [
    "Number of Unique values"
   ]
  },
  {
   "cell_type": "code",
   "execution_count": 11,
   "metadata": {
    "ExecuteTime": {
     "end_time": "2020-11-04T04:17:53.645290Z",
     "start_time": "2020-11-04T04:17:53.424843Z"
    }
   },
   "outputs": [
    {
     "data": {
      "text/plain": [
       "891"
      ]
     },
     "execution_count": 11,
     "metadata": {},
     "output_type": "execute_result"
    }
   ],
   "source": [
    "train_df[\"PassengerId\"].nunique()"
   ]
  },
  {
   "cell_type": "markdown",
   "metadata": {},
   "source": [
    "## Name"
   ]
  },
  {
   "cell_type": "markdown",
   "metadata": {},
   "source": [
    "Number of Unique values in **Name**"
   ]
  },
  {
   "cell_type": "code",
   "execution_count": 12,
   "metadata": {
    "ExecuteTime": {
     "end_time": "2020-11-04T04:17:53.850750Z",
     "start_time": "2020-11-04T04:17:53.647249Z"
    }
   },
   "outputs": [
    {
     "data": {
      "text/plain": [
       "891"
      ]
     },
     "execution_count": 12,
     "metadata": {},
     "output_type": "execute_result"
    }
   ],
   "source": [
    "train_df[\"Name\"].nunique()"
   ]
  },
  {
   "cell_type": "markdown",
   "metadata": {},
   "source": [
    "Number of Null values"
   ]
  },
  {
   "cell_type": "code",
   "execution_count": 13,
   "metadata": {
    "ExecuteTime": {
     "end_time": "2020-11-04T04:17:53.975371Z",
     "start_time": "2020-11-04T04:17:53.852700Z"
    }
   },
   "outputs": [
    {
     "data": {
      "text/plain": [
       "0"
      ]
     },
     "execution_count": 13,
     "metadata": {},
     "output_type": "execute_result"
    }
   ],
   "source": [
    "train_df[\"Name\"].isnull().sum()"
   ]
  },
  {
   "cell_type": "markdown",
   "metadata": {},
   "source": [
    "First 5 rows of **Name** Column"
   ]
  },
  {
   "cell_type": "code",
   "execution_count": 14,
   "metadata": {
    "ExecuteTime": {
     "end_time": "2020-11-04T04:17:54.164865Z",
     "start_time": "2020-11-04T04:17:53.977367Z"
    }
   },
   "outputs": [
    {
     "data": {
      "text/plain": [
       "0                              Braund, Mr. Owen Harris\n",
       "1    Cumings, Mrs. John Bradley (Florence Briggs Th...\n",
       "2                               Heikkinen, Miss. Laina\n",
       "3         Futrelle, Mrs. Jacques Heath (Lily May Peel)\n",
       "4                             Allen, Mr. William Henry\n",
       "Name: Name, dtype: object"
      ]
     },
     "execution_count": 14,
     "metadata": {},
     "output_type": "execute_result"
    }
   ],
   "source": [
    "train_df[\"Name\"].head()"
   ]
  },
  {
   "cell_type": "markdown",
   "metadata": {},
   "source": [
    "It is observed that each name has some title associated with it. These titles might indicate useful properties of a person like the gender, social stature, etc. In the next section, we build a new column: **Title** from **Name**"
   ]
  },
  {
   "cell_type": "markdown",
   "metadata": {},
   "source": [
    "### Building Title Column"
   ]
  },
  {
   "cell_type": "markdown",
   "metadata": {},
   "source": [
    "Exploring a few rows of the **Name** column"
   ]
  },
  {
   "cell_type": "code",
   "execution_count": 15,
   "metadata": {
    "ExecuteTime": {
     "end_time": "2020-11-04T04:17:54.340397Z",
     "start_time": "2020-11-04T04:17:54.166861Z"
    }
   },
   "outputs": [
    {
     "data": {
      "text/plain": [
       "0                                Braund, Mr. Owen Harris\n",
       "1      Cumings, Mrs. John Bradley (Florence Briggs Th...\n",
       "2                                 Heikkinen, Miss. Laina\n",
       "3           Futrelle, Mrs. Jacques Heath (Lily May Peel)\n",
       "4                               Allen, Mr. William Henry\n",
       "                             ...                        \n",
       "886                                Montvila, Rev. Juozas\n",
       "887                         Graham, Miss. Margaret Edith\n",
       "888             Johnston, Miss. Catherine Helen \"Carrie\"\n",
       "889                                Behr, Mr. Karl Howell\n",
       "890                                  Dooley, Mr. Patrick\n",
       "Name: Name, Length: 891, dtype: object"
      ]
     },
     "execution_count": 15,
     "metadata": {},
     "output_type": "execute_result"
    }
   ],
   "source": [
    "train_df[\"Name\"]"
   ]
  },
  {
   "cell_type": "markdown",
   "metadata": {},
   "source": [
    "The Title of each name is extracted using the following Regular Expression"
   ]
  },
  {
   "cell_type": "code",
   "execution_count": 16,
   "metadata": {
    "ExecuteTime": {
     "end_time": "2020-11-04T04:17:54.543850Z",
     "start_time": "2020-11-04T04:17:54.342389Z"
    }
   },
   "outputs": [
    {
     "data": {
      "text/plain": [
       "Mr.          517\n",
       "Miss.        182\n",
       "Mrs.         125\n",
       "Master.       40\n",
       "Dr.            7\n",
       "Rev.           6\n",
       "Col.           2\n",
       "Mlle.          2\n",
       "Major.         2\n",
       "Sir.           1\n",
       "Capt.          1\n",
       "Ms.            1\n",
       "Jonkheer.      1\n",
       "Mme.           1\n",
       "Don.           1\n",
       "Lady.          1\n",
       "Name: Title, dtype: int64"
      ]
     },
     "execution_count": 16,
     "metadata": {},
     "output_type": "execute_result"
    }
   ],
   "source": [
    "title_series = train_df[\"Name\"].str.extract('\\, ([A-Z][^ ]*\\.)')\n",
    "title_series = title_series.rename(columns = {0: \"Title\"})\n",
    "title_series[\"Title\"].value_counts()"
   ]
  },
  {
   "cell_type": "markdown",
   "metadata": {},
   "source": [
    "One name was not matched using the above RE"
   ]
  },
  {
   "cell_type": "code",
   "execution_count": 17,
   "metadata": {
    "ExecuteTime": {
     "end_time": "2020-11-04T04:17:54.815125Z",
     "start_time": "2020-11-04T04:17:54.546843Z"
    }
   },
   "outputs": [
    {
     "data": {
      "text/plain": [
       "1"
      ]
     },
     "execution_count": 17,
     "metadata": {},
     "output_type": "execute_result"
    }
   ],
   "source": [
    "title_series[\"Title\"].isnull().sum()"
   ]
  },
  {
   "cell_type": "markdown",
   "metadata": {},
   "source": [
    "This Name does not completely follow the above RE and hence is not extracted"
   ]
  },
  {
   "cell_type": "code",
   "execution_count": 18,
   "metadata": {
    "ExecuteTime": {
     "end_time": "2020-11-04T04:17:54.972744Z",
     "start_time": "2020-11-04T04:17:54.817120Z"
    }
   },
   "outputs": [
    {
     "data": {
      "text/html": [
       "<div>\n",
       "<style scoped>\n",
       "    .dataframe tbody tr th:only-of-type {\n",
       "        vertical-align: middle;\n",
       "    }\n",
       "\n",
       "    .dataframe tbody tr th {\n",
       "        vertical-align: top;\n",
       "    }\n",
       "\n",
       "    .dataframe thead th {\n",
       "        text-align: right;\n",
       "    }\n",
       "</style>\n",
       "<table border=\"1\" class=\"dataframe\">\n",
       "  <thead>\n",
       "    <tr style=\"text-align: right;\">\n",
       "      <th></th>\n",
       "      <th>PassengerId</th>\n",
       "      <th>Survived</th>\n",
       "      <th>Pclass</th>\n",
       "      <th>Name</th>\n",
       "      <th>Sex</th>\n",
       "      <th>Age</th>\n",
       "      <th>SibSp</th>\n",
       "      <th>Parch</th>\n",
       "      <th>Ticket</th>\n",
       "      <th>Fare</th>\n",
       "      <th>Cabin</th>\n",
       "      <th>Embarked</th>\n",
       "    </tr>\n",
       "  </thead>\n",
       "  <tbody>\n",
       "    <tr>\n",
       "      <th>759</th>\n",
       "      <td>760</td>\n",
       "      <td>1</td>\n",
       "      <td>1</td>\n",
       "      <td>Rothes, the Countess. of (Lucy Noel Martha Dye...</td>\n",
       "      <td>female</td>\n",
       "      <td>33.0</td>\n",
       "      <td>0</td>\n",
       "      <td>0</td>\n",
       "      <td>110152</td>\n",
       "      <td>86.5</td>\n",
       "      <td>B77</td>\n",
       "      <td>S</td>\n",
       "    </tr>\n",
       "  </tbody>\n",
       "</table>\n",
       "</div>"
      ],
      "text/plain": [
       "     PassengerId  Survived  Pclass  \\\n",
       "759          760         1       1   \n",
       "\n",
       "                                                  Name     Sex   Age  SibSp  \\\n",
       "759  Rothes, the Countess. of (Lucy Noel Martha Dye...  female  33.0      0   \n",
       "\n",
       "     Parch  Ticket  Fare Cabin Embarked  \n",
       "759      0  110152  86.5   B77        S  "
      ]
     },
     "execution_count": 18,
     "metadata": {},
     "output_type": "execute_result"
    }
   ],
   "source": [
    "train_df[title_series[\"Title\"].isnull()]"
   ]
  },
  {
   "cell_type": "markdown",
   "metadata": {},
   "source": [
    "Fill the single Null value in the **Title** column with the appropriate title"
   ]
  },
  {
   "cell_type": "code",
   "execution_count": 19,
   "metadata": {
    "ExecuteTime": {
     "end_time": "2020-11-04T04:17:55.210070Z",
     "start_time": "2020-11-04T04:17:54.974699Z"
    }
   },
   "outputs": [],
   "source": [
    "title_series[\"Title\"].fillna(\"Countess.\", inplace = True)"
   ]
  },
  {
   "cell_type": "markdown",
   "metadata": {},
   "source": [
    "Checking for Null values"
   ]
  },
  {
   "cell_type": "code",
   "execution_count": 20,
   "metadata": {
    "ExecuteTime": {
     "end_time": "2020-11-04T04:17:55.367651Z",
     "start_time": "2020-11-04T04:17:55.212064Z"
    }
   },
   "outputs": [
    {
     "data": {
      "text/plain": [
       "0"
      ]
     },
     "execution_count": 20,
     "metadata": {},
     "output_type": "execute_result"
    }
   ],
   "source": [
    "title_series[\"Title\"].isnull().sum()"
   ]
  },
  {
   "cell_type": "markdown",
   "metadata": {},
   "source": [
    "Number of observations for each Title"
   ]
  },
  {
   "cell_type": "code",
   "execution_count": 21,
   "metadata": {
    "ExecuteTime": {
     "end_time": "2020-11-04T04:17:55.541184Z",
     "start_time": "2020-11-04T04:17:55.369645Z"
    }
   },
   "outputs": [
    {
     "data": {
      "text/plain": [
       "Mr.          517\n",
       "Miss.        182\n",
       "Mrs.         125\n",
       "Master.       40\n",
       "Dr.            7\n",
       "Rev.           6\n",
       "Col.           2\n",
       "Mlle.          2\n",
       "Major.         2\n",
       "Countess.      1\n",
       "Sir.           1\n",
       "Capt.          1\n",
       "Ms.            1\n",
       "Jonkheer.      1\n",
       "Mme.           1\n",
       "Don.           1\n",
       "Lady.          1\n",
       "Name: Title, dtype: int64"
      ]
     },
     "execution_count": 21,
     "metadata": {},
     "output_type": "execute_result"
    }
   ],
   "source": [
    "title_series[\"Title\"].value_counts()"
   ]
  },
  {
   "cell_type": "markdown",
   "metadata": {},
   "source": [
    "- **Ms.** and **Miss.** mean the same so we'll only keep **Miss.**\n",
    "- Most of the titles occur rarely. Let us denote all such titles by the keyword **Rare.**"
   ]
  },
  {
   "cell_type": "code",
   "execution_count": 22,
   "metadata": {
    "ExecuteTime": {
     "end_time": "2020-11-04T04:17:55.746635Z",
     "start_time": "2020-11-04T04:17:55.543179Z"
    }
   },
   "outputs": [],
   "source": [
    "title_series[\"Title_Filtered\"] = title_series[\"Title\"]\n",
    "\n",
    "title_series[\"Title_Filtered\"] = np.where(\n",
    "                                        title_series[\"Title_Filtered\"] == \"Ms.\", \n",
    "                                        \"Miss.\", title_series[\"Title_Filtered\"])\n",
    "\n",
    "title_series[\"Title_Filtered\"] = np.where(\n",
    "                                        ~title_series[\"Title_Filtered\"].isin([\"Mr.\", \"Miss.\", \"Mrs.\", \"Master.\"]), \n",
    "                                        \"Rare.\", title_series[\"Title_Filtered\"])"
   ]
  },
  {
   "cell_type": "markdown",
   "metadata": {},
   "source": [
    "New Number of observations for each Title."
   ]
  },
  {
   "cell_type": "code",
   "execution_count": 23,
   "metadata": {
    "ExecuteTime": {
     "end_time": "2020-11-04T04:17:55.937126Z",
     "start_time": "2020-11-04T04:17:55.750624Z"
    }
   },
   "outputs": [
    {
     "data": {
      "text/plain": [
       "Mr.        517\n",
       "Miss.      183\n",
       "Mrs.       125\n",
       "Master.     40\n",
       "Rare.       26\n",
       "Name: Title_Filtered, dtype: int64"
      ]
     },
     "execution_count": 23,
     "metadata": {},
     "output_type": "execute_result"
    }
   ],
   "source": [
    "title_series[\"Title_Filtered\"].value_counts()"
   ]
  },
  {
   "cell_type": "markdown",
   "metadata": {},
   "source": [
    "Adding the Title row to the Training Data"
   ]
  },
  {
   "cell_type": "code",
   "execution_count": 24,
   "metadata": {
    "ExecuteTime": {
     "end_time": "2020-11-04T04:17:56.096700Z",
     "start_time": "2020-11-04T04:17:55.940120Z"
    }
   },
   "outputs": [],
   "source": [
    "train_df[\"Title\"] = title_series[\"Title_Filtered\"]"
   ]
  },
  {
   "cell_type": "markdown",
   "metadata": {},
   "source": [
    "## Pclass"
   ]
  },
  {
   "cell_type": "markdown",
   "metadata": {},
   "source": [
    "The different Categories of **Pclass** column"
   ]
  },
  {
   "cell_type": "code",
   "execution_count": 25,
   "metadata": {
    "ExecuteTime": {
     "end_time": "2020-11-04T04:17:56.250328Z",
     "start_time": "2020-11-04T04:17:56.099692Z"
    }
   },
   "outputs": [
    {
     "data": {
      "text/plain": [
       "array([3, 1, 2], dtype=int64)"
      ]
     },
     "execution_count": 25,
     "metadata": {},
     "output_type": "execute_result"
    }
   ],
   "source": [
    "train_df[\"Pclass\"].unique()"
   ]
  },
  {
   "cell_type": "markdown",
   "metadata": {},
   "source": [
    "Number of observations for each **Pclass**"
   ]
  },
  {
   "cell_type": "code",
   "execution_count": 26,
   "metadata": {
    "ExecuteTime": {
     "end_time": "2020-11-04T04:17:56.390953Z",
     "start_time": "2020-11-04T04:17:56.252283Z"
    }
   },
   "outputs": [
    {
     "data": {
      "text/plain": [
       "3    491\n",
       "1    216\n",
       "2    184\n",
       "Name: Pclass, dtype: int64"
      ]
     },
     "execution_count": 26,
     "metadata": {},
     "output_type": "execute_result"
    }
   ],
   "source": [
    "train_df[\"Pclass\"].value_counts()"
   ]
  },
  {
   "cell_type": "markdown",
   "metadata": {},
   "source": [
    "Histogram showing the number of people survived vs not survived for each Pclass "
   ]
  },
  {
   "cell_type": "code",
   "execution_count": 27,
   "metadata": {
    "ExecuteTime": {
     "end_time": "2020-11-04T04:17:56.789845Z",
     "start_time": "2020-11-04T04:17:56.392907Z"
    }
   },
   "outputs": [
    {
     "data": {
      "image/png": "[encoded data removed]",
      "text/plain": [
       "<Figure size 432x288 with 1 Axes>"
      ]
     },
     "metadata": {},
     "output_type": "display_data"
    }
   ],
   "source": [
    "train_df.groupby(by=\"Pclass\")[\"Survived\"].value_counts().unstack().plot.bar()\n",
    "plt.show()"
   ]
  },
  {
   "cell_type": "markdown",
   "metadata": {},
   "source": [
    "- For the super rich (**Pclass = 1**), more people survived than drowned.\n",
    "- For the middle class travellers (**Pclass = 2**), almost half of the passengers survived.\n",
    "- For the poor travellers (**Pclass = 3**), only a fraction of the passengers survived."
   ]
  },
  {
   "cell_type": "markdown",
   "metadata": {},
   "source": [
    "The heatmap of the **Pclass** column with the **Survived** column shows a strong Negative Corelation, that makes sense with the observations from the Histogram plot."
   ]
  },
  {
   "cell_type": "code",
   "execution_count": 28,
   "metadata": {
    "ExecuteTime": {
     "end_time": "2020-11-04T04:17:57.041174Z",
     "start_time": "2020-11-04T04:17:56.792841Z"
    }
   },
   "outputs": [
    {
     "data": {
      "image/png": "[encoded data removed]",
      "text/plain": [
       "<Figure size 432x288 with 2 Axes>"
      ]
     },
     "metadata": {},
     "output_type": "display_data"
    }
   ],
   "source": [
    "sns.heatmap(train_df[[\"Pclass\", \"Survived\"]].corr(), annot = True)\n",
    "plt.show()"
   ]
  },
  {
   "cell_type": "markdown",
   "metadata": {},
   "source": [
    "## Sex"
   ]
  },
  {
   "cell_type": "markdown",
   "metadata": {},
   "source": [
    "Categories in the **Sex** column."
   ]
  },
  {
   "cell_type": "code",
   "execution_count": 29,
   "metadata": {
    "ExecuteTime": {
     "end_time": "2020-11-04T04:17:57.408194Z",
     "start_time": "2020-11-04T04:17:57.397224Z"
    }
   },
   "outputs": [
    {
     "data": {
      "text/plain": [
       "array(['male', 'female'], dtype=object)"
      ]
     },
     "execution_count": 29,
     "metadata": {},
     "output_type": "execute_result"
    }
   ],
   "source": [
    "train_df[\"Sex\"].unique()"
   ]
  },
  {
   "cell_type": "markdown",
   "metadata": {},
   "source": [
    "Number of Null values"
   ]
  },
  {
   "cell_type": "code",
   "execution_count": 30,
   "metadata": {
    "ExecuteTime": {
     "end_time": "2020-11-04T04:17:57.866965Z",
     "start_time": "2020-11-04T04:17:57.854001Z"
    }
   },
   "outputs": [
    {
     "data": {
      "text/plain": [
       "0"
      ]
     },
     "execution_count": 30,
     "metadata": {},
     "output_type": "execute_result"
    }
   ],
   "source": [
    "train_df[\"Sex\"].isnull().sum()"
   ]
  },
  {
   "cell_type": "markdown",
   "metadata": {},
   "source": [
    "Number of values for each category"
   ]
  },
  {
   "cell_type": "code",
   "execution_count": 31,
   "metadata": {
    "ExecuteTime": {
     "end_time": "2020-11-04T04:17:58.345385Z",
     "start_time": "2020-11-04T04:17:58.324444Z"
    }
   },
   "outputs": [
    {
     "data": {
      "text/plain": [
       "male      577\n",
       "female    314\n",
       "Name: Sex, dtype: int64"
      ]
     },
     "execution_count": 31,
     "metadata": {},
     "output_type": "execute_result"
    }
   ],
   "source": [
    "train_df[\"Sex\"].value_counts()"
   ]
  },
  {
   "cell_type": "markdown",
   "metadata": {},
   "source": [
    "Histogram showing the number of people survived vs not-survived for each category"
   ]
  },
  {
   "cell_type": "code",
   "execution_count": 32,
   "metadata": {
    "ExecuteTime": {
     "end_time": "2020-11-04T04:17:58.963731Z",
     "start_time": "2020-11-04T04:17:58.780224Z"
    }
   },
   "outputs": [
    {
     "data": {
      "image/png": "[encoded data removed]",
      "text/plain": [
       "<Figure size 432x288 with 1 Axes>"
      ]
     },
     "metadata": {},
     "output_type": "display_data"
    }
   ],
   "source": [
    "train_df.groupby(by = \"Sex\")[\"Survived\"].value_counts().unstack().plot.bar()\n",
    "plt.show()"
   ]
  },
  {
   "cell_type": "markdown",
   "metadata": {},
   "source": [
    "- Most of the female passangers survived the accident.\n",
    "- Only a fraction of the male passengers made it through."
   ]
  },
  {
   "cell_type": "markdown",
   "metadata": {},
   "source": [
    "The above 2 observations are validated even more when we look at the strong positive correlation between **Sex** and **Survived** in the following heatmap."
   ]
  },
  {
   "cell_type": "code",
   "execution_count": 33,
   "metadata": {
    "ExecuteTime": {
     "end_time": "2020-11-04T04:17:59.932143Z",
     "start_time": "2020-11-04T04:17:59.733674Z"
    }
   },
   "outputs": [
    {
     "data": {
      "image/png": "[encoded data removed]",
      "text/plain": [
       "<Figure size 432x288 with 2 Axes>"
      ]
     },
     "metadata": {},
     "output_type": "display_data"
    }
   ],
   "source": [
    "corr_df = train_df[[\"Survived\"]]\n",
    "corr_df[\"Sex\"] = train_df[\"Sex\"].map({\"male\": 1, \"female\": 2})\n",
    "\n",
    "sns.heatmap(corr_df.corr(), annot = True)\n",
    "plt.show()"
   ]
  },
  {
   "cell_type": "markdown",
   "metadata": {},
   "source": [
    "## SibSp"
   ]
  },
  {
   "cell_type": "markdown",
   "metadata": {},
   "source": [
    "Number of siblings/spouses that each passenger in the train set has"
   ]
  },
  {
   "cell_type": "code",
   "execution_count": 34,
   "metadata": {
    "ExecuteTime": {
     "end_time": "2020-11-04T04:18:00.819773Z",
     "start_time": "2020-11-04T04:18:00.799824Z"
    }
   },
   "outputs": [
    {
     "data": {
      "text/plain": [
       "array([1, 0, 3, 4, 2, 5, 8], dtype=int64)"
      ]
     },
     "execution_count": 34,
     "metadata": {},
     "output_type": "execute_result"
    }
   ],
   "source": [
    "train_df[\"SibSp\"].unique()"
   ]
  },
  {
   "cell_type": "markdown",
   "metadata": {},
   "source": [
    "Number of Null values"
   ]
  },
  {
   "cell_type": "code",
   "execution_count": 35,
   "metadata": {
    "ExecuteTime": {
     "end_time": "2020-11-04T04:18:01.388150Z",
     "start_time": "2020-11-04T04:18:01.371196Z"
    }
   },
   "outputs": [
    {
     "data": {
      "text/plain": [
       "0"
      ]
     },
     "execution_count": 35,
     "metadata": {},
     "output_type": "execute_result"
    }
   ],
   "source": [
    "train_df[\"SibSp\"].isnull().sum()"
   ]
  },
  {
   "cell_type": "markdown",
   "metadata": {},
   "source": [
    "Number of observations for each value of **SibSp** observed in the train set"
   ]
  },
  {
   "cell_type": "code",
   "execution_count": 36,
   "metadata": {
    "ExecuteTime": {
     "end_time": "2020-11-04T04:18:01.911750Z",
     "start_time": "2020-11-04T04:18:01.902775Z"
    }
   },
   "outputs": [
    {
     "data": {
      "text/plain": [
       "0    608\n",
       "1    209\n",
       "2     28\n",
       "4     18\n",
       "3     16\n",
       "8      7\n",
       "5      5\n",
       "Name: SibSp, dtype: int64"
      ]
     },
     "execution_count": 36,
     "metadata": {},
     "output_type": "execute_result"
    }
   ],
   "source": [
    "train_df[\"SibSp\"].value_counts()"
   ]
  },
  {
   "cell_type": "markdown",
   "metadata": {},
   "source": [
    "Histogram showing the number of people survived vs not-survived for each value of **SibSp**"
   ]
  },
  {
   "cell_type": "code",
   "execution_count": 37,
   "metadata": {
    "ExecuteTime": {
     "end_time": "2020-11-04T04:18:02.764469Z",
     "start_time": "2020-11-04T04:18:02.442332Z"
    }
   },
   "outputs": [
    {
     "data": {
      "image/png": "[encoded data removed]",
      "text/plain": [
       "<Figure size 432x288 with 1 Axes>"
      ]
     },
     "metadata": {},
     "output_type": "display_data"
    }
   ],
   "source": [
    "train_df.groupby(by = \"SibSp\")[\"Survived\"].value_counts().unstack().plot.bar()\n",
    "plt.show()"
   ]
  },
  {
   "cell_type": "markdown",
   "metadata": {},
   "source": [
    "- For passengers with 1 SibSp, the chances of survival were greater than 50%.\n",
    "- For passengers with 2 SibSp's, the chances of survival were almost 50%.\n",
    "- For rest of the passengers, the chances of survival were a fraction of the chances of drowning"
   ]
  },
  {
   "cell_type": "markdown",
   "metadata": {},
   "source": [
    "The heatmap does not reveal any new information as the chances of survival was initially low (SibSp = 0), then high (SibSp = 1, SipSp = 2), and then low again (SibSp >= 3). Thus, we do not observe any strong correlation here."
   ]
  },
  {
   "cell_type": "code",
   "execution_count": 38,
   "metadata": {
    "ExecuteTime": {
     "end_time": "2020-11-04T04:18:03.800700Z",
     "start_time": "2020-11-04T04:18:03.534415Z"
    }
   },
   "outputs": [
    {
     "data": {
      "image/png": "[encoded data removed]",
      "text/plain": [
       "<Figure size 432x288 with 2 Axes>"
      ]
     },
     "metadata": {},
     "output_type": "display_data"
    }
   ],
   "source": [
    "sns.heatmap(train_df[[\"SibSp\", \"Survived\"]].corr(), annot = True)\n",
    "plt.show()"
   ]
  },
  {
   "cell_type": "markdown",
   "metadata": {},
   "source": [
    "## Parch"
   ]
  },
  {
   "cell_type": "markdown",
   "metadata": {},
   "source": [
    "Number of unique values on **Parch** values"
   ]
  },
  {
   "cell_type": "code",
   "execution_count": 39,
   "metadata": {
    "ExecuteTime": {
     "end_time": "2020-11-04T04:18:04.725233Z",
     "start_time": "2020-11-04T04:18:04.710269Z"
    }
   },
   "outputs": [
    {
     "data": {
      "text/plain": [
       "array([0, 1, 2, 5, 3, 4, 6], dtype=int64)"
      ]
     },
     "execution_count": 39,
     "metadata": {},
     "output_type": "execute_result"
    }
   ],
   "source": [
    "train_df[\"Parch\"].unique()"
   ]
  },
  {
   "cell_type": "markdown",
   "metadata": {},
   "source": [
    "Number of Null values"
   ]
  },
  {
   "cell_type": "code",
   "execution_count": 40,
   "metadata": {
    "ExecuteTime": {
     "end_time": "2020-11-04T04:18:05.297698Z",
     "start_time": "2020-11-04T04:18:05.276755Z"
    }
   },
   "outputs": [
    {
     "data": {
      "text/plain": [
       "0"
      ]
     },
     "execution_count": 40,
     "metadata": {},
     "output_type": "execute_result"
    }
   ],
   "source": [
    "train_df[\"Parch\"].isnull().sum()"
   ]
  },
  {
   "cell_type": "markdown",
   "metadata": {},
   "source": [
    "Number of observations in each unique **Parch** value"
   ]
  },
  {
   "cell_type": "code",
   "execution_count": 41,
   "metadata": {
    "ExecuteTime": {
     "end_time": "2020-11-04T04:18:05.792375Z",
     "start_time": "2020-11-04T04:18:05.770435Z"
    }
   },
   "outputs": [
    {
     "data": {
      "text/plain": [
       "0    678\n",
       "1    118\n",
       "2     80\n",
       "5      5\n",
       "3      5\n",
       "4      4\n",
       "6      1\n",
       "Name: Parch, dtype: int64"
      ]
     },
     "execution_count": 41,
     "metadata": {},
     "output_type": "execute_result"
    }
   ],
   "source": [
    "train_df[\"Parch\"].value_counts()"
   ]
  },
  {
   "cell_type": "markdown",
   "metadata": {},
   "source": [
    "Histogram showing the number of people survived vs not-survived for each unique value in **Parch**"
   ]
  },
  {
   "cell_type": "code",
   "execution_count": 42,
   "metadata": {
    "ExecuteTime": {
     "end_time": "2020-11-04T04:18:06.583304Z",
     "start_time": "2020-11-04T04:18:06.311988Z"
    }
   },
   "outputs": [
    {
     "data": {
      "image/png": "[encoded data removed]",
      "text/plain": [
       "<Figure size 432x288 with 1 Axes>"
      ]
     },
     "metadata": {},
     "output_type": "display_data"
    }
   ],
   "source": [
    "train_df.groupby(by = \"Parch\")[\"Survived\"].value_counts().unstack().plot.bar()\n",
    "plt.show()"
   ]
  },
  {
   "cell_type": "markdown",
   "metadata": {},
   "source": [
    "- For passengers with 1 Parch, the chances of survival were greater than 50%.\n",
    "- For passengers with 2 Parch's, the chances of survival were almost 50%.\n",
    "- For rest of the passengers, the chances of survival were a fraction of the chances of drowning"
   ]
  },
  {
   "cell_type": "markdown",
   "metadata": {},
   "source": [
    "Similar to SibSp, Parch also has a rise in the chances of survival for Parch = 1, 2 and low chances in the other cases. Thus, there is no clear linear trend and hence, the heatmap does not show any strong correlation."
   ]
  },
  {
   "cell_type": "code",
   "execution_count": 43,
   "metadata": {
    "ExecuteTime": {
     "end_time": "2020-11-04T04:18:07.532726Z",
     "start_time": "2020-11-04T04:18:07.327278Z"
    }
   },
   "outputs": [
    {
     "data": {
      "image/png": "[encoded data removed]",
      "text/plain": [
       "<Figure size 432x288 with 2 Axes>"
      ]
     },
     "metadata": {},
     "output_type": "display_data"
    }
   ],
   "source": [
    "sns.heatmap(train_df[[\"Parch\", \"Survived\"]].corr(), annot = True)\n",
    "plt.show()"
   ]
  },
  {
   "cell_type": "markdown",
   "metadata": {},
   "source": [
    "## Building Family Column"
   ]
  },
  {
   "cell_type": "markdown",
   "metadata": {},
   "source": [
    "Adding the **SibSp** and **Parch** columns, we get the **Family** column"
   ]
  },
  {
   "cell_type": "code",
   "execution_count": 44,
   "metadata": {
    "ExecuteTime": {
     "end_time": "2020-11-04T04:18:08.356523Z",
     "start_time": "2020-11-04T04:18:08.348545Z"
    }
   },
   "outputs": [],
   "source": [
    "train_df[\"Family\"] = train_df[\"SibSp\"] + train_df[\"Parch\"]"
   ]
  },
  {
   "cell_type": "markdown",
   "metadata": {},
   "source": [
    "Histogram showing the number of people survived vs not-survived for each unique value in **Family** column."
   ]
  },
  {
   "cell_type": "code",
   "execution_count": 45,
   "metadata": {
    "ExecuteTime": {
     "end_time": "2020-11-04T04:18:09.126462Z",
     "start_time": "2020-11-04T04:18:08.837235Z"
    },
    "scrolled": false
   },
   "outputs": [
    {
     "data": {
      "image/png": "[encoded data removed]",
      "text/plain": [
       "<Figure size 432x288 with 1 Axes>"
      ]
     },
     "metadata": {},
     "output_type": "display_data"
    }
   ],
   "source": [
    "train_df.groupby(by = \"Family\")[\"Survived\"].value_counts().unstack().plot.bar()\n",
    "plt.show()"
   ]
  },
  {
   "cell_type": "markdown",
   "metadata": {},
   "source": [
    "- People with 1, 2 or even 3 family members had higher chances of survival.\n",
    "- Single travellers, and people travelling in lage groups had very low survival percentages"
   ]
  },
  {
   "cell_type": "markdown",
   "metadata": {},
   "source": [
    "Due to a non linear trend in the chances of survival, the heatmap fails to show any strong correlation"
   ]
  },
  {
   "cell_type": "code",
   "execution_count": 46,
   "metadata": {
    "ExecuteTime": {
     "end_time": "2020-11-04T04:18:10.077916Z",
     "start_time": "2020-11-04T04:18:09.878451Z"
    }
   },
   "outputs": [
    {
     "data": {
      "image/png": "[encoded data removed]",
      "text/plain": [
       "<Figure size 432x288 with 2 Axes>"
      ]
     },
     "metadata": {},
     "output_type": "display_data"
    }
   ],
   "source": [
    "sns.heatmap(train_df[[\"Survived\", \"Family\"]].corr(), annot = True)\n",
    "plt.show()"
   ]
  },
  {
   "cell_type": "markdown",
   "metadata": {},
   "source": [
    "## Embarked"
   ]
  },
  {
   "cell_type": "markdown",
   "metadata": {},
   "source": [
    "Unique categories of **Embarked**"
   ]
  },
  {
   "cell_type": "code",
   "execution_count": 47,
   "metadata": {
    "ExecuteTime": {
     "end_time": "2020-11-04T04:18:10.903621Z",
     "start_time": "2020-11-04T04:18:10.883672Z"
    }
   },
   "outputs": [
    {
     "data": {
      "text/plain": [
       "array(['S', 'C', 'Q', nan], dtype=object)"
      ]
     },
     "execution_count": 47,
     "metadata": {},
     "output_type": "execute_result"
    }
   ],
   "source": [
    "train_df[\"Embarked\"].unique()"
   ]
  },
  {
   "cell_type": "markdown",
   "metadata": {},
   "source": [
    "Number of Null Values"
   ]
  },
  {
   "cell_type": "code",
   "execution_count": 48,
   "metadata": {
    "ExecuteTime": {
     "end_time": "2020-11-04T04:18:11.393310Z",
     "start_time": "2020-11-04T04:18:11.379346Z"
    }
   },
   "outputs": [
    {
     "data": {
      "text/plain": [
       "2"
      ]
     },
     "execution_count": 48,
     "metadata": {},
     "output_type": "execute_result"
    }
   ],
   "source": [
    "train_df[\"Embarked\"].isnull().sum()"
   ]
  },
  {
   "cell_type": "markdown",
   "metadata": {},
   "source": [
    "Looking at the rows with the Null values"
   ]
  },
  {
   "cell_type": "code",
   "execution_count": 49,
   "metadata": {
    "ExecuteTime": {
     "end_time": "2020-11-04T04:18:11.914195Z",
     "start_time": "2020-11-04T04:18:11.886268Z"
    }
   },
   "outputs": [
    {
     "data": {
      "text/html": [
       "<div>\n",
       "<style scoped>\n",
       "    .dataframe tbody tr th:only-of-type {\n",
       "        vertical-align: middle;\n",
       "    }\n",
       "\n",
       "    .dataframe tbody tr th {\n",
       "        vertical-align: top;\n",
       "    }\n",
       "\n",
       "    .dataframe thead th {\n",
       "        text-align: right;\n",
       "    }\n",
       "</style>\n",
       "<table border=\"1\" class=\"dataframe\">\n",
       "  <thead>\n",
       "    <tr style=\"text-align: right;\">\n",
       "      <th></th>\n",
       "      <th>PassengerId</th>\n",
       "      <th>Survived</th>\n",
       "      <th>Pclass</th>\n",
       "      <th>Name</th>\n",
       "      <th>Sex</th>\n",
       "      <th>Age</th>\n",
       "      <th>SibSp</th>\n",
       "      <th>Parch</th>\n",
       "      <th>Ticket</th>\n",
       "      <th>Fare</th>\n",
       "      <th>Cabin</th>\n",
       "      <th>Embarked</th>\n",
       "      <th>Title</th>\n",
       "      <th>Family</th>\n",
       "    </tr>\n",
       "  </thead>\n",
       "  <tbody>\n",
       "    <tr>\n",
       "      <th>61</th>\n",
       "      <td>62</td>\n",
       "      <td>1</td>\n",
       "      <td>1</td>\n",
       "      <td>Icard, Miss. Amelie</td>\n",
       "      <td>female</td>\n",
       "      <td>38.0</td>\n",
       "      <td>0</td>\n",
       "      <td>0</td>\n",
       "      <td>113572</td>\n",
       "      <td>80.0</td>\n",
       "      <td>B28</td>\n",
       "      <td>NaN</td>\n",
       "      <td>Miss.</td>\n",
       "      <td>0</td>\n",
       "    </tr>\n",
       "    <tr>\n",
       "      <th>829</th>\n",
       "      <td>830</td>\n",
       "      <td>1</td>\n",
       "      <td>1</td>\n",
       "      <td>Stone, Mrs. George Nelson (Martha Evelyn)</td>\n",
       "      <td>female</td>\n",
       "      <td>62.0</td>\n",
       "      <td>0</td>\n",
       "      <td>0</td>\n",
       "      <td>113572</td>\n",
       "      <td>80.0</td>\n",
       "      <td>B28</td>\n",
       "      <td>NaN</td>\n",
       "      <td>Mrs.</td>\n",
       "      <td>0</td>\n",
       "    </tr>\n",
       "  </tbody>\n",
       "</table>\n",
       "</div>"
      ],
      "text/plain": [
       "     PassengerId  Survived  Pclass                                       Name  \\\n",
       "61            62         1       1                        Icard, Miss. Amelie   \n",
       "829          830         1       1  Stone, Mrs. George Nelson (Martha Evelyn)   \n",
       "\n",
       "        Sex   Age  SibSp  Parch  Ticket  Fare Cabin Embarked  Title  Family  \n",
       "61   female  38.0      0      0  113572  80.0   B28      NaN  Miss.       0  \n",
       "829  female  62.0      0      0  113572  80.0   B28      NaN   Mrs.       0  "
      ]
     },
     "execution_count": 49,
     "metadata": {},
     "output_type": "execute_result"
    }
   ],
   "source": [
    "train_df[train_df[\"Embarked\"].isnull()]"
   ]
  },
  {
   "cell_type": "markdown",
   "metadata": {},
   "source": [
    "Both the passengers have Pclass = 1. So let's see where did such passengers board the ship from."
   ]
  },
  {
   "cell_type": "markdown",
   "metadata": {},
   "source": [
    "Histogram showing the number of people of **Pclass = 1** who boarded the titanic from each of the ports: **C, Q, S**."
   ]
  },
  {
   "cell_type": "code",
   "execution_count": 50,
   "metadata": {
    "ExecuteTime": {
     "end_time": "2020-11-04T04:18:13.021234Z",
     "start_time": "2020-11-04T04:18:12.849754Z"
    }
   },
   "outputs": [
    {
     "data": {
      "image/png": "[encoded data removed]",
      "text/plain": [
       "<Figure size 432x288 with 1 Axes>"
      ]
     },
     "metadata": {},
     "output_type": "display_data"
    }
   ],
   "source": [
    "train_df.groupby(by = \"Pclass\")[\"Embarked\"].value_counts().unstack().loc[1].plot.bar()\n",
    "plt.show()"
   ]
  },
  {
   "cell_type": "markdown",
   "metadata": {},
   "source": [
    "Since most of the passengers of Pclass = 1, boarded the ship from port:**S**, it is safe to fill the Null values with this."
   ]
  },
  {
   "cell_type": "code",
   "execution_count": 51,
   "metadata": {
    "ExecuteTime": {
     "end_time": "2020-11-04T04:18:13.402689Z",
     "start_time": "2020-11-04T04:18:13.391717Z"
    }
   },
   "outputs": [],
   "source": [
    "train_df[\"Embarked\"] = train_df[\"Embarked\"].fillna(\"S\")"
   ]
  },
  {
   "cell_type": "markdown",
   "metadata": {},
   "source": [
    "Checking for any new Null values"
   ]
  },
  {
   "cell_type": "code",
   "execution_count": 52,
   "metadata": {
    "ExecuteTime": {
     "end_time": "2020-11-04T04:18:13.909337Z",
     "start_time": "2020-11-04T04:18:13.891382Z"
    }
   },
   "outputs": [
    {
     "data": {
      "text/plain": [
       "0"
      ]
     },
     "execution_count": 52,
     "metadata": {},
     "output_type": "execute_result"
    }
   ],
   "source": [
    "train_df[\"Embarked\"].isnull().sum()"
   ]
  },
  {
   "cell_type": "markdown",
   "metadata": {},
   "source": [
    "Number of people from each port"
   ]
  },
  {
   "cell_type": "code",
   "execution_count": 53,
   "metadata": {
    "ExecuteTime": {
     "end_time": "2020-11-04T04:18:14.416020Z",
     "start_time": "2020-11-04T04:18:14.403016Z"
    }
   },
   "outputs": [
    {
     "data": {
      "text/plain": [
       "S    646\n",
       "C    168\n",
       "Q     77\n",
       "Name: Embarked, dtype: int64"
      ]
     },
     "execution_count": 53,
     "metadata": {},
     "output_type": "execute_result"
    }
   ],
   "source": [
    "train_df[\"Embarked\"].value_counts()"
   ]
  },
  {
   "cell_type": "markdown",
   "metadata": {},
   "source": [
    "Histogram showing the number of people who survived vs not-survived from each port"
   ]
  },
  {
   "cell_type": "code",
   "execution_count": 54,
   "metadata": {
    "ExecuteTime": {
     "end_time": "2020-11-04T04:18:15.115143Z",
     "start_time": "2020-11-04T04:18:14.907667Z"
    }
   },
   "outputs": [
    {
     "data": {
      "image/png": "[encoded data removed]",
      "text/plain": [
       "<Figure size 432x288 with 1 Axes>"
      ]
     },
     "metadata": {},
     "output_type": "display_data"
    }
   ],
   "source": [
    "train_df.groupby(by = \"Embarked\")[\"Survived\"].value_counts().unstack().plot.bar()\n",
    "plt.show()"
   ]
  },
  {
   "cell_type": "markdown",
   "metadata": {},
   "source": [
    "- More than half the people from port **C** survived the crash.\n",
    "- A relatively lower percentage of the population from the remaining ports (**Q**, and **S**) made it through"
   ]
  },
  {
   "cell_type": "markdown",
   "metadata": {},
   "source": [
    "The heatmap below shows a slight negative correlation with the Emabrked column. This makes sense with the observations from the Histogram plot"
   ]
  },
  {
   "cell_type": "code",
   "execution_count": 55,
   "metadata": {
    "ExecuteTime": {
     "end_time": "2020-11-04T04:18:16.256059Z",
     "start_time": "2020-11-04T04:18:16.046620Z"
    }
   },
   "outputs": [
    {
     "data": {
      "image/png": "[encoded data removed]",
      "text/plain": [
       "<Figure size 432x288 with 2 Axes>"
      ]
     },
     "metadata": {},
     "output_type": "display_data"
    }
   ],
   "source": [
    "corr_df = train_df[[\"Survived\"]]\n",
    "corr_df[\"Embarked\"] = train_df[\"Embarked\"].map({\"C\": 1, \"Q\": 2, \"S\": 3})\n",
    "\n",
    "sns.heatmap(corr_df.corr(), annot = True)\n",
    "plt.show()"
   ]
  },
  {
   "cell_type": "markdown",
   "metadata": {},
   "source": [
    "## Age"
   ]
  },
  {
   "cell_type": "markdown",
   "metadata": {},
   "source": [
    "Number of Null values in **Age**"
   ]
  },
  {
   "cell_type": "code",
   "execution_count": 56,
   "metadata": {
    "ExecuteTime": {
     "end_time": "2020-11-04T04:18:17.225466Z",
     "start_time": "2020-11-04T04:18:17.205520Z"
    }
   },
   "outputs": [
    {
     "data": {
      "text/plain": [
       "177"
      ]
     },
     "execution_count": 56,
     "metadata": {},
     "output_type": "execute_result"
    }
   ],
   "source": [
    "train_df[\"Age\"].isnull().sum()"
   ]
  },
  {
   "cell_type": "markdown",
   "metadata": {},
   "source": [
    "Distribution of **Age** of the passenngers on board the titanic"
   ]
  },
  {
   "cell_type": "code",
   "execution_count": 57,
   "metadata": {
    "ExecuteTime": {
     "end_time": "2020-11-04T04:18:18.032307Z",
     "start_time": "2020-11-04T04:18:17.721184Z"
    }
   },
   "outputs": [
    {
     "data": {
      "image/png": "[encoded data removed]",
      "text/plain": [
       "<Figure size 432x288 with 1 Axes>"
      ]
     },
     "metadata": {},
     "output_type": "display_data"
    }
   ],
   "source": [
    "sns.distplot(train_df[\"Age\"])\n",
    "plt.show()"
   ]
  },
  {
   "cell_type": "markdown",
   "metadata": {},
   "source": [
    "Scatter plot showing the age of the people on board the titanic and whether they survived or not."
   ]
  },
  {
   "cell_type": "code",
   "execution_count": 58,
   "metadata": {
    "ExecuteTime": {
     "end_time": "2020-11-04T04:18:18.714487Z",
     "start_time": "2020-11-04T04:18:18.284635Z"
    }
   },
   "outputs": [
    {
     "data": {
      "image/png": "[encoded data removed]",
      "text/plain": [
       "<Figure size 432x288 with 1 Axes>"
      ]
     },
     "metadata": {},
     "output_type": "display_data"
    }
   ],
   "source": [
    "age_survived = np.where(train_df[\"Survived\"] == 1, train_df[\"Age\"], np.nan)\n",
    "age_not_survived = np.where(train_df[\"Survived\"] == 0, train_df[\"Age\"], np.nan)\n",
    "\n",
    "plt.scatter(train_df[\"PassengerId\"], age_survived, marker = \"+\", color = \"green\", label = \"Survived\")\n",
    "plt.scatter(train_df[\"PassengerId\"], age_not_survived, marker = \"_\", color = \"red\", label = \"Not Survived\")\n",
    "\n",
    "plt.xlabel(\"PassengerId\")\n",
    "plt.ylabel(\"Age\")\n",
    "\n",
    "plt.legend()\n",
    "plt.show()"
   ]
  },
  {
   "cell_type": "markdown",
   "metadata": {},
   "source": [
    "Box Plot showing the distribution of age for survivors and non-survivors "
   ]
  },
  {
   "cell_type": "code",
   "execution_count": 59,
   "metadata": {
    "ExecuteTime": {
     "end_time": "2020-11-04T04:18:19.109428Z",
     "start_time": "2020-11-04T04:18:18.914950Z"
    }
   },
   "outputs": [
    {
     "data": {
      "image/png": "[encoded data removed]",
      "text/plain": [
       "<Figure size 432x288 with 1 Axes>"
      ]
     },
     "metadata": {},
     "output_type": "display_data"
    }
   ],
   "source": [
    "sns.boxplot(x = \"Survived\", y = \"Age\", data = train_df)\n",
    "plt.show()"
   ]
  },
  {
   "cell_type": "markdown",
   "metadata": {},
   "source": [
    "Both the Scatter plot and the Box plot indicate that young (children), and old people had good chances of survival as compared to the working-age adults."
   ]
  },
  {
   "cell_type": "markdown",
   "metadata": {},
   "source": [
    "The heatmap also supports this observation to an extent by showing a very slight negative correlation between **Survived** and **Age**"
   ]
  },
  {
   "cell_type": "code",
   "execution_count": 60,
   "metadata": {
    "ExecuteTime": {
     "end_time": "2020-11-04T04:18:20.223490Z",
     "start_time": "2020-11-04T04:18:19.994064Z"
    }
   },
   "outputs": [
    {
     "data": {
      "image/png": "[encoded data removed]",
      "text/plain": [
       "<Figure size 432x288 with 2 Axes>"
      ]
     },
     "metadata": {},
     "output_type": "display_data"
    }
   ],
   "source": [
    "corr_df = train_df[[\"Survived\", \"Age\"]]\n",
    "\n",
    "sns.heatmap(corr_df[[\"Age\", \"Survived\"]].corr(), annot = True)\n",
    "plt.show()"
   ]
  },
  {
   "cell_type": "markdown",
   "metadata": {},
   "source": [
    "### Filling Missing values in Age"
   ]
  },
  {
   "cell_type": "markdown",
   "metadata": {},
   "source": [
    "Number of Null values"
   ]
  },
  {
   "cell_type": "code",
   "execution_count": 61,
   "metadata": {
    "ExecuteTime": {
     "end_time": "2020-11-04T04:18:21.098113Z",
     "start_time": "2020-11-04T04:18:21.077168Z"
    }
   },
   "outputs": [
    {
     "data": {
      "text/plain": [
       "177"
      ]
     },
     "execution_count": 61,
     "metadata": {},
     "output_type": "execute_result"
    }
   ],
   "source": [
    "train_df[\"Age\"].isnull().sum()"
   ]
  },
  {
   "cell_type": "markdown",
   "metadata": {},
   "source": [
    "A person with missing value in **Age** is given the median age of all the people with the same **Title** as this person. "
   ]
  },
  {
   "cell_type": "code",
   "execution_count": 62,
   "metadata": {
    "ExecuteTime": {
     "end_time": "2020-11-04T04:18:21.622717Z",
     "start_time": "2020-11-04T04:18:21.612738Z"
    }
   },
   "outputs": [
    {
     "data": {
      "text/plain": [
       "Title\n",
       "Master.     3.5\n",
       "Miss.      21.0\n",
       "Mr.        30.0\n",
       "Mrs.       35.0\n",
       "Rare.      45.0\n",
       "Name: Age, dtype: float64"
      ]
     },
     "execution_count": 62,
     "metadata": {},
     "output_type": "execute_result"
    }
   ],
   "source": [
    "train_df.groupby(by = \"Title\")[\"Age\"].median()"
   ]
  },
  {
   "cell_type": "markdown",
   "metadata": {},
   "source": [
    "Filling Null Values"
   ]
  },
  {
   "cell_type": "code",
   "execution_count": 63,
   "metadata": {
    "ExecuteTime": {
     "end_time": "2020-11-04T04:18:22.158279Z",
     "start_time": "2020-11-04T04:18:22.136336Z"
    }
   },
   "outputs": [],
   "source": [
    "age_map = {\"Master.\": 3.5,\n",
    "           \"Miss.\": 21.0,\n",
    "           \"Mr.\": 30.0,\n",
    "           \"Mrs.\": 35.0,\n",
    "           \"Rare.\": 45.0}\n",
    "\n",
    "age_null_indices = train_df[train_df[\"Age\"].isnull()].index\n",
    "train_df.at[age_null_indices, \"Age\"] = train_df.loc[age_null_indices][\"Title\"].map(age_map)"
   ]
  },
  {
   "cell_type": "markdown",
   "metadata": {},
   "source": [
    "Check for any remaining Null values"
   ]
  },
  {
   "cell_type": "code",
   "execution_count": 64,
   "metadata": {
    "ExecuteTime": {
     "end_time": "2020-11-04T04:18:22.682878Z",
     "start_time": "2020-11-04T04:18:22.664923Z"
    }
   },
   "outputs": [
    {
     "data": {
      "text/plain": [
       "0"
      ]
     },
     "execution_count": 64,
     "metadata": {},
     "output_type": "execute_result"
    }
   ],
   "source": [
    "train_df[\"Age\"].isnull().sum()"
   ]
  },
  {
   "cell_type": "markdown",
   "metadata": {},
   "source": [
    "Plotting the same Scatter plot, Box plot and Heatmap to see the change after Filling the Null values"
   ]
  },
  {
   "cell_type": "code",
   "execution_count": 65,
   "metadata": {
    "ExecuteTime": {
     "end_time": "2020-11-04T04:18:23.662257Z",
     "start_time": "2020-11-04T04:18:23.209467Z"
    }
   },
   "outputs": [
    {
     "data": {
      "image/png": "[encoded data removed]",
      "text/plain": [
       "<Figure size 432x288 with 1 Axes>"
      ]
     },
     "metadata": {},
     "output_type": "display_data"
    }
   ],
   "source": [
    "age_survived = np.where(train_df[\"Survived\"] == 1, train_df[\"Age\"], np.nan)\n",
    "age_not_survived = np.where(train_df[\"Survived\"] == 0, train_df[\"Age\"], np.nan)\n",
    "\n",
    "plt.scatter(train_df[\"PassengerId\"], age_survived, marker = \"+\", color = \"green\", label = \"Survived\")\n",
    "plt.scatter(train_df[\"PassengerId\"], age_not_survived, marker = \"_\", color = \"red\", label = \"Not Survived\")\n",
    "\n",
    "plt.xlabel(\"PassengerId\")\n",
    "plt.ylabel(\"Age\")\n",
    "\n",
    "plt.legend()\n",
    "plt.show()"
   ]
  },
  {
   "cell_type": "code",
   "execution_count": 66,
   "metadata": {
    "ExecuteTime": {
     "end_time": "2020-11-04T04:18:23.867707Z",
     "start_time": "2020-11-04T04:18:23.666246Z"
    }
   },
   "outputs": [
    {
     "data": {
      "image/png": "[encoded data removed]",
      "text/plain": [
       "<Figure size 432x288 with 1 Axes>"
      ]
     },
     "metadata": {},
     "output_type": "display_data"
    }
   ],
   "source": [
    "sns.boxplot(x = \"Survived\", y = \"Age\", data = train_df)\n",
    "plt.show()"
   ]
  },
  {
   "cell_type": "code",
   "execution_count": 67,
   "metadata": {
    "ExecuteTime": {
     "end_time": "2020-11-04T04:18:24.105112Z",
     "start_time": "2020-11-04T04:18:23.870708Z"
    }
   },
   "outputs": [
    {
     "data": {
      "image/png": "[encoded data removed]",
      "text/plain": [
       "<Figure size 432x288 with 2 Axes>"
      ]
     },
     "metadata": {},
     "output_type": "display_data"
    }
   ],
   "source": [
    "corr_df = train_df[[\"Survived\", \"Age\"]]\n",
    "\n",
    "sns.heatmap(corr_df[[\"Age\", \"Survived\"]].corr(), annot = True)\n",
    "plt.show()"
   ]
  },
  {
   "cell_type": "markdown",
   "metadata": {},
   "source": [
    "There are no adverse changes in the plots and hence this method of filling Null values in **Age** is acceptable. "
   ]
  },
  {
   "cell_type": "markdown",
   "metadata": {},
   "source": [
    "## Fare"
   ]
  },
  {
   "cell_type": "markdown",
   "metadata": {},
   "source": [
    "Number of Null Values"
   ]
  },
  {
   "cell_type": "code",
   "execution_count": 68,
   "metadata": {
    "ExecuteTime": {
     "end_time": "2020-11-04T04:18:25.042132Z",
     "start_time": "2020-11-04T04:18:25.021187Z"
    }
   },
   "outputs": [
    {
     "data": {
      "text/plain": [
       "0"
      ]
     },
     "execution_count": 68,
     "metadata": {},
     "output_type": "execute_result"
    }
   ],
   "source": [
    "train_df[\"Fare\"].isnull().sum()"
   ]
  },
  {
   "cell_type": "markdown",
   "metadata": {},
   "source": [
    "Distribution of **Fare** payed by passengers on board the titanic"
   ]
  },
  {
   "cell_type": "code",
   "execution_count": 69,
   "metadata": {
    "ExecuteTime": {
     "end_time": "2020-11-04T04:18:25.929714Z",
     "start_time": "2020-11-04T04:18:25.557711Z"
    }
   },
   "outputs": [
    {
     "data": {
      "image/png": "[encoded data removed]",
      "text/plain": [
       "<Figure size 432x288 with 1 Axes>"
      ]
     },
     "metadata": {},
     "output_type": "display_data"
    }
   ],
   "source": [
    "sns.distplot(test_df[\"Fare\"])\n",
    "plt.show()"
   ]
  },
  {
   "cell_type": "markdown",
   "metadata": {},
   "source": [
    "Scatter plot showing the **Fare** payed be different people on board the titanic, and how many of these people survived the crash."
   ]
  },
  {
   "cell_type": "code",
   "execution_count": 70,
   "metadata": {
    "ExecuteTime": {
     "end_time": "2020-11-04T04:18:26.530110Z",
     "start_time": "2020-11-04T04:18:26.162095Z"
    }
   },
   "outputs": [
    {
     "data": {
      "image/png": "[encoded data removed]",
      "text/plain": [
       "<Figure size 432x288 with 1 Axes>"
      ]
     },
     "metadata": {},
     "output_type": "display_data"
    }
   ],
   "source": [
    "fare_survived = np.where(train_df[\"Survived\"] == 1, train_df[\"Fare\"], np.nan)\n",
    "fare_not_survived = np.where(train_df[\"Survived\"] == 0, train_df[\"Fare\"], np.nan)\n",
    "\n",
    "plt.scatter(train_df[\"PassengerId\"], fare_survived, marker = \"+\", color = \"green\", label = \"Survived\")\n",
    "plt.scatter(train_df[\"PassengerId\"], fare_not_survived, marker = \"_\", color = \"red\", label = \"Not Survived\")\n",
    "\n",
    "plt.xlabel(\"PassengerId\")\n",
    "plt.ylabel(\"Fare\")\n",
    "\n",
    "plt.legend()\n",
    "plt.show()"
   ]
  },
  {
   "cell_type": "markdown",
   "metadata": {},
   "source": [
    "Box plot showing the distribution of the **Fare** payed by survivors and non-survivors."
   ]
  },
  {
   "cell_type": "code",
   "execution_count": 71,
   "metadata": {
    "ExecuteTime": {
     "end_time": "2020-11-04T04:18:26.989880Z",
     "start_time": "2020-11-04T04:18:26.788462Z"
    }
   },
   "outputs": [
    {
     "data": {
      "image/png": "[encoded data removed]",
      "text/plain": [
       "<Figure size 432x288 with 1 Axes>"
      ]
     },
     "metadata": {},
     "output_type": "display_data"
    }
   ],
   "source": [
    "sns.boxplot(x = \"Survived\", y = \"Fare\", data = train_df)\n",
    "plt.show()"
   ]
  },
  {
   "cell_type": "markdown",
   "metadata": {},
   "source": [
    "Both, the Scatter plot and Box plot clearly show that people who payed more had more chances of making it through."
   ]
  },
  {
   "cell_type": "markdown",
   "metadata": {},
   "source": [
    "The heatmap plot below confirms this observation. We see a relatively strong positive correlation between the people who payed more and the people who survived."
   ]
  },
  {
   "cell_type": "code",
   "execution_count": 72,
   "metadata": {
    "ExecuteTime": {
     "end_time": "2020-11-04T04:18:28.165737Z",
     "start_time": "2020-11-04T04:18:27.915407Z"
    }
   },
   "outputs": [
    {
     "data": {
      "image/png": "[encoded data removed]",
      "text/plain": [
       "<Figure size 432x288 with 2 Axes>"
      ]
     },
     "metadata": {},
     "output_type": "display_data"
    }
   ],
   "source": [
    "corr_df = train_df[[\"Survived\", \"Fare\"]]\n",
    "\n",
    "sns.heatmap(corr_df[[\"Fare\", \"Survived\"]].corr(), annot = True)\n",
    "plt.show()"
   ]
  },
  {
   "cell_type": "markdown",
   "metadata": {},
   "source": [
    "## Cabin"
   ]
  },
  {
   "cell_type": "markdown",
   "metadata": {},
   "source": [
    "Unique Values in **Cabin** column"
   ]
  },
  {
   "cell_type": "code",
   "execution_count": 73,
   "metadata": {
    "ExecuteTime": {
     "end_time": "2020-11-04T04:18:29.089512Z",
     "start_time": "2020-11-04T04:18:29.077587Z"
    }
   },
   "outputs": [
    {
     "data": {
      "text/plain": [
       "array([nan, 'C85', 'C123', 'E46', 'G6', 'C103', 'D56', 'A6',\n",
       "       'C23 C25 C27', 'B78', 'D33', 'B30', 'C52', 'B28', 'C83', 'F33',\n",
       "       'F G73', 'E31', 'A5', 'D10 D12', 'D26', 'C110', 'B58 B60', 'E101',\n",
       "       'F E69', 'D47', 'B86', 'F2', 'C2', 'E33', 'B19', 'A7', 'C49', 'F4',\n",
       "       'A32', 'B4', 'B80', 'A31', 'D36', 'D15', 'C93', 'C78', 'D35',\n",
       "       'C87', 'B77', 'E67', 'B94', 'C125', 'C99', 'C118', 'D7', 'A19',\n",
       "       'B49', 'D', 'C22 C26', 'C106', 'C65', 'E36', 'C54',\n",
       "       'B57 B59 B63 B66', 'C7', 'E34', 'C32', 'B18', 'C124', 'C91', 'E40',\n",
       "       'T', 'C128', 'D37', 'B35', 'E50', 'C82', 'B96 B98', 'E10', 'E44',\n",
       "       'A34', 'C104', 'C111', 'C92', 'E38', 'D21', 'E12', 'E63', 'A14',\n",
       "       'B37', 'C30', 'D20', 'B79', 'E25', 'D46', 'B73', 'C95', 'B38',\n",
       "       'B39', 'B22', 'C86', 'C70', 'A16', 'C101', 'C68', 'A10', 'E68',\n",
       "       'B41', 'A20', 'D19', 'D50', 'D9', 'A23', 'B50', 'A26', 'D48',\n",
       "       'E58', 'C126', 'B71', 'B51 B53 B55', 'D49', 'B5', 'B20', 'F G63',\n",
       "       'C62 C64', 'E24', 'C90', 'C45', 'E8', 'B101', 'D45', 'C46', 'D30',\n",
       "       'E121', 'D11', 'E77', 'F38', 'B3', 'D6', 'B82 B84', 'D17', 'A36',\n",
       "       'B102', 'B69', 'E49', 'C47', 'D28', 'E17', 'A24', 'C50', 'B42',\n",
       "       'C148'], dtype=object)"
      ]
     },
     "execution_count": 73,
     "metadata": {},
     "output_type": "execute_result"
    }
   ],
   "source": [
    "train_df[\"Cabin\"].unique()"
   ]
  },
  {
   "cell_type": "markdown",
   "metadata": {},
   "source": [
    "Number of observations for each unique cabin name"
   ]
  },
  {
   "cell_type": "code",
   "execution_count": 74,
   "metadata": {
    "ExecuteTime": {
     "end_time": "2020-11-04T04:18:29.645067Z",
     "start_time": "2020-11-04T04:18:29.625082Z"
    }
   },
   "outputs": [
    {
     "data": {
      "text/plain": [
       "G6             4\n",
       "C23 C25 C27    4\n",
       "B96 B98        4\n",
       "E101           3\n",
       "D              3\n",
       "              ..\n",
       "D21            1\n",
       "D28            1\n",
       "B78            1\n",
       "C50            1\n",
       "E63            1\n",
       "Name: Cabin, Length: 147, dtype: int64"
      ]
     },
     "execution_count": 74,
     "metadata": {},
     "output_type": "execute_result"
    }
   ],
   "source": [
    "train_df[\"Cabin\"].value_counts()"
   ]
  },
  {
   "cell_type": "markdown",
   "metadata": {},
   "source": [
    "Number of Null values"
   ]
  },
  {
   "cell_type": "code",
   "execution_count": 75,
   "metadata": {
    "ExecuteTime": {
     "end_time": "2020-11-04T04:18:30.200546Z",
     "start_time": "2020-11-04T04:18:30.178649Z"
    }
   },
   "outputs": [
    {
     "data": {
      "text/plain": [
       "687"
      ]
     },
     "execution_count": 75,
     "metadata": {},
     "output_type": "execute_result"
    }
   ],
   "source": [
    "train_df[\"Cabin\"].isnull().sum()"
   ]
  },
  {
   "cell_type": "markdown",
   "metadata": {},
   "source": [
    "Number of Non-Null values"
   ]
  },
  {
   "cell_type": "code",
   "execution_count": 76,
   "metadata": {
    "ExecuteTime": {
     "end_time": "2020-11-04T04:18:30.755099Z",
     "start_time": "2020-11-04T04:18:30.735116Z"
    }
   },
   "outputs": [
    {
     "data": {
      "text/plain": [
       "204"
      ]
     },
     "execution_count": 76,
     "metadata": {},
     "output_type": "execute_result"
    }
   ],
   "source": [
    "train_df[\"Cabin\"].count()"
   ]
  },
  {
   "cell_type": "markdown",
   "metadata": {},
   "source": [
    "### Building Cabin Name Column"
   ]
  },
  {
   "cell_type": "markdown",
   "metadata": {},
   "source": [
    "The regular expression below extracts the letter from the cabin names"
   ]
  },
  {
   "cell_type": "code",
   "execution_count": 77,
   "metadata": {
    "ExecuteTime": {
     "end_time": "2020-11-04T04:18:31.849137Z",
     "start_time": "2020-11-04T04:18:31.832183Z"
    }
   },
   "outputs": [
    {
     "data": {
      "text/html": [
       "<div>\n",
       "<style scoped>\n",
       "    .dataframe tbody tr th:only-of-type {\n",
       "        vertical-align: middle;\n",
       "    }\n",
       "\n",
       "    .dataframe tbody tr th {\n",
       "        vertical-align: top;\n",
       "    }\n",
       "\n",
       "    .dataframe thead th {\n",
       "        text-align: right;\n",
       "    }\n",
       "</style>\n",
       "<table border=\"1\" class=\"dataframe\">\n",
       "  <thead>\n",
       "    <tr style=\"text-align: right;\">\n",
       "      <th></th>\n",
       "      <th>cabin_chars</th>\n",
       "      <th>Survived</th>\n",
       "    </tr>\n",
       "  </thead>\n",
       "  <tbody>\n",
       "    <tr>\n",
       "      <th>0</th>\n",
       "      <td>NaN</td>\n",
       "      <td>0</td>\n",
       "    </tr>\n",
       "    <tr>\n",
       "      <th>1</th>\n",
       "      <td>C</td>\n",
       "      <td>1</td>\n",
       "    </tr>\n",
       "    <tr>\n",
       "      <th>2</th>\n",
       "      <td>NaN</td>\n",
       "      <td>1</td>\n",
       "    </tr>\n",
       "    <tr>\n",
       "      <th>3</th>\n",
       "      <td>C</td>\n",
       "      <td>1</td>\n",
       "    </tr>\n",
       "    <tr>\n",
       "      <th>4</th>\n",
       "      <td>NaN</td>\n",
       "      <td>0</td>\n",
       "    </tr>\n",
       "  </tbody>\n",
       "</table>\n",
       "</div>"
      ],
      "text/plain": [
       "  cabin_chars  Survived\n",
       "0         NaN         0\n",
       "1           C         1\n",
       "2         NaN         1\n",
       "3           C         1\n",
       "4         NaN         0"
      ]
     },
     "execution_count": 77,
     "metadata": {},
     "output_type": "execute_result"
    }
   ],
   "source": [
    "cabin_chars = train_df[\"Cabin\"].str.extract(r\"([A-Z])\")\n",
    "cabin_chars = cabin_chars.rename(columns = {0:\"cabin_chars\"})\n",
    "\n",
    "cabin_chars[\"Survived\"] = train_df[\"Survived\"]\n",
    "cabin_chars.head()"
   ]
  },
  {
   "cell_type": "markdown",
   "metadata": {},
   "source": [
    "Checking whether the letters from each cabin name was extracted as expected"
   ]
  },
  {
   "cell_type": "code",
   "execution_count": 78,
   "metadata": {
    "ExecuteTime": {
     "end_time": "2020-11-04T04:18:32.387694Z",
     "start_time": "2020-11-04T04:18:32.374732Z"
    }
   },
   "outputs": [
    {
     "data": {
      "text/plain": [
       "204"
      ]
     },
     "execution_count": 78,
     "metadata": {},
     "output_type": "execute_result"
    }
   ],
   "source": [
    "cabin_chars[\"cabin_chars\"].count()"
   ]
  },
  {
   "cell_type": "markdown",
   "metadata": {},
   "source": [
    "The number of observations for each **Cabin** Letter"
   ]
  },
  {
   "cell_type": "code",
   "execution_count": 79,
   "metadata": {
    "ExecuteTime": {
     "end_time": "2020-11-04T04:18:32.941216Z",
     "start_time": "2020-11-04T04:18:32.929247Z"
    }
   },
   "outputs": [
    {
     "data": {
      "text/plain": [
       "C    59\n",
       "B    47\n",
       "D    33\n",
       "E    32\n",
       "A    15\n",
       "F    13\n",
       "G     4\n",
       "T     1\n",
       "Name: cabin_chars, dtype: int64"
      ]
     },
     "execution_count": 79,
     "metadata": {},
     "output_type": "execute_result"
    }
   ],
   "source": [
    "cabin_chars[\"cabin_chars\"].value_counts()"
   ]
  },
  {
   "cell_type": "markdown",
   "metadata": {},
   "source": [
    "Filling Null values in this column by the string **\"Missing\"**"
   ]
  },
  {
   "cell_type": "code",
   "execution_count": 80,
   "metadata": {
    "ExecuteTime": {
     "end_time": "2020-11-04T04:18:33.495744Z",
     "start_time": "2020-11-04T04:18:33.486756Z"
    }
   },
   "outputs": [],
   "source": [
    "cabin_chars[\"cabin_chars\"] = cabin_chars[\"cabin_chars\"].fillna(\"Missing\")"
   ]
  },
  {
   "cell_type": "markdown",
   "metadata": {},
   "source": [
    "Histogram showing the number of survivors and non-survivors for each **Cabin** Letter "
   ]
  },
  {
   "cell_type": "code",
   "execution_count": 81,
   "metadata": {
    "ExecuteTime": {
     "end_time": "2020-11-04T04:18:34.582824Z",
     "start_time": "2020-11-04T04:18:34.275688Z"
    }
   },
   "outputs": [
    {
     "data": {
      "image/png": "[encoded data removed]",
      "text/plain": [
       "<Figure size 432x288 with 1 Axes>"
      ]
     },
     "metadata": {},
     "output_type": "display_data"
    }
   ],
   "source": [
    "cabin_chars[\"Survived\"] = train_df[\"Survived\"]\n",
    "cabin_chars.groupby(by = \"cabin_chars\")[\"Survived\"].value_counts().unstack().drop([\"Missing\"], axis = 0).plot.bar()\n",
    "plt.show()"
   ]
  },
  {
   "cell_type": "markdown",
   "metadata": {},
   "source": [
    "This Histogram does not show the data for **\"Missing\"** cabin name. In general there are high chancces of survial for almost all these cabin names. Espicially from **\"B\" to \"F\"**."
   ]
  },
  {
   "cell_type": "markdown",
   "metadata": {},
   "source": [
    "This histogram shows the comparision for missing cabin names as well"
   ]
  },
  {
   "cell_type": "code",
   "execution_count": 82,
   "metadata": {
    "ExecuteTime": {
     "end_time": "2020-11-04T04:18:35.921247Z",
     "start_time": "2020-11-04T04:18:35.643989Z"
    }
   },
   "outputs": [
    {
     "data": {
      "image/png": "[encoded data removed]",
      "text/plain": [
       "<Figure size 432x288 with 1 Axes>"
      ]
     },
     "metadata": {},
     "output_type": "display_data"
    }
   ],
   "source": [
    "cabin_chars.groupby(by = \"cabin_chars\")[\"Survived\"].value_counts().unstack().plot.bar()\n",
    "plt.show()"
   ]
  },
  {
   "cell_type": "markdown",
   "metadata": {},
   "source": [
    "For most of the missing values, the passengers did not make it."
   ]
  },
  {
   "cell_type": "markdown",
   "metadata": {},
   "source": [
    "There is a reatively strong positive correlation between the survivors and the cabin names."
   ]
  },
  {
   "cell_type": "code",
   "execution_count": 83,
   "metadata": {
    "ExecuteTime": {
     "end_time": "2020-11-04T04:18:37.206808Z",
     "start_time": "2020-11-04T04:18:36.967451Z"
    }
   },
   "outputs": [
    {
     "data": {
      "image/png": "[encoded data removed]",
      "text/plain": [
       "<Figure size 432x288 with 2 Axes>"
      ]
     },
     "metadata": {},
     "output_type": "display_data"
    }
   ],
   "source": [
    "cabin_chars[\"Cabin_labels\"] = cabin_chars[\"cabin_chars\"].map({\"Missing\":0,\n",
    "                                                            \"A\": 1, \"B\": 2, \"C\": 3, \"D\": 4,\n",
    "                                                            \"E\": 5, \"F\": 6, \"G\": 7, \"T\": 8})\n",
    "\n",
    "sns.heatmap(cabin_chars[[\"Survived\", \"Cabin_labels\"]].corr(), annot = True)\n",
    "plt.show()"
   ]
  },
  {
   "cell_type": "code",
   "execution_count": 84,
   "metadata": {
    "ExecuteTime": {
     "end_time": "2020-11-04T04:18:37.222765Z",
     "start_time": "2020-11-04T04:18:37.209802Z"
    }
   },
   "outputs": [],
   "source": [
    "train_df[\"Cabin_Names\"] = train_df[\"Cabin\"].str.extract(r\"([A-Z])\").values"
   ]
  },
  {
   "cell_type": "markdown",
   "metadata": {},
   "source": [
    "## Ticket"
   ]
  },
  {
   "cell_type": "markdown",
   "metadata": {},
   "source": [
    "Number of Null values"
   ]
  },
  {
   "cell_type": "code",
   "execution_count": 85,
   "metadata": {
    "ExecuteTime": {
     "end_time": "2020-11-04T04:18:38.234065Z",
     "start_time": "2020-11-04T04:18:38.219104Z"
    }
   },
   "outputs": [
    {
     "data": {
      "text/plain": [
       "0"
      ]
     },
     "execution_count": 85,
     "metadata": {},
     "output_type": "execute_result"
    }
   ],
   "source": [
    "train_df[\"Ticket\"].isnull().sum()"
   ]
  },
  {
   "cell_type": "markdown",
   "metadata": {},
   "source": [
    "Number of unique values"
   ]
  },
  {
   "cell_type": "code",
   "execution_count": 86,
   "metadata": {
    "ExecuteTime": {
     "end_time": "2020-11-04T04:18:38.804323Z",
     "start_time": "2020-11-04T04:18:38.790319Z"
    }
   },
   "outputs": [
    {
     "data": {
      "text/plain": [
       "681"
      ]
     },
     "execution_count": 86,
     "metadata": {},
     "output_type": "execute_result"
    }
   ],
   "source": [
    "train_df[\"Ticket\"].nunique()"
   ]
  },
  {
   "cell_type": "markdown",
   "metadata": {},
   "source": [
    "Looking at the structure of the data"
   ]
  },
  {
   "cell_type": "code",
   "execution_count": 87,
   "metadata": {
    "ExecuteTime": {
     "end_time": "2020-11-04T04:18:39.375485Z",
     "start_time": "2020-11-04T04:18:39.367507Z"
    }
   },
   "outputs": [
    {
     "data": {
      "text/plain": [
       "0             A/5 21171\n",
       "1              PC 17599\n",
       "2      STON/O2. 3101282\n",
       "3                113803\n",
       "4                373450\n",
       "             ...       \n",
       "886              211536\n",
       "887              112053\n",
       "888          W./C. 6607\n",
       "889              111369\n",
       "890              370376\n",
       "Name: Ticket, Length: 891, dtype: object"
      ]
     },
     "execution_count": 87,
     "metadata": {},
     "output_type": "execute_result"
    }
   ],
   "source": [
    "train_df[\"Ticket\"]"
   ]
  },
  {
   "cell_type": "markdown",
   "metadata": {},
   "source": [
    "There are certain letters in some tickets, and then there are some tickets with no letters."
   ]
  },
  {
   "cell_type": "markdown",
   "metadata": {},
   "source": [
    "Making a new column that contain 1 if there is any letter in the Ticket, and 0 otherwise."
   ]
  },
  {
   "cell_type": "code",
   "execution_count": 88,
   "metadata": {
    "ExecuteTime": {
     "end_time": "2020-11-04T04:18:40.561183Z",
     "start_time": "2020-11-04T04:18:40.531266Z"
    }
   },
   "outputs": [
    {
     "data": {
      "text/html": [
       "<div>\n",
       "<style scoped>\n",
       "    .dataframe tbody tr th:only-of-type {\n",
       "        vertical-align: middle;\n",
       "    }\n",
       "\n",
       "    .dataframe tbody tr th {\n",
       "        vertical-align: top;\n",
       "    }\n",
       "\n",
       "    .dataframe thead th {\n",
       "        text-align: right;\n",
       "    }\n",
       "</style>\n",
       "<table border=\"1\" class=\"dataframe\">\n",
       "  <thead>\n",
       "    <tr style=\"text-align: right;\">\n",
       "      <th></th>\n",
       "      <th>Ticket_Letters</th>\n",
       "      <th>Is_Ticket_Letter</th>\n",
       "      <th>Survived</th>\n",
       "    </tr>\n",
       "  </thead>\n",
       "  <tbody>\n",
       "    <tr>\n",
       "      <th>0</th>\n",
       "      <td>A</td>\n",
       "      <td>1</td>\n",
       "      <td>0</td>\n",
       "    </tr>\n",
       "    <tr>\n",
       "      <th>1</th>\n",
       "      <td>P</td>\n",
       "      <td>1</td>\n",
       "      <td>1</td>\n",
       "    </tr>\n",
       "    <tr>\n",
       "      <th>2</th>\n",
       "      <td>S</td>\n",
       "      <td>1</td>\n",
       "      <td>1</td>\n",
       "    </tr>\n",
       "    <tr>\n",
       "      <th>3</th>\n",
       "      <td>NaN</td>\n",
       "      <td>0</td>\n",
       "      <td>1</td>\n",
       "    </tr>\n",
       "    <tr>\n",
       "      <th>4</th>\n",
       "      <td>NaN</td>\n",
       "      <td>0</td>\n",
       "      <td>0</td>\n",
       "    </tr>\n",
       "  </tbody>\n",
       "</table>\n",
       "</div>"
      ],
      "text/plain": [
       "  Ticket_Letters  Is_Ticket_Letter  Survived\n",
       "0              A                 1         0\n",
       "1              P                 1         1\n",
       "2              S                 1         1\n",
       "3            NaN                 0         1\n",
       "4            NaN                 0         0"
      ]
     },
     "execution_count": 88,
     "metadata": {},
     "output_type": "execute_result"
    }
   ],
   "source": [
    "ticket_letters = train_df[\"Ticket\"].str.extract(\"([A-Z])\")\n",
    "ticket_letters = ticket_letters.rename(columns = {0: \"Ticket_Letters\"})\n",
    "\n",
    "ticket_letters[\"Is_Ticket_Letter\"] = np.where(ticket_letters[\"Ticket_Letters\"].isnull(), 0, 1)\n",
    "\n",
    "ticket_letters[\"Survived\"] = train_df[\"Survived\"]\n",
    "\n",
    "ticket_letters.head()"
   ]
  },
  {
   "cell_type": "markdown",
   "metadata": {},
   "source": [
    "Histogram showing the number of survivors for each value in this new column"
   ]
  },
  {
   "cell_type": "code",
   "execution_count": 89,
   "metadata": {
    "ExecuteTime": {
     "end_time": "2020-11-04T04:18:41.564500Z",
     "start_time": "2020-11-04T04:18:41.273281Z"
    }
   },
   "outputs": [
    {
     "data": {
      "image/png": "[encoded data removed]",
      "text/plain": [
       "<Figure size 432x288 with 1 Axes>"
      ]
     },
     "metadata": {},
     "output_type": "display_data"
    }
   ],
   "source": [
    "ticket_letters.groupby(by = \"Is_Ticket_Letter\")[\"Survived\"].value_counts().unstack().plot.bar()\n",
    "plt.show()"
   ]
  },
  {
   "cell_type": "markdown",
   "metadata": {},
   "source": [
    "The Histogram shows that there was an almost equal percentage of survival chances if a passengers ticket had letter or otherwise."
   ]
  },
  {
   "cell_type": "markdown",
   "metadata": {},
   "source": [
    "The heatmap shows negligible correlation between **Survived** and whether the Ticket had any letters or not."
   ]
  },
  {
   "cell_type": "code",
   "execution_count": 90,
   "metadata": {
    "ExecuteTime": {
     "end_time": "2020-11-04T04:18:42.772271Z",
     "start_time": "2020-11-04T04:18:42.564827Z"
    }
   },
   "outputs": [
    {
     "data": {
      "image/png": "[encoded data removed]",
      "text/plain": [
       "<Figure size 432x288 with 2 Axes>"
      ]
     },
     "metadata": {},
     "output_type": "display_data"
    }
   ],
   "source": [
    "sns.heatmap(ticket_letters[[\"Survived\", \"Is_Ticket_Letter\"]].corr(), annot = True)\n",
    "plt.show()"
   ]
  },
  {
   "cell_type": "markdown",
   "metadata": {},
   "source": [
    "# Exploring Interaction of Columns"
   ]
  },
  {
   "cell_type": "markdown",
   "metadata": {},
   "source": [
    "## Survived vs Sex-Pclass"
   ]
  },
  {
   "cell_type": "code",
   "execution_count": 91,
   "metadata": {
    "ExecuteTime": {
     "end_time": "2020-11-04T04:18:44.052848Z",
     "start_time": "2020-11-04T04:18:43.761668Z"
    }
   },
   "outputs": [
    {
     "data": {
      "text/html": [
       "<style  type=\"text/css\" >\n",
       "    #T_d38fb4c0_1e54_11eb_9c02_30e37a1ca59drow0_col0 {\n",
       "            background-color:  #ffff66;\n",
       "            color:  #000000;\n",
       "        }    #T_d38fb4c0_1e54_11eb_9c02_30e37a1ca59drow0_col1 {\n",
       "            background-color:  #ffff66;\n",
       "            color:  #000000;\n",
       "        }    #T_d38fb4c0_1e54_11eb_9c02_30e37a1ca59drow0_col2 {\n",
       "            background-color:  #ffff66;\n",
       "            color:  #000000;\n",
       "        }    #T_d38fb4c0_1e54_11eb_9c02_30e37a1ca59drow0_col3 {\n",
       "            background-color:  #95ca66;\n",
       "            color:  #000000;\n",
       "        }    #T_d38fb4c0_1e54_11eb_9c02_30e37a1ca59drow0_col4 {\n",
       "            background-color:  #2f9766;\n",
       "            color:  #000000;\n",
       "        }    #T_d38fb4c0_1e54_11eb_9c02_30e37a1ca59drow0_col5 {\n",
       "            background-color:  #289366;\n",
       "            color:  #000000;\n",
       "        }    #T_d38fb4c0_1e54_11eb_9c02_30e37a1ca59drow0_col6 {\n",
       "            background-color:  #9fcf66;\n",
       "            color:  #000000;\n",
       "        }    #T_d38fb4c0_1e54_11eb_9c02_30e37a1ca59drow1_col0 {\n",
       "            background-color:  #088466;\n",
       "            color:  #f1f1f1;\n",
       "        }    #T_d38fb4c0_1e54_11eb_9c02_30e37a1ca59drow1_col1 {\n",
       "            background-color:  #158a66;\n",
       "            color:  #000000;\n",
       "        }    #T_d38fb4c0_1e54_11eb_9c02_30e37a1ca59drow1_col2 {\n",
       "            background-color:  #ffff66;\n",
       "            color:  #000000;\n",
       "        }    #T_d38fb4c0_1e54_11eb_9c02_30e37a1ca59drow1_col3 {\n",
       "            background-color:  #ffff66;\n",
       "            color:  #000000;\n",
       "        }    #T_d38fb4c0_1e54_11eb_9c02_30e37a1ca59drow1_col4 {\n",
       "            background-color:  #ffff66;\n",
       "            color:  #000000;\n",
       "        }    #T_d38fb4c0_1e54_11eb_9c02_30e37a1ca59drow1_col5 {\n",
       "            background-color:  #ffff66;\n",
       "            color:  #000000;\n",
       "        }    #T_d38fb4c0_1e54_11eb_9c02_30e37a1ca59drow1_col6 {\n",
       "            background-color:  #ffff66;\n",
       "            color:  #000000;\n",
       "        }    #T_d38fb4c0_1e54_11eb_9c02_30e37a1ca59drow2_col0 {\n",
       "            background-color:  #008066;\n",
       "            color:  #f1f1f1;\n",
       "        }    #T_d38fb4c0_1e54_11eb_9c02_30e37a1ca59drow2_col1 {\n",
       "            background-color:  #008066;\n",
       "            color:  #f1f1f1;\n",
       "        }    #T_d38fb4c0_1e54_11eb_9c02_30e37a1ca59drow2_col2 {\n",
       "            background-color:  #008066;\n",
       "            color:  #f1f1f1;\n",
       "        }    #T_d38fb4c0_1e54_11eb_9c02_30e37a1ca59drow2_col3 {\n",
       "            background-color:  #008066;\n",
       "            color:  #f1f1f1;\n",
       "        }    #T_d38fb4c0_1e54_11eb_9c02_30e37a1ca59drow2_col4 {\n",
       "            background-color:  #008066;\n",
       "            color:  #f1f1f1;\n",
       "        }    #T_d38fb4c0_1e54_11eb_9c02_30e37a1ca59drow2_col5 {\n",
       "            background-color:  #008066;\n",
       "            color:  #f1f1f1;\n",
       "        }    #T_d38fb4c0_1e54_11eb_9c02_30e37a1ca59drow2_col6 {\n",
       "            background-color:  #008066;\n",
       "            color:  #f1f1f1;\n",
       "        }</style><table id=\"T_d38fb4c0_1e54_11eb_9c02_30e37a1ca59d\" ><thead>    <tr>        <th class=\"index_name level0\" >Sex</th>        <th class=\"col_heading level0 col0\" colspan=3>female</th>        <th class=\"col_heading level0 col3\" colspan=3>male</th>        <th class=\"col_heading level0 col6\" >All</th>    </tr>    <tr>        <th class=\"index_name level1\" >Pclass</th>        <th class=\"col_heading level1 col0\" >1</th>        <th class=\"col_heading level1 col1\" >2</th>        <th class=\"col_heading level1 col2\" >3</th>        <th class=\"col_heading level1 col3\" >1</th>        <th class=\"col_heading level1 col4\" >2</th>        <th class=\"col_heading level1 col5\" >3</th>        <th class=\"col_heading level1 col6\" ></th>    </tr>    <tr>        <th class=\"index_name level0\" >Survived</th>        <th class=\"blank\" ></th>        <th class=\"blank\" ></th>        <th class=\"blank\" ></th>        <th class=\"blank\" ></th>        <th class=\"blank\" ></th>        <th class=\"blank\" ></th>        <th class=\"blank\" ></th>    </tr></thead><tbody>\n",
       "                <tr>\n",
       "                        <th id=\"T_d38fb4c0_1e54_11eb_9c02_30e37a1ca59dlevel0_row0\" class=\"row_heading level0 row0\" >0</th>\n",
       "                        <td id=\"T_d38fb4c0_1e54_11eb_9c02_30e37a1ca59drow0_col0\" class=\"data row0 col0\" >3</td>\n",
       "                        <td id=\"T_d38fb4c0_1e54_11eb_9c02_30e37a1ca59drow0_col1\" class=\"data row0 col1\" >6</td>\n",
       "                        <td id=\"T_d38fb4c0_1e54_11eb_9c02_30e37a1ca59drow0_col2\" class=\"data row0 col2\" >72</td>\n",
       "                        <td id=\"T_d38fb4c0_1e54_11eb_9c02_30e37a1ca59drow0_col3\" class=\"data row0 col3\" >77</td>\n",
       "                        <td id=\"T_d38fb4c0_1e54_11eb_9c02_30e37a1ca59drow0_col4\" class=\"data row0 col4\" >91</td>\n",
       "                        <td id=\"T_d38fb4c0_1e54_11eb_9c02_30e37a1ca59drow0_col5\" class=\"data row0 col5\" >300</td>\n",
       "                        <td id=\"T_d38fb4c0_1e54_11eb_9c02_30e37a1ca59drow0_col6\" class=\"data row0 col6\" >549</td>\n",
       "            </tr>\n",
       "            <tr>\n",
       "                        <th id=\"T_d38fb4c0_1e54_11eb_9c02_30e37a1ca59dlevel0_row1\" class=\"row_heading level0 row1\" >1</th>\n",
       "                        <td id=\"T_d38fb4c0_1e54_11eb_9c02_30e37a1ca59drow1_col0\" class=\"data row1 col0\" >91</td>\n",
       "                        <td id=\"T_d38fb4c0_1e54_11eb_9c02_30e37a1ca59drow1_col1\" class=\"data row1 col1\" >70</td>\n",
       "                        <td id=\"T_d38fb4c0_1e54_11eb_9c02_30e37a1ca59drow1_col2\" class=\"data row1 col2\" >72</td>\n",
       "                        <td id=\"T_d38fb4c0_1e54_11eb_9c02_30e37a1ca59drow1_col3\" class=\"data row1 col3\" >45</td>\n",
       "                        <td id=\"T_d38fb4c0_1e54_11eb_9c02_30e37a1ca59drow1_col4\" class=\"data row1 col4\" >17</td>\n",
       "                        <td id=\"T_d38fb4c0_1e54_11eb_9c02_30e37a1ca59drow1_col5\" class=\"data row1 col5\" >47</td>\n",
       "                        <td id=\"T_d38fb4c0_1e54_11eb_9c02_30e37a1ca59drow1_col6\" class=\"data row1 col6\" >342</td>\n",
       "            </tr>\n",
       "            <tr>\n",
       "                        <th id=\"T_d38fb4c0_1e54_11eb_9c02_30e37a1ca59dlevel0_row2\" class=\"row_heading level0 row2\" >All</th>\n",
       "                        <td id=\"T_d38fb4c0_1e54_11eb_9c02_30e37a1ca59drow2_col0\" class=\"data row2 col0\" >94</td>\n",
       "                        <td id=\"T_d38fb4c0_1e54_11eb_9c02_30e37a1ca59drow2_col1\" class=\"data row2 col1\" >76</td>\n",
       "                        <td id=\"T_d38fb4c0_1e54_11eb_9c02_30e37a1ca59drow2_col2\" class=\"data row2 col2\" >144</td>\n",
       "                        <td id=\"T_d38fb4c0_1e54_11eb_9c02_30e37a1ca59drow2_col3\" class=\"data row2 col3\" >122</td>\n",
       "                        <td id=\"T_d38fb4c0_1e54_11eb_9c02_30e37a1ca59drow2_col4\" class=\"data row2 col4\" >108</td>\n",
       "                        <td id=\"T_d38fb4c0_1e54_11eb_9c02_30e37a1ca59drow2_col5\" class=\"data row2 col5\" >347</td>\n",
       "                        <td id=\"T_d38fb4c0_1e54_11eb_9c02_30e37a1ca59drow2_col6\" class=\"data row2 col6\" >891</td>\n",
       "            </tr>\n",
       "    </tbody></table>"
      ],
      "text/plain": [
       "<pandas.io.formats.style.Styler at 0x218f2182148>"
      ]
     },
     "execution_count": 91,
     "metadata": {},
     "output_type": "execute_result"
    }
   ],
   "source": [
    "pd.crosstab(\n",
    "            [train_df[\"Survived\"]], [train_df[\"Sex\"], train_df[\"Pclass\"]],\n",
    "            margins = True\n",
    "            ).style.background_gradient(cmap = \"summer_r\")"
   ]
  },
  {
   "cell_type": "code",
   "execution_count": 92,
   "metadata": {
    "ExecuteTime": {
     "end_time": "2020-11-04T04:18:44.371994Z",
     "start_time": "2020-11-04T04:18:44.055840Z"
    }
   },
   "outputs": [
    {
     "data": {
      "image/png": "[encoded data removed]",
      "text/plain": [
       "<Figure size 432x288 with 1 Axes>"
      ]
     },
     "metadata": {},
     "output_type": "display_data"
    }
   ],
   "source": [
    "ct_df = pd.crosstab(\n",
    "                    [train_df[\"Survived\"]], [train_df[\"Sex\"], train_df[\"Pclass\"]],\n",
    "                    margins = True\n",
    "                    )\n",
    "\n",
    "ct_df = ct_df.drop([\"All\"], axis = 1)\n",
    "ct_df = ct_df.drop([\"All\"], axis = 0)\n",
    "\n",
    "ct_df.plot.bar(stacked = True)\n",
    "plt.legend(bbox_to_anchor=(0., 1.02, 1., .102), loc='lower left', ncol=2, mode=\"expand\", borderaxespad=0.)\n",
    "plt.show()"
   ]
  },
  {
   "cell_type": "markdown",
   "metadata": {},
   "source": [
    "## Survived vs Pclass-Embarked"
   ]
  },
  {
   "cell_type": "code",
   "execution_count": 93,
   "metadata": {
    "ExecuteTime": {
     "end_time": "2020-11-04T04:18:44.672279Z",
     "start_time": "2020-11-04T04:18:44.513745Z"
    }
   },
   "outputs": [
    {
     "data": {
      "text/html": [
       "<style  type=\"text/css\" >\n",
       "    #T_d3ec8ccc_1e54_11eb_b177_30e37a1ca59drow0_col0 {\n",
       "            background-color:  #ffff66;\n",
       "            color:  #000000;\n",
       "        }    #T_d3ec8ccc_1e54_11eb_b177_30e37a1ca59drow0_col1 {\n",
       "            background-color:  #ffff66;\n",
       "            color:  #000000;\n",
       "        }    #T_d3ec8ccc_1e54_11eb_b177_30e37a1ca59drow0_col2 {\n",
       "            background-color:  #ffff66;\n",
       "            color:  #000000;\n",
       "        }    #T_d3ec8ccc_1e54_11eb_b177_30e37a1ca59drow0_col3 {\n",
       "            background-color:  #ffff66;\n",
       "            color:  #000000;\n",
       "        }    #T_d3ec8ccc_1e54_11eb_b177_30e37a1ca59drow0_col4 {\n",
       "            background-color:  #ffff66;\n",
       "            color:  #000000;\n",
       "        }    #T_d3ec8ccc_1e54_11eb_b177_30e37a1ca59drow0_col5 {\n",
       "            background-color:  #ddee66;\n",
       "            color:  #000000;\n",
       "        }    #T_d3ec8ccc_1e54_11eb_b177_30e37a1ca59drow0_col6 {\n",
       "            background-color:  #9cce66;\n",
       "            color:  #000000;\n",
       "        }    #T_d3ec8ccc_1e54_11eb_b177_30e37a1ca59drow0_col7 {\n",
       "            background-color:  #99cc66;\n",
       "            color:  #000000;\n",
       "        }    #T_d3ec8ccc_1e54_11eb_b177_30e37a1ca59drow0_col8 {\n",
       "            background-color:  #3b9d66;\n",
       "            color:  #000000;\n",
       "        }    #T_d3ec8ccc_1e54_11eb_b177_30e37a1ca59drow0_col9 {\n",
       "            background-color:  #9fcf66;\n",
       "            color:  #000000;\n",
       "        }    #T_d3ec8ccc_1e54_11eb_b177_30e37a1ca59drow1_col0 {\n",
       "            background-color:  #70b866;\n",
       "            color:  #000000;\n",
       "        }    #T_d3ec8ccc_1e54_11eb_b177_30e37a1ca59drow1_col1 {\n",
       "            background-color:  #ffff66;\n",
       "            color:  #000000;\n",
       "        }    #T_d3ec8ccc_1e54_11eb_b177_30e37a1ca59drow1_col2 {\n",
       "            background-color:  #b2d866;\n",
       "            color:  #000000;\n",
       "        }    #T_d3ec8ccc_1e54_11eb_b177_30e37a1ca59drow1_col3 {\n",
       "            background-color:  #e3f166;\n",
       "            color:  #000000;\n",
       "        }    #T_d3ec8ccc_1e54_11eb_b177_30e37a1ca59drow1_col4 {\n",
       "            background-color:  #7fbf66;\n",
       "            color:  #000000;\n",
       "        }    #T_d3ec8ccc_1e54_11eb_b177_30e37a1ca59drow1_col5 {\n",
       "            background-color:  #ffff66;\n",
       "            color:  #000000;\n",
       "        }    #T_d3ec8ccc_1e54_11eb_b177_30e37a1ca59drow1_col6 {\n",
       "            background-color:  #ffff66;\n",
       "            color:  #000000;\n",
       "        }    #T_d3ec8ccc_1e54_11eb_b177_30e37a1ca59drow1_col7 {\n",
       "            background-color:  #ffff66;\n",
       "            color:  #000000;\n",
       "        }    #T_d3ec8ccc_1e54_11eb_b177_30e37a1ca59drow1_col8 {\n",
       "            background-color:  #ffff66;\n",
       "            color:  #000000;\n",
       "        }    #T_d3ec8ccc_1e54_11eb_b177_30e37a1ca59drow1_col9 {\n",
       "            background-color:  #ffff66;\n",
       "            color:  #000000;\n",
       "        }    #T_d3ec8ccc_1e54_11eb_b177_30e37a1ca59drow2_col0 {\n",
       "            background-color:  #008066;\n",
       "            color:  #f1f1f1;\n",
       "        }    #T_d3ec8ccc_1e54_11eb_b177_30e37a1ca59drow2_col1 {\n",
       "            background-color:  #008066;\n",
       "            color:  #f1f1f1;\n",
       "        }    #T_d3ec8ccc_1e54_11eb_b177_30e37a1ca59drow2_col2 {\n",
       "            background-color:  #008066;\n",
       "            color:  #f1f1f1;\n",
       "        }    #T_d3ec8ccc_1e54_11eb_b177_30e37a1ca59drow2_col3 {\n",
       "            background-color:  #008066;\n",
       "            color:  #f1f1f1;\n",
       "        }    #T_d3ec8ccc_1e54_11eb_b177_30e37a1ca59drow2_col4 {\n",
       "            background-color:  #008066;\n",
       "            color:  #f1f1f1;\n",
       "        }    #T_d3ec8ccc_1e54_11eb_b177_30e37a1ca59drow2_col5 {\n",
       "            background-color:  #008066;\n",
       "            color:  #f1f1f1;\n",
       "        }    #T_d3ec8ccc_1e54_11eb_b177_30e37a1ca59drow2_col6 {\n",
       "            background-color:  #008066;\n",
       "            color:  #f1f1f1;\n",
       "        }    #T_d3ec8ccc_1e54_11eb_b177_30e37a1ca59drow2_col7 {\n",
       "            background-color:  #008066;\n",
       "            color:  #f1f1f1;\n",
       "        }    #T_d3ec8ccc_1e54_11eb_b177_30e37a1ca59drow2_col8 {\n",
       "            background-color:  #008066;\n",
       "            color:  #f1f1f1;\n",
       "        }    #T_d3ec8ccc_1e54_11eb_b177_30e37a1ca59drow2_col9 {\n",
       "            background-color:  #008066;\n",
       "            color:  #f1f1f1;\n",
       "        }</style><table id=\"T_d3ec8ccc_1e54_11eb_b177_30e37a1ca59d\" ><thead>    <tr>        <th class=\"index_name level0\" >Pclass</th>        <th class=\"col_heading level0 col0\" colspan=3>1</th>        <th class=\"col_heading level0 col3\" colspan=3>2</th>        <th class=\"col_heading level0 col6\" colspan=3>3</th>        <th class=\"col_heading level0 col9\" >All</th>    </tr>    <tr>        <th class=\"index_name level1\" >Embarked</th>        <th class=\"col_heading level1 col0\" >C</th>        <th class=\"col_heading level1 col1\" >Q</th>        <th class=\"col_heading level1 col2\" >S</th>        <th class=\"col_heading level1 col3\" >C</th>        <th class=\"col_heading level1 col4\" >Q</th>        <th class=\"col_heading level1 col5\" >S</th>        <th class=\"col_heading level1 col6\" >C</th>        <th class=\"col_heading level1 col7\" >Q</th>        <th class=\"col_heading level1 col8\" >S</th>        <th class=\"col_heading level1 col9\" ></th>    </tr>    <tr>        <th class=\"index_name level0\" >Survived</th>        <th class=\"blank\" ></th>        <th class=\"blank\" ></th>        <th class=\"blank\" ></th>        <th class=\"blank\" ></th>        <th class=\"blank\" ></th>        <th class=\"blank\" ></th>        <th class=\"blank\" ></th>        <th class=\"blank\" ></th>        <th class=\"blank\" ></th>        <th class=\"blank\" ></th>    </tr></thead><tbody>\n",
       "                <tr>\n",
       "                        <th id=\"T_d3ec8ccc_1e54_11eb_b177_30e37a1ca59dlevel0_row0\" class=\"row_heading level0 row0\" >0</th>\n",
       "                        <td id=\"T_d3ec8ccc_1e54_11eb_b177_30e37a1ca59drow0_col0\" class=\"data row0 col0\" >26</td>\n",
       "                        <td id=\"T_d3ec8ccc_1e54_11eb_b177_30e37a1ca59drow0_col1\" class=\"data row0 col1\" >1</td>\n",
       "                        <td id=\"T_d3ec8ccc_1e54_11eb_b177_30e37a1ca59drow0_col2\" class=\"data row0 col2\" >53</td>\n",
       "                        <td id=\"T_d3ec8ccc_1e54_11eb_b177_30e37a1ca59drow0_col3\" class=\"data row0 col3\" >8</td>\n",
       "                        <td id=\"T_d3ec8ccc_1e54_11eb_b177_30e37a1ca59drow0_col4\" class=\"data row0 col4\" >1</td>\n",
       "                        <td id=\"T_d3ec8ccc_1e54_11eb_b177_30e37a1ca59drow0_col5\" class=\"data row0 col5\" >88</td>\n",
       "                        <td id=\"T_d3ec8ccc_1e54_11eb_b177_30e37a1ca59drow0_col6\" class=\"data row0 col6\" >41</td>\n",
       "                        <td id=\"T_d3ec8ccc_1e54_11eb_b177_30e37a1ca59drow0_col7\" class=\"data row0 col7\" >45</td>\n",
       "                        <td id=\"T_d3ec8ccc_1e54_11eb_b177_30e37a1ca59drow0_col8\" class=\"data row0 col8\" >286</td>\n",
       "                        <td id=\"T_d3ec8ccc_1e54_11eb_b177_30e37a1ca59drow0_col9\" class=\"data row0 col9\" >549</td>\n",
       "            </tr>\n",
       "            <tr>\n",
       "                        <th id=\"T_d3ec8ccc_1e54_11eb_b177_30e37a1ca59dlevel0_row1\" class=\"row_heading level0 row1\" >1</th>\n",
       "                        <td id=\"T_d3ec8ccc_1e54_11eb_b177_30e37a1ca59drow1_col0\" class=\"data row1 col0\" >59</td>\n",
       "                        <td id=\"T_d3ec8ccc_1e54_11eb_b177_30e37a1ca59drow1_col1\" class=\"data row1 col1\" >1</td>\n",
       "                        <td id=\"T_d3ec8ccc_1e54_11eb_b177_30e37a1ca59drow1_col2\" class=\"data row1 col2\" >76</td>\n",
       "                        <td id=\"T_d3ec8ccc_1e54_11eb_b177_30e37a1ca59drow1_col3\" class=\"data row1 col3\" >9</td>\n",
       "                        <td id=\"T_d3ec8ccc_1e54_11eb_b177_30e37a1ca59drow1_col4\" class=\"data row1 col4\" >2</td>\n",
       "                        <td id=\"T_d3ec8ccc_1e54_11eb_b177_30e37a1ca59drow1_col5\" class=\"data row1 col5\" >76</td>\n",
       "                        <td id=\"T_d3ec8ccc_1e54_11eb_b177_30e37a1ca59drow1_col6\" class=\"data row1 col6\" >25</td>\n",
       "                        <td id=\"T_d3ec8ccc_1e54_11eb_b177_30e37a1ca59drow1_col7\" class=\"data row1 col7\" >27</td>\n",
       "                        <td id=\"T_d3ec8ccc_1e54_11eb_b177_30e37a1ca59drow1_col8\" class=\"data row1 col8\" >67</td>\n",
       "                        <td id=\"T_d3ec8ccc_1e54_11eb_b177_30e37a1ca59drow1_col9\" class=\"data row1 col9\" >342</td>\n",
       "            </tr>\n",
       "            <tr>\n",
       "                        <th id=\"T_d3ec8ccc_1e54_11eb_b177_30e37a1ca59dlevel0_row2\" class=\"row_heading level0 row2\" >All</th>\n",
       "                        <td id=\"T_d3ec8ccc_1e54_11eb_b177_30e37a1ca59drow2_col0\" class=\"data row2 col0\" >85</td>\n",
       "                        <td id=\"T_d3ec8ccc_1e54_11eb_b177_30e37a1ca59drow2_col1\" class=\"data row2 col1\" >2</td>\n",
       "                        <td id=\"T_d3ec8ccc_1e54_11eb_b177_30e37a1ca59drow2_col2\" class=\"data row2 col2\" >129</td>\n",
       "                        <td id=\"T_d3ec8ccc_1e54_11eb_b177_30e37a1ca59drow2_col3\" class=\"data row2 col3\" >17</td>\n",
       "                        <td id=\"T_d3ec8ccc_1e54_11eb_b177_30e37a1ca59drow2_col4\" class=\"data row2 col4\" >3</td>\n",
       "                        <td id=\"T_d3ec8ccc_1e54_11eb_b177_30e37a1ca59drow2_col5\" class=\"data row2 col5\" >164</td>\n",
       "                        <td id=\"T_d3ec8ccc_1e54_11eb_b177_30e37a1ca59drow2_col6\" class=\"data row2 col6\" >66</td>\n",
       "                        <td id=\"T_d3ec8ccc_1e54_11eb_b177_30e37a1ca59drow2_col7\" class=\"data row2 col7\" >72</td>\n",
       "                        <td id=\"T_d3ec8ccc_1e54_11eb_b177_30e37a1ca59drow2_col8\" class=\"data row2 col8\" >353</td>\n",
       "                        <td id=\"T_d3ec8ccc_1e54_11eb_b177_30e37a1ca59drow2_col9\" class=\"data row2 col9\" >891</td>\n",
       "            </tr>\n",
       "    </tbody></table>"
      ],
      "text/plain": [
       "<pandas.io.formats.style.Styler at 0x218f2259f88>"
      ]
     },
     "execution_count": 93,
     "metadata": {},
     "output_type": "execute_result"
    }
   ],
   "source": [
    "pd.crosstab(\n",
    "            [train_df[\"Survived\"]], [train_df[\"Pclass\"], train_df[\"Embarked\"]],\n",
    "            margins = True\n",
    "            ).style.background_gradient(cmap = \"summer_r\")"
   ]
  },
  {
   "cell_type": "code",
   "execution_count": 94,
   "metadata": {
    "ExecuteTime": {
     "end_time": "2020-11-04T04:18:44.988434Z",
     "start_time": "2020-11-04T04:18:44.675272Z"
    }
   },
   "outputs": [
    {
     "data": {
      "image/png": "[encoded data removed]",
      "text/plain": [
       "<Figure size 432x288 with 1 Axes>"
      ]
     },
     "metadata": {},
     "output_type": "display_data"
    }
   ],
   "source": [
    "ct_df = pd.crosstab(\n",
    "                    [train_df[\"Survived\"]], [train_df[\"Pclass\"], train_df[\"Embarked\"]],\n",
    "                    margins = True\n",
    "                    )\n",
    "\n",
    "ct_df = ct_df.drop([\"All\"], axis = 1)\n",
    "ct_df = ct_df.drop([\"All\"], axis = 0)\n",
    "\n",
    "ct_df.plot.bar(stacked = True)\n",
    "plt.legend(bbox_to_anchor=(0., 1.02, 1., .102), loc='lower left', ncol=2, mode=\"expand\", borderaxespad=0.)\n",
    "plt.show()"
   ]
  },
  {
   "cell_type": "markdown",
   "metadata": {},
   "source": [
    "## Survived vs Sex-Embarked"
   ]
  },
  {
   "cell_type": "code",
   "execution_count": 95,
   "metadata": {
    "ExecuteTime": {
     "end_time": "2020-11-04T04:18:45.337540Z",
     "start_time": "2020-11-04T04:18:45.210843Z"
    }
   },
   "outputs": [
    {
     "data": {
      "text/html": [
       "<style  type=\"text/css\" >\n",
       "    #T_d4536cae_1e54_11eb_9384_30e37a1ca59drow0_col0 {\n",
       "            background-color:  #ffff66;\n",
       "            color:  #000000;\n",
       "        }    #T_d4536cae_1e54_11eb_9384_30e37a1ca59drow0_col1 {\n",
       "            background-color:  #ffff66;\n",
       "            color:  #000000;\n",
       "        }    #T_d4536cae_1e54_11eb_9384_30e37a1ca59drow0_col2 {\n",
       "            background-color:  #ffff66;\n",
       "            color:  #000000;\n",
       "        }    #T_d4536cae_1e54_11eb_9384_30e37a1ca59drow0_col3 {\n",
       "            background-color:  #70b866;\n",
       "            color:  #000000;\n",
       "        }    #T_d4536cae_1e54_11eb_9384_30e37a1ca59drow0_col4 {\n",
       "            background-color:  #148a66;\n",
       "            color:  #000000;\n",
       "        }    #T_d4536cae_1e54_11eb_9384_30e37a1ca59drow0_col5 {\n",
       "            background-color:  #369b66;\n",
       "            color:  #000000;\n",
       "        }    #T_d4536cae_1e54_11eb_9384_30e37a1ca59drow0_col6 {\n",
       "            background-color:  #9fcf66;\n",
       "            color:  #000000;\n",
       "        }    #T_d4536cae_1e54_11eb_9384_30e37a1ca59drow1_col0 {\n",
       "            background-color:  #239166;\n",
       "            color:  #000000;\n",
       "        }    #T_d4536cae_1e54_11eb_9384_30e37a1ca59drow1_col1 {\n",
       "            background-color:  #55aa66;\n",
       "            color:  #000000;\n",
       "        }    #T_d4536cae_1e54_11eb_9384_30e37a1ca59drow1_col2 {\n",
       "            background-color:  #71b866;\n",
       "            color:  #000000;\n",
       "        }    #T_d4536cae_1e54_11eb_9384_30e37a1ca59drow1_col3 {\n",
       "            background-color:  #ffff66;\n",
       "            color:  #000000;\n",
       "        }    #T_d4536cae_1e54_11eb_9384_30e37a1ca59drow1_col4 {\n",
       "            background-color:  #ffff66;\n",
       "            color:  #000000;\n",
       "        }    #T_d4536cae_1e54_11eb_9384_30e37a1ca59drow1_col5 {\n",
       "            background-color:  #ffff66;\n",
       "            color:  #000000;\n",
       "        }    #T_d4536cae_1e54_11eb_9384_30e37a1ca59drow1_col6 {\n",
       "            background-color:  #ffff66;\n",
       "            color:  #000000;\n",
       "        }    #T_d4536cae_1e54_11eb_9384_30e37a1ca59drow2_col0 {\n",
       "            background-color:  #008066;\n",
       "            color:  #f1f1f1;\n",
       "        }    #T_d4536cae_1e54_11eb_9384_30e37a1ca59drow2_col1 {\n",
       "            background-color:  #008066;\n",
       "            color:  #f1f1f1;\n",
       "        }    #T_d4536cae_1e54_11eb_9384_30e37a1ca59drow2_col2 {\n",
       "            background-color:  #008066;\n",
       "            color:  #f1f1f1;\n",
       "        }    #T_d4536cae_1e54_11eb_9384_30e37a1ca59drow2_col3 {\n",
       "            background-color:  #008066;\n",
       "            color:  #f1f1f1;\n",
       "        }    #T_d4536cae_1e54_11eb_9384_30e37a1ca59drow2_col4 {\n",
       "            background-color:  #008066;\n",
       "            color:  #f1f1f1;\n",
       "        }    #T_d4536cae_1e54_11eb_9384_30e37a1ca59drow2_col5 {\n",
       "            background-color:  #008066;\n",
       "            color:  #f1f1f1;\n",
       "        }    #T_d4536cae_1e54_11eb_9384_30e37a1ca59drow2_col6 {\n",
       "            background-color:  #008066;\n",
       "            color:  #f1f1f1;\n",
       "        }</style><table id=\"T_d4536cae_1e54_11eb_9384_30e37a1ca59d\" ><thead>    <tr>        <th class=\"index_name level0\" >Sex</th>        <th class=\"col_heading level0 col0\" colspan=3>female</th>        <th class=\"col_heading level0 col3\" colspan=3>male</th>        <th class=\"col_heading level0 col6\" >All</th>    </tr>    <tr>        <th class=\"index_name level1\" >Embarked</th>        <th class=\"col_heading level1 col0\" >C</th>        <th class=\"col_heading level1 col1\" >Q</th>        <th class=\"col_heading level1 col2\" >S</th>        <th class=\"col_heading level1 col3\" >C</th>        <th class=\"col_heading level1 col4\" >Q</th>        <th class=\"col_heading level1 col5\" >S</th>        <th class=\"col_heading level1 col6\" ></th>    </tr>    <tr>        <th class=\"index_name level0\" >Survived</th>        <th class=\"blank\" ></th>        <th class=\"blank\" ></th>        <th class=\"blank\" ></th>        <th class=\"blank\" ></th>        <th class=\"blank\" ></th>        <th class=\"blank\" ></th>        <th class=\"blank\" ></th>    </tr></thead><tbody>\n",
       "                <tr>\n",
       "                        <th id=\"T_d4536cae_1e54_11eb_9384_30e37a1ca59dlevel0_row0\" class=\"row_heading level0 row0\" >0</th>\n",
       "                        <td id=\"T_d4536cae_1e54_11eb_9384_30e37a1ca59drow0_col0\" class=\"data row0 col0\" >9</td>\n",
       "                        <td id=\"T_d4536cae_1e54_11eb_9384_30e37a1ca59drow0_col1\" class=\"data row0 col1\" >9</td>\n",
       "                        <td id=\"T_d4536cae_1e54_11eb_9384_30e37a1ca59drow0_col2\" class=\"data row0 col2\" >63</td>\n",
       "                        <td id=\"T_d4536cae_1e54_11eb_9384_30e37a1ca59drow0_col3\" class=\"data row0 col3\" >66</td>\n",
       "                        <td id=\"T_d4536cae_1e54_11eb_9384_30e37a1ca59drow0_col4\" class=\"data row0 col4\" >38</td>\n",
       "                        <td id=\"T_d4536cae_1e54_11eb_9384_30e37a1ca59drow0_col5\" class=\"data row0 col5\" >364</td>\n",
       "                        <td id=\"T_d4536cae_1e54_11eb_9384_30e37a1ca59drow0_col6\" class=\"data row0 col6\" >549</td>\n",
       "            </tr>\n",
       "            <tr>\n",
       "                        <th id=\"T_d4536cae_1e54_11eb_9384_30e37a1ca59dlevel0_row1\" class=\"row_heading level0 row1\" >1</th>\n",
       "                        <td id=\"T_d4536cae_1e54_11eb_9384_30e37a1ca59drow1_col0\" class=\"data row1 col0\" >64</td>\n",
       "                        <td id=\"T_d4536cae_1e54_11eb_9384_30e37a1ca59drow1_col1\" class=\"data row1 col1\" >27</td>\n",
       "                        <td id=\"T_d4536cae_1e54_11eb_9384_30e37a1ca59drow1_col2\" class=\"data row1 col2\" >142</td>\n",
       "                        <td id=\"T_d4536cae_1e54_11eb_9384_30e37a1ca59drow1_col3\" class=\"data row1 col3\" >29</td>\n",
       "                        <td id=\"T_d4536cae_1e54_11eb_9384_30e37a1ca59drow1_col4\" class=\"data row1 col4\" >3</td>\n",
       "                        <td id=\"T_d4536cae_1e54_11eb_9384_30e37a1ca59drow1_col5\" class=\"data row1 col5\" >77</td>\n",
       "                        <td id=\"T_d4536cae_1e54_11eb_9384_30e37a1ca59drow1_col6\" class=\"data row1 col6\" >342</td>\n",
       "            </tr>\n",
       "            <tr>\n",
       "                        <th id=\"T_d4536cae_1e54_11eb_9384_30e37a1ca59dlevel0_row2\" class=\"row_heading level0 row2\" >All</th>\n",
       "                        <td id=\"T_d4536cae_1e54_11eb_9384_30e37a1ca59drow2_col0\" class=\"data row2 col0\" >73</td>\n",
       "                        <td id=\"T_d4536cae_1e54_11eb_9384_30e37a1ca59drow2_col1\" class=\"data row2 col1\" >36</td>\n",
       "                        <td id=\"T_d4536cae_1e54_11eb_9384_30e37a1ca59drow2_col2\" class=\"data row2 col2\" >205</td>\n",
       "                        <td id=\"T_d4536cae_1e54_11eb_9384_30e37a1ca59drow2_col3\" class=\"data row2 col3\" >95</td>\n",
       "                        <td id=\"T_d4536cae_1e54_11eb_9384_30e37a1ca59drow2_col4\" class=\"data row2 col4\" >41</td>\n",
       "                        <td id=\"T_d4536cae_1e54_11eb_9384_30e37a1ca59drow2_col5\" class=\"data row2 col5\" >441</td>\n",
       "                        <td id=\"T_d4536cae_1e54_11eb_9384_30e37a1ca59drow2_col6\" class=\"data row2 col6\" >891</td>\n",
       "            </tr>\n",
       "    </tbody></table>"
      ],
      "text/plain": [
       "<pandas.io.formats.style.Styler at 0x218f22b9448>"
      ]
     },
     "execution_count": 95,
     "metadata": {},
     "output_type": "execute_result"
    }
   ],
   "source": [
    "pd.crosstab(\n",
    "            [train_df[\"Survived\"]], [train_df[\"Sex\"], train_df[\"Embarked\"]],\n",
    "            margins = True\n",
    "            ).style.background_gradient(cmap = \"summer_r\")"
   ]
  },
  {
   "cell_type": "code",
   "execution_count": 96,
   "metadata": {
    "ExecuteTime": {
     "end_time": "2020-11-04T04:18:45.622740Z",
     "start_time": "2020-11-04T04:18:45.340494Z"
    }
   },
   "outputs": [
    {
     "data": {
      "image/png": "[encoded data removed]",
      "text/plain": [
       "<Figure size 432x288 with 1 Axes>"
      ]
     },
     "metadata": {},
     "output_type": "display_data"
    }
   ],
   "source": [
    "ct_df = pd.crosstab(\n",
    "                    [train_df[\"Survived\"]], [train_df[\"Sex\"], train_df[\"Embarked\"]],\n",
    "                    margins = True\n",
    "                    )\n",
    "\n",
    "ct_df = ct_df.drop([\"All\"], axis = 1)\n",
    "ct_df = ct_df.drop([\"All\"], axis = 0)\n",
    "\n",
    "ct_df.plot.bar(stacked = True)\n",
    "plt.legend(bbox_to_anchor=(0., 1.02, 1., .102), loc='lower left', ncol=2, mode=\"expand\", borderaxespad=0.)\n",
    "plt.show()"
   ]
  },
  {
   "cell_type": "markdown",
   "metadata": {},
   "source": [
    "## Survived vs Age-Fare"
   ]
  },
  {
   "cell_type": "code",
   "execution_count": 97,
   "metadata": {
    "ExecuteTime": {
     "end_time": "2020-11-04T04:18:46.241085Z",
     "start_time": "2020-11-04T04:18:45.897004Z"
    }
   },
   "outputs": [
    {
     "data": {
      "image/png": "[encoded data removed]",
      "text/plain": [
       "<Figure size 432x288 with 1 Axes>"
      ]
     },
     "metadata": {},
     "output_type": "display_data"
    }
   ],
   "source": [
    "age_survived = np.where(train_df[\"Survived\"] == 1, train_df[\"Age\"], np.nan)\n",
    "age_not_survived = np.where(train_df[\"Survived\"] == 0, train_df[\"Age\"], np.nan)\n",
    "\n",
    "fare_survived = np.where(train_df[\"Survived\"] == 1, train_df[\"Fare\"], np.nan)\n",
    "fare_not_survived = np.where(train_df[\"Survived\"] == 0, train_df[\"Fare\"], np.nan)\n",
    "\n",
    "plt.scatter(age_survived, fare_survived, marker = \"+\", color = \"green\", label = \"Survived\")\n",
    "plt.scatter(age_not_survived, fare_not_survived, marker = \"_\", color = \"red\", label = \"Not Survived\")\n",
    "\n",
    "plt.xlabel(\"Age\")\n",
    "plt.ylabel(\"Fare\")\n",
    "\n",
    "plt.legend()\n",
    "plt.show()"
   ]
  },
  {
   "cell_type": "markdown",
   "metadata": {},
   "source": [
    "## Pclass vs Age, Pclass vs Fare"
   ]
  },
  {
   "cell_type": "code",
   "execution_count": 98,
   "metadata": {
    "ExecuteTime": {
     "end_time": "2020-11-04T04:18:46.988090Z",
     "start_time": "2020-11-04T04:18:46.563265Z"
    }
   },
   "outputs": [
    {
     "data": {
      "image/png": "[encoded data removed]",
      "text/plain": [
       "<Figure size 864x360 with 2 Axes>"
      ]
     },
     "metadata": {},
     "output_type": "display_data"
    }
   ],
   "source": [
    "plt.rcParams[\"figure.figsize\"] = 12, 5\n",
    "fig, axis = plt.subplots(1, 2)\n",
    "\n",
    "train_df.boxplot(by = \"Pclass\", column = \"Age\", ax = axis[0])\n",
    "train_df.boxplot(by = \"Pclass\", column = \"Fare\", ax = axis[1])\n",
    "plt.show()"
   ]
  },
  {
   "cell_type": "markdown",
   "metadata": {},
   "source": [
    "## Embarked vs Age, Embarked vs Fare"
   ]
  },
  {
   "cell_type": "code",
   "execution_count": 99,
   "metadata": {
    "ExecuteTime": {
     "end_time": "2020-11-04T04:18:47.682231Z",
     "start_time": "2020-11-04T04:18:47.231436Z"
    }
   },
   "outputs": [
    {
     "data": {
      "image/png": "[encoded data removed]",
      "text/plain": [
       "<Figure size 864x360 with 2 Axes>"
      ]
     },
     "metadata": {},
     "output_type": "display_data"
    }
   ],
   "source": [
    "plt.rcParams[\"figure.figsize\"] = 12, 5\n",
    "fig, axis = plt.subplots(1, 2)\n",
    "\n",
    "train_df.boxplot(by = \"Embarked\", column = \"Age\", ax = axis[0])\n",
    "train_df.boxplot(by = \"Embarked\", column = \"Fare\", ax = axis[1])\n",
    "plt.show()"
   ]
  },
  {
   "cell_type": "markdown",
   "metadata": {},
   "source": [
    "## Heatmap of all Columns"
   ]
  },
  {
   "cell_type": "code",
   "execution_count": 100,
   "metadata": {
    "ExecuteTime": {
     "end_time": "2020-11-04T04:18:48.647650Z",
     "start_time": "2020-11-04T04:18:47.925582Z"
    }
   },
   "outputs": [
    {
     "data": {
      "image/png": "[encoded data removed]",
      "text/plain": [
       "<Figure size 504x360 with 2 Axes>"
      ]
     },
     "metadata": {},
     "output_type": "display_data"
    }
   ],
   "source": [
    "plt.rcParams[\"figure.figsize\"] = 7, 5\n",
    "\n",
    "corr_df = train_df[[\"Survived\", \"Pclass\", \"SibSp\", \"Parch\", \"Family\", \"Age\", \"Fare\"]]\n",
    "corr_df[\"Sex\"] = train_df[\"Sex\"].map({\"male\": 1, \"female\": 2})\n",
    "corr_df[\"Embarked\"] = train_df[\"Embarked\"].map({\"Q\": 1, \"C\": 2, \"S\": 3})\n",
    "\n",
    "sns.heatmap(corr_df.corr(), annot = True)\n",
    "plt.show()"
   ]
  },
  {
   "cell_type": "markdown",
   "metadata": {},
   "source": [
    "# Exporting Preprocessed Data"
   ]
  },
  {
   "cell_type": "code",
   "execution_count": 103,
   "metadata": {
    "ExecuteTime": {
     "end_time": "2020-11-04T05:27:03.177300Z",
     "start_time": "2020-11-04T05:27:03.071521Z"
    }
   },
   "outputs": [],
   "source": [
    "train_df.to_csv(\"../Data/preprocessed_train_df.csv\", index = False)"
   ]
  }
 ],
 "metadata": {
  "kernelspec": {
   "display_name": "Python 3",
   "language": "python",
   "name": "python3"
  },
  "language_info": {
   "codemirror_mode": {
    "name": "ipython",
    "version": 3
   },
   "file_extension": ".py",
   "mimetype": "text/x-python",
   "name": "python",
   "nbconvert_exporter": "python",
   "pygments_lexer": "ipython3",
   "version": "3.7.6"
  },
  "latex_envs": {
   "LaTeX_envs_menu_present": true,
   "autoclose": false,
   "autocomplete": true,
   "bibliofile": "biblio.bib",
   "cite_by": "apalike",
   "current_citInitial": 1,
   "eqLabelWithNumbers": true,
   "eqNumInitial": 1,
   "hotkeys": {
    "equation": "Ctrl-E",
    "itemize": "Ctrl-I"
   },
   "labels_anchors": false,
   "latex_user_defs": false,
   "report_style_numbering": false,
   "user_envs_cfg": false
  },
  "toc": {
   "base_numbering": 1,
   "nav_menu": {},
   "number_sections": true,
   "sideBar": true,
   "skip_h1_title": false,
   "title_cell": "Table of Contents",
   "title_sidebar": "Contents",
   "toc_cell": true,
   "toc_position": {},
   "toc_section_display": true,
   "toc_window_display": true
  }
 },
 "nbformat": 4,
 "nbformat_minor": 4
}
