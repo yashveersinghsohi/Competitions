{
 "cells": [
  {
   "cell_type": "markdown",
   "metadata": {},
   "source": [
    "# Importing Required Packages"
   ]
  },
  {
   "cell_type": "code",
   "execution_count": 1,
   "metadata": {
    "ExecuteTime": {
     "end_time": "2020-11-06T08:36:03.374037Z",
     "start_time": "2020-11-06T08:36:01.445766Z"
    }
   },
   "outputs": [],
   "source": [
    "import pandas as pd\n",
    "import numpy as np\n",
    "import matplotlib.pyplot as plt\n",
    "import seaborn as sns\n",
    "\n",
    "from sklearn.preprocessing import LabelEncoder\n",
    "\n",
    "import warnings\n",
    "warnings.filterwarnings(\"ignore\")\n",
    "\n",
    "sns.set()"
   ]
  },
  {
   "cell_type": "markdown",
   "metadata": {},
   "source": [
    "# Reading Datasets"
   ]
  },
  {
   "cell_type": "code",
   "execution_count": 2,
   "metadata": {
    "ExecuteTime": {
     "end_time": "2020-11-06T08:36:03.405024Z",
     "start_time": "2020-11-06T08:36:03.377062Z"
    }
   },
   "outputs": [],
   "source": [
    "train_backup = pd.read_csv(\"../Data/preprocessed_train_df.csv\")\n",
    "train_df = train_backup.copy()"
   ]
  },
  {
   "cell_type": "code",
   "execution_count": 3,
   "metadata": {
    "ExecuteTime": {
     "end_time": "2020-11-06T08:36:03.452187Z",
     "start_time": "2020-11-06T08:36:03.407019Z"
    }
   },
   "outputs": [],
   "source": [
    "test_backup = pd.read_csv(\"../Data/test.csv\")\n",
    "test_df = test_backup.copy()"
   ]
  },
  {
   "cell_type": "markdown",
   "metadata": {},
   "source": [
    "# Preprocessing Test Set"
   ]
  },
  {
   "cell_type": "markdown",
   "metadata": {},
   "source": [
    "**Null Values**"
   ]
  },
  {
   "cell_type": "code",
   "execution_count": 4,
   "metadata": {
    "ExecuteTime": {
     "end_time": "2020-11-06T08:36:03.561465Z",
     "start_time": "2020-11-06T08:36:03.453777Z"
    }
   },
   "outputs": [
    {
     "name": "stdout",
     "output_type": "stream",
     "text": [
      "<class 'pandas.core.frame.DataFrame'>\n",
      "RangeIndex: 418 entries, 0 to 417\n",
      "Data columns (total 11 columns):\n",
      "PassengerId    418 non-null int64\n",
      "Pclass         418 non-null int64\n",
      "Name           418 non-null object\n",
      "Sex            418 non-null object\n",
      "Age            332 non-null float64\n",
      "SibSp          418 non-null int64\n",
      "Parch          418 non-null int64\n",
      "Ticket         418 non-null object\n",
      "Fare           417 non-null float64\n",
      "Cabin          91 non-null object\n",
      "Embarked       418 non-null object\n",
      "dtypes: float64(2), int64(4), object(5)\n",
      "memory usage: 36.0+ KB\n"
     ]
    }
   ],
   "source": [
    "test_df.info()"
   ]
  },
  {
   "cell_type": "markdown",
   "metadata": {},
   "source": [
    "## Adding New Columns"
   ]
  },
  {
   "cell_type": "markdown",
   "metadata": {},
   "source": [
    "### Title"
   ]
  },
  {
   "cell_type": "code",
   "execution_count": 5,
   "metadata": {
    "ExecuteTime": {
     "end_time": "2020-11-06T08:36:03.670712Z",
     "start_time": "2020-11-06T08:36:03.566412Z"
    }
   },
   "outputs": [],
   "source": [
    "test_df[\"Title\"] = test_df[\"Name\"].str.extract('\\, ([A-Z][^ ]*\\.)')"
   ]
  },
  {
   "cell_type": "code",
   "execution_count": 6,
   "metadata": {
    "ExecuteTime": {
     "end_time": "2020-11-06T08:36:03.765444Z",
     "start_time": "2020-11-06T08:36:03.673710Z"
    }
   },
   "outputs": [
    {
     "data": {
      "text/plain": [
       "Mr.        240\n",
       "Miss.       78\n",
       "Mrs.        72\n",
       "Master.     21\n",
       "Col.         2\n",
       "Rev.         2\n",
       "Dona.        1\n",
       "Dr.          1\n",
       "Ms.          1\n",
       "Name: Title, dtype: int64"
      ]
     },
     "execution_count": 6,
     "metadata": {},
     "output_type": "execute_result"
    }
   ],
   "source": [
    "test_df[\"Title\"].value_counts()"
   ]
  },
  {
   "cell_type": "code",
   "execution_count": 7,
   "metadata": {
    "ExecuteTime": {
     "end_time": "2020-11-06T08:36:03.859625Z",
     "start_time": "2020-11-06T08:36:03.768449Z"
    }
   },
   "outputs": [],
   "source": [
    "test_df[\"Title\"] = np.where(test_df[\"Title\"] == \"Ms.\", \"Miss.\", test_df[\"Title\"])\n",
    "\n",
    "test_df[\"Title\"] = np.where(test_df[\"Title\"].isin([\n",
    "                                                    \"Col.\", \"Rev.\", \"Dr.\", \"Dona.\"\n",
    "                                                ]), \"Rare.\", test_df[\"Title\"])"
   ]
  },
  {
   "cell_type": "code",
   "execution_count": 8,
   "metadata": {
    "ExecuteTime": {
     "end_time": "2020-11-06T08:36:03.969266Z",
     "start_time": "2020-11-06T08:36:03.861505Z"
    }
   },
   "outputs": [
    {
     "data": {
      "text/plain": [
       "Mr.        240\n",
       "Miss.       79\n",
       "Mrs.        72\n",
       "Master.     21\n",
       "Rare.        6\n",
       "Name: Title, dtype: int64"
      ]
     },
     "execution_count": 8,
     "metadata": {},
     "output_type": "execute_result"
    }
   ],
   "source": [
    "test_df[\"Title\"].value_counts()"
   ]
  },
  {
   "cell_type": "markdown",
   "metadata": {},
   "source": [
    "### Family"
   ]
  },
  {
   "cell_type": "code",
   "execution_count": 9,
   "metadata": {
    "ExecuteTime": {
     "end_time": "2020-11-06T08:36:04.093367Z",
     "start_time": "2020-11-06T08:36:03.972259Z"
    }
   },
   "outputs": [],
   "source": [
    "test_df[\"Family\"] = test_df[\"SibSp\"] + test_df[\"Parch\"]"
   ]
  },
  {
   "cell_type": "markdown",
   "metadata": {},
   "source": [
    "### Cabin Names"
   ]
  },
  {
   "cell_type": "code",
   "execution_count": 10,
   "metadata": {
    "ExecuteTime": {
     "end_time": "2020-11-06T08:36:04.172513Z",
     "start_time": "2020-11-06T08:36:04.095370Z"
    }
   },
   "outputs": [],
   "source": [
    "test_df[\"Cabin_Names\"] = test_df[\"Cabin\"].str.extract(\"([A-Z])\")"
   ]
  },
  {
   "cell_type": "markdown",
   "metadata": {},
   "source": [
    "## Filling Null Values"
   ]
  },
  {
   "cell_type": "markdown",
   "metadata": {},
   "source": [
    "### Age"
   ]
  },
  {
   "cell_type": "code",
   "execution_count": 11,
   "metadata": {
    "ExecuteTime": {
     "end_time": "2020-11-06T08:36:04.282988Z",
     "start_time": "2020-11-06T08:36:04.174507Z"
    }
   },
   "outputs": [],
   "source": [
    "null_indices = test_df[test_df[\"Age\"].isnull()].index\n",
    "test_df.at[null_indices, \"Age\"] = test_df.loc[null_indices, \"Title\"].map(train_df.groupby(by = \"Title\")[\"Age\"].median())"
   ]
  },
  {
   "cell_type": "markdown",
   "metadata": {},
   "source": [
    "### Fare"
   ]
  },
  {
   "cell_type": "code",
   "execution_count": 12,
   "metadata": {
    "ExecuteTime": {
     "end_time": "2020-11-06T08:36:04.380526Z",
     "start_time": "2020-11-06T08:36:04.284632Z"
    }
   },
   "outputs": [],
   "source": [
    "null_indices = test_df[test_df[\"Fare\"].isnull()].index\n",
    "test_df.at[null_indices, \"Fare\"] = test_df.loc[null_indices, \"Pclass\"].map(train_df.groupby(by = \"Pclass\")[\"Fare\"].median())"
   ]
  },
  {
   "cell_type": "markdown",
   "metadata": {},
   "source": [
    "### Cabin_Names"
   ]
  },
  {
   "cell_type": "code",
   "execution_count": 13,
   "metadata": {
    "ExecuteTime": {
     "end_time": "2020-11-06T08:36:04.507048Z",
     "start_time": "2020-11-06T08:36:04.382525Z"
    }
   },
   "outputs": [],
   "source": [
    "test_df[\"Cabin_Names\"] = test_df[\"Cabin_Names\"].fillna(\"Missing\")"
   ]
  },
  {
   "cell_type": "markdown",
   "metadata": {},
   "source": [
    "# Exporting Preprocessed Test Set"
   ]
  },
  {
   "cell_type": "code",
   "execution_count": 14,
   "metadata": {
    "ExecuteTime": {
     "end_time": "2020-11-06T08:36:04.617451Z",
     "start_time": "2020-11-06T08:36:04.508554Z"
    }
   },
   "outputs": [],
   "source": [
    "test_df.to_csv(\"../Data/preprocessed_test_df.csv\", index = False)"
   ]
  },
  {
   "cell_type": "markdown",
   "metadata": {},
   "source": [
    "# Feature Engineering Test Set"
   ]
  },
  {
   "cell_type": "markdown",
   "metadata": {},
   "source": [
    "**Test Features Dataframe**"
   ]
  },
  {
   "cell_type": "code",
   "execution_count": 15,
   "metadata": {
    "ExecuteTime": {
     "end_time": "2020-11-06T08:36:04.728191Z",
     "start_time": "2020-11-06T08:36:04.618979Z"
    }
   },
   "outputs": [],
   "source": [
    "test_features_df = pd.DataFrame(index = test_df.index)"
   ]
  },
  {
   "cell_type": "markdown",
   "metadata": {},
   "source": [
    "## Sex, Pclass, and Embarked"
   ]
  },
  {
   "cell_type": "code",
   "execution_count": 16,
   "metadata": {
    "ExecuteTime": {
     "end_time": "2020-11-06T08:36:04.838253Z",
     "start_time": "2020-11-06T08:36:04.730146Z"
    }
   },
   "outputs": [],
   "source": [
    "test_features_df[\"Sex:female\"] = np.where(test_df[\"Sex\"] == \"female\", 1, 0)\n",
    "\n",
    "test_features_df[\"Pclass:1\"] = np.where(test_df[\"Pclass\"] == 1, 1, 0)\n",
    "test_features_df[\"Pclass:3\"] = np.where(test_df[\"Pclass\"] == 3, 1, 0)\n",
    "\n",
    "test_features_df[\"Embarked:S\"] = np.where(test_df[\"Embarked\"] == \"S\", 1, 0)\n",
    "test_features_df[\"Embarked:C\"] = np.where(test_df[\"Embarked\"] == \"C\", 1, 0)"
   ]
  },
  {
   "cell_type": "markdown",
   "metadata": {},
   "source": [
    "## Cabin_Names_label_enc"
   ]
  },
  {
   "cell_type": "code",
   "execution_count": 17,
   "metadata": {
    "ExecuteTime": {
     "end_time": "2020-11-06T08:36:04.998581Z",
     "start_time": "2020-11-06T08:36:04.840247Z"
    }
   },
   "outputs": [],
   "source": [
    "test_features_df[\"Cabin_Names_label_enc\"] = test_df[\"Cabin_Names\"].map({\"Missing\":0,\n",
    "                                                                        \"A\": 1, \"B\": 2, \"C\": 3, \"D\": 4,\n",
    "                                                                        \"E\": 5, \"F\": 6, \"G\": 7, \"T\": 8\n",
    "                                                                        })"
   ]
  },
  {
   "cell_type": "markdown",
   "metadata": {},
   "source": [
    "## Title_label_enc"
   ]
  },
  {
   "cell_type": "code",
   "execution_count": 18,
   "metadata": {
    "ExecuteTime": {
     "end_time": "2020-11-06T08:36:05.142365Z",
     "start_time": "2020-11-06T08:36:05.000581Z"
    }
   },
   "outputs": [],
   "source": [
    "test_features_df[\"Title_label_enc\"] = test_df[\"Title\"].map({\"Mr.\": 0, \"Rare.\": 1, \"Master.\": 2,\n",
    "                                                            \"Miss.\":3, \"Mrs.\":4})"
   ]
  },
  {
   "cell_type": "markdown",
   "metadata": {},
   "source": [
    "## Family"
   ]
  },
  {
   "cell_type": "code",
   "execution_count": 19,
   "metadata": {
    "ExecuteTime": {
     "end_time": "2020-11-06T08:36:05.284835Z",
     "start_time": "2020-11-06T08:36:05.144299Z"
    }
   },
   "outputs": [],
   "source": [
    "test_features_df[\"Family:No\"] = np.where(test_df[\"Family\"] == 0, 1, 0)\n",
    "test_features_df[\"Family:Small\"] = np.where(test_df[\"Family\"].isin([1, 2, 3]), 1, 0)"
   ]
  },
  {
   "cell_type": "markdown",
   "metadata": {},
   "source": [
    "## Age_label_enc"
   ]
  },
  {
   "cell_type": "code",
   "execution_count": 20,
   "metadata": {
    "ExecuteTime": {
     "end_time": "2020-11-06T08:36:05.411422Z",
     "start_time": "2020-11-06T08:36:05.286836Z"
    }
   },
   "outputs": [],
   "source": [
    "age_labels = pd.DataFrame(index = test_df.index)\n",
    "age_labels[\"labels\"] = np.where(test_df[\"Age\"]<=10, \"Infant\", test_df[\"Age\"])\n",
    "age_labels[\"labels\"] = np.where(((test_df[\"Age\"]>10) & (test_df[\"Age\"]<=18)), \"Kid\", age_labels[\"labels\"])\n",
    "age_labels[\"labels\"] = np.where(((test_df[\"Age\"]>18) & (test_df[\"Age\"]<=25)), \"Young_Adult\", age_labels[\"labels\"])\n",
    "age_labels[\"labels\"] = np.where(((test_df[\"Age\"]>25) & (test_df[\"Age\"]<=40)), \"Adult\", age_labels[\"labels\"])\n",
    "age_labels[\"labels\"] = np.where(((test_df[\"Age\"]>40) & (test_df[\"Age\"]<=60)), \"Old_Adult\", age_labels[\"labels\"])\n",
    "age_labels[\"labels\"] = np.where(test_df[\"Age\"]>60, \"Old\", age_labels[\"labels\"])"
   ]
  },
  {
   "cell_type": "code",
   "execution_count": 21,
   "metadata": {
    "ExecuteTime": {
     "end_time": "2020-11-06T08:36:05.571033Z",
     "start_time": "2020-11-06T08:36:05.413421Z"
    }
   },
   "outputs": [],
   "source": [
    "test_features_df[\"Age_label_enc\"] = age_labels[\"labels\"].map({\n",
    "                                                                \"Old\": 0, \"Adult\": 1, \"Young_Adult\": 2,\n",
    "                                                                \"Old_Adult\": 3, \"Kid\": 4, \"Infant\": 5\n",
    "                                                            })"
   ]
  },
  {
   "cell_type": "markdown",
   "metadata": {},
   "source": [
    "## Age"
   ]
  },
  {
   "cell_type": "code",
   "execution_count": 22,
   "metadata": {
    "ExecuteTime": {
     "end_time": "2020-11-06T08:36:05.650923Z",
     "start_time": "2020-11-06T08:36:05.572990Z"
    }
   },
   "outputs": [],
   "source": [
    "test_features_df[\"Age\"] = test_df[\"Age\"]"
   ]
  },
  {
   "cell_type": "markdown",
   "metadata": {},
   "source": [
    "## Fare_label_enc"
   ]
  },
  {
   "cell_type": "code",
   "execution_count": 23,
   "metadata": {
    "ExecuteTime": {
     "end_time": "2020-11-06T08:36:05.729972Z",
     "start_time": "2020-11-06T08:36:05.652921Z"
    }
   },
   "outputs": [],
   "source": [
    "fare_labels = pd.DataFrame(index = test_df.index)\n",
    "fare_labels[\"labels\"] = np.where(test_df[\"Fare\"]<=50, \"Cheap\", test_df[\"Fare\"])\n",
    "fare_labels[\"labels\"] = np.where(((test_df[\"Fare\"]>50) & (test_df[\"Fare\"]<=100)), \"Mid\", fare_labels[\"labels\"])\n",
    "fare_labels[\"labels\"] = np.where(test_df[\"Fare\"]>100, \"Costly\", fare_labels[\"labels\"])"
   ]
  },
  {
   "cell_type": "code",
   "execution_count": 24,
   "metadata": {
    "ExecuteTime": {
     "end_time": "2020-11-06T08:36:05.824300Z",
     "start_time": "2020-11-06T08:36:05.731973Z"
    }
   },
   "outputs": [],
   "source": [
    "test_features_df[\"Fare_label_enc\"] = fare_labels[\"labels\"].map({\"Cheap\": 0, \"Mid\": 1, \"Costly\": 2})"
   ]
  },
  {
   "cell_type": "markdown",
   "metadata": {},
   "source": [
    "## Fare"
   ]
  },
  {
   "cell_type": "code",
   "execution_count": 25,
   "metadata": {
    "ExecuteTime": {
     "end_time": "2020-11-06T08:36:05.917815Z",
     "start_time": "2020-11-06T08:36:05.826295Z"
    }
   },
   "outputs": [],
   "source": [
    "test_features_df[\"Fare\"] = test_df[\"Fare\"]"
   ]
  },
  {
   "cell_type": "markdown",
   "metadata": {},
   "source": [
    "# Exporting Test Set After Feature Engineering "
   ]
  },
  {
   "cell_type": "code",
   "execution_count": 26,
   "metadata": {
    "ExecuteTime": {
     "end_time": "2020-11-06T08:36:06.027763Z",
     "start_time": "2020-11-06T08:36:05.920812Z"
    }
   },
   "outputs": [],
   "source": [
    "test_features_df.to_csv(\"../Data/test_features_df.csv\", index = False)"
   ]
  }
 ],
 "metadata": {
  "kernelspec": {
   "display_name": "Python 3",
   "language": "python",
   "name": "python3"
  },
  "language_info": {
   "codemirror_mode": {
    "name": "ipython",
    "version": 3
   },
   "file_extension": ".py",
   "mimetype": "text/x-python",
   "name": "python",
   "nbconvert_exporter": "python",
   "pygments_lexer": "ipython3",
   "version": "3.7.6"
  },
  "latex_envs": {
   "LaTeX_envs_menu_present": true,
   "autoclose": false,
   "autocomplete": true,
   "bibliofile": "biblio.bib",
   "cite_by": "apalike",
   "current_citInitial": 1,
   "eqLabelWithNumbers": true,
   "eqNumInitial": 1,
   "hotkeys": {
    "equation": "Ctrl-E",
    "itemize": "Ctrl-I"
   },
   "labels_anchors": false,
   "latex_user_defs": false,
   "report_style_numbering": false,
   "user_envs_cfg": false
  },
  "toc": {
   "base_numbering": 1,
   "nav_menu": {},
   "number_sections": true,
   "sideBar": true,
   "skip_h1_title": false,
   "title_cell": "Table of Contents",
   "title_sidebar": "Contents",
   "toc_cell": false,
   "toc_position": {},
   "toc_section_display": true,
   "toc_window_display": false
  }
 },
 "nbformat": 4,
 "nbformat_minor": 4
}
