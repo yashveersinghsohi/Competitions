{
 "cells": [
  {
   "cell_type": "markdown",
   "metadata": {},
   "source": [
    "# Importing Required Packages"
   ]
  },
  {
   "cell_type": "code",
   "execution_count": 2,
   "metadata": {
    "ExecuteTime": {
     "end_time": "2020-12-17T03:07:55.733189Z",
     "start_time": "2020-12-17T03:07:55.714237Z"
    }
   },
   "outputs": [],
   "source": [
    "import pandas as pd\n",
    "import numpy as np\n",
    "\n",
    "import matplotlib.pyplot as plt\n",
    "import seaborn as sns\n",
    "\n",
    "import warnings\n",
    "warnings.filterwarnings(\"ignore\")"
   ]
  },
  {
   "cell_type": "markdown",
   "metadata": {},
   "source": [
    "# Reading Data"
   ]
  },
  {
   "cell_type": "code",
   "execution_count": 3,
   "metadata": {
    "ExecuteTime": {
     "end_time": "2020-12-17T03:08:51.619886Z",
     "start_time": "2020-12-17T03:08:51.546617Z"
    }
   },
   "outputs": [],
   "source": [
    "train_df = pd.read_csv(\"../Data/train.csv\")\n",
    "test_df = pd.read_csv(\"../Data/test.csv\")"
   ]
  },
  {
   "cell_type": "code",
   "execution_count": null,
   "metadata": {},
   "outputs": [],
   "source": [
    "high_cat = [\n",
    "    \"OverallQual\", \"ExterQual\", \"Foundation\", \"BsmtQual\", \n",
    "    \"KitchenQual\", \"FireplaceQu\", \"GarageFinish\"\n",
    "]\n",
    "high_num = [\n",
    "    \"YearBuilt\", \"YearRemodAdd\", \"1stFlrSF\", \n",
    "    \"GrLivArea\", \"FullBath\", \"GarageCars\"\n",
    "]\n",
    "\n",
    "high = high_cat + high_num\n",
    "\n",
    "\n",
    "medium_cat = [\"Neighborhood\", \"MasVnrType\", \"HeatingQC\", \"Fireplaces\"]\n",
    "medium_num = [\"MasVnrArea\", \"GarageYrBlt\"]\n",
    "\n",
    "medium = medium_cat + medium_num\n",
    "\n",
    "\n",
    "low_cat = [\n",
    "    \"HouseStyle\", \"Exterior1st\", \"Exterior2nd\", \"BsmtExposure\", \n",
    "    \"BsmtFinType1\", \"GarageType\", \"OverallCond\"\n",
    "]\n",
    "\n",
    "low_num = [\"LotArea\", \"BsmtFinSF1\", \"LotFrontage\", \"2ndFlrSF\"]\n",
    "\n",
    "low = low_cat + low_num\n",
    "\n",
    "\n",
    "target = [\"SalePrice\"]\n",
    "\n",
    "\n",
    "features = high + medium + low + target\n",
    "\n",
    "features_df = train_df[features]\n",
    "features_df[\"YearBuilt\"] = train_df[\"YrSold\"] - train_df[\"YearBuilt\"]\n",
    "features_df = features_df.rename({\"YearBuilt\": \"YearDiff\"}, axis = 1)\n",
    "\n",
    "features_list = features_df.columns\n",
    "\n",
    "features_df.head()"
   ]
  }
 ],
 "metadata": {
  "kernelspec": {
   "display_name": "Python 3",
   "language": "python",
   "name": "python3"
  },
  "language_info": {
   "codemirror_mode": {
    "name": "ipython",
    "version": 3
   },
   "file_extension": ".py",
   "mimetype": "text/x-python",
   "name": "python",
   "nbconvert_exporter": "python",
   "pygments_lexer": "ipython3",
   "version": "3.7.6"
  },
  "latex_envs": {
   "LaTeX_envs_menu_present": true,
   "autoclose": false,
   "autocomplete": true,
   "bibliofile": "biblio.bib",
   "cite_by": "apalike",
   "current_citInitial": 1,
   "eqLabelWithNumbers": true,
   "eqNumInitial": 1,
   "hotkeys": {
    "equation": "Ctrl-E",
    "itemize": "Ctrl-I"
   },
   "labels_anchors": false,
   "latex_user_defs": false,
   "report_style_numbering": false,
   "user_envs_cfg": false
  },
  "toc": {
   "base_numbering": 1,
   "nav_menu": {},
   "number_sections": true,
   "sideBar": true,
   "skip_h1_title": false,
   "title_cell": "Table of Contents",
   "title_sidebar": "Contents",
   "toc_cell": false,
   "toc_position": {},
   "toc_section_display": true,
   "toc_window_display": true
  }
 },
 "nbformat": 4,
 "nbformat_minor": 4
}
