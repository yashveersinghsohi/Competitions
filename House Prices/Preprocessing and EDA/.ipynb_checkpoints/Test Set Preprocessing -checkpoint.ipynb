{
 "cells": [
  {
   "cell_type": "markdown",
   "metadata": {},
   "source": [
    "# Importing Required Packages"
   ]
  },
  {
   "cell_type": "code",
   "execution_count": 1,
   "metadata": {
    "ExecuteTime": {
     "end_time": "2020-12-18T06:50:58.672105Z",
     "start_time": "2020-12-18T06:50:56.266852Z"
    }
   },
   "outputs": [],
   "source": [
    "import pandas as pd\n",
    "import numpy as np\n",
    "\n",
    "import matplotlib.pyplot as plt\n",
    "import seaborn as sns\n",
    "\n",
    "from scipy import stats\n",
    "import statsmodels.api as sm\n",
    "\n",
    "from sklearn.feature_selection import SelectKBest, f_regression, mutual_info_regression\n",
    "from sklearn.linear_model import LinearRegression\n",
    "\n",
    "from sklearn.preprocessing import MinMaxScaler\n",
    "\n",
    "from scipy.stats import boxcox\n",
    "\n",
    "import statsmodels.graphics.tsaplots as sgt\n",
    "\n",
    "import warnings\n",
    "warnings.filterwarnings(\"ignore\")"
   ]
  },
  {
   "cell_type": "code",
   "execution_count": 2,
   "metadata": {
    "ExecuteTime": {
     "end_time": "2020-12-18T06:50:58.687881Z",
     "start_time": "2020-12-18T06:50:58.674916Z"
    }
   },
   "outputs": [],
   "source": [
    "pd.set_option('display.max_columns', None)\n",
    "# pd.set_option('display.max_rows', None)"
   ]
  },
  {
   "cell_type": "markdown",
   "metadata": {},
   "source": [
    "# Reading Data"
   ]
  },
  {
   "cell_type": "code",
   "execution_count": 3,
   "metadata": {
    "ExecuteTime": {
     "end_time": "2020-12-18T06:50:58.847502Z",
     "start_time": "2020-12-18T06:50:58.689876Z"
    }
   },
   "outputs": [],
   "source": [
    "backup_train = pd.read_csv(\"../Data/train.csv\")\n",
    "backup_test = pd.read_csv(\"../Data/test.csv\")\n",
    "\n",
    "train_df = backup_train.copy()\n",
    "test_df = backup_test.copy()"
   ]
  },
  {
   "cell_type": "markdown",
   "metadata": {},
   "source": [
    "# Features"
   ]
  },
  {
   "cell_type": "code",
   "execution_count": 4,
   "metadata": {
    "ExecuteTime": {
     "end_time": "2020-12-18T06:50:58.879369Z",
     "start_time": "2020-12-18T06:50:58.850446Z"
    }
   },
   "outputs": [],
   "source": [
    "high_cat = [\n",
    "    \"OverallQual\", \"ExterQual\", \"Foundation\", \"BsmtQual\", \n",
    "    \"KitchenQual\", \"FireplaceQu\", \"GarageFinish\"\n",
    "]\n",
    "high_num = [\n",
    "    \"YearBuilt\", \"YearRemodAdd\", \"1stFlrSF\", \n",
    "    \"GrLivArea\", \"FullBath\", \"GarageCars\"\n",
    "]\n",
    "\n",
    "high = high_cat + high_num\n",
    "\n",
    "\n",
    "medium_cat = [\"Neighborhood\", \"MasVnrType\", \"HeatingQC\", \"Fireplaces\"]\n",
    "medium_num = [\"MasVnrArea\", \"GarageYrBlt\"]\n",
    "\n",
    "medium = medium_cat + medium_num\n",
    "\n",
    "\n",
    "low_cat = [\n",
    "    \"HouseStyle\", \"Exterior1st\", \"Exterior2nd\", \"BsmtExposure\", \n",
    "    \"BsmtFinType1\", \"GarageType\", \"OverallCond\"\n",
    "]\n",
    "\n",
    "low_num = [\"LotArea\", \"BsmtFinSF1\", \"LotFrontage\", \"2ndFlrSF\"]\n",
    "\n",
    "low = low_cat + low_num\n",
    "\n",
    "\n",
    "target = [\"SalePrice\"]\n",
    "\n",
    "\n",
    "features = high + medium + low + target"
   ]
  },
  {
   "cell_type": "code",
   "execution_count": 5,
   "metadata": {
    "ExecuteTime": {
     "end_time": "2020-12-18T06:50:59.020791Z",
     "start_time": "2020-12-18T06:50:58.889342Z"
    }
   },
   "outputs": [
    {
     "data": {
      "text/html": [
       "<div>\n",
       "<style scoped>\n",
       "    .dataframe tbody tr th:only-of-type {\n",
       "        vertical-align: middle;\n",
       "    }\n",
       "\n",
       "    .dataframe tbody tr th {\n",
       "        vertical-align: top;\n",
       "    }\n",
       "\n",
       "    .dataframe thead th {\n",
       "        text-align: right;\n",
       "    }\n",
       "</style>\n",
       "<table border=\"1\" class=\"dataframe\">\n",
       "  <thead>\n",
       "    <tr style=\"text-align: right;\">\n",
       "      <th></th>\n",
       "      <th>OverallQual</th>\n",
       "      <th>ExterQual</th>\n",
       "      <th>Foundation</th>\n",
       "      <th>BsmtQual</th>\n",
       "      <th>KitchenQual</th>\n",
       "      <th>FireplaceQu</th>\n",
       "      <th>GarageFinish</th>\n",
       "      <th>YearDiff</th>\n",
       "      <th>YearRemodAdd</th>\n",
       "      <th>1stFlrSF</th>\n",
       "      <th>GrLivArea</th>\n",
       "      <th>FullBath</th>\n",
       "      <th>GarageCars</th>\n",
       "      <th>Neighborhood</th>\n",
       "      <th>MasVnrType</th>\n",
       "      <th>HeatingQC</th>\n",
       "      <th>Fireplaces</th>\n",
       "      <th>MasVnrArea</th>\n",
       "      <th>GarageYrBlt</th>\n",
       "      <th>HouseStyle</th>\n",
       "      <th>Exterior1st</th>\n",
       "      <th>Exterior2nd</th>\n",
       "      <th>BsmtExposure</th>\n",
       "      <th>BsmtFinType1</th>\n",
       "      <th>GarageType</th>\n",
       "      <th>OverallCond</th>\n",
       "      <th>LotArea</th>\n",
       "      <th>BsmtFinSF1</th>\n",
       "      <th>LotFrontage</th>\n",
       "      <th>2ndFlrSF</th>\n",
       "      <th>SalePrice</th>\n",
       "      <th>no_garage</th>\n",
       "      <th>is_BsmtFinSF1_0</th>\n",
       "      <th>is_2ndFlrSF_0</th>\n",
       "    </tr>\n",
       "  </thead>\n",
       "  <tbody>\n",
       "    <tr>\n",
       "      <th>0</th>\n",
       "      <td>7</td>\n",
       "      <td>2</td>\n",
       "      <td>6</td>\n",
       "      <td>3</td>\n",
       "      <td>2</td>\n",
       "      <td>1</td>\n",
       "      <td>2</td>\n",
       "      <td>2.472136</td>\n",
       "      <td>87.509776</td>\n",
       "      <td>6.752270</td>\n",
       "      <td>7.444249</td>\n",
       "      <td>2</td>\n",
       "      <td>2</td>\n",
       "      <td>16</td>\n",
       "      <td>2</td>\n",
       "      <td>4</td>\n",
       "      <td>0</td>\n",
       "      <td>196.0</td>\n",
       "      <td>2003</td>\n",
       "      <td>6</td>\n",
       "      <td>11</td>\n",
       "      <td>13</td>\n",
       "      <td>1</td>\n",
       "      <td>6</td>\n",
       "      <td>5</td>\n",
       "      <td>8</td>\n",
       "      <td>9.041922</td>\n",
       "      <td>706</td>\n",
       "      <td>4.174387</td>\n",
       "      <td>854</td>\n",
       "      <td>208500</td>\n",
       "      <td>0</td>\n",
       "      <td>0</td>\n",
       "      <td>0</td>\n",
       "    </tr>\n",
       "    <tr>\n",
       "      <th>1</th>\n",
       "      <td>6</td>\n",
       "      <td>1</td>\n",
       "      <td>3</td>\n",
       "      <td>3</td>\n",
       "      <td>1</td>\n",
       "      <td>3</td>\n",
       "      <td>2</td>\n",
       "      <td>9.135529</td>\n",
       "      <td>86.904443</td>\n",
       "      <td>7.140453</td>\n",
       "      <td>7.140453</td>\n",
       "      <td>2</td>\n",
       "      <td>2</td>\n",
       "      <td>19</td>\n",
       "      <td>1</td>\n",
       "      <td>4</td>\n",
       "      <td>1</td>\n",
       "      <td>0.0</td>\n",
       "      <td>1976</td>\n",
       "      <td>4</td>\n",
       "      <td>6</td>\n",
       "      <td>4</td>\n",
       "      <td>4</td>\n",
       "      <td>4</td>\n",
       "      <td>5</td>\n",
       "      <td>4</td>\n",
       "      <td>9.169518</td>\n",
       "      <td>978</td>\n",
       "      <td>4.382027</td>\n",
       "      <td>0</td>\n",
       "      <td>181500</td>\n",
       "      <td>0</td>\n",
       "      <td>0</td>\n",
       "      <td>1</td>\n",
       "    </tr>\n",
       "    <tr>\n",
       "      <th>2</th>\n",
       "      <td>7</td>\n",
       "      <td>2</td>\n",
       "      <td>6</td>\n",
       "      <td>3</td>\n",
       "      <td>2</td>\n",
       "      <td>3</td>\n",
       "      <td>2</td>\n",
       "      <td>3.291503</td>\n",
       "      <td>87.487429</td>\n",
       "      <td>6.824374</td>\n",
       "      <td>7.487734</td>\n",
       "      <td>2</td>\n",
       "      <td>2</td>\n",
       "      <td>16</td>\n",
       "      <td>2</td>\n",
       "      <td>4</td>\n",
       "      <td>1</td>\n",
       "      <td>162.0</td>\n",
       "      <td>2001</td>\n",
       "      <td>6</td>\n",
       "      <td>11</td>\n",
       "      <td>13</td>\n",
       "      <td>2</td>\n",
       "      <td>6</td>\n",
       "      <td>5</td>\n",
       "      <td>8</td>\n",
       "      <td>9.328123</td>\n",
       "      <td>486</td>\n",
       "      <td>4.219508</td>\n",
       "      <td>866</td>\n",
       "      <td>223500</td>\n",
       "      <td>0</td>\n",
       "      <td>0</td>\n",
       "      <td>0</td>\n",
       "    </tr>\n",
       "    <tr>\n",
       "      <th>3</th>\n",
       "      <td>7</td>\n",
       "      <td>1</td>\n",
       "      <td>2</td>\n",
       "      <td>2</td>\n",
       "      <td>2</td>\n",
       "      <td>4</td>\n",
       "      <td>1</td>\n",
       "      <td>17.078784</td>\n",
       "      <td>86.769364</td>\n",
       "      <td>6.867974</td>\n",
       "      <td>7.448334</td>\n",
       "      <td>1</td>\n",
       "      <td>3</td>\n",
       "      <td>18</td>\n",
       "      <td>1</td>\n",
       "      <td>3</td>\n",
       "      <td>1</td>\n",
       "      <td>0.0</td>\n",
       "      <td>1998</td>\n",
       "      <td>6</td>\n",
       "      <td>5</td>\n",
       "      <td>3</td>\n",
       "      <td>1</td>\n",
       "      <td>4</td>\n",
       "      <td>2</td>\n",
       "      <td>8</td>\n",
       "      <td>9.164296</td>\n",
       "      <td>216</td>\n",
       "      <td>4.094345</td>\n",
       "      <td>756</td>\n",
       "      <td>140000</td>\n",
       "      <td>0</td>\n",
       "      <td>0</td>\n",
       "      <td>0</td>\n",
       "    </tr>\n",
       "    <tr>\n",
       "      <th>4</th>\n",
       "      <td>8</td>\n",
       "      <td>2</td>\n",
       "      <td>6</td>\n",
       "      <td>3</td>\n",
       "      <td>2</td>\n",
       "      <td>3</td>\n",
       "      <td>2</td>\n",
       "      <td>3.656854</td>\n",
       "      <td>87.442719</td>\n",
       "      <td>7.043160</td>\n",
       "      <td>7.695303</td>\n",
       "      <td>2</td>\n",
       "      <td>3</td>\n",
       "      <td>23</td>\n",
       "      <td>2</td>\n",
       "      <td>4</td>\n",
       "      <td>1</td>\n",
       "      <td>350.0</td>\n",
       "      <td>2000</td>\n",
       "      <td>6</td>\n",
       "      <td>11</td>\n",
       "      <td>13</td>\n",
       "      <td>3</td>\n",
       "      <td>6</td>\n",
       "      <td>5</td>\n",
       "      <td>8</td>\n",
       "      <td>9.565214</td>\n",
       "      <td>655</td>\n",
       "      <td>4.430817</td>\n",
       "      <td>1053</td>\n",
       "      <td>250000</td>\n",
       "      <td>0</td>\n",
       "      <td>0</td>\n",
       "      <td>0</td>\n",
       "    </tr>\n",
       "  </tbody>\n",
       "</table>\n",
       "</div>"
      ],
      "text/plain": [
       "   OverallQual  ExterQual  Foundation  BsmtQual  KitchenQual  FireplaceQu  \\\n",
       "0            7          2           6         3            2            1   \n",
       "1            6          1           3         3            1            3   \n",
       "2            7          2           6         3            2            3   \n",
       "3            7          1           2         2            2            4   \n",
       "4            8          2           6         3            2            3   \n",
       "\n",
       "   GarageFinish   YearDiff  YearRemodAdd  1stFlrSF  GrLivArea  FullBath  \\\n",
       "0             2   2.472136     87.509776  6.752270   7.444249         2   \n",
       "1             2   9.135529     86.904443  7.140453   7.140453         2   \n",
       "2             2   3.291503     87.487429  6.824374   7.487734         2   \n",
       "3             1  17.078784     86.769364  6.867974   7.448334         1   \n",
       "4             2   3.656854     87.442719  7.043160   7.695303         2   \n",
       "\n",
       "   GarageCars  Neighborhood  MasVnrType  HeatingQC  Fireplaces  MasVnrArea  \\\n",
       "0           2            16           2          4           0       196.0   \n",
       "1           2            19           1          4           1         0.0   \n",
       "2           2            16           2          4           1       162.0   \n",
       "3           3            18           1          3           1         0.0   \n",
       "4           3            23           2          4           1       350.0   \n",
       "\n",
       "   GarageYrBlt  HouseStyle  Exterior1st  Exterior2nd  BsmtExposure  \\\n",
       "0         2003           6           11           13             1   \n",
       "1         1976           4            6            4             4   \n",
       "2         2001           6           11           13             2   \n",
       "3         1998           6            5            3             1   \n",
       "4         2000           6           11           13             3   \n",
       "\n",
       "   BsmtFinType1  GarageType  OverallCond   LotArea  BsmtFinSF1  LotFrontage  \\\n",
       "0             6           5            8  9.041922         706     4.174387   \n",
       "1             4           5            4  9.169518         978     4.382027   \n",
       "2             6           5            8  9.328123         486     4.219508   \n",
       "3             4           2            8  9.164296         216     4.094345   \n",
       "4             6           5            8  9.565214         655     4.430817   \n",
       "\n",
       "   2ndFlrSF  SalePrice  no_garage  is_BsmtFinSF1_0  is_2ndFlrSF_0  \n",
       "0       854     208500          0                0              0  \n",
       "1         0     181500          0                0              1  \n",
       "2       866     223500          0                0              0  \n",
       "3       756     140000          0                0              0  \n",
       "4      1053     250000          0                0              0  "
      ]
     },
     "execution_count": 5,
     "metadata": {},
     "output_type": "execute_result"
    }
   ],
   "source": [
    "features_df = pd.read_csv(\"../Data/train_features_df.csv\")\n",
    "features_df.head()"
   ]
  },
  {
   "cell_type": "code",
   "execution_count": 6,
   "metadata": {
    "ExecuteTime": {
     "end_time": "2020-12-18T06:50:59.161921Z",
     "start_time": "2020-12-18T06:50:59.027778Z"
    }
   },
   "outputs": [
    {
     "data": {
      "text/html": [
       "<div>\n",
       "<style scoped>\n",
       "    .dataframe tbody tr th:only-of-type {\n",
       "        vertical-align: middle;\n",
       "    }\n",
       "\n",
       "    .dataframe tbody tr th {\n",
       "        vertical-align: top;\n",
       "    }\n",
       "\n",
       "    .dataframe thead th {\n",
       "        text-align: right;\n",
       "    }\n",
       "</style>\n",
       "<table border=\"1\" class=\"dataframe\">\n",
       "  <thead>\n",
       "    <tr style=\"text-align: right;\">\n",
       "      <th></th>\n",
       "      <th>OverallQual</th>\n",
       "      <th>ExterQual</th>\n",
       "      <th>Foundation</th>\n",
       "      <th>BsmtQual</th>\n",
       "      <th>KitchenQual</th>\n",
       "      <th>FireplaceQu</th>\n",
       "      <th>GarageFinish</th>\n",
       "      <th>YearDiff</th>\n",
       "      <th>YearRemodAdd</th>\n",
       "      <th>1stFlrSF</th>\n",
       "      <th>GrLivArea</th>\n",
       "      <th>FullBath</th>\n",
       "      <th>GarageCars</th>\n",
       "      <th>Neighborhood</th>\n",
       "      <th>MasVnrType</th>\n",
       "      <th>HeatingQC</th>\n",
       "      <th>Fireplaces</th>\n",
       "      <th>MasVnrArea</th>\n",
       "      <th>GarageYrBlt</th>\n",
       "      <th>HouseStyle</th>\n",
       "      <th>Exterior1st</th>\n",
       "      <th>Exterior2nd</th>\n",
       "      <th>BsmtExposure</th>\n",
       "      <th>BsmtFinType1</th>\n",
       "      <th>GarageType</th>\n",
       "      <th>OverallCond</th>\n",
       "      <th>LotArea</th>\n",
       "      <th>BsmtFinSF1</th>\n",
       "      <th>LotFrontage</th>\n",
       "      <th>2ndFlrSF</th>\n",
       "      <th>SalePrice</th>\n",
       "    </tr>\n",
       "  </thead>\n",
       "  <tbody>\n",
       "    <tr>\n",
       "      <th>0</th>\n",
       "      <td>7</td>\n",
       "      <td>Gd</td>\n",
       "      <td>PConc</td>\n",
       "      <td>Gd</td>\n",
       "      <td>Gd</td>\n",
       "      <td>NaN</td>\n",
       "      <td>RFn</td>\n",
       "      <td>5</td>\n",
       "      <td>2003</td>\n",
       "      <td>856</td>\n",
       "      <td>1710</td>\n",
       "      <td>2</td>\n",
       "      <td>2</td>\n",
       "      <td>CollgCr</td>\n",
       "      <td>BrkFace</td>\n",
       "      <td>Ex</td>\n",
       "      <td>0</td>\n",
       "      <td>196.0</td>\n",
       "      <td>2003.0</td>\n",
       "      <td>2Story</td>\n",
       "      <td>VinylSd</td>\n",
       "      <td>VinylSd</td>\n",
       "      <td>No</td>\n",
       "      <td>GLQ</td>\n",
       "      <td>Attchd</td>\n",
       "      <td>5</td>\n",
       "      <td>8450</td>\n",
       "      <td>706</td>\n",
       "      <td>65.0</td>\n",
       "      <td>854</td>\n",
       "      <td>208500</td>\n",
       "    </tr>\n",
       "    <tr>\n",
       "      <th>1</th>\n",
       "      <td>6</td>\n",
       "      <td>TA</td>\n",
       "      <td>CBlock</td>\n",
       "      <td>Gd</td>\n",
       "      <td>TA</td>\n",
       "      <td>TA</td>\n",
       "      <td>RFn</td>\n",
       "      <td>31</td>\n",
       "      <td>1976</td>\n",
       "      <td>1262</td>\n",
       "      <td>1262</td>\n",
       "      <td>2</td>\n",
       "      <td>2</td>\n",
       "      <td>Veenker</td>\n",
       "      <td>None</td>\n",
       "      <td>Ex</td>\n",
       "      <td>1</td>\n",
       "      <td>0.0</td>\n",
       "      <td>1976.0</td>\n",
       "      <td>1Story</td>\n",
       "      <td>MetalSd</td>\n",
       "      <td>MetalSd</td>\n",
       "      <td>Gd</td>\n",
       "      <td>ALQ</td>\n",
       "      <td>Attchd</td>\n",
       "      <td>8</td>\n",
       "      <td>9600</td>\n",
       "      <td>978</td>\n",
       "      <td>80.0</td>\n",
       "      <td>0</td>\n",
       "      <td>181500</td>\n",
       "    </tr>\n",
       "    <tr>\n",
       "      <th>2</th>\n",
       "      <td>7</td>\n",
       "      <td>Gd</td>\n",
       "      <td>PConc</td>\n",
       "      <td>Gd</td>\n",
       "      <td>Gd</td>\n",
       "      <td>TA</td>\n",
       "      <td>RFn</td>\n",
       "      <td>7</td>\n",
       "      <td>2002</td>\n",
       "      <td>920</td>\n",
       "      <td>1786</td>\n",
       "      <td>2</td>\n",
       "      <td>2</td>\n",
       "      <td>CollgCr</td>\n",
       "      <td>BrkFace</td>\n",
       "      <td>Ex</td>\n",
       "      <td>1</td>\n",
       "      <td>162.0</td>\n",
       "      <td>2001.0</td>\n",
       "      <td>2Story</td>\n",
       "      <td>VinylSd</td>\n",
       "      <td>VinylSd</td>\n",
       "      <td>Mn</td>\n",
       "      <td>GLQ</td>\n",
       "      <td>Attchd</td>\n",
       "      <td>5</td>\n",
       "      <td>11250</td>\n",
       "      <td>486</td>\n",
       "      <td>68.0</td>\n",
       "      <td>866</td>\n",
       "      <td>223500</td>\n",
       "    </tr>\n",
       "    <tr>\n",
       "      <th>3</th>\n",
       "      <td>7</td>\n",
       "      <td>TA</td>\n",
       "      <td>BrkTil</td>\n",
       "      <td>TA</td>\n",
       "      <td>Gd</td>\n",
       "      <td>Gd</td>\n",
       "      <td>Unf</td>\n",
       "      <td>91</td>\n",
       "      <td>1970</td>\n",
       "      <td>961</td>\n",
       "      <td>1717</td>\n",
       "      <td>1</td>\n",
       "      <td>3</td>\n",
       "      <td>Crawfor</td>\n",
       "      <td>None</td>\n",
       "      <td>Gd</td>\n",
       "      <td>1</td>\n",
       "      <td>0.0</td>\n",
       "      <td>1998.0</td>\n",
       "      <td>2Story</td>\n",
       "      <td>Wd Sdng</td>\n",
       "      <td>Wd Shng</td>\n",
       "      <td>No</td>\n",
       "      <td>ALQ</td>\n",
       "      <td>Detchd</td>\n",
       "      <td>5</td>\n",
       "      <td>9550</td>\n",
       "      <td>216</td>\n",
       "      <td>60.0</td>\n",
       "      <td>756</td>\n",
       "      <td>140000</td>\n",
       "    </tr>\n",
       "    <tr>\n",
       "      <th>4</th>\n",
       "      <td>8</td>\n",
       "      <td>Gd</td>\n",
       "      <td>PConc</td>\n",
       "      <td>Gd</td>\n",
       "      <td>Gd</td>\n",
       "      <td>TA</td>\n",
       "      <td>RFn</td>\n",
       "      <td>8</td>\n",
       "      <td>2000</td>\n",
       "      <td>1145</td>\n",
       "      <td>2198</td>\n",
       "      <td>2</td>\n",
       "      <td>3</td>\n",
       "      <td>NoRidge</td>\n",
       "      <td>BrkFace</td>\n",
       "      <td>Ex</td>\n",
       "      <td>1</td>\n",
       "      <td>350.0</td>\n",
       "      <td>2000.0</td>\n",
       "      <td>2Story</td>\n",
       "      <td>VinylSd</td>\n",
       "      <td>VinylSd</td>\n",
       "      <td>Av</td>\n",
       "      <td>GLQ</td>\n",
       "      <td>Attchd</td>\n",
       "      <td>5</td>\n",
       "      <td>14260</td>\n",
       "      <td>655</td>\n",
       "      <td>84.0</td>\n",
       "      <td>1053</td>\n",
       "      <td>250000</td>\n",
       "    </tr>\n",
       "  </tbody>\n",
       "</table>\n",
       "</div>"
      ],
      "text/plain": [
       "   OverallQual ExterQual Foundation BsmtQual KitchenQual FireplaceQu  \\\n",
       "0            7        Gd      PConc       Gd          Gd         NaN   \n",
       "1            6        TA     CBlock       Gd          TA          TA   \n",
       "2            7        Gd      PConc       Gd          Gd          TA   \n",
       "3            7        TA     BrkTil       TA          Gd          Gd   \n",
       "4            8        Gd      PConc       Gd          Gd          TA   \n",
       "\n",
       "  GarageFinish  YearDiff  YearRemodAdd  1stFlrSF  GrLivArea  FullBath  \\\n",
       "0          RFn         5          2003       856       1710         2   \n",
       "1          RFn        31          1976      1262       1262         2   \n",
       "2          RFn         7          2002       920       1786         2   \n",
       "3          Unf        91          1970       961       1717         1   \n",
       "4          RFn         8          2000      1145       2198         2   \n",
       "\n",
       "   GarageCars Neighborhood MasVnrType HeatingQC  Fireplaces  MasVnrArea  \\\n",
       "0           2      CollgCr    BrkFace        Ex           0       196.0   \n",
       "1           2      Veenker       None        Ex           1         0.0   \n",
       "2           2      CollgCr    BrkFace        Ex           1       162.0   \n",
       "3           3      Crawfor       None        Gd           1         0.0   \n",
       "4           3      NoRidge    BrkFace        Ex           1       350.0   \n",
       "\n",
       "   GarageYrBlt HouseStyle Exterior1st Exterior2nd BsmtExposure BsmtFinType1  \\\n",
       "0       2003.0     2Story     VinylSd     VinylSd           No          GLQ   \n",
       "1       1976.0     1Story     MetalSd     MetalSd           Gd          ALQ   \n",
       "2       2001.0     2Story     VinylSd     VinylSd           Mn          GLQ   \n",
       "3       1998.0     2Story     Wd Sdng     Wd Shng           No          ALQ   \n",
       "4       2000.0     2Story     VinylSd     VinylSd           Av          GLQ   \n",
       "\n",
       "  GarageType  OverallCond  LotArea  BsmtFinSF1  LotFrontage  2ndFlrSF  \\\n",
       "0     Attchd            5     8450         706         65.0       854   \n",
       "1     Attchd            8     9600         978         80.0         0   \n",
       "2     Attchd            5    11250         486         68.0       866   \n",
       "3     Detchd            5     9550         216         60.0       756   \n",
       "4     Attchd            5    14260         655         84.0      1053   \n",
       "\n",
       "   SalePrice  \n",
       "0     208500  \n",
       "1     181500  \n",
       "2     223500  \n",
       "3     140000  \n",
       "4     250000  "
      ]
     },
     "execution_count": 6,
     "metadata": {},
     "output_type": "execute_result"
    }
   ],
   "source": [
    "train_features = high + medium + low + target\n",
    "\n",
    "train_features_df = train_df[train_features]\n",
    "train_features_df[\"YearBuilt\"] = train_df[\"YrSold\"] - train_df[\"YearBuilt\"]\n",
    "train_features_df = train_features_df.rename({\"YearBuilt\": \"YearDiff\"}, axis = 1)\n",
    "\n",
    "train_features_list = train_features_df.columns\n",
    "\n",
    "train_features_df.head()"
   ]
  },
  {
   "cell_type": "code",
   "execution_count": 7,
   "metadata": {
    "ExecuteTime": {
     "end_time": "2020-12-18T06:50:59.287223Z",
     "start_time": "2020-12-18T06:50:59.163917Z"
    }
   },
   "outputs": [
    {
     "data": {
      "text/html": [
       "<div>\n",
       "<style scoped>\n",
       "    .dataframe tbody tr th:only-of-type {\n",
       "        vertical-align: middle;\n",
       "    }\n",
       "\n",
       "    .dataframe tbody tr th {\n",
       "        vertical-align: top;\n",
       "    }\n",
       "\n",
       "    .dataframe thead th {\n",
       "        text-align: right;\n",
       "    }\n",
       "</style>\n",
       "<table border=\"1\" class=\"dataframe\">\n",
       "  <thead>\n",
       "    <tr style=\"text-align: right;\">\n",
       "      <th></th>\n",
       "      <th>OverallQual</th>\n",
       "      <th>ExterQual</th>\n",
       "      <th>Foundation</th>\n",
       "      <th>BsmtQual</th>\n",
       "      <th>KitchenQual</th>\n",
       "      <th>FireplaceQu</th>\n",
       "      <th>GarageFinish</th>\n",
       "      <th>YearDiff</th>\n",
       "      <th>YearRemodAdd</th>\n",
       "      <th>1stFlrSF</th>\n",
       "      <th>GrLivArea</th>\n",
       "      <th>FullBath</th>\n",
       "      <th>GarageCars</th>\n",
       "      <th>Neighborhood</th>\n",
       "      <th>MasVnrType</th>\n",
       "      <th>HeatingQC</th>\n",
       "      <th>Fireplaces</th>\n",
       "      <th>MasVnrArea</th>\n",
       "      <th>GarageYrBlt</th>\n",
       "      <th>HouseStyle</th>\n",
       "      <th>Exterior1st</th>\n",
       "      <th>Exterior2nd</th>\n",
       "      <th>BsmtExposure</th>\n",
       "      <th>BsmtFinType1</th>\n",
       "      <th>GarageType</th>\n",
       "      <th>OverallCond</th>\n",
       "      <th>LotArea</th>\n",
       "      <th>BsmtFinSF1</th>\n",
       "      <th>LotFrontage</th>\n",
       "      <th>2ndFlrSF</th>\n",
       "    </tr>\n",
       "  </thead>\n",
       "  <tbody>\n",
       "    <tr>\n",
       "      <th>0</th>\n",
       "      <td>5</td>\n",
       "      <td>TA</td>\n",
       "      <td>CBlock</td>\n",
       "      <td>TA</td>\n",
       "      <td>TA</td>\n",
       "      <td>NaN</td>\n",
       "      <td>Unf</td>\n",
       "      <td>49</td>\n",
       "      <td>1961</td>\n",
       "      <td>896</td>\n",
       "      <td>896</td>\n",
       "      <td>1</td>\n",
       "      <td>1.0</td>\n",
       "      <td>NAmes</td>\n",
       "      <td>None</td>\n",
       "      <td>TA</td>\n",
       "      <td>0</td>\n",
       "      <td>0.0</td>\n",
       "      <td>1961.0</td>\n",
       "      <td>1Story</td>\n",
       "      <td>VinylSd</td>\n",
       "      <td>VinylSd</td>\n",
       "      <td>No</td>\n",
       "      <td>Rec</td>\n",
       "      <td>Attchd</td>\n",
       "      <td>6</td>\n",
       "      <td>11622</td>\n",
       "      <td>468.0</td>\n",
       "      <td>80.0</td>\n",
       "      <td>0</td>\n",
       "    </tr>\n",
       "    <tr>\n",
       "      <th>1</th>\n",
       "      <td>6</td>\n",
       "      <td>TA</td>\n",
       "      <td>CBlock</td>\n",
       "      <td>TA</td>\n",
       "      <td>Gd</td>\n",
       "      <td>NaN</td>\n",
       "      <td>Unf</td>\n",
       "      <td>52</td>\n",
       "      <td>1958</td>\n",
       "      <td>1329</td>\n",
       "      <td>1329</td>\n",
       "      <td>1</td>\n",
       "      <td>1.0</td>\n",
       "      <td>NAmes</td>\n",
       "      <td>BrkFace</td>\n",
       "      <td>TA</td>\n",
       "      <td>0</td>\n",
       "      <td>108.0</td>\n",
       "      <td>1958.0</td>\n",
       "      <td>1Story</td>\n",
       "      <td>Wd Sdng</td>\n",
       "      <td>Wd Sdng</td>\n",
       "      <td>No</td>\n",
       "      <td>ALQ</td>\n",
       "      <td>Attchd</td>\n",
       "      <td>6</td>\n",
       "      <td>14267</td>\n",
       "      <td>923.0</td>\n",
       "      <td>81.0</td>\n",
       "      <td>0</td>\n",
       "    </tr>\n",
       "    <tr>\n",
       "      <th>2</th>\n",
       "      <td>5</td>\n",
       "      <td>TA</td>\n",
       "      <td>PConc</td>\n",
       "      <td>Gd</td>\n",
       "      <td>TA</td>\n",
       "      <td>TA</td>\n",
       "      <td>Fin</td>\n",
       "      <td>13</td>\n",
       "      <td>1998</td>\n",
       "      <td>928</td>\n",
       "      <td>1629</td>\n",
       "      <td>2</td>\n",
       "      <td>2.0</td>\n",
       "      <td>Gilbert</td>\n",
       "      <td>None</td>\n",
       "      <td>Gd</td>\n",
       "      <td>1</td>\n",
       "      <td>0.0</td>\n",
       "      <td>1997.0</td>\n",
       "      <td>2Story</td>\n",
       "      <td>VinylSd</td>\n",
       "      <td>VinylSd</td>\n",
       "      <td>No</td>\n",
       "      <td>GLQ</td>\n",
       "      <td>Attchd</td>\n",
       "      <td>5</td>\n",
       "      <td>13830</td>\n",
       "      <td>791.0</td>\n",
       "      <td>74.0</td>\n",
       "      <td>701</td>\n",
       "    </tr>\n",
       "    <tr>\n",
       "      <th>3</th>\n",
       "      <td>6</td>\n",
       "      <td>TA</td>\n",
       "      <td>PConc</td>\n",
       "      <td>TA</td>\n",
       "      <td>Gd</td>\n",
       "      <td>Gd</td>\n",
       "      <td>Fin</td>\n",
       "      <td>12</td>\n",
       "      <td>1998</td>\n",
       "      <td>926</td>\n",
       "      <td>1604</td>\n",
       "      <td>2</td>\n",
       "      <td>2.0</td>\n",
       "      <td>Gilbert</td>\n",
       "      <td>BrkFace</td>\n",
       "      <td>Ex</td>\n",
       "      <td>1</td>\n",
       "      <td>20.0</td>\n",
       "      <td>1998.0</td>\n",
       "      <td>2Story</td>\n",
       "      <td>VinylSd</td>\n",
       "      <td>VinylSd</td>\n",
       "      <td>No</td>\n",
       "      <td>GLQ</td>\n",
       "      <td>Attchd</td>\n",
       "      <td>6</td>\n",
       "      <td>9978</td>\n",
       "      <td>602.0</td>\n",
       "      <td>78.0</td>\n",
       "      <td>678</td>\n",
       "    </tr>\n",
       "    <tr>\n",
       "      <th>4</th>\n",
       "      <td>8</td>\n",
       "      <td>Gd</td>\n",
       "      <td>PConc</td>\n",
       "      <td>Gd</td>\n",
       "      <td>Gd</td>\n",
       "      <td>NaN</td>\n",
       "      <td>RFn</td>\n",
       "      <td>18</td>\n",
       "      <td>1992</td>\n",
       "      <td>1280</td>\n",
       "      <td>1280</td>\n",
       "      <td>2</td>\n",
       "      <td>2.0</td>\n",
       "      <td>StoneBr</td>\n",
       "      <td>None</td>\n",
       "      <td>Ex</td>\n",
       "      <td>0</td>\n",
       "      <td>0.0</td>\n",
       "      <td>1992.0</td>\n",
       "      <td>1Story</td>\n",
       "      <td>HdBoard</td>\n",
       "      <td>HdBoard</td>\n",
       "      <td>No</td>\n",
       "      <td>ALQ</td>\n",
       "      <td>Attchd</td>\n",
       "      <td>5</td>\n",
       "      <td>5005</td>\n",
       "      <td>263.0</td>\n",
       "      <td>43.0</td>\n",
       "      <td>0</td>\n",
       "    </tr>\n",
       "  </tbody>\n",
       "</table>\n",
       "</div>"
      ],
      "text/plain": [
       "   OverallQual ExterQual Foundation BsmtQual KitchenQual FireplaceQu  \\\n",
       "0            5        TA     CBlock       TA          TA         NaN   \n",
       "1            6        TA     CBlock       TA          Gd         NaN   \n",
       "2            5        TA      PConc       Gd          TA          TA   \n",
       "3            6        TA      PConc       TA          Gd          Gd   \n",
       "4            8        Gd      PConc       Gd          Gd         NaN   \n",
       "\n",
       "  GarageFinish  YearDiff  YearRemodAdd  1stFlrSF  GrLivArea  FullBath  \\\n",
       "0          Unf        49          1961       896        896         1   \n",
       "1          Unf        52          1958      1329       1329         1   \n",
       "2          Fin        13          1998       928       1629         2   \n",
       "3          Fin        12          1998       926       1604         2   \n",
       "4          RFn        18          1992      1280       1280         2   \n",
       "\n",
       "   GarageCars Neighborhood MasVnrType HeatingQC  Fireplaces  MasVnrArea  \\\n",
       "0         1.0        NAmes       None        TA           0         0.0   \n",
       "1         1.0        NAmes    BrkFace        TA           0       108.0   \n",
       "2         2.0      Gilbert       None        Gd           1         0.0   \n",
       "3         2.0      Gilbert    BrkFace        Ex           1        20.0   \n",
       "4         2.0      StoneBr       None        Ex           0         0.0   \n",
       "\n",
       "   GarageYrBlt HouseStyle Exterior1st Exterior2nd BsmtExposure BsmtFinType1  \\\n",
       "0       1961.0     1Story     VinylSd     VinylSd           No          Rec   \n",
       "1       1958.0     1Story     Wd Sdng     Wd Sdng           No          ALQ   \n",
       "2       1997.0     2Story     VinylSd     VinylSd           No          GLQ   \n",
       "3       1998.0     2Story     VinylSd     VinylSd           No          GLQ   \n",
       "4       1992.0     1Story     HdBoard     HdBoard           No          ALQ   \n",
       "\n",
       "  GarageType  OverallCond  LotArea  BsmtFinSF1  LotFrontage  2ndFlrSF  \n",
       "0     Attchd            6    11622       468.0         80.0         0  \n",
       "1     Attchd            6    14267       923.0         81.0         0  \n",
       "2     Attchd            5    13830       791.0         74.0       701  \n",
       "3     Attchd            6     9978       602.0         78.0       678  \n",
       "4     Attchd            5     5005       263.0         43.0         0  "
      ]
     },
     "execution_count": 7,
     "metadata": {},
     "output_type": "execute_result"
    }
   ],
   "source": [
    "test_features = high + medium + low\n",
    "\n",
    "test_features_df = test_df[test_features]\n",
    "test_features_df[\"YearBuilt\"] = test_df[\"YrSold\"] - test_df[\"YearBuilt\"]\n",
    "test_features_df = test_features_df.rename({\"YearBuilt\": \"YearDiff\"}, axis = 1)\n",
    "\n",
    "test_features_list = test_features_df.columns\n",
    "\n",
    "test_features_df.head()"
   ]
  },
  {
   "cell_type": "markdown",
   "metadata": {},
   "source": [
    "# Filling Null Values"
   ]
  },
  {
   "cell_type": "code",
   "execution_count": 8,
   "metadata": {
    "ExecuteTime": {
     "end_time": "2020-12-18T06:50:59.365014Z",
     "start_time": "2020-12-18T06:50:59.289217Z"
    }
   },
   "outputs": [
    {
     "data": {
      "text/plain": [
       "BsmtQual         44\n",
       "KitchenQual       1\n",
       "FireplaceQu     730\n",
       "GarageFinish     78\n",
       "GarageCars        1\n",
       "MasVnrType       16\n",
       "MasVnrArea       15\n",
       "GarageYrBlt      78\n",
       "Exterior1st       1\n",
       "Exterior2nd       1\n",
       "BsmtExposure     44\n",
       "BsmtFinType1     42\n",
       "GarageType       76\n",
       "BsmtFinSF1        1\n",
       "LotFrontage     227\n",
       "dtype: int64"
      ]
     },
     "execution_count": 8,
     "metadata": {},
     "output_type": "execute_result"
    }
   ],
   "source": [
    "test_features_df.isnull().sum()[test_features_df.isnull().sum() > 0]"
   ]
  },
  {
   "cell_type": "markdown",
   "metadata": {},
   "source": [
    "## BsmtQual"
   ]
  },
  {
   "cell_type": "code",
   "execution_count": 9,
   "metadata": {
    "ExecuteTime": {
     "end_time": "2020-12-18T06:50:59.474074Z",
     "start_time": "2020-12-18T06:50:59.367010Z"
    }
   },
   "outputs": [],
   "source": [
    "test_features_df[\"BsmtQual\"] = test_features_df[\"BsmtQual\"].fillna(\"NA\")"
   ]
  },
  {
   "cell_type": "markdown",
   "metadata": {},
   "source": [
    "## KitchenQual"
   ]
  },
  {
   "cell_type": "code",
   "execution_count": 10,
   "metadata": {
    "ExecuteTime": {
     "end_time": "2020-12-18T06:50:59.569820Z",
     "start_time": "2020-12-18T06:50:59.476070Z"
    }
   },
   "outputs": [],
   "source": [
    "null_idx = test_features_df[test_features_df[\"KitchenQual\"].isnull()].index\n",
    "test_features_df.loc[null_idx, \"KitchenQual\"] = \"TA\""
   ]
  },
  {
   "cell_type": "markdown",
   "metadata": {},
   "source": [
    "## FireplaceQu"
   ]
  },
  {
   "cell_type": "code",
   "execution_count": 11,
   "metadata": {
    "ExecuteTime": {
     "end_time": "2020-12-18T06:50:59.663567Z",
     "start_time": "2020-12-18T06:50:59.572813Z"
    }
   },
   "outputs": [],
   "source": [
    "test_features_df[\"FireplaceQu\"] = test_features_df[\"FireplaceQu\"].fillna(\"NA\")"
   ]
  },
  {
   "cell_type": "code",
   "execution_count": 12,
   "metadata": {
    "ExecuteTime": {
     "end_time": "2020-12-18T06:50:59.774274Z",
     "start_time": "2020-12-18T06:50:59.666560Z"
    }
   },
   "outputs": [
    {
     "data": {
      "text/plain": [
       "0       1\n",
       "1       1\n",
       "2       3\n",
       "3       4\n",
       "4       1\n",
       "       ..\n",
       "1454    1\n",
       "1455    1\n",
       "1456    3\n",
       "1457    1\n",
       "1458    3\n",
       "Name: FireplaceQu, Length: 1459, dtype: int64"
      ]
     },
     "execution_count": 12,
     "metadata": {},
     "output_type": "execute_result"
    }
   ],
   "source": [
    "test_features_df[\"FireplaceQu\"].map({'Po': 0, 'NA': 1, 'Fa': 2, 'TA': 3, 'Gd': 4, 'Ex': 5})"
   ]
  },
  {
   "cell_type": "markdown",
   "metadata": {},
   "source": [
    "## GarageFinish"
   ]
  },
  {
   "cell_type": "code",
   "execution_count": 13,
   "metadata": {
    "ExecuteTime": {
     "end_time": "2020-12-18T06:50:59.870017Z",
     "start_time": "2020-12-18T06:50:59.776268Z"
    }
   },
   "outputs": [],
   "source": [
    "test_features_df[\"GarageFinish\"] = test_features_df[\"GarageFinish\"].fillna(\"NA\")"
   ]
  },
  {
   "cell_type": "markdown",
   "metadata": {},
   "source": [
    "## GarageCars"
   ]
  },
  {
   "cell_type": "code",
   "execution_count": 14,
   "metadata": {
    "ExecuteTime": {
     "end_time": "2020-12-18T06:50:59.965759Z",
     "start_time": "2020-12-18T06:50:59.872012Z"
    }
   },
   "outputs": [
    {
     "data": {
      "text/plain": [
       "0    81\n",
       "Name: GarageCars, dtype: int64"
      ]
     },
     "execution_count": 14,
     "metadata": {},
     "output_type": "execute_result"
    }
   ],
   "source": [
    "train_features_df[train_features_df[\"GarageFinish\"].isnull()][\"GarageCars\"].value_counts()"
   ]
  },
  {
   "cell_type": "code",
   "execution_count": 15,
   "metadata": {
    "ExecuteTime": {
     "end_time": "2020-12-18T06:51:00.059511Z",
     "start_time": "2020-12-18T06:50:59.967763Z"
    }
   },
   "outputs": [],
   "source": [
    "test_features_df[\"GarageCars\"] = test_features_df[\"GarageCars\"].fillna(0)\n",
    "test_features_df[\"GarageCars\"] = test_features_df[\"GarageCars\"].astype(\"int\")"
   ]
  },
  {
   "cell_type": "markdown",
   "metadata": {},
   "source": [
    "## MasVnrType"
   ]
  },
  {
   "cell_type": "code",
   "execution_count": 16,
   "metadata": {
    "ExecuteTime": {
     "end_time": "2020-12-18T06:51:00.167220Z",
     "start_time": "2020-12-18T06:51:00.062502Z"
    }
   },
   "outputs": [],
   "source": [
    "test_features_df[\"MasVnrType\"] = test_features_df[\"MasVnrType\"].fillna(\"NA\")"
   ]
  },
  {
   "cell_type": "markdown",
   "metadata": {},
   "source": [
    "## MasVnrArea"
   ]
  },
  {
   "cell_type": "code",
   "execution_count": 17,
   "metadata": {
    "ExecuteTime": {
     "end_time": "2020-12-18T06:51:00.263004Z",
     "start_time": "2020-12-18T06:51:00.169216Z"
    }
   },
   "outputs": [],
   "source": [
    "test_features_df[\"MasVnrArea\"] = test_features_df[\"MasVnrArea\"].fillna(0)"
   ]
  },
  {
   "cell_type": "markdown",
   "metadata": {},
   "source": [
    "## GarageYrBlt"
   ]
  },
  {
   "cell_type": "code",
   "execution_count": 18,
   "metadata": {
    "ExecuteTime": {
     "end_time": "2020-12-18T06:51:00.357751Z",
     "start_time": "2020-12-18T06:51:00.264960Z"
    }
   },
   "outputs": [],
   "source": [
    "test_features_df[\"GarageYrBlt\"] = test_features_df[\"GarageYrBlt\"].fillna(1950)\n",
    "test_features_df[\"GarageYrBlt\"] = test_features_df[\"GarageYrBlt\"].astype(\"int\")"
   ]
  },
  {
   "cell_type": "markdown",
   "metadata": {},
   "source": [
    "## Exterior1st"
   ]
  },
  {
   "cell_type": "code",
   "execution_count": 19,
   "metadata": {
    "ExecuteTime": {
     "end_time": "2020-12-18T06:51:00.468497Z",
     "start_time": "2020-12-18T06:51:00.359706Z"
    }
   },
   "outputs": [
    {
     "data": {
      "text/plain": [
       "VinylSd    510\n",
       "MetalSd    230\n",
       "HdBoard    220\n",
       "Wd Sdng    205\n",
       "Plywood    113\n",
       "CemntBd     65\n",
       "BrkFace     37\n",
       "WdShing     30\n",
       "AsbShng     24\n",
       "Stucco      18\n",
       "BrkComm      4\n",
       "AsphShn      1\n",
       "CBlock       1\n",
       "Name: Exterior1st, dtype: int64"
      ]
     },
     "execution_count": 19,
     "metadata": {},
     "output_type": "execute_result"
    }
   ],
   "source": [
    "test_features_df[\"Exterior1st\"].value_counts()"
   ]
  },
  {
   "cell_type": "code",
   "execution_count": 20,
   "metadata": {
    "ExecuteTime": {
     "end_time": "2020-12-18T06:51:00.562208Z",
     "start_time": "2020-12-18T06:51:00.470453Z"
    }
   },
   "outputs": [],
   "source": [
    "test_features_df[\"Exterior1st\"] = test_features_df[\"Exterior1st\"].fillna(\"VinylSd\")"
   ]
  },
  {
   "cell_type": "markdown",
   "metadata": {},
   "source": [
    "## Exterior2nd"
   ]
  },
  {
   "cell_type": "code",
   "execution_count": 21,
   "metadata": {
    "ExecuteTime": {
     "end_time": "2020-12-18T06:51:00.673911Z",
     "start_time": "2020-12-18T06:51:00.567197Z"
    }
   },
   "outputs": [
    {
     "data": {
      "text/plain": [
       "VinylSd    510\n",
       "MetalSd    233\n",
       "HdBoard    199\n",
       "Wd Sdng    194\n",
       "Plywood    128\n",
       "CmentBd     66\n",
       "Wd Shng     43\n",
       "BrkFace     22\n",
       "Stucco      21\n",
       "AsbShng     18\n",
       "Brk Cmn     15\n",
       "ImStucc      5\n",
       "CBlock       2\n",
       "Stone        1\n",
       "AsphShn      1\n",
       "Name: Exterior2nd, dtype: int64"
      ]
     },
     "execution_count": 21,
     "metadata": {},
     "output_type": "execute_result"
    }
   ],
   "source": [
    "test_features_df[\"Exterior2nd\"].value_counts()"
   ]
  },
  {
   "cell_type": "code",
   "execution_count": 22,
   "metadata": {
    "ExecuteTime": {
     "end_time": "2020-12-18T06:51:00.769652Z",
     "start_time": "2020-12-18T06:51:00.676903Z"
    }
   },
   "outputs": [],
   "source": [
    "test_features_df[\"Exterior2nd\"] = test_features_df[\"Exterior2nd\"].fillna(\"VinylSd\")"
   ]
  },
  {
   "cell_type": "markdown",
   "metadata": {},
   "source": [
    "## BsmtExposure"
   ]
  },
  {
   "cell_type": "code",
   "execution_count": 23,
   "metadata": {
    "ExecuteTime": {
     "end_time": "2020-12-18T06:51:00.942697Z",
     "start_time": "2020-12-18T06:51:00.771647Z"
    }
   },
   "outputs": [],
   "source": [
    "test_features_df[\"BsmtExposure\"] = test_features_df[\"BsmtExposure\"].fillna(\"NA\")"
   ]
  },
  {
   "cell_type": "markdown",
   "metadata": {},
   "source": [
    "## BsmtFinType1"
   ]
  },
  {
   "cell_type": "code",
   "execution_count": 24,
   "metadata": {
    "ExecuteTime": {
     "end_time": "2020-12-18T06:51:01.036445Z",
     "start_time": "2020-12-18T06:51:00.944692Z"
    }
   },
   "outputs": [],
   "source": [
    "test_features_df[\"BsmtFinType1\"] = test_features_df[\"BsmtFinType1\"].fillna(\"NA\")"
   ]
  },
  {
   "cell_type": "markdown",
   "metadata": {},
   "source": [
    "## GarageType"
   ]
  },
  {
   "cell_type": "code",
   "execution_count": 25,
   "metadata": {
    "ExecuteTime": {
     "end_time": "2020-12-18T06:51:01.131236Z",
     "start_time": "2020-12-18T06:51:01.039441Z"
    }
   },
   "outputs": [],
   "source": [
    "test_features_df[\"GarageType\"] = test_features_df[\"GarageType\"].fillna(\"NA\")"
   ]
  },
  {
   "cell_type": "markdown",
   "metadata": {},
   "source": [
    "## BsmtFinSF1"
   ]
  },
  {
   "cell_type": "code",
   "execution_count": 26,
   "metadata": {
    "ExecuteTime": {
     "end_time": "2020-12-18T06:51:01.242930Z",
     "start_time": "2020-12-18T06:51:01.134189Z"
    }
   },
   "outputs": [],
   "source": [
    "test_features_df[\"BsmtFinSF1\"] = test_features_df[\"BsmtFinSF1\"].fillna(0)"
   ]
  },
  {
   "cell_type": "markdown",
   "metadata": {},
   "source": [
    "## LotFrontage"
   ]
  },
  {
   "cell_type": "code",
   "execution_count": 27,
   "metadata": {
    "ExecuteTime": {
     "end_time": "2020-12-18T06:51:01.809378Z",
     "start_time": "2020-12-18T06:51:01.244889Z"
    }
   },
   "outputs": [
    {
     "name": "stdout",
     "output_type": "stream",
     "text": [
      "(1232,) (227,)\n",
      "[0.00320437] 38.118229882785734\n"
     ]
    },
    {
     "data": {
      "image/png": "[encoded data removed]",
      "text/plain": [
       "<Figure size 432x288 with 1 Axes>"
      ]
     },
     "metadata": {
      "needs_background": "light"
     },
     "output_type": "display_data"
    }
   ],
   "source": [
    "X, y = test_features_df[\"LotArea\"].values, test_features_df[\"LotFrontage\"].values\n",
    "X_train, X_test = test_features_df[test_features_df[\"LotFrontage\"].notnull()][\"LotArea\"].values, test_features_df[test_features_df[\"LotFrontage\"].isnull()][\"LotArea\"].values\n",
    "y_train, y_test = test_features_df[test_features_df[\"LotFrontage\"].notnull()][\"LotFrontage\"].values, test_features_df[test_features_df[\"LotFrontage\"].isnull()][\"LotFrontage\"].values\n",
    "\n",
    "\n",
    "print(X_train.shape, X_test.shape)\n",
    "\n",
    "lr = LinearRegression().fit(X_train.reshape((-1, 1)), y_train)\n",
    "print(lr.coef_, lr.intercept_)\n",
    "\n",
    "y_preds = lr.predict(X_test.reshape((-1, 1)))\n",
    "\n",
    "plt.scatter(X, y)\n",
    "plt.scatter(X_test, y_preds, color = \"red\", label = \"Predicted Null Values\")\n",
    "\n",
    "plt.xlabel(\"LotArea\")\n",
    "plt.ylabel(\"LotFrontage\")\n",
    "\n",
    "plt.legend()\n",
    "plt.show()"
   ]
  },
  {
   "cell_type": "code",
   "execution_count": 28,
   "metadata": {
    "ExecuteTime": {
     "end_time": "2020-12-18T06:51:01.825337Z",
     "start_time": "2020-12-18T06:51:01.812372Z"
    }
   },
   "outputs": [],
   "source": [
    "null_idx = test_features_df[test_features_df[\"LotFrontage\"].isnull()].index\n",
    "test_features_df.loc[null_idx, \"LotFrontage\"] = y_preds"
   ]
  },
  {
   "cell_type": "markdown",
   "metadata": {},
   "source": [
    "## Checking all Columns for Null Values"
   ]
  },
  {
   "cell_type": "code",
   "execution_count": 29,
   "metadata": {
    "ExecuteTime": {
     "end_time": "2020-12-18T06:51:01.982958Z",
     "start_time": "2020-12-18T06:51:01.827331Z"
    }
   },
   "outputs": [
    {
     "data": {
      "text/plain": [
       "OverallQual     0\n",
       "ExterQual       0\n",
       "Foundation      0\n",
       "BsmtQual        0\n",
       "KitchenQual     0\n",
       "FireplaceQu     0\n",
       "GarageFinish    0\n",
       "YearDiff        0\n",
       "YearRemodAdd    0\n",
       "1stFlrSF        0\n",
       "GrLivArea       0\n",
       "FullBath        0\n",
       "GarageCars      0\n",
       "Neighborhood    0\n",
       "MasVnrType      0\n",
       "HeatingQC       0\n",
       "Fireplaces      0\n",
       "MasVnrArea      0\n",
       "GarageYrBlt     0\n",
       "HouseStyle      0\n",
       "Exterior1st     0\n",
       "Exterior2nd     0\n",
       "BsmtExposure    0\n",
       "BsmtFinType1    0\n",
       "GarageType      0\n",
       "OverallCond     0\n",
       "LotArea         0\n",
       "BsmtFinSF1      0\n",
       "LotFrontage     0\n",
       "2ndFlrSF        0\n",
       "dtype: int64"
      ]
     },
     "execution_count": 29,
     "metadata": {},
     "output_type": "execute_result"
    }
   ],
   "source": [
    "test_features_df.isnull().sum()"
   ]
  },
  {
   "cell_type": "code",
   "execution_count": 30,
   "metadata": {
    "ExecuteTime": {
     "end_time": "2020-12-18T06:51:02.094661Z",
     "start_time": "2020-12-18T06:51:01.985952Z"
    }
   },
   "outputs": [
    {
     "name": "stdout",
     "output_type": "stream",
     "text": [
      "<class 'pandas.core.frame.DataFrame'>\n",
      "RangeIndex: 1459 entries, 0 to 1458\n",
      "Data columns (total 30 columns):\n",
      " #   Column        Non-Null Count  Dtype  \n",
      "---  ------        --------------  -----  \n",
      " 0   OverallQual   1459 non-null   int64  \n",
      " 1   ExterQual     1459 non-null   object \n",
      " 2   Foundation    1459 non-null   object \n",
      " 3   BsmtQual      1459 non-null   object \n",
      " 4   KitchenQual   1459 non-null   object \n",
      " 5   FireplaceQu   1459 non-null   object \n",
      " 6   GarageFinish  1459 non-null   object \n",
      " 7   YearDiff      1459 non-null   int64  \n",
      " 8   YearRemodAdd  1459 non-null   int64  \n",
      " 9   1stFlrSF      1459 non-null   int64  \n",
      " 10  GrLivArea     1459 non-null   int64  \n",
      " 11  FullBath      1459 non-null   int64  \n",
      " 12  GarageCars    1459 non-null   int32  \n",
      " 13  Neighborhood  1459 non-null   object \n",
      " 14  MasVnrType    1459 non-null   object \n",
      " 15  HeatingQC     1459 non-null   object \n",
      " 16  Fireplaces    1459 non-null   int64  \n",
      " 17  MasVnrArea    1459 non-null   float64\n",
      " 18  GarageYrBlt   1459 non-null   int32  \n",
      " 19  HouseStyle    1459 non-null   object \n",
      " 20  Exterior1st   1459 non-null   object \n",
      " 21  Exterior2nd   1459 non-null   object \n",
      " 22  BsmtExposure  1459 non-null   object \n",
      " 23  BsmtFinType1  1459 non-null   object \n",
      " 24  GarageType    1459 non-null   object \n",
      " 25  OverallCond   1459 non-null   int64  \n",
      " 26  LotArea       1459 non-null   int64  \n",
      " 27  BsmtFinSF1    1459 non-null   float64\n",
      " 28  LotFrontage   1459 non-null   float64\n",
      " 29  2ndFlrSF      1459 non-null   int64  \n",
      "dtypes: float64(3), int32(2), int64(10), object(15)\n",
      "memory usage: 330.7+ KB\n"
     ]
    }
   ],
   "source": [
    "test_features_df.info()"
   ]
  },
  {
   "cell_type": "markdown",
   "metadata": {},
   "source": [
    "# Encoding Categorical Features"
   ]
  },
  {
   "cell_type": "markdown",
   "metadata": {
    "heading_collapsed": true
   },
   "source": [
    "## High"
   ]
  },
  {
   "cell_type": "markdown",
   "metadata": {
    "hidden": true
   },
   "source": [
    "### OverallQual"
   ]
  },
  {
   "cell_type": "markdown",
   "metadata": {
    "hidden": true
   },
   "source": [
    "**Already Encoded**"
   ]
  },
  {
   "cell_type": "markdown",
   "metadata": {
    "hidden": true
   },
   "source": [
    "### ExterQual"
   ]
  },
  {
   "cell_type": "code",
   "execution_count": 31,
   "metadata": {
    "ExecuteTime": {
     "end_time": "2020-12-18T06:51:02.204854Z",
     "start_time": "2020-12-18T06:51:02.099648Z"
    },
    "hidden": true
   },
   "outputs": [],
   "source": [
    "map_dict = {'Fa': 0, 'TA': 1, 'Gd': 2, 'Ex': 3}\n",
    "test_features_df[\"ExterQual\"] = test_features_df[\"ExterQual\"].map(map_dict)"
   ]
  },
  {
   "cell_type": "markdown",
   "metadata": {
    "hidden": true
   },
   "source": [
    "### Foundation"
   ]
  },
  {
   "cell_type": "code",
   "execution_count": 32,
   "metadata": {
    "ExecuteTime": {
     "end_time": "2020-12-18T06:51:02.315110Z",
     "start_time": "2020-12-18T06:51:02.207848Z"
    },
    "hidden": true
   },
   "outputs": [],
   "source": [
    "map_dict = {\"Slab\": 1, \"BrkTil\": 2, \"CBlock\": 3,\n",
    "            \"Stone\": 4, \"Wood\": 5, \"PConc\": 6}\n",
    "test_features_df[\"Foundation\"] = test_features_df[\"Foundation\"].map(map_dict)"
   ]
  },
  {
   "cell_type": "markdown",
   "metadata": {
    "hidden": true
   },
   "source": [
    "### BsmtQual"
   ]
  },
  {
   "cell_type": "code",
   "execution_count": 33,
   "metadata": {
    "ExecuteTime": {
     "end_time": "2020-12-18T06:51:02.426774Z",
     "start_time": "2020-12-18T06:51:02.317069Z"
    },
    "hidden": true
   },
   "outputs": [],
   "source": [
    "map_dict = {'NA': 0, 'Fa': 1, 'TA': 2, 'Gd': 3, 'Ex': 4}\n",
    "test_features_df[\"BsmtQual\"] = test_features_df[\"BsmtQual\"].map(map_dict)"
   ]
  },
  {
   "cell_type": "markdown",
   "metadata": {
    "hidden": true
   },
   "source": [
    "### KitchenQual"
   ]
  },
  {
   "cell_type": "code",
   "execution_count": 34,
   "metadata": {
    "ExecuteTime": {
     "end_time": "2020-12-18T06:51:02.521521Z",
     "start_time": "2020-12-18T06:51:02.428768Z"
    },
    "hidden": true
   },
   "outputs": [],
   "source": [
    "map_dict = {'Fa': 0, 'TA': 1, 'Gd': 2, 'Ex': 3}\n",
    "test_features_df[\"KitchenQual\"] = test_features_df[\"KitchenQual\"].map(map_dict)"
   ]
  },
  {
   "cell_type": "markdown",
   "metadata": {
    "hidden": true
   },
   "source": [
    "### FireplaceQu"
   ]
  },
  {
   "cell_type": "code",
   "execution_count": 36,
   "metadata": {
    "ExecuteTime": {
     "end_time": "2020-12-18T06:51:02.708749Z",
     "start_time": "2020-12-18T06:51:02.618261Z"
    },
    "hidden": true
   },
   "outputs": [],
   "source": [
    "map_dict = {'Po': 0, 'NA': 1, 'Fa': 2, 'TA': 3, 'Gd': 4, 'Ex': 5}\n",
    "test_features_df[\"FireplaceQu\"] = test_features_df[\"FireplaceQu\"].map(map_dict)"
   ]
  },
  {
   "cell_type": "markdown",
   "metadata": {
    "hidden": true
   },
   "source": [
    "### GarageFinish"
   ]
  },
  {
   "cell_type": "code",
   "execution_count": 40,
   "metadata": {
    "ExecuteTime": {
     "end_time": "2020-12-18T06:51:56.364105Z",
     "start_time": "2020-12-18T06:51:56.354130Z"
    },
    "hidden": true
   },
   "outputs": [],
   "source": [
    "map_dict = {'NA': 0, 'Unf': 1, 'RFn': 2, 'Fin': 3}\n",
    "test_features_df[\"GarageFinish\"] = test_features_df[\"GarageFinish\"].map(map_dict)"
   ]
  },
  {
   "cell_type": "markdown",
   "metadata": {
    "heading_collapsed": true
   },
   "source": [
    "## Medium"
   ]
  },
  {
   "cell_type": "markdown",
   "metadata": {
    "hidden": true
   },
   "source": [
    "### Neighborhood"
   ]
  },
  {
   "cell_type": "code",
   "execution_count": 42,
   "metadata": {
    "ExecuteTime": {
     "end_time": "2020-12-18T06:54:45.024150Z",
     "start_time": "2020-12-18T06:54:45.004168Z"
    },
    "hidden": true
   },
   "outputs": [],
   "source": [
    "map_dict = {\n",
    "    'MeadowV': 0, 'IDOTRR': 1, 'BrDale': 2, 'OldTown': 3, 'Edwards': 4, \n",
    "    'BrkSide': 5, 'Sawyer': 6, 'Blueste': 7, 'SWISU': 8, 'NAmes': 9, \n",
    "    'NPkVill': 10, 'Mitchel': 11, 'SawyerW': 12, 'Gilbert': 13, 'NWAmes': 14, \n",
    "    'Blmngtn': 15, 'CollgCr': 16, 'ClearCr': 17, 'Crawfor': 18, 'Veenker': 19, \n",
    "    'Somerst': 20, 'Timber': 21, 'StoneBr': 22, 'NoRidge': 23, 'NridgHt': 24\n",
    "}\n",
    "\n",
    "test_features_df[\"Neighborhood\"] = test_features_df[\"Neighborhood\"].map(map_dict)"
   ]
  },
  {
   "cell_type": "markdown",
   "metadata": {
    "hidden": true
   },
   "source": [
    "### MasVnrType"
   ]
  },
  {
   "cell_type": "code",
   "execution_count": 43,
   "metadata": {
    "ExecuteTime": {
     "end_time": "2020-12-18T06:55:32.198258Z",
     "start_time": "2020-12-18T06:55:32.190277Z"
    },
    "hidden": true
   },
   "outputs": [],
   "source": [
    "map_dict = {'BrkCmn': 0, 'None': 1, 'BrkFace': 2, 'NA': 3, 'Stone': 4}\n",
    "test_features_df[\"MasVnrType\"] = test_features_df[\"MasVnrType\"].map(map_dict)"
   ]
  },
  {
   "cell_type": "markdown",
   "metadata": {
    "hidden": true
   },
   "source": [
    "### HeatingQC"
   ]
  },
  {
   "cell_type": "code",
   "execution_count": 44,
   "metadata": {
    "ExecuteTime": {
     "end_time": "2020-12-18T06:57:41.764386Z",
     "start_time": "2020-12-18T06:57:41.752458Z"
    },
    "hidden": true
   },
   "outputs": [],
   "source": [
    "map_dict = {'Po': 0, 'Fa': 1, 'TA': 2, 'Gd': 3, 'Ex': 4}\n",
    "test_features_df[\"HeatingQC\"] = test_features_df[\"HeatingQC\"].map(map_dict)"
   ]
  },
  {
   "cell_type": "markdown",
   "metadata": {
    "hidden": true
   },
   "source": [
    "### Fireplaces"
   ]
  },
  {
   "cell_type": "markdown",
   "metadata": {
    "hidden": true
   },
   "source": [
    "**Already Encoded**"
   ]
  },
  {
   "cell_type": "markdown",
   "metadata": {},
   "source": [
    "## Low"
   ]
  },
  {
   "cell_type": "markdown",
   "metadata": {},
   "source": [
    "### HouseStyle"
   ]
  },
  {
   "cell_type": "code",
   "execution_count": 55,
   "metadata": {
    "ExecuteTime": {
     "end_time": "2020-12-18T07:13:12.634997Z",
     "start_time": "2020-12-18T07:13:12.619042Z"
    }
   },
   "outputs": [],
   "source": [
    "map_dict = {'1.5Unf': 0, '1.5Fin': 1, '2.5Unf': 2, 'SFoyer': 3, \n",
    "            '1Story': 4, 'SLvl': 5, '2Story': 6, '2.5Fin': 7}\n",
    "test_features_df[\"HouseStyle\"] = test_features_df[\"HouseStyle\"].map(map_dict)"
   ]
  },
  {
   "cell_type": "markdown",
   "metadata": {},
   "source": [
    "### Exterior1st"
   ]
  },
  {
   "cell_type": "code",
   "execution_count": 56,
   "metadata": {
    "ExecuteTime": {
     "end_time": "2020-12-18T07:16:34.344121Z",
     "start_time": "2020-12-18T07:16:34.328166Z"
    }
   },
   "outputs": [],
   "source": [
    "map_dict = {'BrkComm': 0, 'AsphShn': 1, 'CBlock': 2, 'AsbShng': 3, 'WdShing': 4, \n",
    "            'Wd Sdng': 5, 'MetalSd': 6, 'Stucco': 7, 'HdBoard': 8, 'BrkFace': 9, \n",
    "            'Plywood': 10, 'VinylSd': 11, 'CemntBd': 12, 'Stone': 13, 'ImStucc': 14}\n",
    "test_features_df[\"Exterior1st\"] = test_features_df[\"Exterior1st\"].map(map_dict)"
   ]
  },
  {
   "cell_type": "markdown",
   "metadata": {},
   "source": [
    "### Exterior2nd"
   ]
  },
  {
   "cell_type": "code",
   "execution_count": 57,
   "metadata": {
    "ExecuteTime": {
     "end_time": "2020-12-18T07:17:34.399119Z",
     "start_time": "2020-12-18T07:17:34.376178Z"
    }
   },
   "outputs": [],
   "source": [
    "map_dict = {'CBlock': 0, 'AsbShng': 1, 'Wd Sdng': 2, 'Wd Shng': 3, 'MetalSd': 4, \n",
    "            'AsphShn': 5, 'Stucco': 6, 'Brk Cmn': 7, 'HdBoard': 8, 'BrkFace': 9, \n",
    "            'Plywood': 10, 'Stone': 11, 'ImStucc': 12, 'VinylSd': 13, 'CmentBd': 14, 'Other': 15}\n",
    "\n",
    "test_features_df[\"Exterior2nd\"] = test_features_df[\"Exterior2nd\"].map(map_dict)"
   ]
  },
  {
   "cell_type": "markdown",
   "metadata": {},
   "source": [
    "### BsmtExposure"
   ]
  },
  {
   "cell_type": "code",
   "execution_count": 59,
   "metadata": {
    "ExecuteTime": {
     "end_time": "2020-12-18T07:18:20.814170Z",
     "start_time": "2020-12-18T07:18:20.799171Z"
    }
   },
   "outputs": [],
   "source": [
    "map_dict = {'NA': 0, 'No': 1, 'Mn': 2, 'Av': 3, 'Gd': 4}\n",
    "test_features_df[\"BsmtExposure\"] = test_features_df[\"BsmtExposure\"].map(map_dict)"
   ]
  },
  {
   "cell_type": "markdown",
   "metadata": {},
   "source": [
    "### BsmtFinType1"
   ]
  },
  {
   "cell_type": "code",
   "execution_count": 60,
   "metadata": {
    "ExecuteTime": {
     "end_time": "2020-12-18T07:19:18.835752Z",
     "start_time": "2020-12-18T07:19:18.826776Z"
    }
   },
   "outputs": [],
   "source": [
    "map_dict = {'NA': 0, 'LwQ': 1, 'BLQ': 2, 'Rec': 3, 'ALQ': 4, 'Unf': 5, 'GLQ': 6}\n",
    "test_features_df[\"BsmtFinType1\"] = test_features_df[\"BsmtFinType1\"].map(map_dict)"
   ]
  },
  {
   "cell_type": "markdown",
   "metadata": {},
   "source": [
    "### GarageType"
   ]
  },
  {
   "cell_type": "code",
   "execution_count": 63,
   "metadata": {
    "ExecuteTime": {
     "end_time": "2020-12-18T07:20:19.852978Z",
     "start_time": "2020-12-18T07:20:19.844999Z"
    }
   },
   "outputs": [],
   "source": [
    "map_dict = {'NA': 0, 'CarPort': 1, 'Detchd': 2, 'Basment': 3, '2Types': 4, 'Attchd': 5, 'BuiltIn': 6}\n",
    "test_features_df[\"GarageType\"] = test_features_df[\"GarageType\"].map(map_dict)"
   ]
  },
  {
   "cell_type": "markdown",
   "metadata": {},
   "source": [
    "### OverallCond"
   ]
  },
  {
   "cell_type": "markdown",
   "metadata": {},
   "source": [
    "**Already Encoded**"
   ]
  },
  {
   "cell_type": "markdown",
   "metadata": {},
   "source": [
    "# Numeric Features Preprocessing"
   ]
  },
  {
   "cell_type": "markdown",
   "metadata": {
    "heading_collapsed": true
   },
   "source": [
    "## High"
   ]
  },
  {
   "cell_type": "markdown",
   "metadata": {
    "hidden": true
   },
   "source": [
    "### YearDiff"
   ]
  },
  {
   "cell_type": "code",
   "execution_count": 72,
   "metadata": {
    "ExecuteTime": {
     "end_time": "2020-12-18T07:35:02.266456Z",
     "start_time": "2020-12-18T07:35:02.056633Z"
    },
    "hidden": true
   },
   "outputs": [],
   "source": [
    "e = pow(10, -20)\n",
    "test_features_df[\"YearDiff\"] = np.where(test_features_df[\"YearDiff\"] == -1, 0, test_features_df[\"YearDiff\"])\n",
    "test_features_df[\"YearDiff\"] = boxcox(test_features_df[\"YearDiff\"] + e, 0.5)"
   ]
  },
  {
   "cell_type": "markdown",
   "metadata": {
    "hidden": true
   },
   "source": [
    "### YearRemodAdd"
   ]
  },
  {
   "cell_type": "code",
   "execution_count": 73,
   "metadata": {
    "ExecuteTime": {
     "end_time": "2020-12-18T07:36:17.641506Z",
     "start_time": "2020-12-18T07:36:17.621560Z"
    },
    "hidden": true
   },
   "outputs": [],
   "source": [
    "e = pow(10, -20)\n",
    "test_features_df[\"YearRemodAdd\"] = boxcox(test_features_df[\"YearRemodAdd\"] + e, 0.5)"
   ]
  },
  {
   "cell_type": "markdown",
   "metadata": {
    "hidden": true
   },
   "source": [
    "### 1stFlrSF"
   ]
  },
  {
   "cell_type": "code",
   "execution_count": 74,
   "metadata": {
    "ExecuteTime": {
     "end_time": "2020-12-18T07:37:00.605054Z",
     "start_time": "2020-12-18T07:37:00.587098Z"
    },
    "hidden": true
   },
   "outputs": [],
   "source": [
    "e = pow(10, -20)\n",
    "test_features_df[\"1stFlrSF\"] = boxcox(test_features_df[\"1stFlrSF\"] + e, 0)"
   ]
  },
  {
   "cell_type": "markdown",
   "metadata": {
    "hidden": true
   },
   "source": [
    "### GrLivArea"
   ]
  },
  {
   "cell_type": "code",
   "execution_count": 75,
   "metadata": {
    "ExecuteTime": {
     "end_time": "2020-12-18T07:37:31.207115Z",
     "start_time": "2020-12-18T07:37:31.196144Z"
    },
    "hidden": true
   },
   "outputs": [],
   "source": [
    "e = pow(10, -20)\n",
    "test_features_df[\"GrLivArea\"] = boxcox(test_features_df[\"GrLivArea\"] + e, 0)"
   ]
  },
  {
   "cell_type": "markdown",
   "metadata": {
    "hidden": true
   },
   "source": [
    "### FullBath"
   ]
  },
  {
   "cell_type": "markdown",
   "metadata": {
    "hidden": true
   },
   "source": [
    "**No Transformation**"
   ]
  },
  {
   "cell_type": "markdown",
   "metadata": {
    "hidden": true
   },
   "source": [
    "### GarageCars"
   ]
  },
  {
   "cell_type": "markdown",
   "metadata": {
    "hidden": true
   },
   "source": [
    "**No Transformation**"
   ]
  },
  {
   "cell_type": "markdown",
   "metadata": {},
   "source": [
    "## Medium"
   ]
  },
  {
   "cell_type": "markdown",
   "metadata": {},
   "source": [
    "### MasVnrArea"
   ]
  },
  {
   "cell_type": "markdown",
   "metadata": {},
   "source": [
    "**No Transformation**"
   ]
  },
  {
   "cell_type": "markdown",
   "metadata": {},
   "source": [
    "### GarageYrBlt"
   ]
  },
  {
   "cell_type": "code",
   "execution_count": 79,
   "metadata": {
    "ExecuteTime": {
     "end_time": "2020-12-18T08:18:55.278224Z",
     "start_time": "2020-12-18T08:18:55.271246Z"
    }
   },
   "outputs": [],
   "source": [
    "e = pow(10, -20)\n",
    "test_features_df[\"GarageYrBlt\"] = boxcox(test_features_df[\"GarageYrBlt\"] + e, 0)"
   ]
  },
  {
   "cell_type": "markdown",
   "metadata": {},
   "source": [
    "## Low"
   ]
  },
  {
   "cell_type": "markdown",
   "metadata": {},
   "source": [
    "### LotArea"
   ]
  },
  {
   "cell_type": "code",
   "execution_count": 80,
   "metadata": {
    "ExecuteTime": {
     "end_time": "2020-12-18T08:24:49.789264Z",
     "start_time": "2020-12-18T08:24:49.768282Z"
    }
   },
   "outputs": [],
   "source": [
    "e = pow(10, -20)\n",
    "test_features_df[\"LotArea\"] = boxcox(test_features_df[\"LotArea\"] + e, 0)"
   ]
  },
  {
   "cell_type": "markdown",
   "metadata": {},
   "source": [
    "### BsmtFinSF1"
   ]
  },
  {
   "cell_type": "markdown",
   "metadata": {},
   "source": [
    "**No Transformation**"
   ]
  },
  {
   "cell_type": "markdown",
   "metadata": {},
   "source": [
    "### LotFrontage"
   ]
  },
  {
   "cell_type": "code",
   "execution_count": 81,
   "metadata": {
    "ExecuteTime": {
     "end_time": "2020-12-18T08:26:09.097139Z",
     "start_time": "2020-12-18T08:26:09.085131Z"
    }
   },
   "outputs": [],
   "source": [
    "e = pow(10, -20)\n",
    "test_features_df[\"LotFrontage\"] = boxcox(test_features_df[\"LotFrontage\"] + e, 0)"
   ]
  },
  {
   "cell_type": "markdown",
   "metadata": {},
   "source": [
    "### 2ndFlrSF"
   ]
  },
  {
   "cell_type": "markdown",
   "metadata": {},
   "source": [
    "**No Transformation**"
   ]
  },
  {
   "cell_type": "markdown",
   "metadata": {},
   "source": [
    "# Factor Variables"
   ]
  },
  {
   "cell_type": "markdown",
   "metadata": {},
   "source": [
    "## no_garage"
   ]
  },
  {
   "cell_type": "code",
   "execution_count": 85,
   "metadata": {
    "ExecuteTime": {
     "end_time": "2020-12-18T08:45:24.288043Z",
     "start_time": "2020-12-18T08:45:24.268099Z"
    }
   },
   "outputs": [],
   "source": [
    "test_features_df[\"no_garage\"] = np.where(test_df[\"GarageType\"].isnull(), 1, 0)"
   ]
  },
  {
   "cell_type": "markdown",
   "metadata": {},
   "source": [
    "## is_BsmtFinSF1_0"
   ]
  },
  {
   "cell_type": "code",
   "execution_count": 90,
   "metadata": {
    "ExecuteTime": {
     "end_time": "2020-12-18T08:47:15.340869Z",
     "start_time": "2020-12-18T08:47:15.326901Z"
    }
   },
   "outputs": [],
   "source": [
    "test_features_df[\"is_BsmtFinSF1_0\"] = np.where(test_features_df[\"BsmtFinSF1\"] == 0, 1, 0)"
   ]
  },
  {
   "cell_type": "markdown",
   "metadata": {},
   "source": [
    "## is_2ndFlrSF_0"
   ]
  },
  {
   "cell_type": "code",
   "execution_count": 92,
   "metadata": {
    "ExecuteTime": {
     "end_time": "2020-12-18T08:48:06.684953Z",
     "start_time": "2020-12-18T08:48:06.666043Z"
    }
   },
   "outputs": [],
   "source": [
    "test_features_df[\"is_2ndFlrSF_0\"] = np.where(test_features_df[\"2ndFlrSF\"] == 0, 1, 0)"
   ]
  },
  {
   "cell_type": "markdown",
   "metadata": {},
   "source": [
    "# Exporting Preprocessed Test Set"
   ]
  },
  {
   "cell_type": "code",
   "execution_count": 94,
   "metadata": {
    "ExecuteTime": {
     "end_time": "2020-12-18T08:49:00.637678Z",
     "start_time": "2020-12-18T08:49:00.625711Z"
    }
   },
   "outputs": [
    {
     "data": {
      "text/plain": [
       "OverallQual        0\n",
       "ExterQual          0\n",
       "Foundation         0\n",
       "BsmtQual           0\n",
       "KitchenQual        0\n",
       "FireplaceQu        0\n",
       "GarageFinish       0\n",
       "YearDiff           0\n",
       "YearRemodAdd       0\n",
       "1stFlrSF           0\n",
       "GrLivArea          0\n",
       "FullBath           0\n",
       "GarageCars         0\n",
       "Neighborhood       0\n",
       "MasVnrType         0\n",
       "HeatingQC          0\n",
       "Fireplaces         0\n",
       "MasVnrArea         0\n",
       "GarageYrBlt        0\n",
       "HouseStyle         0\n",
       "Exterior1st        0\n",
       "Exterior2nd        0\n",
       "BsmtExposure       0\n",
       "BsmtFinType1       0\n",
       "GarageType         0\n",
       "OverallCond        0\n",
       "LotArea            0\n",
       "BsmtFinSF1         0\n",
       "LotFrontage        0\n",
       "2ndFlrSF           0\n",
       "no_garage          0\n",
       "is_BsmtFinSF1_0    0\n",
       "is_2ndFlrSF_0      0\n",
       "dtype: int64"
      ]
     },
     "execution_count": 94,
     "metadata": {},
     "output_type": "execute_result"
    }
   ],
   "source": [
    "test_features_df.isnull().sum()"
   ]
  },
  {
   "cell_type": "code",
   "execution_count": 95,
   "metadata": {
    "ExecuteTime": {
     "end_time": "2020-12-18T08:49:10.693274Z",
     "start_time": "2020-12-18T08:49:10.668381Z"
    }
   },
   "outputs": [
    {
     "name": "stdout",
     "output_type": "stream",
     "text": [
      "<class 'pandas.core.frame.DataFrame'>\n",
      "RangeIndex: 1459 entries, 0 to 1458\n",
      "Data columns (total 33 columns):\n",
      " #   Column           Non-Null Count  Dtype  \n",
      "---  ------           --------------  -----  \n",
      " 0   OverallQual      1459 non-null   int64  \n",
      " 1   ExterQual        1459 non-null   int64  \n",
      " 2   Foundation       1459 non-null   int64  \n",
      " 3   BsmtQual         1459 non-null   int64  \n",
      " 4   KitchenQual      1459 non-null   int64  \n",
      " 5   FireplaceQu      1459 non-null   int64  \n",
      " 6   GarageFinish     1459 non-null   int64  \n",
      " 7   YearDiff         1459 non-null   float64\n",
      " 8   YearRemodAdd     1459 non-null   float64\n",
      " 9   1stFlrSF         1459 non-null   float64\n",
      " 10  GrLivArea        1459 non-null   float64\n",
      " 11  FullBath         1459 non-null   int64  \n",
      " 12  GarageCars       1459 non-null   int32  \n",
      " 13  Neighborhood     1459 non-null   int64  \n",
      " 14  MasVnrType       1459 non-null   int64  \n",
      " 15  HeatingQC        1459 non-null   int64  \n",
      " 16  Fireplaces       1459 non-null   int64  \n",
      " 17  MasVnrArea       1459 non-null   float64\n",
      " 18  GarageYrBlt      1459 non-null   float64\n",
      " 19  HouseStyle       1459 non-null   int64  \n",
      " 20  Exterior1st      1459 non-null   int64  \n",
      " 21  Exterior2nd      1459 non-null   int64  \n",
      " 22  BsmtExposure     1459 non-null   int64  \n",
      " 23  BsmtFinType1     1459 non-null   int64  \n",
      " 24  GarageType       1459 non-null   int64  \n",
      " 25  OverallCond      1459 non-null   int64  \n",
      " 26  LotArea          1459 non-null   float64\n",
      " 27  BsmtFinSF1       1459 non-null   float64\n",
      " 28  LotFrontage      1459 non-null   float64\n",
      " 29  2ndFlrSF         1459 non-null   int64  \n",
      " 30  no_garage        1459 non-null   int32  \n",
      " 31  is_BsmtFinSF1_0  1459 non-null   int32  \n",
      " 32  is_2ndFlrSF_0    1459 non-null   int32  \n",
      "dtypes: float64(9), int32(4), int64(20)\n",
      "memory usage: 353.5 KB\n"
     ]
    }
   ],
   "source": [
    "test_features_df.info()"
   ]
  },
  {
   "cell_type": "code",
   "execution_count": 96,
   "metadata": {
    "ExecuteTime": {
     "end_time": "2020-12-18T08:53:31.143933Z",
     "start_time": "2020-12-18T08:53:31.022572Z"
    }
   },
   "outputs": [],
   "source": [
    "to_export = test_features_df.copy()\n",
    "to_export.to_csv(\"../Data/test_features_df.csv\", index = False)"
   ]
  }
 ],
 "metadata": {
  "kernelspec": {
   "display_name": "Python 3",
   "language": "python",
   "name": "python3"
  },
  "language_info": {
   "codemirror_mode": {
    "name": "ipython",
    "version": 3
   },
   "file_extension": ".py",
   "mimetype": "text/x-python",
   "name": "python",
   "nbconvert_exporter": "python",
   "pygments_lexer": "ipython3",
   "version": "3.7.6"
  },
  "latex_envs": {
   "LaTeX_envs_menu_present": true,
   "autoclose": false,
   "autocomplete": true,
   "bibliofile": "biblio.bib",
   "cite_by": "apalike",
   "current_citInitial": 1,
   "eqLabelWithNumbers": true,
   "eqNumInitial": 1,
   "hotkeys": {
    "equation": "Ctrl-E",
    "itemize": "Ctrl-I"
   },
   "labels_anchors": false,
   "latex_user_defs": false,
   "report_style_numbering": false,
   "user_envs_cfg": false
  },
  "toc": {
   "base_numbering": 1,
   "nav_menu": {},
   "number_sections": true,
   "sideBar": true,
   "skip_h1_title": false,
   "title_cell": "Table of Contents",
   "title_sidebar": "Contents",
   "toc_cell": false,
   "toc_position": {},
   "toc_section_display": true,
   "toc_window_display": true
  }
 },
 "nbformat": 4,
 "nbformat_minor": 4
}
