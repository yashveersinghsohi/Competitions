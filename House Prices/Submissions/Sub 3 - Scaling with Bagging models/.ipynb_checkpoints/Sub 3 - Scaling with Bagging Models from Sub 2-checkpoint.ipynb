{
 "cells": [
  {
   "cell_type": "markdown",
   "metadata": {},
   "source": [
    "# Importing Required Packages"
   ]
  },
  {
   "cell_type": "code",
   "execution_count": 2,
   "metadata": {
    "ExecuteTime": {
     "end_time": "2020-12-24T03:12:24.354797Z",
     "start_time": "2020-12-24T03:12:24.336614Z"
    }
   },
   "outputs": [],
   "source": [
    "import warnings\n",
    "warnings.filterwarnings(\"ignore\")\n",
    "\n",
    "import pandas as pd\n",
    "import numpy as np\n",
    "\n",
    "import matplotlib.pyplot as plt\n",
    "import seaborn as sns\n",
    "\n",
    "from sklearn.model_selection import train_test_split\n",
    "from sklearn.metrics import mean_squared_log_error\n",
    "from sklearn.model_selection import GridSearchCV\n",
    "from sklearn.pipeline import Pipeline\n",
    "from sklearn.preprocessing import RobustScaler\n",
    "from sklearn.linear_model import LinearRegression, Lasso, Ridge\n",
    "from sklearn.ensemble import BaggingRegressor"
   ]
  },
  {
   "cell_type": "markdown",
   "metadata": {},
   "source": [
    "# Reading Data"
   ]
  },
  {
   "cell_type": "code",
   "execution_count": 3,
   "metadata": {
    "ExecuteTime": {
     "end_time": "2020-12-24T03:12:26.703859Z",
     "start_time": "2020-12-24T03:12:26.402089Z"
    }
   },
   "outputs": [],
   "source": [
    "train_df = pd.read_csv(\"../Data/train.csv\")\n",
    "test_df = pd.read_csv(\"../Data/train.csv\")\n",
    "\n",
    "train_features_df = pd.read_csv(\"../Data/train_features_df.csv\")\n",
    "test_features_df = pd.read_csv(\"../Data/test_features_df.csv\")"
   ]
  },
  {
   "cell_type": "code",
   "execution_count": 4,
   "metadata": {
    "ExecuteTime": {
     "end_time": "2020-12-24T03:12:26.796751Z",
     "start_time": "2020-12-24T03:12:26.705858Z"
    }
   },
   "outputs": [
    {
     "data": {
      "text/html": [
       "<div>\n",
       "<style scoped>\n",
       "    .dataframe tbody tr th:only-of-type {\n",
       "        vertical-align: middle;\n",
       "    }\n",
       "\n",
       "    .dataframe tbody tr th {\n",
       "        vertical-align: top;\n",
       "    }\n",
       "\n",
       "    .dataframe thead th {\n",
       "        text-align: right;\n",
       "    }\n",
       "</style>\n",
       "<table border=\"1\" class=\"dataframe\">\n",
       "  <thead>\n",
       "    <tr style=\"text-align: right;\">\n",
       "      <th></th>\n",
       "      <th>OverallQual</th>\n",
       "      <th>ExterQual</th>\n",
       "      <th>Foundation</th>\n",
       "      <th>BsmtQual</th>\n",
       "      <th>KitchenQual</th>\n",
       "      <th>FireplaceQu</th>\n",
       "      <th>GarageFinish</th>\n",
       "      <th>YearDiff</th>\n",
       "      <th>YearRemodAdd</th>\n",
       "      <th>1stFlrSF</th>\n",
       "      <th>...</th>\n",
       "      <th>GarageType</th>\n",
       "      <th>OverallCond</th>\n",
       "      <th>LotArea</th>\n",
       "      <th>BsmtFinSF1</th>\n",
       "      <th>LotFrontage</th>\n",
       "      <th>2ndFlrSF</th>\n",
       "      <th>SalePrice</th>\n",
       "      <th>no_garage</th>\n",
       "      <th>is_BsmtFinSF1_0</th>\n",
       "      <th>is_2ndFlrSF_0</th>\n",
       "    </tr>\n",
       "  </thead>\n",
       "  <tbody>\n",
       "    <tr>\n",
       "      <th>0</th>\n",
       "      <td>7</td>\n",
       "      <td>2</td>\n",
       "      <td>6</td>\n",
       "      <td>3</td>\n",
       "      <td>2</td>\n",
       "      <td>1</td>\n",
       "      <td>2</td>\n",
       "      <td>2.472136</td>\n",
       "      <td>87.509776</td>\n",
       "      <td>6.752270</td>\n",
       "      <td>...</td>\n",
       "      <td>5</td>\n",
       "      <td>8</td>\n",
       "      <td>9.041922</td>\n",
       "      <td>706</td>\n",
       "      <td>4.174387</td>\n",
       "      <td>854</td>\n",
       "      <td>208500</td>\n",
       "      <td>0</td>\n",
       "      <td>0</td>\n",
       "      <td>0</td>\n",
       "    </tr>\n",
       "    <tr>\n",
       "      <th>1</th>\n",
       "      <td>6</td>\n",
       "      <td>1</td>\n",
       "      <td>3</td>\n",
       "      <td>3</td>\n",
       "      <td>1</td>\n",
       "      <td>3</td>\n",
       "      <td>2</td>\n",
       "      <td>9.135529</td>\n",
       "      <td>86.904443</td>\n",
       "      <td>7.140453</td>\n",
       "      <td>...</td>\n",
       "      <td>5</td>\n",
       "      <td>4</td>\n",
       "      <td>9.169518</td>\n",
       "      <td>978</td>\n",
       "      <td>4.382027</td>\n",
       "      <td>0</td>\n",
       "      <td>181500</td>\n",
       "      <td>0</td>\n",
       "      <td>0</td>\n",
       "      <td>1</td>\n",
       "    </tr>\n",
       "    <tr>\n",
       "      <th>2</th>\n",
       "      <td>7</td>\n",
       "      <td>2</td>\n",
       "      <td>6</td>\n",
       "      <td>3</td>\n",
       "      <td>2</td>\n",
       "      <td>3</td>\n",
       "      <td>2</td>\n",
       "      <td>3.291503</td>\n",
       "      <td>87.487429</td>\n",
       "      <td>6.824374</td>\n",
       "      <td>...</td>\n",
       "      <td>5</td>\n",
       "      <td>8</td>\n",
       "      <td>9.328123</td>\n",
       "      <td>486</td>\n",
       "      <td>4.219508</td>\n",
       "      <td>866</td>\n",
       "      <td>223500</td>\n",
       "      <td>0</td>\n",
       "      <td>0</td>\n",
       "      <td>0</td>\n",
       "    </tr>\n",
       "    <tr>\n",
       "      <th>3</th>\n",
       "      <td>7</td>\n",
       "      <td>1</td>\n",
       "      <td>2</td>\n",
       "      <td>2</td>\n",
       "      <td>2</td>\n",
       "      <td>4</td>\n",
       "      <td>1</td>\n",
       "      <td>17.078784</td>\n",
       "      <td>86.769364</td>\n",
       "      <td>6.867974</td>\n",
       "      <td>...</td>\n",
       "      <td>2</td>\n",
       "      <td>8</td>\n",
       "      <td>9.164296</td>\n",
       "      <td>216</td>\n",
       "      <td>4.094345</td>\n",
       "      <td>756</td>\n",
       "      <td>140000</td>\n",
       "      <td>0</td>\n",
       "      <td>0</td>\n",
       "      <td>0</td>\n",
       "    </tr>\n",
       "    <tr>\n",
       "      <th>4</th>\n",
       "      <td>8</td>\n",
       "      <td>2</td>\n",
       "      <td>6</td>\n",
       "      <td>3</td>\n",
       "      <td>2</td>\n",
       "      <td>3</td>\n",
       "      <td>2</td>\n",
       "      <td>3.656854</td>\n",
       "      <td>87.442719</td>\n",
       "      <td>7.043160</td>\n",
       "      <td>...</td>\n",
       "      <td>5</td>\n",
       "      <td>8</td>\n",
       "      <td>9.565214</td>\n",
       "      <td>655</td>\n",
       "      <td>4.430817</td>\n",
       "      <td>1053</td>\n",
       "      <td>250000</td>\n",
       "      <td>0</td>\n",
       "      <td>0</td>\n",
       "      <td>0</td>\n",
       "    </tr>\n",
       "  </tbody>\n",
       "</table>\n",
       "<p>5 rows × 34 columns</p>\n",
       "</div>"
      ],
      "text/plain": [
       "   OverallQual  ExterQual  Foundation  BsmtQual  KitchenQual  FireplaceQu  \\\n",
       "0            7          2           6         3            2            1   \n",
       "1            6          1           3         3            1            3   \n",
       "2            7          2           6         3            2            3   \n",
       "3            7          1           2         2            2            4   \n",
       "4            8          2           6         3            2            3   \n",
       "\n",
       "   GarageFinish   YearDiff  YearRemodAdd  1stFlrSF  ...  GarageType  \\\n",
       "0             2   2.472136     87.509776  6.752270  ...           5   \n",
       "1             2   9.135529     86.904443  7.140453  ...           5   \n",
       "2             2   3.291503     87.487429  6.824374  ...           5   \n",
       "3             1  17.078784     86.769364  6.867974  ...           2   \n",
       "4             2   3.656854     87.442719  7.043160  ...           5   \n",
       "\n",
       "   OverallCond   LotArea  BsmtFinSF1  LotFrontage  2ndFlrSF  SalePrice  \\\n",
       "0            8  9.041922         706     4.174387       854     208500   \n",
       "1            4  9.169518         978     4.382027         0     181500   \n",
       "2            8  9.328123         486     4.219508       866     223500   \n",
       "3            8  9.164296         216     4.094345       756     140000   \n",
       "4            8  9.565214         655     4.430817      1053     250000   \n",
       "\n",
       "   no_garage  is_BsmtFinSF1_0  is_2ndFlrSF_0  \n",
       "0          0                0              0  \n",
       "1          0                0              1  \n",
       "2          0                0              0  \n",
       "3          0                0              0  \n",
       "4          0                0              0  \n",
       "\n",
       "[5 rows x 34 columns]"
      ]
     },
     "execution_count": 4,
     "metadata": {},
     "output_type": "execute_result"
    }
   ],
   "source": [
    "train_features_df.head()"
   ]
  },
  {
   "cell_type": "code",
   "execution_count": 5,
   "metadata": {
    "ExecuteTime": {
     "end_time": "2020-12-24T03:12:27.446771Z",
     "start_time": "2020-12-24T03:12:27.417847Z"
    }
   },
   "outputs": [
    {
     "data": {
      "text/html": [
       "<div>\n",
       "<style scoped>\n",
       "    .dataframe tbody tr th:only-of-type {\n",
       "        vertical-align: middle;\n",
       "    }\n",
       "\n",
       "    .dataframe tbody tr th {\n",
       "        vertical-align: top;\n",
       "    }\n",
       "\n",
       "    .dataframe thead th {\n",
       "        text-align: right;\n",
       "    }\n",
       "</style>\n",
       "<table border=\"1\" class=\"dataframe\">\n",
       "  <thead>\n",
       "    <tr style=\"text-align: right;\">\n",
       "      <th></th>\n",
       "      <th>OverallQual</th>\n",
       "      <th>ExterQual</th>\n",
       "      <th>Foundation</th>\n",
       "      <th>BsmtQual</th>\n",
       "      <th>KitchenQual</th>\n",
       "      <th>FireplaceQu</th>\n",
       "      <th>GarageFinish</th>\n",
       "      <th>YearDiff</th>\n",
       "      <th>YearRemodAdd</th>\n",
       "      <th>1stFlrSF</th>\n",
       "      <th>...</th>\n",
       "      <th>BsmtFinType1</th>\n",
       "      <th>GarageType</th>\n",
       "      <th>OverallCond</th>\n",
       "      <th>LotArea</th>\n",
       "      <th>BsmtFinSF1</th>\n",
       "      <th>LotFrontage</th>\n",
       "      <th>2ndFlrSF</th>\n",
       "      <th>no_garage</th>\n",
       "      <th>is_BsmtFinSF1_0</th>\n",
       "      <th>is_2ndFlrSF_0</th>\n",
       "    </tr>\n",
       "  </thead>\n",
       "  <tbody>\n",
       "    <tr>\n",
       "      <th>0</th>\n",
       "      <td>5</td>\n",
       "      <td>1</td>\n",
       "      <td>3</td>\n",
       "      <td>2</td>\n",
       "      <td>1</td>\n",
       "      <td>1</td>\n",
       "      <td>1</td>\n",
       "      <td>12.000000</td>\n",
       "      <td>86.566359</td>\n",
       "      <td>6.797940</td>\n",
       "      <td>...</td>\n",
       "      <td>3</td>\n",
       "      <td>5</td>\n",
       "      <td>6</td>\n",
       "      <td>9.360655</td>\n",
       "      <td>468.0</td>\n",
       "      <td>4.382027</td>\n",
       "      <td>0</td>\n",
       "      <td>0</td>\n",
       "      <td>0</td>\n",
       "      <td>1</td>\n",
       "    </tr>\n",
       "    <tr>\n",
       "      <th>1</th>\n",
       "      <td>6</td>\n",
       "      <td>1</td>\n",
       "      <td>3</td>\n",
       "      <td>2</td>\n",
       "      <td>2</td>\n",
       "      <td>1</td>\n",
       "      <td>1</td>\n",
       "      <td>12.422205</td>\n",
       "      <td>86.498588</td>\n",
       "      <td>7.192182</td>\n",
       "      <td>...</td>\n",
       "      <td>4</td>\n",
       "      <td>5</td>\n",
       "      <td>6</td>\n",
       "      <td>9.565704</td>\n",
       "      <td>923.0</td>\n",
       "      <td>4.394449</td>\n",
       "      <td>0</td>\n",
       "      <td>0</td>\n",
       "      <td>0</td>\n",
       "      <td>1</td>\n",
       "    </tr>\n",
       "    <tr>\n",
       "      <th>2</th>\n",
       "      <td>5</td>\n",
       "      <td>1</td>\n",
       "      <td>6</td>\n",
       "      <td>3</td>\n",
       "      <td>1</td>\n",
       "      <td>3</td>\n",
       "      <td>3</td>\n",
       "      <td>5.211103</td>\n",
       "      <td>87.397987</td>\n",
       "      <td>6.833032</td>\n",
       "      <td>...</td>\n",
       "      <td>6</td>\n",
       "      <td>5</td>\n",
       "      <td>5</td>\n",
       "      <td>9.534595</td>\n",
       "      <td>791.0</td>\n",
       "      <td>4.304065</td>\n",
       "      <td>701</td>\n",
       "      <td>0</td>\n",
       "      <td>0</td>\n",
       "      <td>0</td>\n",
       "    </tr>\n",
       "    <tr>\n",
       "      <th>3</th>\n",
       "      <td>6</td>\n",
       "      <td>1</td>\n",
       "      <td>6</td>\n",
       "      <td>2</td>\n",
       "      <td>2</td>\n",
       "      <td>4</td>\n",
       "      <td>3</td>\n",
       "      <td>4.928203</td>\n",
       "      <td>87.397987</td>\n",
       "      <td>6.830874</td>\n",
       "      <td>...</td>\n",
       "      <td>6</td>\n",
       "      <td>5</td>\n",
       "      <td>6</td>\n",
       "      <td>9.208138</td>\n",
       "      <td>602.0</td>\n",
       "      <td>4.356709</td>\n",
       "      <td>678</td>\n",
       "      <td>0</td>\n",
       "      <td>0</td>\n",
       "      <td>0</td>\n",
       "    </tr>\n",
       "    <tr>\n",
       "      <th>4</th>\n",
       "      <td>8</td>\n",
       "      <td>2</td>\n",
       "      <td>6</td>\n",
       "      <td>3</td>\n",
       "      <td>2</td>\n",
       "      <td>1</td>\n",
       "      <td>2</td>\n",
       "      <td>6.485281</td>\n",
       "      <td>87.263654</td>\n",
       "      <td>7.154615</td>\n",
       "      <td>...</td>\n",
       "      <td>4</td>\n",
       "      <td>5</td>\n",
       "      <td>5</td>\n",
       "      <td>8.518193</td>\n",
       "      <td>263.0</td>\n",
       "      <td>3.761200</td>\n",
       "      <td>0</td>\n",
       "      <td>0</td>\n",
       "      <td>0</td>\n",
       "      <td>1</td>\n",
       "    </tr>\n",
       "  </tbody>\n",
       "</table>\n",
       "<p>5 rows × 33 columns</p>\n",
       "</div>"
      ],
      "text/plain": [
       "   OverallQual  ExterQual  Foundation  BsmtQual  KitchenQual  FireplaceQu  \\\n",
       "0            5          1           3         2            1            1   \n",
       "1            6          1           3         2            2            1   \n",
       "2            5          1           6         3            1            3   \n",
       "3            6          1           6         2            2            4   \n",
       "4            8          2           6         3            2            1   \n",
       "\n",
       "   GarageFinish   YearDiff  YearRemodAdd  1stFlrSF  ...  BsmtFinType1  \\\n",
       "0             1  12.000000     86.566359  6.797940  ...             3   \n",
       "1             1  12.422205     86.498588  7.192182  ...             4   \n",
       "2             3   5.211103     87.397987  6.833032  ...             6   \n",
       "3             3   4.928203     87.397987  6.830874  ...             6   \n",
       "4             2   6.485281     87.263654  7.154615  ...             4   \n",
       "\n",
       "   GarageType  OverallCond   LotArea  BsmtFinSF1  LotFrontage  2ndFlrSF  \\\n",
       "0           5            6  9.360655       468.0     4.382027         0   \n",
       "1           5            6  9.565704       923.0     4.394449         0   \n",
       "2           5            5  9.534595       791.0     4.304065       701   \n",
       "3           5            6  9.208138       602.0     4.356709       678   \n",
       "4           5            5  8.518193       263.0     3.761200         0   \n",
       "\n",
       "   no_garage  is_BsmtFinSF1_0  is_2ndFlrSF_0  \n",
       "0          0                0              1  \n",
       "1          0                0              1  \n",
       "2          0                0              0  \n",
       "3          0                0              0  \n",
       "4          0                0              1  \n",
       "\n",
       "[5 rows x 33 columns]"
      ]
     },
     "execution_count": 5,
     "metadata": {},
     "output_type": "execute_result"
    }
   ],
   "source": [
    "test_features_df.head()"
   ]
  },
  {
   "cell_type": "markdown",
   "metadata": {},
   "source": [
    "# Train Test Split Function"
   ]
  },
  {
   "cell_type": "code",
   "execution_count": 6,
   "metadata": {
    "ExecuteTime": {
     "end_time": "2020-12-24T03:12:29.733063Z",
     "start_time": "2020-12-24T03:12:29.728074Z"
    }
   },
   "outputs": [],
   "source": [
    "def split_data(df, test_size = 0.2, random_state = 42):\n",
    "    X, y = df.drop([\"SalePrice\"], axis = 1), df[\"SalePrice\"]\n",
    "    return train_test_split(X, y, test_size = test_size, random_state = random_state)"
   ]
  },
  {
   "cell_type": "markdown",
   "metadata": {},
   "source": [
    "# Linear, Lasso, Ridge, ElasticNet Regressions"
   ]
  },
  {
   "cell_type": "markdown",
   "metadata": {},
   "source": [
    "## Linear Regression"
   ]
  },
  {
   "cell_type": "code",
   "execution_count": 7,
   "metadata": {
    "ExecuteTime": {
     "end_time": "2020-12-24T03:12:44.541660Z",
     "start_time": "2020-12-24T03:12:44.015139Z"
    }
   },
   "outputs": [],
   "source": [
    "lr_pipe = Pipeline([(\"scaler\", RobustScaler()),\n",
    "                    (\"lr\", LinearRegression())])\n",
    "\n",
    "X_train, X_test, y_train, y_test = split_data(train_features_df)\n",
    "lr_pipe.fit(X_train, np.log(y_train))\n",
    "\n",
    "lr_preds = np.exp(lr_pipe.predict(X_test))\n",
    "lr_rmsle = np.sqrt(mean_squared_log_error(y_true = y_test, y_pred = lr_preds))"
   ]
  },
  {
   "cell_type": "code",
   "execution_count": 8,
   "metadata": {
    "ExecuteTime": {
     "end_time": "2020-12-24T03:12:44.556623Z",
     "start_time": "2020-12-24T03:12:44.543657Z"
    }
   },
   "outputs": [
    {
     "data": {
      "text/plain": [
       "0.1441418951844357"
      ]
     },
     "execution_count": 8,
     "metadata": {},
     "output_type": "execute_result"
    }
   ],
   "source": [
    "lr_rmsle"
   ]
  },
  {
   "cell_type": "markdown",
   "metadata": {},
   "source": [
    "## Lasso Regression"
   ]
  },
  {
   "cell_type": "markdown",
   "metadata": {},
   "source": [
    "**Base Model**"
   ]
  },
  {
   "cell_type": "code",
   "execution_count": 35,
   "metadata": {
    "ExecuteTime": {
     "end_time": "2020-12-22T08:11:06.698721Z",
     "start_time": "2020-12-22T08:11:06.675782Z"
    }
   },
   "outputs": [],
   "source": [
    "lasso_model = Lasso(random_state = 42)\n",
    "\n",
    "X_train, X_test, y_train, y_test = split_data(train_features_df)"
   ]
  },
  {
   "cell_type": "markdown",
   "metadata": {},
   "source": [
    "**Grid Search Over Large Range of Parameters**"
   ]
  },
  {
   "cell_type": "code",
   "execution_count": 38,
   "metadata": {
    "ExecuteTime": {
     "end_time": "2020-12-22T08:12:01.830285Z",
     "start_time": "2020-12-22T08:11:58.141155Z"
    }
   },
   "outputs": [
    {
     "data": {
      "text/plain": [
       "Lasso(alpha=0.0014849682622544665, copy_X=True, fit_intercept=True,\n",
       "      max_iter=1000, normalize=False, positive=False, precompute=False,\n",
       "      random_state=42, selection='cyclic', tol=0.0001, warm_start=False)"
      ]
     },
     "execution_count": 38,
     "metadata": {},
     "output_type": "execute_result"
    }
   ],
   "source": [
    "params = {\n",
    "    \"alpha\": np.logspace(-8, 8, 100)\n",
    "}\n",
    "\n",
    "lasso_grid = GridSearchCV(lasso_model, params, cv = 10, n_jobs = -1)\n",
    "lasso_grid.fit(X_train, np.log(y_train))\n",
    "lasso_grid.best_estimator_"
   ]
  },
  {
   "cell_type": "markdown",
   "metadata": {},
   "source": [
    "**Grid Search over smaller range**"
   ]
  },
  {
   "cell_type": "code",
   "execution_count": 39,
   "metadata": {
    "ExecuteTime": {
     "end_time": "2020-12-22T08:13:14.175449Z",
     "start_time": "2020-12-22T08:13:10.327783Z"
    }
   },
   "outputs": [
    {
     "data": {
      "text/plain": [
       "Lasso(alpha=0.0014174741629268048, copy_X=True, fit_intercept=True,\n",
       "      max_iter=1000, normalize=False, positive=False, precompute=False,\n",
       "      random_state=42, selection='cyclic', tol=0.0001, warm_start=False)"
      ]
     },
     "execution_count": 39,
     "metadata": {},
     "output_type": "execute_result"
    }
   ],
   "source": [
    "params = {\n",
    "    \"alpha\": np.logspace(-4, -2, 100)\n",
    "}\n",
    "\n",
    "lasso_grid = GridSearchCV(lasso_model, params, cv = 10, n_jobs = -1)\n",
    "lasso_grid.fit(X_train, np.log(y_train))\n",
    "lasso_grid.best_estimator_"
   ]
  },
  {
   "cell_type": "markdown",
   "metadata": {},
   "source": [
    "**Grid Search over even smaller range**"
   ]
  },
  {
   "cell_type": "code",
   "execution_count": 43,
   "metadata": {
    "ExecuteTime": {
     "end_time": "2020-12-22T08:22:48.346758Z",
     "start_time": "2020-12-22T08:22:16.426732Z"
    }
   },
   "outputs": [
    {
     "data": {
      "text/plain": [
       "Lasso(alpha=0.0014135155848353958, copy_X=True, fit_intercept=True,\n",
       "      max_iter=1000, normalize=False, positive=False, precompute=False,\n",
       "      random_state=42, selection='cyclic', tol=0.0001, warm_start=False)"
      ]
     },
     "execution_count": 43,
     "metadata": {},
     "output_type": "execute_result"
    }
   ],
   "source": [
    "params = {\n",
    "    \"alpha\": np.logspace(-4, -2, 500)\n",
    "}\n",
    "\n",
    "lasso_grid = GridSearchCV(lasso_model, params, cv = 10, n_jobs = -1)\n",
    "lasso_grid.fit(X_train, np.log(y_train))\n",
    "lasso_grid.best_estimator_"
   ]
  },
  {
   "cell_type": "markdown",
   "metadata": {},
   "source": [
    "**Final Lasso Model**"
   ]
  },
  {
   "cell_type": "code",
   "execution_count": 46,
   "metadata": {
    "ExecuteTime": {
     "end_time": "2020-12-22T08:23:37.736799Z",
     "start_time": "2020-12-22T08:23:37.708877Z"
    }
   },
   "outputs": [],
   "source": [
    "lasso_model = Lasso(alpha = 0.0014, random_state = 42).fit(X_train, np.log(y_train))\n",
    "\n",
    "lasso_preds = np.exp(lasso_model.predict(X_test))\n",
    "lasso_rmsle = np.sqrt(mean_squared_log_error(y_true = y_test, y_pred = lasso_preds))"
   ]
  },
  {
   "cell_type": "code",
   "execution_count": 47,
   "metadata": {
    "ExecuteTime": {
     "end_time": "2020-12-22T08:23:38.260907Z",
     "start_time": "2020-12-22T08:23:38.242014Z"
    }
   },
   "outputs": [
    {
     "data": {
      "text/plain": [
       "0.1432850982425953"
      ]
     },
     "execution_count": 47,
     "metadata": {},
     "output_type": "execute_result"
    }
   ],
   "source": [
    "lasso_rmsle"
   ]
  },
  {
   "cell_type": "markdown",
   "metadata": {},
   "source": [
    "## Ridge Regression"
   ]
  },
  {
   "cell_type": "markdown",
   "metadata": {},
   "source": [
    "**Base Model**"
   ]
  },
  {
   "cell_type": "code",
   "execution_count": 48,
   "metadata": {
    "ExecuteTime": {
     "end_time": "2020-12-22T08:29:51.832476Z",
     "start_time": "2020-12-22T08:29:51.815562Z"
    }
   },
   "outputs": [],
   "source": [
    "ridge_model = Ridge(random_state = 42)\n",
    "\n",
    "X_train, X_test, y_train, y_test = split_data(train_features_df)"
   ]
  },
  {
   "cell_type": "markdown",
   "metadata": {},
   "source": [
    "**Grid Search Over Large Range of Parameters**"
   ]
  },
  {
   "cell_type": "code",
   "execution_count": 49,
   "metadata": {
    "ExecuteTime": {
     "end_time": "2020-12-22T08:30:12.423391Z",
     "start_time": "2020-12-22T08:30:05.704724Z"
    }
   },
   "outputs": [
    {
     "data": {
      "text/plain": [
       "Ridge(alpha=11.233240329780312, copy_X=True, fit_intercept=True, max_iter=None,\n",
       "      normalize=False, random_state=42, solver='auto', tol=0.001)"
      ]
     },
     "execution_count": 49,
     "metadata": {},
     "output_type": "execute_result"
    }
   ],
   "source": [
    "params = {\n",
    "    \"alpha\": np.logspace(-8, 8, 100)\n",
    "}\n",
    "\n",
    "ridge_grid = GridSearchCV(ridge_model, params, cv = 10, n_jobs = -1)\n",
    "ridge_grid.fit(X_train, np.log(y_train))\n",
    "ridge_grid.best_estimator_"
   ]
  },
  {
   "cell_type": "markdown",
   "metadata": {},
   "source": [
    "**Concentrated Grid Search**"
   ]
  },
  {
   "cell_type": "code",
   "execution_count": 51,
   "metadata": {
    "ExecuteTime": {
     "end_time": "2020-12-22T08:31:32.154646Z",
     "start_time": "2020-12-22T08:31:28.232139Z"
    }
   },
   "outputs": [
    {
     "data": {
      "text/plain": [
       "Ridge(alpha=9.5, copy_X=True, fit_intercept=True, max_iter=None,\n",
       "      normalize=False, random_state=42, solver='auto', tol=0.001)"
      ]
     },
     "execution_count": 51,
     "metadata": {},
     "output_type": "execute_result"
    }
   ],
   "source": [
    "params = {\n",
    "    \"alpha\": np.arange(1, 100, 0.5)\n",
    "}\n",
    "\n",
    "ridge_grid = GridSearchCV(ridge_model, params, cv = 10, n_jobs = -1)\n",
    "ridge_grid.fit(X_train, np.log(y_train))\n",
    "ridge_grid.best_estimator_"
   ]
  },
  {
   "cell_type": "markdown",
   "metadata": {},
   "source": [
    "**Concentrated Grid Search**"
   ]
  },
  {
   "cell_type": "code",
   "execution_count": 52,
   "metadata": {
    "ExecuteTime": {
     "end_time": "2020-12-22T08:31:54.530643Z",
     "start_time": "2020-12-22T08:31:50.992056Z"
    }
   },
   "outputs": [
    {
     "data": {
      "text/plain": [
       "Ridge(alpha=9.700000000000008, copy_X=True, fit_intercept=True, max_iter=None,\n",
       "      normalize=False, random_state=42, solver='auto', tol=0.001)"
      ]
     },
     "execution_count": 52,
     "metadata": {},
     "output_type": "execute_result"
    }
   ],
   "source": [
    "params = {\n",
    "    \"alpha\": np.arange(1, 10, 0.05)\n",
    "}\n",
    "\n",
    "ridge_grid = GridSearchCV(ridge_model, params, cv = 10, n_jobs = -1)\n",
    "ridge_grid.fit(X_train, np.log(y_train))\n",
    "ridge_grid.best_estimator_"
   ]
  },
  {
   "cell_type": "markdown",
   "metadata": {},
   "source": [
    "**Concentrated Grid Search**"
   ]
  },
  {
   "cell_type": "code",
   "execution_count": 53,
   "metadata": {
    "ExecuteTime": {
     "end_time": "2020-12-22T08:32:16.405615Z",
     "start_time": "2020-12-22T08:32:12.410264Z"
    }
   },
   "outputs": [
    {
     "data": {
      "text/plain": [
       "Ridge(alpha=9.680000000000106, copy_X=True, fit_intercept=True, max_iter=None,\n",
       "      normalize=False, random_state=42, solver='auto', tol=0.001)"
      ]
     },
     "execution_count": 53,
     "metadata": {},
     "output_type": "execute_result"
    }
   ],
   "source": [
    "params = {\n",
    "    \"alpha\": np.arange(9, 10, 0.005)\n",
    "}\n",
    "\n",
    "ridge_grid = GridSearchCV(ridge_model, params, cv = 10, n_jobs = -1)\n",
    "ridge_grid.fit(X_train, np.log(y_train))\n",
    "ridge_grid.best_estimator_"
   ]
  },
  {
   "cell_type": "markdown",
   "metadata": {},
   "source": [
    "**Final Ridge Model**"
   ]
  },
  {
   "cell_type": "code",
   "execution_count": 59,
   "metadata": {
    "ExecuteTime": {
     "end_time": "2020-12-22T08:34:29.737261Z",
     "start_time": "2020-12-22T08:34:29.714322Z"
    }
   },
   "outputs": [],
   "source": [
    "ridge_model = Ridge(alpha = 9.7, random_state = 42).fit(X_train, np.log(y_train))\n",
    "\n",
    "ridge_preds = np.exp(ridge_model.predict(X_test))\n",
    "ridge_rmsle = np.sqrt(mean_squared_log_error(y_true = y_test, y_pred = ridge_preds))"
   ]
  },
  {
   "cell_type": "code",
   "execution_count": 60,
   "metadata": {
    "ExecuteTime": {
     "end_time": "2020-12-22T08:34:30.085889Z",
     "start_time": "2020-12-22T08:34:30.076948Z"
    }
   },
   "outputs": [
    {
     "data": {
      "text/plain": [
       "0.14408132483612177"
      ]
     },
     "execution_count": 60,
     "metadata": {},
     "output_type": "execute_result"
    }
   ],
   "source": [
    "ridge_rmsle"
   ]
  },
  {
   "cell_type": "markdown",
   "metadata": {},
   "source": [
    "# Ensembling "
   ]
  },
  {
   "cell_type": "markdown",
   "metadata": {},
   "source": [
    "**Models Scores**"
   ]
  },
  {
   "cell_type": "code",
   "execution_count": 65,
   "metadata": {
    "ExecuteTime": {
     "end_time": "2020-12-22T08:47:03.417207Z",
     "start_time": "2020-12-22T08:47:03.392313Z"
    }
   },
   "outputs": [
    {
     "data": {
      "text/html": [
       "<div>\n",
       "<style scoped>\n",
       "    .dataframe tbody tr th:only-of-type {\n",
       "        vertical-align: middle;\n",
       "    }\n",
       "\n",
       "    .dataframe tbody tr th {\n",
       "        vertical-align: top;\n",
       "    }\n",
       "\n",
       "    .dataframe thead th {\n",
       "        text-align: right;\n",
       "    }\n",
       "</style>\n",
       "<table border=\"1\" class=\"dataframe\">\n",
       "  <thead>\n",
       "    <tr style=\"text-align: right;\">\n",
       "      <th></th>\n",
       "      <th>Model</th>\n",
       "      <th>Performance</th>\n",
       "    </tr>\n",
       "  </thead>\n",
       "  <tbody>\n",
       "    <tr>\n",
       "      <th>1</th>\n",
       "      <td>Lasso</td>\n",
       "      <td>0.143285</td>\n",
       "    </tr>\n",
       "    <tr>\n",
       "      <th>2</th>\n",
       "      <td>Ridge</td>\n",
       "      <td>0.144081</td>\n",
       "    </tr>\n",
       "    <tr>\n",
       "      <th>0</th>\n",
       "      <td>Linear</td>\n",
       "      <td>0.144142</td>\n",
       "    </tr>\n",
       "  </tbody>\n",
       "</table>\n",
       "</div>"
      ],
      "text/plain": [
       "    Model  Performance\n",
       "1   Lasso     0.143285\n",
       "2   Ridge     0.144081\n",
       "0  Linear     0.144142"
      ]
     },
     "execution_count": 65,
     "metadata": {},
     "output_type": "execute_result"
    }
   ],
   "source": [
    "model_perf = pd.DataFrame({\n",
    "                            \"Model\": [\"Linear\", \"Lasso\", \"Ridge\"], \n",
    "                            \"Performance\": [lr_rmsle, lasso_rmsle, ridge_rmsle]\n",
    "                        })\n",
    "model_perf.sort_values(by = \"Performance\")"
   ]
  },
  {
   "cell_type": "markdown",
   "metadata": {},
   "source": [
    "## Bagging"
   ]
  },
  {
   "cell_type": "code",
   "execution_count": 67,
   "metadata": {
    "ExecuteTime": {
     "end_time": "2020-12-22T12:04:56.326322Z",
     "start_time": "2020-12-22T12:04:56.314355Z"
    }
   },
   "outputs": [],
   "source": [
    "def bagging(estimator, X, y, test_set):\n",
    "    bagg_reg = BaggingRegressor(base_estimator = estimator, \n",
    "                                n_estimators = 10, \n",
    "                                max_samples = 1.0, \n",
    "                                bootstrap = True, \n",
    "                                n_jobs = -1, \n",
    "                                random_state = 42).fit(X, np.log(y))\n",
    "    \n",
    "    return (bagg_reg, np.exp(bagg_reg.predict(test_set)))"
   ]
  },
  {
   "cell_type": "markdown",
   "metadata": {},
   "source": [
    "### Linear Regression"
   ]
  },
  {
   "cell_type": "code",
   "execution_count": 71,
   "metadata": {
    "ExecuteTime": {
     "end_time": "2020-12-22T12:08:00.175030Z",
     "start_time": "2020-12-22T12:08:00.073303Z"
    }
   },
   "outputs": [
    {
     "data": {
      "text/plain": [
       "0.14327890285835237"
      ]
     },
     "execution_count": 71,
     "metadata": {},
     "output_type": "execute_result"
    }
   ],
   "source": [
    "X_train, X_test, y_train, y_test = split_data(train_features_df)\n",
    "\n",
    "lr_bagg, lr_bagg_pred = bagging(lr_pipe, X_train, y_train, X_test)\n",
    "lr_bagg_rmsle = np.sqrt(mean_squared_log_error(y_true = y_test, y_pred = lr_bagg_pred))\n",
    "lr_bagg_rmsle"
   ]
  },
  {
   "cell_type": "markdown",
   "metadata": {},
   "source": [
    "### Lasso Regression"
   ]
  },
  {
   "cell_type": "code",
   "execution_count": 73,
   "metadata": {
    "ExecuteTime": {
     "end_time": "2020-12-22T12:10:25.482085Z",
     "start_time": "2020-12-22T12:10:25.462143Z"
    }
   },
   "outputs": [
    {
     "data": {
      "text/plain": [
       "Lasso(alpha=0.0014, copy_X=True, fit_intercept=True, max_iter=1000,\n",
       "      normalize=False, positive=False, precompute=False, random_state=42,\n",
       "      selection='cyclic', tol=0.0001, warm_start=False)"
      ]
     },
     "execution_count": 73,
     "metadata": {},
     "output_type": "execute_result"
    }
   ],
   "source": [
    "lasso_model"
   ]
  },
  {
   "cell_type": "code",
   "execution_count": 74,
   "metadata": {
    "ExecuteTime": {
     "end_time": "2020-12-22T12:10:36.120436Z",
     "start_time": "2020-12-22T12:10:35.984411Z"
    }
   },
   "outputs": [
    {
     "data": {
      "text/plain": [
       "0.14292239159689119"
      ]
     },
     "execution_count": 74,
     "metadata": {},
     "output_type": "execute_result"
    }
   ],
   "source": [
    "X_train, X_test, y_train, y_test = split_data(train_features_df)\n",
    "\n",
    "lasso_bagg, lasso_bagg_pred = bagging(lasso_model, X_train, y_train, X_test)\n",
    "lasso_bagg_rmsle = np.sqrt(mean_squared_log_error(y_true = y_test, y_pred = lasso_bagg_pred))\n",
    "lasso_bagg_rmsle"
   ]
  },
  {
   "cell_type": "markdown",
   "metadata": {},
   "source": [
    "### Ridge Regression"
   ]
  },
  {
   "cell_type": "code",
   "execution_count": 75,
   "metadata": {
    "ExecuteTime": {
     "end_time": "2020-12-22T12:11:44.040251Z",
     "start_time": "2020-12-22T12:11:44.025243Z"
    }
   },
   "outputs": [
    {
     "data": {
      "text/plain": [
       "Ridge(alpha=9.7, copy_X=True, fit_intercept=True, max_iter=None,\n",
       "      normalize=False, random_state=42, solver='auto', tol=0.001)"
      ]
     },
     "execution_count": 75,
     "metadata": {},
     "output_type": "execute_result"
    }
   ],
   "source": [
    "ridge_model"
   ]
  },
  {
   "cell_type": "code",
   "execution_count": 76,
   "metadata": {
    "ExecuteTime": {
     "end_time": "2020-12-22T12:12:07.990027Z",
     "start_time": "2020-12-22T12:12:07.727940Z"
    }
   },
   "outputs": [
    {
     "data": {
      "text/plain": [
       "0.1434328649656634"
      ]
     },
     "execution_count": 76,
     "metadata": {},
     "output_type": "execute_result"
    }
   ],
   "source": [
    "X_train, X_test, y_train, y_test = split_data(train_features_df)\n",
    "\n",
    "ridge_bagg, ridge_bagg_pred = bagging(ridge_model, X_train, y_train, X_test)\n",
    "ridge_bagg_rmsle = np.sqrt(mean_squared_log_error(y_true = y_test, y_pred = ridge_bagg_pred))\n",
    "ridge_bagg_rmsle"
   ]
  },
  {
   "cell_type": "markdown",
   "metadata": {},
   "source": [
    "### Mean of Bagged Predictions"
   ]
  },
  {
   "cell_type": "code",
   "execution_count": 87,
   "metadata": {
    "ExecuteTime": {
     "end_time": "2020-12-22T12:15:35.453070Z",
     "start_time": "2020-12-22T12:15:35.441067Z"
    }
   },
   "outputs": [
    {
     "data": {
      "text/plain": [
       "0.1430675112046506"
      ]
     },
     "execution_count": 87,
     "metadata": {},
     "output_type": "execute_result"
    }
   ],
   "source": [
    "bagged_preds_arr = np.column_stack([lr_bagg_pred, lasso_bagg_pred, ridge_bagg_pred])\n",
    "bagged_preds = np.mean(bagged_preds_arr, axis = 1)\n",
    "\n",
    "bagged_rmsle = np.sqrt(mean_squared_log_error(y_true = y_test, y_pred = bagged_preds))\n",
    "bagged_rmsle"
   ]
  },
  {
   "cell_type": "code",
   "execution_count": 92,
   "metadata": {
    "ExecuteTime": {
     "end_time": "2020-12-22T12:18:36.949309Z",
     "start_time": "2020-12-22T12:18:36.923380Z"
    }
   },
   "outputs": [
    {
     "data": {
      "text/html": [
       "<div>\n",
       "<style scoped>\n",
       "    .dataframe tbody tr th:only-of-type {\n",
       "        vertical-align: middle;\n",
       "    }\n",
       "\n",
       "    .dataframe tbody tr th {\n",
       "        vertical-align: top;\n",
       "    }\n",
       "\n",
       "    .dataframe thead th {\n",
       "        text-align: right;\n",
       "    }\n",
       "</style>\n",
       "<table border=\"1\" class=\"dataframe\">\n",
       "  <thead>\n",
       "    <tr style=\"text-align: right;\">\n",
       "      <th></th>\n",
       "      <th>Model</th>\n",
       "      <th>Performance</th>\n",
       "    </tr>\n",
       "  </thead>\n",
       "  <tbody>\n",
       "    <tr>\n",
       "      <th>4</th>\n",
       "      <td>Bagg Lasso</td>\n",
       "      <td>0.142922</td>\n",
       "    </tr>\n",
       "    <tr>\n",
       "      <th>6</th>\n",
       "      <td>Bagg Overall</td>\n",
       "      <td>0.143068</td>\n",
       "    </tr>\n",
       "    <tr>\n",
       "      <th>3</th>\n",
       "      <td>Bagg Linear</td>\n",
       "      <td>0.143279</td>\n",
       "    </tr>\n",
       "    <tr>\n",
       "      <th>1</th>\n",
       "      <td>Lasso</td>\n",
       "      <td>0.143285</td>\n",
       "    </tr>\n",
       "    <tr>\n",
       "      <th>5</th>\n",
       "      <td>Bagg Ridge</td>\n",
       "      <td>0.143433</td>\n",
       "    </tr>\n",
       "    <tr>\n",
       "      <th>2</th>\n",
       "      <td>Ridge</td>\n",
       "      <td>0.144081</td>\n",
       "    </tr>\n",
       "    <tr>\n",
       "      <th>0</th>\n",
       "      <td>Linear</td>\n",
       "      <td>0.144142</td>\n",
       "    </tr>\n",
       "  </tbody>\n",
       "</table>\n",
       "</div>"
      ],
      "text/plain": [
       "          Model  Performance\n",
       "4    Bagg Lasso     0.142922\n",
       "6  Bagg Overall     0.143068\n",
       "3   Bagg Linear     0.143279\n",
       "1         Lasso     0.143285\n",
       "5    Bagg Ridge     0.143433\n",
       "2         Ridge     0.144081\n",
       "0        Linear     0.144142"
      ]
     },
     "execution_count": 92,
     "metadata": {},
     "output_type": "execute_result"
    }
   ],
   "source": [
    "df = pd.DataFrame({\"Model\": [\"Bagg Linear\", \"Bagg Lasso\", \"Bagg Ridge\", \"Bagg Overall\"], \n",
    "                   \"Performance\": [lr_bagg_rmsle, lasso_bagg_rmsle, ridge_bagg_rmsle, bagged_rmsle]})\n",
    "\n",
    "model_perf = pd.concat([model_perf, df], axis = 0, ignore_index = True)\n",
    "model_perf.sort_values(by = \"Performance\")"
   ]
  },
  {
   "cell_type": "markdown",
   "metadata": {},
   "source": [
    "# Submission File"
   ]
  },
  {
   "cell_type": "markdown",
   "metadata": {},
   "source": [
    "**Bagged Lasso**"
   ]
  },
  {
   "cell_type": "code",
   "execution_count": 97,
   "metadata": {
    "ExecuteTime": {
     "end_time": "2020-12-22T12:26:08.261846Z",
     "start_time": "2020-12-22T12:26:08.077344Z"
    }
   },
   "outputs": [],
   "source": [
    "X, y = train_features_df.drop([\"SalePrice\"], axis = 1), train_features_df[\"SalePrice\"]\n",
    "sub_lasso_bagg, sub_lasso_bagg_preds = bagging(Lasso(alpha = 0.0014, random_state = 42).fit(X, np.log(y)), \n",
    "                                               X, y, test_features_df.values)\n",
    "\n",
    "sub2_lasso_bagg = pd.read_csv(\"../Data/sample_submission.csv\")\n",
    "sub2_lasso_bagg[\"SalePrice\"] = sub_lasso_bagg_preds\n",
    "sub2_lasso_bagg.to_csv(\"sub2_lasso_bagg.csv\", index = False)"
   ]
  },
  {
   "cell_type": "markdown",
   "metadata": {},
   "source": [
    "**Bagged Linear**"
   ]
  },
  {
   "cell_type": "code",
   "execution_count": 102,
   "metadata": {
    "ExecuteTime": {
     "end_time": "2020-12-22T12:33:18.330930Z",
     "start_time": "2020-12-22T12:33:18.250146Z"
    }
   },
   "outputs": [],
   "source": [
    "X, y = train_features_df.drop([\"SalePrice\"], axis = 1), train_features_df[\"SalePrice\"]\n",
    "sub_linear_bagg, sub_linear_bagg_preds = bagging(LinearRegression().fit(X, np.log(y)), \n",
    "                                               X, y, test_features_df.values)\n",
    "\n",
    "sub2_linear_bagg = pd.read_csv(\"../Data/sample_submission.csv\")\n",
    "sub2_linear_bagg[\"SalePrice\"] = sub_linear_bagg_preds\n",
    "sub2_linear_bagg.to_csv(\"sub2_linear_bagg.csv\", index = False)"
   ]
  },
  {
   "cell_type": "markdown",
   "metadata": {},
   "source": [
    "**Bagged Ridge**"
   ]
  },
  {
   "cell_type": "code",
   "execution_count": 103,
   "metadata": {
    "ExecuteTime": {
     "end_time": "2020-12-22T12:38:10.475123Z",
     "start_time": "2020-12-22T12:38:10.465110Z"
    }
   },
   "outputs": [
    {
     "data": {
      "text/plain": [
       "BaggingRegressor(base_estimator=Ridge(alpha=9.7, copy_X=True,\n",
       "                                      fit_intercept=True, max_iter=None,\n",
       "                                      normalize=False, random_state=42,\n",
       "                                      solver='auto', tol=0.001),\n",
       "                 bootstrap=True, bootstrap_features=False, max_features=1.0,\n",
       "                 max_samples=1.0, n_estimators=10, n_jobs=-1, oob_score=False,\n",
       "                 random_state=42, verbose=0, warm_start=False)"
      ]
     },
     "execution_count": 103,
     "metadata": {},
     "output_type": "execute_result"
    }
   ],
   "source": [
    "ridge_bagg"
   ]
  },
  {
   "cell_type": "code",
   "execution_count": 107,
   "metadata": {
    "ExecuteTime": {
     "end_time": "2020-12-22T12:39:05.040962Z",
     "start_time": "2020-12-22T12:39:04.952476Z"
    }
   },
   "outputs": [],
   "source": [
    "X, y = train_features_df.drop([\"SalePrice\"], axis = 1), train_features_df[\"SalePrice\"]\n",
    "sub_ridge_bagg, sub_ridge_bagg_preds = bagging(Ridge(alpha = 9.7).fit(X, np.log(y)), \n",
    "                                               X, y, test_features_df.values)\n",
    "\n",
    "sub2_ridge_bagg = pd.read_csv(\"../Data/sample_submission.csv\")\n",
    "sub2_ridge_bagg[\"SalePrice\"] = sub_ridge_bagg_preds\n",
    "sub2_ridge_bagg.to_csv(\"sub2_ridge_bagg.csv\", index = False)"
   ]
  },
  {
   "cell_type": "markdown",
   "metadata": {},
   "source": [
    "**Bagged Overall**"
   ]
  },
  {
   "cell_type": "code",
   "execution_count": 111,
   "metadata": {
    "ExecuteTime": {
     "end_time": "2020-12-22T12:43:28.862705Z",
     "start_time": "2020-12-22T12:43:28.829758Z"
    }
   },
   "outputs": [],
   "source": [
    "sub_bagged_preds_arr = np.column_stack([sub_linear_bagg_preds, \n",
    "                                        sub_lasso_bagg_preds, \n",
    "                                        sub_ridge_bagg_preds])\n",
    "sub_bagged_preds = np.mean(sub_bagged_preds_arr, axis = 1)\n",
    "\n",
    "sub2_bagged = pd.read_csv(\"../Data/sample_submission.csv\")\n",
    "sub2_bagged[\"SalePrice\"] = sub_bagged_preds\n",
    "sub2_bagged.to_csv(\"sub2_bagged.csv\", index = False)"
   ]
  },
  {
   "cell_type": "markdown",
   "metadata": {},
   "source": [
    "**Weighted Bagged Overall**"
   ]
  },
  {
   "cell_type": "code",
   "execution_count": 116,
   "metadata": {
    "ExecuteTime": {
     "end_time": "2020-12-22T12:55:17.997391Z",
     "start_time": "2020-12-22T12:55:17.965477Z"
    }
   },
   "outputs": [],
   "source": [
    "sub_weighted_bagged_preds_arr = np.column_stack([sub_linear_bagg_preds, \n",
    "                                                 sub_lasso_bagg_preds, \n",
    "                                                 sub_ridge_bagg_preds])\n",
    "\n",
    "sub_weighted_bagged_preds = np.average(sub_weighted_bagged_preds_arr, axis = 1, weights = [2, 1, 3])\n",
    "\n",
    "sub2_weighted_bagged = pd.read_csv(\"../Data/sample_submission.csv\")\n",
    "sub2_weighted_bagged[\"SalePrice\"] = sub_weighted_bagged_preds\n",
    "sub2_weighted_bagged.to_csv(\"sub2_weighted_bagged.csv\", index = False)"
   ]
  },
  {
   "cell_type": "code",
   "execution_count": 115,
   "metadata": {
    "ExecuteTime": {
     "end_time": "2020-12-22T12:53:04.980145Z",
     "start_time": "2020-12-22T12:53:04.966182Z"
    }
   },
   "outputs": [
    {
     "data": {
      "text/plain": [
       "array([118256.09424664, 152315.85118809, 181753.58571948, ...,\n",
       "       168746.82167678, 125618.090339  , 231929.7667887 ])"
      ]
     },
     "execution_count": 115,
     "metadata": {},
     "output_type": "execute_result"
    }
   ],
   "source": [
    "sub_weighted_bagged_preds"
   ]
  },
  {
   "cell_type": "code",
   "execution_count": null,
   "metadata": {},
   "outputs": [],
   "source": []
  }
 ],
 "metadata": {
  "kernelspec": {
   "display_name": "Python 3",
   "language": "python",
   "name": "python3"
  },
  "language_info": {
   "codemirror_mode": {
    "name": "ipython",
    "version": 3
   },
   "file_extension": ".py",
   "mimetype": "text/x-python",
   "name": "python",
   "nbconvert_exporter": "python",
   "pygments_lexer": "ipython3",
   "version": "3.7.6"
  },
  "latex_envs": {
   "LaTeX_envs_menu_present": true,
   "autoclose": false,
   "autocomplete": true,
   "bibliofile": "biblio.bib",
   "cite_by": "apalike",
   "current_citInitial": 1,
   "eqLabelWithNumbers": true,
   "eqNumInitial": 1,
   "hotkeys": {
    "equation": "Ctrl-E",
    "itemize": "Ctrl-I"
   },
   "labels_anchors": false,
   "latex_user_defs": false,
   "report_style_numbering": false,
   "user_envs_cfg": false
  },
  "toc": {
   "base_numbering": 1,
   "nav_menu": {},
   "number_sections": true,
   "sideBar": true,
   "skip_h1_title": false,
   "title_cell": "Table of Contents",
   "title_sidebar": "Contents",
   "toc_cell": false,
   "toc_position": {},
   "toc_section_display": true,
   "toc_window_display": true
  }
 },
 "nbformat": 4,
 "nbformat_minor": 4
}
