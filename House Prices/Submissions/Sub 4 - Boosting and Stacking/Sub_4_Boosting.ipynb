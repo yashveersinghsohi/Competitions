{
  "nbformat": 4,
  "nbformat_minor": 0,
  "metadata": {
    "colab": {
      "name": "Sub 4 - Boosting.ipynb",
      "provenance": [],
      "toc_visible": true,
      "include_colab_link": true
    },
    "kernelspec": {
      "name": "python3",
      "display_name": "Python 3"
    },
    "accelerator": "GPU"
  },
  "cells": [
    {
      "cell_type": "markdown",
      "metadata": {
        "id": "view-in-github",
        "colab_type": "text"
      },
      "source": [
        "<a href=\"https://colab.research.google.com/github/yashveersinghsohi/Kaggle_Competitions/blob/HousePrice/House%20Prices/Submissions/Sub%204%20-%20Boosting%20and%20Stacking/Sub_4_Boosting.ipynb\" target=\"_parent\"><img src=\"https://colab.research.google.com/assets/colab-badge.svg\" alt=\"Open In Colab\"/></a>"
      ]
    },
    {
      "cell_type": "markdown",
      "metadata": {
        "id": "-k_4E-ALoaz-"
      },
      "source": [
        "# Importing Required Packages"
      ]
    },
    {
      "cell_type": "code",
      "metadata": {
        "id": "DE4X5VXOoWWZ"
      },
      "source": [
        "import warnings\r\n",
        "warnings.filterwarnings(\"ignore\")\r\n",
        "\r\n",
        "import pandas as pd\r\n",
        "import numpy as np\r\n",
        "\r\n",
        "import matplotlib.pyplot as plt\r\n",
        "import seaborn as sns\r\n",
        "\r\n",
        "from sklearn.model_selection import train_test_split\r\n",
        "from sklearn.metrics import mean_squared_log_error\r\n",
        "from sklearn.model_selection import GridSearchCV\r\n",
        "\r\n",
        "from sklearn.pipeline import Pipeline, make_pipeline\r\n",
        "from sklearn.preprocessing import RobustScaler\r\n",
        "\r\n",
        "from sklearn.linear_model import LinearRegression, Lasso, Ridge\r\n",
        "from sklearn.ensemble import BaggingRegressor\r\n",
        "\r\n",
        "from sklearn.ensemble import AdaBoostRegressor\r\n",
        "from sklearn.ensemble import GradientBoostingRegressor\r\n",
        "import xgboost as xgb\r\n",
        "import lightgbm as lgb\r\n",
        "from sklearn.ensemble import StackingRegressor"
      ],
      "execution_count": 1,
      "outputs": []
    },
    {
      "cell_type": "markdown",
      "metadata": {
        "id": "6giVl1dkpWR5"
      },
      "source": [
        "#  Reading Data"
      ]
    },
    {
      "cell_type": "code",
      "metadata": {
        "id": "Dgun-KiNogH6"
      },
      "source": [
        "url = \"https://raw.githubusercontent.com/yashveersinghsohi/Kaggle_Competitions/HousePrice/House%20Prices/Submissions/Data/\"\r\n",
        "\r\n",
        "train_df = pd.read_csv(url + \"train.csv\")\r\n",
        "test_df = pd.read_csv(url + \"test.csv\")\r\n",
        "\r\n",
        "train_features_df = pd.read_csv(url + \"train_features_df.csv\")\r\n",
        "test_features_df = pd.read_csv(url + \"test_features_df.csv\")\r\n",
        "\r\n",
        "# train_df = pd.read_csv(\"train.csv\")\r\n",
        "# test_df = pd.read_csv(\"test.csv\")\r\n",
        "\r\n",
        "# train_features_df = pd.read_csv(\"train_features_df.csv\")\r\n",
        "# test_features_df = pd.read_csv(\"test_features_df.csv\")"
      ],
      "execution_count": 2,
      "outputs": []
    },
    {
      "cell_type": "code",
      "metadata": {
        "colab": {
          "base_uri": "https://localhost:8080/",
          "height": 224
        },
        "id": "JB1kNBxYpeiy",
        "outputId": "b1e5d4bf-6679-41ed-d54d-28be0cc92571"
      },
      "source": [
        "train_features_df.head()"
      ],
      "execution_count": 3,
      "outputs": [
        {
          "output_type": "execute_result",
          "data": {
            "text/html": [
              "<div>\n",
              "<style scoped>\n",
              "    .dataframe tbody tr th:only-of-type {\n",
              "        vertical-align: middle;\n",
              "    }\n",
              "\n",
              "    .dataframe tbody tr th {\n",
              "        vertical-align: top;\n",
              "    }\n",
              "\n",
              "    .dataframe thead th {\n",
              "        text-align: right;\n",
              "    }\n",
              "</style>\n",
              "<table border=\"1\" class=\"dataframe\">\n",
              "  <thead>\n",
              "    <tr style=\"text-align: right;\">\n",
              "      <th></th>\n",
              "      <th>OverallQual</th>\n",
              "      <th>ExterQual</th>\n",
              "      <th>Foundation</th>\n",
              "      <th>BsmtQual</th>\n",
              "      <th>KitchenQual</th>\n",
              "      <th>FireplaceQu</th>\n",
              "      <th>GarageFinish</th>\n",
              "      <th>YearDiff</th>\n",
              "      <th>YearRemodAdd</th>\n",
              "      <th>1stFlrSF</th>\n",
              "      <th>GrLivArea</th>\n",
              "      <th>FullBath</th>\n",
              "      <th>GarageCars</th>\n",
              "      <th>Neighborhood</th>\n",
              "      <th>MasVnrType</th>\n",
              "      <th>HeatingQC</th>\n",
              "      <th>Fireplaces</th>\n",
              "      <th>MasVnrArea</th>\n",
              "      <th>GarageYrBlt</th>\n",
              "      <th>HouseStyle</th>\n",
              "      <th>Exterior1st</th>\n",
              "      <th>Exterior2nd</th>\n",
              "      <th>BsmtExposure</th>\n",
              "      <th>BsmtFinType1</th>\n",
              "      <th>GarageType</th>\n",
              "      <th>OverallCond</th>\n",
              "      <th>LotArea</th>\n",
              "      <th>BsmtFinSF1</th>\n",
              "      <th>LotFrontage</th>\n",
              "      <th>2ndFlrSF</th>\n",
              "      <th>SalePrice</th>\n",
              "      <th>no_garage</th>\n",
              "      <th>is_BsmtFinSF1_0</th>\n",
              "      <th>is_2ndFlrSF_0</th>\n",
              "    </tr>\n",
              "  </thead>\n",
              "  <tbody>\n",
              "    <tr>\n",
              "      <th>0</th>\n",
              "      <td>7</td>\n",
              "      <td>2</td>\n",
              "      <td>6</td>\n",
              "      <td>3</td>\n",
              "      <td>2</td>\n",
              "      <td>1</td>\n",
              "      <td>2</td>\n",
              "      <td>2.472136</td>\n",
              "      <td>87.509776</td>\n",
              "      <td>6.752270</td>\n",
              "      <td>7.444249</td>\n",
              "      <td>2</td>\n",
              "      <td>2</td>\n",
              "      <td>16</td>\n",
              "      <td>2</td>\n",
              "      <td>4</td>\n",
              "      <td>0</td>\n",
              "      <td>196.0</td>\n",
              "      <td>2003</td>\n",
              "      <td>6</td>\n",
              "      <td>11</td>\n",
              "      <td>13</td>\n",
              "      <td>1</td>\n",
              "      <td>6</td>\n",
              "      <td>5</td>\n",
              "      <td>8</td>\n",
              "      <td>9.041922</td>\n",
              "      <td>706</td>\n",
              "      <td>4.174387</td>\n",
              "      <td>854</td>\n",
              "      <td>208500</td>\n",
              "      <td>0</td>\n",
              "      <td>0</td>\n",
              "      <td>0</td>\n",
              "    </tr>\n",
              "    <tr>\n",
              "      <th>1</th>\n",
              "      <td>6</td>\n",
              "      <td>1</td>\n",
              "      <td>3</td>\n",
              "      <td>3</td>\n",
              "      <td>1</td>\n",
              "      <td>3</td>\n",
              "      <td>2</td>\n",
              "      <td>9.135529</td>\n",
              "      <td>86.904443</td>\n",
              "      <td>7.140453</td>\n",
              "      <td>7.140453</td>\n",
              "      <td>2</td>\n",
              "      <td>2</td>\n",
              "      <td>19</td>\n",
              "      <td>1</td>\n",
              "      <td>4</td>\n",
              "      <td>1</td>\n",
              "      <td>0.0</td>\n",
              "      <td>1976</td>\n",
              "      <td>4</td>\n",
              "      <td>6</td>\n",
              "      <td>4</td>\n",
              "      <td>4</td>\n",
              "      <td>4</td>\n",
              "      <td>5</td>\n",
              "      <td>4</td>\n",
              "      <td>9.169518</td>\n",
              "      <td>978</td>\n",
              "      <td>4.382027</td>\n",
              "      <td>0</td>\n",
              "      <td>181500</td>\n",
              "      <td>0</td>\n",
              "      <td>0</td>\n",
              "      <td>1</td>\n",
              "    </tr>\n",
              "    <tr>\n",
              "      <th>2</th>\n",
              "      <td>7</td>\n",
              "      <td>2</td>\n",
              "      <td>6</td>\n",
              "      <td>3</td>\n",
              "      <td>2</td>\n",
              "      <td>3</td>\n",
              "      <td>2</td>\n",
              "      <td>3.291503</td>\n",
              "      <td>87.487429</td>\n",
              "      <td>6.824374</td>\n",
              "      <td>7.487734</td>\n",
              "      <td>2</td>\n",
              "      <td>2</td>\n",
              "      <td>16</td>\n",
              "      <td>2</td>\n",
              "      <td>4</td>\n",
              "      <td>1</td>\n",
              "      <td>162.0</td>\n",
              "      <td>2001</td>\n",
              "      <td>6</td>\n",
              "      <td>11</td>\n",
              "      <td>13</td>\n",
              "      <td>2</td>\n",
              "      <td>6</td>\n",
              "      <td>5</td>\n",
              "      <td>8</td>\n",
              "      <td>9.328123</td>\n",
              "      <td>486</td>\n",
              "      <td>4.219508</td>\n",
              "      <td>866</td>\n",
              "      <td>223500</td>\n",
              "      <td>0</td>\n",
              "      <td>0</td>\n",
              "      <td>0</td>\n",
              "    </tr>\n",
              "    <tr>\n",
              "      <th>3</th>\n",
              "      <td>7</td>\n",
              "      <td>1</td>\n",
              "      <td>2</td>\n",
              "      <td>2</td>\n",
              "      <td>2</td>\n",
              "      <td>4</td>\n",
              "      <td>1</td>\n",
              "      <td>17.078784</td>\n",
              "      <td>86.769364</td>\n",
              "      <td>6.867974</td>\n",
              "      <td>7.448334</td>\n",
              "      <td>1</td>\n",
              "      <td>3</td>\n",
              "      <td>18</td>\n",
              "      <td>1</td>\n",
              "      <td>3</td>\n",
              "      <td>1</td>\n",
              "      <td>0.0</td>\n",
              "      <td>1998</td>\n",
              "      <td>6</td>\n",
              "      <td>5</td>\n",
              "      <td>3</td>\n",
              "      <td>1</td>\n",
              "      <td>4</td>\n",
              "      <td>2</td>\n",
              "      <td>8</td>\n",
              "      <td>9.164296</td>\n",
              "      <td>216</td>\n",
              "      <td>4.094345</td>\n",
              "      <td>756</td>\n",
              "      <td>140000</td>\n",
              "      <td>0</td>\n",
              "      <td>0</td>\n",
              "      <td>0</td>\n",
              "    </tr>\n",
              "    <tr>\n",
              "      <th>4</th>\n",
              "      <td>8</td>\n",
              "      <td>2</td>\n",
              "      <td>6</td>\n",
              "      <td>3</td>\n",
              "      <td>2</td>\n",
              "      <td>3</td>\n",
              "      <td>2</td>\n",
              "      <td>3.656854</td>\n",
              "      <td>87.442719</td>\n",
              "      <td>7.043160</td>\n",
              "      <td>7.695303</td>\n",
              "      <td>2</td>\n",
              "      <td>3</td>\n",
              "      <td>23</td>\n",
              "      <td>2</td>\n",
              "      <td>4</td>\n",
              "      <td>1</td>\n",
              "      <td>350.0</td>\n",
              "      <td>2000</td>\n",
              "      <td>6</td>\n",
              "      <td>11</td>\n",
              "      <td>13</td>\n",
              "      <td>3</td>\n",
              "      <td>6</td>\n",
              "      <td>5</td>\n",
              "      <td>8</td>\n",
              "      <td>9.565214</td>\n",
              "      <td>655</td>\n",
              "      <td>4.430817</td>\n",
              "      <td>1053</td>\n",
              "      <td>250000</td>\n",
              "      <td>0</td>\n",
              "      <td>0</td>\n",
              "      <td>0</td>\n",
              "    </tr>\n",
              "  </tbody>\n",
              "</table>\n",
              "</div>"
            ],
            "text/plain": [
              "   OverallQual  ExterQual  ...  is_BsmtFinSF1_0  is_2ndFlrSF_0\n",
              "0            7          2  ...                0              0\n",
              "1            6          1  ...                0              1\n",
              "2            7          2  ...                0              0\n",
              "3            7          1  ...                0              0\n",
              "4            8          2  ...                0              0\n",
              "\n",
              "[5 rows x 34 columns]"
            ]
          },
          "metadata": {
            "tags": []
          },
          "execution_count": 3
        }
      ]
    },
    {
      "cell_type": "code",
      "metadata": {
        "colab": {
          "base_uri": "https://localhost:8080/",
          "height": 224
        },
        "id": "6ElpXbqWpiVy",
        "outputId": "02c9429b-8bcc-4c6a-bcf0-6165059ac489"
      },
      "source": [
        "test_features_df.head()"
      ],
      "execution_count": 4,
      "outputs": [
        {
          "output_type": "execute_result",
          "data": {
            "text/html": [
              "<div>\n",
              "<style scoped>\n",
              "    .dataframe tbody tr th:only-of-type {\n",
              "        vertical-align: middle;\n",
              "    }\n",
              "\n",
              "    .dataframe tbody tr th {\n",
              "        vertical-align: top;\n",
              "    }\n",
              "\n",
              "    .dataframe thead th {\n",
              "        text-align: right;\n",
              "    }\n",
              "</style>\n",
              "<table border=\"1\" class=\"dataframe\">\n",
              "  <thead>\n",
              "    <tr style=\"text-align: right;\">\n",
              "      <th></th>\n",
              "      <th>OverallQual</th>\n",
              "      <th>ExterQual</th>\n",
              "      <th>Foundation</th>\n",
              "      <th>BsmtQual</th>\n",
              "      <th>KitchenQual</th>\n",
              "      <th>FireplaceQu</th>\n",
              "      <th>GarageFinish</th>\n",
              "      <th>YearDiff</th>\n",
              "      <th>YearRemodAdd</th>\n",
              "      <th>1stFlrSF</th>\n",
              "      <th>GrLivArea</th>\n",
              "      <th>FullBath</th>\n",
              "      <th>GarageCars</th>\n",
              "      <th>Neighborhood</th>\n",
              "      <th>MasVnrType</th>\n",
              "      <th>HeatingQC</th>\n",
              "      <th>Fireplaces</th>\n",
              "      <th>MasVnrArea</th>\n",
              "      <th>GarageYrBlt</th>\n",
              "      <th>HouseStyle</th>\n",
              "      <th>Exterior1st</th>\n",
              "      <th>Exterior2nd</th>\n",
              "      <th>BsmtExposure</th>\n",
              "      <th>BsmtFinType1</th>\n",
              "      <th>GarageType</th>\n",
              "      <th>OverallCond</th>\n",
              "      <th>LotArea</th>\n",
              "      <th>BsmtFinSF1</th>\n",
              "      <th>LotFrontage</th>\n",
              "      <th>2ndFlrSF</th>\n",
              "      <th>no_garage</th>\n",
              "      <th>is_BsmtFinSF1_0</th>\n",
              "      <th>is_2ndFlrSF_0</th>\n",
              "    </tr>\n",
              "  </thead>\n",
              "  <tbody>\n",
              "    <tr>\n",
              "      <th>0</th>\n",
              "      <td>5</td>\n",
              "      <td>1</td>\n",
              "      <td>3</td>\n",
              "      <td>2</td>\n",
              "      <td>1</td>\n",
              "      <td>1</td>\n",
              "      <td>1</td>\n",
              "      <td>12.000000</td>\n",
              "      <td>86.566359</td>\n",
              "      <td>6.797940</td>\n",
              "      <td>6.797940</td>\n",
              "      <td>1</td>\n",
              "      <td>1</td>\n",
              "      <td>9</td>\n",
              "      <td>1</td>\n",
              "      <td>2</td>\n",
              "      <td>0</td>\n",
              "      <td>0.0</td>\n",
              "      <td>7.581210</td>\n",
              "      <td>4</td>\n",
              "      <td>11</td>\n",
              "      <td>13</td>\n",
              "      <td>1</td>\n",
              "      <td>3</td>\n",
              "      <td>5</td>\n",
              "      <td>6</td>\n",
              "      <td>9.360655</td>\n",
              "      <td>468.0</td>\n",
              "      <td>4.382027</td>\n",
              "      <td>0</td>\n",
              "      <td>0</td>\n",
              "      <td>0</td>\n",
              "      <td>1</td>\n",
              "    </tr>\n",
              "    <tr>\n",
              "      <th>1</th>\n",
              "      <td>6</td>\n",
              "      <td>1</td>\n",
              "      <td>3</td>\n",
              "      <td>2</td>\n",
              "      <td>2</td>\n",
              "      <td>1</td>\n",
              "      <td>1</td>\n",
              "      <td>12.422205</td>\n",
              "      <td>86.498588</td>\n",
              "      <td>7.192182</td>\n",
              "      <td>7.192182</td>\n",
              "      <td>1</td>\n",
              "      <td>1</td>\n",
              "      <td>9</td>\n",
              "      <td>2</td>\n",
              "      <td>2</td>\n",
              "      <td>0</td>\n",
              "      <td>108.0</td>\n",
              "      <td>7.579679</td>\n",
              "      <td>4</td>\n",
              "      <td>5</td>\n",
              "      <td>2</td>\n",
              "      <td>1</td>\n",
              "      <td>4</td>\n",
              "      <td>5</td>\n",
              "      <td>6</td>\n",
              "      <td>9.565704</td>\n",
              "      <td>923.0</td>\n",
              "      <td>4.394449</td>\n",
              "      <td>0</td>\n",
              "      <td>0</td>\n",
              "      <td>0</td>\n",
              "      <td>1</td>\n",
              "    </tr>\n",
              "    <tr>\n",
              "      <th>2</th>\n",
              "      <td>5</td>\n",
              "      <td>1</td>\n",
              "      <td>6</td>\n",
              "      <td>3</td>\n",
              "      <td>1</td>\n",
              "      <td>3</td>\n",
              "      <td>3</td>\n",
              "      <td>5.211103</td>\n",
              "      <td>87.397987</td>\n",
              "      <td>6.833032</td>\n",
              "      <td>7.395722</td>\n",
              "      <td>2</td>\n",
              "      <td>2</td>\n",
              "      <td>13</td>\n",
              "      <td>1</td>\n",
              "      <td>3</td>\n",
              "      <td>1</td>\n",
              "      <td>0.0</td>\n",
              "      <td>7.599401</td>\n",
              "      <td>6</td>\n",
              "      <td>11</td>\n",
              "      <td>13</td>\n",
              "      <td>1</td>\n",
              "      <td>6</td>\n",
              "      <td>5</td>\n",
              "      <td>5</td>\n",
              "      <td>9.534595</td>\n",
              "      <td>791.0</td>\n",
              "      <td>4.304065</td>\n",
              "      <td>701</td>\n",
              "      <td>0</td>\n",
              "      <td>0</td>\n",
              "      <td>0</td>\n",
              "    </tr>\n",
              "    <tr>\n",
              "      <th>3</th>\n",
              "      <td>6</td>\n",
              "      <td>1</td>\n",
              "      <td>6</td>\n",
              "      <td>2</td>\n",
              "      <td>2</td>\n",
              "      <td>4</td>\n",
              "      <td>3</td>\n",
              "      <td>4.928203</td>\n",
              "      <td>87.397987</td>\n",
              "      <td>6.830874</td>\n",
              "      <td>7.380256</td>\n",
              "      <td>2</td>\n",
              "      <td>2</td>\n",
              "      <td>13</td>\n",
              "      <td>2</td>\n",
              "      <td>4</td>\n",
              "      <td>1</td>\n",
              "      <td>20.0</td>\n",
              "      <td>7.599902</td>\n",
              "      <td>6</td>\n",
              "      <td>11</td>\n",
              "      <td>13</td>\n",
              "      <td>1</td>\n",
              "      <td>6</td>\n",
              "      <td>5</td>\n",
              "      <td>6</td>\n",
              "      <td>9.208138</td>\n",
              "      <td>602.0</td>\n",
              "      <td>4.356709</td>\n",
              "      <td>678</td>\n",
              "      <td>0</td>\n",
              "      <td>0</td>\n",
              "      <td>0</td>\n",
              "    </tr>\n",
              "    <tr>\n",
              "      <th>4</th>\n",
              "      <td>8</td>\n",
              "      <td>2</td>\n",
              "      <td>6</td>\n",
              "      <td>3</td>\n",
              "      <td>2</td>\n",
              "      <td>1</td>\n",
              "      <td>2</td>\n",
              "      <td>6.485281</td>\n",
              "      <td>87.263654</td>\n",
              "      <td>7.154615</td>\n",
              "      <td>7.154615</td>\n",
              "      <td>2</td>\n",
              "      <td>2</td>\n",
              "      <td>22</td>\n",
              "      <td>1</td>\n",
              "      <td>4</td>\n",
              "      <td>0</td>\n",
              "      <td>0.0</td>\n",
              "      <td>7.596894</td>\n",
              "      <td>4</td>\n",
              "      <td>8</td>\n",
              "      <td>8</td>\n",
              "      <td>1</td>\n",
              "      <td>4</td>\n",
              "      <td>5</td>\n",
              "      <td>5</td>\n",
              "      <td>8.518193</td>\n",
              "      <td>263.0</td>\n",
              "      <td>3.761200</td>\n",
              "      <td>0</td>\n",
              "      <td>0</td>\n",
              "      <td>0</td>\n",
              "      <td>1</td>\n",
              "    </tr>\n",
              "  </tbody>\n",
              "</table>\n",
              "</div>"
            ],
            "text/plain": [
              "   OverallQual  ExterQual  ...  is_BsmtFinSF1_0  is_2ndFlrSF_0\n",
              "0            5          1  ...                0              1\n",
              "1            6          1  ...                0              1\n",
              "2            5          1  ...                0              0\n",
              "3            6          1  ...                0              0\n",
              "4            8          2  ...                0              1\n",
              "\n",
              "[5 rows x 33 columns]"
            ]
          },
          "metadata": {
            "tags": []
          },
          "execution_count": 4
        }
      ]
    },
    {
      "cell_type": "markdown",
      "metadata": {
        "id": "a9zjgu1Xpzox"
      },
      "source": [
        "# Train Test Split"
      ]
    },
    {
      "cell_type": "code",
      "metadata": {
        "id": "KN_k4S3Jp1a4"
      },
      "source": [
        "def split_data(df, test_size = 0.2, random_state = 42):\r\n",
        "    X, y = df.drop([\"SalePrice\"], axis = 1), df[\"SalePrice\"]\r\n",
        "    return train_test_split(X, y, test_size = test_size, random_state = random_state)"
      ],
      "execution_count": 5,
      "outputs": []
    },
    {
      "cell_type": "markdown",
      "metadata": {
        "id": "4bmfaTjgp3zE"
      },
      "source": [
        "# Adaboost Regressor"
      ]
    },
    {
      "cell_type": "markdown",
      "metadata": {
        "id": "SkEyDYuXrFzr"
      },
      "source": [
        "## Base AdaBoost Regressor"
      ]
    },
    {
      "cell_type": "markdown",
      "metadata": {
        "id": "1TnDoTvbrCu4"
      },
      "source": [
        "**Model**"
      ]
    },
    {
      "cell_type": "code",
      "metadata": {
        "id": "WxjrVp68p3P6"
      },
      "source": [
        "X_train, X_test, y_train, y_test = split_data(train_features_df)\r\n",
        "ada = AdaBoostRegressor(random_state = 42).fit(X_train, np.log(y_train))\r\n",
        "ada_preds = np.exp(ada.predict(X_test))"
      ],
      "execution_count": 6,
      "outputs": []
    },
    {
      "cell_type": "markdown",
      "metadata": {
        "id": "b88HmGJurEMJ"
      },
      "source": [
        "**RMSLE**"
      ]
    },
    {
      "cell_type": "code",
      "metadata": {
        "colab": {
          "base_uri": "https://localhost:8080/"
        },
        "id": "E13PH6xmqLu_",
        "outputId": "f84ce178-0217-4453-b100-07cc18ea6d27"
      },
      "source": [
        "np.sqrt(mean_squared_log_error(y_true = y_test, y_pred  = ada_preds))"
      ],
      "execution_count": 7,
      "outputs": [
        {
          "output_type": "execute_result",
          "data": {
            "text/plain": [
              "0.17253553560633222"
            ]
          },
          "metadata": {
            "tags": []
          },
          "execution_count": 7
        }
      ]
    },
    {
      "cell_type": "markdown",
      "metadata": {
        "id": "SnAI8uXDrCDa"
      },
      "source": [
        "## GridSearchCV"
      ]
    },
    {
      "cell_type": "markdown",
      "metadata": {
        "id": "YlhPZB8BsQtc"
      },
      "source": [
        "**Defining Grid**"
      ]
    },
    {
      "cell_type": "code",
      "metadata": {
        "id": "WULZMSorrLYK"
      },
      "source": [
        "base_ada = AdaBoostRegressor(random_state = 42)\r\n",
        "params = {\r\n",
        "    \"learning_rate\": [0.01, 0.03, 0.1, 0.3, 1, 3, 10],\r\n",
        "    \"n_estimators\": [50, 75, 100, 150, 200, 300, 500, 1000],\r\n",
        "    \"loss\": [\"linear\", \"square\", \"exponential\"]\r\n",
        "}\r\n",
        "\r\n",
        "grid = GridSearchCV(estimator = base_ada, \r\n",
        "                    param_grid = params, \r\n",
        "                    scoring = \"neg_mean_squared_log_error\", \r\n",
        "                    cv = 3, \r\n",
        "                    verbose = 3, \r\n",
        "                    n_jobs = -1)"
      ],
      "execution_count": 8,
      "outputs": []
    },
    {
      "cell_type": "markdown",
      "metadata": {
        "id": "VcR389rNsS7h"
      },
      "source": [
        "**Fitting Grid**"
      ]
    },
    {
      "cell_type": "code",
      "metadata": {
        "colab": {
          "base_uri": "https://localhost:8080/"
        },
        "id": "YXsqnE-KsUCp",
        "outputId": "4760faee-c132-4b9c-fc85-7581257a1e22"
      },
      "source": [
        "X_train, X_test, y_train, y_test = split_data(train_features_df)\r\n",
        "ada_grid = grid.fit(X_train, np.log(y_train))"
      ],
      "execution_count": 9,
      "outputs": [
        {
          "output_type": "stream",
          "text": [
            "Fitting 3 folds for each of 168 candidates, totalling 504 fits\n"
          ],
          "name": "stdout"
        },
        {
          "output_type": "stream",
          "text": [
            "[Parallel(n_jobs=-1)]: Using backend LokyBackend with 2 concurrent workers.\n",
            "[Parallel(n_jobs=-1)]: Done  28 tasks      | elapsed:   20.9s\n",
            "[Parallel(n_jobs=-1)]: Done 124 tasks      | elapsed:  1.6min\n",
            "[Parallel(n_jobs=-1)]: Done 284 tasks      | elapsed:  3.5min\n",
            "[Parallel(n_jobs=-1)]: Done 504 out of 504 | elapsed:  5.5min finished\n"
          ],
          "name": "stderr"
        }
      ]
    },
    {
      "cell_type": "markdown",
      "metadata": {
        "id": "5fbFCFYQsrv7"
      },
      "source": [
        "**Best AdaBoost from GridSearchCV**"
      ]
    },
    {
      "cell_type": "code",
      "metadata": {
        "colab": {
          "base_uri": "https://localhost:8080/"
        },
        "id": "iDZsQkYZsoOe",
        "outputId": "6bac37b0-e01e-4cfb-d46d-d9b0feddfcaf"
      },
      "source": [
        "np.sqrt(mean_squared_log_error(y_true = y_test, \r\n",
        "                               y_pred = np.exp(ada_grid.best_estimator_.predict(X_test))))"
      ],
      "execution_count": 10,
      "outputs": [
        {
          "output_type": "execute_result",
          "data": {
            "text/plain": [
              "0.17287705642165474"
            ]
          },
          "metadata": {
            "tags": []
          },
          "execution_count": 10
        }
      ]
    },
    {
      "cell_type": "markdown",
      "metadata": {
        "id": "59nCPxBRu8f5"
      },
      "source": [
        "# GBM Regressor"
      ]
    },
    {
      "cell_type": "markdown",
      "metadata": {
        "id": "P36gGrykEpmp"
      },
      "source": [
        "## Base GBM Regressor"
      ]
    },
    {
      "cell_type": "code",
      "metadata": {
        "id": "Vn0TWOCzu-kz"
      },
      "source": [
        "X_train, X_test, y_train, y_test = split_data(train_features_df)\r\n",
        "gbm = GradientBoostingRegressor(random_state = 42).fit(X_train, np.log(y_train))\r\n",
        "gbm_preds = np.exp(gbm.predict(X_test))"
      ],
      "execution_count": 11,
      "outputs": []
    },
    {
      "cell_type": "code",
      "metadata": {
        "colab": {
          "base_uri": "https://localhost:8080/"
        },
        "id": "g5kkuu02vNNZ",
        "outputId": "f5ce0e40-2f36-43ca-f77d-4ccab3e76039"
      },
      "source": [
        "np.sqrt(mean_squared_log_error(y_true = y_test, \r\n",
        "                               y_pred = gbm_preds))"
      ],
      "execution_count": 12,
      "outputs": [
        {
          "output_type": "execute_result",
          "data": {
            "text/plain": [
              "0.13628312366698758"
            ]
          },
          "metadata": {
            "tags": []
          },
          "execution_count": 12
        }
      ]
    },
    {
      "cell_type": "markdown",
      "metadata": {
        "id": "eJLgSedhEuMl"
      },
      "source": [
        "## GridSearchCV"
      ]
    },
    {
      "cell_type": "markdown",
      "metadata": {
        "id": "blgyCDNJThwa"
      },
      "source": [
        "### Preliminary Optimization of Boosting parameters"
      ]
    },
    {
      "cell_type": "markdown",
      "metadata": {
        "id": "P8LQNssUhUyt"
      },
      "source": [
        "- **learning_rate**\r\n",
        "- **n_estimators**"
      ]
    },
    {
      "cell_type": "code",
      "metadata": {
        "id": "AJqWqdFgaA6i",
        "colab": {
          "base_uri": "https://localhost:8080/",
          "height": 296
        },
        "outputId": "87f01047-05f6-4f71-a5ee-15b8fa299c1d"
      },
      "source": [
        "ns = np.arange(50, 500, 10)\r\n",
        "gbm_scores = []\r\n",
        "\r\n",
        "X_train, X_test, y_train, y_test = split_data(train_features_df)\r\n",
        "for n in ns:\r\n",
        "  gbm = GradientBoostingRegressor(learning_rate = 0.1, \r\n",
        "                                  n_estimators = n, \r\n",
        "                                  random_state = 42).fit(X_train, np.log(y_train))\r\n",
        "  \r\n",
        "  gbm_preds = np.exp(gbm.predict(X_test))\r\n",
        "  gbm_rmsle = np.sqrt(mean_squared_log_error(y_true = y_test, y_pred = gbm_preds))\r\n",
        "  gbm_scores.append(gbm_rmsle)\r\n",
        "\r\n",
        "fig, ax = plt.subplots()\r\n",
        "ax.plot(ns, gbm_scores, marker = \"o\", linestyle = \"--\", color = \"k\")\r\n",
        "ax.set(xlabel = \"n_estimators\", \r\n",
        "       ylabel = \"Root Mean Squared Log Error Scores\", \r\n",
        "       title = \"Best n_estimators for learning_rate = 0.1\")\r\n",
        "plt.show()"
      ],
      "execution_count": 13,
      "outputs": [
        {
          "output_type": "display_data",
          "data": {
            "image/png": "[encoded data removed]",
            "text/plain": [
              "<Figure size 432x288 with 1 Axes>"
            ]
          },
          "metadata": {
            "tags": [],
            "needs_background": "light"
          }
        }
      ]
    },
    {
      "cell_type": "code",
      "metadata": {
        "id": "hewGb1mwdBzZ",
        "colab": {
          "base_uri": "https://localhost:8080/",
          "height": 364
        },
        "outputId": "23f84702-039a-4860-a82d-e63c70f834aa"
      },
      "source": [
        "min_idx = np.argmin(np.array(gbm_scores))\r\n",
        "print(\"RESULTS\")\r\n",
        "print(\"Number of estimators: \", ns[min_idx])\r\n",
        "print(\"Learning Rate: \", 0.1)\r\n",
        "print(\"Root Mean Squarred Log Error: \", gbm_scores[min_idx])\r\n",
        "\r\n",
        "fig, ax = plt.subplots()\r\n",
        "ax.plot(ns[:10], gbm_scores[:10], marker = \"o\", linestyle = \"--\", color = \"k\")\r\n",
        "ax.set(xlabel = \"n_estimators\", \r\n",
        "       ylabel = \"Root Mean Squared Log Error Scores\", \r\n",
        "       title = \"Best n_estimators for learning_rate = 0.1\")\r\n",
        "plt.show()"
      ],
      "execution_count": 14,
      "outputs": [
        {
          "output_type": "stream",
          "text": [
            "RESULTS\n",
            "Number of estimators:  80\n",
            "Learning Rate:  0.1\n",
            "Root Mean Squarred Log Error:  0.1362312022198972\n"
          ],
          "name": "stdout"
        },
        {
          "output_type": "display_data",
          "data": {
            "image/png": "[encoded data removed]",
            "text/plain": [
              "<Figure size 432x288 with 1 Axes>"
            ]
          },
          "metadata": {
            "tags": [],
            "needs_background": "light"
          }
        }
      ]
    },
    {
      "cell_type": "markdown",
      "metadata": {
        "id": "vCrj9p23hnZ4"
      },
      "source": [
        "### Optimizing Tree Based Parameters"
      ]
    },
    {
      "cell_type": "markdown",
      "metadata": {
        "id": "Rgn3j04jhqjg"
      },
      "source": [
        "- **subsample**\r\n",
        "- **min_samples_split**\r\n",
        "- **min_samples_leaf**\r\n",
        "- **max_depth**\r\n",
        "- **max_features**"
      ]
    },
    {
      "cell_type": "code",
      "metadata": {
        "id": "ngPKrRttbvF5"
      },
      "source": [
        "base_gbm = GradientBoostingRegressor(random_state = 42, \r\n",
        "                                     learning_rate = 0.1, \r\n",
        "                                     n_estimators = 80)\r\n",
        "params = {\r\n",
        "    \"subsample\": [0.8, 0.9, 1.0],\r\n",
        "    \"min_samples_split\": [25, 50, 75],\r\n",
        "    \"min_samples_leaf\": [5, 10, 15],\r\n",
        "    \"max_depth\": [4, 5, 6],\r\n",
        "    \"max_features\": [12, 18, 24, 30]\r\n",
        "}\r\n",
        "\r\n",
        "grid = GridSearchCV(estimator = base_gbm, \r\n",
        "                    param_grid = params, \r\n",
        "                    scoring = \"neg_mean_squared_log_error\", \r\n",
        "                    cv = 3, \r\n",
        "                    verbose = 3, \r\n",
        "                    n_jobs = -1)"
      ],
      "execution_count": 15,
      "outputs": []
    },
    {
      "cell_type": "code",
      "metadata": {
        "id": "y8eotkxVPZP6",
        "outputId": "be9bce7c-ee2a-41b7-bca0-75a4d5a0e602",
        "colab": {
          "base_uri": "https://localhost:8080/"
        }
      },
      "source": [
        "X_train, X_test, y_train, y_test = split_data(train_features_df)\r\n",
        "gbm_grid = grid.fit(X_train, np.log(y_train))"
      ],
      "execution_count": 16,
      "outputs": [
        {
          "output_type": "stream",
          "text": [
            "Fitting 3 folds for each of 324 candidates, totalling 972 fits\n"
          ],
          "name": "stdout"
        },
        {
          "output_type": "stream",
          "text": [
            "[Parallel(n_jobs=-1)]: Using backend LokyBackend with 2 concurrent workers.\n",
            "[Parallel(n_jobs=-1)]: Done  52 tasks      | elapsed:    4.3s\n",
            "[Parallel(n_jobs=-1)]: Done 244 tasks      | elapsed:   26.1s\n",
            "[Parallel(n_jobs=-1)]: Done 564 tasks      | elapsed:  1.1min\n",
            "[Parallel(n_jobs=-1)]: Done 972 out of 972 | elapsed:  2.2min finished\n"
          ],
          "name": "stderr"
        }
      ]
    },
    {
      "cell_type": "code",
      "metadata": {
        "id": "EYm-ENjKQDUt",
        "outputId": "d8662f0d-7bf2-4a0c-ffdd-19797edb627f",
        "colab": {
          "base_uri": "https://localhost:8080/"
        }
      },
      "source": [
        "gbm_grid.best_estimator_"
      ],
      "execution_count": 17,
      "outputs": [
        {
          "output_type": "execute_result",
          "data": {
            "text/plain": [
              "GradientBoostingRegressor(alpha=0.9, ccp_alpha=0.0, criterion='friedman_mse',\n",
              "                          init=None, learning_rate=0.1, loss='ls', max_depth=6,\n",
              "                          max_features=12, max_leaf_nodes=None,\n",
              "                          min_impurity_decrease=0.0, min_impurity_split=None,\n",
              "                          min_samples_leaf=10, min_samples_split=25,\n",
              "                          min_weight_fraction_leaf=0.0, n_estimators=80,\n",
              "                          n_iter_no_change=None, presort='deprecated',\n",
              "                          random_state=42, subsample=1.0, tol=0.0001,\n",
              "                          validation_fraction=0.1, verbose=0, warm_start=False)"
            ]
          },
          "metadata": {
            "tags": []
          },
          "execution_count": 17
        }
      ]
    },
    {
      "cell_type": "code",
      "metadata": {
        "id": "oYVMuousPky6",
        "outputId": "eeac8678-ac3e-438e-a0a7-b7ef1511867b",
        "colab": {
          "base_uri": "https://localhost:8080/"
        }
      },
      "source": [
        "np.sqrt(mean_squared_log_error(y_true = y_test, \r\n",
        "                               y_pred = np.exp(gbm_grid.best_estimator_.predict(X_test))))"
      ],
      "execution_count": 18,
      "outputs": [
        {
          "output_type": "execute_result",
          "data": {
            "text/plain": [
              "0.1420816075162319"
            ]
          },
          "metadata": {
            "tags": []
          },
          "execution_count": 18
        }
      ]
    },
    {
      "cell_type": "markdown",
      "metadata": {
        "id": "6xj1N5j2TONT"
      },
      "source": [
        "### Final Model"
      ]
    },
    {
      "cell_type": "code",
      "metadata": {
        "id": "WbwHqlelRXcW",
        "outputId": "48867a48-5cab-484d-cc2d-0f47dc64a5da",
        "colab": {
          "base_uri": "https://localhost:8080/"
        }
      },
      "source": [
        "gbm_grid.best_params_"
      ],
      "execution_count": 19,
      "outputs": [
        {
          "output_type": "execute_result",
          "data": {
            "text/plain": [
              "{'max_depth': 6,\n",
              " 'max_features': 12,\n",
              " 'min_samples_leaf': 10,\n",
              " 'min_samples_split': 25,\n",
              " 'subsample': 1.0}"
            ]
          },
          "metadata": {
            "tags": []
          },
          "execution_count": 19
        }
      ]
    },
    {
      "cell_type": "code",
      "metadata": {
        "id": "QtFSVabbRTU4"
      },
      "source": [
        "X_train, X_test, y_train, y_test = split_data(train_features_df)\r\n",
        "best_gbm_model = GradientBoostingRegressor(max_depth = 6, \r\n",
        "                                           max_features = 12, \r\n",
        "                                           min_samples_leaf = 10, \r\n",
        "                                           min_samples_split = 25, \r\n",
        "                                           subsample = 1.0, \r\n",
        "                                           learning_rate = 0.001, \r\n",
        "                                           n_estimators = 8000, \r\n",
        "                                           random_state = 42).fit(X_train, np.log(y_train))\r\n",
        "\r\n",
        "base_gbm = GradientBoostingRegressor(learning_rate = 0.1, \r\n",
        "                                     n_estimators = 80, \r\n",
        "                                     random_state = 42).fit(X_train, np.log(y_train))\r\n",
        "\r\n",
        "best_gbm_preds = np.exp(best_gbm_model.predict(X_test))\r\n",
        "best_gbm_rmsle = np.sqrt(mean_squared_log_error(y_true = y_test, y_pred = best_gbm_preds))\r\n",
        "\r\n",
        "base_gbm_preds = np.exp(base_gbm.predict(X_test))\r\n",
        "base_gbm_rmsle = np.sqrt(mean_squared_log_error(y_true = y_test, y_pred = base_gbm_preds))"
      ],
      "execution_count": 20,
      "outputs": []
    },
    {
      "cell_type": "code",
      "metadata": {
        "id": "dCFkdTVkSJKa",
        "outputId": "b4c6715e-53e9-4c63-faae-dad255c08446",
        "colab": {
          "base_uri": "https://localhost:8080/"
        }
      },
      "source": [
        "best_gbm_rmsle"
      ],
      "execution_count": 21,
      "outputs": [
        {
          "output_type": "execute_result",
          "data": {
            "text/plain": [
              "0.13980079971568782"
            ]
          },
          "metadata": {
            "tags": []
          },
          "execution_count": 21
        }
      ]
    },
    {
      "cell_type": "code",
      "metadata": {
        "id": "ttBIcxDrnYUH",
        "outputId": "e6c6dad7-0efb-45ce-f89a-9565d23b4f64",
        "colab": {
          "base_uri": "https://localhost:8080/"
        }
      },
      "source": [
        "base_gbm_rmsle"
      ],
      "execution_count": 22,
      "outputs": [
        {
          "output_type": "execute_result",
          "data": {
            "text/plain": [
              "0.1362312022198972"
            ]
          },
          "metadata": {
            "tags": []
          },
          "execution_count": 22
        }
      ]
    },
    {
      "cell_type": "markdown",
      "metadata": {
        "id": "8P3TQiDX3DtK"
      },
      "source": [
        "# Submission Till Now"
      ]
    },
    {
      "cell_type": "markdown",
      "metadata": {
        "id": "hIKFPO8X3Ior"
      },
      "source": [
        "## GBM"
      ]
    },
    {
      "cell_type": "markdown",
      "metadata": {
        "id": "scsCw5cu5ML3"
      },
      "source": [
        "**Base GBM**"
      ]
    },
    {
      "cell_type": "code",
      "metadata": {
        "id": "9t_Do2f33C8Y"
      },
      "source": [
        "X, y = train_features_df.drop([\"SalePrice\"], axis = 1), train_features_df[\"SalePrice\"]\r\n",
        "final_gbm_op_model = GradientBoostingRegressor(max_depth = 6, \r\n",
        "                                               max_features = 12, \r\n",
        "                                               min_samples_leaf = 10, \r\n",
        "                                               min_samples_split = 25, \r\n",
        "                                               subsample = 1.0, \r\n",
        "                                               learning_rate = 0.001, \r\n",
        "                                               n_estimators = 8000, \r\n",
        "                                               random_state = 42).fit(X.values, np.log(y.values))\r\n",
        "final_gbm_op_preds = np.exp(final_gbm_op_model.predict(test_features_df.values))"
      ],
      "execution_count": 29,
      "outputs": []
    },
    {
      "cell_type": "code",
      "metadata": {
        "id": "ySKKK3lT3vX6"
      },
      "source": [
        "sub4_gbm_op = pd.read_csv(url + \"sample_submission.csv\")\r\n",
        "sub4_gbm_op[\"SalePrice\"] = final_gbm_op_preds\r\n",
        "sub4_gbm_op.to_csv(\"sub4_gbm_op.csv\", index = False)"
      ],
      "execution_count": 31,
      "outputs": []
    },
    {
      "cell_type": "markdown",
      "metadata": {
        "id": "_FE7F5d25OIF"
      },
      "source": [
        "**Optimized GBM**"
      ]
    },
    {
      "cell_type": "code",
      "metadata": {
        "id": "Q3MQh-e65TT6"
      },
      "source": [
        "X, y = train_features_df.drop([\"SalePrice\"], axis = 1), train_features_df[\"SalePrice\"]\r\n",
        "final_gbm_model = GradientBoostingRegressor(n_estimators = 80, \r\n",
        "                                            learning_rate = 0.1, \r\n",
        "                                            random_state = 42).fit(X.values, np.log(y.values))\r\n",
        "final_gbm_preds = np.exp(final_gbm_model.predict(test_features_df.values))"
      ],
      "execution_count": null,
      "outputs": []
    },
    {
      "cell_type": "code",
      "metadata": {
        "id": "3SqmcO7k5TUB"
      },
      "source": [
        "sub4_gbm = pd.read_csv(url + \"sample_submission.csv\")\r\n",
        "sub4_gbm[\"SalePrice\"] = final_gbm_preds\r\n",
        "sub4_gbm.to_csv(\"sub4_gbm.csv\", index = False)"
      ],
      "execution_count": null,
      "outputs": []
    },
    {
      "cell_type": "markdown",
      "metadata": {
        "id": "KRsuwZIgTSkx"
      },
      "source": [
        "# XGBoost"
      ]
    },
    {
      "cell_type": "markdown",
      "metadata": {
        "id": "LaDFtO_qniVa"
      },
      "source": [
        "## Base XGBoost"
      ]
    },
    {
      "cell_type": "code",
      "metadata": {
        "id": "EI9zZZldTVD4",
        "outputId": "e2046faa-8e99-4d43-ec73-7e7b91deb43f",
        "colab": {
          "base_uri": "https://localhost:8080/"
        }
      },
      "source": [
        "X_train, X_test, y_train, y_test = split_data(train_features_df)\r\n",
        "base_xgb = xgb.XGBRFRegressor(random_state = 42).fit(X_train, np.log(y_train))\r\n",
        "base_xgb_preds = np.exp(base_xgb.predict(X_test))"
      ],
      "execution_count": 16,
      "outputs": [
        {
          "output_type": "stream",
          "text": [
            "[10:48:38] WARNING: /workspace/src/objective/regression_obj.cu:152: reg:linear is now deprecated in favor of reg:squarederror.\n"
          ],
          "name": "stdout"
        }
      ]
    },
    {
      "cell_type": "code",
      "metadata": {
        "id": "HdY0VHT7oRSU",
        "outputId": "2d008c55-b907-48bb-b13e-e8bbc276b477",
        "colab": {
          "base_uri": "https://localhost:8080/"
        }
      },
      "source": [
        "np.sqrt(mean_squared_log_error(y_true = y_test, y_pred = base_xgb_preds))"
      ],
      "execution_count": 17,
      "outputs": [
        {
          "output_type": "execute_result",
          "data": {
            "text/plain": [
              "10.179604895759105"
            ]
          },
          "metadata": {
            "tags": []
          },
          "execution_count": 17
        }
      ]
    },
    {
      "cell_type": "markdown",
      "metadata": {
        "id": "G0IUUQdcocQo"
      },
      "source": [
        "## GridSearchCV"
      ]
    },
    {
      "cell_type": "code",
      "metadata": {
        "id": "wgB3rVIgod4W"
      },
      "source": [
        "base_xgb = xgb.XGBRFRegressor(random_state = 42)\r\n",
        "params = {\r\n",
        "    'colsample_bytree':[0.4,0.6,0.8], \r\n",
        "    'gamma':[0,0.03,0.1,0.3], \r\n",
        "    'min_child_weight':[1.5,6,10], \r\n",
        "    'learning_rate':[0.1,0.07],\r\n",
        "    #'max_depth':[3,5], \r\n",
        "    #'n_estimators':[10000], \r\n",
        "    #'reg_alpha':[1e-5, 1e-2,  0.75], \r\n",
        "    #'reg_lambda':[1e-5, 1e-2, 0.45], \r\n",
        "    'subsample':[0.6,0.95]  \r\n",
        "}\r\n",
        "\r\n",
        "grid = GridSearchCV(estimator = base_xgb, \r\n",
        "                    param_grid = params,\r\n",
        "                    scoring = \"neg_mean_squared_log_error\", \r\n",
        "                    cv = 3, \r\n",
        "                    verbose = 3, \r\n",
        "                    n_jobs = -1)"
      ],
      "execution_count": 8,
      "outputs": []
    },
    {
      "cell_type": "code",
      "metadata": {
        "id": "zvnAbx7hpIIE",
        "outputId": "2e79f4ee-f29e-4999-c99f-f2064d0e68f5",
        "colab": {
          "base_uri": "https://localhost:8080/",
          "height": 391
        }
      },
      "source": [
        "X_train, X_test, y_train, y_test = split_data(train_features_df)\r\n",
        "xgb_grid = grid.fit(X_train, np.log(y_train))"
      ],
      "execution_count": 9,
      "outputs": [
        {
          "output_type": "stream",
          "text": [
            "Fitting 3 folds for each of 2592 candidates, totalling 7776 fits\n"
          ],
          "name": "stdout"
        },
        {
          "output_type": "stream",
          "text": [
            "[Parallel(n_jobs=-1)]: Using backend LokyBackend with 2 concurrent workers.\n",
            "[Parallel(n_jobs=-1)]: Done  28 tasks      | elapsed:  1.2min\n",
            "[Parallel(n_jobs=-1)]: Done 124 tasks      | elapsed:  4.1min\n"
          ],
          "name": "stderr"
        },
        {
          "output_type": "error",
          "ename": "KeyboardInterrupt",
          "evalue": "ignored",
          "traceback": [
            "\u001b[0;31m---------------------------------------------------------------------------\u001b[0m",
            "\u001b[0;31mKeyboardInterrupt\u001b[0m                         Traceback (most recent call last)",
            "\u001b[0;32m<ipython-input-9-6165f1618ff7>\u001b[0m in \u001b[0;36m<module>\u001b[0;34m()\u001b[0m\n\u001b[1;32m      1\u001b[0m \u001b[0mX_train\u001b[0m\u001b[0;34m,\u001b[0m \u001b[0mX_test\u001b[0m\u001b[0;34m,\u001b[0m \u001b[0my_train\u001b[0m\u001b[0;34m,\u001b[0m \u001b[0my_test\u001b[0m \u001b[0;34m=\u001b[0m \u001b[0msplit_data\u001b[0m\u001b[0;34m(\u001b[0m\u001b[0mtrain_features_df\u001b[0m\u001b[0;34m)\u001b[0m\u001b[0;34m\u001b[0m\u001b[0;34m\u001b[0m\u001b[0m\n\u001b[0;32m----> 2\u001b[0;31m \u001b[0mxgb_grid\u001b[0m \u001b[0;34m=\u001b[0m \u001b[0mgrid\u001b[0m\u001b[0;34m.\u001b[0m\u001b[0mfit\u001b[0m\u001b[0;34m(\u001b[0m\u001b[0mX_train\u001b[0m\u001b[0;34m,\u001b[0m \u001b[0mnp\u001b[0m\u001b[0;34m.\u001b[0m\u001b[0mlog\u001b[0m\u001b[0;34m(\u001b[0m\u001b[0my_train\u001b[0m\u001b[0;34m)\u001b[0m\u001b[0;34m)\u001b[0m\u001b[0;34m\u001b[0m\u001b[0;34m\u001b[0m\u001b[0m\n\u001b[0m",
            "\u001b[0;32m/usr/local/lib/python3.6/dist-packages/sklearn/model_selection/_search.py\u001b[0m in \u001b[0;36mfit\u001b[0;34m(self, X, y, groups, **fit_params)\u001b[0m\n\u001b[1;32m    708\u001b[0m                 \u001b[0;32mreturn\u001b[0m \u001b[0mresults\u001b[0m\u001b[0;34m\u001b[0m\u001b[0;34m\u001b[0m\u001b[0m\n\u001b[1;32m    709\u001b[0m \u001b[0;34m\u001b[0m\u001b[0m\n\u001b[0;32m--> 710\u001b[0;31m             \u001b[0mself\u001b[0m\u001b[0;34m.\u001b[0m\u001b[0m_run_search\u001b[0m\u001b[0;34m(\u001b[0m\u001b[0mevaluate_candidates\u001b[0m\u001b[0;34m)\u001b[0m\u001b[0;34m\u001b[0m\u001b[0;34m\u001b[0m\u001b[0m\n\u001b[0m\u001b[1;32m    711\u001b[0m \u001b[0;34m\u001b[0m\u001b[0m\n\u001b[1;32m    712\u001b[0m         \u001b[0;31m# For multi-metric evaluation, store the best_index_, best_params_ and\u001b[0m\u001b[0;34m\u001b[0m\u001b[0;34m\u001b[0m\u001b[0;34m\u001b[0m\u001b[0m\n",
            "\u001b[0;32m/usr/local/lib/python3.6/dist-packages/sklearn/model_selection/_search.py\u001b[0m in \u001b[0;36m_run_search\u001b[0;34m(self, evaluate_candidates)\u001b[0m\n\u001b[1;32m   1149\u001b[0m     \u001b[0;32mdef\u001b[0m \u001b[0m_run_search\u001b[0m\u001b[0;34m(\u001b[0m\u001b[0mself\u001b[0m\u001b[0;34m,\u001b[0m \u001b[0mevaluate_candidates\u001b[0m\u001b[0;34m)\u001b[0m\u001b[0;34m:\u001b[0m\u001b[0;34m\u001b[0m\u001b[0;34m\u001b[0m\u001b[0m\n\u001b[1;32m   1150\u001b[0m         \u001b[0;34m\"\"\"Search all candidates in param_grid\"\"\"\u001b[0m\u001b[0;34m\u001b[0m\u001b[0;34m\u001b[0m\u001b[0m\n\u001b[0;32m-> 1151\u001b[0;31m         \u001b[0mevaluate_candidates\u001b[0m\u001b[0;34m(\u001b[0m\u001b[0mParameterGrid\u001b[0m\u001b[0;34m(\u001b[0m\u001b[0mself\u001b[0m\u001b[0;34m.\u001b[0m\u001b[0mparam_grid\u001b[0m\u001b[0;34m)\u001b[0m\u001b[0;34m)\u001b[0m\u001b[0;34m\u001b[0m\u001b[0;34m\u001b[0m\u001b[0m\n\u001b[0m\u001b[1;32m   1152\u001b[0m \u001b[0;34m\u001b[0m\u001b[0m\n\u001b[1;32m   1153\u001b[0m \u001b[0;34m\u001b[0m\u001b[0m\n",
            "\u001b[0;32m/usr/local/lib/python3.6/dist-packages/sklearn/model_selection/_search.py\u001b[0m in \u001b[0;36mevaluate_candidates\u001b[0;34m(candidate_params)\u001b[0m\n\u001b[1;32m    687\u001b[0m                                \u001b[0;32mfor\u001b[0m \u001b[0mparameters\u001b[0m\u001b[0;34m,\u001b[0m \u001b[0;34m(\u001b[0m\u001b[0mtrain\u001b[0m\u001b[0;34m,\u001b[0m \u001b[0mtest\u001b[0m\u001b[0;34m)\u001b[0m\u001b[0;34m\u001b[0m\u001b[0;34m\u001b[0m\u001b[0m\n\u001b[1;32m    688\u001b[0m                                in product(candidate_params,\n\u001b[0;32m--> 689\u001b[0;31m                                           cv.split(X, y, groups)))\n\u001b[0m\u001b[1;32m    690\u001b[0m \u001b[0;34m\u001b[0m\u001b[0m\n\u001b[1;32m    691\u001b[0m                 \u001b[0;32mif\u001b[0m \u001b[0mlen\u001b[0m\u001b[0;34m(\u001b[0m\u001b[0mout\u001b[0m\u001b[0;34m)\u001b[0m \u001b[0;34m<\u001b[0m \u001b[0;36m1\u001b[0m\u001b[0;34m:\u001b[0m\u001b[0;34m\u001b[0m\u001b[0;34m\u001b[0m\u001b[0m\n",
            "\u001b[0;32m/usr/local/lib/python3.6/dist-packages/joblib/parallel.py\u001b[0m in \u001b[0;36m__call__\u001b[0;34m(self, iterable)\u001b[0m\n\u001b[1;32m   1052\u001b[0m \u001b[0;34m\u001b[0m\u001b[0m\n\u001b[1;32m   1053\u001b[0m             \u001b[0;32mwith\u001b[0m \u001b[0mself\u001b[0m\u001b[0;34m.\u001b[0m\u001b[0m_backend\u001b[0m\u001b[0;34m.\u001b[0m\u001b[0mretrieval_context\u001b[0m\u001b[0;34m(\u001b[0m\u001b[0;34m)\u001b[0m\u001b[0;34m:\u001b[0m\u001b[0;34m\u001b[0m\u001b[0;34m\u001b[0m\u001b[0m\n\u001b[0;32m-> 1054\u001b[0;31m                 \u001b[0mself\u001b[0m\u001b[0;34m.\u001b[0m\u001b[0mretrieve\u001b[0m\u001b[0;34m(\u001b[0m\u001b[0;34m)\u001b[0m\u001b[0;34m\u001b[0m\u001b[0;34m\u001b[0m\u001b[0m\n\u001b[0m\u001b[1;32m   1055\u001b[0m             \u001b[0;31m# Make sure that we get a last message telling us we are done\u001b[0m\u001b[0;34m\u001b[0m\u001b[0;34m\u001b[0m\u001b[0;34m\u001b[0m\u001b[0m\n\u001b[1;32m   1056\u001b[0m             \u001b[0melapsed_time\u001b[0m \u001b[0;34m=\u001b[0m \u001b[0mtime\u001b[0m\u001b[0;34m.\u001b[0m\u001b[0mtime\u001b[0m\u001b[0;34m(\u001b[0m\u001b[0;34m)\u001b[0m \u001b[0;34m-\u001b[0m \u001b[0mself\u001b[0m\u001b[0;34m.\u001b[0m\u001b[0m_start_time\u001b[0m\u001b[0;34m\u001b[0m\u001b[0;34m\u001b[0m\u001b[0m\n",
            "\u001b[0;32m/usr/local/lib/python3.6/dist-packages/joblib/parallel.py\u001b[0m in \u001b[0;36mretrieve\u001b[0;34m(self)\u001b[0m\n\u001b[1;32m    931\u001b[0m             \u001b[0;32mtry\u001b[0m\u001b[0;34m:\u001b[0m\u001b[0;34m\u001b[0m\u001b[0;34m\u001b[0m\u001b[0m\n\u001b[1;32m    932\u001b[0m                 \u001b[0;32mif\u001b[0m \u001b[0mgetattr\u001b[0m\u001b[0;34m(\u001b[0m\u001b[0mself\u001b[0m\u001b[0;34m.\u001b[0m\u001b[0m_backend\u001b[0m\u001b[0;34m,\u001b[0m \u001b[0;34m'supports_timeout'\u001b[0m\u001b[0;34m,\u001b[0m \u001b[0;32mFalse\u001b[0m\u001b[0;34m)\u001b[0m\u001b[0;34m:\u001b[0m\u001b[0;34m\u001b[0m\u001b[0;34m\u001b[0m\u001b[0m\n\u001b[0;32m--> 933\u001b[0;31m                     \u001b[0mself\u001b[0m\u001b[0;34m.\u001b[0m\u001b[0m_output\u001b[0m\u001b[0;34m.\u001b[0m\u001b[0mextend\u001b[0m\u001b[0;34m(\u001b[0m\u001b[0mjob\u001b[0m\u001b[0;34m.\u001b[0m\u001b[0mget\u001b[0m\u001b[0;34m(\u001b[0m\u001b[0mtimeout\u001b[0m\u001b[0;34m=\u001b[0m\u001b[0mself\u001b[0m\u001b[0;34m.\u001b[0m\u001b[0mtimeout\u001b[0m\u001b[0;34m)\u001b[0m\u001b[0;34m)\u001b[0m\u001b[0;34m\u001b[0m\u001b[0;34m\u001b[0m\u001b[0m\n\u001b[0m\u001b[1;32m    934\u001b[0m                 \u001b[0;32melse\u001b[0m\u001b[0;34m:\u001b[0m\u001b[0;34m\u001b[0m\u001b[0;34m\u001b[0m\u001b[0m\n\u001b[1;32m    935\u001b[0m                     \u001b[0mself\u001b[0m\u001b[0;34m.\u001b[0m\u001b[0m_output\u001b[0m\u001b[0;34m.\u001b[0m\u001b[0mextend\u001b[0m\u001b[0;34m(\u001b[0m\u001b[0mjob\u001b[0m\u001b[0;34m.\u001b[0m\u001b[0mget\u001b[0m\u001b[0;34m(\u001b[0m\u001b[0;34m)\u001b[0m\u001b[0;34m)\u001b[0m\u001b[0;34m\u001b[0m\u001b[0;34m\u001b[0m\u001b[0m\n",
            "\u001b[0;32m/usr/local/lib/python3.6/dist-packages/joblib/_parallel_backends.py\u001b[0m in \u001b[0;36mwrap_future_result\u001b[0;34m(future, timeout)\u001b[0m\n\u001b[1;32m    540\u001b[0m         AsyncResults.get from multiprocessing.\"\"\"\n\u001b[1;32m    541\u001b[0m         \u001b[0;32mtry\u001b[0m\u001b[0;34m:\u001b[0m\u001b[0;34m\u001b[0m\u001b[0;34m\u001b[0m\u001b[0m\n\u001b[0;32m--> 542\u001b[0;31m             \u001b[0;32mreturn\u001b[0m \u001b[0mfuture\u001b[0m\u001b[0;34m.\u001b[0m\u001b[0mresult\u001b[0m\u001b[0;34m(\u001b[0m\u001b[0mtimeout\u001b[0m\u001b[0;34m=\u001b[0m\u001b[0mtimeout\u001b[0m\u001b[0;34m)\u001b[0m\u001b[0;34m\u001b[0m\u001b[0;34m\u001b[0m\u001b[0m\n\u001b[0m\u001b[1;32m    543\u001b[0m         \u001b[0;32mexcept\u001b[0m \u001b[0mCfTimeoutError\u001b[0m \u001b[0;32mas\u001b[0m \u001b[0me\u001b[0m\u001b[0;34m:\u001b[0m\u001b[0;34m\u001b[0m\u001b[0;34m\u001b[0m\u001b[0m\n\u001b[1;32m    544\u001b[0m             \u001b[0;32mraise\u001b[0m \u001b[0mTimeoutError\u001b[0m \u001b[0;32mfrom\u001b[0m \u001b[0me\u001b[0m\u001b[0;34m\u001b[0m\u001b[0;34m\u001b[0m\u001b[0m\n",
            "\u001b[0;32m/usr/lib/python3.6/concurrent/futures/_base.py\u001b[0m in \u001b[0;36mresult\u001b[0;34m(self, timeout)\u001b[0m\n\u001b[1;32m    425\u001b[0m                 \u001b[0;32mreturn\u001b[0m \u001b[0mself\u001b[0m\u001b[0;34m.\u001b[0m\u001b[0m__get_result\u001b[0m\u001b[0;34m(\u001b[0m\u001b[0;34m)\u001b[0m\u001b[0;34m\u001b[0m\u001b[0;34m\u001b[0m\u001b[0m\n\u001b[1;32m    426\u001b[0m \u001b[0;34m\u001b[0m\u001b[0m\n\u001b[0;32m--> 427\u001b[0;31m             \u001b[0mself\u001b[0m\u001b[0;34m.\u001b[0m\u001b[0m_condition\u001b[0m\u001b[0;34m.\u001b[0m\u001b[0mwait\u001b[0m\u001b[0;34m(\u001b[0m\u001b[0mtimeout\u001b[0m\u001b[0;34m)\u001b[0m\u001b[0;34m\u001b[0m\u001b[0;34m\u001b[0m\u001b[0m\n\u001b[0m\u001b[1;32m    428\u001b[0m \u001b[0;34m\u001b[0m\u001b[0m\n\u001b[1;32m    429\u001b[0m             \u001b[0;32mif\u001b[0m \u001b[0mself\u001b[0m\u001b[0;34m.\u001b[0m\u001b[0m_state\u001b[0m \u001b[0;32min\u001b[0m \u001b[0;34m[\u001b[0m\u001b[0mCANCELLED\u001b[0m\u001b[0;34m,\u001b[0m \u001b[0mCANCELLED_AND_NOTIFIED\u001b[0m\u001b[0;34m]\u001b[0m\u001b[0;34m:\u001b[0m\u001b[0;34m\u001b[0m\u001b[0;34m\u001b[0m\u001b[0m\n",
            "\u001b[0;32m/usr/lib/python3.6/threading.py\u001b[0m in \u001b[0;36mwait\u001b[0;34m(self, timeout)\u001b[0m\n\u001b[1;32m    293\u001b[0m         \u001b[0;32mtry\u001b[0m\u001b[0;34m:\u001b[0m    \u001b[0;31m# restore state no matter what (e.g., KeyboardInterrupt)\u001b[0m\u001b[0;34m\u001b[0m\u001b[0;34m\u001b[0m\u001b[0m\n\u001b[1;32m    294\u001b[0m             \u001b[0;32mif\u001b[0m \u001b[0mtimeout\u001b[0m \u001b[0;32mis\u001b[0m \u001b[0;32mNone\u001b[0m\u001b[0;34m:\u001b[0m\u001b[0;34m\u001b[0m\u001b[0;34m\u001b[0m\u001b[0m\n\u001b[0;32m--> 295\u001b[0;31m                 \u001b[0mwaiter\u001b[0m\u001b[0;34m.\u001b[0m\u001b[0macquire\u001b[0m\u001b[0;34m(\u001b[0m\u001b[0;34m)\u001b[0m\u001b[0;34m\u001b[0m\u001b[0;34m\u001b[0m\u001b[0m\n\u001b[0m\u001b[1;32m    296\u001b[0m                 \u001b[0mgotit\u001b[0m \u001b[0;34m=\u001b[0m \u001b[0;32mTrue\u001b[0m\u001b[0;34m\u001b[0m\u001b[0;34m\u001b[0m\u001b[0m\n\u001b[1;32m    297\u001b[0m             \u001b[0;32melse\u001b[0m\u001b[0;34m:\u001b[0m\u001b[0;34m\u001b[0m\u001b[0;34m\u001b[0m\u001b[0m\n",
            "\u001b[0;31mKeyboardInterrupt\u001b[0m: "
          ]
        }
      ]
    },
    {
      "cell_type": "code",
      "metadata": {
        "id": "_Fm7ZlQgpWTC"
      },
      "source": [
        "xgb_grid.best_estimator_"
      ],
      "execution_count": null,
      "outputs": []
    }
  ]
}