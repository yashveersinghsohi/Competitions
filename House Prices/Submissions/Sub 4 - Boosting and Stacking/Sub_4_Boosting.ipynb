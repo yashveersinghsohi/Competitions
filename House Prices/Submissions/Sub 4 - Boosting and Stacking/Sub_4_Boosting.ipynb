{
  "nbformat": 4,
  "nbformat_minor": 0,
  "metadata": {
    "colab": {
      "name": "Sub 4 - Boosting.ipynb",
      "provenance": [],
      "toc_visible": true,
      "include_colab_link": true
    },
    "kernelspec": {
      "name": "python3",
      "display_name": "Python 3"
    },
    "accelerator": "GPU"
  },
  "cells": [
    {
      "cell_type": "markdown",
      "metadata": {
        "id": "view-in-github",
        "colab_type": "text"
      },
      "source": [
        "<a href=\"https://colab.research.google.com/github/yashveersinghsohi/Kaggle_Competitions/blob/HousePrice/House%20Prices/Submissions/Sub%204%20-%20Boosting%20and%20Stacking/Sub_4_Boosting.ipynb\" target=\"_parent\"><img src=\"https://colab.research.google.com/assets/colab-badge.svg\" alt=\"Open In Colab\"/></a>"
      ]
    },
    {
      "cell_type": "markdown",
      "metadata": {
        "id": "-k_4E-ALoaz-"
      },
      "source": [
        "# Importing Required Packages"
      ]
    },
    {
      "cell_type": "code",
      "metadata": {
        "id": "DE4X5VXOoWWZ"
      },
      "source": [
        "import warnings\r\n",
        "warnings.filterwarnings(\"ignore\")\r\n",
        "\r\n",
        "import pandas as pd\r\n",
        "import numpy as np\r\n",
        "\r\n",
        "import matplotlib.pyplot as plt\r\n",
        "import seaborn as sns\r\n",
        "\r\n",
        "from sklearn.model_selection import train_test_split\r\n",
        "from sklearn.metrics import mean_squared_log_error\r\n",
        "from sklearn.model_selection import GridSearchCV\r\n",
        "\r\n",
        "from sklearn.pipeline import Pipeline, make_pipeline\r\n",
        "from sklearn.preprocessing import RobustScaler\r\n",
        "\r\n",
        "from sklearn.linear_model import LinearRegression, Lasso, Ridge\r\n",
        "from sklearn.ensemble import BaggingRegressor\r\n",
        "\r\n",
        "from sklearn.ensemble import AdaBoostRegressor\r\n",
        "from sklearn.ensemble import GradientBoostingRegressor\r\n",
        "import xgboost as xgb\r\n",
        "import lightgbm as lgb\r\n",
        "from sklearn.ensemble import StackingRegressor"
      ],
      "execution_count": 1,
      "outputs": []
    },
    {
      "cell_type": "markdown",
      "metadata": {
        "id": "6giVl1dkpWR5"
      },
      "source": [
        "#  Reading Data"
      ]
    },
    {
      "cell_type": "code",
      "metadata": {
        "id": "Dgun-KiNogH6"
      },
      "source": [
        "url = \"https://raw.githubusercontent.com/yashveersinghsohi/Kaggle_Competitions/HousePrice/House%20Prices/Submissions/Data/\"\r\n",
        "\r\n",
        "train_df = pd.read_csv(url + \"train.csv\")\r\n",
        "test_df = pd.read_csv(url + \"test.csv\")\r\n",
        "\r\n",
        "train_features_df = pd.read_csv(url + \"train_features_df.csv\")\r\n",
        "test_features_df = pd.read_csv(url + \"test_features_df.csv\")\r\n",
        "\r\n",
        "# train_df = pd.read_csv(\"train.csv\")\r\n",
        "# test_df = pd.read_csv(\"test.csv\")\r\n",
        "\r\n",
        "# train_features_df = pd.read_csv(\"train_features_df.csv\")\r\n",
        "# test_features_df = pd.read_csv(\"test_features_df.csv\")"
      ],
      "execution_count": 2,
      "outputs": []
    },
    {
      "cell_type": "code",
      "metadata": {
        "colab": {
          "base_uri": "https://localhost:8080/",
          "height": 224
        },
        "id": "JB1kNBxYpeiy",
        "outputId": "b1e5d4bf-6679-41ed-d54d-28be0cc92571"
      },
      "source": [
        "train_features_df.head()"
      ],
      "execution_count": 3,
      "outputs": [
        {
          "output_type": "execute_result",
          "data": {
            "text/html": [
              "<div>\n",
              "<style scoped>\n",
              "    .dataframe tbody tr th:only-of-type {\n",
              "        vertical-align: middle;\n",
              "    }\n",
              "\n",
              "    .dataframe tbody tr th {\n",
              "        vertical-align: top;\n",
              "    }\n",
              "\n",
              "    .dataframe thead th {\n",
              "        text-align: right;\n",
              "    }\n",
              "</style>\n",
              "<table border=\"1\" class=\"dataframe\">\n",
              "  <thead>\n",
              "    <tr style=\"text-align: right;\">\n",
              "      <th></th>\n",
              "      <th>OverallQual</th>\n",
              "      <th>ExterQual</th>\n",
              "      <th>Foundation</th>\n",
              "      <th>BsmtQual</th>\n",
              "      <th>KitchenQual</th>\n",
              "      <th>FireplaceQu</th>\n",
              "      <th>GarageFinish</th>\n",
              "      <th>YearDiff</th>\n",
              "      <th>YearRemodAdd</th>\n",
              "      <th>1stFlrSF</th>\n",
              "      <th>GrLivArea</th>\n",
              "      <th>FullBath</th>\n",
              "      <th>GarageCars</th>\n",
              "      <th>Neighborhood</th>\n",
              "      <th>MasVnrType</th>\n",
              "      <th>HeatingQC</th>\n",
              "      <th>Fireplaces</th>\n",
              "      <th>MasVnrArea</th>\n",
              "      <th>GarageYrBlt</th>\n",
              "      <th>HouseStyle</th>\n",
              "      <th>Exterior1st</th>\n",
              "      <th>Exterior2nd</th>\n",
              "      <th>BsmtExposure</th>\n",
              "      <th>BsmtFinType1</th>\n",
              "      <th>GarageType</th>\n",
              "      <th>OverallCond</th>\n",
              "      <th>LotArea</th>\n",
              "      <th>BsmtFinSF1</th>\n",
              "      <th>LotFrontage</th>\n",
              "      <th>2ndFlrSF</th>\n",
              "      <th>SalePrice</th>\n",
              "      <th>no_garage</th>\n",
              "      <th>is_BsmtFinSF1_0</th>\n",
              "      <th>is_2ndFlrSF_0</th>\n",
              "    </tr>\n",
              "  </thead>\n",
              "  <tbody>\n",
              "    <tr>\n",
              "      <th>0</th>\n",
              "      <td>7</td>\n",
              "      <td>2</td>\n",
              "      <td>6</td>\n",
              "      <td>3</td>\n",
              "      <td>2</td>\n",
              "      <td>1</td>\n",
              "      <td>2</td>\n",
              "      <td>2.472136</td>\n",
              "      <td>87.509776</td>\n",
              "      <td>6.752270</td>\n",
              "      <td>7.444249</td>\n",
              "      <td>2</td>\n",
              "      <td>2</td>\n",
              "      <td>16</td>\n",
              "      <td>2</td>\n",
              "      <td>4</td>\n",
              "      <td>0</td>\n",
              "      <td>196.0</td>\n",
              "      <td>2003</td>\n",
              "      <td>6</td>\n",
              "      <td>11</td>\n",
              "      <td>13</td>\n",
              "      <td>1</td>\n",
              "      <td>6</td>\n",
              "      <td>5</td>\n",
              "      <td>8</td>\n",
              "      <td>9.041922</td>\n",
              "      <td>706</td>\n",
              "      <td>4.174387</td>\n",
              "      <td>854</td>\n",
              "      <td>208500</td>\n",
              "      <td>0</td>\n",
              "      <td>0</td>\n",
              "      <td>0</td>\n",
              "    </tr>\n",
              "    <tr>\n",
              "      <th>1</th>\n",
              "      <td>6</td>\n",
              "      <td>1</td>\n",
              "      <td>3</td>\n",
              "      <td>3</td>\n",
              "      <td>1</td>\n",
              "      <td>3</td>\n",
              "      <td>2</td>\n",
              "      <td>9.135529</td>\n",
              "      <td>86.904443</td>\n",
              "      <td>7.140453</td>\n",
              "      <td>7.140453</td>\n",
              "      <td>2</td>\n",
              "      <td>2</td>\n",
              "      <td>19</td>\n",
              "      <td>1</td>\n",
              "      <td>4</td>\n",
              "      <td>1</td>\n",
              "      <td>0.0</td>\n",
              "      <td>1976</td>\n",
              "      <td>4</td>\n",
              "      <td>6</td>\n",
              "      <td>4</td>\n",
              "      <td>4</td>\n",
              "      <td>4</td>\n",
              "      <td>5</td>\n",
              "      <td>4</td>\n",
              "      <td>9.169518</td>\n",
              "      <td>978</td>\n",
              "      <td>4.382027</td>\n",
              "      <td>0</td>\n",
              "      <td>181500</td>\n",
              "      <td>0</td>\n",
              "      <td>0</td>\n",
              "      <td>1</td>\n",
              "    </tr>\n",
              "    <tr>\n",
              "      <th>2</th>\n",
              "      <td>7</td>\n",
              "      <td>2</td>\n",
              "      <td>6</td>\n",
              "      <td>3</td>\n",
              "      <td>2</td>\n",
              "      <td>3</td>\n",
              "      <td>2</td>\n",
              "      <td>3.291503</td>\n",
              "      <td>87.487429</td>\n",
              "      <td>6.824374</td>\n",
              "      <td>7.487734</td>\n",
              "      <td>2</td>\n",
              "      <td>2</td>\n",
              "      <td>16</td>\n",
              "      <td>2</td>\n",
              "      <td>4</td>\n",
              "      <td>1</td>\n",
              "      <td>162.0</td>\n",
              "      <td>2001</td>\n",
              "      <td>6</td>\n",
              "      <td>11</td>\n",
              "      <td>13</td>\n",
              "      <td>2</td>\n",
              "      <td>6</td>\n",
              "      <td>5</td>\n",
              "      <td>8</td>\n",
              "      <td>9.328123</td>\n",
              "      <td>486</td>\n",
              "      <td>4.219508</td>\n",
              "      <td>866</td>\n",
              "      <td>223500</td>\n",
              "      <td>0</td>\n",
              "      <td>0</td>\n",
              "      <td>0</td>\n",
              "    </tr>\n",
              "    <tr>\n",
              "      <th>3</th>\n",
              "      <td>7</td>\n",
              "      <td>1</td>\n",
              "      <td>2</td>\n",
              "      <td>2</td>\n",
              "      <td>2</td>\n",
              "      <td>4</td>\n",
              "      <td>1</td>\n",
              "      <td>17.078784</td>\n",
              "      <td>86.769364</td>\n",
              "      <td>6.867974</td>\n",
              "      <td>7.448334</td>\n",
              "      <td>1</td>\n",
              "      <td>3</td>\n",
              "      <td>18</td>\n",
              "      <td>1</td>\n",
              "      <td>3</td>\n",
              "      <td>1</td>\n",
              "      <td>0.0</td>\n",
              "      <td>1998</td>\n",
              "      <td>6</td>\n",
              "      <td>5</td>\n",
              "      <td>3</td>\n",
              "      <td>1</td>\n",
              "      <td>4</td>\n",
              "      <td>2</td>\n",
              "      <td>8</td>\n",
              "      <td>9.164296</td>\n",
              "      <td>216</td>\n",
              "      <td>4.094345</td>\n",
              "      <td>756</td>\n",
              "      <td>140000</td>\n",
              "      <td>0</td>\n",
              "      <td>0</td>\n",
              "      <td>0</td>\n",
              "    </tr>\n",
              "    <tr>\n",
              "      <th>4</th>\n",
              "      <td>8</td>\n",
              "      <td>2</td>\n",
              "      <td>6</td>\n",
              "      <td>3</td>\n",
              "      <td>2</td>\n",
              "      <td>3</td>\n",
              "      <td>2</td>\n",
              "      <td>3.656854</td>\n",
              "      <td>87.442719</td>\n",
              "      <td>7.043160</td>\n",
              "      <td>7.695303</td>\n",
              "      <td>2</td>\n",
              "      <td>3</td>\n",
              "      <td>23</td>\n",
              "      <td>2</td>\n",
              "      <td>4</td>\n",
              "      <td>1</td>\n",
              "      <td>350.0</td>\n",
              "      <td>2000</td>\n",
              "      <td>6</td>\n",
              "      <td>11</td>\n",
              "      <td>13</td>\n",
              "      <td>3</td>\n",
              "      <td>6</td>\n",
              "      <td>5</td>\n",
              "      <td>8</td>\n",
              "      <td>9.565214</td>\n",
              "      <td>655</td>\n",
              "      <td>4.430817</td>\n",
              "      <td>1053</td>\n",
              "      <td>250000</td>\n",
              "      <td>0</td>\n",
              "      <td>0</td>\n",
              "      <td>0</td>\n",
              "    </tr>\n",
              "  </tbody>\n",
              "</table>\n",
              "</div>"
            ],
            "text/plain": [
              "   OverallQual  ExterQual  ...  is_BsmtFinSF1_0  is_2ndFlrSF_0\n",
              "0            7          2  ...                0              0\n",
              "1            6          1  ...                0              1\n",
              "2            7          2  ...                0              0\n",
              "3            7          1  ...                0              0\n",
              "4            8          2  ...                0              0\n",
              "\n",
              "[5 rows x 34 columns]"
            ]
          },
          "metadata": {
            "tags": []
          },
          "execution_count": 3
        }
      ]
    },
    {
      "cell_type": "code",
      "metadata": {
        "colab": {
          "base_uri": "https://localhost:8080/",
          "height": 224
        },
        "id": "6ElpXbqWpiVy",
        "outputId": "02c9429b-8bcc-4c6a-bcf0-6165059ac489"
      },
      "source": [
        "test_features_df.head()"
      ],
      "execution_count": 4,
      "outputs": [
        {
          "output_type": "execute_result",
          "data": {
            "text/html": [
              "<div>\n",
              "<style scoped>\n",
              "    .dataframe tbody tr th:only-of-type {\n",
              "        vertical-align: middle;\n",
              "    }\n",
              "\n",
              "    .dataframe tbody tr th {\n",
              "        vertical-align: top;\n",
              "    }\n",
              "\n",
              "    .dataframe thead th {\n",
              "        text-align: right;\n",
              "    }\n",
              "</style>\n",
              "<table border=\"1\" class=\"dataframe\">\n",
              "  <thead>\n",
              "    <tr style=\"text-align: right;\">\n",
              "      <th></th>\n",
              "      <th>OverallQual</th>\n",
              "      <th>ExterQual</th>\n",
              "      <th>Foundation</th>\n",
              "      <th>BsmtQual</th>\n",
              "      <th>KitchenQual</th>\n",
              "      <th>FireplaceQu</th>\n",
              "      <th>GarageFinish</th>\n",
              "      <th>YearDiff</th>\n",
              "      <th>YearRemodAdd</th>\n",
              "      <th>1stFlrSF</th>\n",
              "      <th>GrLivArea</th>\n",
              "      <th>FullBath</th>\n",
              "      <th>GarageCars</th>\n",
              "      <th>Neighborhood</th>\n",
              "      <th>MasVnrType</th>\n",
              "      <th>HeatingQC</th>\n",
              "      <th>Fireplaces</th>\n",
              "      <th>MasVnrArea</th>\n",
              "      <th>GarageYrBlt</th>\n",
              "      <th>HouseStyle</th>\n",
              "      <th>Exterior1st</th>\n",
              "      <th>Exterior2nd</th>\n",
              "      <th>BsmtExposure</th>\n",
              "      <th>BsmtFinType1</th>\n",
              "      <th>GarageType</th>\n",
              "      <th>OverallCond</th>\n",
              "      <th>LotArea</th>\n",
              "      <th>BsmtFinSF1</th>\n",
              "      <th>LotFrontage</th>\n",
              "      <th>2ndFlrSF</th>\n",
              "      <th>no_garage</th>\n",
              "      <th>is_BsmtFinSF1_0</th>\n",
              "      <th>is_2ndFlrSF_0</th>\n",
              "    </tr>\n",
              "  </thead>\n",
              "  <tbody>\n",
              "    <tr>\n",
              "      <th>0</th>\n",
              "      <td>5</td>\n",
              "      <td>1</td>\n",
              "      <td>3</td>\n",
              "      <td>2</td>\n",
              "      <td>1</td>\n",
              "      <td>1</td>\n",
              "      <td>1</td>\n",
              "      <td>12.000000</td>\n",
              "      <td>86.566359</td>\n",
              "      <td>6.797940</td>\n",
              "      <td>6.797940</td>\n",
              "      <td>1</td>\n",
              "      <td>1</td>\n",
              "      <td>9</td>\n",
              "      <td>1</td>\n",
              "      <td>2</td>\n",
              "      <td>0</td>\n",
              "      <td>0.0</td>\n",
              "      <td>7.581210</td>\n",
              "      <td>4</td>\n",
              "      <td>11</td>\n",
              "      <td>13</td>\n",
              "      <td>1</td>\n",
              "      <td>3</td>\n",
              "      <td>5</td>\n",
              "      <td>6</td>\n",
              "      <td>9.360655</td>\n",
              "      <td>468.0</td>\n",
              "      <td>4.382027</td>\n",
              "      <td>0</td>\n",
              "      <td>0</td>\n",
              "      <td>0</td>\n",
              "      <td>1</td>\n",
              "    </tr>\n",
              "    <tr>\n",
              "      <th>1</th>\n",
              "      <td>6</td>\n",
              "      <td>1</td>\n",
              "      <td>3</td>\n",
              "      <td>2</td>\n",
              "      <td>2</td>\n",
              "      <td>1</td>\n",
              "      <td>1</td>\n",
              "      <td>12.422205</td>\n",
              "      <td>86.498588</td>\n",
              "      <td>7.192182</td>\n",
              "      <td>7.192182</td>\n",
              "      <td>1</td>\n",
              "      <td>1</td>\n",
              "      <td>9</td>\n",
              "      <td>2</td>\n",
              "      <td>2</td>\n",
              "      <td>0</td>\n",
              "      <td>108.0</td>\n",
              "      <td>7.579679</td>\n",
              "      <td>4</td>\n",
              "      <td>5</td>\n",
              "      <td>2</td>\n",
              "      <td>1</td>\n",
              "      <td>4</td>\n",
              "      <td>5</td>\n",
              "      <td>6</td>\n",
              "      <td>9.565704</td>\n",
              "      <td>923.0</td>\n",
              "      <td>4.394449</td>\n",
              "      <td>0</td>\n",
              "      <td>0</td>\n",
              "      <td>0</td>\n",
              "      <td>1</td>\n",
              "    </tr>\n",
              "    <tr>\n",
              "      <th>2</th>\n",
              "      <td>5</td>\n",
              "      <td>1</td>\n",
              "      <td>6</td>\n",
              "      <td>3</td>\n",
              "      <td>1</td>\n",
              "      <td>3</td>\n",
              "      <td>3</td>\n",
              "      <td>5.211103</td>\n",
              "      <td>87.397987</td>\n",
              "      <td>6.833032</td>\n",
              "      <td>7.395722</td>\n",
              "      <td>2</td>\n",
              "      <td>2</td>\n",
              "      <td>13</td>\n",
              "      <td>1</td>\n",
              "      <td>3</td>\n",
              "      <td>1</td>\n",
              "      <td>0.0</td>\n",
              "      <td>7.599401</td>\n",
              "      <td>6</td>\n",
              "      <td>11</td>\n",
              "      <td>13</td>\n",
              "      <td>1</td>\n",
              "      <td>6</td>\n",
              "      <td>5</td>\n",
              "      <td>5</td>\n",
              "      <td>9.534595</td>\n",
              "      <td>791.0</td>\n",
              "      <td>4.304065</td>\n",
              "      <td>701</td>\n",
              "      <td>0</td>\n",
              "      <td>0</td>\n",
              "      <td>0</td>\n",
              "    </tr>\n",
              "    <tr>\n",
              "      <th>3</th>\n",
              "      <td>6</td>\n",
              "      <td>1</td>\n",
              "      <td>6</td>\n",
              "      <td>2</td>\n",
              "      <td>2</td>\n",
              "      <td>4</td>\n",
              "      <td>3</td>\n",
              "      <td>4.928203</td>\n",
              "      <td>87.397987</td>\n",
              "      <td>6.830874</td>\n",
              "      <td>7.380256</td>\n",
              "      <td>2</td>\n",
              "      <td>2</td>\n",
              "      <td>13</td>\n",
              "      <td>2</td>\n",
              "      <td>4</td>\n",
              "      <td>1</td>\n",
              "      <td>20.0</td>\n",
              "      <td>7.599902</td>\n",
              "      <td>6</td>\n",
              "      <td>11</td>\n",
              "      <td>13</td>\n",
              "      <td>1</td>\n",
              "      <td>6</td>\n",
              "      <td>5</td>\n",
              "      <td>6</td>\n",
              "      <td>9.208138</td>\n",
              "      <td>602.0</td>\n",
              "      <td>4.356709</td>\n",
              "      <td>678</td>\n",
              "      <td>0</td>\n",
              "      <td>0</td>\n",
              "      <td>0</td>\n",
              "    </tr>\n",
              "    <tr>\n",
              "      <th>4</th>\n",
              "      <td>8</td>\n",
              "      <td>2</td>\n",
              "      <td>6</td>\n",
              "      <td>3</td>\n",
              "      <td>2</td>\n",
              "      <td>1</td>\n",
              "      <td>2</td>\n",
              "      <td>6.485281</td>\n",
              "      <td>87.263654</td>\n",
              "      <td>7.154615</td>\n",
              "      <td>7.154615</td>\n",
              "      <td>2</td>\n",
              "      <td>2</td>\n",
              "      <td>22</td>\n",
              "      <td>1</td>\n",
              "      <td>4</td>\n",
              "      <td>0</td>\n",
              "      <td>0.0</td>\n",
              "      <td>7.596894</td>\n",
              "      <td>4</td>\n",
              "      <td>8</td>\n",
              "      <td>8</td>\n",
              "      <td>1</td>\n",
              "      <td>4</td>\n",
              "      <td>5</td>\n",
              "      <td>5</td>\n",
              "      <td>8.518193</td>\n",
              "      <td>263.0</td>\n",
              "      <td>3.761200</td>\n",
              "      <td>0</td>\n",
              "      <td>0</td>\n",
              "      <td>0</td>\n",
              "      <td>1</td>\n",
              "    </tr>\n",
              "  </tbody>\n",
              "</table>\n",
              "</div>"
            ],
            "text/plain": [
              "   OverallQual  ExterQual  ...  is_BsmtFinSF1_0  is_2ndFlrSF_0\n",
              "0            5          1  ...                0              1\n",
              "1            6          1  ...                0              1\n",
              "2            5          1  ...                0              0\n",
              "3            6          1  ...                0              0\n",
              "4            8          2  ...                0              1\n",
              "\n",
              "[5 rows x 33 columns]"
            ]
          },
          "metadata": {
            "tags": []
          },
          "execution_count": 4
        }
      ]
    },
    {
      "cell_type": "markdown",
      "metadata": {
        "id": "a9zjgu1Xpzox"
      },
      "source": [
        "# Train Test Split"
      ]
    },
    {
      "cell_type": "code",
      "metadata": {
        "id": "KN_k4S3Jp1a4"
      },
      "source": [
        "def split_data(df, test_size = 0.2, random_state = 42):\r\n",
        "    X, y = df.drop([\"SalePrice\"], axis = 1), df[\"SalePrice\"]\r\n",
        "    return train_test_split(X, y, test_size = test_size, random_state = random_state)"
      ],
      "execution_count": 5,
      "outputs": []
    },
    {
      "cell_type": "markdown",
      "metadata": {
        "id": "4bmfaTjgp3zE"
      },
      "source": [
        "# Adaboost Regressor"
      ]
    },
    {
      "cell_type": "markdown",
      "metadata": {
        "id": "SkEyDYuXrFzr"
      },
      "source": [
        "## Base AdaBoost Regressor"
      ]
    },
    {
      "cell_type": "markdown",
      "metadata": {
        "id": "1TnDoTvbrCu4"
      },
      "source": [
        "**Model**"
      ]
    },
    {
      "cell_type": "code",
      "metadata": {
        "id": "WxjrVp68p3P6"
      },
      "source": [
        "X_train, X_test, y_train, y_test = split_data(train_features_df)\r\n",
        "ada = AdaBoostRegressor(random_state = 42).fit(X_train, np.log(y_train))\r\n",
        "ada_preds = np.exp(ada.predict(X_test))"
      ],
      "execution_count": 6,
      "outputs": []
    },
    {
      "cell_type": "markdown",
      "metadata": {
        "id": "b88HmGJurEMJ"
      },
      "source": [
        "**RMSLE**"
      ]
    },
    {
      "cell_type": "code",
      "metadata": {
        "colab": {
          "base_uri": "https://localhost:8080/"
        },
        "id": "E13PH6xmqLu_",
        "outputId": "f84ce178-0217-4453-b100-07cc18ea6d27"
      },
      "source": [
        "np.sqrt(mean_squared_log_error(y_true = y_test, y_pred  = ada_preds))"
      ],
      "execution_count": 7,
      "outputs": [
        {
          "output_type": "execute_result",
          "data": {
            "text/plain": [
              "0.17253553560633222"
            ]
          },
          "metadata": {
            "tags": []
          },
          "execution_count": 7
        }
      ]
    },
    {
      "cell_type": "markdown",
      "metadata": {
        "id": "SnAI8uXDrCDa"
      },
      "source": [
        "## GridSearchCV"
      ]
    },
    {
      "cell_type": "markdown",
      "metadata": {
        "id": "YlhPZB8BsQtc"
      },
      "source": [
        "**Defining Grid**"
      ]
    },
    {
      "cell_type": "code",
      "metadata": {
        "id": "WULZMSorrLYK"
      },
      "source": [
        "base_ada = AdaBoostRegressor(random_state = 42)\r\n",
        "params = {\r\n",
        "    \"learning_rate\": [0.01, 0.03, 0.1, 0.3, 1, 3, 10],\r\n",
        "    \"n_estimators\": [50, 75, 100, 150, 200, 300, 500, 1000],\r\n",
        "    \"loss\": [\"linear\", \"square\", \"exponential\"]\r\n",
        "}\r\n",
        "\r\n",
        "grid = GridSearchCV(estimator = base_ada, \r\n",
        "                    param_grid = params, \r\n",
        "                    scoring = \"neg_mean_squared_log_error\", \r\n",
        "                    cv = 3, \r\n",
        "                    verbose = 3, \r\n",
        "                    n_jobs = -1)"
      ],
      "execution_count": 8,
      "outputs": []
    },
    {
      "cell_type": "markdown",
      "metadata": {
        "id": "VcR389rNsS7h"
      },
      "source": [
        "**Fitting Grid**"
      ]
    },
    {
      "cell_type": "code",
      "metadata": {
        "colab": {
          "base_uri": "https://localhost:8080/"
        },
        "id": "YXsqnE-KsUCp",
        "outputId": "4760faee-c132-4b9c-fc85-7581257a1e22"
      },
      "source": [
        "X_train, X_test, y_train, y_test = split_data(train_features_df)\r\n",
        "ada_grid = grid.fit(X_train, np.log(y_train))"
      ],
      "execution_count": 9,
      "outputs": [
        {
          "output_type": "stream",
          "text": [
            "Fitting 3 folds for each of 168 candidates, totalling 504 fits\n"
          ],
          "name": "stdout"
        },
        {
          "output_type": "stream",
          "text": [
            "[Parallel(n_jobs=-1)]: Using backend LokyBackend with 2 concurrent workers.\n",
            "[Parallel(n_jobs=-1)]: Done  28 tasks      | elapsed:   20.9s\n",
            "[Parallel(n_jobs=-1)]: Done 124 tasks      | elapsed:  1.6min\n",
            "[Parallel(n_jobs=-1)]: Done 284 tasks      | elapsed:  3.5min\n",
            "[Parallel(n_jobs=-1)]: Done 504 out of 504 | elapsed:  5.5min finished\n"
          ],
          "name": "stderr"
        }
      ]
    },
    {
      "cell_type": "markdown",
      "metadata": {
        "id": "5fbFCFYQsrv7"
      },
      "source": [
        "**Best AdaBoost from GridSearchCV**"
      ]
    },
    {
      "cell_type": "code",
      "metadata": {
        "colab": {
          "base_uri": "https://localhost:8080/"
        },
        "id": "iDZsQkYZsoOe",
        "outputId": "6bac37b0-e01e-4cfb-d46d-d9b0feddfcaf"
      },
      "source": [
        "np.sqrt(mean_squared_log_error(y_true = y_test, \r\n",
        "                               y_pred = np.exp(ada_grid.best_estimator_.predict(X_test))))"
      ],
      "execution_count": 10,
      "outputs": [
        {
          "output_type": "execute_result",
          "data": {
            "text/plain": [
              "0.17287705642165474"
            ]
          },
          "metadata": {
            "tags": []
          },
          "execution_count": 10
        }
      ]
    },
    {
      "cell_type": "markdown",
      "metadata": {
        "id": "59nCPxBRu8f5"
      },
      "source": [
        "# GBM Regressor"
      ]
    },
    {
      "cell_type": "markdown",
      "metadata": {
        "id": "P36gGrykEpmp"
      },
      "source": [
        "## Base GBM Regressor"
      ]
    },
    {
      "cell_type": "code",
      "metadata": {
        "id": "Vn0TWOCzu-kz"
      },
      "source": [
        "X_train, X_test, y_train, y_test = split_data(train_features_df)\r\n",
        "gbm = GradientBoostingRegressor(random_state = 42).fit(X_train, np.log(y_train))\r\n",
        "gbm_preds = np.exp(gbm.predict(X_test))"
      ],
      "execution_count": 11,
      "outputs": []
    },
    {
      "cell_type": "code",
      "metadata": {
        "colab": {
          "base_uri": "https://localhost:8080/"
        },
        "id": "g5kkuu02vNNZ",
        "outputId": "f5ce0e40-2f36-43ca-f77d-4ccab3e76039"
      },
      "source": [
        "np.sqrt(mean_squared_log_error(y_true = y_test, \r\n",
        "                               y_pred = gbm_preds))"
      ],
      "execution_count": 12,
      "outputs": [
        {
          "output_type": "execute_result",
          "data": {
            "text/plain": [
              "0.13628312366698758"
            ]
          },
          "metadata": {
            "tags": []
          },
          "execution_count": 12
        }
      ]
    },
    {
      "cell_type": "markdown",
      "metadata": {
        "id": "eJLgSedhEuMl"
      },
      "source": [
        "## GridSearchCV"
      ]
    },
    {
      "cell_type": "markdown",
      "metadata": {
        "id": "blgyCDNJThwa"
      },
      "source": [
        "### Preliminary Optimization of Boosting parameters"
      ]
    },
    {
      "cell_type": "markdown",
      "metadata": {
        "id": "P8LQNssUhUyt"
      },
      "source": [
        "- **learning_rate**\r\n",
        "- **n_estimators**"
      ]
    },
    {
      "cell_type": "code",
      "metadata": {
        "id": "AJqWqdFgaA6i",
        "colab": {
          "base_uri": "https://localhost:8080/",
          "height": 296
        },
        "outputId": "87f01047-05f6-4f71-a5ee-15b8fa299c1d"
      },
      "source": [
        "ns = np.arange(50, 500, 10)\r\n",
        "gbm_scores = []\r\n",
        "\r\n",
        "X_train, X_test, y_train, y_test = split_data(train_features_df)\r\n",
        "for n in ns:\r\n",
        "  gbm = GradientBoostingRegressor(learning_rate = 0.1, \r\n",
        "                                  n_estimators = n, \r\n",
        "                                  random_state = 42).fit(X_train, np.log(y_train))\r\n",
        "  \r\n",
        "  gbm_preds = np.exp(gbm.predict(X_test))\r\n",
        "  gbm_rmsle = np.sqrt(mean_squared_log_error(y_true = y_test, y_pred = gbm_preds))\r\n",
        "  gbm_scores.append(gbm_rmsle)\r\n",
        "\r\n",
        "fig, ax = plt.subplots()\r\n",
        "ax.plot(ns, gbm_scores, marker = \"o\", linestyle = \"--\", color = \"k\")\r\n",
        "ax.set(xlabel = \"n_estimators\", \r\n",
        "       ylabel = \"Root Mean Squared Log Error Scores\", \r\n",
        "       title = \"Best n_estimators for learning_rate = 0.1\")\r\n",
        "plt.show()"
      ],
      "execution_count": 13,
      "outputs": [
        {
          "output_type": "display_data",
          "data": {
            "image/png": "[encoded data removed]",
            "text/plain": [
              "<Figure size 432x288 with 1 Axes>"
            ]
          },
          "metadata": {
            "tags": [],
            "needs_background": "light"
          }
        }
      ]
    },
    {
      "cell_type": "code",
      "metadata": {
        "id": "hewGb1mwdBzZ",
        "colab": {
          "base_uri": "https://localhost:8080/",
          "height": 364
        },
        "outputId": "23f84702-039a-4860-a82d-e63c70f834aa"
      },
      "source": [
        "min_idx = np.argmin(np.array(gbm_scores))\r\n",
        "print(\"RESULTS\")\r\n",
        "print(\"Number of estimators: \", ns[min_idx])\r\n",
        "print(\"Learning Rate: \", 0.1)\r\n",
        "print(\"Root Mean Squarred Log Error: \", gbm_scores[min_idx])\r\n",
        "\r\n",
        "fig, ax = plt.subplots()\r\n",
        "ax.plot(ns[:10], gbm_scores[:10], marker = \"o\", linestyle = \"--\", color = \"k\")\r\n",
        "ax.set(xlabel = \"n_estimators\", \r\n",
        "       ylabel = \"Root Mean Squared Log Error Scores\", \r\n",
        "       title = \"Best n_estimators for learning_rate = 0.1\")\r\n",
        "plt.show()"
      ],
      "execution_count": 14,
      "outputs": [
        {
          "output_type": "stream",
          "text": [
            "RESULTS\n",
            "Number of estimators:  80\n",
            "Learning Rate:  0.1\n",
            "Root Mean Squarred Log Error:  0.1362312022198972\n"
          ],
          "name": "stdout"
        },
        {
          "output_type": "display_data",
          "data": {
            "image/png": "[encoded data removed]",
            "text/plain": [
              "<Figure size 432x288 with 1 Axes>"
            ]
          },
          "metadata": {
            "tags": [],
            "needs_background": "light"
          }
        }
      ]
    },
    {
      "cell_type": "markdown",
      "metadata": {
        "id": "vCrj9p23hnZ4"
      },
      "source": [
        "### Optimizing Tree Based Parameters"
      ]
    },
    {
      "cell_type": "markdown",
      "metadata": {
        "id": "Rgn3j04jhqjg"
      },
      "source": [
        "- **subsample**\r\n",
        "- **min_samples_split**\r\n",
        "- **min_samples_leaf**\r\n",
        "- **max_depth**\r\n",
        "- **max_features**"
      ]
    },
    {
      "cell_type": "code",
      "metadata": {
        "id": "ngPKrRttbvF5"
      },
      "source": [
        "base_gbm = GradientBoostingRegressor(random_state = 42, \r\n",
        "                                     learning_rate = 0.1, \r\n",
        "                                     n_estimators = 80)\r\n",
        "params = {\r\n",
        "    \"subsample\": [0.8, 0.9, 1.0],\r\n",
        "    \"min_samples_split\": [25, 50, 75],\r\n",
        "    \"min_samples_leaf\": [5, 10, 15],\r\n",
        "    \"max_depth\": [4, 5, 6],\r\n",
        "    \"max_features\": [12, 18, 24, 30]\r\n",
        "}\r\n",
        "\r\n",
        "grid = GridSearchCV(estimator = base_gbm, \r\n",
        "                    param_grid = params, \r\n",
        "                    scoring = \"neg_mean_squared_log_error\", \r\n",
        "                    cv = 3, \r\n",
        "                    verbose = 3, \r\n",
        "                    n_jobs = -1)"
      ],
      "execution_count": 15,
      "outputs": []
    },
    {
      "cell_type": "code",
      "metadata": {
        "colab": {
          "base_uri": "https://localhost:8080/"
        },
        "id": "y8eotkxVPZP6",
        "outputId": "be9bce7c-ee2a-41b7-bca0-75a4d5a0e602"
      },
      "source": [
        "X_train, X_test, y_train, y_test = split_data(train_features_df)\r\n",
        "gbm_grid = grid.fit(X_train, np.log(y_train))"
      ],
      "execution_count": 16,
      "outputs": [
        {
          "output_type": "stream",
          "text": [
            "Fitting 3 folds for each of 324 candidates, totalling 972 fits\n"
          ],
          "name": "stdout"
        },
        {
          "output_type": "stream",
          "text": [
            "[Parallel(n_jobs=-1)]: Using backend LokyBackend with 2 concurrent workers.\n",
            "[Parallel(n_jobs=-1)]: Done  52 tasks      | elapsed:    4.3s\n",
            "[Parallel(n_jobs=-1)]: Done 244 tasks      | elapsed:   26.1s\n",
            "[Parallel(n_jobs=-1)]: Done 564 tasks      | elapsed:  1.1min\n",
            "[Parallel(n_jobs=-1)]: Done 972 out of 972 | elapsed:  2.2min finished\n"
          ],
          "name": "stderr"
        }
      ]
    },
    {
      "cell_type": "code",
      "metadata": {
        "colab": {
          "base_uri": "https://localhost:8080/"
        },
        "id": "EYm-ENjKQDUt",
        "outputId": "d8662f0d-7bf2-4a0c-ffdd-19797edb627f"
      },
      "source": [
        "gbm_grid.best_estimator_"
      ],
      "execution_count": 17,
      "outputs": [
        {
          "output_type": "execute_result",
          "data": {
            "text/plain": [
              "GradientBoostingRegressor(alpha=0.9, ccp_alpha=0.0, criterion='friedman_mse',\n",
              "                          init=None, learning_rate=0.1, loss='ls', max_depth=6,\n",
              "                          max_features=12, max_leaf_nodes=None,\n",
              "                          min_impurity_decrease=0.0, min_impurity_split=None,\n",
              "                          min_samples_leaf=10, min_samples_split=25,\n",
              "                          min_weight_fraction_leaf=0.0, n_estimators=80,\n",
              "                          n_iter_no_change=None, presort='deprecated',\n",
              "                          random_state=42, subsample=1.0, tol=0.0001,\n",
              "                          validation_fraction=0.1, verbose=0, warm_start=False)"
            ]
          },
          "metadata": {
            "tags": []
          },
          "execution_count": 17
        }
      ]
    },
    {
      "cell_type": "code",
      "metadata": {
        "colab": {
          "base_uri": "https://localhost:8080/"
        },
        "id": "oYVMuousPky6",
        "outputId": "eeac8678-ac3e-438e-a0a7-b7ef1511867b"
      },
      "source": [
        "np.sqrt(mean_squared_log_error(y_true = y_test, \r\n",
        "                               y_pred = np.exp(gbm_grid.best_estimator_.predict(X_test))))"
      ],
      "execution_count": 18,
      "outputs": [
        {
          "output_type": "execute_result",
          "data": {
            "text/plain": [
              "0.1420816075162319"
            ]
          },
          "metadata": {
            "tags": []
          },
          "execution_count": 18
        }
      ]
    },
    {
      "cell_type": "markdown",
      "metadata": {
        "id": "6xj1N5j2TONT"
      },
      "source": [
        "### Final Model"
      ]
    },
    {
      "cell_type": "code",
      "metadata": {
        "colab": {
          "base_uri": "https://localhost:8080/"
        },
        "id": "WbwHqlelRXcW",
        "outputId": "48867a48-5cab-484d-cc2d-0f47dc64a5da"
      },
      "source": [
        "gbm_grid.best_params_"
      ],
      "execution_count": 19,
      "outputs": [
        {
          "output_type": "execute_result",
          "data": {
            "text/plain": [
              "{'max_depth': 6,\n",
              " 'max_features': 12,\n",
              " 'min_samples_leaf': 10,\n",
              " 'min_samples_split': 25,\n",
              " 'subsample': 1.0}"
            ]
          },
          "metadata": {
            "tags": []
          },
          "execution_count": 19
        }
      ]
    },
    {
      "cell_type": "code",
      "metadata": {
        "id": "QtFSVabbRTU4"
      },
      "source": [
        "X_train, X_test, y_train, y_test = split_data(train_features_df)\r\n",
        "best_gbm_model = GradientBoostingRegressor(max_depth = 6, \r\n",
        "                                           max_features = 12, \r\n",
        "                                           min_samples_leaf = 10, \r\n",
        "                                           min_samples_split = 25, \r\n",
        "                                           subsample = 1.0, \r\n",
        "                                           learning_rate = 0.001, \r\n",
        "                                           n_estimators = 8000, \r\n",
        "                                           random_state = 42).fit(X_train, np.log(y_train))\r\n",
        "\r\n",
        "base_gbm = GradientBoostingRegressor(learning_rate = 0.1, \r\n",
        "                                     n_estimators = 80, \r\n",
        "                                     random_state = 42).fit(X_train, np.log(y_train))\r\n",
        "\r\n",
        "best_gbm_preds = np.exp(best_gbm_model.predict(X_test))\r\n",
        "best_gbm_rmsle = np.sqrt(mean_squared_log_error(y_true = y_test, y_pred = best_gbm_preds))\r\n",
        "\r\n",
        "base_gbm_preds = np.exp(base_gbm.predict(X_test))\r\n",
        "base_gbm_rmsle = np.sqrt(mean_squared_log_error(y_true = y_test, y_pred = base_gbm_preds))"
      ],
      "execution_count": 20,
      "outputs": []
    },
    {
      "cell_type": "code",
      "metadata": {
        "colab": {
          "base_uri": "https://localhost:8080/"
        },
        "id": "dCFkdTVkSJKa",
        "outputId": "b4c6715e-53e9-4c63-faae-dad255c08446"
      },
      "source": [
        "best_gbm_rmsle"
      ],
      "execution_count": 21,
      "outputs": [
        {
          "output_type": "execute_result",
          "data": {
            "text/plain": [
              "0.13980079971568782"
            ]
          },
          "metadata": {
            "tags": []
          },
          "execution_count": 21
        }
      ]
    },
    {
      "cell_type": "code",
      "metadata": {
        "colab": {
          "base_uri": "https://localhost:8080/"
        },
        "id": "ttBIcxDrnYUH",
        "outputId": "e6c6dad7-0efb-45ce-f89a-9565d23b4f64"
      },
      "source": [
        "base_gbm_rmsle"
      ],
      "execution_count": 22,
      "outputs": [
        {
          "output_type": "execute_result",
          "data": {
            "text/plain": [
              "0.1362312022198972"
            ]
          },
          "metadata": {
            "tags": []
          },
          "execution_count": 22
        }
      ]
    },
    {
      "cell_type": "markdown",
      "metadata": {
        "id": "8P3TQiDX3DtK"
      },
      "source": [
        "# Submission for GBM"
      ]
    },
    {
      "cell_type": "markdown",
      "metadata": {
        "id": "scsCw5cu5ML3"
      },
      "source": [
        "**Optimized GBM**"
      ]
    },
    {
      "cell_type": "code",
      "metadata": {
        "id": "9t_Do2f33C8Y"
      },
      "source": [
        "X, y = train_features_df.drop([\"SalePrice\"], axis = 1), train_features_df[\"SalePrice\"]\r\n",
        "final_gbm_op_model = GradientBoostingRegressor(max_depth = 6, \r\n",
        "                                               max_features = 12, \r\n",
        "                                               min_samples_leaf = 10, \r\n",
        "                                               min_samples_split = 25, \r\n",
        "                                               subsample = 1.0, \r\n",
        "                                               learning_rate = 0.001, \r\n",
        "                                               n_estimators = 8000, \r\n",
        "                                               random_state = 42).fit(X.values, np.log(y.values))\r\n",
        "final_gbm_op_preds = np.exp(final_gbm_op_model.predict(test_features_df.values))"
      ],
      "execution_count": 29,
      "outputs": []
    },
    {
      "cell_type": "code",
      "metadata": {
        "id": "ySKKK3lT3vX6"
      },
      "source": [
        "sub4_gbm_op = pd.read_csv(url + \"sample_submission.csv\")\r\n",
        "sub4_gbm_op[\"SalePrice\"] = final_gbm_op_preds\r\n",
        "sub4_gbm_op.to_csv(\"sub4_gbm_op.csv\", index = False)"
      ],
      "execution_count": 31,
      "outputs": []
    },
    {
      "cell_type": "markdown",
      "metadata": {
        "id": "_FE7F5d25OIF"
      },
      "source": [
        "**Base GBM**"
      ]
    },
    {
      "cell_type": "code",
      "metadata": {
        "id": "Q3MQh-e65TT6"
      },
      "source": [
        "X, y = train_features_df.drop([\"SalePrice\"], axis = 1), train_features_df[\"SalePrice\"]\r\n",
        "final_gbm_model = GradientBoostingRegressor(n_estimators = 80, \r\n",
        "                                            learning_rate = 0.1, \r\n",
        "                                            random_state = 42).fit(X.values, np.log(y.values))\r\n",
        "final_gbm_preds = np.exp(final_gbm_model.predict(test_features_df.values))"
      ],
      "execution_count": 32,
      "outputs": []
    },
    {
      "cell_type": "code",
      "metadata": {
        "id": "3SqmcO7k5TUB"
      },
      "source": [
        "sub4_gbm = pd.read_csv(url + \"sample_submission.csv\")\r\n",
        "sub4_gbm[\"SalePrice\"] = final_gbm_preds\r\n",
        "sub4_gbm.to_csv(\"sub4_gbm.csv\", index = False)"
      ],
      "execution_count": 33,
      "outputs": []
    },
    {
      "cell_type": "markdown",
      "metadata": {
        "id": "KRsuwZIgTSkx"
      },
      "source": [
        "# XGBoost"
      ]
    },
    {
      "cell_type": "markdown",
      "metadata": {
        "id": "LaDFtO_qniVa"
      },
      "source": [
        "## Base XGBoost"
      ]
    },
    {
      "cell_type": "code",
      "metadata": {
        "colab": {
          "base_uri": "https://localhost:8080/"
        },
        "id": "EI9zZZldTVD4",
        "outputId": "4e1e56a0-2bcf-48bc-9367-f3d70645fee2"
      },
      "source": [
        "X_train, X_test, y_train, y_test = split_data(train_features_df)\r\n",
        "base_xgb = xgb.XGBRegressor(random_state = 42).fit(X_train, np.log(y_train), \r\n",
        "                                                   early_stopping_rounds = 10, \r\n",
        "                                                   eval_metric = \"rmse\", \r\n",
        "                                                   eval_set = [(X_test, np.log(y_test))])\r\n",
        "base_xgb_preds = np.exp(base_xgb.predict(X_test))"
      ],
      "execution_count": 69,
      "outputs": [
        {
          "output_type": "stream",
          "text": [
            "[12:05:19] WARNING: /workspace/src/objective/regression_obj.cu:152: reg:linear is now deprecated in favor of reg:squarederror.\n",
            "[0]\tvalidation_0-rmse:10.3546\n",
            "Will train until validation_0-rmse hasn't improved in 10 rounds.\n",
            "[1]\tvalidation_0-rmse:9.31862\n",
            "[2]\tvalidation_0-rmse:8.38637\n",
            "[3]\tvalidation_0-rmse:7.54805\n",
            "[4]\tvalidation_0-rmse:6.79283\n",
            "[5]\tvalidation_0-rmse:6.11376\n",
            "[6]\tvalidation_0-rmse:5.50349\n",
            "[7]\tvalidation_0-rmse:4.95351\n",
            "[8]\tvalidation_0-rmse:4.45994\n",
            "[9]\tvalidation_0-rmse:4.01426\n",
            "[10]\tvalidation_0-rmse:3.61311\n",
            "[11]\tvalidation_0-rmse:3.25278\n",
            "[12]\tvalidation_0-rmse:2.92971\n",
            "[13]\tvalidation_0-rmse:2.63958\n",
            "[14]\tvalidation_0-rmse:2.37735\n",
            "[15]\tvalidation_0-rmse:2.14166\n",
            "[16]\tvalidation_0-rmse:1.92924\n",
            "[17]\tvalidation_0-rmse:1.73817\n",
            "[18]\tvalidation_0-rmse:1.56623\n",
            "[19]\tvalidation_0-rmse:1.4113\n",
            "[20]\tvalidation_0-rmse:1.27334\n",
            "[21]\tvalidation_0-rmse:1.14896\n",
            "[22]\tvalidation_0-rmse:1.03593\n",
            "[23]\tvalidation_0-rmse:0.935147\n",
            "[24]\tvalidation_0-rmse:0.844436\n",
            "[25]\tvalidation_0-rmse:0.763354\n",
            "[26]\tvalidation_0-rmse:0.690458\n",
            "[27]\tvalidation_0-rmse:0.62538\n",
            "[28]\tvalidation_0-rmse:0.566696\n",
            "[29]\tvalidation_0-rmse:0.513855\n",
            "[30]\tvalidation_0-rmse:0.467021\n",
            "[31]\tvalidation_0-rmse:0.425329\n",
            "[32]\tvalidation_0-rmse:0.388324\n",
            "[33]\tvalidation_0-rmse:0.355073\n",
            "[34]\tvalidation_0-rmse:0.326015\n",
            "[35]\tvalidation_0-rmse:0.300246\n",
            "[36]\tvalidation_0-rmse:0.277167\n",
            "[37]\tvalidation_0-rmse:0.256623\n",
            "[38]\tvalidation_0-rmse:0.238779\n",
            "[39]\tvalidation_0-rmse:0.223783\n",
            "[40]\tvalidation_0-rmse:0.210229\n",
            "[41]\tvalidation_0-rmse:0.198775\n",
            "[42]\tvalidation_0-rmse:0.188978\n",
            "[43]\tvalidation_0-rmse:0.180678\n",
            "[44]\tvalidation_0-rmse:0.173868\n",
            "[45]\tvalidation_0-rmse:0.167678\n",
            "[46]\tvalidation_0-rmse:0.162768\n",
            "[47]\tvalidation_0-rmse:0.158343\n",
            "[48]\tvalidation_0-rmse:0.154454\n",
            "[49]\tvalidation_0-rmse:0.151799\n",
            "[50]\tvalidation_0-rmse:0.149494\n",
            "[51]\tvalidation_0-rmse:0.147317\n",
            "[52]\tvalidation_0-rmse:0.145812\n",
            "[53]\tvalidation_0-rmse:0.144491\n",
            "[54]\tvalidation_0-rmse:0.143005\n",
            "[55]\tvalidation_0-rmse:0.141964\n",
            "[56]\tvalidation_0-rmse:0.141056\n",
            "[57]\tvalidation_0-rmse:0.140261\n",
            "[58]\tvalidation_0-rmse:0.139851\n",
            "[59]\tvalidation_0-rmse:0.13947\n",
            "[60]\tvalidation_0-rmse:0.139252\n",
            "[61]\tvalidation_0-rmse:0.138817\n",
            "[62]\tvalidation_0-rmse:0.138454\n",
            "[63]\tvalidation_0-rmse:0.138\n",
            "[64]\tvalidation_0-rmse:0.137962\n",
            "[65]\tvalidation_0-rmse:0.13776\n",
            "[66]\tvalidation_0-rmse:0.137689\n",
            "[67]\tvalidation_0-rmse:0.13736\n",
            "[68]\tvalidation_0-rmse:0.137376\n",
            "[69]\tvalidation_0-rmse:0.137167\n",
            "[70]\tvalidation_0-rmse:0.136731\n",
            "[71]\tvalidation_0-rmse:0.136736\n",
            "[72]\tvalidation_0-rmse:0.136677\n",
            "[73]\tvalidation_0-rmse:0.136403\n",
            "[74]\tvalidation_0-rmse:0.136337\n",
            "[75]\tvalidation_0-rmse:0.136241\n",
            "[76]\tvalidation_0-rmse:0.136165\n",
            "[77]\tvalidation_0-rmse:0.136189\n",
            "[78]\tvalidation_0-rmse:0.136103\n",
            "[79]\tvalidation_0-rmse:0.136132\n",
            "[80]\tvalidation_0-rmse:0.136031\n",
            "[81]\tvalidation_0-rmse:0.136015\n",
            "[82]\tvalidation_0-rmse:0.136011\n",
            "[83]\tvalidation_0-rmse:0.136039\n",
            "[84]\tvalidation_0-rmse:0.135844\n",
            "[85]\tvalidation_0-rmse:0.135786\n",
            "[86]\tvalidation_0-rmse:0.135762\n",
            "[87]\tvalidation_0-rmse:0.135601\n",
            "[88]\tvalidation_0-rmse:0.135537\n",
            "[89]\tvalidation_0-rmse:0.135612\n",
            "[90]\tvalidation_0-rmse:0.135666\n",
            "[91]\tvalidation_0-rmse:0.135735\n",
            "[92]\tvalidation_0-rmse:0.135852\n",
            "[93]\tvalidation_0-rmse:0.135861\n",
            "[94]\tvalidation_0-rmse:0.135821\n",
            "[95]\tvalidation_0-rmse:0.135712\n",
            "[96]\tvalidation_0-rmse:0.135726\n",
            "[97]\tvalidation_0-rmse:0.135633\n",
            "[98]\tvalidation_0-rmse:0.135737\n",
            "Stopping. Best iteration:\n",
            "[88]\tvalidation_0-rmse:0.135537\n",
            "\n"
          ],
          "name": "stdout"
        }
      ]
    },
    {
      "cell_type": "code",
      "metadata": {
        "colab": {
          "base_uri": "https://localhost:8080/"
        },
        "id": "HdY0VHT7oRSU",
        "outputId": "85f4e615-0796-487b-e89a-6e454ed85379"
      },
      "source": [
        "np.sqrt(mean_squared_log_error(y_true = y_test, y_pred = base_xgb_preds))"
      ],
      "execution_count": 70,
      "outputs": [
        {
          "output_type": "execute_result",
          "data": {
            "text/plain": [
              "0.1355359145088547"
            ]
          },
          "metadata": {
            "tags": []
          },
          "execution_count": 70
        }
      ]
    },
    {
      "cell_type": "markdown",
      "metadata": {
        "id": "G0IUUQdcocQo"
      },
      "source": [
        "## GridSearchCV"
      ]
    },
    {
      "cell_type": "markdown",
      "metadata": {
        "id": "2rS7uxuvF_xb"
      },
      "source": [
        "### Learning Rate, N Estimators"
      ]
    },
    {
      "cell_type": "code",
      "metadata": {
        "id": "YaV7DIqEF_by"
      },
      "source": [
        "learning_rates = [0.01, 0.1, 1]\r\n",
        "ns = np.arange(50, 500, 50)\r\n",
        "\r\n",
        "base_xgb = xgb.XGBRegressor(random_state = 42)\r\n",
        "params = {\r\n",
        "    \"n_estimators\": ns,\r\n",
        "    \"learning_rate\": learning_rates\r\n",
        "}\r\n",
        "\r\n",
        "grid = GridSearchCV(estimator = base_xgb, \r\n",
        "                    param_grid = params, \r\n",
        "                    n_jobs = -1, \r\n",
        "                    verbose = 3, \r\n",
        "                    cv = 3, \r\n",
        "                    scoring = \"neg_mean_squared_log_error\")"
      ],
      "execution_count": 77,
      "outputs": []
    },
    {
      "cell_type": "code",
      "metadata": {
        "colab": {
          "base_uri": "https://localhost:8080/"
        },
        "id": "N-wblOiVGzmt",
        "outputId": "5a9660e6-c455-4557-c5ad-e018408d34c9"
      },
      "source": [
        "X_train, X_test, y_train, y_test = split_data(train_features_df)\r\n",
        "xgb_grid = grid.fit(X_train, np.log(y_train), \r\n",
        "                    early_stopping_rounds = 10, \r\n",
        "                    eval_metric = \"rmse\", \r\n",
        "                    eval_set = [(X_test, np.log(y_test))])\r\n",
        "xgb_grid.best_estimator_"
      ],
      "execution_count": 78,
      "outputs": [
        {
          "output_type": "stream",
          "text": [
            "Fitting 3 folds for each of 27 candidates, totalling 81 fits\n"
          ],
          "name": "stdout"
        },
        {
          "output_type": "stream",
          "text": [
            "[Parallel(n_jobs=-1)]: Using backend LokyBackend with 2 concurrent workers.\n",
            "[Parallel(n_jobs=-1)]: Done  42 tasks      | elapsed:    9.5s\n"
          ],
          "name": "stderr"
        },
        {
          "output_type": "stream",
          "text": [
            "[12:37:58] WARNING: /workspace/src/objective/regression_obj.cu:152: reg:linear is now deprecated in favor of reg:squarederror.\n",
            "[0]\tvalidation_0-rmse:10.3546\n",
            "Will train until validation_0-rmse hasn't improved in 10 rounds.\n",
            "[1]\tvalidation_0-rmse:9.31862\n",
            "[2]\tvalidation_0-rmse:8.38637\n",
            "[3]\tvalidation_0-rmse:7.54805\n",
            "[4]\tvalidation_0-rmse:6.79283\n",
            "[5]\tvalidation_0-rmse:6.11376\n",
            "[6]\tvalidation_0-rmse:5.50349\n",
            "[7]\tvalidation_0-rmse:4.95351\n",
            "[8]\tvalidation_0-rmse:4.45994\n",
            "[9]\tvalidation_0-rmse:4.01426\n",
            "[10]\tvalidation_0-rmse:3.61311\n",
            "[11]\tvalidation_0-rmse:3.25278\n",
            "[12]\tvalidation_0-rmse:2.92971\n",
            "[13]\tvalidation_0-rmse:2.63958\n",
            "[14]\tvalidation_0-rmse:2.37735\n",
            "[15]\tvalidation_0-rmse:2.14166\n",
            "[16]\tvalidation_0-rmse:1.92924\n",
            "[17]\tvalidation_0-rmse:1.73817\n",
            "[18]\tvalidation_0-rmse:1.56623\n",
            "[19]\tvalidation_0-rmse:1.4113\n",
            "[20]\tvalidation_0-rmse:1.27334\n",
            "[21]\tvalidation_0-rmse:1.14896\n",
            "[22]\tvalidation_0-rmse:1.03593\n",
            "[23]\tvalidation_0-rmse:0.935147\n",
            "[24]\tvalidation_0-rmse:0.844436\n",
            "[25]\tvalidation_0-rmse:0.763354\n",
            "[26]\tvalidation_0-rmse:0.690458\n",
            "[27]\tvalidation_0-rmse:0.62538\n",
            "[28]\tvalidation_0-rmse:0.566696\n",
            "[29]\tvalidation_0-rmse:0.513855\n",
            "[30]\tvalidation_0-rmse:0.467021\n",
            "[31]\tvalidation_0-rmse:0.425329\n",
            "[32]\tvalidation_0-rmse:0.388324\n",
            "[33]\tvalidation_0-rmse:0.355073\n",
            "[34]\tvalidation_0-rmse:0.326015\n",
            "[35]\tvalidation_0-rmse:0.300246\n",
            "[36]\tvalidation_0-rmse:0.277167\n",
            "[37]\tvalidation_0-rmse:0.256623\n"
          ],
          "name": "stdout"
        },
        {
          "output_type": "stream",
          "text": [
            "[Parallel(n_jobs=-1)]: Done  81 out of  81 | elapsed:   12.6s finished\n"
          ],
          "name": "stderr"
        },
        {
          "output_type": "stream",
          "text": [
            "[38]\tvalidation_0-rmse:0.238779\n",
            "[39]\tvalidation_0-rmse:0.223783\n",
            "[40]\tvalidation_0-rmse:0.210229\n",
            "[41]\tvalidation_0-rmse:0.198775\n",
            "[42]\tvalidation_0-rmse:0.188978\n",
            "[43]\tvalidation_0-rmse:0.180678\n",
            "[44]\tvalidation_0-rmse:0.173868\n",
            "[45]\tvalidation_0-rmse:0.167678\n",
            "[46]\tvalidation_0-rmse:0.162768\n",
            "[47]\tvalidation_0-rmse:0.158343\n",
            "[48]\tvalidation_0-rmse:0.154454\n",
            "[49]\tvalidation_0-rmse:0.151799\n",
            "[50]\tvalidation_0-rmse:0.149494\n",
            "[51]\tvalidation_0-rmse:0.147317\n",
            "[52]\tvalidation_0-rmse:0.145812\n",
            "[53]\tvalidation_0-rmse:0.144491\n",
            "[54]\tvalidation_0-rmse:0.143005\n",
            "[55]\tvalidation_0-rmse:0.141964\n",
            "[56]\tvalidation_0-rmse:0.141056\n",
            "[57]\tvalidation_0-rmse:0.140261\n",
            "[58]\tvalidation_0-rmse:0.139851\n",
            "[59]\tvalidation_0-rmse:0.13947\n",
            "[60]\tvalidation_0-rmse:0.139252\n",
            "[61]\tvalidation_0-rmse:0.138817\n",
            "[62]\tvalidation_0-rmse:0.138454\n",
            "[63]\tvalidation_0-rmse:0.138\n",
            "[64]\tvalidation_0-rmse:0.137962\n",
            "[65]\tvalidation_0-rmse:0.13776\n",
            "[66]\tvalidation_0-rmse:0.137689\n",
            "[67]\tvalidation_0-rmse:0.13736\n",
            "[68]\tvalidation_0-rmse:0.137376\n",
            "[69]\tvalidation_0-rmse:0.137167\n",
            "[70]\tvalidation_0-rmse:0.136731\n",
            "[71]\tvalidation_0-rmse:0.136736\n",
            "[72]\tvalidation_0-rmse:0.136677\n",
            "[73]\tvalidation_0-rmse:0.136403\n",
            "[74]\tvalidation_0-rmse:0.136337\n",
            "[75]\tvalidation_0-rmse:0.136241\n",
            "[76]\tvalidation_0-rmse:0.136165\n",
            "[77]\tvalidation_0-rmse:0.136189\n",
            "[78]\tvalidation_0-rmse:0.136103\n",
            "[79]\tvalidation_0-rmse:0.136132\n",
            "[80]\tvalidation_0-rmse:0.136031\n",
            "[81]\tvalidation_0-rmse:0.136015\n",
            "[82]\tvalidation_0-rmse:0.136011\n",
            "[83]\tvalidation_0-rmse:0.136039\n",
            "[84]\tvalidation_0-rmse:0.135844\n",
            "[85]\tvalidation_0-rmse:0.135786\n",
            "[86]\tvalidation_0-rmse:0.135762\n",
            "[87]\tvalidation_0-rmse:0.135601\n",
            "[88]\tvalidation_0-rmse:0.135537\n",
            "[89]\tvalidation_0-rmse:0.135612\n",
            "[90]\tvalidation_0-rmse:0.135666\n",
            "[91]\tvalidation_0-rmse:0.135735\n",
            "[92]\tvalidation_0-rmse:0.135852\n",
            "[93]\tvalidation_0-rmse:0.135861\n",
            "[94]\tvalidation_0-rmse:0.135821\n",
            "[95]\tvalidation_0-rmse:0.135712\n",
            "[96]\tvalidation_0-rmse:0.135726\n",
            "[97]\tvalidation_0-rmse:0.135633\n",
            "[98]\tvalidation_0-rmse:0.135737\n",
            "Stopping. Best iteration:\n",
            "[88]\tvalidation_0-rmse:0.135537\n",
            "\n"
          ],
          "name": "stdout"
        },
        {
          "output_type": "execute_result",
          "data": {
            "text/plain": [
              "XGBRegressor(base_score=0.5, booster='gbtree', colsample_bylevel=1,\n",
              "             colsample_bynode=1, colsample_bytree=1, gamma=0,\n",
              "             importance_type='gain', learning_rate=0.1, max_delta_step=0,\n",
              "             max_depth=3, min_child_weight=1, missing=None, n_estimators=150,\n",
              "             n_jobs=1, nthread=None, objective='reg:linear', random_state=42,\n",
              "             reg_alpha=0, reg_lambda=1, scale_pos_weight=1, seed=None,\n",
              "             silent=None, subsample=1, verbosity=1)"
            ]
          },
          "metadata": {
            "tags": []
          },
          "execution_count": 78
        }
      ]
    },
    {
      "cell_type": "code",
      "metadata": {
        "colab": {
          "base_uri": "https://localhost:8080/"
        },
        "id": "UqtM7To_JWXC",
        "outputId": "9e70b4d9-115a-4c3a-bd34-f731e3b8bfc6"
      },
      "source": [
        "xgb_preds = np.exp(xgb_grid.best_estimator_.predict(X_test))\r\n",
        "np.sqrt(mean_squared_log_error(y_true = y_test, y_pred = xgb_preds))"
      ],
      "execution_count": 80,
      "outputs": [
        {
          "output_type": "execute_result",
          "data": {
            "text/plain": [
              "0.1355359145088547"
            ]
          },
          "metadata": {
            "tags": []
          },
          "execution_count": 80
        }
      ]
    },
    {
      "cell_type": "markdown",
      "metadata": {
        "id": "KqWHtSx7Had7"
      },
      "source": [
        "### Optimizing the rest"
      ]
    },
    {
      "cell_type": "code",
      "metadata": {
        "id": "O2WpmSBRHaJt"
      },
      "source": [
        "base_xgb = xgb.XGBRegressor(random_state = 42, learning_rate = 0.1, n_estimators = 150)\r\n",
        "params = {\r\n",
        "    \"max_depth\": [3, 5, 7],\r\n",
        "    \"subsample\": [0.5, 0.7, 0.9],\r\n",
        "    \"colsample_bytree\": [0.5, 0.7, 0.9],\r\n",
        "    \"gamma\": [0, 0.03, 0.1, 0.3],\r\n",
        "    \"reg_alpha\": [0, 0.01, 0.1, 1],\r\n",
        "    \"reg_lambda\": [0, 0.01, 0.1, 1],\r\n",
        "}\r\n",
        "\r\n",
        "grid = GridSearchCV(estimator = base_xgb, \r\n",
        "                    param_grid = params, \r\n",
        "                    n_jobs = -1, \r\n",
        "                    verbose = 3, \r\n",
        "                    cv = 3, \r\n",
        "                    scoring = \"neg_mean_squared_log_error\")"
      ],
      "execution_count": 84,
      "outputs": []
    },
    {
      "cell_type": "code",
      "metadata": {
        "colab": {
          "base_uri": "https://localhost:8080/"
        },
        "id": "Qwp178rPGzby",
        "outputId": "95022e07-5aa4-43f0-9130-d78c25951184"
      },
      "source": [
        "X_train, X_test, y_train, y_test = split_data(train_features_df)\r\n",
        "xgb_grid = grid.fit(X_train, np.log(y_train), \r\n",
        "                    early_stopping_rounds = 10, \r\n",
        "                    eval_metric = \"rmse\", \r\n",
        "                    eval_set = [(X_test, np.log(y_test))])\r\n",
        "xgb_grid.best_estimator_"
      ],
      "execution_count": 85,
      "outputs": [
        {
          "output_type": "stream",
          "text": [
            "Fitting 3 folds for each of 1728 candidates, totalling 5184 fits\n"
          ],
          "name": "stdout"
        },
        {
          "output_type": "stream",
          "text": [
            "[Parallel(n_jobs=-1)]: Using backend LokyBackend with 2 concurrent workers.\n",
            "[Parallel(n_jobs=-1)]: Done  28 tasks      | elapsed:    4.5s\n",
            "[Parallel(n_jobs=-1)]: Done 124 tasks      | elapsed:   16.3s\n",
            "[Parallel(n_jobs=-1)]: Done 284 tasks      | elapsed:   39.7s\n",
            "[Parallel(n_jobs=-1)]: Done 508 tasks      | elapsed:  1.2min\n",
            "[Parallel(n_jobs=-1)]: Done 796 tasks      | elapsed:  1.9min\n",
            "[Parallel(n_jobs=-1)]: Done 1148 tasks      | elapsed:  2.7min\n",
            "[Parallel(n_jobs=-1)]: Done 1564 tasks      | elapsed:  3.6min\n",
            "[Parallel(n_jobs=-1)]: Done 2044 tasks      | elapsed:  4.8min\n",
            "[Parallel(n_jobs=-1)]: Done 2588 tasks      | elapsed:  6.3min\n",
            "[Parallel(n_jobs=-1)]: Done 3196 tasks      | elapsed:  7.8min\n",
            "[Parallel(n_jobs=-1)]: Done 3868 tasks      | elapsed:  9.6min\n",
            "[Parallel(n_jobs=-1)]: Done 4604 tasks      | elapsed: 11.7min\n"
          ],
          "name": "stderr"
        },
        {
          "output_type": "stream",
          "text": [
            "[12:59:23] WARNING: /workspace/src/objective/regression_obj.cu:152: reg:linear is now deprecated in favor of reg:squarederror.\n",
            "[0]\tvalidation_0-rmse:10.3543\n",
            "Will train until validation_0-rmse hasn't improved in 10 rounds.\n",
            "[1]\tvalidation_0-rmse:9.31667\n",
            "[2]\tvalidation_0-rmse:8.38481\n",
            "[3]\tvalidation_0-rmse:7.54366\n",
            "[4]\tvalidation_0-rmse:6.78942\n",
            "[5]\tvalidation_0-rmse:6.10986\n",
            "[6]\tvalidation_0-rmse:5.4985\n",
            "[7]\tvalidation_0-rmse:4.94881\n",
            "[8]\tvalidation_0-rmse:4.45437\n",
            "[9]\tvalidation_0-rmse:4.01011\n",
            "[10]\tvalidation_0-rmse:3.60943\n",
            "[11]\tvalidation_0-rmse:3.24925\n",
            "[12]\tvalidation_0-rmse:2.925\n",
            "[13]\tvalidation_0-rmse:2.63176\n",
            "[14]\tvalidation_0-rmse:2.37002\n",
            "[15]\tvalidation_0-rmse:2.13377\n",
            "[16]\tvalidation_0-rmse:1.92147\n",
            "[17]\tvalidation_0-rmse:1.73053\n",
            "[18]\tvalidation_0-rmse:1.55841\n",
            "[19]\tvalidation_0-rmse:1.40441\n",
            "[20]\tvalidation_0-rmse:1.2655\n",
            "[21]\tvalidation_0-rmse:1.14126\n",
            "[22]\tvalidation_0-rmse:1.02895\n",
            "[23]\tvalidation_0-rmse:0.927864\n",
            "[24]\tvalidation_0-rmse:0.836908\n",
            "[25]\tvalidation_0-rmse:0.75576\n",
            "[26]\tvalidation_0-rmse:0.682761\n",
            "[27]\tvalidation_0-rmse:0.617434\n",
            "[28]\tvalidation_0-rmse:0.559258\n",
            "[29]\tvalidation_0-rmse:0.506839\n",
            "[30]\tvalidation_0-rmse:0.460146\n",
            "[31]\tvalidation_0-rmse:0.418149\n",
            "[32]\tvalidation_0-rmse:0.381146\n",
            "[33]\tvalidation_0-rmse:0.348292\n",
            "[34]\tvalidation_0-rmse:0.319268\n",
            "[35]\tvalidation_0-rmse:0.293622\n",
            "[36]\tvalidation_0-rmse:0.271152\n",
            "[37]\tvalidation_0-rmse:0.251585\n",
            "[38]\tvalidation_0-rmse:0.234586\n",
            "[39]\tvalidation_0-rmse:0.219737\n",
            "[40]\tvalidation_0-rmse:0.206757\n",
            "[41]\tvalidation_0-rmse:0.195546\n",
            "[42]\tvalidation_0-rmse:0.186081\n",
            "[43]\tvalidation_0-rmse:0.178137\n",
            "[44]\tvalidation_0-rmse:0.171296\n",
            "[45]\tvalidation_0-rmse:0.1657\n",
            "[46]\tvalidation_0-rmse:0.160745\n",
            "[47]\tvalidation_0-rmse:0.156903\n",
            "[48]\tvalidation_0-rmse:0.153591\n",
            "[49]\tvalidation_0-rmse:0.151161\n",
            "[50]\tvalidation_0-rmse:0.149086\n"
          ],
          "name": "stdout"
        },
        {
          "output_type": "stream",
          "text": [
            "[Parallel(n_jobs=-1)]: Done 5184 out of 5184 | elapsed: 13.4min finished\n"
          ],
          "name": "stderr"
        },
        {
          "output_type": "stream",
          "text": [
            "[51]\tvalidation_0-rmse:0.147197\n",
            "[52]\tvalidation_0-rmse:0.145538\n",
            "[53]\tvalidation_0-rmse:0.144111\n",
            "[54]\tvalidation_0-rmse:0.143103\n",
            "[55]\tvalidation_0-rmse:0.142198\n",
            "[56]\tvalidation_0-rmse:0.14151\n",
            "[57]\tvalidation_0-rmse:0.140921\n",
            "[58]\tvalidation_0-rmse:0.140533\n",
            "[59]\tvalidation_0-rmse:0.139901\n",
            "[60]\tvalidation_0-rmse:0.139122\n",
            "[61]\tvalidation_0-rmse:0.138875\n",
            "[62]\tvalidation_0-rmse:0.13883\n",
            "[63]\tvalidation_0-rmse:0.138808\n",
            "[64]\tvalidation_0-rmse:0.138833\n",
            "[65]\tvalidation_0-rmse:0.138711\n",
            "[66]\tvalidation_0-rmse:0.138855\n",
            "[67]\tvalidation_0-rmse:0.138614\n",
            "[68]\tvalidation_0-rmse:0.138507\n",
            "[69]\tvalidation_0-rmse:0.138543\n",
            "[70]\tvalidation_0-rmse:0.138332\n",
            "[71]\tvalidation_0-rmse:0.138205\n",
            "[72]\tvalidation_0-rmse:0.138143\n",
            "[73]\tvalidation_0-rmse:0.137981\n",
            "[74]\tvalidation_0-rmse:0.137988\n",
            "[75]\tvalidation_0-rmse:0.138048\n",
            "[76]\tvalidation_0-rmse:0.137997\n",
            "[77]\tvalidation_0-rmse:0.137848\n",
            "[78]\tvalidation_0-rmse:0.13802\n",
            "[79]\tvalidation_0-rmse:0.137915\n",
            "[80]\tvalidation_0-rmse:0.137973\n",
            "[81]\tvalidation_0-rmse:0.13795\n",
            "[82]\tvalidation_0-rmse:0.138045\n",
            "[83]\tvalidation_0-rmse:0.138138\n",
            "[84]\tvalidation_0-rmse:0.137891\n",
            "[85]\tvalidation_0-rmse:0.137881\n",
            "[86]\tvalidation_0-rmse:0.137939\n",
            "[87]\tvalidation_0-rmse:0.137913\n",
            "Stopping. Best iteration:\n",
            "[77]\tvalidation_0-rmse:0.137848\n",
            "\n"
          ],
          "name": "stdout"
        },
        {
          "output_type": "execute_result",
          "data": {
            "text/plain": [
              "XGBRegressor(base_score=0.5, booster='gbtree', colsample_bylevel=1,\n",
              "             colsample_bynode=1, colsample_bytree=0.5, gamma=0,\n",
              "             importance_type='gain', learning_rate=0.1, max_delta_step=0,\n",
              "             max_depth=5, min_child_weight=1, missing=None, n_estimators=150,\n",
              "             n_jobs=1, nthread=None, objective='reg:linear', random_state=42,\n",
              "             reg_alpha=0.1, reg_lambda=0.1, scale_pos_weight=1, seed=None,\n",
              "             silent=None, subsample=0.9, verbosity=1)"
            ]
          },
          "metadata": {
            "tags": []
          },
          "execution_count": 85
        }
      ]
    },
    {
      "cell_type": "code",
      "metadata": {
        "colab": {
          "base_uri": "https://localhost:8080/"
        },
        "id": "ut8mp0eZJUiZ",
        "outputId": "28050a41-e6fa-45e2-c890-be532c1db592"
      },
      "source": [
        "xgb_preds = np.exp(xgb_grid.best_estimator_.predict(X_test))\r\n",
        "np.sqrt(mean_squared_log_error(y_true = y_test, y_pred = xgb_preds))"
      ],
      "execution_count": 86,
      "outputs": [
        {
          "output_type": "execute_result",
          "data": {
            "text/plain": [
              "0.13784657211226475"
            ]
          },
          "metadata": {
            "tags": []
          },
          "execution_count": 86
        }
      ]
    },
    {
      "cell_type": "markdown",
      "metadata": {
        "id": "KBjuHtBWSPpX"
      },
      "source": [
        "### Final Model"
      ]
    },
    {
      "cell_type": "markdown",
      "metadata": {
        "id": "Fghj2LT0UpHy"
      },
      "source": [
        "**Un-Optimized**"
      ]
    },
    {
      "cell_type": "code",
      "metadata": {
        "colab": {
          "base_uri": "https://localhost:8080/"
        },
        "id": "UWFS2GHrUvTj",
        "outputId": "ddd8ab96-5715-484f-8948-bfd354036b25"
      },
      "source": [
        "X_train, X_test, y_train, y_test = split_data(train_features_df)\r\n",
        "final_xgb = xgb.XGBRegressor(random_state = 42, \r\n",
        "                             learning_rate = 0.1, \r\n",
        "                             n_estimators = 150).fit(X_train, np.log(y_train), \r\n",
        "                                                     early_stopping_rounds = 10, \r\n",
        "                                                     eval_metric = \"rmse\", \r\n",
        "                                                     eval_set = [(X_test, np.log(y_test))])\r\n",
        "\r\n",
        "final_xgb_preds = np.exp(final_xgb.predict(X_test))\r\n",
        "np.sqrt(mean_squared_log_error(y_true = y_test, y_pred = final_xgb_preds))"
      ],
      "execution_count": 102,
      "outputs": [
        {
          "output_type": "stream",
          "text": [
            "[13:14:03] WARNING: /workspace/src/objective/regression_obj.cu:152: reg:linear is now deprecated in favor of reg:squarederror.\n",
            "[0]\tvalidation_0-rmse:10.3546\n",
            "Will train until validation_0-rmse hasn't improved in 10 rounds.\n",
            "[1]\tvalidation_0-rmse:9.31862\n",
            "[2]\tvalidation_0-rmse:8.38637\n",
            "[3]\tvalidation_0-rmse:7.54805\n",
            "[4]\tvalidation_0-rmse:6.79283\n",
            "[5]\tvalidation_0-rmse:6.11376\n",
            "[6]\tvalidation_0-rmse:5.50349\n",
            "[7]\tvalidation_0-rmse:4.95351\n",
            "[8]\tvalidation_0-rmse:4.45994\n",
            "[9]\tvalidation_0-rmse:4.01426\n",
            "[10]\tvalidation_0-rmse:3.61311\n",
            "[11]\tvalidation_0-rmse:3.25278\n",
            "[12]\tvalidation_0-rmse:2.92971\n",
            "[13]\tvalidation_0-rmse:2.63958\n",
            "[14]\tvalidation_0-rmse:2.37735\n",
            "[15]\tvalidation_0-rmse:2.14166\n",
            "[16]\tvalidation_0-rmse:1.92924\n",
            "[17]\tvalidation_0-rmse:1.73817\n",
            "[18]\tvalidation_0-rmse:1.56623\n",
            "[19]\tvalidation_0-rmse:1.4113\n",
            "[20]\tvalidation_0-rmse:1.27334\n",
            "[21]\tvalidation_0-rmse:1.14896\n",
            "[22]\tvalidation_0-rmse:1.03593\n",
            "[23]\tvalidation_0-rmse:0.935147\n",
            "[24]\tvalidation_0-rmse:0.844436\n",
            "[25]\tvalidation_0-rmse:0.763354\n",
            "[26]\tvalidation_0-rmse:0.690458\n",
            "[27]\tvalidation_0-rmse:0.62538\n",
            "[28]\tvalidation_0-rmse:0.566696\n",
            "[29]\tvalidation_0-rmse:0.513855\n",
            "[30]\tvalidation_0-rmse:0.467021\n",
            "[31]\tvalidation_0-rmse:0.425329\n",
            "[32]\tvalidation_0-rmse:0.388324\n",
            "[33]\tvalidation_0-rmse:0.355073\n",
            "[34]\tvalidation_0-rmse:0.326015\n",
            "[35]\tvalidation_0-rmse:0.300246\n",
            "[36]\tvalidation_0-rmse:0.277167\n",
            "[37]\tvalidation_0-rmse:0.256623\n",
            "[38]\tvalidation_0-rmse:0.238779\n",
            "[39]\tvalidation_0-rmse:0.223783\n",
            "[40]\tvalidation_0-rmse:0.210229\n",
            "[41]\tvalidation_0-rmse:0.198775\n",
            "[42]\tvalidation_0-rmse:0.188978\n",
            "[43]\tvalidation_0-rmse:0.180678\n",
            "[44]\tvalidation_0-rmse:0.173868\n",
            "[45]\tvalidation_0-rmse:0.167678\n",
            "[46]\tvalidation_0-rmse:0.162768\n",
            "[47]\tvalidation_0-rmse:0.158343\n",
            "[48]\tvalidation_0-rmse:0.154454\n",
            "[49]\tvalidation_0-rmse:0.151799\n",
            "[50]\tvalidation_0-rmse:0.149494\n",
            "[51]\tvalidation_0-rmse:0.147317\n",
            "[52]\tvalidation_0-rmse:0.145812\n",
            "[53]\tvalidation_0-rmse:0.144491\n",
            "[54]\tvalidation_0-rmse:0.143005\n",
            "[55]\tvalidation_0-rmse:0.141964\n",
            "[56]\tvalidation_0-rmse:0.141056\n",
            "[57]\tvalidation_0-rmse:0.140261\n",
            "[58]\tvalidation_0-rmse:0.139851\n",
            "[59]\tvalidation_0-rmse:0.13947\n",
            "[60]\tvalidation_0-rmse:0.139252\n",
            "[61]\tvalidation_0-rmse:0.138817\n",
            "[62]\tvalidation_0-rmse:0.138454\n",
            "[63]\tvalidation_0-rmse:0.138\n",
            "[64]\tvalidation_0-rmse:0.137962\n",
            "[65]\tvalidation_0-rmse:0.13776\n",
            "[66]\tvalidation_0-rmse:0.137689\n",
            "[67]\tvalidation_0-rmse:0.13736\n",
            "[68]\tvalidation_0-rmse:0.137376\n",
            "[69]\tvalidation_0-rmse:0.137167\n",
            "[70]\tvalidation_0-rmse:0.136731\n",
            "[71]\tvalidation_0-rmse:0.136736\n",
            "[72]\tvalidation_0-rmse:0.136677\n",
            "[73]\tvalidation_0-rmse:0.136403\n",
            "[74]\tvalidation_0-rmse:0.136337\n",
            "[75]\tvalidation_0-rmse:0.136241\n",
            "[76]\tvalidation_0-rmse:0.136165\n",
            "[77]\tvalidation_0-rmse:0.136189\n",
            "[78]\tvalidation_0-rmse:0.136103\n",
            "[79]\tvalidation_0-rmse:0.136132\n",
            "[80]\tvalidation_0-rmse:0.136031\n",
            "[81]\tvalidation_0-rmse:0.136015\n",
            "[82]\tvalidation_0-rmse:0.136011\n",
            "[83]\tvalidation_0-rmse:0.136039\n",
            "[84]\tvalidation_0-rmse:0.135844\n",
            "[85]\tvalidation_0-rmse:0.135786\n",
            "[86]\tvalidation_0-rmse:0.135762\n",
            "[87]\tvalidation_0-rmse:0.135601\n",
            "[88]\tvalidation_0-rmse:0.135537\n",
            "[89]\tvalidation_0-rmse:0.135612\n",
            "[90]\tvalidation_0-rmse:0.135666\n",
            "[91]\tvalidation_0-rmse:0.135735\n",
            "[92]\tvalidation_0-rmse:0.135852\n",
            "[93]\tvalidation_0-rmse:0.135861\n",
            "[94]\tvalidation_0-rmse:0.135821\n",
            "[95]\tvalidation_0-rmse:0.135712\n",
            "[96]\tvalidation_0-rmse:0.135726\n",
            "[97]\tvalidation_0-rmse:0.135633\n",
            "[98]\tvalidation_0-rmse:0.135737\n",
            "Stopping. Best iteration:\n",
            "[88]\tvalidation_0-rmse:0.135537\n",
            "\n"
          ],
          "name": "stdout"
        },
        {
          "output_type": "execute_result",
          "data": {
            "text/plain": [
              "0.1355359145088547"
            ]
          },
          "metadata": {
            "tags": []
          },
          "execution_count": 102
        }
      ]
    },
    {
      "cell_type": "markdown",
      "metadata": {
        "id": "WV1fDQegUvrw"
      },
      "source": [
        "**Optimized**"
      ]
    },
    {
      "cell_type": "code",
      "metadata": {
        "colab": {
          "base_uri": "https://localhost:8080/"
        },
        "id": "SoobNraqSNxv",
        "outputId": "0c73b7a3-300a-4f4d-ceb0-a79e0f390bcb"
      },
      "source": [
        "X_train, X_test, y_train, y_test = split_data(train_features_df)\r\n",
        "final_xgb_op = xgb.XGBRegressor(random_state = 42, \r\n",
        "                                max_depth = 5, \r\n",
        "                                subsample = 0.9, \r\n",
        "                                colsample_bytree = 0.5, \r\n",
        "                                gamma = 0, \r\n",
        "                                reg_alpha = 0.1, \r\n",
        "                                reg_lambda = 0.1, \r\n",
        "                                learning_rate = 0.05, \r\n",
        "                                n_estimators = 600).fit(X_train, np.log(y_train), \r\n",
        "                                                        early_stopping_rounds = 10,\r\n",
        "                                                        eval_metric = \"rmse\", \r\n",
        "                                                        eval_set = [(X_test, np.log(y_test))])\r\n",
        "\r\n",
        "final_xgb_op_preds = np.exp(final_xgb_op.predict(X_test))\r\n",
        "np.sqrt(mean_squared_log_error(y_true = y_test, y_pred = final_xgb_op_preds))"
      ],
      "execution_count": 100,
      "outputs": [
        {
          "output_type": "stream",
          "text": [
            "[13:10:31] WARNING: /workspace/src/objective/regression_obj.cu:152: reg:linear is now deprecated in favor of reg:squarederror.\n",
            "[0]\tvalidation_0-rmse:10.93\n",
            "Will train until validation_0-rmse hasn't improved in 10 rounds.\n",
            "[1]\tvalidation_0-rmse:10.3824\n",
            "[2]\tvalidation_0-rmse:9.86262\n",
            "[3]\tvalidation_0-rmse:9.36802\n",
            "[4]\tvalidation_0-rmse:8.89888\n",
            "[5]\tvalidation_0-rmse:8.45386\n",
            "[6]\tvalidation_0-rmse:8.03088\n",
            "[7]\tvalidation_0-rmse:7.62897\n",
            "[8]\tvalidation_0-rmse:7.24781\n",
            "[9]\tvalidation_0-rmse:6.88551\n",
            "[10]\tvalidation_0-rmse:6.54033\n",
            "[11]\tvalidation_0-rmse:6.2135\n",
            "[12]\tvalidation_0-rmse:5.903\n",
            "[13]\tvalidation_0-rmse:5.60721\n",
            "[14]\tvalidation_0-rmse:5.32672\n",
            "[15]\tvalidation_0-rmse:5.05982\n",
            "[16]\tvalidation_0-rmse:4.80658\n",
            "[17]\tvalidation_0-rmse:4.56683\n",
            "[18]\tvalidation_0-rmse:4.339\n",
            "[19]\tvalidation_0-rmse:4.12219\n",
            "[20]\tvalidation_0-rmse:3.91629\n",
            "[21]\tvalidation_0-rmse:3.72052\n",
            "[22]\tvalidation_0-rmse:3.53504\n",
            "[23]\tvalidation_0-rmse:3.35855\n",
            "[24]\tvalidation_0-rmse:3.19121\n",
            "[25]\tvalidation_0-rmse:3.0322\n",
            "[26]\tvalidation_0-rmse:2.88049\n",
            "[27]\tvalidation_0-rmse:2.73685\n",
            "[28]\tvalidation_0-rmse:2.60057\n",
            "[29]\tvalidation_0-rmse:2.47095\n",
            "[30]\tvalidation_0-rmse:2.34773\n",
            "[31]\tvalidation_0-rmse:2.23089\n",
            "[32]\tvalidation_0-rmse:2.11999\n",
            "[33]\tvalidation_0-rmse:2.01405\n",
            "[34]\tvalidation_0-rmse:1.91439\n",
            "[35]\tvalidation_0-rmse:1.81927\n",
            "[36]\tvalidation_0-rmse:1.72854\n",
            "[37]\tvalidation_0-rmse:1.64237\n",
            "[38]\tvalidation_0-rmse:1.56106\n",
            "[39]\tvalidation_0-rmse:1.48414\n",
            "[40]\tvalidation_0-rmse:1.41085\n",
            "[41]\tvalidation_0-rmse:1.3413\n",
            "[42]\tvalidation_0-rmse:1.27514\n",
            "[43]\tvalidation_0-rmse:1.21232\n",
            "[44]\tvalidation_0-rmse:1.15236\n",
            "[45]\tvalidation_0-rmse:1.0955\n",
            "[46]\tvalidation_0-rmse:1.04179\n",
            "[47]\tvalidation_0-rmse:0.99088\n",
            "[48]\tvalidation_0-rmse:0.942334\n",
            "[49]\tvalidation_0-rmse:0.895822\n",
            "[50]\tvalidation_0-rmse:0.852122\n",
            "[51]\tvalidation_0-rmse:0.810862\n",
            "[52]\tvalidation_0-rmse:0.771455\n",
            "[53]\tvalidation_0-rmse:0.734555\n",
            "[54]\tvalidation_0-rmse:0.699094\n",
            "[55]\tvalidation_0-rmse:0.665502\n",
            "[56]\tvalidation_0-rmse:0.633797\n",
            "[57]\tvalidation_0-rmse:0.603696\n",
            "[58]\tvalidation_0-rmse:0.575037\n",
            "[59]\tvalidation_0-rmse:0.54794\n",
            "[60]\tvalidation_0-rmse:0.522322\n",
            "[61]\tvalidation_0-rmse:0.498106\n",
            "[62]\tvalidation_0-rmse:0.475174\n",
            "[63]\tvalidation_0-rmse:0.453473\n",
            "[64]\tvalidation_0-rmse:0.433074\n",
            "[65]\tvalidation_0-rmse:0.413734\n",
            "[66]\tvalidation_0-rmse:0.395564\n",
            "[67]\tvalidation_0-rmse:0.378257\n",
            "[68]\tvalidation_0-rmse:0.36192\n",
            "[69]\tvalidation_0-rmse:0.346533\n",
            "[70]\tvalidation_0-rmse:0.332001\n",
            "[71]\tvalidation_0-rmse:0.318239\n",
            "[72]\tvalidation_0-rmse:0.305305\n",
            "[73]\tvalidation_0-rmse:0.293109\n",
            "[74]\tvalidation_0-rmse:0.281873\n",
            "[75]\tvalidation_0-rmse:0.271273\n",
            "[76]\tvalidation_0-rmse:0.261138\n",
            "[77]\tvalidation_0-rmse:0.25186\n",
            "[78]\tvalidation_0-rmse:0.242975\n",
            "[79]\tvalidation_0-rmse:0.234762\n",
            "[80]\tvalidation_0-rmse:0.227222\n",
            "[81]\tvalidation_0-rmse:0.220197\n",
            "[82]\tvalidation_0-rmse:0.213298\n",
            "[83]\tvalidation_0-rmse:0.207193\n",
            "[84]\tvalidation_0-rmse:0.201677\n",
            "[85]\tvalidation_0-rmse:0.196374\n",
            "[86]\tvalidation_0-rmse:0.191346\n",
            "[87]\tvalidation_0-rmse:0.18696\n",
            "[88]\tvalidation_0-rmse:0.182587\n",
            "[89]\tvalidation_0-rmse:0.178706\n",
            "[90]\tvalidation_0-rmse:0.17516\n",
            "[91]\tvalidation_0-rmse:0.172188\n",
            "[92]\tvalidation_0-rmse:0.169089\n",
            "[93]\tvalidation_0-rmse:0.166222\n",
            "[94]\tvalidation_0-rmse:0.163626\n",
            "[95]\tvalidation_0-rmse:0.161355\n",
            "[96]\tvalidation_0-rmse:0.159295\n",
            "[97]\tvalidation_0-rmse:0.157383\n",
            "[98]\tvalidation_0-rmse:0.15546\n",
            "[99]\tvalidation_0-rmse:0.153859\n",
            "[100]\tvalidation_0-rmse:0.1524\n",
            "[101]\tvalidation_0-rmse:0.151193\n",
            "[102]\tvalidation_0-rmse:0.150044\n",
            "[103]\tvalidation_0-rmse:0.148835\n",
            "[104]\tvalidation_0-rmse:0.147727\n",
            "[105]\tvalidation_0-rmse:0.146701\n",
            "[106]\tvalidation_0-rmse:0.145782\n",
            "[107]\tvalidation_0-rmse:0.145042\n",
            "[108]\tvalidation_0-rmse:0.144524\n",
            "[109]\tvalidation_0-rmse:0.144046\n",
            "[110]\tvalidation_0-rmse:0.143503\n",
            "[111]\tvalidation_0-rmse:0.14293\n",
            "[112]\tvalidation_0-rmse:0.142254\n",
            "[113]\tvalidation_0-rmse:0.141995\n",
            "[114]\tvalidation_0-rmse:0.141638\n",
            "[115]\tvalidation_0-rmse:0.141259\n",
            "[116]\tvalidation_0-rmse:0.140983\n",
            "[117]\tvalidation_0-rmse:0.140695\n",
            "[118]\tvalidation_0-rmse:0.140404\n",
            "[119]\tvalidation_0-rmse:0.140183\n",
            "[120]\tvalidation_0-rmse:0.139921\n",
            "[121]\tvalidation_0-rmse:0.139638\n",
            "[122]\tvalidation_0-rmse:0.13947\n",
            "[123]\tvalidation_0-rmse:0.139376\n",
            "[124]\tvalidation_0-rmse:0.13938\n",
            "[125]\tvalidation_0-rmse:0.139296\n",
            "[126]\tvalidation_0-rmse:0.139053\n",
            "[127]\tvalidation_0-rmse:0.139025\n",
            "[128]\tvalidation_0-rmse:0.13897\n",
            "[129]\tvalidation_0-rmse:0.138891\n",
            "[130]\tvalidation_0-rmse:0.138813\n",
            "[131]\tvalidation_0-rmse:0.138829\n",
            "[132]\tvalidation_0-rmse:0.138783\n",
            "[133]\tvalidation_0-rmse:0.138603\n",
            "[134]\tvalidation_0-rmse:0.138576\n",
            "[135]\tvalidation_0-rmse:0.138605\n",
            "[136]\tvalidation_0-rmse:0.138477\n",
            "[137]\tvalidation_0-rmse:0.138509\n",
            "[138]\tvalidation_0-rmse:0.138537\n",
            "[139]\tvalidation_0-rmse:0.138549\n",
            "[140]\tvalidation_0-rmse:0.138525\n",
            "[141]\tvalidation_0-rmse:0.138426\n",
            "[142]\tvalidation_0-rmse:0.13832\n",
            "[143]\tvalidation_0-rmse:0.138351\n",
            "[144]\tvalidation_0-rmse:0.138214\n",
            "[145]\tvalidation_0-rmse:0.138062\n",
            "[146]\tvalidation_0-rmse:0.137869\n",
            "[147]\tvalidation_0-rmse:0.137749\n",
            "[148]\tvalidation_0-rmse:0.137778\n",
            "[149]\tvalidation_0-rmse:0.137795\n",
            "[150]\tvalidation_0-rmse:0.137681\n",
            "[151]\tvalidation_0-rmse:0.137758\n",
            "[152]\tvalidation_0-rmse:0.137932\n",
            "[153]\tvalidation_0-rmse:0.137959\n",
            "[154]\tvalidation_0-rmse:0.13795\n",
            "[155]\tvalidation_0-rmse:0.138003\n",
            "[156]\tvalidation_0-rmse:0.138021\n",
            "[157]\tvalidation_0-rmse:0.13801\n",
            "[158]\tvalidation_0-rmse:0.137907\n",
            "[159]\tvalidation_0-rmse:0.138001\n",
            "[160]\tvalidation_0-rmse:0.138035\n",
            "Stopping. Best iteration:\n",
            "[150]\tvalidation_0-rmse:0.137681\n",
            "\n"
          ],
          "name": "stdout"
        },
        {
          "output_type": "execute_result",
          "data": {
            "text/plain": [
              "0.13768019296132125"
            ]
          },
          "metadata": {
            "tags": []
          },
          "execution_count": 100
        }
      ]
    },
    {
      "cell_type": "markdown",
      "metadata": {
        "id": "i6QH-D_eUt14"
      },
      "source": [
        "# Submission for XGBoost"
      ]
    },
    {
      "cell_type": "markdown",
      "metadata": {
        "id": "Jl_Qmu5pVtFa"
      },
      "source": [
        "**Optimized XGBoost**"
      ]
    },
    {
      "cell_type": "code",
      "metadata": {
        "colab": {
          "base_uri": "https://localhost:8080/"
        },
        "id": "WXU9fWlPVtFj",
        "outputId": "8fd2399f-84af-4d00-9907-9daebc642aa9"
      },
      "source": [
        "X, y = train_features_df.drop([\"SalePrice\"], axis = 1), train_features_df[\"SalePrice\"]\r\n",
        "final_xgb_op_model = xgb.XGBRegressor(random_state = 42, \r\n",
        "                                      max_depth = 5, \r\n",
        "                                      subsample = 0.9, \r\n",
        "                                      colsample_bytree = 0.5, \r\n",
        "                                      gamma = 0, \r\n",
        "                                      reg_alpha = 0.1, \r\n",
        "                                      reg_lambda = 0.1, \r\n",
        "                                      learning_rate = 0.05, \r\n",
        "                                      n_estimators = 600).fit(X.values, np.log(y.values))\r\n",
        "final_xgb_op_preds = np.exp(final_xgb_op_model.predict(test_features_df.values))"
      ],
      "execution_count": 103,
      "outputs": [
        {
          "output_type": "stream",
          "text": [
            "[13:20:02] WARNING: /workspace/src/objective/regression_obj.cu:152: reg:linear is now deprecated in favor of reg:squarederror.\n"
          ],
          "name": "stdout"
        }
      ]
    },
    {
      "cell_type": "code",
      "metadata": {
        "id": "C24NY5uxVtFk"
      },
      "source": [
        "sub4_xgb_op = pd.read_csv(url + \"sample_submission.csv\")\r\n",
        "sub4_xgb_op[\"SalePrice\"] = final_xgb_op_preds\r\n",
        "sub4_xgb_op.to_csv(\"sub4_xgb_op.csv\", index = False)"
      ],
      "execution_count": 106,
      "outputs": []
    },
    {
      "cell_type": "markdown",
      "metadata": {
        "id": "cMnwaxAEVtFk"
      },
      "source": [
        "**Base XGBoost**"
      ]
    },
    {
      "cell_type": "code",
      "metadata": {
        "id": "vGL9hep4VtFk"
      },
      "source": [
        "X, y = train_features_df.drop([\"SalePrice\"], axis = 1), train_features_df[\"SalePrice\"]\r\n",
        "final_xgb_model = GradientBoostingRegressor(n_estimators = 150, \r\n",
        "                                            learning_rate = 0.1, \r\n",
        "                                            random_state = 42).fit(X.values, np.log(y.values))\r\n",
        "final_xgb_preds = np.exp(final_xgb_model.predict(test_features_df.values))"
      ],
      "execution_count": 107,
      "outputs": []
    },
    {
      "cell_type": "code",
      "metadata": {
        "id": "uydziT4pVtFl"
      },
      "source": [
        "sub4_xgb = pd.read_csv(url + \"sample_submission.csv\")\r\n",
        "sub4_xgb[\"SalePrice\"] = final_xgb_preds\r\n",
        "sub4_xgb.to_csv(\"sub4_xgb.csv\", index = False)"
      ],
      "execution_count": 109,
      "outputs": []
    },
    {
      "cell_type": "markdown",
      "metadata": {
        "id": "gRUpWz8kYVJM"
      },
      "source": [
        "# LightGBM"
      ]
    },
    {
      "cell_type": "markdown",
      "metadata": {
        "id": "TsXQajVpg46t"
      },
      "source": [
        "## Base LightGBM"
      ]
    },
    {
      "cell_type": "code",
      "metadata": {
        "colab": {
          "base_uri": "https://localhost:8080/"
        },
        "id": "xfNsA9PiSNpE",
        "outputId": "bc0dfddd-fed0-4efb-c795-5cca33c15bef"
      },
      "source": [
        "X_train, X_test, y_train, y_test = split_data(train_features_df)\r\n",
        "base_lgbm = lgb.LGBMRegressor(random_state = 42).fit(X_train, np.log(y_train), \r\n",
        "                                                     early_stopping_rounds = 10, \r\n",
        "                                                     eval_metric = \"rmse\", \r\n",
        "                                                     eval_set = [(X_test, np.log(y_test))])\r\n",
        "\r\n",
        "base_lgbm_preds = np.exp(base_lgbm.predict(X_test))\r\n",
        "np.sqrt(mean_squared_log_error(y_true = y_test, y_pred = base_lgbm_preds))"
      ],
      "execution_count": 121,
      "outputs": [
        {
          "output_type": "stream",
          "text": [
            "[1]\tvalid_0's l2: 0.159374\tvalid_0's rmse: 0.399216\n",
            "Training until validation scores don't improve for 10 rounds.\n",
            "[2]\tvalid_0's l2: 0.136973\tvalid_0's rmse: 0.370099\n",
            "[3]\tvalid_0's l2: 0.117245\tvalid_0's rmse: 0.34241\n",
            "[4]\tvalid_0's l2: 0.10202\tvalid_0's rmse: 0.319406\n",
            "[5]\tvalid_0's l2: 0.0887707\tvalid_0's rmse: 0.297944\n",
            "[6]\tvalid_0's l2: 0.0777436\tvalid_0's rmse: 0.278825\n",
            "[7]\tvalid_0's l2: 0.0691149\tvalid_0's rmse: 0.262897\n",
            "[8]\tvalid_0's l2: 0.0612421\tvalid_0's rmse: 0.247471\n",
            "[9]\tvalid_0's l2: 0.055283\tvalid_0's rmse: 0.235123\n",
            "[10]\tvalid_0's l2: 0.0503159\tvalid_0's rmse: 0.224312\n",
            "[11]\tvalid_0's l2: 0.0457533\tvalid_0's rmse: 0.2139\n",
            "[12]\tvalid_0's l2: 0.0418953\tvalid_0's rmse: 0.204683\n",
            "[13]\tvalid_0's l2: 0.0385068\tvalid_0's rmse: 0.196231\n",
            "[14]\tvalid_0's l2: 0.0360061\tvalid_0's rmse: 0.189753\n",
            "[15]\tvalid_0's l2: 0.0338361\tvalid_0's rmse: 0.183946\n",
            "[16]\tvalid_0's l2: 0.0317874\tvalid_0's rmse: 0.17829\n",
            "[17]\tvalid_0's l2: 0.0300678\tvalid_0's rmse: 0.173401\n",
            "[18]\tvalid_0's l2: 0.0286144\tvalid_0's rmse: 0.169158\n",
            "[19]\tvalid_0's l2: 0.0274021\tvalid_0's rmse: 0.165536\n",
            "[20]\tvalid_0's l2: 0.0262553\tvalid_0's rmse: 0.162035\n",
            "[21]\tvalid_0's l2: 0.0252143\tvalid_0's rmse: 0.15879\n",
            "[22]\tvalid_0's l2: 0.0245422\tvalid_0's rmse: 0.156659\n",
            "[23]\tvalid_0's l2: 0.0239725\tvalid_0's rmse: 0.15483\n",
            "[24]\tvalid_0's l2: 0.023355\tvalid_0's rmse: 0.152823\n",
            "[25]\tvalid_0's l2: 0.0228941\tvalid_0's rmse: 0.151308\n",
            "[26]\tvalid_0's l2: 0.0226339\tvalid_0's rmse: 0.150446\n",
            "[27]\tvalid_0's l2: 0.0222462\tvalid_0's rmse: 0.149151\n",
            "[28]\tvalid_0's l2: 0.0219167\tvalid_0's rmse: 0.148043\n",
            "[29]\tvalid_0's l2: 0.0216938\tvalid_0's rmse: 0.147288\n",
            "[30]\tvalid_0's l2: 0.0216189\tvalid_0's rmse: 0.147034\n",
            "[31]\tvalid_0's l2: 0.0214089\tvalid_0's rmse: 0.146318\n",
            "[32]\tvalid_0's l2: 0.0211618\tvalid_0's rmse: 0.145471\n",
            "[33]\tvalid_0's l2: 0.0209927\tvalid_0's rmse: 0.144888\n",
            "[34]\tvalid_0's l2: 0.0209451\tvalid_0's rmse: 0.144724\n",
            "[35]\tvalid_0's l2: 0.0209407\tvalid_0's rmse: 0.144709\n",
            "[36]\tvalid_0's l2: 0.0208922\tvalid_0's rmse: 0.144541\n",
            "[37]\tvalid_0's l2: 0.020837\tvalid_0's rmse: 0.14435\n",
            "[38]\tvalid_0's l2: 0.0207502\tvalid_0's rmse: 0.144049\n",
            "[39]\tvalid_0's l2: 0.0207\tvalid_0's rmse: 0.143875\n",
            "[40]\tvalid_0's l2: 0.0205862\tvalid_0's rmse: 0.143479\n",
            "[41]\tvalid_0's l2: 0.0205055\tvalid_0's rmse: 0.143197\n",
            "[42]\tvalid_0's l2: 0.0204991\tvalid_0's rmse: 0.143175\n",
            "[43]\tvalid_0's l2: 0.0205471\tvalid_0's rmse: 0.143342\n",
            "[44]\tvalid_0's l2: 0.0204605\tvalid_0's rmse: 0.14304\n",
            "[45]\tvalid_0's l2: 0.0203867\tvalid_0's rmse: 0.142782\n",
            "[46]\tvalid_0's l2: 0.0203492\tvalid_0's rmse: 0.14265\n",
            "[47]\tvalid_0's l2: 0.0203348\tvalid_0's rmse: 0.1426\n",
            "[48]\tvalid_0's l2: 0.0202984\tvalid_0's rmse: 0.142472\n",
            "[49]\tvalid_0's l2: 0.0202931\tvalid_0's rmse: 0.142454\n",
            "[50]\tvalid_0's l2: 0.0202272\tvalid_0's rmse: 0.142222\n",
            "[51]\tvalid_0's l2: 0.0202637\tvalid_0's rmse: 0.142351\n",
            "[52]\tvalid_0's l2: 0.0202957\tvalid_0's rmse: 0.142463\n",
            "[53]\tvalid_0's l2: 0.0203537\tvalid_0's rmse: 0.142666\n",
            "[54]\tvalid_0's l2: 0.0203289\tvalid_0's rmse: 0.14258\n",
            "[55]\tvalid_0's l2: 0.0203753\tvalid_0's rmse: 0.142742\n",
            "[56]\tvalid_0's l2: 0.0203878\tvalid_0's rmse: 0.142786\n",
            "[57]\tvalid_0's l2: 0.0203565\tvalid_0's rmse: 0.142676\n",
            "[58]\tvalid_0's l2: 0.0203688\tvalid_0's rmse: 0.142719\n",
            "[59]\tvalid_0's l2: 0.0204729\tvalid_0's rmse: 0.143084\n",
            "[60]\tvalid_0's l2: 0.0204329\tvalid_0's rmse: 0.142944\n",
            "Early stopping, best iteration is:\n",
            "[50]\tvalid_0's l2: 0.0202272\tvalid_0's rmse: 0.142222\n"
          ],
          "name": "stdout"
        },
        {
          "output_type": "execute_result",
          "data": {
            "text/plain": [
              "0.14222111640999552"
            ]
          },
          "metadata": {
            "tags": []
          },
          "execution_count": 121
        }
      ]
    },
    {
      "cell_type": "markdown",
      "metadata": {
        "id": "u4C7rhCGg4MX"
      },
      "source": [
        "## Optimized LightGBM "
      ]
    },
    {
      "cell_type": "markdown",
      "metadata": {
        "id": "NiZPT1nzkMig"
      },
      "source": [
        "### Learning Rate, N Estimators"
      ]
    },
    {
      "cell_type": "code",
      "metadata": {
        "id": "63LUoSVCSNiV"
      },
      "source": [
        "base_lgbm = lgb.LGBMRegressor(random_state = 42).fit(X_train, np.log(y_train))\r\n",
        "params = {\r\n",
        "    \"learning_rate\": [0.01, 0.1, 1],\r\n",
        "    \"n_estimators\": np.arange(50, 1000, 50)\r\n",
        "}\r\n",
        "\r\n",
        "grid = GridSearchCV(estimator = base_lgbm, \r\n",
        "                    param_grid = params, \r\n",
        "                    n_jobs = -1, \r\n",
        "                    cv = 3, \r\n",
        "                    verbose = 3, \r\n",
        "                    scoring = \"neg_mean_squared_log_error\")"
      ],
      "execution_count": 124,
      "outputs": []
    },
    {
      "cell_type": "code",
      "metadata": {
        "colab": {
          "base_uri": "https://localhost:8080/"
        },
        "id": "x8raj60ESNbQ",
        "outputId": "efbc6571-9f5a-46f7-bc54-ef59b1bfdb3c"
      },
      "source": [
        "X_train, X_test, y_train, y_test = split_data(train_features_df)\r\n",
        "lgbm_grid = grid.fit(X_train, np.log(y_train), \r\n",
        "                     early_stopping_rounds = 10, \r\n",
        "                     eval_metric = \"rmse\", \r\n",
        "                     eval_set = [(X_test, np.log(y_test))])\r\n",
        "lgbm_grid.best_estimator_"
      ],
      "execution_count": 125,
      "outputs": [
        {
          "output_type": "stream",
          "text": [
            "Fitting 3 folds for each of 57 candidates, totalling 171 fits\n"
          ],
          "name": "stdout"
        },
        {
          "output_type": "stream",
          "text": [
            "[Parallel(n_jobs=-1)]: Using backend LokyBackend with 2 concurrent workers.\n",
            "[Parallel(n_jobs=-1)]: Done  42 tasks      | elapsed:   16.7s\n",
            "[Parallel(n_jobs=-1)]: Done 166 tasks      | elapsed:   31.2s\n",
            "[Parallel(n_jobs=-1)]: Done 171 out of 171 | elapsed:   31.3s finished\n"
          ],
          "name": "stderr"
        },
        {
          "output_type": "stream",
          "text": [
            "[1]\tvalid_0's l2: 0.184741\tvalid_0's rmse: 0.429815\n",
            "Training until validation scores don't improve for 10 rounds.\n",
            "[2]\tvalid_0's l2: 0.181878\tvalid_0's rmse: 0.426472\n",
            "[3]\tvalid_0's l2: 0.179074\tvalid_0's rmse: 0.423172\n",
            "[4]\tvalid_0's l2: 0.176231\tvalid_0's rmse: 0.419799\n",
            "[5]\tvalid_0's l2: 0.173498\tvalid_0's rmse: 0.41653\n",
            "[6]\tvalid_0's l2: 0.170855\tvalid_0's rmse: 0.413346\n",
            "[7]\tvalid_0's l2: 0.168182\tvalid_0's rmse: 0.4101\n",
            "[8]\tvalid_0's l2: 0.165695\tvalid_0's rmse: 0.407056\n",
            "[9]\tvalid_0's l2: 0.163148\tvalid_0's rmse: 0.403915\n",
            "[10]\tvalid_0's l2: 0.160737\tvalid_0's rmse: 0.40092\n",
            "[11]\tvalid_0's l2: 0.158327\tvalid_0's rmse: 0.397903\n",
            "[12]\tvalid_0's l2: 0.155908\tvalid_0's rmse: 0.394851\n",
            "[13]\tvalid_0's l2: 0.153532\tvalid_0's rmse: 0.391832\n",
            "[14]\tvalid_0's l2: 0.151314\tvalid_0's rmse: 0.388991\n",
            "[15]\tvalid_0's l2: 0.149022\tvalid_0's rmse: 0.386034\n",
            "[16]\tvalid_0's l2: 0.146774\tvalid_0's rmse: 0.38311\n",
            "[17]\tvalid_0's l2: 0.144513\tvalid_0's rmse: 0.380149\n",
            "[18]\tvalid_0's l2: 0.14236\tvalid_0's rmse: 0.377306\n",
            "[19]\tvalid_0's l2: 0.140328\tvalid_0's rmse: 0.374604\n",
            "[20]\tvalid_0's l2: 0.138227\tvalid_0's rmse: 0.371789\n",
            "[21]\tvalid_0's l2: 0.136266\tvalid_0's rmse: 0.369142\n",
            "[22]\tvalid_0's l2: 0.134253\tvalid_0's rmse: 0.366406\n",
            "[23]\tvalid_0's l2: 0.132391\tvalid_0's rmse: 0.363855\n",
            "[24]\tvalid_0's l2: 0.130471\tvalid_0's rmse: 0.361208\n",
            "[25]\tvalid_0's l2: 0.128553\tvalid_0's rmse: 0.358543\n",
            "[26]\tvalid_0's l2: 0.126709\tvalid_0's rmse: 0.355962\n",
            "[27]\tvalid_0's l2: 0.124963\tvalid_0's rmse: 0.353501\n",
            "[28]\tvalid_0's l2: 0.123215\tvalid_0's rmse: 0.351019\n",
            "[29]\tvalid_0's l2: 0.121441\tvalid_0's rmse: 0.348484\n",
            "[30]\tvalid_0's l2: 0.119807\tvalid_0's rmse: 0.346132\n",
            "[31]\tvalid_0's l2: 0.118104\tvalid_0's rmse: 0.343663\n",
            "[32]\tvalid_0's l2: 0.116449\tvalid_0's rmse: 0.341246\n",
            "[33]\tvalid_0's l2: 0.114819\tvalid_0's rmse: 0.338849\n",
            "[34]\tvalid_0's l2: 0.113288\tvalid_0's rmse: 0.336582\n",
            "[35]\tvalid_0's l2: 0.11171\tvalid_0's rmse: 0.33423\n",
            "[36]\tvalid_0's l2: 0.110156\tvalid_0's rmse: 0.331898\n",
            "[37]\tvalid_0's l2: 0.10874\tvalid_0's rmse: 0.329758\n",
            "[38]\tvalid_0's l2: 0.107274\tvalid_0's rmse: 0.327527\n",
            "[39]\tvalid_0's l2: 0.10576\tvalid_0's rmse: 0.325207\n",
            "[40]\tvalid_0's l2: 0.104335\tvalid_0's rmse: 0.323009\n",
            "[41]\tvalid_0's l2: 0.102896\tvalid_0's rmse: 0.320774\n",
            "[42]\tvalid_0's l2: 0.101475\tvalid_0's rmse: 0.318551\n",
            "[43]\tvalid_0's l2: 0.10019\tvalid_0's rmse: 0.316527\n",
            "[44]\tvalid_0's l2: 0.098853\tvalid_0's rmse: 0.314409\n",
            "[45]\tvalid_0's l2: 0.097607\tvalid_0's rmse: 0.312421\n",
            "[46]\tvalid_0's l2: 0.0962801\tvalid_0's rmse: 0.31029\n",
            "[47]\tvalid_0's l2: 0.0950295\tvalid_0's rmse: 0.308269\n",
            "[48]\tvalid_0's l2: 0.0937971\tvalid_0's rmse: 0.306263\n",
            "[49]\tvalid_0's l2: 0.0925677\tvalid_0's rmse: 0.304249\n",
            "[50]\tvalid_0's l2: 0.0913669\tvalid_0's rmse: 0.30227\n",
            "[51]\tvalid_0's l2: 0.0901993\tvalid_0's rmse: 0.300332\n",
            "[52]\tvalid_0's l2: 0.089055\tvalid_0's rmse: 0.298421\n",
            "[53]\tvalid_0's l2: 0.087975\tvalid_0's rmse: 0.296606\n",
            "[54]\tvalid_0's l2: 0.0868586\tvalid_0's rmse: 0.294718\n",
            "[55]\tvalid_0's l2: 0.0858255\tvalid_0's rmse: 0.29296\n",
            "[56]\tvalid_0's l2: 0.0847473\tvalid_0's rmse: 0.291114\n",
            "[57]\tvalid_0's l2: 0.0837232\tvalid_0's rmse: 0.28935\n",
            "[58]\tvalid_0's l2: 0.0826828\tvalid_0's rmse: 0.287546\n",
            "[59]\tvalid_0's l2: 0.081675\tvalid_0's rmse: 0.285788\n",
            "[60]\tvalid_0's l2: 0.0807087\tvalid_0's rmse: 0.284093\n",
            "[61]\tvalid_0's l2: 0.0797305\tvalid_0's rmse: 0.282366\n",
            "[62]\tvalid_0's l2: 0.0788017\tvalid_0's rmse: 0.280716\n",
            "[63]\tvalid_0's l2: 0.0778456\tvalid_0's rmse: 0.279008\n",
            "[64]\tvalid_0's l2: 0.0769077\tvalid_0's rmse: 0.277322\n",
            "[65]\tvalid_0's l2: 0.0760059\tvalid_0's rmse: 0.275692\n",
            "[66]\tvalid_0's l2: 0.075116\tvalid_0's rmse: 0.274073\n",
            "[67]\tvalid_0's l2: 0.0742371\tvalid_0's rmse: 0.272465\n",
            "[68]\tvalid_0's l2: 0.0733616\tvalid_0's rmse: 0.270853\n",
            "[69]\tvalid_0's l2: 0.072495\tvalid_0's rmse: 0.269249\n",
            "[70]\tvalid_0's l2: 0.0716669\tvalid_0's rmse: 0.267707\n",
            "[71]\tvalid_0's l2: 0.0707888\tvalid_0's rmse: 0.266062\n",
            "[72]\tvalid_0's l2: 0.0699331\tvalid_0's rmse: 0.264449\n",
            "[73]\tvalid_0's l2: 0.0690896\tvalid_0's rmse: 0.262849\n",
            "[74]\tvalid_0's l2: 0.068268\tvalid_0's rmse: 0.261281\n",
            "[75]\tvalid_0's l2: 0.0674947\tvalid_0's rmse: 0.259798\n",
            "[76]\tvalid_0's l2: 0.0666988\tvalid_0's rmse: 0.258261\n",
            "[77]\tvalid_0's l2: 0.0659537\tvalid_0's rmse: 0.256815\n",
            "[78]\tvalid_0's l2: 0.0651999\tvalid_0's rmse: 0.255343\n",
            "[79]\tvalid_0's l2: 0.064478\tvalid_0's rmse: 0.253925\n",
            "[80]\tvalid_0's l2: 0.0637488\tvalid_0's rmse: 0.252485\n",
            "[81]\tvalid_0's l2: 0.0630292\tvalid_0's rmse: 0.251056\n",
            "[82]\tvalid_0's l2: 0.0623202\tvalid_0's rmse: 0.24964\n",
            "[83]\tvalid_0's l2: 0.0616319\tvalid_0's rmse: 0.248258\n",
            "[84]\tvalid_0's l2: 0.0609449\tvalid_0's rmse: 0.24687\n",
            "[85]\tvalid_0's l2: 0.0602827\tvalid_0's rmse: 0.245525\n",
            "[86]\tvalid_0's l2: 0.0596485\tvalid_0's rmse: 0.24423\n",
            "[87]\tvalid_0's l2: 0.0590076\tvalid_0's rmse: 0.242915\n",
            "[88]\tvalid_0's l2: 0.0583718\tvalid_0's rmse: 0.241603\n",
            "[89]\tvalid_0's l2: 0.0578116\tvalid_0's rmse: 0.24044\n",
            "[90]\tvalid_0's l2: 0.0572136\tvalid_0's rmse: 0.239194\n",
            "[91]\tvalid_0's l2: 0.0566199\tvalid_0's rmse: 0.237949\n",
            "[92]\tvalid_0's l2: 0.0560108\tvalid_0's rmse: 0.236666\n",
            "[93]\tvalid_0's l2: 0.0554418\tvalid_0's rmse: 0.235461\n",
            "[94]\tvalid_0's l2: 0.054846\tvalid_0's rmse: 0.234192\n",
            "[95]\tvalid_0's l2: 0.0543113\tvalid_0's rmse: 0.233048\n",
            "[96]\tvalid_0's l2: 0.0537769\tvalid_0's rmse: 0.231898\n",
            "[97]\tvalid_0's l2: 0.0532503\tvalid_0's rmse: 0.23076\n",
            "[98]\tvalid_0's l2: 0.0527477\tvalid_0's rmse: 0.229669\n",
            "[99]\tvalid_0's l2: 0.0522147\tvalid_0's rmse: 0.228505\n",
            "[100]\tvalid_0's l2: 0.0517237\tvalid_0's rmse: 0.227429\n",
            "[101]\tvalid_0's l2: 0.0512475\tvalid_0's rmse: 0.226379\n",
            "[102]\tvalid_0's l2: 0.0507387\tvalid_0's rmse: 0.225252\n",
            "[103]\tvalid_0's l2: 0.0502538\tvalid_0's rmse: 0.224173\n",
            "[104]\tvalid_0's l2: 0.0497954\tvalid_0's rmse: 0.223149\n",
            "[105]\tvalid_0's l2: 0.049346\tvalid_0's rmse: 0.22214\n",
            "[106]\tvalid_0's l2: 0.0488817\tvalid_0's rmse: 0.221092\n",
            "[107]\tvalid_0's l2: 0.0484255\tvalid_0's rmse: 0.220058\n",
            "[108]\tvalid_0's l2: 0.0480011\tvalid_0's rmse: 0.219092\n",
            "[109]\tvalid_0's l2: 0.0475469\tvalid_0's rmse: 0.218053\n",
            "[110]\tvalid_0's l2: 0.0471366\tvalid_0's rmse: 0.21711\n",
            "[111]\tvalid_0's l2: 0.0467072\tvalid_0's rmse: 0.216119\n",
            "[112]\tvalid_0's l2: 0.0463014\tvalid_0's rmse: 0.215178\n",
            "[113]\tvalid_0's l2: 0.0459129\tvalid_0's rmse: 0.214273\n",
            "[114]\tvalid_0's l2: 0.0454933\tvalid_0's rmse: 0.213292\n",
            "[115]\tvalid_0's l2: 0.0450918\tvalid_0's rmse: 0.212348\n",
            "[116]\tvalid_0's l2: 0.0447116\tvalid_0's rmse: 0.211451\n",
            "[117]\tvalid_0's l2: 0.0443487\tvalid_0's rmse: 0.210591\n",
            "[118]\tvalid_0's l2: 0.0439983\tvalid_0's rmse: 0.209758\n",
            "[119]\tvalid_0's l2: 0.0436114\tvalid_0's rmse: 0.208833\n",
            "[120]\tvalid_0's l2: 0.0432394\tvalid_0's rmse: 0.207941\n",
            "[121]\tvalid_0's l2: 0.0428693\tvalid_0's rmse: 0.207049\n",
            "[122]\tvalid_0's l2: 0.0425367\tvalid_0's rmse: 0.206244\n",
            "[123]\tvalid_0's l2: 0.0422022\tvalid_0's rmse: 0.205432\n",
            "[124]\tvalid_0's l2: 0.0418503\tvalid_0's rmse: 0.204573\n",
            "[125]\tvalid_0's l2: 0.0415223\tvalid_0's rmse: 0.20377\n",
            "[126]\tvalid_0's l2: 0.0412046\tvalid_0's rmse: 0.202989\n",
            "[127]\tvalid_0's l2: 0.0408723\tvalid_0's rmse: 0.202169\n",
            "[128]\tvalid_0's l2: 0.0405458\tvalid_0's rmse: 0.20136\n",
            "[129]\tvalid_0's l2: 0.0402382\tvalid_0's rmse: 0.200594\n",
            "[130]\tvalid_0's l2: 0.0399413\tvalid_0's rmse: 0.199853\n",
            "[131]\tvalid_0's l2: 0.0396329\tvalid_0's rmse: 0.19908\n",
            "[132]\tvalid_0's l2: 0.0393407\tvalid_0's rmse: 0.198345\n",
            "[133]\tvalid_0's l2: 0.0390589\tvalid_0's rmse: 0.197633\n",
            "[134]\tvalid_0's l2: 0.0387583\tvalid_0's rmse: 0.196871\n",
            "[135]\tvalid_0's l2: 0.0384828\tvalid_0's rmse: 0.19617\n",
            "[136]\tvalid_0's l2: 0.0382006\tvalid_0's rmse: 0.19545\n",
            "[137]\tvalid_0's l2: 0.0379381\tvalid_0's rmse: 0.194777\n",
            "[138]\tvalid_0's l2: 0.0376766\tvalid_0's rmse: 0.194105\n",
            "[139]\tvalid_0's l2: 0.0373932\tvalid_0's rmse: 0.193373\n",
            "[140]\tvalid_0's l2: 0.0371295\tvalid_0's rmse: 0.19269\n",
            "[141]\tvalid_0's l2: 0.0368819\tvalid_0's rmse: 0.192047\n",
            "[142]\tvalid_0's l2: 0.0366283\tvalid_0's rmse: 0.191385\n",
            "[143]\tvalid_0's l2: 0.0363959\tvalid_0's rmse: 0.190777\n",
            "[144]\tvalid_0's l2: 0.036144\tvalid_0's rmse: 0.190116\n",
            "[145]\tvalid_0's l2: 0.0358871\tvalid_0's rmse: 0.189439\n",
            "[146]\tvalid_0's l2: 0.0356584\tvalid_0's rmse: 0.188834\n",
            "[147]\tvalid_0's l2: 0.0354311\tvalid_0's rmse: 0.188232\n",
            "[148]\tvalid_0's l2: 0.0352117\tvalid_0's rmse: 0.187648\n",
            "[149]\tvalid_0's l2: 0.0349869\tvalid_0's rmse: 0.187048\n",
            "[150]\tvalid_0's l2: 0.0347429\tvalid_0's rmse: 0.186394\n",
            "[151]\tvalid_0's l2: 0.0345129\tvalid_0's rmse: 0.185776\n",
            "[152]\tvalid_0's l2: 0.0342839\tvalid_0's rmse: 0.185159\n",
            "[153]\tvalid_0's l2: 0.0340798\tvalid_0's rmse: 0.184607\n",
            "[154]\tvalid_0's l2: 0.0338524\tvalid_0's rmse: 0.18399\n",
            "[155]\tvalid_0's l2: 0.033648\tvalid_0's rmse: 0.183434\n",
            "[156]\tvalid_0's l2: 0.033431\tvalid_0's rmse: 0.182841\n",
            "[157]\tvalid_0's l2: 0.0332409\tvalid_0's rmse: 0.182321\n",
            "[158]\tvalid_0's l2: 0.0330325\tvalid_0's rmse: 0.181748\n",
            "[159]\tvalid_0's l2: 0.0328245\tvalid_0's rmse: 0.181175\n",
            "[160]\tvalid_0's l2: 0.0326226\tvalid_0's rmse: 0.180617\n",
            "[161]\tvalid_0's l2: 0.0324373\tvalid_0's rmse: 0.180103\n",
            "[162]\tvalid_0's l2: 0.032241\tvalid_0's rmse: 0.179558\n",
            "[163]\tvalid_0's l2: 0.0320491\tvalid_0's rmse: 0.179023\n",
            "[164]\tvalid_0's l2: 0.031861\tvalid_0's rmse: 0.178497\n",
            "[165]\tvalid_0's l2: 0.0316738\tvalid_0's rmse: 0.177971\n",
            "[166]\tvalid_0's l2: 0.0314911\tvalid_0's rmse: 0.177457\n",
            "[167]\tvalid_0's l2: 0.0313087\tvalid_0's rmse: 0.176943\n",
            "[168]\tvalid_0's l2: 0.0311325\tvalid_0's rmse: 0.176444\n",
            "[169]\tvalid_0's l2: 0.0309717\tvalid_0's rmse: 0.175988\n",
            "[170]\tvalid_0's l2: 0.030802\tvalid_0's rmse: 0.175505\n",
            "[171]\tvalid_0's l2: 0.0306328\tvalid_0's rmse: 0.175022\n",
            "[172]\tvalid_0's l2: 0.0304751\tvalid_0's rmse: 0.174571\n",
            "[173]\tvalid_0's l2: 0.0303044\tvalid_0's rmse: 0.174082\n",
            "[174]\tvalid_0's l2: 0.0301512\tvalid_0's rmse: 0.173641\n",
            "[175]\tvalid_0's l2: 0.0299877\tvalid_0's rmse: 0.17317\n",
            "[176]\tvalid_0's l2: 0.0298344\tvalid_0's rmse: 0.172726\n",
            "[177]\tvalid_0's l2: 0.0296823\tvalid_0's rmse: 0.172285\n",
            "[178]\tvalid_0's l2: 0.0295292\tvalid_0's rmse: 0.171841\n",
            "[179]\tvalid_0's l2: 0.029376\tvalid_0's rmse: 0.171394\n",
            "[180]\tvalid_0's l2: 0.0292325\tvalid_0's rmse: 0.170975\n",
            "[181]\tvalid_0's l2: 0.0290944\tvalid_0's rmse: 0.170571\n",
            "[182]\tvalid_0's l2: 0.0289491\tvalid_0's rmse: 0.170144\n",
            "[183]\tvalid_0's l2: 0.0288105\tvalid_0's rmse: 0.169736\n",
            "[184]\tvalid_0's l2: 0.0286775\tvalid_0's rmse: 0.169344\n",
            "[185]\tvalid_0's l2: 0.0285381\tvalid_0's rmse: 0.168932\n",
            "[186]\tvalid_0's l2: 0.0284065\tvalid_0's rmse: 0.168542\n",
            "[187]\tvalid_0's l2: 0.0282763\tvalid_0's rmse: 0.168155\n",
            "[188]\tvalid_0's l2: 0.0281491\tvalid_0's rmse: 0.167777\n",
            "[189]\tvalid_0's l2: 0.0280291\tvalid_0's rmse: 0.167419\n",
            "[190]\tvalid_0's l2: 0.0279099\tvalid_0's rmse: 0.167063\n",
            "[191]\tvalid_0's l2: 0.0277898\tvalid_0's rmse: 0.166703\n",
            "[192]\tvalid_0's l2: 0.0276827\tvalid_0's rmse: 0.166381\n",
            "[193]\tvalid_0's l2: 0.0275764\tvalid_0's rmse: 0.166061\n",
            "[194]\tvalid_0's l2: 0.0274621\tvalid_0's rmse: 0.165717\n",
            "[195]\tvalid_0's l2: 0.0273543\tvalid_0's rmse: 0.165391\n",
            "[196]\tvalid_0's l2: 0.027254\tvalid_0's rmse: 0.165088\n",
            "[197]\tvalid_0's l2: 0.0271425\tvalid_0's rmse: 0.16475\n",
            "[198]\tvalid_0's l2: 0.0270391\tvalid_0's rmse: 0.164436\n",
            "[199]\tvalid_0's l2: 0.0269344\tvalid_0's rmse: 0.164117\n",
            "[200]\tvalid_0's l2: 0.0268284\tvalid_0's rmse: 0.163794\n",
            "[201]\tvalid_0's l2: 0.0267264\tvalid_0's rmse: 0.163482\n",
            "[202]\tvalid_0's l2: 0.0266207\tvalid_0's rmse: 0.163159\n",
            "[203]\tvalid_0's l2: 0.026521\tvalid_0's rmse: 0.162853\n",
            "[204]\tvalid_0's l2: 0.0264189\tvalid_0's rmse: 0.162539\n",
            "[205]\tvalid_0's l2: 0.0263314\tvalid_0's rmse: 0.162269\n",
            "[206]\tvalid_0's l2: 0.0262321\tvalid_0's rmse: 0.161963\n",
            "[207]\tvalid_0's l2: 0.0261327\tvalid_0's rmse: 0.161656\n",
            "[208]\tvalid_0's l2: 0.026038\tvalid_0's rmse: 0.161363\n",
            "[209]\tvalid_0's l2: 0.0259536\tvalid_0's rmse: 0.161101\n",
            "[210]\tvalid_0's l2: 0.0258591\tvalid_0's rmse: 0.160808\n",
            "[211]\tvalid_0's l2: 0.0257744\tvalid_0's rmse: 0.160544\n",
            "[212]\tvalid_0's l2: 0.025686\tvalid_0's rmse: 0.160269\n",
            "[213]\tvalid_0's l2: 0.0256056\tvalid_0's rmse: 0.160017\n",
            "[214]\tvalid_0's l2: 0.025539\tvalid_0's rmse: 0.159809\n",
            "[215]\tvalid_0's l2: 0.0254495\tvalid_0's rmse: 0.159529\n",
            "[216]\tvalid_0's l2: 0.0253803\tvalid_0's rmse: 0.159312\n",
            "[217]\tvalid_0's l2: 0.0252932\tvalid_0's rmse: 0.159038\n",
            "[218]\tvalid_0's l2: 0.0252185\tvalid_0's rmse: 0.158803\n",
            "[219]\tvalid_0's l2: 0.0251351\tvalid_0's rmse: 0.158541\n",
            "[220]\tvalid_0's l2: 0.0250752\tvalid_0's rmse: 0.158352\n",
            "[221]\tvalid_0's l2: 0.0249954\tvalid_0's rmse: 0.158099\n",
            "[222]\tvalid_0's l2: 0.0249279\tvalid_0's rmse: 0.157886\n",
            "[223]\tvalid_0's l2: 0.0248676\tvalid_0's rmse: 0.157694\n",
            "[224]\tvalid_0's l2: 0.0247911\tvalid_0's rmse: 0.157452\n",
            "[225]\tvalid_0's l2: 0.0247133\tvalid_0's rmse: 0.157205\n",
            "[226]\tvalid_0's l2: 0.0246494\tvalid_0's rmse: 0.157001\n",
            "[227]\tvalid_0's l2: 0.0245756\tvalid_0's rmse: 0.156766\n",
            "[228]\tvalid_0's l2: 0.0245136\tvalid_0's rmse: 0.156568\n",
            "[229]\tvalid_0's l2: 0.0244514\tvalid_0's rmse: 0.156369\n",
            "[230]\tvalid_0's l2: 0.0243935\tvalid_0's rmse: 0.156184\n",
            "[231]\tvalid_0's l2: 0.0243327\tvalid_0's rmse: 0.15599\n",
            "[232]\tvalid_0's l2: 0.0242442\tvalid_0's rmse: 0.155705\n",
            "[233]\tvalid_0's l2: 0.0241903\tvalid_0's rmse: 0.155532\n",
            "[234]\tvalid_0's l2: 0.0241231\tvalid_0's rmse: 0.155316\n",
            "[235]\tvalid_0's l2: 0.0240522\tvalid_0's rmse: 0.155088\n",
            "[236]\tvalid_0's l2: 0.0240054\tvalid_0's rmse: 0.154937\n",
            "[237]\tvalid_0's l2: 0.0239509\tvalid_0's rmse: 0.154761\n",
            "[238]\tvalid_0's l2: 0.023889\tvalid_0's rmse: 0.154561\n",
            "[239]\tvalid_0's l2: 0.0238258\tvalid_0's rmse: 0.154356\n",
            "[240]\tvalid_0's l2: 0.0237746\tvalid_0's rmse: 0.15419\n",
            "[241]\tvalid_0's l2: 0.0237081\tvalid_0's rmse: 0.153974\n",
            "[242]\tvalid_0's l2: 0.0236498\tvalid_0's rmse: 0.153785\n",
            "[243]\tvalid_0's l2: 0.0235896\tvalid_0's rmse: 0.153589\n",
            "[244]\tvalid_0's l2: 0.0235334\tvalid_0's rmse: 0.153406\n",
            "[245]\tvalid_0's l2: 0.0234785\tvalid_0's rmse: 0.153227\n",
            "[246]\tvalid_0's l2: 0.023431\tvalid_0's rmse: 0.153072\n",
            "[247]\tvalid_0's l2: 0.0233848\tvalid_0's rmse: 0.152921\n",
            "[248]\tvalid_0's l2: 0.0233249\tvalid_0's rmse: 0.152725\n",
            "[249]\tvalid_0's l2: 0.0232775\tvalid_0's rmse: 0.15257\n",
            "[250]\tvalid_0's l2: 0.0232247\tvalid_0's rmse: 0.152396\n",
            "[251]\tvalid_0's l2: 0.0231713\tvalid_0's rmse: 0.152221\n",
            "[252]\tvalid_0's l2: 0.0231208\tvalid_0's rmse: 0.152055\n",
            "[253]\tvalid_0's l2: 0.0230745\tvalid_0's rmse: 0.151903\n",
            "[254]\tvalid_0's l2: 0.0230317\tvalid_0's rmse: 0.151762\n",
            "[255]\tvalid_0's l2: 0.0229921\tvalid_0's rmse: 0.151631\n",
            "[256]\tvalid_0's l2: 0.0229477\tvalid_0's rmse: 0.151485\n",
            "[257]\tvalid_0's l2: 0.022908\tvalid_0's rmse: 0.151354\n",
            "[258]\tvalid_0's l2: 0.0228712\tvalid_0's rmse: 0.151232\n",
            "[259]\tvalid_0's l2: 0.0228416\tvalid_0's rmse: 0.151134\n",
            "[260]\tvalid_0's l2: 0.0227986\tvalid_0's rmse: 0.150992\n",
            "[261]\tvalid_0's l2: 0.0227566\tvalid_0's rmse: 0.150853\n",
            "[262]\tvalid_0's l2: 0.0227231\tvalid_0's rmse: 0.150742\n",
            "[263]\tvalid_0's l2: 0.0226726\tvalid_0's rmse: 0.150574\n",
            "[264]\tvalid_0's l2: 0.0226401\tvalid_0's rmse: 0.150466\n",
            "[265]\tvalid_0's l2: 0.0225904\tvalid_0's rmse: 0.150301\n",
            "[266]\tvalid_0's l2: 0.0225631\tvalid_0's rmse: 0.15021\n",
            "[267]\tvalid_0's l2: 0.0225245\tvalid_0's rmse: 0.150082\n",
            "[268]\tvalid_0's l2: 0.0224803\tvalid_0's rmse: 0.149934\n",
            "[269]\tvalid_0's l2: 0.022441\tvalid_0's rmse: 0.149803\n",
            "[270]\tvalid_0's l2: 0.0224205\tvalid_0's rmse: 0.149735\n",
            "[271]\tvalid_0's l2: 0.0223946\tvalid_0's rmse: 0.149648\n",
            "[272]\tvalid_0's l2: 0.0223584\tvalid_0's rmse: 0.149527\n",
            "[273]\tvalid_0's l2: 0.022325\tvalid_0's rmse: 0.149415\n",
            "[274]\tvalid_0's l2: 0.0222983\tvalid_0's rmse: 0.149326\n",
            "[275]\tvalid_0's l2: 0.022254\tvalid_0's rmse: 0.149178\n",
            "[276]\tvalid_0's l2: 0.0222166\tvalid_0's rmse: 0.149052\n",
            "[277]\tvalid_0's l2: 0.0221942\tvalid_0's rmse: 0.148977\n",
            "[278]\tvalid_0's l2: 0.0221642\tvalid_0's rmse: 0.148876\n",
            "[279]\tvalid_0's l2: 0.0221351\tvalid_0's rmse: 0.148779\n",
            "[280]\tvalid_0's l2: 0.0221109\tvalid_0's rmse: 0.148697\n",
            "[281]\tvalid_0's l2: 0.0220751\tvalid_0's rmse: 0.148577\n",
            "[282]\tvalid_0's l2: 0.0220458\tvalid_0's rmse: 0.148478\n",
            "[283]\tvalid_0's l2: 0.0220265\tvalid_0's rmse: 0.148413\n",
            "[284]\tvalid_0's l2: 0.0219987\tvalid_0's rmse: 0.14832\n",
            "[285]\tvalid_0's l2: 0.0219573\tvalid_0's rmse: 0.14818\n",
            "[286]\tvalid_0's l2: 0.021928\tvalid_0's rmse: 0.148081\n",
            "[287]\tvalid_0's l2: 0.0219013\tvalid_0's rmse: 0.147991\n",
            "[288]\tvalid_0's l2: 0.0218783\tvalid_0's rmse: 0.147913\n",
            "[289]\tvalid_0's l2: 0.0218404\tvalid_0's rmse: 0.147785\n",
            "[290]\tvalid_0's l2: 0.021814\tvalid_0's rmse: 0.147696\n",
            "[291]\tvalid_0's l2: 0.0217815\tvalid_0's rmse: 0.147586\n",
            "[292]\tvalid_0's l2: 0.0217551\tvalid_0's rmse: 0.147496\n",
            "[293]\tvalid_0's l2: 0.0217215\tvalid_0's rmse: 0.147382\n",
            "[294]\tvalid_0's l2: 0.0216927\tvalid_0's rmse: 0.147285\n",
            "[295]\tvalid_0's l2: 0.0216641\tvalid_0's rmse: 0.147187\n",
            "[296]\tvalid_0's l2: 0.021628\tvalid_0's rmse: 0.147065\n",
            "[297]\tvalid_0's l2: 0.021612\tvalid_0's rmse: 0.14701\n",
            "[298]\tvalid_0's l2: 0.0215879\tvalid_0's rmse: 0.146928\n",
            "[299]\tvalid_0's l2: 0.0215731\tvalid_0's rmse: 0.146878\n",
            "[300]\tvalid_0's l2: 0.0215376\tvalid_0's rmse: 0.146757\n",
            "[301]\tvalid_0's l2: 0.0215076\tvalid_0's rmse: 0.146655\n",
            "[302]\tvalid_0's l2: 0.021471\tvalid_0's rmse: 0.14653\n",
            "[303]\tvalid_0's l2: 0.0214545\tvalid_0's rmse: 0.146473\n",
            "[304]\tvalid_0's l2: 0.0214193\tvalid_0's rmse: 0.146353\n",
            "[305]\tvalid_0's l2: 0.0213918\tvalid_0's rmse: 0.146259\n",
            "[306]\tvalid_0's l2: 0.0213706\tvalid_0's rmse: 0.146187\n",
            "[307]\tvalid_0's l2: 0.0213526\tvalid_0's rmse: 0.146125\n",
            "[308]\tvalid_0's l2: 0.0213343\tvalid_0's rmse: 0.146063\n",
            "[309]\tvalid_0's l2: 0.0213145\tvalid_0's rmse: 0.145995\n",
            "[310]\tvalid_0's l2: 0.0212969\tvalid_0's rmse: 0.145935\n",
            "[311]\tvalid_0's l2: 0.0212786\tvalid_0's rmse: 0.145872\n",
            "[312]\tvalid_0's l2: 0.0212657\tvalid_0's rmse: 0.145828\n",
            "[313]\tvalid_0's l2: 0.0212492\tvalid_0's rmse: 0.145771\n",
            "[314]\tvalid_0's l2: 0.0212325\tvalid_0's rmse: 0.145714\n",
            "[315]\tvalid_0's l2: 0.0212101\tvalid_0's rmse: 0.145637\n",
            "[316]\tvalid_0's l2: 0.0211799\tvalid_0's rmse: 0.145533\n",
            "[317]\tvalid_0's l2: 0.0211587\tvalid_0's rmse: 0.14546\n",
            "[318]\tvalid_0's l2: 0.0211433\tvalid_0's rmse: 0.145407\n",
            "[319]\tvalid_0's l2: 0.0211228\tvalid_0's rmse: 0.145337\n",
            "[320]\tvalid_0's l2: 0.0211113\tvalid_0's rmse: 0.145297\n",
            "[321]\tvalid_0's l2: 0.021097\tvalid_0's rmse: 0.145248\n",
            "[322]\tvalid_0's l2: 0.0210787\tvalid_0's rmse: 0.145185\n",
            "[323]\tvalid_0's l2: 0.0210555\tvalid_0's rmse: 0.145105\n",
            "[324]\tvalid_0's l2: 0.0210273\tvalid_0's rmse: 0.145008\n",
            "[325]\tvalid_0's l2: 0.0210172\tvalid_0's rmse: 0.144973\n",
            "[326]\tvalid_0's l2: 0.0209937\tvalid_0's rmse: 0.144892\n",
            "[327]\tvalid_0's l2: 0.0209727\tvalid_0's rmse: 0.14482\n",
            "[328]\tvalid_0's l2: 0.02095\tvalid_0's rmse: 0.144741\n",
            "[329]\tvalid_0's l2: 0.0209407\tvalid_0's rmse: 0.144709\n",
            "[330]\tvalid_0's l2: 0.0209232\tvalid_0's rmse: 0.144648\n",
            "[331]\tvalid_0's l2: 0.0209128\tvalid_0's rmse: 0.144613\n",
            "[332]\tvalid_0's l2: 0.0208894\tvalid_0's rmse: 0.144532\n",
            "[333]\tvalid_0's l2: 0.0208862\tvalid_0's rmse: 0.14452\n",
            "[334]\tvalid_0's l2: 0.0208775\tvalid_0's rmse: 0.144491\n",
            "[335]\tvalid_0's l2: 0.0208577\tvalid_0's rmse: 0.144422\n",
            "[336]\tvalid_0's l2: 0.0208413\tvalid_0's rmse: 0.144365\n",
            "[337]\tvalid_0's l2: 0.0208321\tvalid_0's rmse: 0.144333\n",
            "[338]\tvalid_0's l2: 0.0208245\tvalid_0's rmse: 0.144307\n",
            "[339]\tvalid_0's l2: 0.0208127\tvalid_0's rmse: 0.144266\n",
            "[340]\tvalid_0's l2: 0.0208045\tvalid_0's rmse: 0.144238\n",
            "[341]\tvalid_0's l2: 0.0208004\tvalid_0's rmse: 0.144223\n",
            "[342]\tvalid_0's l2: 0.0207858\tvalid_0's rmse: 0.144173\n",
            "[343]\tvalid_0's l2: 0.0207766\tvalid_0's rmse: 0.144141\n",
            "[344]\tvalid_0's l2: 0.0207611\tvalid_0's rmse: 0.144087\n",
            "[345]\tvalid_0's l2: 0.0207628\tvalid_0's rmse: 0.144093\n",
            "[346]\tvalid_0's l2: 0.020748\tvalid_0's rmse: 0.144042\n",
            "[347]\tvalid_0's l2: 0.02075\tvalid_0's rmse: 0.144049\n",
            "[348]\tvalid_0's l2: 0.0207322\tvalid_0's rmse: 0.143987\n",
            "[349]\tvalid_0's l2: 0.0207127\tvalid_0's rmse: 0.143919\n",
            "[350]\tvalid_0's l2: 0.0206994\tvalid_0's rmse: 0.143873\n",
            "[351]\tvalid_0's l2: 0.020702\tvalid_0's rmse: 0.143882\n",
            "[352]\tvalid_0's l2: 0.0206868\tvalid_0's rmse: 0.143829\n",
            "[353]\tvalid_0's l2: 0.0206805\tvalid_0's rmse: 0.143807\n",
            "[354]\tvalid_0's l2: 0.0206723\tvalid_0's rmse: 0.143779\n",
            "[355]\tvalid_0's l2: 0.020663\tvalid_0's rmse: 0.143746\n",
            "[356]\tvalid_0's l2: 0.0206548\tvalid_0's rmse: 0.143718\n",
            "[357]\tvalid_0's l2: 0.0206444\tvalid_0's rmse: 0.143682\n",
            "[358]\tvalid_0's l2: 0.0206405\tvalid_0's rmse: 0.143668\n",
            "[359]\tvalid_0's l2: 0.0206312\tvalid_0's rmse: 0.143636\n",
            "[360]\tvalid_0's l2: 0.0206219\tvalid_0's rmse: 0.143603\n",
            "[361]\tvalid_0's l2: 0.0206127\tvalid_0's rmse: 0.143571\n",
            "[362]\tvalid_0's l2: 0.0206047\tvalid_0's rmse: 0.143543\n",
            "[363]\tvalid_0's l2: 0.0205928\tvalid_0's rmse: 0.143502\n",
            "[364]\tvalid_0's l2: 0.0205893\tvalid_0's rmse: 0.14349\n",
            "[365]\tvalid_0's l2: 0.0205871\tvalid_0's rmse: 0.143482\n",
            "[366]\tvalid_0's l2: 0.0205841\tvalid_0's rmse: 0.143472\n",
            "[367]\tvalid_0's l2: 0.0205785\tvalid_0's rmse: 0.143452\n",
            "[368]\tvalid_0's l2: 0.0205674\tvalid_0's rmse: 0.143414\n",
            "[369]\tvalid_0's l2: 0.0205669\tvalid_0's rmse: 0.143412\n",
            "[370]\tvalid_0's l2: 0.0205611\tvalid_0's rmse: 0.143391\n",
            "[371]\tvalid_0's l2: 0.0205583\tvalid_0's rmse: 0.143382\n",
            "[372]\tvalid_0's l2: 0.0205518\tvalid_0's rmse: 0.143359\n",
            "[373]\tvalid_0's l2: 0.0205374\tvalid_0's rmse: 0.143309\n",
            "[374]\tvalid_0's l2: 0.0205397\tvalid_0's rmse: 0.143317\n",
            "[375]\tvalid_0's l2: 0.0205231\tvalid_0's rmse: 0.143259\n",
            "[376]\tvalid_0's l2: 0.0205094\tvalid_0's rmse: 0.143211\n",
            "[377]\tvalid_0's l2: 0.0205071\tvalid_0's rmse: 0.143203\n",
            "[378]\tvalid_0's l2: 0.0204912\tvalid_0's rmse: 0.143147\n",
            "[379]\tvalid_0's l2: 0.020487\tvalid_0's rmse: 0.143133\n",
            "[380]\tvalid_0's l2: 0.0204837\tvalid_0's rmse: 0.143121\n",
            "[381]\tvalid_0's l2: 0.0204785\tvalid_0's rmse: 0.143103\n",
            "[382]\tvalid_0's l2: 0.0204632\tvalid_0's rmse: 0.14305\n",
            "[383]\tvalid_0's l2: 0.0204503\tvalid_0's rmse: 0.143004\n",
            "[384]\tvalid_0's l2: 0.0204334\tvalid_0's rmse: 0.142945\n",
            "[385]\tvalid_0's l2: 0.020427\tvalid_0's rmse: 0.142923\n",
            "[386]\tvalid_0's l2: 0.0204239\tvalid_0's rmse: 0.142912\n",
            "[387]\tvalid_0's l2: 0.0204071\tvalid_0's rmse: 0.142853\n",
            "[388]\tvalid_0's l2: 0.0203951\tvalid_0's rmse: 0.142812\n",
            "[389]\tvalid_0's l2: 0.0203795\tvalid_0's rmse: 0.142757\n",
            "[390]\tvalid_0's l2: 0.0203688\tvalid_0's rmse: 0.142719\n",
            "[391]\tvalid_0's l2: 0.0203528\tvalid_0's rmse: 0.142663\n",
            "[392]\tvalid_0's l2: 0.0203424\tvalid_0's rmse: 0.142627\n",
            "[393]\tvalid_0's l2: 0.020328\tvalid_0's rmse: 0.142576\n",
            "[394]\tvalid_0's l2: 0.0203172\tvalid_0's rmse: 0.142538\n",
            "[395]\tvalid_0's l2: 0.020311\tvalid_0's rmse: 0.142517\n",
            "[396]\tvalid_0's l2: 0.0202966\tvalid_0's rmse: 0.142466\n",
            "[397]\tvalid_0's l2: 0.0202882\tvalid_0's rmse: 0.142437\n",
            "[398]\tvalid_0's l2: 0.0202742\tvalid_0's rmse: 0.142387\n",
            "[399]\tvalid_0's l2: 0.0202631\tvalid_0's rmse: 0.142348\n",
            "[400]\tvalid_0's l2: 0.0202491\tvalid_0's rmse: 0.142299\n",
            "[401]\tvalid_0's l2: 0.0202534\tvalid_0's rmse: 0.142314\n",
            "[402]\tvalid_0's l2: 0.0202511\tvalid_0's rmse: 0.142306\n",
            "[403]\tvalid_0's l2: 0.0202409\tvalid_0's rmse: 0.142271\n",
            "[404]\tvalid_0's l2: 0.0202391\tvalid_0's rmse: 0.142264\n",
            "[405]\tvalid_0's l2: 0.0202439\tvalid_0's rmse: 0.142281\n",
            "[406]\tvalid_0's l2: 0.020242\tvalid_0's rmse: 0.142274\n",
            "[407]\tvalid_0's l2: 0.0202405\tvalid_0's rmse: 0.142269\n",
            "[408]\tvalid_0's l2: 0.0202438\tvalid_0's rmse: 0.142281\n",
            "[409]\tvalid_0's l2: 0.020238\tvalid_0's rmse: 0.14226\n",
            "[410]\tvalid_0's l2: 0.020233\tvalid_0's rmse: 0.142243\n",
            "[411]\tvalid_0's l2: 0.0202307\tvalid_0's rmse: 0.142235\n",
            "[412]\tvalid_0's l2: 0.0202287\tvalid_0's rmse: 0.142228\n",
            "[413]\tvalid_0's l2: 0.020225\tvalid_0's rmse: 0.142215\n",
            "[414]\tvalid_0's l2: 0.0202152\tvalid_0's rmse: 0.14218\n",
            "[415]\tvalid_0's l2: 0.0202134\tvalid_0's rmse: 0.142174\n",
            "[416]\tvalid_0's l2: 0.0202106\tvalid_0's rmse: 0.142164\n",
            "[417]\tvalid_0's l2: 0.0202068\tvalid_0's rmse: 0.142151\n",
            "[418]\tvalid_0's l2: 0.0202024\tvalid_0's rmse: 0.142135\n",
            "[419]\tvalid_0's l2: 0.0201997\tvalid_0's rmse: 0.142126\n",
            "[420]\tvalid_0's l2: 0.0201957\tvalid_0's rmse: 0.142112\n",
            "[421]\tvalid_0's l2: 0.0201937\tvalid_0's rmse: 0.142105\n",
            "[422]\tvalid_0's l2: 0.0201866\tvalid_0's rmse: 0.14208\n",
            "[423]\tvalid_0's l2: 0.0201861\tvalid_0's rmse: 0.142078\n",
            "[424]\tvalid_0's l2: 0.0201736\tvalid_0's rmse: 0.142034\n",
            "[425]\tvalid_0's l2: 0.0201723\tvalid_0's rmse: 0.142029\n",
            "[426]\tvalid_0's l2: 0.0201606\tvalid_0's rmse: 0.141988\n",
            "[427]\tvalid_0's l2: 0.0201602\tvalid_0's rmse: 0.141987\n",
            "[428]\tvalid_0's l2: 0.0201549\tvalid_0's rmse: 0.141968\n",
            "[429]\tvalid_0's l2: 0.020155\tvalid_0's rmse: 0.141968\n",
            "[430]\tvalid_0's l2: 0.0201447\tvalid_0's rmse: 0.141932\n",
            "[431]\tvalid_0's l2: 0.0201474\tvalid_0's rmse: 0.141942\n",
            "[432]\tvalid_0's l2: 0.020138\tvalid_0's rmse: 0.141908\n",
            "[433]\tvalid_0's l2: 0.020139\tvalid_0's rmse: 0.141912\n",
            "[434]\tvalid_0's l2: 0.0201336\tvalid_0's rmse: 0.141893\n",
            "[435]\tvalid_0's l2: 0.0201345\tvalid_0's rmse: 0.141896\n",
            "[436]\tvalid_0's l2: 0.0201258\tvalid_0's rmse: 0.141866\n",
            "[437]\tvalid_0's l2: 0.0201164\tvalid_0's rmse: 0.141832\n",
            "[438]\tvalid_0's l2: 0.0201186\tvalid_0's rmse: 0.14184\n",
            "[439]\tvalid_0's l2: 0.0201094\tvalid_0's rmse: 0.141808\n",
            "[440]\tvalid_0's l2: 0.0201061\tvalid_0's rmse: 0.141796\n",
            "[441]\tvalid_0's l2: 0.0201008\tvalid_0's rmse: 0.141777\n",
            "[442]\tvalid_0's l2: 0.0200909\tvalid_0's rmse: 0.141743\n",
            "[443]\tvalid_0's l2: 0.0200882\tvalid_0's rmse: 0.141733\n",
            "[444]\tvalid_0's l2: 0.0200865\tvalid_0's rmse: 0.141727\n",
            "[445]\tvalid_0's l2: 0.0200837\tvalid_0's rmse: 0.141717\n",
            "[446]\tvalid_0's l2: 0.0200836\tvalid_0's rmse: 0.141717\n",
            "[447]\tvalid_0's l2: 0.0200819\tvalid_0's rmse: 0.141711\n",
            "[448]\tvalid_0's l2: 0.0200776\tvalid_0's rmse: 0.141695\n",
            "[449]\tvalid_0's l2: 0.0200794\tvalid_0's rmse: 0.141702\n",
            "[450]\tvalid_0's l2: 0.0200727\tvalid_0's rmse: 0.141678\n",
            "[451]\tvalid_0's l2: 0.0200614\tvalid_0's rmse: 0.141638\n",
            "[452]\tvalid_0's l2: 0.0200596\tvalid_0's rmse: 0.141632\n",
            "[453]\tvalid_0's l2: 0.0200521\tvalid_0's rmse: 0.141606\n",
            "[454]\tvalid_0's l2: 0.0200513\tvalid_0's rmse: 0.141603\n",
            "[455]\tvalid_0's l2: 0.0200459\tvalid_0's rmse: 0.141583\n",
            "[456]\tvalid_0's l2: 0.0200466\tvalid_0's rmse: 0.141586\n",
            "[457]\tvalid_0's l2: 0.0200358\tvalid_0's rmse: 0.141548\n",
            "[458]\tvalid_0's l2: 0.0200299\tvalid_0's rmse: 0.141527\n",
            "[459]\tvalid_0's l2: 0.0200318\tvalid_0's rmse: 0.141534\n",
            "[460]\tvalid_0's l2: 0.0200268\tvalid_0's rmse: 0.141516\n",
            "[461]\tvalid_0's l2: 0.0200223\tvalid_0's rmse: 0.1415\n",
            "[462]\tvalid_0's l2: 0.0200239\tvalid_0's rmse: 0.141506\n",
            "[463]\tvalid_0's l2: 0.0200235\tvalid_0's rmse: 0.141504\n",
            "[464]\tvalid_0's l2: 0.0200263\tvalid_0's rmse: 0.141514\n",
            "[465]\tvalid_0's l2: 0.0200159\tvalid_0's rmse: 0.141477\n",
            "[466]\tvalid_0's l2: 0.020009\tvalid_0's rmse: 0.141453\n",
            "[467]\tvalid_0's l2: 0.0199988\tvalid_0's rmse: 0.141417\n",
            "[468]\tvalid_0's l2: 0.0200026\tvalid_0's rmse: 0.141431\n",
            "[469]\tvalid_0's l2: 0.0200057\tvalid_0's rmse: 0.141441\n",
            "[470]\tvalid_0's l2: 0.0200072\tvalid_0's rmse: 0.141447\n",
            "[471]\tvalid_0's l2: 0.0200052\tvalid_0's rmse: 0.14144\n",
            "[472]\tvalid_0's l2: 0.020006\tvalid_0's rmse: 0.141442\n",
            "[473]\tvalid_0's l2: 0.0200037\tvalid_0's rmse: 0.141434\n",
            "[474]\tvalid_0's l2: 0.0200046\tvalid_0's rmse: 0.141438\n",
            "[475]\tvalid_0's l2: 0.0200052\tvalid_0's rmse: 0.14144\n",
            "[476]\tvalid_0's l2: 0.0199994\tvalid_0's rmse: 0.141419\n",
            "[477]\tvalid_0's l2: 0.0199934\tvalid_0's rmse: 0.141398\n",
            "[478]\tvalid_0's l2: 0.0199945\tvalid_0's rmse: 0.141402\n",
            "[479]\tvalid_0's l2: 0.0199935\tvalid_0's rmse: 0.141398\n",
            "[480]\tvalid_0's l2: 0.0199972\tvalid_0's rmse: 0.141412\n",
            "[481]\tvalid_0's l2: 0.0199958\tvalid_0's rmse: 0.141407\n",
            "[482]\tvalid_0's l2: 0.0199994\tvalid_0's rmse: 0.141419\n",
            "[483]\tvalid_0's l2: 0.0199978\tvalid_0's rmse: 0.141414\n",
            "[484]\tvalid_0's l2: 0.0199962\tvalid_0's rmse: 0.141408\n",
            "[485]\tvalid_0's l2: 0.019997\tvalid_0's rmse: 0.141411\n",
            "[486]\tvalid_0's l2: 0.0199998\tvalid_0's rmse: 0.141421\n",
            "[487]\tvalid_0's l2: 0.0200054\tvalid_0's rmse: 0.14144\n",
            "Early stopping, best iteration is:\n",
            "[477]\tvalid_0's l2: 0.0199934\tvalid_0's rmse: 0.141398\n"
          ],
          "name": "stdout"
        },
        {
          "output_type": "execute_result",
          "data": {
            "text/plain": [
              "LGBMRegressor(boosting_type='gbdt', class_weight=None, colsample_bytree=1.0,\n",
              "              importance_type='split', learning_rate=0.01, max_depth=-1,\n",
              "              min_child_samples=20, min_child_weight=0.001, min_split_gain=0.0,\n",
              "              n_estimators=600, n_jobs=-1, num_leaves=31, objective=None,\n",
              "              random_state=42, reg_alpha=0.0, reg_lambda=0.0, silent=True,\n",
              "              subsample=1.0, subsample_for_bin=200000, subsample_freq=0)"
            ]
          },
          "metadata": {
            "tags": []
          },
          "execution_count": 125
        }
      ]
    },
    {
      "cell_type": "code",
      "metadata": {
        "colab": {
          "base_uri": "https://localhost:8080/"
        },
        "id": "cjw90_GYSNQu",
        "outputId": "3bed75d0-bd55-4c95-e329-47c35b31569c"
      },
      "source": [
        "np.sqrt(mean_squared_log_error(y_true = y_test, \r\n",
        "                               y_pred = np.exp(lgbm_grid.best_estimator_.predict(X_test)) \r\n",
        "                               ))"
      ],
      "execution_count": 126,
      "outputs": [
        {
          "output_type": "execute_result",
          "data": {
            "text/plain": [
              "0.1413965135034849"
            ]
          },
          "metadata": {
            "tags": []
          },
          "execution_count": 126
        }
      ]
    },
    {
      "cell_type": "markdown",
      "metadata": {
        "id": "mUmXB8BLkH2I"
      },
      "source": [
        "### Optimizing other parameters"
      ]
    },
    {
      "cell_type": "code",
      "metadata": {
        "id": "ELckiyYzmLVr"
      },
      "source": [
        ""
      ],
      "execution_count": null,
      "outputs": []
    },
    {
      "cell_type": "code",
      "metadata": {
        "id": "Ixw5VAXUSNJV"
      },
      "source": [
        ""
      ],
      "execution_count": null,
      "outputs": []
    },
    {
      "cell_type": "code",
      "metadata": {
        "id": "nJcunWHUSNCW"
      },
      "source": [
        ""
      ],
      "execution_count": null,
      "outputs": []
    },
    {
      "cell_type": "code",
      "metadata": {
        "id": "9matxxtPmKXY"
      },
      "source": [
        ""
      ],
      "execution_count": null,
      "outputs": []
    },
    {
      "cell_type": "code",
      "metadata": {
        "id": "mdw8NXLYmKUv"
      },
      "source": [
        ""
      ],
      "execution_count": null,
      "outputs": []
    },
    {
      "cell_type": "code",
      "metadata": {
        "id": "ZM17eCi4mKSq"
      },
      "source": [
        ""
      ],
      "execution_count": null,
      "outputs": []
    },
    {
      "cell_type": "code",
      "metadata": {
        "id": "GQHJ2p86mKQ2"
      },
      "source": [
        ""
      ],
      "execution_count": null,
      "outputs": []
    },
    {
      "cell_type": "code",
      "metadata": {
        "id": "sGsfBF_rmKO3"
      },
      "source": [
        ""
      ],
      "execution_count": null,
      "outputs": []
    },
    {
      "cell_type": "code",
      "metadata": {
        "id": "_fVdTZl8mKM9"
      },
      "source": [
        ""
      ],
      "execution_count": null,
      "outputs": []
    },
    {
      "cell_type": "code",
      "metadata": {
        "id": "7GQDZ_I2mKKO"
      },
      "source": [
        ""
      ],
      "execution_count": null,
      "outputs": []
    },
    {
      "cell_type": "code",
      "metadata": {
        "id": "nzA-i_YdmKH4"
      },
      "source": [
        ""
      ],
      "execution_count": null,
      "outputs": []
    },
    {
      "cell_type": "code",
      "metadata": {
        "id": "pSp8zFqRmKGV"
      },
      "source": [
        ""
      ],
      "execution_count": null,
      "outputs": []
    },
    {
      "cell_type": "code",
      "metadata": {
        "id": "4RyLfE7QmJ_4"
      },
      "source": [
        ""
      ],
      "execution_count": null,
      "outputs": []
    }
  ]
}