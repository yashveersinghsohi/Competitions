{
  "nbformat": 4,
  "nbformat_minor": 0,
  "metadata": {
    "colab": {
      "name": "Sub 4 - Boosting.ipynb",
      "provenance": [],
      "toc_visible": true,
      "include_colab_link": true
    },
    "kernelspec": {
      "name": "python3",
      "display_name": "Python 3"
    },
    "accelerator": "GPU"
  },
  "cells": [
    {
      "cell_type": "markdown",
      "metadata": {
        "id": "view-in-github",
        "colab_type": "text"
      },
      "source": [
        "<a href=\"https://colab.research.google.com/github/yashveersinghsohi/Kaggle_Competitions/blob/HousePrice/House%20Prices/Submissions/Sub%204%20-%20Boosting%20and%20Stacking/Sub_4_Boosting.ipynb\" target=\"_parent\"><img src=\"https://colab.research.google.com/assets/colab-badge.svg\" alt=\"Open In Colab\"/></a>"
      ]
    },
    {
      "cell_type": "markdown",
      "metadata": {
        "id": "Zz2AWuNrkUXm"
      },
      "source": [
        "# Second Commit from Colab"
      ]
    },
    {
      "cell_type": "markdown",
      "metadata": {
        "id": "-k_4E-ALoaz-"
      },
      "source": [
        "# Importing Required Packages"
      ]
    },
    {
      "cell_type": "code",
      "metadata": {
        "id": "DE4X5VXOoWWZ"
      },
      "source": [
        "import warnings\r\n",
        "warnings.filterwarnings(\"ignore\")\r\n",
        "\r\n",
        "import pandas as pd\r\n",
        "import numpy as np\r\n",
        "\r\n",
        "import matplotlib.pyplot as plt\r\n",
        "import seaborn as sns\r\n",
        "\r\n",
        "from sklearn.model_selection import train_test_split\r\n",
        "from sklearn.metrics import mean_squared_log_error\r\n",
        "from sklearn.model_selection import GridSearchCV\r\n",
        "\r\n",
        "from sklearn.pipeline import Pipeline, make_pipeline\r\n",
        "from sklearn.preprocessing import RobustScaler\r\n",
        "\r\n",
        "from sklearn.linear_model import LinearRegression, Lasso, Ridge\r\n",
        "from sklearn.ensemble import BaggingRegressor\r\n",
        "\r\n",
        "from sklearn.ensemble import AdaBoostRegressor\r\n",
        "from sklearn.ensemble import GradientBoostingRegressor\r\n",
        "import xgboost as xgb\r\n",
        "import lightgbm as lgb\r\n",
        "from sklearn.ensemble import StackingRegressor"
      ],
      "execution_count": 2,
      "outputs": []
    },
    {
      "cell_type": "markdown",
      "metadata": {
        "id": "6giVl1dkpWR5"
      },
      "source": [
        "#  Reading Data"
      ]
    },
    {
      "cell_type": "code",
      "metadata": {
        "id": "Dgun-KiNogH6"
      },
      "source": [
        "# url = \"https://raw.githubusercontent.com/yashveersinghsohi/Kaggle_Competitions/HousePrice/House%20Prices/Submissions/Data/\"\r\n",
        "\r\n",
        "# train_df = pd.read_csv(url + \"train.csv\")\r\n",
        "# test_df = pd.read_csv(url + \"test.csv\")\r\n",
        "\r\n",
        "# train_features_df = pd.read_csv(url + \"train_features_df.csv\")\r\n",
        "# test_features_df = pd.read_csv(url + \"test_features_df.csv\")\r\n",
        "\r\n",
        "train_df = pd.read_csv(\"train.csv\")\r\n",
        "test_df = pd.read_csv(\"test.csv\")\r\n",
        "\r\n",
        "train_features_df = pd.read_csv(\"train_features_df.csv\")\r\n",
        "test_features_df = pd.read_csv(\"test_features_df.csv\")"
      ],
      "execution_count": 29,
      "outputs": []
    },
    {
      "cell_type": "code",
      "metadata": {
        "colab": {
          "base_uri": "https://localhost:8080/",
          "height": 224
        },
        "id": "JB1kNBxYpeiy",
        "outputId": "1f7f75d8-84bf-4239-f258-5133494dfd4b"
      },
      "source": [
        "train_features_df.head()"
      ],
      "execution_count": 4,
      "outputs": [
        {
          "output_type": "execute_result",
          "data": {
            "text/html": [
              "<div>\n",
              "<style scoped>\n",
              "    .dataframe tbody tr th:only-of-type {\n",
              "        vertical-align: middle;\n",
              "    }\n",
              "\n",
              "    .dataframe tbody tr th {\n",
              "        vertical-align: top;\n",
              "    }\n",
              "\n",
              "    .dataframe thead th {\n",
              "        text-align: right;\n",
              "    }\n",
              "</style>\n",
              "<table border=\"1\" class=\"dataframe\">\n",
              "  <thead>\n",
              "    <tr style=\"text-align: right;\">\n",
              "      <th></th>\n",
              "      <th>OverallQual</th>\n",
              "      <th>ExterQual</th>\n",
              "      <th>Foundation</th>\n",
              "      <th>BsmtQual</th>\n",
              "      <th>KitchenQual</th>\n",
              "      <th>FireplaceQu</th>\n",
              "      <th>GarageFinish</th>\n",
              "      <th>YearDiff</th>\n",
              "      <th>YearRemodAdd</th>\n",
              "      <th>1stFlrSF</th>\n",
              "      <th>GrLivArea</th>\n",
              "      <th>FullBath</th>\n",
              "      <th>GarageCars</th>\n",
              "      <th>Neighborhood</th>\n",
              "      <th>MasVnrType</th>\n",
              "      <th>HeatingQC</th>\n",
              "      <th>Fireplaces</th>\n",
              "      <th>MasVnrArea</th>\n",
              "      <th>GarageYrBlt</th>\n",
              "      <th>HouseStyle</th>\n",
              "      <th>Exterior1st</th>\n",
              "      <th>Exterior2nd</th>\n",
              "      <th>BsmtExposure</th>\n",
              "      <th>BsmtFinType1</th>\n",
              "      <th>GarageType</th>\n",
              "      <th>OverallCond</th>\n",
              "      <th>LotArea</th>\n",
              "      <th>BsmtFinSF1</th>\n",
              "      <th>LotFrontage</th>\n",
              "      <th>2ndFlrSF</th>\n",
              "      <th>SalePrice</th>\n",
              "      <th>no_garage</th>\n",
              "      <th>is_BsmtFinSF1_0</th>\n",
              "      <th>is_2ndFlrSF_0</th>\n",
              "    </tr>\n",
              "  </thead>\n",
              "  <tbody>\n",
              "    <tr>\n",
              "      <th>0</th>\n",
              "      <td>7</td>\n",
              "      <td>2</td>\n",
              "      <td>6</td>\n",
              "      <td>3</td>\n",
              "      <td>2</td>\n",
              "      <td>1</td>\n",
              "      <td>2</td>\n",
              "      <td>2.472136</td>\n",
              "      <td>87.509776</td>\n",
              "      <td>6.752270</td>\n",
              "      <td>7.444249</td>\n",
              "      <td>2</td>\n",
              "      <td>2</td>\n",
              "      <td>16</td>\n",
              "      <td>2</td>\n",
              "      <td>4</td>\n",
              "      <td>0</td>\n",
              "      <td>196.0</td>\n",
              "      <td>2003</td>\n",
              "      <td>6</td>\n",
              "      <td>11</td>\n",
              "      <td>13</td>\n",
              "      <td>1</td>\n",
              "      <td>6</td>\n",
              "      <td>5</td>\n",
              "      <td>8</td>\n",
              "      <td>9.041922</td>\n",
              "      <td>706</td>\n",
              "      <td>4.174387</td>\n",
              "      <td>854</td>\n",
              "      <td>208500</td>\n",
              "      <td>0</td>\n",
              "      <td>0</td>\n",
              "      <td>0</td>\n",
              "    </tr>\n",
              "    <tr>\n",
              "      <th>1</th>\n",
              "      <td>6</td>\n",
              "      <td>1</td>\n",
              "      <td>3</td>\n",
              "      <td>3</td>\n",
              "      <td>1</td>\n",
              "      <td>3</td>\n",
              "      <td>2</td>\n",
              "      <td>9.135529</td>\n",
              "      <td>86.904443</td>\n",
              "      <td>7.140453</td>\n",
              "      <td>7.140453</td>\n",
              "      <td>2</td>\n",
              "      <td>2</td>\n",
              "      <td>19</td>\n",
              "      <td>1</td>\n",
              "      <td>4</td>\n",
              "      <td>1</td>\n",
              "      <td>0.0</td>\n",
              "      <td>1976</td>\n",
              "      <td>4</td>\n",
              "      <td>6</td>\n",
              "      <td>4</td>\n",
              "      <td>4</td>\n",
              "      <td>4</td>\n",
              "      <td>5</td>\n",
              "      <td>4</td>\n",
              "      <td>9.169518</td>\n",
              "      <td>978</td>\n",
              "      <td>4.382027</td>\n",
              "      <td>0</td>\n",
              "      <td>181500</td>\n",
              "      <td>0</td>\n",
              "      <td>0</td>\n",
              "      <td>1</td>\n",
              "    </tr>\n",
              "    <tr>\n",
              "      <th>2</th>\n",
              "      <td>7</td>\n",
              "      <td>2</td>\n",
              "      <td>6</td>\n",
              "      <td>3</td>\n",
              "      <td>2</td>\n",
              "      <td>3</td>\n",
              "      <td>2</td>\n",
              "      <td>3.291503</td>\n",
              "      <td>87.487429</td>\n",
              "      <td>6.824374</td>\n",
              "      <td>7.487734</td>\n",
              "      <td>2</td>\n",
              "      <td>2</td>\n",
              "      <td>16</td>\n",
              "      <td>2</td>\n",
              "      <td>4</td>\n",
              "      <td>1</td>\n",
              "      <td>162.0</td>\n",
              "      <td>2001</td>\n",
              "      <td>6</td>\n",
              "      <td>11</td>\n",
              "      <td>13</td>\n",
              "      <td>2</td>\n",
              "      <td>6</td>\n",
              "      <td>5</td>\n",
              "      <td>8</td>\n",
              "      <td>9.328123</td>\n",
              "      <td>486</td>\n",
              "      <td>4.219508</td>\n",
              "      <td>866</td>\n",
              "      <td>223500</td>\n",
              "      <td>0</td>\n",
              "      <td>0</td>\n",
              "      <td>0</td>\n",
              "    </tr>\n",
              "    <tr>\n",
              "      <th>3</th>\n",
              "      <td>7</td>\n",
              "      <td>1</td>\n",
              "      <td>2</td>\n",
              "      <td>2</td>\n",
              "      <td>2</td>\n",
              "      <td>4</td>\n",
              "      <td>1</td>\n",
              "      <td>17.078784</td>\n",
              "      <td>86.769364</td>\n",
              "      <td>6.867974</td>\n",
              "      <td>7.448334</td>\n",
              "      <td>1</td>\n",
              "      <td>3</td>\n",
              "      <td>18</td>\n",
              "      <td>1</td>\n",
              "      <td>3</td>\n",
              "      <td>1</td>\n",
              "      <td>0.0</td>\n",
              "      <td>1998</td>\n",
              "      <td>6</td>\n",
              "      <td>5</td>\n",
              "      <td>3</td>\n",
              "      <td>1</td>\n",
              "      <td>4</td>\n",
              "      <td>2</td>\n",
              "      <td>8</td>\n",
              "      <td>9.164296</td>\n",
              "      <td>216</td>\n",
              "      <td>4.094345</td>\n",
              "      <td>756</td>\n",
              "      <td>140000</td>\n",
              "      <td>0</td>\n",
              "      <td>0</td>\n",
              "      <td>0</td>\n",
              "    </tr>\n",
              "    <tr>\n",
              "      <th>4</th>\n",
              "      <td>8</td>\n",
              "      <td>2</td>\n",
              "      <td>6</td>\n",
              "      <td>3</td>\n",
              "      <td>2</td>\n",
              "      <td>3</td>\n",
              "      <td>2</td>\n",
              "      <td>3.656854</td>\n",
              "      <td>87.442719</td>\n",
              "      <td>7.043160</td>\n",
              "      <td>7.695303</td>\n",
              "      <td>2</td>\n",
              "      <td>3</td>\n",
              "      <td>23</td>\n",
              "      <td>2</td>\n",
              "      <td>4</td>\n",
              "      <td>1</td>\n",
              "      <td>350.0</td>\n",
              "      <td>2000</td>\n",
              "      <td>6</td>\n",
              "      <td>11</td>\n",
              "      <td>13</td>\n",
              "      <td>3</td>\n",
              "      <td>6</td>\n",
              "      <td>5</td>\n",
              "      <td>8</td>\n",
              "      <td>9.565214</td>\n",
              "      <td>655</td>\n",
              "      <td>4.430817</td>\n",
              "      <td>1053</td>\n",
              "      <td>250000</td>\n",
              "      <td>0</td>\n",
              "      <td>0</td>\n",
              "      <td>0</td>\n",
              "    </tr>\n",
              "  </tbody>\n",
              "</table>\n",
              "</div>"
            ],
            "text/plain": [
              "   OverallQual  ExterQual  ...  is_BsmtFinSF1_0  is_2ndFlrSF_0\n",
              "0            7          2  ...                0              0\n",
              "1            6          1  ...                0              1\n",
              "2            7          2  ...                0              0\n",
              "3            7          1  ...                0              0\n",
              "4            8          2  ...                0              0\n",
              "\n",
              "[5 rows x 34 columns]"
            ]
          },
          "metadata": {
            "tags": []
          },
          "execution_count": 4
        }
      ]
    },
    {
      "cell_type": "code",
      "metadata": {
        "colab": {
          "base_uri": "https://localhost:8080/",
          "height": 224
        },
        "id": "6ElpXbqWpiVy",
        "outputId": "0a71d82f-41ed-40f9-f140-2245b80e36bd"
      },
      "source": [
        "test_features_df.head()"
      ],
      "execution_count": 5,
      "outputs": [
        {
          "output_type": "execute_result",
          "data": {
            "text/html": [
              "<div>\n",
              "<style scoped>\n",
              "    .dataframe tbody tr th:only-of-type {\n",
              "        vertical-align: middle;\n",
              "    }\n",
              "\n",
              "    .dataframe tbody tr th {\n",
              "        vertical-align: top;\n",
              "    }\n",
              "\n",
              "    .dataframe thead th {\n",
              "        text-align: right;\n",
              "    }\n",
              "</style>\n",
              "<table border=\"1\" class=\"dataframe\">\n",
              "  <thead>\n",
              "    <tr style=\"text-align: right;\">\n",
              "      <th></th>\n",
              "      <th>OverallQual</th>\n",
              "      <th>ExterQual</th>\n",
              "      <th>Foundation</th>\n",
              "      <th>BsmtQual</th>\n",
              "      <th>KitchenQual</th>\n",
              "      <th>FireplaceQu</th>\n",
              "      <th>GarageFinish</th>\n",
              "      <th>YearDiff</th>\n",
              "      <th>YearRemodAdd</th>\n",
              "      <th>1stFlrSF</th>\n",
              "      <th>GrLivArea</th>\n",
              "      <th>FullBath</th>\n",
              "      <th>GarageCars</th>\n",
              "      <th>Neighborhood</th>\n",
              "      <th>MasVnrType</th>\n",
              "      <th>HeatingQC</th>\n",
              "      <th>Fireplaces</th>\n",
              "      <th>MasVnrArea</th>\n",
              "      <th>GarageYrBlt</th>\n",
              "      <th>HouseStyle</th>\n",
              "      <th>Exterior1st</th>\n",
              "      <th>Exterior2nd</th>\n",
              "      <th>BsmtExposure</th>\n",
              "      <th>BsmtFinType1</th>\n",
              "      <th>GarageType</th>\n",
              "      <th>OverallCond</th>\n",
              "      <th>LotArea</th>\n",
              "      <th>BsmtFinSF1</th>\n",
              "      <th>LotFrontage</th>\n",
              "      <th>2ndFlrSF</th>\n",
              "      <th>no_garage</th>\n",
              "      <th>is_BsmtFinSF1_0</th>\n",
              "      <th>is_2ndFlrSF_0</th>\n",
              "    </tr>\n",
              "  </thead>\n",
              "  <tbody>\n",
              "    <tr>\n",
              "      <th>0</th>\n",
              "      <td>5</td>\n",
              "      <td>1</td>\n",
              "      <td>3</td>\n",
              "      <td>2</td>\n",
              "      <td>1</td>\n",
              "      <td>1</td>\n",
              "      <td>1</td>\n",
              "      <td>12.000000</td>\n",
              "      <td>86.566359</td>\n",
              "      <td>6.797940</td>\n",
              "      <td>6.797940</td>\n",
              "      <td>1</td>\n",
              "      <td>1</td>\n",
              "      <td>9</td>\n",
              "      <td>1</td>\n",
              "      <td>2</td>\n",
              "      <td>0</td>\n",
              "      <td>0.0</td>\n",
              "      <td>7.581210</td>\n",
              "      <td>4</td>\n",
              "      <td>11</td>\n",
              "      <td>13</td>\n",
              "      <td>1</td>\n",
              "      <td>3</td>\n",
              "      <td>5</td>\n",
              "      <td>6</td>\n",
              "      <td>9.360655</td>\n",
              "      <td>468.0</td>\n",
              "      <td>4.382027</td>\n",
              "      <td>0</td>\n",
              "      <td>0</td>\n",
              "      <td>0</td>\n",
              "      <td>1</td>\n",
              "    </tr>\n",
              "    <tr>\n",
              "      <th>1</th>\n",
              "      <td>6</td>\n",
              "      <td>1</td>\n",
              "      <td>3</td>\n",
              "      <td>2</td>\n",
              "      <td>2</td>\n",
              "      <td>1</td>\n",
              "      <td>1</td>\n",
              "      <td>12.422205</td>\n",
              "      <td>86.498588</td>\n",
              "      <td>7.192182</td>\n",
              "      <td>7.192182</td>\n",
              "      <td>1</td>\n",
              "      <td>1</td>\n",
              "      <td>9</td>\n",
              "      <td>2</td>\n",
              "      <td>2</td>\n",
              "      <td>0</td>\n",
              "      <td>108.0</td>\n",
              "      <td>7.579679</td>\n",
              "      <td>4</td>\n",
              "      <td>5</td>\n",
              "      <td>2</td>\n",
              "      <td>1</td>\n",
              "      <td>4</td>\n",
              "      <td>5</td>\n",
              "      <td>6</td>\n",
              "      <td>9.565704</td>\n",
              "      <td>923.0</td>\n",
              "      <td>4.394449</td>\n",
              "      <td>0</td>\n",
              "      <td>0</td>\n",
              "      <td>0</td>\n",
              "      <td>1</td>\n",
              "    </tr>\n",
              "    <tr>\n",
              "      <th>2</th>\n",
              "      <td>5</td>\n",
              "      <td>1</td>\n",
              "      <td>6</td>\n",
              "      <td>3</td>\n",
              "      <td>1</td>\n",
              "      <td>3</td>\n",
              "      <td>3</td>\n",
              "      <td>5.211103</td>\n",
              "      <td>87.397987</td>\n",
              "      <td>6.833032</td>\n",
              "      <td>7.395722</td>\n",
              "      <td>2</td>\n",
              "      <td>2</td>\n",
              "      <td>13</td>\n",
              "      <td>1</td>\n",
              "      <td>3</td>\n",
              "      <td>1</td>\n",
              "      <td>0.0</td>\n",
              "      <td>7.599401</td>\n",
              "      <td>6</td>\n",
              "      <td>11</td>\n",
              "      <td>13</td>\n",
              "      <td>1</td>\n",
              "      <td>6</td>\n",
              "      <td>5</td>\n",
              "      <td>5</td>\n",
              "      <td>9.534595</td>\n",
              "      <td>791.0</td>\n",
              "      <td>4.304065</td>\n",
              "      <td>701</td>\n",
              "      <td>0</td>\n",
              "      <td>0</td>\n",
              "      <td>0</td>\n",
              "    </tr>\n",
              "    <tr>\n",
              "      <th>3</th>\n",
              "      <td>6</td>\n",
              "      <td>1</td>\n",
              "      <td>6</td>\n",
              "      <td>2</td>\n",
              "      <td>2</td>\n",
              "      <td>4</td>\n",
              "      <td>3</td>\n",
              "      <td>4.928203</td>\n",
              "      <td>87.397987</td>\n",
              "      <td>6.830874</td>\n",
              "      <td>7.380256</td>\n",
              "      <td>2</td>\n",
              "      <td>2</td>\n",
              "      <td>13</td>\n",
              "      <td>2</td>\n",
              "      <td>4</td>\n",
              "      <td>1</td>\n",
              "      <td>20.0</td>\n",
              "      <td>7.599902</td>\n",
              "      <td>6</td>\n",
              "      <td>11</td>\n",
              "      <td>13</td>\n",
              "      <td>1</td>\n",
              "      <td>6</td>\n",
              "      <td>5</td>\n",
              "      <td>6</td>\n",
              "      <td>9.208138</td>\n",
              "      <td>602.0</td>\n",
              "      <td>4.356709</td>\n",
              "      <td>678</td>\n",
              "      <td>0</td>\n",
              "      <td>0</td>\n",
              "      <td>0</td>\n",
              "    </tr>\n",
              "    <tr>\n",
              "      <th>4</th>\n",
              "      <td>8</td>\n",
              "      <td>2</td>\n",
              "      <td>6</td>\n",
              "      <td>3</td>\n",
              "      <td>2</td>\n",
              "      <td>1</td>\n",
              "      <td>2</td>\n",
              "      <td>6.485281</td>\n",
              "      <td>87.263654</td>\n",
              "      <td>7.154615</td>\n",
              "      <td>7.154615</td>\n",
              "      <td>2</td>\n",
              "      <td>2</td>\n",
              "      <td>22</td>\n",
              "      <td>1</td>\n",
              "      <td>4</td>\n",
              "      <td>0</td>\n",
              "      <td>0.0</td>\n",
              "      <td>7.596894</td>\n",
              "      <td>4</td>\n",
              "      <td>8</td>\n",
              "      <td>8</td>\n",
              "      <td>1</td>\n",
              "      <td>4</td>\n",
              "      <td>5</td>\n",
              "      <td>5</td>\n",
              "      <td>8.518193</td>\n",
              "      <td>263.0</td>\n",
              "      <td>3.761200</td>\n",
              "      <td>0</td>\n",
              "      <td>0</td>\n",
              "      <td>0</td>\n",
              "      <td>1</td>\n",
              "    </tr>\n",
              "  </tbody>\n",
              "</table>\n",
              "</div>"
            ],
            "text/plain": [
              "   OverallQual  ExterQual  ...  is_BsmtFinSF1_0  is_2ndFlrSF_0\n",
              "0            5          1  ...                0              1\n",
              "1            6          1  ...                0              1\n",
              "2            5          1  ...                0              0\n",
              "3            6          1  ...                0              0\n",
              "4            8          2  ...                0              1\n",
              "\n",
              "[5 rows x 33 columns]"
            ]
          },
          "metadata": {
            "tags": []
          },
          "execution_count": 5
        }
      ]
    },
    {
      "cell_type": "markdown",
      "metadata": {
        "id": "a9zjgu1Xpzox"
      },
      "source": [
        "# Train Test Split"
      ]
    },
    {
      "cell_type": "code",
      "metadata": {
        "id": "KN_k4S3Jp1a4"
      },
      "source": [
        "def split_data(df, test_size = 0.2, random_state = 42):\r\n",
        "    X, y = df.drop([\"SalePrice\"], axis = 1), df[\"SalePrice\"]\r\n",
        "    return train_test_split(X, y, test_size = test_size, random_state = random_state)"
      ],
      "execution_count": 6,
      "outputs": []
    },
    {
      "cell_type": "markdown",
      "metadata": {
        "id": "4bmfaTjgp3zE"
      },
      "source": [
        "# Adaboost Regressor"
      ]
    },
    {
      "cell_type": "markdown",
      "metadata": {
        "id": "SkEyDYuXrFzr"
      },
      "source": [
        "## Base AdaBoost Regressor"
      ]
    },
    {
      "cell_type": "markdown",
      "metadata": {
        "id": "1TnDoTvbrCu4"
      },
      "source": [
        "**Model**"
      ]
    },
    {
      "cell_type": "code",
      "metadata": {
        "id": "WxjrVp68p3P6"
      },
      "source": [
        "X_train, X_test, y_train, y_test = split_data(train_features_df)\r\n",
        "ada = AdaBoostRegressor(random_state = 42).fit(X_train, np.log(y_train))\r\n",
        "ada_preds = np.exp(ada.predict(X_test))"
      ],
      "execution_count": 7,
      "outputs": []
    },
    {
      "cell_type": "markdown",
      "metadata": {
        "id": "b88HmGJurEMJ"
      },
      "source": [
        "**RMSLE**"
      ]
    },
    {
      "cell_type": "code",
      "metadata": {
        "colab": {
          "base_uri": "https://localhost:8080/"
        },
        "id": "E13PH6xmqLu_",
        "outputId": "ddd17092-e578-4a02-9acb-6b64e0c6c354"
      },
      "source": [
        "np.sqrt(mean_squared_log_error(y_true = y_test, y_pred  = ada_preds))"
      ],
      "execution_count": 8,
      "outputs": [
        {
          "output_type": "execute_result",
          "data": {
            "text/plain": [
              "0.17253553560633222"
            ]
          },
          "metadata": {
            "tags": []
          },
          "execution_count": 8
        }
      ]
    },
    {
      "cell_type": "markdown",
      "metadata": {
        "id": "SnAI8uXDrCDa"
      },
      "source": [
        "## GridSearchCV"
      ]
    },
    {
      "cell_type": "markdown",
      "metadata": {
        "id": "YlhPZB8BsQtc"
      },
      "source": [
        "**Defining Grid**"
      ]
    },
    {
      "cell_type": "code",
      "metadata": {
        "id": "WULZMSorrLYK"
      },
      "source": [
        "base_ada = AdaBoostRegressor(random_state = 42)\r\n",
        "params = {\r\n",
        "    \"learning_rate\": [0.01, 0.03, 0.1, 0.3, 1, 3, 10],\r\n",
        "    \"n_estimators\": [50, 75, 100, 150, 200, 300, 500, 1000],\r\n",
        "    \"loss\": [\"linear\", \"square\", \"exponential\"]\r\n",
        "}\r\n",
        "\r\n",
        "grid = GridSearchCV(estimator = base_ada, \r\n",
        "                    param_grid = params, \r\n",
        "                    scoring = \"neg_mean_squared_log_error\", \r\n",
        "                    cv = 3, \r\n",
        "                    verbose = 3, \r\n",
        "                    n_jobs = -1)"
      ],
      "execution_count": 9,
      "outputs": []
    },
    {
      "cell_type": "markdown",
      "metadata": {
        "id": "VcR389rNsS7h"
      },
      "source": [
        "**Fitting Grid**"
      ]
    },
    {
      "cell_type": "code",
      "metadata": {
        "colab": {
          "base_uri": "https://localhost:8080/"
        },
        "id": "YXsqnE-KsUCp",
        "outputId": "a5c21ceb-2b47-422a-90cd-8e85b161036b"
      },
      "source": [
        "X_train, X_test, y_train, y_test = split_data(train_features_df)\r\n",
        "ada_grid = grid.fit(X_train, np.log(y_train))"
      ],
      "execution_count": 10,
      "outputs": [
        {
          "output_type": "stream",
          "text": [
            "Fitting 3 folds for each of 168 candidates, totalling 504 fits\n"
          ],
          "name": "stdout"
        },
        {
          "output_type": "stream",
          "text": [
            "[Parallel(n_jobs=-1)]: Using backend LokyBackend with 2 concurrent workers.\n",
            "[Parallel(n_jobs=-1)]: Done  28 tasks      | elapsed:   19.4s\n",
            "[Parallel(n_jobs=-1)]: Done 124 tasks      | elapsed:  1.5min\n",
            "[Parallel(n_jobs=-1)]: Done 284 tasks      | elapsed:  3.2min\n",
            "[Parallel(n_jobs=-1)]: Done 504 out of 504 | elapsed:  5.0min finished\n"
          ],
          "name": "stderr"
        }
      ]
    },
    {
      "cell_type": "markdown",
      "metadata": {
        "id": "5fbFCFYQsrv7"
      },
      "source": [
        "**Best AdaBoost from GridSearchCV**"
      ]
    },
    {
      "cell_type": "code",
      "metadata": {
        "colab": {
          "base_uri": "https://localhost:8080/"
        },
        "id": "iDZsQkYZsoOe",
        "outputId": "fbc5c6ac-8c3f-42d2-c12e-dc758bfcf5af"
      },
      "source": [
        "np.sqrt(mean_squared_log_error(y_true = y_test, \r\n",
        "                               y_pred = np.exp(ada_grid.best_estimator_.predict(X_test))))"
      ],
      "execution_count": 11,
      "outputs": [
        {
          "output_type": "execute_result",
          "data": {
            "text/plain": [
              "0.17287705642165474"
            ]
          },
          "metadata": {
            "tags": []
          },
          "execution_count": 11
        }
      ]
    },
    {
      "cell_type": "markdown",
      "metadata": {
        "id": "59nCPxBRu8f5"
      },
      "source": [
        "# GBM Regressor"
      ]
    },
    {
      "cell_type": "markdown",
      "metadata": {
        "id": "P36gGrykEpmp"
      },
      "source": [
        "## Base GBM Regressor"
      ]
    },
    {
      "cell_type": "code",
      "metadata": {
        "id": "Vn0TWOCzu-kz"
      },
      "source": [
        "X_train, X_test, y_train, y_test = split_data(train_features_df)\r\n",
        "gbm = GradientBoostingRegressor(random_state = 42).fit(X_train, np.log(y_train))\r\n",
        "gbm_preds = np.exp(gbm.predict(X_test))"
      ],
      "execution_count": 12,
      "outputs": []
    },
    {
      "cell_type": "code",
      "metadata": {
        "colab": {
          "base_uri": "https://localhost:8080/"
        },
        "id": "g5kkuu02vNNZ",
        "outputId": "8d43d329-b29f-4d96-bbbd-f0c5b2cbf30d"
      },
      "source": [
        "np.sqrt(mean_squared_log_error(y_true = y_test, \r\n",
        "                               y_pred = gbm_preds))"
      ],
      "execution_count": 13,
      "outputs": [
        {
          "output_type": "execute_result",
          "data": {
            "text/plain": [
              "0.13628312366698758"
            ]
          },
          "metadata": {
            "tags": []
          },
          "execution_count": 13
        }
      ]
    },
    {
      "cell_type": "markdown",
      "metadata": {
        "id": "eJLgSedhEuMl"
      },
      "source": [
        "## GridSearchCV"
      ]
    },
    {
      "cell_type": "markdown",
      "metadata": {
        "id": "blgyCDNJThwa"
      },
      "source": [
        "### Preliminary Optimization of Boosting parameters"
      ]
    },
    {
      "cell_type": "markdown",
      "metadata": {
        "id": "P8LQNssUhUyt"
      },
      "source": [
        "- **learning_rate**\r\n",
        "- **n_estimators**"
      ]
    },
    {
      "cell_type": "code",
      "metadata": {
        "id": "AJqWqdFgaA6i",
        "outputId": "86e23711-5399-4bc8-f168-e4ab0c72e057",
        "colab": {
          "base_uri": "https://localhost:8080/",
          "height": 296
        }
      },
      "source": [
        "ns = np.arange(50, 1000, 10)\r\n",
        "gbm_scores = []\r\n",
        "\r\n",
        "X_train, X_test, y_train, y_test = split_data(train_features_df)\r\n",
        "for n in ns:\r\n",
        "  gbm = GradientBoostingRegressor(learning_rate = 0.1, \r\n",
        "                                  n_estimators = n, \r\n",
        "                                  random_state = 42).fit(X_train, np.log(y_train))\r\n",
        "  \r\n",
        "  gbm_preds = np.exp(gbm.predict(X_test))\r\n",
        "  gbm_rmsle = np.sqrt(mean_squared_log_error(y_true = y_test, y_pred = gbm_preds))\r\n",
        "  gbm_scores.append(gbm_rmsle)\r\n",
        "\r\n",
        "fig, ax = plt.subplots()\r\n",
        "ax.plot(ns, gbm_scores, marker = \"o\", linestyle = \"--\", color = \"k\")\r\n",
        "ax.set(xlabel = \"n_estimators\", \r\n",
        "       ylabel = \"Root Mean Squared Log Error Scores\", \r\n",
        "       title = \"Best n_estimators for learning_rate = 0.1\")\r\n",
        "plt.show()"
      ],
      "execution_count": 47,
      "outputs": [
        {
          "output_type": "display_data",
          "data": {
            "image/png": "[encoded data removed]",
            "text/plain": [
              "<Figure size 432x288 with 1 Axes>"
            ]
          },
          "metadata": {
            "tags": [],
            "needs_background": "light"
          }
        }
      ]
    },
    {
      "cell_type": "code",
      "metadata": {
        "id": "hewGb1mwdBzZ",
        "outputId": "8d215168-33c7-4e6f-8597-122834e15920",
        "colab": {
          "base_uri": "https://localhost:8080/",
          "height": 364
        }
      },
      "source": [
        "min_idx = np.argmin(np.array(gbm_scores))\r\n",
        "print(\"RESULTS\")\r\n",
        "print(\"Number of estimators: \", ns[min_idx])\r\n",
        "print(\"Learning Rate: \", 0.1)\r\n",
        "print(\"Root Mean Squarred Log Error: \", gbm_scores[min_idx])\r\n",
        "\r\n",
        "fig, ax = plt.subplots()\r\n",
        "ax.plot(ns[:10], gbm_scores[:10], marker = \"o\", linestyle = \"--\", color = \"k\")\r\n",
        "ax.set(xlabel = \"n_estimators\", \r\n",
        "       ylabel = \"Root Mean Squared Log Error Scores\", \r\n",
        "       title = \"Best n_estimators for learning_rate = 0.1\")\r\n",
        "plt.show()"
      ],
      "execution_count": 55,
      "outputs": [
        {
          "output_type": "stream",
          "text": [
            "RESULTS\n",
            "Number of estimators:  80\n",
            "Learning Rate:  0.1\n",
            "Root Mean Squarred Log Error:  0.1362312022198972\n"
          ],
          "name": "stdout"
        },
        {
          "output_type": "display_data",
          "data": {
            "image/png": "[encoded data removed]",
            "text/plain": [
              "<Figure size 432x288 with 1 Axes>"
            ]
          },
          "metadata": {
            "tags": [],
            "needs_background": "light"
          }
        }
      ]
    },
    {
      "cell_type": "markdown",
      "metadata": {
        "id": "vCrj9p23hnZ4"
      },
      "source": [
        "### Optimizing Tree Based Parameters"
      ]
    },
    {
      "cell_type": "markdown",
      "metadata": {
        "id": "Rgn3j04jhqjg"
      },
      "source": [
        "- **subsample**\r\n",
        "- **min_samples_split**\r\n",
        "- **min_samples_leaf**\r\n",
        "- **max_depth**\r\n",
        "- **max_features**"
      ]
    },
    {
      "cell_type": "code",
      "metadata": {
        "id": "ngPKrRttbvF5"
      },
      "source": [
        ""
      ],
      "execution_count": null,
      "outputs": []
    }
  ]
}