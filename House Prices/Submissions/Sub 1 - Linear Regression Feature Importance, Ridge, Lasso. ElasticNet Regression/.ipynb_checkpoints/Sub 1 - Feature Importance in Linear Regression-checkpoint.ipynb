{
 "cells": [
  {
   "cell_type": "markdown",
   "metadata": {},
   "source": [
    "# Importing Required Packages"
   ]
  },
  {
   "cell_type": "code",
   "execution_count": 1,
   "metadata": {
    "ExecuteTime": {
     "end_time": "2020-12-21T09:02:40.096080Z",
     "start_time": "2020-12-21T09:02:35.039778Z"
    }
   },
   "outputs": [],
   "source": [
    "import pandas as pd\n",
    "import numpy as np\n",
    "\n",
    "import matplotlib.pyplot as plt\n",
    "import seaborn as sns\n",
    "\n",
    "from sklearn.model_selection import train_test_split\n",
    "from sklearn.linear_model import LinearRegression, Ridge, Lasso, ElasticNet\n",
    "from sklearn.preprocessing import MinMaxScaler\n",
    "from sklearn.metrics import mean_squared_log_error\n",
    "from sklearn.model_selection import GridSearchCV\n",
    "\n",
    "import warnings\n",
    "warnings.filterwarnings(\"ignore\")"
   ]
  },
  {
   "cell_type": "markdown",
   "metadata": {},
   "source": [
    "# Reading Data"
   ]
  },
  {
   "cell_type": "code",
   "execution_count": 2,
   "metadata": {
    "ExecuteTime": {
     "end_time": "2020-12-21T09:02:40.300388Z",
     "start_time": "2020-12-21T09:02:40.098082Z"
    }
   },
   "outputs": [],
   "source": [
    "train_df = pd.read_csv(\"../Data/train.csv\")\n",
    "test_df = pd.read_csv(\"../Data/train.csv\")\n",
    "\n",
    "train_features_df = pd.read_csv(\"../Data/train_features_df.csv\")\n",
    "test_features_df = pd.read_csv(\"../Data/test_features_df.csv\")"
   ]
  },
  {
   "cell_type": "code",
   "execution_count": 3,
   "metadata": {
    "ExecuteTime": {
     "end_time": "2020-12-21T09:02:40.348547Z",
     "start_time": "2020-12-21T09:02:40.302279Z"
    }
   },
   "outputs": [
    {
     "data": {
      "text/html": [
       "<div>\n",
       "<style scoped>\n",
       "    .dataframe tbody tr th:only-of-type {\n",
       "        vertical-align: middle;\n",
       "    }\n",
       "\n",
       "    .dataframe tbody tr th {\n",
       "        vertical-align: top;\n",
       "    }\n",
       "\n",
       "    .dataframe thead th {\n",
       "        text-align: right;\n",
       "    }\n",
       "</style>\n",
       "<table border=\"1\" class=\"dataframe\">\n",
       "  <thead>\n",
       "    <tr style=\"text-align: right;\">\n",
       "      <th></th>\n",
       "      <th>OverallQual</th>\n",
       "      <th>ExterQual</th>\n",
       "      <th>Foundation</th>\n",
       "      <th>BsmtQual</th>\n",
       "      <th>KitchenQual</th>\n",
       "      <th>FireplaceQu</th>\n",
       "      <th>GarageFinish</th>\n",
       "      <th>YearDiff</th>\n",
       "      <th>YearRemodAdd</th>\n",
       "      <th>1stFlrSF</th>\n",
       "      <th>...</th>\n",
       "      <th>GarageType</th>\n",
       "      <th>OverallCond</th>\n",
       "      <th>LotArea</th>\n",
       "      <th>BsmtFinSF1</th>\n",
       "      <th>LotFrontage</th>\n",
       "      <th>2ndFlrSF</th>\n",
       "      <th>SalePrice</th>\n",
       "      <th>no_garage</th>\n",
       "      <th>is_BsmtFinSF1_0</th>\n",
       "      <th>is_2ndFlrSF_0</th>\n",
       "    </tr>\n",
       "  </thead>\n",
       "  <tbody>\n",
       "    <tr>\n",
       "      <th>0</th>\n",
       "      <td>7</td>\n",
       "      <td>2</td>\n",
       "      <td>6</td>\n",
       "      <td>3</td>\n",
       "      <td>2</td>\n",
       "      <td>1</td>\n",
       "      <td>2</td>\n",
       "      <td>2.472136</td>\n",
       "      <td>87.509776</td>\n",
       "      <td>6.752270</td>\n",
       "      <td>...</td>\n",
       "      <td>5</td>\n",
       "      <td>8</td>\n",
       "      <td>9.041922</td>\n",
       "      <td>706</td>\n",
       "      <td>4.174387</td>\n",
       "      <td>854</td>\n",
       "      <td>208500</td>\n",
       "      <td>0</td>\n",
       "      <td>0</td>\n",
       "      <td>0</td>\n",
       "    </tr>\n",
       "    <tr>\n",
       "      <th>1</th>\n",
       "      <td>6</td>\n",
       "      <td>1</td>\n",
       "      <td>3</td>\n",
       "      <td>3</td>\n",
       "      <td>1</td>\n",
       "      <td>3</td>\n",
       "      <td>2</td>\n",
       "      <td>9.135529</td>\n",
       "      <td>86.904443</td>\n",
       "      <td>7.140453</td>\n",
       "      <td>...</td>\n",
       "      <td>5</td>\n",
       "      <td>4</td>\n",
       "      <td>9.169518</td>\n",
       "      <td>978</td>\n",
       "      <td>4.382027</td>\n",
       "      <td>0</td>\n",
       "      <td>181500</td>\n",
       "      <td>0</td>\n",
       "      <td>0</td>\n",
       "      <td>1</td>\n",
       "    </tr>\n",
       "    <tr>\n",
       "      <th>2</th>\n",
       "      <td>7</td>\n",
       "      <td>2</td>\n",
       "      <td>6</td>\n",
       "      <td>3</td>\n",
       "      <td>2</td>\n",
       "      <td>3</td>\n",
       "      <td>2</td>\n",
       "      <td>3.291503</td>\n",
       "      <td>87.487429</td>\n",
       "      <td>6.824374</td>\n",
       "      <td>...</td>\n",
       "      <td>5</td>\n",
       "      <td>8</td>\n",
       "      <td>9.328123</td>\n",
       "      <td>486</td>\n",
       "      <td>4.219508</td>\n",
       "      <td>866</td>\n",
       "      <td>223500</td>\n",
       "      <td>0</td>\n",
       "      <td>0</td>\n",
       "      <td>0</td>\n",
       "    </tr>\n",
       "    <tr>\n",
       "      <th>3</th>\n",
       "      <td>7</td>\n",
       "      <td>1</td>\n",
       "      <td>2</td>\n",
       "      <td>2</td>\n",
       "      <td>2</td>\n",
       "      <td>4</td>\n",
       "      <td>1</td>\n",
       "      <td>17.078784</td>\n",
       "      <td>86.769364</td>\n",
       "      <td>6.867974</td>\n",
       "      <td>...</td>\n",
       "      <td>2</td>\n",
       "      <td>8</td>\n",
       "      <td>9.164296</td>\n",
       "      <td>216</td>\n",
       "      <td>4.094345</td>\n",
       "      <td>756</td>\n",
       "      <td>140000</td>\n",
       "      <td>0</td>\n",
       "      <td>0</td>\n",
       "      <td>0</td>\n",
       "    </tr>\n",
       "    <tr>\n",
       "      <th>4</th>\n",
       "      <td>8</td>\n",
       "      <td>2</td>\n",
       "      <td>6</td>\n",
       "      <td>3</td>\n",
       "      <td>2</td>\n",
       "      <td>3</td>\n",
       "      <td>2</td>\n",
       "      <td>3.656854</td>\n",
       "      <td>87.442719</td>\n",
       "      <td>7.043160</td>\n",
       "      <td>...</td>\n",
       "      <td>5</td>\n",
       "      <td>8</td>\n",
       "      <td>9.565214</td>\n",
       "      <td>655</td>\n",
       "      <td>4.430817</td>\n",
       "      <td>1053</td>\n",
       "      <td>250000</td>\n",
       "      <td>0</td>\n",
       "      <td>0</td>\n",
       "      <td>0</td>\n",
       "    </tr>\n",
       "  </tbody>\n",
       "</table>\n",
       "<p>5 rows × 34 columns</p>\n",
       "</div>"
      ],
      "text/plain": [
       "   OverallQual  ExterQual  Foundation  BsmtQual  KitchenQual  FireplaceQu  \\\n",
       "0            7          2           6         3            2            1   \n",
       "1            6          1           3         3            1            3   \n",
       "2            7          2           6         3            2            3   \n",
       "3            7          1           2         2            2            4   \n",
       "4            8          2           6         3            2            3   \n",
       "\n",
       "   GarageFinish   YearDiff  YearRemodAdd  1stFlrSF  ...  GarageType  \\\n",
       "0             2   2.472136     87.509776  6.752270  ...           5   \n",
       "1             2   9.135529     86.904443  7.140453  ...           5   \n",
       "2             2   3.291503     87.487429  6.824374  ...           5   \n",
       "3             1  17.078784     86.769364  6.867974  ...           2   \n",
       "4             2   3.656854     87.442719  7.043160  ...           5   \n",
       "\n",
       "   OverallCond   LotArea  BsmtFinSF1  LotFrontage  2ndFlrSF  SalePrice  \\\n",
       "0            8  9.041922         706     4.174387       854     208500   \n",
       "1            4  9.169518         978     4.382027         0     181500   \n",
       "2            8  9.328123         486     4.219508       866     223500   \n",
       "3            8  9.164296         216     4.094345       756     140000   \n",
       "4            8  9.565214         655     4.430817      1053     250000   \n",
       "\n",
       "   no_garage  is_BsmtFinSF1_0  is_2ndFlrSF_0  \n",
       "0          0                0              0  \n",
       "1          0                0              1  \n",
       "2          0                0              0  \n",
       "3          0                0              0  \n",
       "4          0                0              0  \n",
       "\n",
       "[5 rows x 34 columns]"
      ]
     },
     "execution_count": 3,
     "metadata": {},
     "output_type": "execute_result"
    }
   ],
   "source": [
    "train_features_df.head()"
   ]
  },
  {
   "cell_type": "code",
   "execution_count": 4,
   "metadata": {
    "ExecuteTime": {
     "end_time": "2020-12-21T09:02:40.506102Z",
     "start_time": "2020-12-21T09:02:40.350538Z"
    }
   },
   "outputs": [
    {
     "data": {
      "text/html": [
       "<div>\n",
       "<style scoped>\n",
       "    .dataframe tbody tr th:only-of-type {\n",
       "        vertical-align: middle;\n",
       "    }\n",
       "\n",
       "    .dataframe tbody tr th {\n",
       "        vertical-align: top;\n",
       "    }\n",
       "\n",
       "    .dataframe thead th {\n",
       "        text-align: right;\n",
       "    }\n",
       "</style>\n",
       "<table border=\"1\" class=\"dataframe\">\n",
       "  <thead>\n",
       "    <tr style=\"text-align: right;\">\n",
       "      <th></th>\n",
       "      <th>OverallQual</th>\n",
       "      <th>ExterQual</th>\n",
       "      <th>Foundation</th>\n",
       "      <th>BsmtQual</th>\n",
       "      <th>KitchenQual</th>\n",
       "      <th>FireplaceQu</th>\n",
       "      <th>GarageFinish</th>\n",
       "      <th>YearDiff</th>\n",
       "      <th>YearRemodAdd</th>\n",
       "      <th>1stFlrSF</th>\n",
       "      <th>...</th>\n",
       "      <th>BsmtFinType1</th>\n",
       "      <th>GarageType</th>\n",
       "      <th>OverallCond</th>\n",
       "      <th>LotArea</th>\n",
       "      <th>BsmtFinSF1</th>\n",
       "      <th>LotFrontage</th>\n",
       "      <th>2ndFlrSF</th>\n",
       "      <th>no_garage</th>\n",
       "      <th>is_BsmtFinSF1_0</th>\n",
       "      <th>is_2ndFlrSF_0</th>\n",
       "    </tr>\n",
       "  </thead>\n",
       "  <tbody>\n",
       "    <tr>\n",
       "      <th>0</th>\n",
       "      <td>5</td>\n",
       "      <td>1</td>\n",
       "      <td>3</td>\n",
       "      <td>2</td>\n",
       "      <td>1</td>\n",
       "      <td>1</td>\n",
       "      <td>1</td>\n",
       "      <td>12.000000</td>\n",
       "      <td>86.566359</td>\n",
       "      <td>6.797940</td>\n",
       "      <td>...</td>\n",
       "      <td>3</td>\n",
       "      <td>5</td>\n",
       "      <td>6</td>\n",
       "      <td>9.360655</td>\n",
       "      <td>468.0</td>\n",
       "      <td>4.382027</td>\n",
       "      <td>0</td>\n",
       "      <td>0</td>\n",
       "      <td>0</td>\n",
       "      <td>1</td>\n",
       "    </tr>\n",
       "    <tr>\n",
       "      <th>1</th>\n",
       "      <td>6</td>\n",
       "      <td>1</td>\n",
       "      <td>3</td>\n",
       "      <td>2</td>\n",
       "      <td>2</td>\n",
       "      <td>1</td>\n",
       "      <td>1</td>\n",
       "      <td>12.422205</td>\n",
       "      <td>86.498588</td>\n",
       "      <td>7.192182</td>\n",
       "      <td>...</td>\n",
       "      <td>4</td>\n",
       "      <td>5</td>\n",
       "      <td>6</td>\n",
       "      <td>9.565704</td>\n",
       "      <td>923.0</td>\n",
       "      <td>4.394449</td>\n",
       "      <td>0</td>\n",
       "      <td>0</td>\n",
       "      <td>0</td>\n",
       "      <td>1</td>\n",
       "    </tr>\n",
       "    <tr>\n",
       "      <th>2</th>\n",
       "      <td>5</td>\n",
       "      <td>1</td>\n",
       "      <td>6</td>\n",
       "      <td>3</td>\n",
       "      <td>1</td>\n",
       "      <td>3</td>\n",
       "      <td>3</td>\n",
       "      <td>5.211103</td>\n",
       "      <td>87.397987</td>\n",
       "      <td>6.833032</td>\n",
       "      <td>...</td>\n",
       "      <td>6</td>\n",
       "      <td>5</td>\n",
       "      <td>5</td>\n",
       "      <td>9.534595</td>\n",
       "      <td>791.0</td>\n",
       "      <td>4.304065</td>\n",
       "      <td>701</td>\n",
       "      <td>0</td>\n",
       "      <td>0</td>\n",
       "      <td>0</td>\n",
       "    </tr>\n",
       "    <tr>\n",
       "      <th>3</th>\n",
       "      <td>6</td>\n",
       "      <td>1</td>\n",
       "      <td>6</td>\n",
       "      <td>2</td>\n",
       "      <td>2</td>\n",
       "      <td>4</td>\n",
       "      <td>3</td>\n",
       "      <td>4.928203</td>\n",
       "      <td>87.397987</td>\n",
       "      <td>6.830874</td>\n",
       "      <td>...</td>\n",
       "      <td>6</td>\n",
       "      <td>5</td>\n",
       "      <td>6</td>\n",
       "      <td>9.208138</td>\n",
       "      <td>602.0</td>\n",
       "      <td>4.356709</td>\n",
       "      <td>678</td>\n",
       "      <td>0</td>\n",
       "      <td>0</td>\n",
       "      <td>0</td>\n",
       "    </tr>\n",
       "    <tr>\n",
       "      <th>4</th>\n",
       "      <td>8</td>\n",
       "      <td>2</td>\n",
       "      <td>6</td>\n",
       "      <td>3</td>\n",
       "      <td>2</td>\n",
       "      <td>1</td>\n",
       "      <td>2</td>\n",
       "      <td>6.485281</td>\n",
       "      <td>87.263654</td>\n",
       "      <td>7.154615</td>\n",
       "      <td>...</td>\n",
       "      <td>4</td>\n",
       "      <td>5</td>\n",
       "      <td>5</td>\n",
       "      <td>8.518193</td>\n",
       "      <td>263.0</td>\n",
       "      <td>3.761200</td>\n",
       "      <td>0</td>\n",
       "      <td>0</td>\n",
       "      <td>0</td>\n",
       "      <td>1</td>\n",
       "    </tr>\n",
       "  </tbody>\n",
       "</table>\n",
       "<p>5 rows × 33 columns</p>\n",
       "</div>"
      ],
      "text/plain": [
       "   OverallQual  ExterQual  Foundation  BsmtQual  KitchenQual  FireplaceQu  \\\n",
       "0            5          1           3         2            1            1   \n",
       "1            6          1           3         2            2            1   \n",
       "2            5          1           6         3            1            3   \n",
       "3            6          1           6         2            2            4   \n",
       "4            8          2           6         3            2            1   \n",
       "\n",
       "   GarageFinish   YearDiff  YearRemodAdd  1stFlrSF  ...  BsmtFinType1  \\\n",
       "0             1  12.000000     86.566359  6.797940  ...             3   \n",
       "1             1  12.422205     86.498588  7.192182  ...             4   \n",
       "2             3   5.211103     87.397987  6.833032  ...             6   \n",
       "3             3   4.928203     87.397987  6.830874  ...             6   \n",
       "4             2   6.485281     87.263654  7.154615  ...             4   \n",
       "\n",
       "   GarageType  OverallCond   LotArea  BsmtFinSF1  LotFrontage  2ndFlrSF  \\\n",
       "0           5            6  9.360655       468.0     4.382027         0   \n",
       "1           5            6  9.565704       923.0     4.394449         0   \n",
       "2           5            5  9.534595       791.0     4.304065       701   \n",
       "3           5            6  9.208138       602.0     4.356709       678   \n",
       "4           5            5  8.518193       263.0     3.761200         0   \n",
       "\n",
       "   no_garage  is_BsmtFinSF1_0  is_2ndFlrSF_0  \n",
       "0          0                0              1  \n",
       "1          0                0              1  \n",
       "2          0                0              0  \n",
       "3          0                0              0  \n",
       "4          0                0              1  \n",
       "\n",
       "[5 rows x 33 columns]"
      ]
     },
     "execution_count": 4,
     "metadata": {},
     "output_type": "execute_result"
    }
   ],
   "source": [
    "test_features_df.head()"
   ]
  },
  {
   "cell_type": "markdown",
   "metadata": {},
   "source": [
    "# Linear Regression"
   ]
  },
  {
   "cell_type": "markdown",
   "metadata": {},
   "source": [
    "## Train Test Split"
   ]
  },
  {
   "cell_type": "code",
   "execution_count": 5,
   "metadata": {
    "ExecuteTime": {
     "end_time": "2020-12-21T09:02:40.649712Z",
     "start_time": "2020-12-21T09:02:40.510092Z"
    }
   },
   "outputs": [],
   "source": [
    "X, y = train_features_df.drop([\"SalePrice\"], axis = 1), train_features_df[\"SalePrice\"]\n",
    "\n",
    "X_train, X_test, y_train, y_test = train_test_split(X.values, y.values, test_size = 0.2, random_state = 42)"
   ]
  },
  {
   "cell_type": "markdown",
   "metadata": {},
   "source": [
    "## Linear Regression Model"
   ]
  },
  {
   "cell_type": "code",
   "execution_count": 6,
   "metadata": {
    "ExecuteTime": {
     "end_time": "2020-12-21T09:02:41.090330Z",
     "start_time": "2020-12-21T09:02:40.653768Z"
    }
   },
   "outputs": [],
   "source": [
    "lr_model = LinearRegression().fit(X_train, np.log(y_train))\n",
    "y_hat = lr_model.predict(X_test)"
   ]
  },
  {
   "cell_type": "markdown",
   "metadata": {},
   "source": [
    "## RMSLE"
   ]
  },
  {
   "cell_type": "code",
   "execution_count": 7,
   "metadata": {
    "ExecuteTime": {
     "end_time": "2020-12-21T09:02:41.106251Z",
     "start_time": "2020-12-21T09:02:41.093285Z"
    }
   },
   "outputs": [
    {
     "data": {
      "text/plain": [
       "0.14414189518443657"
      ]
     },
     "execution_count": 7,
     "metadata": {},
     "output_type": "execute_result"
    }
   ],
   "source": [
    "np.sqrt(mean_squared_log_error(y_true = y_test, y_pred = np.exp(y_hat)))"
   ]
  },
  {
   "cell_type": "markdown",
   "metadata": {},
   "source": [
    "## Feature Importances"
   ]
  },
  {
   "cell_type": "code",
   "execution_count": 8,
   "metadata": {
    "ExecuteTime": {
     "end_time": "2020-12-21T09:02:41.903707Z",
     "start_time": "2020-12-21T09:02:41.109244Z"
    }
   },
   "outputs": [
    {
     "data": {
      "image/png": "[encoded data removed]",
      "text/plain": [
       "<Figure size 864x504 with 1 Axes>"
      ]
     },
     "metadata": {
      "needs_background": "light"
     },
     "output_type": "display_data"
    }
   ],
   "source": [
    "coefs = lr_model.coef_\n",
    "intercept = lr_model.intercept_\n",
    "\n",
    "df = pd.DataFrame({\"Feature\": X.columns, \"Importance\": coefs})\n",
    "# df.loc[len(df.index)] = {\"Feature\": \"Intercept\", \"Importance\": intercept}\n",
    "df.set_index(\"Feature\", inplace = True)\n",
    "\n",
    "df.plot.bar(figsize = (12, 7))\n",
    "plt.show()"
   ]
  },
  {
   "cell_type": "markdown",
   "metadata": {},
   "source": [
    "### Using Important Features Only"
   ]
  },
  {
   "cell_type": "markdown",
   "metadata": {},
   "source": [
    "**Data**"
   ]
  },
  {
   "cell_type": "code",
   "execution_count": 9,
   "metadata": {
    "ExecuteTime": {
     "end_time": "2020-12-21T09:02:42.123078Z",
     "start_time": "2020-12-21T09:02:41.905663Z"
    }
   },
   "outputs": [],
   "source": [
    "imp_cols = df[df[\"Importance\"].abs() > 0.05].index\n",
    "X_train, X_test, y_train, y_test = train_test_split(X[imp_cols].values, \n",
    "                                                    y.values, \n",
    "                                                    test_size = 0.2, random_state = 42)"
   ]
  },
  {
   "cell_type": "markdown",
   "metadata": {},
   "source": [
    "**Model**"
   ]
  },
  {
   "cell_type": "code",
   "execution_count": 10,
   "metadata": {
    "ExecuteTime": {
     "end_time": "2020-12-21T09:02:42.139069Z",
     "start_time": "2020-12-21T09:02:42.125070Z"
    }
   },
   "outputs": [],
   "source": [
    "lr_model = LinearRegression().fit(X_train, np.log(y_train))\n",
    "y_hat = lr_model.predict(X_test)"
   ]
  },
  {
   "cell_type": "markdown",
   "metadata": {},
   "source": [
    "**RMSLE**"
   ]
  },
  {
   "cell_type": "code",
   "execution_count": 11,
   "metadata": {
    "ExecuteTime": {
     "end_time": "2020-12-21T09:02:42.360452Z",
     "start_time": "2020-12-21T09:02:42.141028Z"
    }
   },
   "outputs": [
    {
     "data": {
      "text/plain": [
       "0.16220432586722572"
      ]
     },
     "execution_count": 11,
     "metadata": {},
     "output_type": "execute_result"
    }
   ],
   "source": [
    "np.sqrt(mean_squared_log_error(y_true = y_test, y_pred = np.exp(y_hat)))"
   ]
  },
  {
   "cell_type": "markdown",
   "metadata": {},
   "source": [
    "# Ridge Regression"
   ]
  },
  {
   "cell_type": "markdown",
   "metadata": {},
   "source": [
    "## Train Test Split"
   ]
  },
  {
   "cell_type": "code",
   "execution_count": 12,
   "metadata": {
    "ExecuteTime": {
     "end_time": "2020-12-21T09:02:42.597547Z",
     "start_time": "2020-12-21T09:02:42.362450Z"
    }
   },
   "outputs": [],
   "source": [
    "X, y = train_features_df.drop([\"SalePrice\"], axis = 1), train_features_df[\"SalePrice\"]\n",
    "\n",
    "X_train, X_test, y_train, y_test = train_test_split(X, y, test_size = 0.2, random_state = 42)"
   ]
  },
  {
   "cell_type": "markdown",
   "metadata": {},
   "source": [
    "## Ridge Regression Model"
   ]
  },
  {
   "cell_type": "code",
   "execution_count": 13,
   "metadata": {
    "ExecuteTime": {
     "end_time": "2020-12-21T09:02:42.787984Z",
     "start_time": "2020-12-21T09:02:42.599548Z"
    }
   },
   "outputs": [],
   "source": [
    "ridge_model = Ridge(alpha = 1.0).fit(X_train, np.log(y_train))\n",
    "ridge_preds = ridge_model.predict(X_test)"
   ]
  },
  {
   "cell_type": "markdown",
   "metadata": {},
   "source": [
    "## RMSLE"
   ]
  },
  {
   "cell_type": "code",
   "execution_count": 14,
   "metadata": {
    "ExecuteTime": {
     "end_time": "2020-12-21T09:02:42.962787Z",
     "start_time": "2020-12-21T09:02:42.789972Z"
    }
   },
   "outputs": [
    {
     "data": {
      "text/plain": [
       "0.1440169362714755"
      ]
     },
     "execution_count": 14,
     "metadata": {},
     "output_type": "execute_result"
    }
   ],
   "source": [
    "np.sqrt(mean_squared_log_error(y_true = y_test, y_pred = np.exp(ridge_preds)))"
   ]
  },
  {
   "cell_type": "markdown",
   "metadata": {},
   "source": [
    "## Optimizing Alpha"
   ]
  },
  {
   "cell_type": "markdown",
   "metadata": {},
   "source": [
    "**Optimizing over large range of values**"
   ]
  },
  {
   "cell_type": "code",
   "execution_count": 15,
   "metadata": {
    "ExecuteTime": {
     "end_time": "2020-12-21T09:02:43.522315Z",
     "start_time": "2020-12-21T09:02:42.964741Z"
    }
   },
   "outputs": [
    {
     "name": "stdout",
     "output_type": "stream",
     "text": [
      "0.14395265849217595 4\n"
     ]
    },
    {
     "data": {
      "image/png": "[encoded data removed]",
      "text/plain": [
       "<Figure size 432x288 with 1 Axes>"
      ]
     },
     "metadata": {
      "needs_background": "light"
     },
     "output_type": "display_data"
    }
   ],
   "source": [
    "rmsle = []\n",
    "for a in range(0, 100):\n",
    "    ridge_model = Ridge(alpha = a).fit(X_train, np.log(y_train))\n",
    "    ridge_preds = ridge_model.predict(X_test)\n",
    "    rmsle.append(np.sqrt(mean_squared_log_error(y_true = y_test, y_pred = np.exp(ridge_preds))))\n",
    "    \n",
    "print(np.min(rmsle), np.argmin(rmsle))\n",
    "plt.plot(rmsle)\n",
    "plt.show()"
   ]
  },
  {
   "cell_type": "markdown",
   "metadata": {},
   "source": [
    "**Optimizing Locally**"
   ]
  },
  {
   "cell_type": "code",
   "execution_count": 16,
   "metadata": {
    "ExecuteTime": {
     "end_time": "2020-12-21T09:02:49.915800Z",
     "start_time": "2020-12-21T09:02:43.525309Z"
    }
   },
   "outputs": [
    {
     "name": "stdout",
     "output_type": "stream",
     "text": [
      "0.14395135754145783 518 3.517999999999943\n"
     ]
    },
    {
     "data": {
      "image/png": "[encoded data removed]",
      "text/plain": [
       "<Figure size 432x288 with 1 Axes>"
      ]
     },
     "metadata": {
      "needs_background": "light"
     },
     "output_type": "display_data"
    }
   ],
   "source": [
    "rmsle = []\n",
    "alphas = np.arange(3, 5, 0.001)\n",
    "for a in alphas:\n",
    "    ridge_model = Ridge(alpha = a).fit(X_train, np.log(y_train))\n",
    "    ridge_preds = ridge_model.predict(X_test)\n",
    "    rmsle.append(np.sqrt(mean_squared_log_error(y_true = y_test, y_pred = np.exp(ridge_preds))))\n",
    "    \n",
    "print(np.min(rmsle), np.argmin(rmsle), alphas[np.argmin(rmsle)])\n",
    "plt.plot(rmsle)\n",
    "plt.show()"
   ]
  },
  {
   "cell_type": "markdown",
   "metadata": {},
   "source": [
    "**Final Model**"
   ]
  },
  {
   "cell_type": "code",
   "execution_count": 17,
   "metadata": {
    "ExecuteTime": {
     "end_time": "2020-12-21T09:02:49.947742Z",
     "start_time": "2020-12-21T09:02:49.921780Z"
    }
   },
   "outputs": [
    {
     "data": {
      "text/plain": [
       "0.14396224710946431"
      ]
     },
     "execution_count": 17,
     "metadata": {},
     "output_type": "execute_result"
    }
   ],
   "source": [
    "optimal_alpha = 4\n",
    "ridge_model = Ridge(alpha = a).fit(X_train, np.log(y_train))\n",
    "ridge_preds = ridge_model.predict(X_test)\n",
    "np.sqrt(mean_squared_log_error(y_true = y_test, y_pred = np.exp(ridge_preds)))"
   ]
  },
  {
   "cell_type": "markdown",
   "metadata": {},
   "source": [
    "## Feature Importances"
   ]
  },
  {
   "cell_type": "code",
   "execution_count": 18,
   "metadata": {
    "ExecuteTime": {
     "end_time": "2020-12-21T09:02:50.588542Z",
     "start_time": "2020-12-21T09:02:49.951731Z"
    }
   },
   "outputs": [
    {
     "data": {
      "image/png": "[encoded data removed]",
      "text/plain": [
       "<Figure size 864x504 with 1 Axes>"
      ]
     },
     "metadata": {
      "needs_background": "light"
     },
     "output_type": "display_data"
    }
   ],
   "source": [
    "coefs = ridge_model.coef_\n",
    "intercept = ridge_model.intercept_\n",
    "\n",
    "df = pd.DataFrame({\"Feature\": X.columns, \"Importance\": coefs})\n",
    "# df.loc[len(df.index)] = {\"Feature\": \"Intercept\", \"Importance\": intercept}\n",
    "df.set_index(\"Feature\", inplace = True)\n",
    "\n",
    "df.plot.bar(figsize = (12, 7))\n",
    "plt.show()"
   ]
  },
  {
   "cell_type": "markdown",
   "metadata": {},
   "source": [
    "### Using Important Features Only"
   ]
  },
  {
   "cell_type": "markdown",
   "metadata": {},
   "source": [
    "**Data**"
   ]
  },
  {
   "cell_type": "code",
   "execution_count": 19,
   "metadata": {
    "ExecuteTime": {
     "end_time": "2020-12-21T09:02:50.619461Z",
     "start_time": "2020-12-21T09:02:50.591536Z"
    }
   },
   "outputs": [],
   "source": [
    "imp_cols = df[df[\"Importance\"].abs() > 0.05].index\n",
    "X_train, X_test, y_train, y_test = train_test_split(X[imp_cols].values, \n",
    "                                                    y.values, \n",
    "                                                    test_size = 0.2, random_state = 42)"
   ]
  },
  {
   "cell_type": "markdown",
   "metadata": {},
   "source": [
    "**Model**"
   ]
  },
  {
   "cell_type": "code",
   "execution_count": 20,
   "metadata": {
    "ExecuteTime": {
     "end_time": "2020-12-21T09:02:50.791373Z",
     "start_time": "2020-12-21T09:02:50.623450Z"
    }
   },
   "outputs": [],
   "source": [
    "ridge_model = Ridge(alpha = 4.0).fit(X_train, np.log(y_train))\n",
    "y_hat = ridge_model.predict(X_test)"
   ]
  },
  {
   "cell_type": "markdown",
   "metadata": {},
   "source": [
    "**RMSLE**"
   ]
  },
  {
   "cell_type": "code",
   "execution_count": 21,
   "metadata": {
    "ExecuteTime": {
     "end_time": "2020-12-21T09:02:50.901632Z",
     "start_time": "2020-12-21T09:02:50.793032Z"
    }
   },
   "outputs": [
    {
     "data": {
      "text/plain": [
       "0.16212037524142342"
      ]
     },
     "execution_count": 21,
     "metadata": {},
     "output_type": "execute_result"
    }
   ],
   "source": [
    "np.sqrt(mean_squared_log_error(y_true = y_test, y_pred = np.exp(y_hat)))"
   ]
  },
  {
   "cell_type": "markdown",
   "metadata": {},
   "source": [
    "## Submission"
   ]
  },
  {
   "cell_type": "markdown",
   "metadata": {},
   "source": [
    "**Data and Model**"
   ]
  },
  {
   "cell_type": "code",
   "execution_count": 22,
   "metadata": {
    "ExecuteTime": {
     "end_time": "2020-12-21T09:02:51.056447Z",
     "start_time": "2020-12-21T09:02:50.904624Z"
    }
   },
   "outputs": [],
   "source": [
    "X, y = train_features_df.drop([\"SalePrice\"], axis = 1), train_features_df[\"SalePrice\"]\n",
    "full_ridge_model = Ridge(alpha = 4.0).fit(X.values, np.log(y.values))\n",
    "full_ridge_preds = full_ridge_model.predict(test_features_df.values)"
   ]
  },
  {
   "cell_type": "markdown",
   "metadata": {},
   "source": [
    "**Sub File**"
   ]
  },
  {
   "cell_type": "code",
   "execution_count": 23,
   "metadata": {
    "ExecuteTime": {
     "end_time": "2020-12-21T09:02:51.149406Z",
     "start_time": "2020-12-21T09:02:51.058430Z"
    }
   },
   "outputs": [],
   "source": [
    "sub1_ridge_df = pd.read_csv(\"../Data/sample_submission.csv\")\n",
    "sub1_ridge_df[\"SalePrice\"] = np.exp(full_ridge_preds)\n",
    "sub1_ridge_df.to_csv(\"sub1_ridge_df.csv\", index = False)"
   ]
  },
  {
   "cell_type": "markdown",
   "metadata": {},
   "source": [
    "# Lasso Regression"
   ]
  },
  {
   "cell_type": "markdown",
   "metadata": {},
   "source": [
    "## Train Test Split"
   ]
  },
  {
   "cell_type": "code",
   "execution_count": 24,
   "metadata": {
    "ExecuteTime": {
     "end_time": "2020-12-21T09:02:51.277143Z",
     "start_time": "2020-12-21T09:02:51.151408Z"
    }
   },
   "outputs": [],
   "source": [
    "X, y = train_features_df.drop([\"SalePrice\"], axis = 1), train_features_df[\"SalePrice\"]\n",
    "\n",
    "X_train, X_test, y_train, y_test = train_test_split(X, y, test_size = 0.2, random_state = 42)"
   ]
  },
  {
   "cell_type": "markdown",
   "metadata": {},
   "source": [
    "## Lasso Regression Model"
   ]
  },
  {
   "cell_type": "code",
   "execution_count": 25,
   "metadata": {
    "ExecuteTime": {
     "end_time": "2020-12-21T09:02:51.387496Z",
     "start_time": "2020-12-21T09:02:51.278690Z"
    }
   },
   "outputs": [],
   "source": [
    "lasso_model = Lasso(alpha = 1.0).fit(X_train, np.log(y_train))\n",
    "lasso_preds = lasso_model.predict(X_test)"
   ]
  },
  {
   "cell_type": "markdown",
   "metadata": {},
   "source": [
    "## RMSLE"
   ]
  },
  {
   "cell_type": "code",
   "execution_count": 26,
   "metadata": {
    "ExecuteTime": {
     "end_time": "2020-12-21T09:02:51.574992Z",
     "start_time": "2020-12-21T09:02:51.390487Z"
    }
   },
   "outputs": [
    {
     "data": {
      "text/plain": [
       "0.29033744925092086"
      ]
     },
     "execution_count": 26,
     "metadata": {},
     "output_type": "execute_result"
    }
   ],
   "source": [
    "np.sqrt(mean_squared_log_error(y_true = y_test, y_pred = np.exp(lasso_preds)))"
   ]
  },
  {
   "cell_type": "markdown",
   "metadata": {},
   "source": [
    "# ElasticNet"
   ]
  },
  {
   "cell_type": "markdown",
   "metadata": {},
   "source": [
    "## Train Test Split"
   ]
  },
  {
   "cell_type": "code",
   "execution_count": 27,
   "metadata": {
    "ExecuteTime": {
     "end_time": "2020-12-21T09:02:51.702314Z",
     "start_time": "2020-12-21T09:02:51.577986Z"
    }
   },
   "outputs": [],
   "source": [
    "X, y = train_features_df.drop([\"SalePrice\"], axis = 1), train_features_df[\"SalePrice\"]\n",
    "\n",
    "X_train, X_test, y_train, y_test = train_test_split(X, y, test_size = 0.2, random_state = 42)"
   ]
  },
  {
   "cell_type": "markdown",
   "metadata": {},
   "source": [
    "## ElasticNet Regression Model"
   ]
  },
  {
   "cell_type": "code",
   "execution_count": 28,
   "metadata": {
    "ExecuteTime": {
     "end_time": "2020-12-21T09:02:51.905364Z",
     "start_time": "2020-12-21T09:02:51.705010Z"
    }
   },
   "outputs": [],
   "source": [
    "en_model = ElasticNet(alpha = 1.0, l1_ratio = 0.5).fit(X_train, np.log(y_train))\n",
    "en_preds = en_model.predict(X_test)"
   ]
  },
  {
   "cell_type": "markdown",
   "metadata": {},
   "source": [
    "## RMSLE"
   ]
  },
  {
   "cell_type": "code",
   "execution_count": 29,
   "metadata": {
    "ExecuteTime": {
     "end_time": "2020-12-21T09:02:52.060945Z",
     "start_time": "2020-12-21T09:02:51.907358Z"
    }
   },
   "outputs": [
    {
     "data": {
      "text/plain": [
       "0.2537312835164903"
      ]
     },
     "execution_count": 29,
     "metadata": {},
     "output_type": "execute_result"
    }
   ],
   "source": [
    "np.sqrt(mean_squared_log_error(y_true = y_test, y_pred = np.exp(en_preds)))"
   ]
  },
  {
   "cell_type": "markdown",
   "metadata": {},
   "source": [
    "## GridSearchCV optimization"
   ]
  },
  {
   "cell_type": "markdown",
   "metadata": {},
   "source": [
    "**Building Grid**"
   ]
  },
  {
   "cell_type": "code",
   "execution_count": 30,
   "metadata": {
    "ExecuteTime": {
     "end_time": "2020-12-21T09:02:52.232738Z",
     "start_time": "2020-12-21T09:02:52.063939Z"
    }
   },
   "outputs": [],
   "source": [
    "model = ElasticNet()\n",
    "\n",
    "grid = {\n",
    "    \"alpha\": [1e-5, 1e-4, 1e-3, 1e-2, 1e-1, 0.0, 1.0, 10.0, 100.0],\n",
    "    \"l1_ratio\": np.arange(0, 1, 0.01)\n",
    "}\n",
    "\n",
    "search = GridSearchCV(model, grid, scoring='neg_mean_squared_log_error', cv=3, n_jobs=-1)"
   ]
  },
  {
   "cell_type": "markdown",
   "metadata": {},
   "source": [
    "**Fitting All Models**"
   ]
  },
  {
   "cell_type": "code",
   "execution_count": 31,
   "metadata": {
    "ExecuteTime": {
     "end_time": "2020-12-21T09:03:05.340590Z",
     "start_time": "2020-12-21T09:02:52.235281Z"
    }
   },
   "outputs": [],
   "source": [
    "search_results = search.fit(X_train, np.log(y_train))"
   ]
  },
  {
   "cell_type": "markdown",
   "metadata": {},
   "source": [
    "**Best Model Parameters**"
   ]
  },
  {
   "cell_type": "code",
   "execution_count": 32,
   "metadata": {
    "ExecuteTime": {
     "end_time": "2020-12-21T09:03:05.356551Z",
     "start_time": "2020-12-21T09:03:05.345579Z"
    }
   },
   "outputs": [
    {
     "data": {
      "text/plain": [
       "ElasticNet(alpha=0.01, copy_X=True, fit_intercept=True, l1_ratio=0.02,\n",
       "           max_iter=1000, normalize=False, positive=False, precompute=False,\n",
       "           random_state=None, selection='cyclic', tol=0.0001, warm_start=False)"
      ]
     },
     "execution_count": 32,
     "metadata": {},
     "output_type": "execute_result"
    }
   ],
   "source": [
    "search_results.best_estimator_"
   ]
  },
  {
   "cell_type": "markdown",
   "metadata": {},
   "source": [
    "**Fitting Best ElasticNet Model**"
   ]
  },
  {
   "cell_type": "code",
   "execution_count": 33,
   "metadata": {
    "ExecuteTime": {
     "end_time": "2020-12-21T09:03:05.499166Z",
     "start_time": "2020-12-21T09:03:05.359542Z"
    }
   },
   "outputs": [
    {
     "data": {
      "text/plain": [
       "0.14401377852242062"
      ]
     },
     "execution_count": 33,
     "metadata": {},
     "output_type": "execute_result"
    }
   ],
   "source": [
    "best_en_model = ElasticNet(alpha = 0.01, l1_ratio = 0.02).fit(X_train, np.log(y_train))\n",
    "best_en_preds = best_en_model.predict(X_test)\n",
    "np.sqrt(mean_squared_log_error(y_true = y_test, y_pred = np.exp(best_en_preds)))"
   ]
  }
 ],
 "metadata": {
  "kernelspec": {
   "display_name": "Python 3",
   "language": "python",
   "name": "python3"
  },
  "language_info": {
   "codemirror_mode": {
    "name": "ipython",
    "version": 3
   },
   "file_extension": ".py",
   "mimetype": "text/x-python",
   "name": "python",
   "nbconvert_exporter": "python",
   "pygments_lexer": "ipython3",
   "version": "3.7.6"
  },
  "latex_envs": {
   "LaTeX_envs_menu_present": true,
   "autoclose": false,
   "autocomplete": true,
   "bibliofile": "biblio.bib",
   "cite_by": "apalike",
   "current_citInitial": 1,
   "eqLabelWithNumbers": true,
   "eqNumInitial": 1,
   "hotkeys": {
    "equation": "Ctrl-E",
    "itemize": "Ctrl-I"
   },
   "labels_anchors": false,
   "latex_user_defs": false,
   "report_style_numbering": false,
   "user_envs_cfg": false
  },
  "toc": {
   "base_numbering": 1,
   "nav_menu": {},
   "number_sections": true,
   "sideBar": true,
   "skip_h1_title": false,
   "title_cell": "Table of Contents",
   "title_sidebar": "Contents",
   "toc_cell": false,
   "toc_position": {},
   "toc_section_display": true,
   "toc_window_display": true
  }
 },
 "nbformat": 4,
 "nbformat_minor": 4
}
