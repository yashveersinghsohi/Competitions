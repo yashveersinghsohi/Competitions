{
  "nbformat": 4,
  "nbformat_minor": 0,
  "metadata": {
    "colab": {
      "name": "CarPrice_00_Preliminary_EDA.ipynb",
      "provenance": [],
      "collapsed_sections": [],
      "toc_visible": true,
      "authorship_tag": "ABX9TyNEG9iPrquT2oZ4qV2eQ+lp",
      "include_colab_link": true
    },
    "kernelspec": {
      "name": "python3",
      "display_name": "Python 3"
    },
    "language_info": {
      "name": "python"
    }
  },
  "cells": [
    {
      "cell_type": "markdown",
      "metadata": {
        "id": "view-in-github",
        "colab_type": "text"
      },
      "source": [
        "<a href=\"https://colab.research.google.com/github/yashveersinghsohi/Competitions/blob/car-price/EDA_Preprocessing/CarPrice_00_Preliminary_EDA.ipynb\" target=\"_parent\"><img src=\"https://colab.research.google.com/assets/colab-badge.svg\" alt=\"Open In Colab\"/></a>"
      ]
    },
    {
      "cell_type": "markdown",
      "metadata": {
        "id": "q-hnPo6jWTKL"
      },
      "source": [
        "# Importing Packages"
      ]
    },
    {
      "cell_type": "code",
      "metadata": {
        "id": "0DAJd_WyWU4a"
      },
      "source": [
        "import pandas as pd\n",
        "import numpy as np\n",
        "import matplotlib.pyplot as plt\n",
        "import seaborn as sns\n",
        "from sklearn.model_selection import train_test_split\n",
        "from matplotlib.ticker import PercentFormatter"
      ],
      "execution_count": 1,
      "outputs": []
    },
    {
      "cell_type": "markdown",
      "metadata": {
        "id": "z-TVRpTHWY_4"
      },
      "source": [
        "# Data"
      ]
    },
    {
      "cell_type": "code",
      "metadata": {
        "id": "4plT2pPPZc06"
      },
      "source": [
        "root_dir = \"https://raw.githubusercontent.com/yashveersinghsohi/Competitions/car-price/CarPrice/Data/\"\n",
        "train_path = root_dir + \"train.csv\"\n",
        "test_path = root_dir + \"test.csv\"\n",
        "submission_path = root_dir + \"submission.csv\""
      ],
      "execution_count": 2,
      "outputs": []
    },
    {
      "cell_type": "code",
      "metadata": {
        "id": "AvRxvMaFZ1j2"
      },
      "source": [
        "train_df = pd.read_csv(train_path)\n",
        "test_df = pd.read_csv(test_path)\n",
        "submission_df = pd.read_csv(submission_path)"
      ],
      "execution_count": 3,
      "outputs": []
    },
    {
      "cell_type": "markdown",
      "metadata": {
        "id": "Dv_bYVHnaIe3"
      },
      "source": [
        "# Preliminary EDA"
      ]
    },
    {
      "cell_type": "markdown",
      "metadata": {
        "id": "QUAbVfRuiMYS"
      },
      "source": [
        "## Data dimensions"
      ]
    },
    {
      "cell_type": "markdown",
      "metadata": {
        "id": "SIDwERHpau8_"
      },
      "source": [
        "Shape of dataframes"
      ]
    },
    {
      "cell_type": "code",
      "metadata": {
        "colab": {
          "base_uri": "https://localhost:8080/"
        },
        "id": "dNJicjRlaIOn",
        "outputId": "5073b2b7-633d-48be-8419-716d4dcd484d"
      },
      "source": [
        "train_df.shape, test_df.shape"
      ],
      "execution_count": 4,
      "outputs": [
        {
          "output_type": "execute_result",
          "data": {
            "text/plain": [
              "((19237, 18), (8245, 18))"
            ]
          },
          "metadata": {
            "tags": []
          },
          "execution_count": 4
        }
      ]
    },
    {
      "cell_type": "markdown",
      "metadata": {
        "id": "GTmD4NIzayHl"
      },
      "source": [
        "Comparing column names"
      ]
    },
    {
      "cell_type": "code",
      "metadata": {
        "colab": {
          "base_uri": "https://localhost:8080/"
        },
        "id": "P-6TjFS9aIJ9",
        "outputId": "e1117707-5e27-4d9b-c89b-3db27fbe1424"
      },
      "source": [
        "train_df.columns"
      ],
      "execution_count": 5,
      "outputs": [
        {
          "output_type": "execute_result",
          "data": {
            "text/plain": [
              "Index(['ID', 'Price', 'Levy', 'Manufacturer', 'Model', 'Prod. year',\n",
              "       'Category', 'Leather interior', 'Fuel type', 'Engine volume', 'Mileage',\n",
              "       'Cylinders', 'Gear box type', 'Drive wheels', 'Doors', 'Wheel', 'Color',\n",
              "       'Airbags'],\n",
              "      dtype='object')"
            ]
          },
          "metadata": {
            "tags": []
          },
          "execution_count": 5
        }
      ]
    },
    {
      "cell_type": "code",
      "metadata": {
        "colab": {
          "base_uri": "https://localhost:8080/"
        },
        "id": "hOnMXUBVaIIU",
        "outputId": "ad4807c8-4e51-483e-d259-6b20907abbe7"
      },
      "source": [
        "test_df.columns"
      ],
      "execution_count": 6,
      "outputs": [
        {
          "output_type": "execute_result",
          "data": {
            "text/plain": [
              "Index(['ID', 'Levy', 'Manufacturer', 'Model', 'Prod. year', 'Category',\n",
              "       'Leather interior', 'Fuel type', 'Engine volume', 'Mileage',\n",
              "       'Cylinders', 'Gear box type', 'Drive wheels', 'Doors', 'Wheel', 'Color',\n",
              "       'Airbags', 'Price'],\n",
              "      dtype='object')"
            ]
          },
          "metadata": {
            "tags": []
          },
          "execution_count": 6
        }
      ]
    },
    {
      "cell_type": "markdown",
      "metadata": {
        "id": "xyWd5jwsa057"
      },
      "source": [
        "Train and test dataframes have the same columns names. Including Price"
      ]
    },
    {
      "cell_type": "code",
      "metadata": {
        "colab": {
          "base_uri": "https://localhost:8080/"
        },
        "id": "6pKOX6MoWn0P",
        "outputId": "4d638e13-3c03-4aee-9cc5-9247cddd6563"
      },
      "source": [
        "set(train_df.columns) == set(test_df.columns)"
      ],
      "execution_count": 7,
      "outputs": [
        {
          "output_type": "execute_result",
          "data": {
            "text/plain": [
              "True"
            ]
          },
          "metadata": {
            "tags": []
          },
          "execution_count": 7
        }
      ]
    },
    {
      "cell_type": "markdown",
      "metadata": {
        "id": "sClKE97_a5KU"
      },
      "source": [
        "All the values in Price column are NAN for test dataframe"
      ]
    },
    {
      "cell_type": "code",
      "metadata": {
        "colab": {
          "base_uri": "https://localhost:8080/"
        },
        "id": "YssOxWqja7O_",
        "outputId": "a5cbf48a-c425-4a19-c58a-1d1e37a40ed5"
      },
      "source": [
        "test_df[\"Price\"].isnull().sum()"
      ],
      "execution_count": 8,
      "outputs": [
        {
          "output_type": "execute_result",
          "data": {
            "text/plain": [
              "8245"
            ]
          },
          "metadata": {
            "tags": []
          },
          "execution_count": 8
        }
      ]
    },
    {
      "cell_type": "markdown",
      "metadata": {
        "id": "3CrltZhxiQ2m"
      },
      "source": [
        "## Column Data Types"
      ]
    },
    {
      "cell_type": "markdown",
      "metadata": {
        "id": "kYeIUOuucwKd"
      },
      "source": [
        "Data types of columns"
      ]
    },
    {
      "cell_type": "code",
      "metadata": {
        "colab": {
          "base_uri": "https://localhost:8080/"
        },
        "id": "X30sTOg7cfRV",
        "outputId": "4cca74ca-592f-4d10-c218-ba374c308ed6"
      },
      "source": [
        "train_df.info()"
      ],
      "execution_count": 9,
      "outputs": [
        {
          "output_type": "stream",
          "text": [
            "<class 'pandas.core.frame.DataFrame'>\n",
            "RangeIndex: 19237 entries, 0 to 19236\n",
            "Data columns (total 18 columns):\n",
            " #   Column            Non-Null Count  Dtype  \n",
            "---  ------            --------------  -----  \n",
            " 0   ID                19237 non-null  int64  \n",
            " 1   Price             19237 non-null  int64  \n",
            " 2   Levy              19237 non-null  object \n",
            " 3   Manufacturer      19237 non-null  object \n",
            " 4   Model             19237 non-null  object \n",
            " 5   Prod. year        19237 non-null  int64  \n",
            " 6   Category          19237 non-null  object \n",
            " 7   Leather interior  19237 non-null  object \n",
            " 8   Fuel type         19237 non-null  object \n",
            " 9   Engine volume     19237 non-null  object \n",
            " 10  Mileage           19237 non-null  object \n",
            " 11  Cylinders         19237 non-null  float64\n",
            " 12  Gear box type     19237 non-null  object \n",
            " 13  Drive wheels      19237 non-null  object \n",
            " 14  Doors             19237 non-null  object \n",
            " 15  Wheel             19237 non-null  object \n",
            " 16  Color             19237 non-null  object \n",
            " 17  Airbags           19237 non-null  int64  \n",
            "dtypes: float64(1), int64(4), object(13)\n",
            "memory usage: 2.6+ MB\n"
          ],
          "name": "stdout"
        }
      ]
    },
    {
      "cell_type": "code",
      "metadata": {
        "colab": {
          "base_uri": "https://localhost:8080/"
        },
        "id": "vb3WlsO0crkB",
        "outputId": "25a38be7-df53-4a7f-e4f3-269736be300a"
      },
      "source": [
        "test_df.info()"
      ],
      "execution_count": 10,
      "outputs": [
        {
          "output_type": "stream",
          "text": [
            "<class 'pandas.core.frame.DataFrame'>\n",
            "RangeIndex: 8245 entries, 0 to 8244\n",
            "Data columns (total 18 columns):\n",
            " #   Column            Non-Null Count  Dtype  \n",
            "---  ------            --------------  -----  \n",
            " 0   ID                8245 non-null   int64  \n",
            " 1   Levy              8245 non-null   object \n",
            " 2   Manufacturer      8245 non-null   object \n",
            " 3   Model             8245 non-null   object \n",
            " 4   Prod. year        8245 non-null   int64  \n",
            " 5   Category          8245 non-null   object \n",
            " 6   Leather interior  8245 non-null   object \n",
            " 7   Fuel type         8245 non-null   object \n",
            " 8   Engine volume     8245 non-null   object \n",
            " 9   Mileage           8245 non-null   object \n",
            " 10  Cylinders         8245 non-null   int64  \n",
            " 11  Gear box type     8245 non-null   object \n",
            " 12  Drive wheels      8245 non-null   object \n",
            " 13  Doors             8245 non-null   object \n",
            " 14  Wheel             8245 non-null   object \n",
            " 15  Color             8245 non-null   object \n",
            " 16  Airbags           8245 non-null   int64  \n",
            " 17  Price             0 non-null      float64\n",
            "dtypes: float64(1), int64(4), object(13)\n",
            "memory usage: 1.1+ MB\n"
          ],
          "name": "stdout"
        }
      ]
    },
    {
      "cell_type": "markdown",
      "metadata": {
        "id": "yOVYA1sNeCxA"
      },
      "source": [
        "Numerical and Object data type columns."
      ]
    },
    {
      "cell_type": "code",
      "metadata": {
        "id": "_LVrm8EecfNF"
      },
      "source": [
        "num_features = [\"Prod. year\", \"Cylinders\", \"Airbags\"]\n",
        "obj_features = [\"Levy\", \"Manufacturer\", \"Model\", \n",
        "                \"Category\", \"Leather interior\", \n",
        "                \"Fuel type\", \"Engine volume\", \"Mileage\", \n",
        "                \"Gear box type\", \"Drive wheels\", \"Doors\", \n",
        "                \"Wheel\", \"Color\"]\n",
        "target_features = [\"Price\"]"
      ],
      "execution_count": 11,
      "outputs": []
    },
    {
      "cell_type": "code",
      "metadata": {
        "colab": {
          "base_uri": "https://localhost:8080/",
          "height": 297
        },
        "id": "kpCZ42ofcfKy",
        "outputId": "b85f9779-85ce-4a98-a8bf-00321aeb6e2d"
      },
      "source": [
        "train_df[num_features].describe()"
      ],
      "execution_count": 12,
      "outputs": [
        {
          "output_type": "execute_result",
          "data": {
            "text/html": [
              "<div>\n",
              "<style scoped>\n",
              "    .dataframe tbody tr th:only-of-type {\n",
              "        vertical-align: middle;\n",
              "    }\n",
              "\n",
              "    .dataframe tbody tr th {\n",
              "        vertical-align: top;\n",
              "    }\n",
              "\n",
              "    .dataframe thead th {\n",
              "        text-align: right;\n",
              "    }\n",
              "</style>\n",
              "<table border=\"1\" class=\"dataframe\">\n",
              "  <thead>\n",
              "    <tr style=\"text-align: right;\">\n",
              "      <th></th>\n",
              "      <th>Prod. year</th>\n",
              "      <th>Cylinders</th>\n",
              "      <th>Airbags</th>\n",
              "    </tr>\n",
              "  </thead>\n",
              "  <tbody>\n",
              "    <tr>\n",
              "      <th>count</th>\n",
              "      <td>19237.000000</td>\n",
              "      <td>19237.000000</td>\n",
              "      <td>19237.000000</td>\n",
              "    </tr>\n",
              "    <tr>\n",
              "      <th>mean</th>\n",
              "      <td>2010.912824</td>\n",
              "      <td>4.582991</td>\n",
              "      <td>6.582627</td>\n",
              "    </tr>\n",
              "    <tr>\n",
              "      <th>std</th>\n",
              "      <td>5.668673</td>\n",
              "      <td>1.199933</td>\n",
              "      <td>4.320168</td>\n",
              "    </tr>\n",
              "    <tr>\n",
              "      <th>min</th>\n",
              "      <td>1939.000000</td>\n",
              "      <td>1.000000</td>\n",
              "      <td>0.000000</td>\n",
              "    </tr>\n",
              "    <tr>\n",
              "      <th>25%</th>\n",
              "      <td>2009.000000</td>\n",
              "      <td>4.000000</td>\n",
              "      <td>4.000000</td>\n",
              "    </tr>\n",
              "    <tr>\n",
              "      <th>50%</th>\n",
              "      <td>2012.000000</td>\n",
              "      <td>4.000000</td>\n",
              "      <td>6.000000</td>\n",
              "    </tr>\n",
              "    <tr>\n",
              "      <th>75%</th>\n",
              "      <td>2015.000000</td>\n",
              "      <td>4.000000</td>\n",
              "      <td>12.000000</td>\n",
              "    </tr>\n",
              "    <tr>\n",
              "      <th>max</th>\n",
              "      <td>2020.000000</td>\n",
              "      <td>16.000000</td>\n",
              "      <td>16.000000</td>\n",
              "    </tr>\n",
              "  </tbody>\n",
              "</table>\n",
              "</div>"
            ],
            "text/plain": [
              "         Prod. year     Cylinders       Airbags\n",
              "count  19237.000000  19237.000000  19237.000000\n",
              "mean    2010.912824      4.582991      6.582627\n",
              "std        5.668673      1.199933      4.320168\n",
              "min     1939.000000      1.000000      0.000000\n",
              "25%     2009.000000      4.000000      4.000000\n",
              "50%     2012.000000      4.000000      6.000000\n",
              "75%     2015.000000      4.000000     12.000000\n",
              "max     2020.000000     16.000000     16.000000"
            ]
          },
          "metadata": {
            "tags": []
          },
          "execution_count": 12
        }
      ]
    },
    {
      "cell_type": "code",
      "metadata": {
        "colab": {
          "base_uri": "https://localhost:8080/",
          "height": 297
        },
        "id": "9wfZkzofcfJK",
        "outputId": "354be938-5d6c-43c9-ab1d-c8b625d24f14"
      },
      "source": [
        "test_df[num_features].describe()"
      ],
      "execution_count": 13,
      "outputs": [
        {
          "output_type": "execute_result",
          "data": {
            "text/html": [
              "<div>\n",
              "<style scoped>\n",
              "    .dataframe tbody tr th:only-of-type {\n",
              "        vertical-align: middle;\n",
              "    }\n",
              "\n",
              "    .dataframe tbody tr th {\n",
              "        vertical-align: top;\n",
              "    }\n",
              "\n",
              "    .dataframe thead th {\n",
              "        text-align: right;\n",
              "    }\n",
              "</style>\n",
              "<table border=\"1\" class=\"dataframe\">\n",
              "  <thead>\n",
              "    <tr style=\"text-align: right;\">\n",
              "      <th></th>\n",
              "      <th>Prod. year</th>\n",
              "      <th>Cylinders</th>\n",
              "      <th>Airbags</th>\n",
              "    </tr>\n",
              "  </thead>\n",
              "  <tbody>\n",
              "    <tr>\n",
              "      <th>count</th>\n",
              "      <td>8245.000000</td>\n",
              "      <td>8245.000000</td>\n",
              "      <td>8245.000000</td>\n",
              "    </tr>\n",
              "    <tr>\n",
              "      <th>mean</th>\n",
              "      <td>2010.911583</td>\n",
              "      <td>4.618799</td>\n",
              "      <td>6.519102</td>\n",
              "    </tr>\n",
              "    <tr>\n",
              "      <th>std</th>\n",
              "      <td>5.548762</td>\n",
              "      <td>1.817581</td>\n",
              "      <td>4.350323</td>\n",
              "    </tr>\n",
              "    <tr>\n",
              "      <th>min</th>\n",
              "      <td>1943.000000</td>\n",
              "      <td>1.000000</td>\n",
              "      <td>0.000000</td>\n",
              "    </tr>\n",
              "    <tr>\n",
              "      <th>25%</th>\n",
              "      <td>2009.000000</td>\n",
              "      <td>4.000000</td>\n",
              "      <td>4.000000</td>\n",
              "    </tr>\n",
              "    <tr>\n",
              "      <th>50%</th>\n",
              "      <td>2012.000000</td>\n",
              "      <td>4.000000</td>\n",
              "      <td>6.000000</td>\n",
              "    </tr>\n",
              "    <tr>\n",
              "      <th>75%</th>\n",
              "      <td>2014.000000</td>\n",
              "      <td>4.000000</td>\n",
              "      <td>12.000000</td>\n",
              "    </tr>\n",
              "    <tr>\n",
              "      <th>max</th>\n",
              "      <td>2020.000000</td>\n",
              "      <td>127.000000</td>\n",
              "      <td>16.000000</td>\n",
              "    </tr>\n",
              "  </tbody>\n",
              "</table>\n",
              "</div>"
            ],
            "text/plain": [
              "        Prod. year    Cylinders      Airbags\n",
              "count  8245.000000  8245.000000  8245.000000\n",
              "mean   2010.911583     4.618799     6.519102\n",
              "std       5.548762     1.817581     4.350323\n",
              "min    1943.000000     1.000000     0.000000\n",
              "25%    2009.000000     4.000000     4.000000\n",
              "50%    2012.000000     4.000000     6.000000\n",
              "75%    2014.000000     4.000000    12.000000\n",
              "max    2020.000000   127.000000    16.000000"
            ]
          },
          "metadata": {
            "tags": []
          },
          "execution_count": 13
        }
      ]
    },
    {
      "cell_type": "markdown",
      "metadata": {
        "id": "5StNLpvWj1po"
      },
      "source": [
        "# Splitting data"
      ]
    },
    {
      "cell_type": "code",
      "metadata": {
        "id": "-ct9sV54krTa"
      },
      "source": [
        "train_og = train_df.copy()\n",
        "features = train_df[num_features+obj_features]\n",
        "targets = train_df[target_features]"
      ],
      "execution_count": 14,
      "outputs": []
    },
    {
      "cell_type": "code",
      "metadata": {
        "colab": {
          "base_uri": "https://localhost:8080/"
        },
        "id": "NTUDw3NqlovL",
        "outputId": "51e31566-bbe8-4993-aab0-302127407b93"
      },
      "source": [
        "features.shape, targets.shape"
      ],
      "execution_count": 15,
      "outputs": [
        {
          "output_type": "execute_result",
          "data": {
            "text/plain": [
              "((19237, 16), (19237, 1))"
            ]
          },
          "metadata": {
            "tags": []
          },
          "execution_count": 15
        }
      ]
    },
    {
      "cell_type": "code",
      "metadata": {
        "colab": {
          "base_uri": "https://localhost:8080/"
        },
        "id": "dvXdLzGdj3yr",
        "outputId": "818f1386-47ba-462f-c7a1-b00ec33ce055"
      },
      "source": [
        "train_features, val_features, train_targets, val_targets = train_test_split(\n",
        "                                                              features, targets, \n",
        "                                                              random_state=42, \n",
        "                                                              test_size=0.2\n",
        "                                                            )\n",
        "train_features.shape, val_features.shape, train_targets.shape, val_targets.shape"
      ],
      "execution_count": 16,
      "outputs": [
        {
          "output_type": "execute_result",
          "data": {
            "text/plain": [
              "((15389, 16), (3848, 16), (15389, 1), (3848, 1))"
            ]
          },
          "metadata": {
            "tags": []
          },
          "execution_count": 16
        }
      ]
    },
    {
      "cell_type": "markdown",
      "metadata": {
        "id": "0-QCGASkjejC"
      },
      "source": [
        "# EDA"
      ]
    },
    {
      "cell_type": "markdown",
      "metadata": {
        "id": "XVZkBLIcneGq"
      },
      "source": [
        "## Univariate EDA"
      ]
    },
    {
      "cell_type": "markdown",
      "metadata": {
        "id": "qALfAMzunamm"
      },
      "source": [
        "### Numerical data types"
      ]
    },
    {
      "cell_type": "code",
      "metadata": {
        "colab": {
          "base_uri": "https://localhost:8080/"
        },
        "id": "sMmNbQX8cfHi",
        "outputId": "b7088075-6a16-49e5-e422-c251315fbd34"
      },
      "source": [
        "num_features"
      ],
      "execution_count": 17,
      "outputs": [
        {
          "output_type": "execute_result",
          "data": {
            "text/plain": [
              "['Prod. year', 'Cylinders', 'Airbags']"
            ]
          },
          "metadata": {
            "tags": []
          },
          "execution_count": 17
        }
      ]
    },
    {
      "cell_type": "markdown",
      "metadata": {
        "id": "wG8xOidQoWIx"
      },
      "source": [
        "#### Prod. year"
      ]
    },
    {
      "cell_type": "markdown",
      "metadata": {
        "id": "0UwNPMyWo45v"
      },
      "source": [
        "Number of records for each year"
      ]
    },
    {
      "cell_type": "code",
      "metadata": {
        "colab": {
          "base_uri": "https://localhost:8080/"
        },
        "id": "yMI0Bke-oamX",
        "outputId": "7595e186-c7a7-481d-83fa-0c1d5aee641a"
      },
      "source": [
        "(train_features[\"Prod. year\"].value_counts().sort_index()/train_features[\"Prod. year\"].shape[0]) * 100"
      ],
      "execution_count": 23,
      "outputs": [
        {
          "output_type": "execute_result",
          "data": {
            "text/plain": [
              "1939     0.019494\n",
              "1953     0.019494\n",
              "1957     0.006498\n",
              "1964     0.012996\n",
              "1965     0.006498\n",
              "1968     0.006498\n",
              "1973     0.006498\n",
              "1974     0.012996\n",
              "1976     0.006498\n",
              "1977     0.006498\n",
              "1978     0.006498\n",
              "1980     0.012996\n",
              "1981     0.006498\n",
              "1982     0.006498\n",
              "1983     0.019494\n",
              "1984     0.025993\n",
              "1985     0.025993\n",
              "1986     0.038989\n",
              "1987     0.019494\n",
              "1988     0.051985\n",
              "1989     0.032491\n",
              "1990     0.090974\n",
              "1991     0.064981\n",
              "1992     0.149457\n",
              "1993     0.103970\n",
              "1994     0.188446\n",
              "1995     0.571837\n",
              "1996     0.591331\n",
              "1997     0.734291\n",
              "1998     1.137176\n",
              "1999     1.000715\n",
              "2000     1.488076\n",
              "2001     1.306128\n",
              "2002     1.559556\n",
              "2003     1.864968\n",
              "2004     1.910456\n",
              "2005     2.046917\n",
              "2006     1.605043\n",
              "2007     2.488791\n",
              "2008     3.846904\n",
              "2009     3.054130\n",
              "2010     7.797778\n",
              "2011     8.174670\n",
              "2012    11.241796\n",
              "2013    10.176100\n",
              "2014    11.105335\n",
              "2015     8.096692\n",
              "2016     7.823770\n",
              "2017     4.880109\n",
              "2018     2.696731\n",
              "2019     1.611541\n",
              "2020     0.240431\n",
              "Name: Prod. year, dtype: float64"
            ]
          },
          "metadata": {
            "tags": []
          },
          "execution_count": 23
        }
      ]
    },
    {
      "cell_type": "markdown",
      "metadata": {
        "id": "2gUkL2xVujlL"
      },
      "source": [
        "Bar graph showing number of records observed each year."
      ]
    },
    {
      "cell_type": "code",
      "metadata": {
        "id": "Wdqwgh2ToaiF",
        "colab": {
          "base_uri": "https://localhost:8080/",
          "height": 269
        },
        "outputId": "5b62e540-149d-4b34-9255-5a5a406d2b54"
      },
      "source": [
        "fig, ax = plt.subplots(figsize=(20, 5))\n",
        "temp_series = (train_features[\"Prod. year\"].value_counts().sort_index()/train_features[\"Prod. year\"].shape[0]) * 100\n",
        "temp_series.plot.bar(ax=ax)\n",
        "\n",
        "ax.grid()\n",
        "ax.set_xlabel(\"Year\", size=12)\n",
        "ax.set_ylabel(\"%age of records\", size=12)\n",
        "plt.show()"
      ],
      "execution_count": 24,
      "outputs": [
        {
          "output_type": "display_data",
          "data": {
            "image/png": "[encoded data removed]",
            "text/plain": [
              "<Figure size 1440x360 with 1 Axes>"
            ]
          },
          "metadata": {
            "tags": [],
            "needs_background": "light"
          }
        }
      ]
    },
    {
      "cell_type": "markdown",
      "metadata": {
        "id": "kugDTp87upJl"
      },
      "source": [
        "Paraeto graph"
      ]
    },
    {
      "cell_type": "code",
      "metadata": {
        "colab": {
          "base_uri": "https://localhost:8080/",
          "height": 242
        },
        "id": "n7ff-Si7uhr2",
        "outputId": "d9ed235e-fffb-4a71-c33e-b68599fe043a"
      },
      "source": [
        "fig, ax = plt.subplots(figsize=(20, 5))\n",
        "temp_series = (train_features[\"Prod. year\"].value_counts().sort_index()/train_features[\"Prod. year\"].shape[0]) * 100\n",
        "\n",
        "# Bar Plot\n",
        "ax.bar(temp_series.index, temp_series.to_numpy(), alpha=0.5)\n",
        "\n",
        "# Paraeto Graph\n",
        "ax2 = ax.twinx()\n",
        "ax2.plot(temp_series.cumsum(), color=\"C1\", marker=\"D\")\n",
        "\n",
        "ax2.yaxis.set_major_formatter(PercentFormatter())\n",
        "ax2.tick_params(axis=\"y\", colors=\"C1\")\n",
        "ax.tick_params(axis=\"y\", colors=\"C0\")\n",
        "\n",
        "ax2.grid()\n",
        "plt.show()"
      ],
      "execution_count": 25,
      "outputs": [
        {
          "output_type": "display_data",
          "data": {
            "image/png": "[encoded data removed]",
            "text/plain": [
              "<Figure size 1440x360 with 2 Axes>"
            ]
          },
          "metadata": {
            "tags": []
          }
        }
      ]
    },
    {
      "cell_type": "markdown",
      "metadata": {
        "id": "meohQ6Fwut0c"
      },
      "source": [
        "Checking the min and max values in validation and test sets"
      ]
    },
    {
      "cell_type": "code",
      "metadata": {
        "id": "A9IadGg_oag1",
        "colab": {
          "base_uri": "https://localhost:8080/"
        },
        "outputId": "f850eacf-2fe3-4701-ce66-b27dd742de3d"
      },
      "source": [
        "val_features[\"Prod. year\"].min(), val_features[\"Prod. year\"].max()"
      ],
      "execution_count": 26,
      "outputs": [
        {
          "output_type": "execute_result",
          "data": {
            "text/plain": [
              "(1943, 2020)"
            ]
          },
          "metadata": {
            "tags": []
          },
          "execution_count": 26
        }
      ]
    },
    {
      "cell_type": "code",
      "metadata": {
        "id": "esbpGvyGoae5",
        "colab": {
          "base_uri": "https://localhost:8080/"
        },
        "outputId": "787a1467-3bec-4f33-8a95-783f9d385019"
      },
      "source": [
        "test_df[\"Prod. year\"].min(), test_df[\"Prod. year\"].max()"
      ],
      "execution_count": 27,
      "outputs": [
        {
          "output_type": "execute_result",
          "data": {
            "text/plain": [
              "(1943, 2020)"
            ]
          },
          "metadata": {
            "tags": []
          },
          "execution_count": 27
        }
      ]
    },
    {
      "cell_type": "markdown",
      "metadata": {
        "id": "T0OoNggzrlDM"
      },
      "source": [
        "#### Cylinders"
      ]
    },
    {
      "cell_type": "markdown",
      "metadata": {
        "id": "-7rxwWfcu6Mj"
      },
      "source": [
        "Number of cars with each category of `Cylinders`"
      ]
    },
    {
      "cell_type": "code",
      "metadata": {
        "colab": {
          "base_uri": "https://localhost:8080/",
          "height": 390
        },
        "id": "2H2SuKSUrmCb",
        "outputId": "8c626fcc-8274-4e86-95ae-7c95012b7770"
      },
      "source": [
        "temp_series = train_features[\"Cylinders\"].value_counts().sort_index()\n",
        "\n",
        "temp_df = pd.DataFrame(\n",
        "  np.c_[\n",
        "        temp_series.index, \n",
        "        temp_series.to_numpy(), \n",
        "        (temp_series.to_numpy()/train_features[\"Cylinders\"].shape[0])*100\n",
        "      ], \n",
        "  columns=[\"Cylinders\", \"Value_Counts\", \"%age_Value_Counts\"])\n",
        "temp_df"
      ],
      "execution_count": 39,
      "outputs": [
        {
          "output_type": "execute_result",
          "data": {
            "text/html": [
              "<div>\n",
              "<style scoped>\n",
              "    .dataframe tbody tr th:only-of-type {\n",
              "        vertical-align: middle;\n",
              "    }\n",
              "\n",
              "    .dataframe tbody tr th {\n",
              "        vertical-align: top;\n",
              "    }\n",
              "\n",
              "    .dataframe thead th {\n",
              "        text-align: right;\n",
              "    }\n",
              "</style>\n",
              "<table border=\"1\" class=\"dataframe\">\n",
              "  <thead>\n",
              "    <tr style=\"text-align: right;\">\n",
              "      <th></th>\n",
              "      <th>Cylinders</th>\n",
              "      <th>Value_Counts</th>\n",
              "      <th>%age_Value_Counts</th>\n",
              "    </tr>\n",
              "  </thead>\n",
              "  <tbody>\n",
              "    <tr>\n",
              "      <th>0</th>\n",
              "      <td>1.0</td>\n",
              "      <td>30.0</td>\n",
              "      <td>0.194944</td>\n",
              "    </tr>\n",
              "    <tr>\n",
              "      <th>1</th>\n",
              "      <td>2.0</td>\n",
              "      <td>37.0</td>\n",
              "      <td>0.240431</td>\n",
              "    </tr>\n",
              "    <tr>\n",
              "      <th>2</th>\n",
              "      <td>3.0</td>\n",
              "      <td>85.0</td>\n",
              "      <td>0.552343</td>\n",
              "    </tr>\n",
              "    <tr>\n",
              "      <th>3</th>\n",
              "      <td>4.0</td>\n",
              "      <td>11503.0</td>\n",
              "      <td>74.748197</td>\n",
              "    </tr>\n",
              "    <tr>\n",
              "      <th>4</th>\n",
              "      <td>5.0</td>\n",
              "      <td>132.0</td>\n",
              "      <td>0.857756</td>\n",
              "    </tr>\n",
              "    <tr>\n",
              "      <th>5</th>\n",
              "      <td>6.0</td>\n",
              "      <td>2766.0</td>\n",
              "      <td>17.973877</td>\n",
              "    </tr>\n",
              "    <tr>\n",
              "      <th>6</th>\n",
              "      <td>7.0</td>\n",
              "      <td>3.0</td>\n",
              "      <td>0.019494</td>\n",
              "    </tr>\n",
              "    <tr>\n",
              "      <th>7</th>\n",
              "      <td>8.0</td>\n",
              "      <td>792.0</td>\n",
              "      <td>5.146533</td>\n",
              "    </tr>\n",
              "    <tr>\n",
              "      <th>8</th>\n",
              "      <td>10.0</td>\n",
              "      <td>10.0</td>\n",
              "      <td>0.064981</td>\n",
              "    </tr>\n",
              "    <tr>\n",
              "      <th>9</th>\n",
              "      <td>12.0</td>\n",
              "      <td>26.0</td>\n",
              "      <td>0.168952</td>\n",
              "    </tr>\n",
              "    <tr>\n",
              "      <th>10</th>\n",
              "      <td>16.0</td>\n",
              "      <td>5.0</td>\n",
              "      <td>0.032491</td>\n",
              "    </tr>\n",
              "  </tbody>\n",
              "</table>\n",
              "</div>"
            ],
            "text/plain": [
              "    Cylinders  Value_Counts  %age_Value_Counts\n",
              "0         1.0          30.0           0.194944\n",
              "1         2.0          37.0           0.240431\n",
              "2         3.0          85.0           0.552343\n",
              "3         4.0       11503.0          74.748197\n",
              "4         5.0         132.0           0.857756\n",
              "5         6.0        2766.0          17.973877\n",
              "6         7.0           3.0           0.019494\n",
              "7         8.0         792.0           5.146533\n",
              "8        10.0          10.0           0.064981\n",
              "9        12.0          26.0           0.168952\n",
              "10       16.0           5.0           0.032491"
            ]
          },
          "metadata": {
            "tags": []
          },
          "execution_count": 39
        }
      ]
    },
    {
      "cell_type": "markdown",
      "metadata": {
        "id": "0kUMGk_cxQPF"
      },
      "source": [
        "Bar graphs for number of cars of each `Cylinders` category"
      ]
    },
    {
      "cell_type": "code",
      "metadata": {
        "colab": {
          "base_uri": "https://localhost:8080/",
          "height": 349
        },
        "id": "QN9pfZ2Vrl-R",
        "outputId": "306f9964-a8d8-40c9-9c90-75c3b041bafa"
      },
      "source": [
        "fig, ax = plt.subplots(figsize=(8, 5))\n",
        "temp_df[\"%age_Value_Counts\"].plot.bar(ax=ax)\n",
        "\n",
        "ax.grid()\n",
        "ax.set_xticklabels(temp_df[\"Cylinders\"])\n",
        "ax.set_xlabel(\"Cylinders\", size=12)\n",
        "ax.set_ylabel(\"%age of records\", size=12)\n",
        "plt.show()"
      ],
      "execution_count": 44,
      "outputs": [
        {
          "output_type": "display_data",
          "data": {
            "image/png": "[encoded data removed]",
            "text/plain": [
              "<Figure size 576x360 with 1 Axes>"
            ]
          },
          "metadata": {
            "tags": [],
            "needs_background": "light"
          }
        }
      ]
    },
    {
      "cell_type": "markdown",
      "metadata": {
        "id": "gvG6MkR4QaZb"
      },
      "source": [
        "Checking for consistency in val and test sets"
      ]
    },
    {
      "cell_type": "code",
      "metadata": {
        "colab": {
          "base_uri": "https://localhost:8080/"
        },
        "id": "7c6XvEO3PxlU",
        "outputId": "1d72292e-fbba-4d0d-c8c7-8ab86763691a"
      },
      "source": [
        "val_features[\"Cylinders\"].min(), val_features[\"Cylinders\"].max()"
      ],
      "execution_count": 114,
      "outputs": [
        {
          "output_type": "execute_result",
          "data": {
            "text/plain": [
              "(1.0, 14.0)"
            ]
          },
          "metadata": {
            "tags": []
          },
          "execution_count": 114
        }
      ]
    },
    {
      "cell_type": "code",
      "metadata": {
        "colab": {
          "base_uri": "https://localhost:8080/"
        },
        "id": "OgdNHpXwPxhk",
        "outputId": "84872839-d8bb-4127-bdaf-3f293103b670"
      },
      "source": [
        "test_df[\"Cylinders\"].min(), test_df[\"Cylinders\"].max()"
      ],
      "execution_count": 115,
      "outputs": [
        {
          "output_type": "execute_result",
          "data": {
            "text/plain": [
              "(1, 127)"
            ]
          },
          "metadata": {
            "tags": []
          },
          "execution_count": 115
        }
      ]
    },
    {
      "cell_type": "code",
      "metadata": {
        "colab": {
          "base_uri": "https://localhost:8080/"
        },
        "id": "tC20OwPRQRpC",
        "outputId": "6c4b7483-52f4-4d3e-ed60-234083f33225"
      },
      "source": [
        "test_df[\"Cylinders\"].value_counts().sort_index()"
      ],
      "execution_count": 120,
      "outputs": [
        {
          "output_type": "execute_result",
          "data": {
            "text/plain": [
              "1        14\n",
              "2        17\n",
              "3        54\n",
              "4      6115\n",
              "5        68\n",
              "6      1473\n",
              "7         4\n",
              "8       474\n",
              "9         1\n",
              "10        6\n",
              "11        1\n",
              "12       16\n",
              "15        1\n",
              "127       1\n",
              "Name: Cylinders, dtype: int64"
            ]
          },
          "metadata": {
            "tags": []
          },
          "execution_count": 120
        }
      ]
    },
    {
      "cell_type": "markdown",
      "metadata": {
        "id": "MkAlZ6Opx7dq"
      },
      "source": [
        "#### Airbags"
      ]
    },
    {
      "cell_type": "markdown",
      "metadata": {
        "id": "tATcTGlg09sC"
      },
      "source": [
        "Value Counts"
      ]
    },
    {
      "cell_type": "code",
      "metadata": {
        "colab": {
          "base_uri": "https://localhost:8080/",
          "height": 576
        },
        "id": "jY5DgMjbrl8b",
        "outputId": "4864e1a4-4ea0-404d-a076-adf189ea6c2d"
      },
      "source": [
        "temp_series = train_features[\"Airbags\"].value_counts().sort_index()\n",
        "\n",
        "temp_df = pd.DataFrame(\n",
        "  np.c_[\n",
        "        temp_series.index, \n",
        "        temp_series.to_numpy(), \n",
        "        (temp_series.to_numpy()/train_features.shape[0])*100\n",
        "  ], \n",
        "  columns = [\"Airbags\", \"Value_COunts\", \"%age_Value_Counts\"]\n",
        ")\n",
        "temp_df"
      ],
      "execution_count": 50,
      "outputs": [
        {
          "output_type": "execute_result",
          "data": {
            "text/html": [
              "<div>\n",
              "<style scoped>\n",
              "    .dataframe tbody tr th:only-of-type {\n",
              "        vertical-align: middle;\n",
              "    }\n",
              "\n",
              "    .dataframe tbody tr th {\n",
              "        vertical-align: top;\n",
              "    }\n",
              "\n",
              "    .dataframe thead th {\n",
              "        text-align: right;\n",
              "    }\n",
              "</style>\n",
              "<table border=\"1\" class=\"dataframe\">\n",
              "  <thead>\n",
              "    <tr style=\"text-align: right;\">\n",
              "      <th></th>\n",
              "      <th>Airbags</th>\n",
              "      <th>Value_COunts</th>\n",
              "      <th>%age_Value_Counts</th>\n",
              "    </tr>\n",
              "  </thead>\n",
              "  <tbody>\n",
              "    <tr>\n",
              "      <th>0</th>\n",
              "      <td>0.0</td>\n",
              "      <td>1950.0</td>\n",
              "      <td>12.671389</td>\n",
              "    </tr>\n",
              "    <tr>\n",
              "      <th>1</th>\n",
              "      <td>1.0</td>\n",
              "      <td>64.0</td>\n",
              "      <td>0.415881</td>\n",
              "    </tr>\n",
              "    <tr>\n",
              "      <th>2</th>\n",
              "      <td>2.0</td>\n",
              "      <td>838.0</td>\n",
              "      <td>5.445448</td>\n",
              "    </tr>\n",
              "    <tr>\n",
              "      <th>3</th>\n",
              "      <td>3.0</td>\n",
              "      <td>31.0</td>\n",
              "      <td>0.201443</td>\n",
              "    </tr>\n",
              "    <tr>\n",
              "      <th>4</th>\n",
              "      <td>4.0</td>\n",
              "      <td>4665.0</td>\n",
              "      <td>30.313861</td>\n",
              "    </tr>\n",
              "    <tr>\n",
              "      <th>5</th>\n",
              "      <td>5.0</td>\n",
              "      <td>85.0</td>\n",
              "      <td>0.552343</td>\n",
              "    </tr>\n",
              "    <tr>\n",
              "      <th>6</th>\n",
              "      <td>6.0</td>\n",
              "      <td>1016.0</td>\n",
              "      <td>6.602118</td>\n",
              "    </tr>\n",
              "    <tr>\n",
              "      <th>7</th>\n",
              "      <td>7.0</td>\n",
              "      <td>76.0</td>\n",
              "      <td>0.493859</td>\n",
              "    </tr>\n",
              "    <tr>\n",
              "      <th>8</th>\n",
              "      <td>8.0</td>\n",
              "      <td>1290.0</td>\n",
              "      <td>8.382611</td>\n",
              "    </tr>\n",
              "    <tr>\n",
              "      <th>9</th>\n",
              "      <td>9.0</td>\n",
              "      <td>52.0</td>\n",
              "      <td>0.337904</td>\n",
              "    </tr>\n",
              "    <tr>\n",
              "      <th>10</th>\n",
              "      <td>10.0</td>\n",
              "      <td>693.0</td>\n",
              "      <td>4.503217</td>\n",
              "    </tr>\n",
              "    <tr>\n",
              "      <th>11</th>\n",
              "      <td>11.0</td>\n",
              "      <td>22.0</td>\n",
              "      <td>0.142959</td>\n",
              "    </tr>\n",
              "    <tr>\n",
              "      <th>12</th>\n",
              "      <td>12.0</td>\n",
              "      <td>4506.0</td>\n",
              "      <td>29.280655</td>\n",
              "    </tr>\n",
              "    <tr>\n",
              "      <th>13</th>\n",
              "      <td>13.0</td>\n",
              "      <td>2.0</td>\n",
              "      <td>0.012996</td>\n",
              "    </tr>\n",
              "    <tr>\n",
              "      <th>14</th>\n",
              "      <td>14.0</td>\n",
              "      <td>17.0</td>\n",
              "      <td>0.110469</td>\n",
              "    </tr>\n",
              "    <tr>\n",
              "      <th>15</th>\n",
              "      <td>15.0</td>\n",
              "      <td>3.0</td>\n",
              "      <td>0.019494</td>\n",
              "    </tr>\n",
              "    <tr>\n",
              "      <th>16</th>\n",
              "      <td>16.0</td>\n",
              "      <td>79.0</td>\n",
              "      <td>0.513354</td>\n",
              "    </tr>\n",
              "  </tbody>\n",
              "</table>\n",
              "</div>"
            ],
            "text/plain": [
              "    Airbags  Value_COunts  %age_Value_Counts\n",
              "0       0.0        1950.0          12.671389\n",
              "1       1.0          64.0           0.415881\n",
              "2       2.0         838.0           5.445448\n",
              "3       3.0          31.0           0.201443\n",
              "4       4.0        4665.0          30.313861\n",
              "5       5.0          85.0           0.552343\n",
              "6       6.0        1016.0           6.602118\n",
              "7       7.0          76.0           0.493859\n",
              "8       8.0        1290.0           8.382611\n",
              "9       9.0          52.0           0.337904\n",
              "10     10.0         693.0           4.503217\n",
              "11     11.0          22.0           0.142959\n",
              "12     12.0        4506.0          29.280655\n",
              "13     13.0           2.0           0.012996\n",
              "14     14.0          17.0           0.110469\n",
              "15     15.0           3.0           0.019494\n",
              "16     16.0          79.0           0.513354"
            ]
          },
          "metadata": {
            "tags": []
          },
          "execution_count": 50
        }
      ]
    },
    {
      "cell_type": "markdown",
      "metadata": {
        "id": "5es5RpxfzjoU"
      },
      "source": [
        "Bar graph"
      ]
    },
    {
      "cell_type": "code",
      "metadata": {
        "colab": {
          "base_uri": "https://localhost:8080/",
          "height": 349
        },
        "id": "3d2THs3Lzjke",
        "outputId": "4fdde636-3515-4527-e7db-85ddc30c3757"
      },
      "source": [
        "fig, ax = plt.subplots(figsize=(8, 5))\n",
        "temp_df[\"%age_Value_Counts\"].plot.bar(ax=ax)\n",
        "\n",
        "ax.grid()\n",
        "ax.set_xticklabels(temp_df[\"Airbags\"])\n",
        "ax.set_xlabel(\"Airbags\", size=12)\n",
        "ax.set_ylabel(\"%age of records\", size=12)\n",
        "plt.show()"
      ],
      "execution_count": 52,
      "outputs": [
        {
          "output_type": "display_data",
          "data": {
            "image/png": "[encoded data removed]",
            "text/plain": [
              "<Figure size 576x360 with 1 Axes>"
            ]
          },
          "metadata": {
            "tags": [],
            "needs_background": "light"
          }
        }
      ]
    },
    {
      "cell_type": "markdown",
      "metadata": {
        "id": "0McC3ZYVPtq_"
      },
      "source": [
        "Checking for consistency in val and test sets"
      ]
    },
    {
      "cell_type": "code",
      "metadata": {
        "colab": {
          "base_uri": "https://localhost:8080/"
        },
        "id": "dmOemrT6PkQj",
        "outputId": "3d6cc305-1af9-4028-a446-75a2ac5f1567"
      },
      "source": [
        "val_features[\"Airbags\"].min(), val_features[\"Airbags\"].max()"
      ],
      "execution_count": 111,
      "outputs": [
        {
          "output_type": "execute_result",
          "data": {
            "text/plain": [
              "(0, 16)"
            ]
          },
          "metadata": {
            "tags": []
          },
          "execution_count": 111
        }
      ]
    },
    {
      "cell_type": "code",
      "metadata": {
        "colab": {
          "base_uri": "https://localhost:8080/"
        },
        "id": "syeYg4tTPp-d",
        "outputId": "c58787bf-0db4-44df-a6c6-994ff16397e2"
      },
      "source": [
        "test_df[\"Airbags\"].min(), test_df[\"Airbags\"].max()"
      ],
      "execution_count": 112,
      "outputs": [
        {
          "output_type": "execute_result",
          "data": {
            "text/plain": [
              "(0, 16)"
            ]
          },
          "metadata": {
            "tags": []
          },
          "execution_count": 112
        }
      ]
    },
    {
      "cell_type": "markdown",
      "metadata": {
        "id": "JDl1Qf2o1Iw3"
      },
      "source": [
        "### Object Data Type"
      ]
    },
    {
      "cell_type": "code",
      "metadata": {
        "colab": {
          "base_uri": "https://localhost:8080/"
        },
        "id": "thugnhnp1aAV",
        "outputId": "a241971c-88c5-49ff-f5c3-ebc59f795a4f"
      },
      "source": [
        "obj_features"
      ],
      "execution_count": 54,
      "outputs": [
        {
          "output_type": "execute_result",
          "data": {
            "text/plain": [
              "['Levy',\n",
              " 'Manufacturer',\n",
              " 'Model',\n",
              " 'Category',\n",
              " 'Leather interior',\n",
              " 'Fuel type',\n",
              " 'Engine volume',\n",
              " 'Mileage',\n",
              " 'Gear box type',\n",
              " 'Drive wheels',\n",
              " 'Doors',\n",
              " 'Wheel',\n",
              " 'Color']"
            ]
          },
          "metadata": {
            "tags": []
          },
          "execution_count": 54
        }
      ]
    },
    {
      "cell_type": "markdown",
      "metadata": {
        "id": "VvGDxrLy1nlR"
      },
      "source": [
        "#### Levy"
      ]
    },
    {
      "cell_type": "markdown",
      "metadata": {
        "id": "oBew1O_J6OG-"
      },
      "source": [
        "Number of Null values in this column. Here the Null values are given by `\"-\"` sign."
      ]
    },
    {
      "cell_type": "code",
      "metadata": {
        "colab": {
          "base_uri": "https://localhost:8080/"
        },
        "id": "4pbJiAvG1Z8o",
        "outputId": "36cace59-4e13-48dd-b7d7-8bf7474e51f7"
      },
      "source": [
        "train_features[train_features[\"Levy\"] == \"-\"].shape"
      ],
      "execution_count": 59,
      "outputs": [
        {
          "output_type": "execute_result",
          "data": {
            "text/plain": [
              "(4632, 16)"
            ]
          },
          "metadata": {
            "tags": []
          },
          "execution_count": 59
        }
      ]
    },
    {
      "cell_type": "markdown",
      "metadata": {
        "id": "xcuUADm17yaO"
      },
      "source": [
        "%age of Null values"
      ]
    },
    {
      "cell_type": "code",
      "metadata": {
        "colab": {
          "base_uri": "https://localhost:8080/"
        },
        "id": "2E0s0fSe7roD",
        "outputId": "d054cb53-346e-408d-ef86-1d5d12a9ac7a"
      },
      "source": [
        "(train_features[train_features[\"Levy\"] == \"-\"].shape[0]/train_features.shape[0])*100"
      ],
      "execution_count": 62,
      "outputs": [
        {
          "output_type": "execute_result",
          "data": {
            "text/plain": [
              "30.099421664825528"
            ]
          },
          "metadata": {
            "tags": []
          },
          "execution_count": 62
        }
      ]
    },
    {
      "cell_type": "markdown",
      "metadata": {
        "id": "2PgKDbJx_ENh"
      },
      "source": [
        "Removing Null values"
      ]
    },
    {
      "cell_type": "code",
      "metadata": {
        "colab": {
          "base_uri": "https://localhost:8080/",
          "height": 221
        },
        "id": "eERtF0MS1Z7Y",
        "outputId": "b8969c4f-ebec-4b53-dc61-0fd61272b25f"
      },
      "source": [
        "temp_df = pd.DataFrame(\n",
        "  train_features[train_features[\"Levy\"] != \"-\"][\"Levy\"].astype(np.uint), \n",
        "  columns=[\"Levy\"]\n",
        ")\n",
        "print(temp_df.shape)\n",
        "temp_df.head()"
      ],
      "execution_count": 64,
      "outputs": [
        {
          "output_type": "stream",
          "text": [
            "(10757, 1)\n"
          ],
          "name": "stdout"
        },
        {
          "output_type": "execute_result",
          "data": {
            "text/html": [
              "<div>\n",
              "<style scoped>\n",
              "    .dataframe tbody tr th:only-of-type {\n",
              "        vertical-align: middle;\n",
              "    }\n",
              "\n",
              "    .dataframe tbody tr th {\n",
              "        vertical-align: top;\n",
              "    }\n",
              "\n",
              "    .dataframe thead th {\n",
              "        text-align: right;\n",
              "    }\n",
              "</style>\n",
              "<table border=\"1\" class=\"dataframe\">\n",
              "  <thead>\n",
              "    <tr style=\"text-align: right;\">\n",
              "      <th></th>\n",
              "      <th>Levy</th>\n",
              "    </tr>\n",
              "  </thead>\n",
              "  <tbody>\n",
              "    <tr>\n",
              "      <th>7808</th>\n",
              "      <td>779</td>\n",
              "    </tr>\n",
              "    <tr>\n",
              "      <th>16766</th>\n",
              "      <td>1282</td>\n",
              "    </tr>\n",
              "    <tr>\n",
              "      <th>7285</th>\n",
              "      <td>1399</td>\n",
              "    </tr>\n",
              "    <tr>\n",
              "      <th>15712</th>\n",
              "      <td>642</td>\n",
              "    </tr>\n",
              "    <tr>\n",
              "      <th>9341</th>\n",
              "      <td>394</td>\n",
              "    </tr>\n",
              "  </tbody>\n",
              "</table>\n",
              "</div>"
            ],
            "text/plain": [
              "       Levy\n",
              "7808    779\n",
              "16766  1282\n",
              "7285   1399\n",
              "15712   642\n",
              "9341    394"
            ]
          },
          "metadata": {
            "tags": []
          },
          "execution_count": 64
        }
      ]
    },
    {
      "cell_type": "markdown",
      "metadata": {
        "id": "Qz7d8kTb_Go3"
      },
      "source": [
        "Histogram and Box Plots"
      ]
    },
    {
      "cell_type": "code",
      "metadata": {
        "colab": {
          "base_uri": "https://localhost:8080/",
          "height": 331
        },
        "id": "TrqOdPdL1Z46",
        "outputId": "cb3a5eda-1479-4160-8cfa-9ee252b8c880"
      },
      "source": [
        "fig, ax = plt.subplots(1, 2, figsize=(16, 5))\n",
        "temp_df[\"Levy\"].plot.hist(ax=ax[0], bins=100)\n",
        "ax[0].set_xlabel(\"Levy\", size=15)\n",
        "ax[0].set_ylabel(\"Frequency\", size=15)\n",
        "ax[0].set_title(\"Histogram for Levy\", size=20)\n",
        "ax[0].grid()\n",
        "\n",
        "temp_df[[\"Levy\"]].boxplot(ax=ax[1])\n",
        "ax[1].set_ylabel(\"Levy\", size=15)\n",
        "ax[1].set_title(\"Box Plot for Levy\", size=20)\n",
        "plt.show()"
      ],
      "execution_count": 74,
      "outputs": [
        {
          "output_type": "display_data",
          "data": {
            "image/png": "[encoded data removed]",
            "text/plain": [
              "<Figure size 1152x360 with 2 Axes>"
            ]
          },
          "metadata": {
            "tags": [],
            "needs_background": "light"
          }
        }
      ]
    },
    {
      "cell_type": "markdown",
      "metadata": {
        "id": "9x1XO0hr_3qc"
      },
      "source": [
        "#### Manufacturer"
      ]
    },
    {
      "cell_type": "code",
      "metadata": {
        "colab": {
          "base_uri": "https://localhost:8080/"
        },
        "id": "sz70vKG6_9QM",
        "outputId": "6ad39427-a39f-4184-94ac-554ee676cd61"
      },
      "source": [
        "train_features[\"Manufacturer\"].unique()"
      ],
      "execution_count": 78,
      "outputs": [
        {
          "output_type": "execute_result",
          "data": {
            "text/plain": [
              "array(['TOYOTA', 'CHEVROLET', 'MERCEDES-BENZ', 'BMW', 'LEXUS', 'HONDA',\n",
              "       'FORD', 'DAEWOO', 'HYUNDAI', 'SSANGYONG', 'VOLKSWAGEN', 'SUBARU',\n",
              "       'SUZUKI', 'FIAT', 'NISSAN', 'OPEL', 'KIA', 'ALFA ROMEO',\n",
              "       'MITSUBISHI', 'JEEP', 'DODGE', 'MAZDA', 'CADILLAC', 'VAZ',\n",
              "       'LAND ROVER', 'AUDI', 'RENAULT', 'SKODA', 'PORSCHE', 'CHRYSLER',\n",
              "       'JAGUAR', 'MINI', 'LINCOLN', 'ACURA', 'HUMMER', 'DAIHATSU', 'UAZ',\n",
              "       'BUICK', 'SCION', 'CITROEN', 'INFINITI', 'GMC', 'GAZ', 'PEUGEOT',\n",
              "       'VOLVO', 'TESLA', 'SEAT', 'ASTON MARTIN', 'ROVER', 'LAMBORGHINI',\n",
              "       'ISUZU', 'BENTLEY', 'HAVAL', 'ROLLS-ROYCE', 'MERCURY', 'MASERATI',\n",
              "       'SAAB', 'სხვა', 'MOSKVICH', 'ZAZ', 'FERRARI', 'SATURN', 'PONTIAC',\n",
              "       'GREATWALL'], dtype=object)"
            ]
          },
          "metadata": {
            "tags": []
          },
          "execution_count": 78
        }
      ]
    },
    {
      "cell_type": "code",
      "metadata": {
        "colab": {
          "base_uri": "https://localhost:8080/",
          "height": 221
        },
        "id": "vp_0k9dgGNas",
        "outputId": "ebf23693-0168-4086-c129-d8c5e0bd9f51"
      },
      "source": [
        "temp_series = train_features[\"Manufacturer\"].value_counts()\n",
        "temp_df = pd.DataFrame(\n",
        "  np.c_[\n",
        "        temp_series.index, \n",
        "        temp_series.to_numpy(), \n",
        "        (temp_series.to_numpy()/train_features.shape[0])*100\n",
        "  ],\n",
        "  columns=[\"Manufacturer\", \"Value_counts\", \"%age_Value_counts\"]\n",
        ")\n",
        "print(temp_df.shape)\n",
        "temp_df.head()"
      ],
      "execution_count": 87,
      "outputs": [
        {
          "output_type": "stream",
          "text": [
            "(64, 3)\n"
          ],
          "name": "stdout"
        },
        {
          "output_type": "execute_result",
          "data": {
            "text/html": [
              "<div>\n",
              "<style scoped>\n",
              "    .dataframe tbody tr th:only-of-type {\n",
              "        vertical-align: middle;\n",
              "    }\n",
              "\n",
              "    .dataframe tbody tr th {\n",
              "        vertical-align: top;\n",
              "    }\n",
              "\n",
              "    .dataframe thead th {\n",
              "        text-align: right;\n",
              "    }\n",
              "</style>\n",
              "<table border=\"1\" class=\"dataframe\">\n",
              "  <thead>\n",
              "    <tr style=\"text-align: right;\">\n",
              "      <th></th>\n",
              "      <th>Manufacturer</th>\n",
              "      <th>Value_counts</th>\n",
              "      <th>%age_Value_counts</th>\n",
              "    </tr>\n",
              "  </thead>\n",
              "  <tbody>\n",
              "    <tr>\n",
              "      <th>0</th>\n",
              "      <td>HYUNDAI</td>\n",
              "      <td>3026</td>\n",
              "      <td>19.6634</td>\n",
              "    </tr>\n",
              "    <tr>\n",
              "      <th>1</th>\n",
              "      <td>TOYOTA</td>\n",
              "      <td>2934</td>\n",
              "      <td>19.0656</td>\n",
              "    </tr>\n",
              "    <tr>\n",
              "      <th>2</th>\n",
              "      <td>MERCEDES-BENZ</td>\n",
              "      <td>1688</td>\n",
              "      <td>10.9689</td>\n",
              "    </tr>\n",
              "    <tr>\n",
              "      <th>3</th>\n",
              "      <td>FORD</td>\n",
              "      <td>887</td>\n",
              "      <td>5.76386</td>\n",
              "    </tr>\n",
              "    <tr>\n",
              "      <th>4</th>\n",
              "      <td>CHEVROLET</td>\n",
              "      <td>863</td>\n",
              "      <td>5.6079</td>\n",
              "    </tr>\n",
              "  </tbody>\n",
              "</table>\n",
              "</div>"
            ],
            "text/plain": [
              "    Manufacturer Value_counts %age_Value_counts\n",
              "0        HYUNDAI         3026           19.6634\n",
              "1         TOYOTA         2934           19.0656\n",
              "2  MERCEDES-BENZ         1688           10.9689\n",
              "3           FORD          887           5.76386\n",
              "4      CHEVROLET          863            5.6079"
            ]
          },
          "metadata": {
            "tags": []
          },
          "execution_count": 87
        }
      ]
    },
    {
      "cell_type": "code",
      "metadata": {
        "colab": {
          "base_uri": "https://localhost:8080/",
          "height": 303
        },
        "id": "LLLDxA5iG0bi",
        "outputId": "1ff187f9-da1f-4600-f6c5-e9410d6fe14e"
      },
      "source": [
        "fig, ax = plt.subplots(figsize=(20, 5))\n",
        "temp_df[\"%age_Value_counts\"].plot.bar(ax=ax)\n",
        "ax.set_xticklabels(temp_df[\"Manufacturer\"])\n",
        "plt.show()"
      ],
      "execution_count": 86,
      "outputs": [
        {
          "output_type": "display_data",
          "data": {
            "image/png": "[encoded data removed]",
            "text/plain": [
              "<Figure size 1440x360 with 1 Axes>"
            ]
          },
          "metadata": {
            "tags": [],
            "needs_background": "light"
          }
        }
      ]
    },
    {
      "cell_type": "markdown",
      "metadata": {
        "id": "-RSJZXDnN1P8"
      },
      "source": [
        "Does the train set contain all the car manufacturers in the val and test sets?"
      ]
    },
    {
      "cell_type": "markdown",
      "metadata": {
        "id": "rXWFpQLrOkaq"
      },
      "source": [
        "- Validation set"
      ]
    },
    {
      "cell_type": "code",
      "metadata": {
        "colab": {
          "base_uri": "https://localhost:8080/"
        },
        "id": "U37BHZkVG0XM",
        "outputId": "20e9a341-5f60-48d9-efa3-d503a4e5bf51"
      },
      "source": [
        "len(val_features[\"Manufacturer\"].unique())"
      ],
      "execution_count": 90,
      "outputs": [
        {
          "output_type": "execute_result",
          "data": {
            "text/plain": [
              "51"
            ]
          },
          "metadata": {
            "tags": []
          },
          "execution_count": 90
        }
      ]
    },
    {
      "cell_type": "code",
      "metadata": {
        "colab": {
          "base_uri": "https://localhost:8080/"
        },
        "id": "fGoUU2OQMmVj",
        "outputId": "137c1ef2-608b-4692-c1ac-1c17f64974ec"
      },
      "source": [
        "set(val_features[\"Manufacturer\"].unique()).difference(\n",
        "    set(train_features[\"Manufacturer\"].unique())\n",
        "  )"
      ],
      "execution_count": 92,
      "outputs": [
        {
          "output_type": "execute_result",
          "data": {
            "text/plain": [
              "{'LANCIA'}"
            ]
          },
          "metadata": {
            "tags": []
          },
          "execution_count": 92
        }
      ]
    },
    {
      "cell_type": "code",
      "metadata": {
        "colab": {
          "base_uri": "https://localhost:8080/"
        },
        "id": "-xI5rS6HN8xs",
        "outputId": "6eec8bdf-53b2-4e23-eb78-08ac45d55608"
      },
      "source": [
        "val_features[val_features[\"Manufacturer\"] == \"LANCIA\"].shape"
      ],
      "execution_count": 100,
      "outputs": [
        {
          "output_type": "execute_result",
          "data": {
            "text/plain": [
              "(1, 16)"
            ]
          },
          "metadata": {
            "tags": []
          },
          "execution_count": 100
        }
      ]
    },
    {
      "cell_type": "markdown",
      "metadata": {
        "id": "AbRyZvjkOmiE"
      },
      "source": [
        "- Test set"
      ]
    },
    {
      "cell_type": "code",
      "metadata": {
        "colab": {
          "base_uri": "https://localhost:8080/"
        },
        "id": "mlOv9njoNZtQ",
        "outputId": "824a7e66-c8fb-40b1-d20b-aacb19f7926f"
      },
      "source": [
        "len(test_df[\"Manufacturer\"].unique())"
      ],
      "execution_count": 93,
      "outputs": [
        {
          "output_type": "execute_result",
          "data": {
            "text/plain": [
              "62"
            ]
          },
          "metadata": {
            "tags": []
          },
          "execution_count": 93
        }
      ]
    },
    {
      "cell_type": "code",
      "metadata": {
        "colab": {
          "base_uri": "https://localhost:8080/"
        },
        "id": "jXK0RroINZks",
        "outputId": "ed29bac4-e33f-4ec9-bd47-65cdd4e5b30c"
      },
      "source": [
        "set(test_df[\"Manufacturer\"].unique()).difference(\n",
        "    set(train_df[\"Manufacturer\"].unique())\n",
        "  )"
      ],
      "execution_count": 95,
      "outputs": [
        {
          "output_type": "execute_result",
          "data": {
            "text/plain": [
              "{'FOTON', 'MG', 'TATA'}"
            ]
          },
          "metadata": {
            "tags": []
          },
          "execution_count": 95
        }
      ]
    },
    {
      "cell_type": "code",
      "metadata": {
        "colab": {
          "base_uri": "https://localhost:8080/"
        },
        "id": "-zMovldBOEHu",
        "outputId": "6253c6f5-8482-4bdd-8136-a59cac4aea0e"
      },
      "source": [
        "idx = test_df[\"Manufacturer\"].isin([\"FOTON\", \"MG\", \"TATA\"])\n",
        "test_df.loc[idx, :].shape"
      ],
      "execution_count": 107,
      "outputs": [
        {
          "output_type": "execute_result",
          "data": {
            "text/plain": [
              "(3, 18)"
            ]
          },
          "metadata": {
            "tags": []
          },
          "execution_count": 107
        }
      ]
    },
    {
      "cell_type": "markdown",
      "metadata": {
        "id": "gQ4TdxI9QppV"
      },
      "source": [
        "#### Model"
      ]
    },
    {
      "cell_type": "code",
      "metadata": {
        "colab": {
          "base_uri": "https://localhost:8080/"
        },
        "id": "DvZVqC-SQ5Fr",
        "outputId": "be2a99fd-1712-481d-d8d5-88b82b8d56a6"
      },
      "source": [
        "train_features[\"Model\"].head()"
      ],
      "execution_count": 126,
      "outputs": [
        {
          "output_type": "execute_result",
          "data": {
            "text/plain": [
              "7808       Camry\n",
              "16766    Captiva\n",
              "7285       E 350\n",
              "15712    Orlando\n",
              "16562         X5\n",
              "Name: Model, dtype: object"
            ]
          },
          "metadata": {
            "tags": []
          },
          "execution_count": 126
        }
      ]
    },
    {
      "cell_type": "code",
      "metadata": {
        "colab": {
          "base_uri": "https://localhost:8080/"
        },
        "id": "ECKkXKyzQqn-",
        "outputId": "89a87c2e-0614-4ea3-d611-1f42f186bc5f"
      },
      "source": [
        "train_features[\"Model\"].nunique()"
      ],
      "execution_count": 125,
      "outputs": [
        {
          "output_type": "execute_result",
          "data": {
            "text/plain": [
              "1402"
            ]
          },
          "metadata": {
            "tags": []
          },
          "execution_count": 125
        }
      ]
    },
    {
      "cell_type": "code",
      "metadata": {
        "colab": {
          "base_uri": "https://localhost:8080/",
          "height": 221
        },
        "id": "uCnFOVsuQ27y",
        "outputId": "6f5e3332-fd70-4d88-c5bc-74c2b4377710"
      },
      "source": [
        "temp_series = train_features[\"Model\"].value_counts()\n",
        "temp_df = pd.DataFrame(\n",
        "  np.c_[\n",
        "        temp_series.index, \n",
        "        temp_series.to_numpy(), \n",
        "        (temp_series.to_numpy()/train_features.shape[0])*100\n",
        "  ],\n",
        "  columns=[\"Model\", \"Value_counts\", \"%age_Value_counts\"]\n",
        ")\n",
        "print(temp_df.shape)\n",
        "temp_df.head()"
      ],
      "execution_count": 127,
      "outputs": [
        {
          "output_type": "stream",
          "text": [
            "(1402, 3)\n"
          ],
          "name": "stdout"
        },
        {
          "output_type": "execute_result",
          "data": {
            "text/html": [
              "<div>\n",
              "<style scoped>\n",
              "    .dataframe tbody tr th:only-of-type {\n",
              "        vertical-align: middle;\n",
              "    }\n",
              "\n",
              "    .dataframe tbody tr th {\n",
              "        vertical-align: top;\n",
              "    }\n",
              "\n",
              "    .dataframe thead th {\n",
              "        text-align: right;\n",
              "    }\n",
              "</style>\n",
              "<table border=\"1\" class=\"dataframe\">\n",
              "  <thead>\n",
              "    <tr style=\"text-align: right;\">\n",
              "      <th></th>\n",
              "      <th>Model</th>\n",
              "      <th>Value_counts</th>\n",
              "      <th>%age_Value_counts</th>\n",
              "    </tr>\n",
              "  </thead>\n",
              "  <tbody>\n",
              "    <tr>\n",
              "      <th>0</th>\n",
              "      <td>Sonata</td>\n",
              "      <td>872</td>\n",
              "      <td>5.66639</td>\n",
              "    </tr>\n",
              "    <tr>\n",
              "      <th>1</th>\n",
              "      <td>Prius</td>\n",
              "      <td>867</td>\n",
              "      <td>5.63389</td>\n",
              "    </tr>\n",
              "    <tr>\n",
              "      <th>2</th>\n",
              "      <td>Camry</td>\n",
              "      <td>754</td>\n",
              "      <td>4.8996</td>\n",
              "    </tr>\n",
              "    <tr>\n",
              "      <th>3</th>\n",
              "      <td>Elantra</td>\n",
              "      <td>728</td>\n",
              "      <td>4.73065</td>\n",
              "    </tr>\n",
              "    <tr>\n",
              "      <th>4</th>\n",
              "      <td>E 350</td>\n",
              "      <td>442</td>\n",
              "      <td>2.87218</td>\n",
              "    </tr>\n",
              "  </tbody>\n",
              "</table>\n",
              "</div>"
            ],
            "text/plain": [
              "     Model Value_counts %age_Value_counts\n",
              "0   Sonata          872           5.66639\n",
              "1    Prius          867           5.63389\n",
              "2    Camry          754            4.8996\n",
              "3  Elantra          728           4.73065\n",
              "4    E 350          442           2.87218"
            ]
          },
          "metadata": {
            "tags": []
          },
          "execution_count": 127
        }
      ]
    },
    {
      "cell_type": "markdown",
      "metadata": {
        "id": "Q0yPBdflZLbV"
      },
      "source": [
        "Bar graph for some of the most common models (>1% occurance)"
      ]
    },
    {
      "cell_type": "code",
      "metadata": {
        "colab": {
          "base_uri": "https://localhost:8080/",
          "height": 306
        },
        "id": "zWV4G7PUYmaM",
        "outputId": "83f6550e-5887-4b0d-8b4e-c02a36291407"
      },
      "source": [
        "fig, ax = plt.subplots(figsize=(20, 5))\n",
        "temp_df[temp_df[\"%age_Value_counts\"]>1][\"%age_Value_counts\"].plot.bar(ax=ax)\n",
        "\n",
        "ax.set_xlabel(\"Model\", size=15)\n",
        "ax.set_ylabel(\"%age of occurances\", size=15)\n",
        "ax.set_xticklabels(temp_df[\"Model\"], fontdict={\"fontsize\": 13})\n",
        "plt.show()"
      ],
      "execution_count": 131,
      "outputs": [
        {
          "output_type": "display_data",
          "data": {
            "image/png": "[encoded data removed]",
            "text/plain": [
              "<Figure size 1440x360 with 1 Axes>"
            ]
          },
          "metadata": {
            "tags": [],
            "needs_background": "light"
          }
        }
      ]
    },
    {
      "cell_type": "markdown",
      "metadata": {
        "id": "1brusE8oZUyN"
      },
      "source": [
        "Does the train set contain all the car manufacturers in the val and test sets?"
      ]
    },
    {
      "cell_type": "markdown",
      "metadata": {
        "id": "QydeFYLAZpLX"
      },
      "source": [
        "- Validation set"
      ]
    },
    {
      "cell_type": "code",
      "metadata": {
        "colab": {
          "base_uri": "https://localhost:8080/"
        },
        "id": "TmyJECHkZqtL",
        "outputId": "2e77a87f-0823-4181-a83c-e20d63170e2a"
      },
      "source": [
        "len(val_features[\"Model\"].unique())"
      ],
      "execution_count": 132,
      "outputs": [
        {
          "output_type": "execute_result",
          "data": {
            "text/plain": [
              "621"
            ]
          },
          "metadata": {
            "tags": []
          },
          "execution_count": 132
        }
      ]
    },
    {
      "cell_type": "code",
      "metadata": {
        "colab": {
          "base_uri": "https://localhost:8080/"
        },
        "id": "3xkWEhkiZv_L",
        "outputId": "d6c110c1-e93c-4f77-fe72-0988ad65f233"
      },
      "source": [
        "len(set(val_features[\"Model\"].unique()).difference(\n",
        "    set(train_features[\"Model\"].unique())\n",
        "  ))"
      ],
      "execution_count": 134,
      "outputs": [
        {
          "output_type": "execute_result",
          "data": {
            "text/plain": [
              "188"
            ]
          },
          "metadata": {
            "tags": []
          },
          "execution_count": 134
        }
      ]
    },
    {
      "cell_type": "markdown",
      "metadata": {
        "id": "DLRzfzS4Zq6T"
      },
      "source": [
        "- Test set"
      ]
    },
    {
      "cell_type": "code",
      "metadata": {
        "colab": {
          "base_uri": "https://localhost:8080/"
        },
        "id": "Fb4yCpl_Z18-",
        "outputId": "0233babf-1a80-47cc-eb27-a655acb15ae3"
      },
      "source": [
        "len(test_df[\"Model\"].unique())"
      ],
      "execution_count": 136,
      "outputs": [
        {
          "output_type": "execute_result",
          "data": {
            "text/plain": [
              "995"
            ]
          },
          "metadata": {
            "tags": []
          },
          "execution_count": 136
        }
      ]
    },
    {
      "cell_type": "code",
      "metadata": {
        "colab": {
          "base_uri": "https://localhost:8080/"
        },
        "id": "vOkIFi1SZ12X",
        "outputId": "85331625-7b92-4da6-e80f-d9d8a66e1982"
      },
      "source": [
        "len(set(test_df[\"Model\"].unique()).difference(\n",
        "    set(train_df[\"Model\"].unique())\n",
        "  ))"
      ],
      "execution_count": 137,
      "outputs": [
        {
          "output_type": "execute_result",
          "data": {
            "text/plain": [
              "391"
            ]
          },
          "metadata": {
            "tags": []
          },
          "execution_count": 137
        }
      ]
    },
    {
      "cell_type": "markdown",
      "metadata": {
        "id": "rS7gnJzKcFvV"
      },
      "source": [
        "#### Category"
      ]
    },
    {
      "cell_type": "code",
      "metadata": {
        "colab": {
          "base_uri": "https://localhost:8080/"
        },
        "id": "Osrg2LqIcI8M",
        "outputId": "75bcba25-d726-4f9f-f5f7-0a440e747cae"
      },
      "source": [
        "train_features[\"Category\"].value_counts()"
      ],
      "execution_count": 140,
      "outputs": [
        {
          "output_type": "execute_result",
          "data": {
            "text/plain": [
              "Sedan          7007\n",
              "Jeep           4364\n",
              "Hatchback      2270\n",
              "Minivan         526\n",
              "Coupe           418\n",
              "Universal       287\n",
              "Microbus        246\n",
              "Goods wagon     194\n",
              "Pickup           40\n",
              "Cabriolet        28\n",
              "Limousine         9\n",
              "Name: Category, dtype: int64"
            ]
          },
          "metadata": {
            "tags": []
          },
          "execution_count": 140
        }
      ]
    },
    {
      "cell_type": "markdown",
      "metadata": {
        "id": "k7ywACmQikfi"
      },
      "source": [
        "# Notes"
      ]
    },
    {
      "cell_type": "markdown",
      "metadata": {
        "id": "VyQR9YUy8_Ij"
      },
      "source": [
        "**Preliminary EDA**\n",
        "- Data has no NAN values in train or test. Need to check whether NANs are represented as dashes or strings."
      ]
    },
    {
      "cell_type": "markdown",
      "metadata": {
        "id": "vRjLvrkUioBe"
      },
      "source": [
        "**EDA for each column**\n",
        "\n",
        "Data is split using train_test_split into train and val sets (80-20 split). All EDA done on train set only"
      ]
    },
    {
      "cell_type": "markdown",
      "metadata": {
        "id": "Bg9Ql6ue9EHB"
      },
      "source": [
        "- Numerical Data Types\n",
        "  1. `Prod. year`: Most of the data points come from 2010-2017\n",
        "  2. `Cylinders`: Convert this to `int` from `float`. Most of the cars have 4 cylinders (>74%), so might not be very useful. Could be used as a categorical feature. There is a big outlier in the test set.\n",
        "  3. `Airbags`: Convert this to `int` from `float`. Not as unbalanced as `Cylinders`. From simple intuition, having more `Cylinders` or `Airbags` seem like factors that can make a car more expensive. Explore this theory in bivariate exploration."
      ]
    },
    {
      "cell_type": "markdown",
      "metadata": {
        "id": "aGC1qfPQ9HU6"
      },
      "source": [
        "- Object Data Type\n",
        "  1. `Levy`: Normally distributed but extremely right skewed. 30% values are Null (`\"-\"`). Find suitable imputation methods for the Null values. High `Levy` intuitively means high price, so maybe outlier removal should not be used here. Explore the approach anyway.\n",
        "  2. `Manufacturer`: There are 64 manufacturers. Most of them are highly uncommon. Try to split these into a few categories like common-uncommon, cheap-expensive, etc. instead of using all 64 categories as is. 1 manufacturer in validation set and 3 manufacturers in test set are not in train set. All these have only 1 row each.\n",
        "  3. `Model`: There are plenty of models. Some are common. Most are rare. Validation and test sets also have many models that are not in train sets. Categories like common-uncommon should be used here mostly.\n"
      ]
    },
    {
      "cell_type": "code",
      "metadata": {
        "id": "dzg4pzZL9Dlq"
      },
      "source": [
        ""
      ],
      "execution_count": null,
      "outputs": []
    }
  ]
}